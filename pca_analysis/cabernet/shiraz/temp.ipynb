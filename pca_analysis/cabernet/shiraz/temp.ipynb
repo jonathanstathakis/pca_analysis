{
 "cells": [
  {
   "cell_type": "code",
   "execution_count": null,
   "metadata": {},
   "outputs": [],
   "source": []
  },
  {
   "cell_type": "code",
   "execution_count": null,
   "metadata": {},
   "outputs": [],
   "source": [
    "from pca_analysis.cabernet.cabernet import Cabernet\n",
    "import xarray as xr\n",
    "from plotly.subplots import make_subplots\n",
    "\n",
    "xr.set_options(display_expand_data=False, display_expand_coords=False)\n",
    "\n",
    "cab = Cabernet.load_from_dataset(\"shiraz\")\n",
    "subset = (\n",
    "    cab.sel(mins=slice(0, 5), wavelength=256)\n",
    "    .isel(sample=slice(0, 3))\n",
    "    .pick_peaks(\"input_data\", find_peaks_kwargs=dict(prominence=0.25))\n",
    ")\n",
    "subset\n"
   ]
  },
  {
   "cell_type": "code",
   "execution_count": null,
   "metadata": {},
   "outputs": [],
   "source": [
    "from pca_analysis.peak_picking import plot_peaks\n",
    "\n",
    "\n",
    "%reload_ext autoreload\n",
    "%autoreload 3\n",
    "\n",
    "fig = plot_peaks(\n",
    "    ds=subset._dt.to_dataset(),\n",
    "    group_dim=\"sample\",\n",
    "    col_wrap=2,\n",
    "    input_signal_key=\"input_data\",\n",
    "    peak_table_key=\"peaks\",\n",
    ")\n",
    "\n",
    "\n",
    "fig.show()"
   ]
  },
  {
   "cell_type": "code",
   "execution_count": null,
   "metadata": {},
   "outputs": [],
   "source": [
    "fig[\"data\"][0]\n"
   ]
  }
 ],
 "metadata": {
  "kernelspec": {
   "display_name": "pca-analysis-6KQS4gUX-py3.12",
   "language": "python",
   "name": "python3"
  },
  "language_info": {
   "codemirror_mode": {
    "name": "ipython",
    "version": 3
   },
   "file_extension": ".py",
   "mimetype": "text/x-python",
   "name": "python",
   "nbconvert_exporter": "python",
   "pygments_lexer": "ipython3",
   "version": "3.12.2"
  }
 },
 "nbformat": 4,
 "nbformat_minor": 2
}
