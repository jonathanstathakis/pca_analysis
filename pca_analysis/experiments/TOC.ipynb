{
 "cells": [
  {
   "cell_type": "markdown",
   "id": "3405874c-98df-45c6-82e5-fbf1a00f376e",
   "metadata": {},
   "source": [
    "---\n",
    "cdt: 2024-09-02\n",
    "---\n",
    "\n",
    "# Table of Contents\n",
    "\n",
    "A customisable display of the notebooks contained within this project."
   ]
  },
  {
   "cell_type": "markdown",
   "id": "a1022fb4-9892-48c4-9109-c771c65705fa",
   "metadata": {},
   "source": [
    "Want to produce a table with the cdt, title and description. To build the table, need to have a list of dicts. Easy."
   ]
  },
  {
   "cell_type": "code",
   "execution_count": null,
   "id": "b4655c06-61bf-4fe7-8387-f39884b69f28",
   "metadata": {
    "editable": true,
    "slideshow": {
     "slide_type": ""
    },
    "tags": []
   },
   "outputs": [],
   "source": [
    "%reload_ext autoreload\n",
    "%autoreload 2\n",
    "\n",
    "from pathlib import Path\n",
    "from constants import ROOT\n",
    "from pca_analysis.experiments.toc import build_toc\n",
    "import polars as pl\n",
    "pl.Config.set_fmt_str_lengths(10000)\n",
    "\n",
    "\n",
    "toc = build_toc((ROOT / \"notebooks\"))\n",
    "toc.head()\n"
   ]
  },
  {
   "cell_type": "markdown",
   "id": "6069fe4c",
   "metadata": {},
   "source": [
    "# Projects\n"
   ]
  },
  {
   "cell_type": "code",
   "execution_count": null,
   "id": "71628bb9",
   "metadata": {},
   "outputs": [],
   "source": [
    "\n",
    "project_path = ROOT / \"notebooks/projects\"\n",
    "\n",
    "assert project_path.is_dir()\n",
    "assert project_path.exists()\n",
    "\n",
    "assert len(list(project_path.glob(\"*\"))) > 0\n",
    "\n",
    "try:\n",
    "    project_toc = build_toc(project_path)\n",
    "except KeyError as e:\n",
    "    e.add_note(\"\\n\".join([str(x) for x in list(project_path.glob(\"*\"))[0:10]]))\n",
    "    raise e\n",
    "project_toc\n"
   ]
  },
  {
   "cell_type": "markdown",
   "id": "f634adbb",
   "metadata": {},
   "source": []
  }
 ],
 "metadata": {
  "kernelspec": {
   "display_name": "Python 3 (ipykernel)",
   "language": "python",
   "name": "python3"
  },
  "language_info": {
   "codemirror_mode": {
    "name": "ipython",
    "version": 3
   },
   "file_extension": ".py",
   "mimetype": "text/x-python",
   "name": "python",
   "nbconvert_exporter": "python",
   "pygments_lexer": "ipython3",
   "version": "3.12.2"
  }
 },
 "nbformat": 4,
 "nbformat_minor": 5
}
