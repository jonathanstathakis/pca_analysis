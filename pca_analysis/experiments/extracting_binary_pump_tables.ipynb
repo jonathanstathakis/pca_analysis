{
 "cells": [
  {
   "cell_type": "markdown",
   "metadata": {},
   "source": [
    "---\n",
    "cdt: 2024-09-13T08:36:53\n",
    "title: Extracting Binary Pump Tables\n",
    "description: Needed to get the solvent composition and timetable information from samples in order to calculate gradients. To do so I needed to create a parsing module. This notebook contains the execution code to extract those tables from the 'raw' dataset. \n",
    "conclusion: \"A module 'bin_pump_to_db' was created, with associated tests. binary pump tables can now be found in the 'bin_pump' schema.\"\n",
    "project: database_architecture\n",
    "---\n"
   ]
  },
  {
   "cell_type": "code",
   "execution_count": null,
   "metadata": {},
   "outputs": [],
   "source": [
    "# environment\n",
    "\n",
    "%reload_ext autoreload\n",
    "%autoreload 2\n",
    "from pca_analysis.code.bin_pumps_to_db import bin_pump_to_db\n",
    "\n",
    "import duckdb as db\n",
    "from pca_analysis.experiments.constants import db_path\n",
    "from pathlib import Path\n",
    "\n",
    "con = db.connect(db_path)\n",
    "\n"
   ]
  },
  {
   "cell_type": "markdown",
   "metadata": {},
   "source": [
    "# Bin Pump Tables to DB\n",
    "\n",
    "Have created a module to extract the binary pump tables to the database.\n"
   ]
  },
  {
   "cell_type": "code",
   "execution_count": null,
   "metadata": {},
   "outputs": [],
   "source": [
    "ddir = Path(\"/Users/jonathan/uni/0_jono_data/raw_uv\")\n",
    "wine_deg_samples = Path(\"/Users/jonathan/uni/0_jono_data/wine-deg-study/raw_uv/ambient\").glob(\"2023-04-21_A*.D\")\n",
    "paths = list(ddir.glob(\"*.D\")) + list(wine_deg_samples)\n",
    "_ = [bin_pump_to_db(str(path), con) for path in paths]\n",
    "\n",
    "con.sql(\n",
    "    \"\"\"--sql\n",
    "SELECT\n",
    "    *\n",
    "FROM\n",
    "    bin_pump.solvcomps\n",
    "LIMIT 3\n",
    "\"\"\"\n",
    ").pl().pipe(display)\n",
    "\n",
    "con.sql(\n",
    "    \"\"\"--sql\n",
    "SELECT\n",
    "    *\n",
    "FROM\n",
    "    bin_pump.timetables\n",
    "LIMIT 5\n",
    "\"\"\"\n",
    ").pl().pipe(display)\n",
    "\n",
    "con.sql(\n",
    "    \"\"\"--sql\n",
    "SELECT\n",
    "    *\n",
    "FROM\n",
    "    bin_pump.id\n",
    "LIMIT 3\n",
    "\"\"\"\n",
    ").pl().pipe(display)\n"
   ]
  },
  {
   "cell_type": "code",
   "execution_count": null,
   "metadata": {},
   "outputs": [],
   "source": [
    "con.sql(\n",
    "\"\"\"--sql\n",
    "\n",
    "\"\"\"\n",
    ")\n",
    "con.sql(\n",
    "\"\"\"--sql\n",
    "\"\"\"\n",
    ")\n",
    "\n",
    "con.sql(\n",
    "\"\"\"--sql\n",
    "SELECT\n",
    "    table_name as name,\n",
    "    COMMENT\n",
    "FROM\n",
    "    duckdb_tables\n",
    "WHERE\n",
    "    table_name = 'id'\n",
    "UNION\n",
    "SELECT\n",
    "    column_name as column,\n",
    "    COMMENT\n",
    "FROM\n",
    "    duckdb_columns\n",
    "WHERE\n",
    "    schema_name = 'bin_pump'\n",
    "AND\n",
    "    table_name = 'id'\n",
    "AND\n",
    "    column_name = 'id'\n",
    "OR\n",
    "    column_name = 'tbl_num'\n",
    "\"\"\"\n",
    ").pl()\n"
   ]
  },
  {
   "cell_type": "code",
   "execution_count": null,
   "metadata": {},
   "outputs": [],
   "source": [
    "# con.sql(\n",
    "# \"\"\"--sql\n",
    "# DROP SCHEMA bin_pump CASCADE;\n",
    "# \"\"\"\n",
    "# )\n"
   ]
  },
  {
   "cell_type": "markdown",
   "metadata": {},
   "source": [
    "# Conclusion\n",
    "\n",
    "The sample binary pump data has been successfully extracted. To use the tables, join id's to the primary 'id' table then use the 'tbl_num' key to get the data from the 'solvcomps' or 'timetables' tables."
   ]
  }
 ],
 "metadata": {
  "kernelspec": {
   "display_name": "pca-analysis-6KQS4gUX-py3.12",
   "language": "python",
   "name": "python3"
  },
  "language_info": {
   "codemirror_mode": {
    "name": "ipython",
    "version": 3
   },
   "file_extension": ".py",
   "mimetype": "text/x-python",
   "name": "python",
   "nbconvert_exporter": "python",
   "pygments_lexer": "ipython3",
   "version": "3.12.2"
  }
 },
 "nbformat": 4,
 "nbformat_minor": 2
}
