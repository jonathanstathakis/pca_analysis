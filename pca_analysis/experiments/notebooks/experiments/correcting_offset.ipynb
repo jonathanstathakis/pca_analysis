{
 "cells": [
  {
   "cell_type": "markdown",
   "metadata": {},
   "source": [
    "---\n",
    "title: Correcting Offset\n",
    "cdt: 2024-09-06T15:55:14\n",
    "description: \"Correct the time offset and express as secs for sample 254.\"\n",
    "project: dataset_EDA\n",
    "execution_order: '001'\n",
    "---"
   ]
  },
  {
   "cell_type": "markdown",
   "metadata": {},
   "source": [
    "# Summary\n",
    "\n",
    "- correcting offset\n",
    "  - the vast majority of samples possess a zeroth value time offset that can be corrected by subtracting the zeroth element from the time column ('mins') element-wise.\n"
   ]
  },
  {
   "cell_type": "markdown",
   "metadata": {},
   "source": [
    "# Conclusion\n",
    " \n",
    "'mins_corrected', and 'secs_corrected' written to table 'dataset_eda.nm_254'."
   ]
  },
  {
   "cell_type": "markdown",
   "metadata": {},
   "source": [
    "The time offset is the zeroth value. We can correct for it by subtracting it element-wise from the 'mins' column."
   ]
  },
  {
   "cell_type": "code",
   "execution_count": 1,
   "metadata": {},
   "outputs": [
    {
     "name": "stdout",
     "output_type": "stream",
     "text": [
      ".\n"
     ]
    }
   ],
   "source": [
    "import duckdb as db\n",
    "import polars as pl\n",
    "from pca_analysis.experiments.constants import db_path\n",
    "\n",
    "con = db.connect(db_path, read_only=True)\n"
   ]
  },
  {
   "cell_type": "code",
   "execution_count": 2,
   "metadata": {},
   "outputs": [
    {
     "data": {
      "text/html": [
       "<script type=\"esms-options\">{\"shimMode\": true}</script><style>*[data-root-id],\n",
       "*[data-root-id] > * {\n",
       "  box-sizing: border-box;\n",
       "  font-family: var(--jp-ui-font-family);\n",
       "  font-size: var(--jp-ui-font-size1);\n",
       "  color: var(--vscode-editor-foreground, var(--jp-ui-font-color1));\n",
       "}\n",
       "\n",
       "/* Override VSCode background color */\n",
       ".cell-output-ipywidget-background:has(\n",
       "    > .cell-output-ipywidget-background > .lm-Widget > *[data-root-id]\n",
       "  ),\n",
       ".cell-output-ipywidget-background:has(> .lm-Widget > *[data-root-id]) {\n",
       "  background-color: transparent !important;\n",
       "}\n",
       "</style>"
      ]
     },
     "metadata": {},
     "output_type": "display_data"
    },
    {
     "data": {
      "application/javascript": "(function(root) {\n  function now() {\n    return new Date();\n  }\n\n  var force = true;\n  var py_version = '3.5.2'.replace('rc', '-rc.').replace('.dev', '-dev.');\n  var reloading = false;\n  var Bokeh = root.Bokeh;\n\n  if (typeof (root._bokeh_timeout) === \"undefined\" || force) {\n    root._bokeh_timeout = Date.now() + 5000;\n    root._bokeh_failed_load = false;\n  }\n\n  function run_callbacks() {\n    try {\n      root._bokeh_onload_callbacks.forEach(function(callback) {\n        if (callback != null)\n          callback();\n      });\n    } finally {\n      delete root._bokeh_onload_callbacks;\n    }\n    console.debug(\"Bokeh: all callbacks have finished\");\n  }\n\n  function load_libs(css_urls, js_urls, js_modules, js_exports, callback) {\n    if (css_urls == null) css_urls = [];\n    if (js_urls == null) js_urls = [];\n    if (js_modules == null) js_modules = [];\n    if (js_exports == null) js_exports = {};\n\n    root._bokeh_onload_callbacks.push(callback);\n\n    if (root._bokeh_is_loading > 0) {\n      console.debug(\"Bokeh: BokehJS is being loaded, scheduling callback at\", now());\n      return null;\n    }\n    if (js_urls.length === 0 && js_modules.length === 0 && Object.keys(js_exports).length === 0) {\n      run_callbacks();\n      return null;\n    }\n    if (!reloading) {\n      console.debug(\"Bokeh: BokehJS not loaded, scheduling load and callback at\", now());\n    }\n\n    function on_load() {\n      root._bokeh_is_loading--;\n      if (root._bokeh_is_loading === 0) {\n        console.debug(\"Bokeh: all BokehJS libraries/stylesheets loaded\");\n        run_callbacks()\n      }\n    }\n    window._bokeh_on_load = on_load\n\n    function on_error() {\n      console.error(\"failed to load \" + url);\n    }\n\n    var skip = [];\n    if (window.requirejs) {\n      window.requirejs.config({'packages': {}, 'paths': {}, 'shim': {}});\n      root._bokeh_is_loading = css_urls.length + 0;\n    } else {\n      root._bokeh_is_loading = css_urls.length + js_urls.length + js_modules.length + Object.keys(js_exports).length;\n    }\n\n    var existing_stylesheets = []\n    var links = document.getElementsByTagName('link')\n    for (var i = 0; i < links.length; i++) {\n      var link = links[i]\n      if (link.href != null) {\n\texisting_stylesheets.push(link.href)\n      }\n    }\n    for (var i = 0; i < css_urls.length; i++) {\n      var url = css_urls[i];\n      if (existing_stylesheets.indexOf(url) !== -1) {\n\ton_load()\n\tcontinue;\n      }\n      const element = document.createElement(\"link\");\n      element.onload = on_load;\n      element.onerror = on_error;\n      element.rel = \"stylesheet\";\n      element.type = \"text/css\";\n      element.href = url;\n      console.debug(\"Bokeh: injecting link tag for BokehJS stylesheet: \", url);\n      document.body.appendChild(element);\n    }    var existing_scripts = []\n    var scripts = document.getElementsByTagName('script')\n    for (var i = 0; i < scripts.length; i++) {\n      var script = scripts[i]\n      if (script.src != null) {\n\texisting_scripts.push(script.src)\n      }\n    }\n    for (var i = 0; i < js_urls.length; i++) {\n      var url = js_urls[i];\n      if (skip.indexOf(url) !== -1 || existing_scripts.indexOf(url) !== -1) {\n\tif (!window.requirejs) {\n\t  on_load();\n\t}\n\tcontinue;\n      }\n      var element = document.createElement('script');\n      element.onload = on_load;\n      element.onerror = on_error;\n      element.async = false;\n      element.src = url;\n      console.debug(\"Bokeh: injecting script tag for BokehJS library: \", url);\n      document.head.appendChild(element);\n    }\n    for (var i = 0; i < js_modules.length; i++) {\n      var url = js_modules[i];\n      if (skip.indexOf(url) !== -1 || existing_scripts.indexOf(url) !== -1) {\n\tif (!window.requirejs) {\n\t  on_load();\n\t}\n\tcontinue;\n      }\n      var element = document.createElement('script');\n      element.onload = on_load;\n      element.onerror = on_error;\n      element.async = false;\n      element.src = url;\n      element.type = \"module\";\n      console.debug(\"Bokeh: injecting script tag for BokehJS library: \", url);\n      document.head.appendChild(element);\n    }\n    for (const name in js_exports) {\n      var url = js_exports[name];\n      if (skip.indexOf(url) >= 0 || root[name] != null) {\n\tif (!window.requirejs) {\n\t  on_load();\n\t}\n\tcontinue;\n      }\n      var element = document.createElement('script');\n      element.onerror = on_error;\n      element.async = false;\n      element.type = \"module\";\n      console.debug(\"Bokeh: injecting script tag for BokehJS library: \", url);\n      element.textContent = `\n      import ${name} from \"${url}\"\n      window.${name} = ${name}\n      window._bokeh_on_load()\n      `\n      document.head.appendChild(element);\n    }\n    if (!js_urls.length && !js_modules.length) {\n      on_load()\n    }\n  };\n\n  function inject_raw_css(css) {\n    const element = document.createElement(\"style\");\n    element.appendChild(document.createTextNode(css));\n    document.body.appendChild(element);\n  }\n\n  var js_urls = [\"https://cdn.bokeh.org/bokeh/release/bokeh-3.5.2.min.js\", \"https://cdn.bokeh.org/bokeh/release/bokeh-gl-3.5.2.min.js\", \"https://cdn.bokeh.org/bokeh/release/bokeh-widgets-3.5.2.min.js\", \"https://cdn.bokeh.org/bokeh/release/bokeh-tables-3.5.2.min.js\", \"https://cdn.holoviz.org/panel/1.5.0-b.8/dist/panel.min.js\"];\n  var js_modules = [\"https://cdn.holoviz.org/panel/1.5.0-b.8/dist/bundled/reactiveesm/es-module-shims@^1.10.0/dist/es-module-shims.min.js\"];\n  var js_exports = {};\n  var css_urls = [];\n  var inline_js = [    function(Bokeh) {\n      Bokeh.set_log_level(\"info\");\n    },\nfunction(Bokeh) {} // ensure no trailing comma for IE\n  ];\n\n  function run_inline_js() {\n    if ((root.Bokeh !== undefined) || (force === true)) {\n      for (var i = 0; i < inline_js.length; i++) {\n\ttry {\n          inline_js[i].call(root, root.Bokeh);\n\t} catch(e) {\n\t  if (!reloading) {\n\t    throw e;\n\t  }\n\t}\n      }\n      // Cache old bokeh versions\n      if (Bokeh != undefined && !reloading) {\n\tvar NewBokeh = root.Bokeh;\n\tif (Bokeh.versions === undefined) {\n\t  Bokeh.versions = new Map();\n\t}\n\tif (NewBokeh.version !== Bokeh.version) {\n\t  Bokeh.versions.set(NewBokeh.version, NewBokeh)\n\t}\n\troot.Bokeh = Bokeh;\n      }} else if (Date.now() < root._bokeh_timeout) {\n      setTimeout(run_inline_js, 100);\n    } else if (!root._bokeh_failed_load) {\n      console.log(\"Bokeh: BokehJS failed to load within specified timeout.\");\n      root._bokeh_failed_load = true;\n    }\n    root._bokeh_is_initializing = false\n  }\n\n  function load_or_wait() {\n    // Implement a backoff loop that tries to ensure we do not load multiple\n    // versions of Bokeh and its dependencies at the same time.\n    // In recent versions we use the root._bokeh_is_initializing flag\n    // to determine whether there is an ongoing attempt to initialize\n    // bokeh, however for backward compatibility we also try to ensure\n    // that we do not start loading a newer (Panel>=1.0 and Bokeh>3) version\n    // before older versions are fully initialized.\n    if (root._bokeh_is_initializing && Date.now() > root._bokeh_timeout) {\n      root._bokeh_is_initializing = false;\n      root._bokeh_onload_callbacks = undefined;\n      console.log(\"Bokeh: BokehJS was loaded multiple times but one version failed to initialize.\");\n      load_or_wait();\n    } else if (root._bokeh_is_initializing || (typeof root._bokeh_is_initializing === \"undefined\" && root._bokeh_onload_callbacks !== undefined)) {\n      setTimeout(load_or_wait, 100);\n    } else {\n      root._bokeh_is_initializing = true\n      root._bokeh_onload_callbacks = []\n      var bokeh_loaded = Bokeh != null && (Bokeh.version === py_version || (Bokeh.versions !== undefined && Bokeh.versions.has(py_version)));\n      if (!reloading && !bokeh_loaded) {\n\troot.Bokeh = undefined;\n      }\n      load_libs(css_urls, js_urls, js_modules, js_exports, function() {\n\tconsole.debug(\"Bokeh: BokehJS plotting callback run at\", now());\n\trun_inline_js();\n      });\n    }\n  }\n  // Give older versions of the autoload script a head-start to ensure\n  // they initialize before we start loading newer version.\n  setTimeout(load_or_wait, 100)\n}(window));",
      "application/vnd.holoviews_load.v0+json": ""
     },
     "metadata": {},
     "output_type": "display_data"
    },
    {
     "data": {
      "application/javascript": "\nif ((window.PyViz === undefined) || (window.PyViz instanceof HTMLElement)) {\n  window.PyViz = {comms: {}, comm_status:{}, kernels:{}, receivers: {}, plot_index: []}\n}\n\n\n    function JupyterCommManager() {\n    }\n\n    JupyterCommManager.prototype.register_target = function(plot_id, comm_id, msg_handler) {\n      if (window.comm_manager || ((window.Jupyter !== undefined) && (Jupyter.notebook.kernel != null))) {\n        var comm_manager = window.comm_manager || Jupyter.notebook.kernel.comm_manager;\n        comm_manager.register_target(comm_id, function(comm) {\n          comm.on_msg(msg_handler);\n        });\n      } else if ((plot_id in window.PyViz.kernels) && (window.PyViz.kernels[plot_id])) {\n        window.PyViz.kernels[plot_id].registerCommTarget(comm_id, function(comm) {\n          comm.onMsg = msg_handler;\n        });\n      } else if (typeof google != 'undefined' && google.colab.kernel != null) {\n        google.colab.kernel.comms.registerTarget(comm_id, (comm) => {\n          var messages = comm.messages[Symbol.asyncIterator]();\n          function processIteratorResult(result) {\n            var message = result.value;\n            console.log(message)\n            var content = {data: message.data, comm_id};\n            var buffers = []\n            for (var buffer of message.buffers || []) {\n              buffers.push(new DataView(buffer))\n            }\n            var metadata = message.metadata || {};\n            var msg = {content, buffers, metadata}\n            msg_handler(msg);\n            return messages.next().then(processIteratorResult);\n          }\n          return messages.next().then(processIteratorResult);\n        })\n      }\n    }\n\n    JupyterCommManager.prototype.get_client_comm = function(plot_id, comm_id, msg_handler) {\n      if (comm_id in window.PyViz.comms) {\n        return window.PyViz.comms[comm_id];\n      } else if (window.comm_manager || ((window.Jupyter !== undefined) && (Jupyter.notebook.kernel != null))) {\n        var comm_manager = window.comm_manager || Jupyter.notebook.kernel.comm_manager;\n        var comm = comm_manager.new_comm(comm_id, {}, {}, {}, comm_id);\n        if (msg_handler) {\n          comm.on_msg(msg_handler);\n        }\n      } else if ((plot_id in window.PyViz.kernels) && (window.PyViz.kernels[plot_id])) {\n        var comm = window.PyViz.kernels[plot_id].connectToComm(comm_id);\n        comm.open();\n        if (msg_handler) {\n          comm.onMsg = msg_handler;\n        }\n      } else if (typeof google != 'undefined' && google.colab.kernel != null) {\n        var comm_promise = google.colab.kernel.comms.open(comm_id)\n        comm_promise.then((comm) => {\n          window.PyViz.comms[comm_id] = comm;\n          if (msg_handler) {\n            var messages = comm.messages[Symbol.asyncIterator]();\n            function processIteratorResult(result) {\n              var message = result.value;\n              var content = {data: message.data};\n              var metadata = message.metadata || {comm_id};\n              var msg = {content, metadata}\n              msg_handler(msg);\n              return messages.next().then(processIteratorResult);\n            }\n            return messages.next().then(processIteratorResult);\n          }\n        }) \n        var sendClosure = (data, metadata, buffers, disposeOnDone) => {\n          return comm_promise.then((comm) => {\n            comm.send(data, metadata, buffers, disposeOnDone);\n          });\n        };\n        var comm = {\n          send: sendClosure\n        };\n      }\n      window.PyViz.comms[comm_id] = comm;\n      return comm;\n    }\n    window.PyViz.comm_manager = new JupyterCommManager();\n    \n\n\nvar JS_MIME_TYPE = 'application/javascript';\nvar HTML_MIME_TYPE = 'text/html';\nvar EXEC_MIME_TYPE = 'application/vnd.holoviews_exec.v0+json';\nvar CLASS_NAME = 'output';\n\n/**\n * Render data to the DOM node\n */\nfunction render(props, node) {\n  var div = document.createElement(\"div\");\n  var script = document.createElement(\"script\");\n  node.appendChild(div);\n  node.appendChild(script);\n}\n\n/**\n * Handle when a new output is added\n */\nfunction handle_add_output(event, handle) {\n  var output_area = handle.output_area;\n  var output = handle.output;\n  if ((output.data == undefined) || (!output.data.hasOwnProperty(EXEC_MIME_TYPE))) {\n    return\n  }\n  var id = output.metadata[EXEC_MIME_TYPE][\"id\"];\n  var toinsert = output_area.element.find(\".\" + CLASS_NAME.split(' ')[0]);\n  if (id !== undefined) {\n    var nchildren = toinsert.length;\n    var html_node = toinsert[nchildren-1].children[0];\n    html_node.innerHTML = output.data[HTML_MIME_TYPE];\n    var scripts = [];\n    var nodelist = html_node.querySelectorAll(\"script\");\n    for (var i in nodelist) {\n      if (nodelist.hasOwnProperty(i)) {\n        scripts.push(nodelist[i])\n      }\n    }\n\n    scripts.forEach( function (oldScript) {\n      var newScript = document.createElement(\"script\");\n      var attrs = [];\n      var nodemap = oldScript.attributes;\n      for (var j in nodemap) {\n        if (nodemap.hasOwnProperty(j)) {\n          attrs.push(nodemap[j])\n        }\n      }\n      attrs.forEach(function(attr) { newScript.setAttribute(attr.name, attr.value) });\n      newScript.appendChild(document.createTextNode(oldScript.innerHTML));\n      oldScript.parentNode.replaceChild(newScript, oldScript);\n    });\n    if (JS_MIME_TYPE in output.data) {\n      toinsert[nchildren-1].children[1].textContent = output.data[JS_MIME_TYPE];\n    }\n    output_area._hv_plot_id = id;\n    if ((window.Bokeh !== undefined) && (id in Bokeh.index)) {\n      window.PyViz.plot_index[id] = Bokeh.index[id];\n    } else {\n      window.PyViz.plot_index[id] = null;\n    }\n  } else if (output.metadata[EXEC_MIME_TYPE][\"server_id\"] !== undefined) {\n    var bk_div = document.createElement(\"div\");\n    bk_div.innerHTML = output.data[HTML_MIME_TYPE];\n    var script_attrs = bk_div.children[0].attributes;\n    for (var i = 0; i < script_attrs.length; i++) {\n      toinsert[toinsert.length - 1].childNodes[1].setAttribute(script_attrs[i].name, script_attrs[i].value);\n    }\n    // store reference to server id on output_area\n    output_area._bokeh_server_id = output.metadata[EXEC_MIME_TYPE][\"server_id\"];\n  }\n}\n\n/**\n * Handle when an output is cleared or removed\n */\nfunction handle_clear_output(event, handle) {\n  var id = handle.cell.output_area._hv_plot_id;\n  var server_id = handle.cell.output_area._bokeh_server_id;\n  if (((id === undefined) || !(id in PyViz.plot_index)) && (server_id !== undefined)) { return; }\n  var comm = window.PyViz.comm_manager.get_client_comm(\"hv-extension-comm\", \"hv-extension-comm\", function () {});\n  if (server_id !== null) {\n    comm.send({event_type: 'server_delete', 'id': server_id});\n    return;\n  } else if (comm !== null) {\n    comm.send({event_type: 'delete', 'id': id});\n  }\n  delete PyViz.plot_index[id];\n  if ((window.Bokeh !== undefined) & (id in window.Bokeh.index)) {\n    var doc = window.Bokeh.index[id].model.document\n    doc.clear();\n    const i = window.Bokeh.documents.indexOf(doc);\n    if (i > -1) {\n      window.Bokeh.documents.splice(i, 1);\n    }\n  }\n}\n\n/**\n * Handle kernel restart event\n */\nfunction handle_kernel_cleanup(event, handle) {\n  delete PyViz.comms[\"hv-extension-comm\"];\n  window.PyViz.plot_index = {}\n}\n\n/**\n * Handle update_display_data messages\n */\nfunction handle_update_output(event, handle) {\n  handle_clear_output(event, {cell: {output_area: handle.output_area}})\n  handle_add_output(event, handle)\n}\n\nfunction register_renderer(events, OutputArea) {\n  function append_mime(data, metadata, element) {\n    // create a DOM node to render to\n    var toinsert = this.create_output_subarea(\n    metadata,\n    CLASS_NAME,\n    EXEC_MIME_TYPE\n    );\n    this.keyboard_manager.register_events(toinsert);\n    // Render to node\n    var props = {data: data, metadata: metadata[EXEC_MIME_TYPE]};\n    render(props, toinsert[0]);\n    element.append(toinsert);\n    return toinsert\n  }\n\n  events.on('output_added.OutputArea', handle_add_output);\n  events.on('output_updated.OutputArea', handle_update_output);\n  events.on('clear_output.CodeCell', handle_clear_output);\n  events.on('delete.Cell', handle_clear_output);\n  events.on('kernel_ready.Kernel', handle_kernel_cleanup);\n\n  OutputArea.prototype.register_mime_type(EXEC_MIME_TYPE, append_mime, {\n    safe: true,\n    index: 0\n  });\n}\n\nif (window.Jupyter !== undefined) {\n  try {\n    var events = require('base/js/events');\n    var OutputArea = require('notebook/js/outputarea').OutputArea;\n    if (OutputArea.prototype.mime_types().indexOf(EXEC_MIME_TYPE) == -1) {\n      register_renderer(events, OutputArea);\n    }\n  } catch(err) {\n  }\n}\n",
      "application/vnd.holoviews_load.v0+json": ""
     },
     "metadata": {},
     "output_type": "display_data"
    },
    {
     "data": {
      "application/vnd.holoviews_exec.v0+json": "",
      "text/html": [
       "<div id='p1002'>\n",
       "  <div id=\"bf936532-6d56-4154-ab5a-266d3150d31c\" data-root-id=\"p1002\" style=\"display: contents;\"></div>\n",
       "</div>\n",
       "<script type=\"application/javascript\">(function(root) {\n",
       "  var docs_json = {\"edddc54f-8f2a-437a-85e5-30d6160f6261\":{\"version\":\"3.5.2\",\"title\":\"Bokeh Application\",\"roots\":[{\"type\":\"object\",\"name\":\"panel.models.browser.BrowserInfo\",\"id\":\"p1002\"},{\"type\":\"object\",\"name\":\"panel.models.comm_manager.CommManager\",\"id\":\"p1003\",\"attributes\":{\"plot_id\":\"p1002\",\"comm_id\":\"99cff47147a646b2afff04053dbb1ae4\",\"client_comm_id\":\"86bcaf1ed67f4d11a3aff877d01d2b58\"}}],\"defs\":[{\"type\":\"model\",\"name\":\"ReactiveHTML1\"},{\"type\":\"model\",\"name\":\"FlexBox1\",\"properties\":[{\"name\":\"align_content\",\"kind\":\"Any\",\"default\":\"flex-start\"},{\"name\":\"align_items\",\"kind\":\"Any\",\"default\":\"flex-start\"},{\"name\":\"flex_direction\",\"kind\":\"Any\",\"default\":\"row\"},{\"name\":\"flex_wrap\",\"kind\":\"Any\",\"default\":\"wrap\"},{\"name\":\"gap\",\"kind\":\"Any\",\"default\":\"\"},{\"name\":\"justify_content\",\"kind\":\"Any\",\"default\":\"flex-start\"}]},{\"type\":\"model\",\"name\":\"FloatPanel1\",\"properties\":[{\"name\":\"config\",\"kind\":\"Any\",\"default\":{\"type\":\"map\"}},{\"name\":\"contained\",\"kind\":\"Any\",\"default\":true},{\"name\":\"position\",\"kind\":\"Any\",\"default\":\"right-top\"},{\"name\":\"offsetx\",\"kind\":\"Any\",\"default\":null},{\"name\":\"offsety\",\"kind\":\"Any\",\"default\":null},{\"name\":\"theme\",\"kind\":\"Any\",\"default\":\"primary\"},{\"name\":\"status\",\"kind\":\"Any\",\"default\":\"normalized\"}]},{\"type\":\"model\",\"name\":\"GridStack1\",\"properties\":[{\"name\":\"mode\",\"kind\":\"Any\",\"default\":\"warn\"},{\"name\":\"ncols\",\"kind\":\"Any\",\"default\":null},{\"name\":\"nrows\",\"kind\":\"Any\",\"default\":null},{\"name\":\"allow_resize\",\"kind\":\"Any\",\"default\":true},{\"name\":\"allow_drag\",\"kind\":\"Any\",\"default\":true},{\"name\":\"state\",\"kind\":\"Any\",\"default\":[]}]},{\"type\":\"model\",\"name\":\"drag1\",\"properties\":[{\"name\":\"slider_width\",\"kind\":\"Any\",\"default\":5},{\"name\":\"slider_color\",\"kind\":\"Any\",\"default\":\"black\"},{\"name\":\"value\",\"kind\":\"Any\",\"default\":50}]},{\"type\":\"model\",\"name\":\"click1\",\"properties\":[{\"name\":\"terminal_output\",\"kind\":\"Any\",\"default\":\"\"},{\"name\":\"debug_name\",\"kind\":\"Any\",\"default\":\"\"},{\"name\":\"clears\",\"kind\":\"Any\",\"default\":0}]},{\"type\":\"model\",\"name\":\"FastWrapper1\",\"properties\":[{\"name\":\"object\",\"kind\":\"Any\",\"default\":null},{\"name\":\"style\",\"kind\":\"Any\",\"default\":null}]},{\"type\":\"model\",\"name\":\"NotificationAreaBase1\",\"properties\":[{\"name\":\"js_events\",\"kind\":\"Any\",\"default\":{\"type\":\"map\"}},{\"name\":\"position\",\"kind\":\"Any\",\"default\":\"bottom-right\"},{\"name\":\"_clear\",\"kind\":\"Any\",\"default\":0}]},{\"type\":\"model\",\"name\":\"NotificationArea1\",\"properties\":[{\"name\":\"js_events\",\"kind\":\"Any\",\"default\":{\"type\":\"map\"}},{\"name\":\"notifications\",\"kind\":\"Any\",\"default\":[]},{\"name\":\"position\",\"kind\":\"Any\",\"default\":\"bottom-right\"},{\"name\":\"_clear\",\"kind\":\"Any\",\"default\":0},{\"name\":\"types\",\"kind\":\"Any\",\"default\":[{\"type\":\"map\",\"entries\":[[\"type\",\"warning\"],[\"background\",\"#ffc107\"],[\"icon\",{\"type\":\"map\",\"entries\":[[\"className\",\"fas fa-exclamation-triangle\"],[\"tagName\",\"i\"],[\"color\",\"white\"]]}]]},{\"type\":\"map\",\"entries\":[[\"type\",\"info\"],[\"background\",\"#007bff\"],[\"icon\",{\"type\":\"map\",\"entries\":[[\"className\",\"fas fa-info-circle\"],[\"tagName\",\"i\"],[\"color\",\"white\"]]}]]}]}]},{\"type\":\"model\",\"name\":\"Notification\",\"properties\":[{\"name\":\"background\",\"kind\":\"Any\",\"default\":null},{\"name\":\"duration\",\"kind\":\"Any\",\"default\":3000},{\"name\":\"icon\",\"kind\":\"Any\",\"default\":null},{\"name\":\"message\",\"kind\":\"Any\",\"default\":\"\"},{\"name\":\"notification_type\",\"kind\":\"Any\",\"default\":null},{\"name\":\"_destroyed\",\"kind\":\"Any\",\"default\":false}]},{\"type\":\"model\",\"name\":\"TemplateActions1\",\"properties\":[{\"name\":\"open_modal\",\"kind\":\"Any\",\"default\":0},{\"name\":\"close_modal\",\"kind\":\"Any\",\"default\":0}]},{\"type\":\"model\",\"name\":\"BootstrapTemplateActions1\",\"properties\":[{\"name\":\"open_modal\",\"kind\":\"Any\",\"default\":0},{\"name\":\"close_modal\",\"kind\":\"Any\",\"default\":0}]},{\"type\":\"model\",\"name\":\"TemplateEditor1\",\"properties\":[{\"name\":\"layout\",\"kind\":\"Any\",\"default\":[]}]},{\"type\":\"model\",\"name\":\"MaterialTemplateActions1\",\"properties\":[{\"name\":\"open_modal\",\"kind\":\"Any\",\"default\":0},{\"name\":\"close_modal\",\"kind\":\"Any\",\"default\":0}]},{\"type\":\"model\",\"name\":\"ReactiveESM1\"},{\"type\":\"model\",\"name\":\"JSComponent1\"},{\"type\":\"model\",\"name\":\"ReactComponent1\"},{\"type\":\"model\",\"name\":\"AnyWidgetComponent1\"},{\"type\":\"model\",\"name\":\"request_value1\",\"properties\":[{\"name\":\"fill\",\"kind\":\"Any\",\"default\":\"none\"},{\"name\":\"_synced\",\"kind\":\"Any\",\"default\":null},{\"name\":\"_request_sync\",\"kind\":\"Any\",\"default\":0}]}]}};\n",
       "  var render_items = [{\"docid\":\"edddc54f-8f2a-437a-85e5-30d6160f6261\",\"roots\":{\"p1002\":\"bf936532-6d56-4154-ab5a-266d3150d31c\"},\"root_ids\":[\"p1002\"]}];\n",
       "  var docs = Object.values(docs_json)\n",
       "  if (!docs) {\n",
       "    return\n",
       "  }\n",
       "  const py_version = docs[0].version.replace('rc', '-rc.').replace('.dev', '-dev.')\n",
       "  async function embed_document(root) {\n",
       "    var Bokeh = get_bokeh(root)\n",
       "    await Bokeh.embed.embed_items_notebook(docs_json, render_items);\n",
       "    for (const render_item of render_items) {\n",
       "      for (const root_id of render_item.root_ids) {\n",
       "\tconst id_el = document.getElementById(root_id)\n",
       "\tif (id_el.children.length && id_el.children[0].hasAttribute('data-root-id')) {\n",
       "\t  const root_el = id_el.children[0]\n",
       "\t  root_el.id = root_el.id + '-rendered'\n",
       "\t  for (const child of root_el.children) {\n",
       "            // Ensure JupyterLab does not capture keyboard shortcuts\n",
       "            // see: https://jupyterlab.readthedocs.io/en/4.1.x/extension/notebook.html#keyboard-interaction-model\n",
       "\t    child.setAttribute('data-lm-suppress-shortcuts', 'true')\n",
       "\t  }\n",
       "\t}\n",
       "      }\n",
       "    }\n",
       "  }\n",
       "  function get_bokeh(root) {\n",
       "    if (root.Bokeh === undefined) {\n",
       "      return null\n",
       "    } else if (root.Bokeh.version !== py_version) {\n",
       "      if (root.Bokeh.versions === undefined || !root.Bokeh.versions.has(py_version)) {\n",
       "\treturn null\n",
       "      }\n",
       "      return root.Bokeh.versions.get(py_version);\n",
       "    } else if (root.Bokeh.version === py_version) {\n",
       "      return root.Bokeh\n",
       "    }\n",
       "    return null\n",
       "  }\n",
       "  function is_loaded(root) {\n",
       "    var Bokeh = get_bokeh(root)\n",
       "    return (Bokeh != null && Bokeh.Panel !== undefined)\n",
       "  }\n",
       "  if (is_loaded(root)) {\n",
       "    embed_document(root);\n",
       "  } else {\n",
       "    var attempts = 0;\n",
       "    var timer = setInterval(function(root) {\n",
       "      if (is_loaded(root)) {\n",
       "        clearInterval(timer);\n",
       "        embed_document(root);\n",
       "      } else if (document.readyState == \"complete\") {\n",
       "        attempts++;\n",
       "        if (attempts > 200) {\n",
       "          clearInterval(timer);\n",
       "\t  var Bokeh = get_bokeh(root)\n",
       "\t  if (Bokeh == null || Bokeh.Panel == null) {\n",
       "            console.warn(\"Panel: ERROR: Unable to run Panel code because Bokeh or Panel library is missing\");\n",
       "\t  } else {\n",
       "\t    console.warn(\"Panel: WARNING: Attempting to render but not all required libraries could be resolved.\")\n",
       "\t    embed_document(root)\n",
       "\t  }\n",
       "        }\n",
       "      }\n",
       "    }, 25, root)\n",
       "  }\n",
       "})(window);</script>"
      ]
     },
     "metadata": {
      "application/vnd.holoviews_exec.v0+json": {
       "id": "p1002"
      }
     },
     "output_type": "display_data"
    },
    {
     "data": {},
     "metadata": {},
     "output_type": "display_data"
    },
    {
     "data": {
      "application/vnd.holoviews_exec.v0+json": "",
      "text/html": [
       "<div id='p1004'>\n",
       "  <div id=\"c40af2f9-13f9-4f02-9cd7-8da33782f520\" data-root-id=\"p1004\" style=\"display: contents;\"></div>\n",
       "</div>\n",
       "<script type=\"application/javascript\">(function(root) {\n",
       "  var docs_json = {\"4193fe68-ac0b-4522-8259-2db7b8d8e938\":{\"version\":\"3.5.2\",\"title\":\"Bokeh Application\",\"roots\":[{\"type\":\"object\",\"name\":\"Row\",\"id\":\"p1004\",\"attributes\":{\"name\":\"Row00943\",\"tags\":[\"embedded\"],\"stylesheets\":[\"\\n:host(.pn-loading):before, .pn-loading:before {\\n  background-color: #c3c3c3;\\n  mask-size: auto calc(min(50%, 400px));\\n  -webkit-mask-size: auto calc(min(50%, 400px));\\n}\",{\"type\":\"object\",\"name\":\"ImportedStyleSheet\",\"id\":\"p1007\",\"attributes\":{\"url\":\"https://cdn.holoviz.org/panel/1.5.0-b.8/dist/css/loading.css\"}},{\"type\":\"object\",\"name\":\"ImportedStyleSheet\",\"id\":\"p1065\",\"attributes\":{\"url\":\"https://cdn.holoviz.org/panel/1.5.0-b.8/dist/css/listpanel.css\"}},{\"type\":\"object\",\"name\":\"ImportedStyleSheet\",\"id\":\"p1005\",\"attributes\":{\"url\":\"https://cdn.holoviz.org/panel/1.5.0-b.8/dist/bundled/theme/default.css\"}},{\"type\":\"object\",\"name\":\"ImportedStyleSheet\",\"id\":\"p1006\",\"attributes\":{\"url\":\"https://cdn.holoviz.org/panel/1.5.0-b.8/dist/bundled/theme/native.css\"}}],\"min_width\":700,\"margin\":0,\"sizing_mode\":\"stretch_width\",\"align\":\"start\",\"children\":[{\"type\":\"object\",\"name\":\"Spacer\",\"id\":\"p1008\",\"attributes\":{\"name\":\"HSpacer00950\",\"stylesheets\":[\"\\n:host(.pn-loading):before, .pn-loading:before {\\n  background-color: #c3c3c3;\\n  mask-size: auto calc(min(50%, 400px));\\n  -webkit-mask-size: auto calc(min(50%, 400px));\\n}\",{\"id\":\"p1007\"},{\"id\":\"p1005\"},{\"id\":\"p1006\"}],\"margin\":0,\"sizing_mode\":\"stretch_width\",\"align\":\"start\"}},{\"type\":\"object\",\"name\":\"Figure\",\"id\":\"p1016\",\"attributes\":{\"width\":700,\"height\":300,\"margin\":[5,10],\"sizing_mode\":\"fixed\",\"align\":\"start\",\"x_range\":{\"type\":\"object\",\"name\":\"FactorRange\",\"id\":\"p1009\",\"attributes\":{\"tags\":[[[\"id\",null]],[]],\"factors\":[\"037f76ff-8c25-4e43-b5bd-4530e12cc5a6\",\"03d2138b-5aad-4f81-af22-698e97ab28dc\",\"06902f86-0024-418d-b449-79843f96bf09\",\"097479ae-c267-4389-8e79-1a6cd4934292\",\"098e6d81-7a35-4287-ba7b-505b01520deb\",\"0aeed887-d8e9-4886-baac-f519c4f44715\",\"0bd41efe-b462-4ee2-bc15-e68baa3d1277\",\"0c807c4c-c22c-4e00-935b-fc66cab844ab\",\"0c990a31-1219-460d-9e62-02d4b81e41e9\",\"0f000274-9c71-4d1d-be9a-8319bb3ed87a\",\"0f957f96-4a8c-4c73-9f25-7dbb328fea1d\",\"120c123c-1171-4e21-a4d1-3e5a745f6a58\",\"1277de0f-f647-4c40-9de7-29d4a03a2a5f\",\"1385a4bb-6f78-44d7-8009-ea5817d92ba5\",\"13fc0a7e-d49f-4dce-978d-ba770ba19d47\",\"15863221-66a0-4ef6-80e7-b6c58bad8ade\",\"16e3b897-07a6-4cd3-90ac-69c839d106c0\",\"19813cc5-d83d-496b-89de-e829528675c4\",\"1b61bff6-6483-4c28-87d1-2bdcaac0da23\",\"1c8ddfe0-e0c2-41d3-a20d-530454cf0f3f\",\"1d0c96ba-d785-408d-ad33-0bf5eacc9fc0\",\"1ef14f62-8f14-4ffd-aa68-d7db084468ac\",\"1efc4a75-9633-4c7d-8df7-d20525024cd5\",\"1fa746e1-8d38-474a-b911-fcc530e9bec4\",\"237a3e6f-8fef-4fb8-8302-7ad5dca06237\",\"2382ad84-6a3b-4034-b7f2-8cfcf6199517\",\"248d71b1-3d14-4042-b875-e68e2d305762\",\"24a0999f-e78d-46f4-a725-7db39f521d6d\",\"25ca2c2c-849b-4076-a616-06f85d5dc0b8\",\"295e6735-6d28-4489-9482-1be9a0ed255c\",\"2ae6aab0-49c1-4066-95d7-4eeffb0e1ba7\",\"2d1a8361-cc4b-49d2-8cc6-28bffd7c763c\",\"2ea8b079-2030-49e6-9f89-dd5e30afc12f\",\"314ff781-d483-498d-a36e-6468357f378e\",\"353697de-03d2-4f4d-8f98-b0a3292a32df\",\"3578dee0-00d3-4283-b2c6-adf651e05feb\",\"363c50c4-e544-496c-ad96-00741b9a5adc\",\"36ac3c9f-aea7-4a31-a8fa-740002e3cf45\",\"38601b0b-5338-4154-9f04-cf85b8c48921\",\"38a52217-7f41-4385-9d2f-07efffd90f6f\",\"38fc76f3-5600-419c-8f4d-34e35ba2d5cd\",\"3a39c999-dfff-442c-b18e-867507bd7d29\",\"3d094718-2d85-462f-bd56-41622db9bf53\",\"3d16e7c1-b9ec-4b3e-ab08-31eefa2d7e60\",\"3d85907a-030f-49a4-8eee-460a2dffc33a\",\"3dde86b3-cfa8-4c36-99e2-be1eb68dbc35\",\"3e69d122-4b75-43a7-bb80-b22a89e4f241\",\"41c506aa-2603-499c-8678-a7176a885a96\",\"44a86dd4-6dbb-43d8-a6c1-39323da327c6\",\"45ad9e78-4eb0-4524-a63c-5487faaa1f98\",\"461c5c4f-36cc-4552-a7ab-47bf198df1ca\",\"48f9adb0-9d23-4351-ba95-0a225037b719\",\"49cb7b13-3646-4e65-83c2-43b492c1967c\",\"4fd95426-2ff4-43fc-93cd-cc9bf9646e6c\",\"4fe49506-74e4-473b-b7a8-23500c472189\",\"510431d6-6392-4968-b779-82d07043b143\",\"5266b96a-8fae-4074-b36e-a39360276815\",\"5451debd-a09c-4e5d-a0ea-da3b7c1c97e0\",\"57196e5f-dec2-440f-b212-2a3cd0e16f78\",\"5799827b-43e3-417c-a868-345c971c3b6d\",\"57b5e1c8-15cf-48a0-bdd6-54eb5817b3bd\",\"580931b0-787c-441e-86fa-9d2497a2b60d\",\"5ba6f856-6db0-4318-85d2-25172c1ad96e\",\"5c1f1cff-ccc7-4a54-911b-a73223e583df\",\"5eb3135c-33a2-404b-8042-e23cae33bccf\",\"5eb3f039-5423-4f46-a6a4-83ff87043938\",\"62c435eb-b1aa-4d64-b7b2-6a5248629974\",\"630cc2b0-90e3-4102-92a5-f6f4a8505fe4\",\"631766f0-2c8e-49fd-9381-5716dab9bdc1\",\"6330ab34-a340-4bc5-bb1a-a689291a897a\",\"642be36c-3272-487e-8da4-b3ea119fcee2\",\"64cf38b5-aa89-4a50-a55d-20f8297cc80c\",\"65207345-f10b-4139-82b1-ec04886f2491\",\"66031643-5340-4eeb-b56d-e839d06a0045\",\"6b932963-d604-4536-8dac-5b5bbc71d1a8\",\"6bf0e36f-819a-4303-9386-76d206ce3bfb\",\"6c21c6a3-8b4a-4385-a023-09cbf6d62337\",\"6c8038b9-47f7-4ad2-ac66-45183612de97\",\"6cdea755-a2f4-4374-a78e-43c672d52342\",\"6d8a370a-9f40-460d-acba-99fd4c287ad8\",\"703fd5ae-eb12-4afc-9470-10acff133409\",\"709d5e73-3a68-46d5-b847-82bb01496f9e\",\"711fc3c8-6421-4c9e-8552-7a84e64390a4\",\"71c723a5-a971-4dbb-9512-9d67c6e458c3\",\"7311903b-1d99-4dd9-b41d-8e5755b045ff\",\"744f6f00-931b-4e6d-8403-e4d3029192c5\",\"7524b609-b583-4ddc-bdad-84d452b03861\",\"7563b30e-eca5-487a-be62-31b7b359752a\",\"77a0e17d-08f2-4f44-9ad4-4f62918074dc\",\"77aa69f1-abfe-4c06-97d1-641beb3bce28\",\"79177dc7-9f72-40c6-8ea7-0661a74f298c\",\"7a6f8b12-85f0-490c-844b-8eb953317f63\",\"7ae5030c-bef3-4cc1-bf77-4206683a4ecc\",\"7b085f32-4d69-4f78-b49b-4d32871d510e\",\"7b0bb000-c3c2-40a8-aed1-38605bf974f6\",\"7bb37d18-89b0-4d05-aaf3-39d00cbcb14b\",\"7c14c129-9ca6-4c2c-9688-0ae8f9e2ae53\",\"7cefe4d3-48b9-450d-91ec-ce3bfb5a5214\",\"7eb43395-2d00-4821-9443-b847affe51bc\",\"7f2e6628-7323-4c61-853c-2e3bc8b83f68\",\"7f5e43c8-56ac-44ca-845b-1ffd1589cf29\",\"82896421-ee35-45f4-9984-5ca5a967fff4\",\"8341593e-386e-4b6c-9913-c0f13ea75d83\",\"839bc605-9669-4c51-890e-3ab8b28edf32\",\"839df657-69a3-4935-a30b-3bd17e9ae05f\",\"85272a93-c3b2-4d8a-bf3b-0da26a927d46\",\"87040513-0579-4793-9593-6e33223a0817\",\"880405be-339a-454e-beee-ac796ffb649b\",\"8a1c28ee-dca2-48ab-95d9-85a8e4c7815e\",\"8cfa23c8-ffa6-4c27-be70-0251d4de1681\",\"8ffef305-23e1-41ee-bba8-f8f06603bd76\",\"9395ab30-3618-4703-840a-2536fbe28342\",\"94672f47-813e-49a2-90bb-1f1a222b718b\",\"9544994a-4533-4c41-830a-ffdb2b658f35\",\"98eca01a-3293-49b8-9df7-4c658291013a\",\"99e77e53-28d8-4cd7-bc50-69b03fe314aa\",\"9a54820f-861a-41fa-8eb4-566abc3d52c8\",\"9bc4f5a5-3a15-4549-9b9e-9ae8b2fb7536\",\"9c549b38-5ae9-498b-bced-4519e0dcfde8\",\"9e7f5fdc-2dc1-4f9e-a583-e61930e732cf\",\"9eca024b-28f0-47e1-820d-4af2c94a7fbb\",\"a361281d-bd84-4e9d-bc84-fd4ebf5ac83d\",\"a554ef08-e801-4f72-b550-58ceccd44e1c\",\"a57bd689-ce46-4303-8aae-42d854ecd5d8\",\"a5c17ccb-7db5-415a-9dc3-7d3a9918e6ec\",\"a69d4665-d7b3-4706-be76-4d8e393c9245\",\"a6c0cc7f-5c1d-4360-9124-4211f4bcd2dd\",\"a7bd7365-981b-49c3-874a-1f7b37249ce9\",\"a845578a-4fbd-4bb2-90f4-b8cea45300d2\",\"a9f68c96-008e-471e-88e8-5bdb6208302f\",\"ade01abb-8344-41af-a6f8-1f818c882604\",\"af64306a-3daa-4d29-9220-0576f2a1e8b8\",\"afb7db75-a452-4a65-976d-379f934dfdb1\",\"b17168f2-8f91-4f14-b9c5-c9cd1e1495d7\",\"b1f165ea-2268-449c-8596-ca56a6de5d65\",\"b2e4ceb5-2fa6-4c39-871e-6c4fc694a9fe\",\"b4300421-6d86-41ae-96e2-e98bfea8dcb8\",\"b4bfe605-8e98-4c5e-b8f0-27229e3ebd7e\",\"b5cb2c54-a8ae-4ff9-b3a0-8823612f1a8e\",\"b7472257-fa55-4ed2-888a-b619b7d163c0\",\"bda26338-2c61-4cd7-a703-677187592487\",\"bddbab82-a2e9-4975-b314-09c56bf89058\",\"be5be16e-b638-4f64-9e46-6cc4dfca3a25\",\"bfee5271-ae37-4288-b64b-bdd044c0945d\",\"c1926dba-3669-4af1-b4e5-286dee261dea\",\"c1e3411f-1d9e-4780-aace-a4650b1dc9f0\",\"c2e03fc2-ae68-4d8e-8ac8-c2d97c32440b\",\"ca0b15df-e1e0-48fa-a28c-9c4b01d1079e\",\"caa1c340-54fd-4722-b17b-b28e54cd2f63\",\"cdcffa99-055a-44c9-8a8a-6a0e50d24c5d\",\"d1fa1c5f-db84-439d-bbf8-33dfac41b3a2\",\"d241087a-8a28-40a8-9082-f100007951f7\",\"d3655b2d-bfee-46af-ba1b-1d47c6a53f95\",\"d3af9af9-3f75-483e-a2ad-ba97a5eb41c0\",\"d3cd5d80-e594-4d38-b8db-b315c74f7c1d\",\"d4d65f88-a5db-4ac9-9dca-520fcc89397e\",\"db5a4a60-7c7f-45aa-9120-757dc82c7df0\",\"dc2f32ae-6f74-4cfa-885e-686e0a2f4b0f\",\"dc69a4e0-7e9b-4f17-9971-439dd70534b2\",\"deaa0706-ffde-4423-970a-eca273c80892\",\"df3d87f3-fcab-47d0-89df-7b3443ee0f78\",\"e33cb9ba-fbfc-4c47-906c-44d096587e01\",\"e3b744c3-0b61-45a6-ac7f-daf49674b3b0\",\"e56c4dcd-2847-4d34-b457-743be10b0608\",\"efe26835-c1fb-44cf-8700-24ae3f8b6fca\",\"f0f84b08-faa6-49ec-9ecc-b8462e13980f\",\"f1619a2c-1143-4d40-a2d2-8822f66ab138\",\"f3447882-e2bb-4157-b9ba-080903ec7a4f\",\"f383afa0-99f8-4bbf-8a94-beebffae529f\",\"f4afa5f2-b7bf-4ed7-8bde-22313a1852f8\",\"f4f1ff8c-05f2-42ab-a3ab-3d1a34585098\",\"f74b295a-5f80-4c83-a6c0-9f514c6ccf65\",\"f934adf4-0362-4f85-8a57-719f274d446c\",\"fca1c5dc-fa21-4b91-aedd-2cf378ca7208\",\"ff228654-60ac-409b-b5d2-646cfdadcbd7\"]}},\"y_range\":{\"type\":\"object\",\"name\":\"Range1d\",\"id\":\"p1010\",\"attributes\":{\"tags\":[[[\"zeroth_mins\",null]],{\"type\":\"map\",\"entries\":[[\"invert_yaxis\",false],[\"autorange\",false]]}],\"start\":-0.0004466666666666668,\"end\":0.007313333333333334,\"reset_start\":-0.0004466666666666668,\"reset_end\":0.007313333333333334}},\"x_scale\":{\"type\":\"object\",\"name\":\"CategoricalScale\",\"id\":\"p1026\"},\"y_scale\":{\"type\":\"object\",\"name\":\"LinearScale\",\"id\":\"p1027\"},\"title\":{\"type\":\"object\",\"name\":\"Title\",\"id\":\"p1019\",\"attributes\":{\"text\":\"zeroth 'mins' against 'id'\",\"text_color\":\"black\",\"text_font_size\":\"12pt\"}},\"renderers\":[{\"type\":\"object\",\"name\":\"GlyphRenderer\",\"id\":\"p1058\",\"attributes\":{\"data_source\":{\"type\":\"object\",\"name\":\"ColumnDataSource\",\"id\":\"p1049\",\"attributes\":{\"selected\":{\"type\":\"object\",\"name\":\"Selection\",\"id\":\"p1050\",\"attributes\":{\"indices\":[],\"line_indices\":[]}},\"selection_policy\":{\"type\":\"object\",\"name\":\"UnionRenderers\",\"id\":\"p1051\"},\"data\":{\"type\":\"map\",\"entries\":[[\"id\",[\"037f76ff-8c25-4e43-b5bd-4530e12cc5a6\",\"03d2138b-5aad-4f81-af22-698e97ab28dc\",\"06902f86-0024-418d-b449-79843f96bf09\",\"097479ae-c267-4389-8e79-1a6cd4934292\",\"098e6d81-7a35-4287-ba7b-505b01520deb\",\"0aeed887-d8e9-4886-baac-f519c4f44715\",\"0bd41efe-b462-4ee2-bc15-e68baa3d1277\",\"0c807c4c-c22c-4e00-935b-fc66cab844ab\",\"0c990a31-1219-460d-9e62-02d4b81e41e9\",\"0f000274-9c71-4d1d-be9a-8319bb3ed87a\",\"0f957f96-4a8c-4c73-9f25-7dbb328fea1d\",\"120c123c-1171-4e21-a4d1-3e5a745f6a58\",\"1277de0f-f647-4c40-9de7-29d4a03a2a5f\",\"1385a4bb-6f78-44d7-8009-ea5817d92ba5\",\"13fc0a7e-d49f-4dce-978d-ba770ba19d47\",\"15863221-66a0-4ef6-80e7-b6c58bad8ade\",\"16e3b897-07a6-4cd3-90ac-69c839d106c0\",\"19813cc5-d83d-496b-89de-e829528675c4\",\"1b61bff6-6483-4c28-87d1-2bdcaac0da23\",\"1c8ddfe0-e0c2-41d3-a20d-530454cf0f3f\",\"1d0c96ba-d785-408d-ad33-0bf5eacc9fc0\",\"1ef14f62-8f14-4ffd-aa68-d7db084468ac\",\"1efc4a75-9633-4c7d-8df7-d20525024cd5\",\"1fa746e1-8d38-474a-b911-fcc530e9bec4\",\"237a3e6f-8fef-4fb8-8302-7ad5dca06237\",\"2382ad84-6a3b-4034-b7f2-8cfcf6199517\",\"248d71b1-3d14-4042-b875-e68e2d305762\",\"24a0999f-e78d-46f4-a725-7db39f521d6d\",\"25ca2c2c-849b-4076-a616-06f85d5dc0b8\",\"295e6735-6d28-4489-9482-1be9a0ed255c\",\"2ae6aab0-49c1-4066-95d7-4eeffb0e1ba7\",\"2d1a8361-cc4b-49d2-8cc6-28bffd7c763c\",\"2ea8b079-2030-49e6-9f89-dd5e30afc12f\",\"314ff781-d483-498d-a36e-6468357f378e\",\"353697de-03d2-4f4d-8f98-b0a3292a32df\",\"3578dee0-00d3-4283-b2c6-adf651e05feb\",\"363c50c4-e544-496c-ad96-00741b9a5adc\",\"36ac3c9f-aea7-4a31-a8fa-740002e3cf45\",\"38601b0b-5338-4154-9f04-cf85b8c48921\",\"38a52217-7f41-4385-9d2f-07efffd90f6f\",\"38fc76f3-5600-419c-8f4d-34e35ba2d5cd\",\"3a39c999-dfff-442c-b18e-867507bd7d29\",\"3d094718-2d85-462f-bd56-41622db9bf53\",\"3d16e7c1-b9ec-4b3e-ab08-31eefa2d7e60\",\"3d85907a-030f-49a4-8eee-460a2dffc33a\",\"3dde86b3-cfa8-4c36-99e2-be1eb68dbc35\",\"3e69d122-4b75-43a7-bb80-b22a89e4f241\",\"41c506aa-2603-499c-8678-a7176a885a96\",\"44a86dd4-6dbb-43d8-a6c1-39323da327c6\",\"45ad9e78-4eb0-4524-a63c-5487faaa1f98\",\"461c5c4f-36cc-4552-a7ab-47bf198df1ca\",\"48f9adb0-9d23-4351-ba95-0a225037b719\",\"49cb7b13-3646-4e65-83c2-43b492c1967c\",\"4fd95426-2ff4-43fc-93cd-cc9bf9646e6c\",\"4fe49506-74e4-473b-b7a8-23500c472189\",\"510431d6-6392-4968-b779-82d07043b143\",\"5266b96a-8fae-4074-b36e-a39360276815\",\"5451debd-a09c-4e5d-a0ea-da3b7c1c97e0\",\"57196e5f-dec2-440f-b212-2a3cd0e16f78\",\"5799827b-43e3-417c-a868-345c971c3b6d\",\"57b5e1c8-15cf-48a0-bdd6-54eb5817b3bd\",\"580931b0-787c-441e-86fa-9d2497a2b60d\",\"5ba6f856-6db0-4318-85d2-25172c1ad96e\",\"5c1f1cff-ccc7-4a54-911b-a73223e583df\",\"5eb3135c-33a2-404b-8042-e23cae33bccf\",\"5eb3f039-5423-4f46-a6a4-83ff87043938\",\"62c435eb-b1aa-4d64-b7b2-6a5248629974\",\"630cc2b0-90e3-4102-92a5-f6f4a8505fe4\",\"631766f0-2c8e-49fd-9381-5716dab9bdc1\",\"6330ab34-a340-4bc5-bb1a-a689291a897a\",\"642be36c-3272-487e-8da4-b3ea119fcee2\",\"64cf38b5-aa89-4a50-a55d-20f8297cc80c\",\"65207345-f10b-4139-82b1-ec04886f2491\",\"66031643-5340-4eeb-b56d-e839d06a0045\",\"6b932963-d604-4536-8dac-5b5bbc71d1a8\",\"6bf0e36f-819a-4303-9386-76d206ce3bfb\",\"6c21c6a3-8b4a-4385-a023-09cbf6d62337\",\"6c8038b9-47f7-4ad2-ac66-45183612de97\",\"6cdea755-a2f4-4374-a78e-43c672d52342\",\"6d8a370a-9f40-460d-acba-99fd4c287ad8\",\"703fd5ae-eb12-4afc-9470-10acff133409\",\"709d5e73-3a68-46d5-b847-82bb01496f9e\",\"711fc3c8-6421-4c9e-8552-7a84e64390a4\",\"71c723a5-a971-4dbb-9512-9d67c6e458c3\",\"7311903b-1d99-4dd9-b41d-8e5755b045ff\",\"744f6f00-931b-4e6d-8403-e4d3029192c5\",\"7524b609-b583-4ddc-bdad-84d452b03861\",\"7563b30e-eca5-487a-be62-31b7b359752a\",\"77a0e17d-08f2-4f44-9ad4-4f62918074dc\",\"77aa69f1-abfe-4c06-97d1-641beb3bce28\",\"79177dc7-9f72-40c6-8ea7-0661a74f298c\",\"7a6f8b12-85f0-490c-844b-8eb953317f63\",\"7ae5030c-bef3-4cc1-bf77-4206683a4ecc\",\"7b085f32-4d69-4f78-b49b-4d32871d510e\",\"7b0bb000-c3c2-40a8-aed1-38605bf974f6\",\"7bb37d18-89b0-4d05-aaf3-39d00cbcb14b\",\"7c14c129-9ca6-4c2c-9688-0ae8f9e2ae53\",\"7cefe4d3-48b9-450d-91ec-ce3bfb5a5214\",\"7eb43395-2d00-4821-9443-b847affe51bc\",\"7f2e6628-7323-4c61-853c-2e3bc8b83f68\",\"7f5e43c8-56ac-44ca-845b-1ffd1589cf29\",\"82896421-ee35-45f4-9984-5ca5a967fff4\",\"8341593e-386e-4b6c-9913-c0f13ea75d83\",\"839bc605-9669-4c51-890e-3ab8b28edf32\",\"839df657-69a3-4935-a30b-3bd17e9ae05f\",\"85272a93-c3b2-4d8a-bf3b-0da26a927d46\",\"87040513-0579-4793-9593-6e33223a0817\",\"880405be-339a-454e-beee-ac796ffb649b\",\"8a1c28ee-dca2-48ab-95d9-85a8e4c7815e\",\"8cfa23c8-ffa6-4c27-be70-0251d4de1681\",\"8ffef305-23e1-41ee-bba8-f8f06603bd76\",\"9395ab30-3618-4703-840a-2536fbe28342\",\"94672f47-813e-49a2-90bb-1f1a222b718b\",\"9544994a-4533-4c41-830a-ffdb2b658f35\",\"98eca01a-3293-49b8-9df7-4c658291013a\",\"99e77e53-28d8-4cd7-bc50-69b03fe314aa\",\"9a54820f-861a-41fa-8eb4-566abc3d52c8\",\"9bc4f5a5-3a15-4549-9b9e-9ae8b2fb7536\",\"9c549b38-5ae9-498b-bced-4519e0dcfde8\",\"9e7f5fdc-2dc1-4f9e-a583-e61930e732cf\",\"9eca024b-28f0-47e1-820d-4af2c94a7fbb\",\"a361281d-bd84-4e9d-bc84-fd4ebf5ac83d\",\"a554ef08-e801-4f72-b550-58ceccd44e1c\",\"a57bd689-ce46-4303-8aae-42d854ecd5d8\",\"a5c17ccb-7db5-415a-9dc3-7d3a9918e6ec\",\"a69d4665-d7b3-4706-be76-4d8e393c9245\",\"a6c0cc7f-5c1d-4360-9124-4211f4bcd2dd\",\"a7bd7365-981b-49c3-874a-1f7b37249ce9\",\"a845578a-4fbd-4bb2-90f4-b8cea45300d2\",\"a9f68c96-008e-471e-88e8-5bdb6208302f\",\"ade01abb-8344-41af-a6f8-1f818c882604\",\"af64306a-3daa-4d29-9220-0576f2a1e8b8\",\"afb7db75-a452-4a65-976d-379f934dfdb1\",\"b17168f2-8f91-4f14-b9c5-c9cd1e1495d7\",\"b1f165ea-2268-449c-8596-ca56a6de5d65\",\"b2e4ceb5-2fa6-4c39-871e-6c4fc694a9fe\",\"b4300421-6d86-41ae-96e2-e98bfea8dcb8\",\"b4bfe605-8e98-4c5e-b8f0-27229e3ebd7e\",\"b5cb2c54-a8ae-4ff9-b3a0-8823612f1a8e\",\"b7472257-fa55-4ed2-888a-b619b7d163c0\",\"bda26338-2c61-4cd7-a703-677187592487\",\"bddbab82-a2e9-4975-b314-09c56bf89058\",\"be5be16e-b638-4f64-9e46-6cc4dfca3a25\",\"bfee5271-ae37-4288-b64b-bdd044c0945d\",\"c1926dba-3669-4af1-b4e5-286dee261dea\",\"c1e3411f-1d9e-4780-aace-a4650b1dc9f0\",\"c2e03fc2-ae68-4d8e-8ac8-c2d97c32440b\",\"ca0b15df-e1e0-48fa-a28c-9c4b01d1079e\",\"caa1c340-54fd-4722-b17b-b28e54cd2f63\",\"cdcffa99-055a-44c9-8a8a-6a0e50d24c5d\",\"d1fa1c5f-db84-439d-bbf8-33dfac41b3a2\",\"d241087a-8a28-40a8-9082-f100007951f7\",\"d3655b2d-bfee-46af-ba1b-1d47c6a53f95\",\"d3af9af9-3f75-483e-a2ad-ba97a5eb41c0\",\"d3cd5d80-e594-4d38-b8db-b315c74f7c1d\",\"d4d65f88-a5db-4ac9-9dca-520fcc89397e\",\"db5a4a60-7c7f-45aa-9120-757dc82c7df0\",\"dc2f32ae-6f74-4cfa-885e-686e0a2f4b0f\",\"dc69a4e0-7e9b-4f17-9971-439dd70534b2\",\"deaa0706-ffde-4423-970a-eca273c80892\",\"df3d87f3-fcab-47d0-89df-7b3443ee0f78\",\"e33cb9ba-fbfc-4c47-906c-44d096587e01\",\"e3b744c3-0b61-45a6-ac7f-daf49674b3b0\",\"e56c4dcd-2847-4d34-b457-743be10b0608\",\"efe26835-c1fb-44cf-8700-24ae3f8b6fca\",\"f0f84b08-faa6-49ec-9ecc-b8462e13980f\",\"f1619a2c-1143-4d40-a2d2-8822f66ab138\",\"f3447882-e2bb-4157-b9ba-080903ec7a4f\",\"f383afa0-99f8-4bbf-8a94-beebffae529f\",\"f4afa5f2-b7bf-4ed7-8bde-22313a1852f8\",\"f4f1ff8c-05f2-42ab-a3ab-3d1a34585098\",\"f74b295a-5f80-4c83-a6c0-9f514c6ccf65\",\"f934adf4-0362-4f85-8a57-719f274d446c\",\"fca1c5dc-fa21-4b91-aedd-2cf378ca7208\",\"ff228654-60ac-409b-b5d2-646cfdadcbd7\"]],[\"zeroth_mins\",{\"type\":\"ndarray\",\"array\":{\"type\":\"bytes\",\"data\":\"KvNpKMjicT8tQxzr4jYqPyrzaSjI4nE/TxvotIFOez/gnBGlvcFXP+UXS36x5Hc/s3vysFBrej92cRsN4C1wPy1DHOviNio/TxvotIFOSz+u2F92Tx5mP7gehetRuG4/5RdLfrHkdz8RERERERFxP3ZxGw3gLXA//vmjlWi2eD8Nltc3He5QPxEREREREXE/33S4Q7CXcz+ze/KwUGt6P67YX3ZPHmY/5RdLfrHkZz+U9gZfmEx1P67YX3ZPHmY/s3vysFBrej8RERERERFhP08b6LSBTls/MJb8Yskvdj+amZmZmZl5P5T2Bl+YTHU/exSuR+F6VD9yHjuV+TREP08b6LSBTls/mpmZmZmZeT/lF0t+seR3P3ZxGw3gLXA/LUMc6+I2Kj/++aOVaLZ4P08b6LSBTls/TxvotIFOSz8q82koyOJxP7N78rBQa3o/ERERERERcT8RERERERFhP990uEOwl3M/5RdLfrHkZz8RERERERFxP08b6LSBTjs/TxvotIFOez8tQxzr4jYqP8aSXyz5xXI/exSuR+F6VD8X3PysH4hpP08b6LSBTms/MJb8Yskvdj8tQxzr4jYqP3ZxGw3gLXA/TxvotIFOOz9PG+i0gU5bP4HfmePv8Ww/RNXCP3+0Yj9JeFV6gAF3P+UXS36x5Hc//vmjlWi2eD/lF0t+seRnP/75o5Votng/LUMc6+I2Kj8wlvxiyS92P7gehetRuG4/SXhVeoABdz+amZmZmZl5P990uEOwl3M/uB6F61G4bj9JeFV6gAF3Pw2W1zcd7lA/tKNLEl6VXj+U9gZfmEx1P4HfmePv8Ww/TxvotIFOWz9PG+i0gU5bP7gehetRuG4/SXhVeoABdz+ze/KwUGt6P8aSXyz5xXI/ERERERERYT/gnBGlvcFXP08b6LSBTns/s3vysFBrej97FK5H4Xp0PyrzaSjI4nE/mpmZmZmZeT8X3PysH4hpPy1DHOviNio/5RdLfrHkdz9PG+i0gU5LPy1DHOviNio/s3vysFBrej/Gkl8s+cVyP8aSXyz5xXI/TxvotIFOWz+0o0sSXpVeP990uEOwl3M/xpJfLPnFcj+u2F92Tx5mP5T2Bl+YTHU/gd+Z4+/xbD8RERERERFhP08b6LSBTjs/LUMc6+I2Kj+0o0sSXpVeP4HfmePv8Ww/ERERERERcT97FK5H4XpkPzCW/GLJL3Y/s3vysFBrej9PG+i0gU5bP3sUrkfhelQ/33S4Q7CXcz8RERERERFxPxEREREREXE/exSuR+F6dD/lF0t+seRnPw2W1zcd7lA/TxvotIFOOz9yHjuV+TREPxfc/KwfiGk/exSuR+F6dD9PG+i0gU57P+UXS36x5Gc/mpmZmZmZeT9PG+i0gU5bP+UXS36x5Gc/lPYGX5hMdT8tQxzr4jYqP3IeO5X5NEQ/TxvotIFOSz8X3PysH4hpPxfc/KwfiGk/exSuR+F6VD9PG+i0gU5bP08b6LSBTls/5RdLfrHkZz/fdLhDsJdzP08b6LSBTms/4JwRpb3BVz/Gkl8s+cVyP5T2Bl+YTHU/KvNpKMjicT97FK5H4Xp0P08b6LSBTns/rthfdk8eZj+u2F92Tx5mP+CcEaW9wVc/MJb8Yskvdj9JeFV6gAF3P5T2Bl+YTHU/MJb8Yskvdj/fdLhDsJdzP67YX3ZPHmY/dnEbDeAtcD9PG+i0gU47Pw2W1zcd7lA/exSuR+F6ZD9PG+i0gU5rPyrzaSjI4nE/xpJfLPnFcj9E1cI/f7RiP0l4VXqAAXc/exSuR+F6dD9PG+i0gU5bPy1DHOviNio/ch47lfk0RD/lF0t+seR3P08b6LSBTms/DZbXNx3uUD8=\"},\"shape\":[175],\"dtype\":\"float64\",\"order\":\"little\"}]]}}},\"view\":{\"type\":\"object\",\"name\":\"CDSView\",\"id\":\"p1059\",\"attributes\":{\"filter\":{\"type\":\"object\",\"name\":\"AllIndices\",\"id\":\"p1060\"}}},\"glyph\":{\"type\":\"object\",\"name\":\"Scatter\",\"id\":\"p1055\",\"attributes\":{\"tags\":[\"apply_ranges\"],\"x\":{\"type\":\"field\",\"field\":\"id\"},\"y\":{\"type\":\"field\",\"field\":\"zeroth_mins\"},\"size\":{\"type\":\"value\",\"value\":5.477225575051661},\"line_color\":{\"type\":\"value\",\"value\":\"#30a2da\"},\"fill_color\":{\"type\":\"value\",\"value\":\"#30a2da\"},\"hatch_color\":{\"type\":\"value\",\"value\":\"#30a2da\"}}},\"selection_glyph\":{\"type\":\"object\",\"name\":\"Scatter\",\"id\":\"p1061\",\"attributes\":{\"tags\":[\"apply_ranges\"],\"x\":{\"type\":\"field\",\"field\":\"id\"},\"y\":{\"type\":\"field\",\"field\":\"zeroth_mins\"},\"size\":{\"type\":\"value\",\"value\":5.477225575051661},\"angle\":{\"type\":\"value\",\"value\":0.0},\"line_color\":{\"type\":\"value\",\"value\":\"#30a2da\"},\"line_alpha\":{\"type\":\"value\",\"value\":1.0},\"line_width\":{\"type\":\"value\",\"value\":1},\"line_join\":{\"type\":\"value\",\"value\":\"bevel\"},\"line_cap\":{\"type\":\"value\",\"value\":\"butt\"},\"line_dash\":{\"type\":\"value\",\"value\":[]},\"line_dash_offset\":{\"type\":\"value\",\"value\":0},\"fill_color\":{\"type\":\"value\",\"value\":\"#30a2da\"},\"fill_alpha\":{\"type\":\"value\",\"value\":1.0},\"hatch_color\":{\"type\":\"value\",\"value\":\"#30a2da\"},\"hatch_alpha\":{\"type\":\"value\",\"value\":1.0},\"hatch_scale\":{\"type\":\"value\",\"value\":12.0},\"hatch_pattern\":{\"type\":\"value\",\"value\":null},\"hatch_weight\":{\"type\":\"value\",\"value\":1.0},\"marker\":{\"type\":\"value\",\"value\":\"circle\"}}},\"nonselection_glyph\":{\"type\":\"object\",\"name\":\"Scatter\",\"id\":\"p1056\",\"attributes\":{\"tags\":[\"apply_ranges\"],\"x\":{\"type\":\"field\",\"field\":\"id\"},\"y\":{\"type\":\"field\",\"field\":\"zeroth_mins\"},\"size\":{\"type\":\"value\",\"value\":5.477225575051661},\"line_color\":{\"type\":\"value\",\"value\":\"#30a2da\"},\"line_alpha\":{\"type\":\"value\",\"value\":0.1},\"fill_color\":{\"type\":\"value\",\"value\":\"#30a2da\"},\"fill_alpha\":{\"type\":\"value\",\"value\":0.1},\"hatch_color\":{\"type\":\"value\",\"value\":\"#30a2da\"},\"hatch_alpha\":{\"type\":\"value\",\"value\":0.1}}},\"muted_glyph\":{\"type\":\"object\",\"name\":\"Scatter\",\"id\":\"p1057\",\"attributes\":{\"tags\":[\"apply_ranges\"],\"x\":{\"type\":\"field\",\"field\":\"id\"},\"y\":{\"type\":\"field\",\"field\":\"zeroth_mins\"},\"size\":{\"type\":\"value\",\"value\":5.477225575051661},\"line_color\":{\"type\":\"value\",\"value\":\"#30a2da\"},\"line_alpha\":{\"type\":\"value\",\"value\":0.2},\"fill_color\":{\"type\":\"value\",\"value\":\"#30a2da\"},\"fill_alpha\":{\"type\":\"value\",\"value\":0.2},\"hatch_color\":{\"type\":\"value\",\"value\":\"#30a2da\"},\"hatch_alpha\":{\"type\":\"value\",\"value\":0.2}}}}}],\"toolbar\":{\"type\":\"object\",\"name\":\"Toolbar\",\"id\":\"p1025\",\"attributes\":{\"tools\":[{\"type\":\"object\",\"name\":\"WheelZoomTool\",\"id\":\"p1014\",\"attributes\":{\"tags\":[\"hv_created\"],\"renderers\":\"auto\",\"zoom_together\":\"none\"}},{\"type\":\"object\",\"name\":\"HoverTool\",\"id\":\"p1015\",\"attributes\":{\"tags\":[\"hv_created\"],\"renderers\":[{\"id\":\"p1058\"}],\"tooltips\":[[\"id\",\"@{id}\"],[\"zeroth_mins\",\"@{zeroth_mins}\"]]}},{\"type\":\"object\",\"name\":\"SaveTool\",\"id\":\"p1038\"},{\"type\":\"object\",\"name\":\"PanTool\",\"id\":\"p1039\"},{\"type\":\"object\",\"name\":\"BoxZoomTool\",\"id\":\"p1040\",\"attributes\":{\"overlay\":{\"type\":\"object\",\"name\":\"BoxAnnotation\",\"id\":\"p1041\",\"attributes\":{\"syncable\":false,\"line_color\":\"black\",\"line_alpha\":1.0,\"line_width\":2,\"line_dash\":[4,4],\"fill_color\":\"lightgrey\",\"fill_alpha\":0.5,\"level\":\"overlay\",\"visible\":false,\"left\":{\"type\":\"number\",\"value\":\"nan\"},\"right\":{\"type\":\"number\",\"value\":\"nan\"},\"top\":{\"type\":\"number\",\"value\":\"nan\"},\"bottom\":{\"type\":\"number\",\"value\":\"nan\"},\"left_units\":\"canvas\",\"right_units\":\"canvas\",\"top_units\":\"canvas\",\"bottom_units\":\"canvas\",\"handles\":{\"type\":\"object\",\"name\":\"BoxInteractionHandles\",\"id\":\"p1047\",\"attributes\":{\"all\":{\"type\":\"object\",\"name\":\"AreaVisuals\",\"id\":\"p1046\",\"attributes\":{\"fill_color\":\"white\",\"hover_fill_color\":\"lightgray\"}}}}}}}},{\"type\":\"object\",\"name\":\"ResetTool\",\"id\":\"p1048\"}],\"active_drag\":{\"id\":\"p1039\"},\"active_scroll\":{\"id\":\"p1014\"}}},\"left\":[{\"type\":\"object\",\"name\":\"LinearAxis\",\"id\":\"p1033\",\"attributes\":{\"ticker\":{\"type\":\"object\",\"name\":\"BasicTicker\",\"id\":\"p1034\",\"attributes\":{\"mantissas\":[1,2,5]}},\"formatter\":{\"type\":\"object\",\"name\":\"BasicTickFormatter\",\"id\":\"p1035\"},\"axis_label\":\"zeroth_mins\",\"major_label_policy\":{\"type\":\"object\",\"name\":\"AllLabels\",\"id\":\"p1036\"}}}],\"below\":[{\"type\":\"object\",\"name\":\"CategoricalAxis\",\"id\":\"p1028\",\"attributes\":{\"ticker\":{\"type\":\"object\",\"name\":\"CategoricalTicker\",\"id\":\"p1029\"},\"formatter\":{\"type\":\"object\",\"name\":\"CategoricalTickFormatter\",\"id\":\"p1030\"},\"axis_label\":\"id\",\"major_label_policy\":{\"type\":\"object\",\"name\":\"AllLabels\",\"id\":\"p1031\"}}}],\"center\":[{\"type\":\"object\",\"name\":\"Grid\",\"id\":\"p1032\",\"attributes\":{\"axis\":{\"id\":\"p1028\"},\"grid_line_color\":null}},{\"type\":\"object\",\"name\":\"Grid\",\"id\":\"p1037\",\"attributes\":{\"dimension\":1,\"axis\":{\"id\":\"p1033\"},\"grid_line_color\":null}}],\"min_border_top\":10,\"min_border_bottom\":10,\"min_border_left\":10,\"min_border_right\":10,\"output_backend\":\"webgl\"}},{\"type\":\"object\",\"name\":\"Spacer\",\"id\":\"p1063\",\"attributes\":{\"name\":\"HSpacer00951\",\"stylesheets\":[\"\\n:host(.pn-loading):before, .pn-loading:before {\\n  background-color: #c3c3c3;\\n  mask-size: auto calc(min(50%, 400px));\\n  -webkit-mask-size: auto calc(min(50%, 400px));\\n}\",{\"id\":\"p1007\"},{\"id\":\"p1005\"},{\"id\":\"p1006\"}],\"margin\":0,\"sizing_mode\":\"stretch_width\",\"align\":\"start\"}}]}}],\"defs\":[{\"type\":\"model\",\"name\":\"ReactiveHTML1\"},{\"type\":\"model\",\"name\":\"FlexBox1\",\"properties\":[{\"name\":\"align_content\",\"kind\":\"Any\",\"default\":\"flex-start\"},{\"name\":\"align_items\",\"kind\":\"Any\",\"default\":\"flex-start\"},{\"name\":\"flex_direction\",\"kind\":\"Any\",\"default\":\"row\"},{\"name\":\"flex_wrap\",\"kind\":\"Any\",\"default\":\"wrap\"},{\"name\":\"gap\",\"kind\":\"Any\",\"default\":\"\"},{\"name\":\"justify_content\",\"kind\":\"Any\",\"default\":\"flex-start\"}]},{\"type\":\"model\",\"name\":\"FloatPanel1\",\"properties\":[{\"name\":\"config\",\"kind\":\"Any\",\"default\":{\"type\":\"map\"}},{\"name\":\"contained\",\"kind\":\"Any\",\"default\":true},{\"name\":\"position\",\"kind\":\"Any\",\"default\":\"right-top\"},{\"name\":\"offsetx\",\"kind\":\"Any\",\"default\":null},{\"name\":\"offsety\",\"kind\":\"Any\",\"default\":null},{\"name\":\"theme\",\"kind\":\"Any\",\"default\":\"primary\"},{\"name\":\"status\",\"kind\":\"Any\",\"default\":\"normalized\"}]},{\"type\":\"model\",\"name\":\"GridStack1\",\"properties\":[{\"name\":\"mode\",\"kind\":\"Any\",\"default\":\"warn\"},{\"name\":\"ncols\",\"kind\":\"Any\",\"default\":null},{\"name\":\"nrows\",\"kind\":\"Any\",\"default\":null},{\"name\":\"allow_resize\",\"kind\":\"Any\",\"default\":true},{\"name\":\"allow_drag\",\"kind\":\"Any\",\"default\":true},{\"name\":\"state\",\"kind\":\"Any\",\"default\":[]}]},{\"type\":\"model\",\"name\":\"drag1\",\"properties\":[{\"name\":\"slider_width\",\"kind\":\"Any\",\"default\":5},{\"name\":\"slider_color\",\"kind\":\"Any\",\"default\":\"black\"},{\"name\":\"value\",\"kind\":\"Any\",\"default\":50}]},{\"type\":\"model\",\"name\":\"click1\",\"properties\":[{\"name\":\"terminal_output\",\"kind\":\"Any\",\"default\":\"\"},{\"name\":\"debug_name\",\"kind\":\"Any\",\"default\":\"\"},{\"name\":\"clears\",\"kind\":\"Any\",\"default\":0}]},{\"type\":\"model\",\"name\":\"FastWrapper1\",\"properties\":[{\"name\":\"object\",\"kind\":\"Any\",\"default\":null},{\"name\":\"style\",\"kind\":\"Any\",\"default\":null}]},{\"type\":\"model\",\"name\":\"NotificationAreaBase1\",\"properties\":[{\"name\":\"js_events\",\"kind\":\"Any\",\"default\":{\"type\":\"map\"}},{\"name\":\"position\",\"kind\":\"Any\",\"default\":\"bottom-right\"},{\"name\":\"_clear\",\"kind\":\"Any\",\"default\":0}]},{\"type\":\"model\",\"name\":\"NotificationArea1\",\"properties\":[{\"name\":\"js_events\",\"kind\":\"Any\",\"default\":{\"type\":\"map\"}},{\"name\":\"notifications\",\"kind\":\"Any\",\"default\":[]},{\"name\":\"position\",\"kind\":\"Any\",\"default\":\"bottom-right\"},{\"name\":\"_clear\",\"kind\":\"Any\",\"default\":0},{\"name\":\"types\",\"kind\":\"Any\",\"default\":[{\"type\":\"map\",\"entries\":[[\"type\",\"warning\"],[\"background\",\"#ffc107\"],[\"icon\",{\"type\":\"map\",\"entries\":[[\"className\",\"fas fa-exclamation-triangle\"],[\"tagName\",\"i\"],[\"color\",\"white\"]]}]]},{\"type\":\"map\",\"entries\":[[\"type\",\"info\"],[\"background\",\"#007bff\"],[\"icon\",{\"type\":\"map\",\"entries\":[[\"className\",\"fas fa-info-circle\"],[\"tagName\",\"i\"],[\"color\",\"white\"]]}]]}]}]},{\"type\":\"model\",\"name\":\"Notification\",\"properties\":[{\"name\":\"background\",\"kind\":\"Any\",\"default\":null},{\"name\":\"duration\",\"kind\":\"Any\",\"default\":3000},{\"name\":\"icon\",\"kind\":\"Any\",\"default\":null},{\"name\":\"message\",\"kind\":\"Any\",\"default\":\"\"},{\"name\":\"notification_type\",\"kind\":\"Any\",\"default\":null},{\"name\":\"_destroyed\",\"kind\":\"Any\",\"default\":false}]},{\"type\":\"model\",\"name\":\"TemplateActions1\",\"properties\":[{\"name\":\"open_modal\",\"kind\":\"Any\",\"default\":0},{\"name\":\"close_modal\",\"kind\":\"Any\",\"default\":0}]},{\"type\":\"model\",\"name\":\"BootstrapTemplateActions1\",\"properties\":[{\"name\":\"open_modal\",\"kind\":\"Any\",\"default\":0},{\"name\":\"close_modal\",\"kind\":\"Any\",\"default\":0}]},{\"type\":\"model\",\"name\":\"TemplateEditor1\",\"properties\":[{\"name\":\"layout\",\"kind\":\"Any\",\"default\":[]}]},{\"type\":\"model\",\"name\":\"MaterialTemplateActions1\",\"properties\":[{\"name\":\"open_modal\",\"kind\":\"Any\",\"default\":0},{\"name\":\"close_modal\",\"kind\":\"Any\",\"default\":0}]},{\"type\":\"model\",\"name\":\"ReactiveESM1\"},{\"type\":\"model\",\"name\":\"JSComponent1\"},{\"type\":\"model\",\"name\":\"ReactComponent1\"},{\"type\":\"model\",\"name\":\"AnyWidgetComponent1\"},{\"type\":\"model\",\"name\":\"request_value1\",\"properties\":[{\"name\":\"fill\",\"kind\":\"Any\",\"default\":\"none\"},{\"name\":\"_synced\",\"kind\":\"Any\",\"default\":null},{\"name\":\"_request_sync\",\"kind\":\"Any\",\"default\":0}]}]}};\n",
       "  var render_items = [{\"docid\":\"4193fe68-ac0b-4522-8259-2db7b8d8e938\",\"roots\":{\"p1004\":\"c40af2f9-13f9-4f02-9cd7-8da33782f520\"},\"root_ids\":[\"p1004\"]}];\n",
       "  var docs = Object.values(docs_json)\n",
       "  if (!docs) {\n",
       "    return\n",
       "  }\n",
       "  const py_version = docs[0].version.replace('rc', '-rc.').replace('.dev', '-dev.')\n",
       "  async function embed_document(root) {\n",
       "    var Bokeh = get_bokeh(root)\n",
       "    await Bokeh.embed.embed_items_notebook(docs_json, render_items);\n",
       "    for (const render_item of render_items) {\n",
       "      for (const root_id of render_item.root_ids) {\n",
       "\tconst id_el = document.getElementById(root_id)\n",
       "\tif (id_el.children.length && id_el.children[0].hasAttribute('data-root-id')) {\n",
       "\t  const root_el = id_el.children[0]\n",
       "\t  root_el.id = root_el.id + '-rendered'\n",
       "\t  for (const child of root_el.children) {\n",
       "            // Ensure JupyterLab does not capture keyboard shortcuts\n",
       "            // see: https://jupyterlab.readthedocs.io/en/4.1.x/extension/notebook.html#keyboard-interaction-model\n",
       "\t    child.setAttribute('data-lm-suppress-shortcuts', 'true')\n",
       "\t  }\n",
       "\t}\n",
       "      }\n",
       "    }\n",
       "  }\n",
       "  function get_bokeh(root) {\n",
       "    if (root.Bokeh === undefined) {\n",
       "      return null\n",
       "    } else if (root.Bokeh.version !== py_version) {\n",
       "      if (root.Bokeh.versions === undefined || !root.Bokeh.versions.has(py_version)) {\n",
       "\treturn null\n",
       "      }\n",
       "      return root.Bokeh.versions.get(py_version);\n",
       "    } else if (root.Bokeh.version === py_version) {\n",
       "      return root.Bokeh\n",
       "    }\n",
       "    return null\n",
       "  }\n",
       "  function is_loaded(root) {\n",
       "    var Bokeh = get_bokeh(root)\n",
       "    return (Bokeh != null && Bokeh.Panel !== undefined)\n",
       "  }\n",
       "  if (is_loaded(root)) {\n",
       "    embed_document(root);\n",
       "  } else {\n",
       "    var attempts = 0;\n",
       "    var timer = setInterval(function(root) {\n",
       "      if (is_loaded(root)) {\n",
       "        clearInterval(timer);\n",
       "        embed_document(root);\n",
       "      } else if (document.readyState == \"complete\") {\n",
       "        attempts++;\n",
       "        if (attempts > 200) {\n",
       "          clearInterval(timer);\n",
       "\t  var Bokeh = get_bokeh(root)\n",
       "\t  if (Bokeh == null || Bokeh.Panel == null) {\n",
       "            console.warn(\"Panel: ERROR: Unable to run Panel code because Bokeh or Panel library is missing\");\n",
       "\t  } else {\n",
       "\t    console.warn(\"Panel: WARNING: Attempting to render but not all required libraries could be resolved.\")\n",
       "\t    embed_document(root)\n",
       "\t  }\n",
       "        }\n",
       "      }\n",
       "    }, 25, root)\n",
       "  }\n",
       "})(window);</script>"
      ],
      "text/plain": [
       ":Scatter   [id]   (zeroth_mins)"
      ]
     },
     "execution_count": 2,
     "metadata": {
      "application/vnd.holoviews_exec.v0+json": {
       "id": "p1004"
      }
     },
     "output_type": "execute_result"
    }
   ],
   "source": [
    "con.sql(\n",
    "    \"\"\"--sql\n",
    "    select\n",
    "        id,\n",
    "        min(mins) as zeroth_mins\n",
    "    from\n",
    "        dataset_eda.nm_254\n",
    "    group by\n",
    "        id\n",
    "    order by\n",
    "        id, zeroth_mins\n",
    "    \"\"\"\n",
    ").pl().plot.scatter(x='id',y='zeroth_mins', title=\"zeroth 'mins' against 'id'\")\n"
   ]
  },
  {
   "cell_type": "markdown",
   "metadata": {},
   "source": [
    "As we can see, without going into it too deeply, the offset appears essentially random and is to be corrected:\n"
   ]
  },
  {
   "cell_type": "code",
   "execution_count": 6,
   "metadata": {},
   "outputs": [
    {
     "data": {
      "text/html": [
       "<div><style>\n",
       ".dataframe > thead > tr,\n",
       ".dataframe > tbody > tr {\n",
       "  text-align: right;\n",
       "  white-space: pre-wrap;\n",
       "}\n",
       "</style>\n",
       "<small>shape: (1_231_349, 7)</small><table border=\"1\" class=\"dataframe\"><thead><tr><th>mins_corrected</th><th>secs_corrected</th><th>idx</th><th>id</th><th>mins</th><th>wavelength</th><th>absorbance</th></tr><tr><td>f64</td><td>f64</td><td>i64</td><td>str</td><td>f64</td><td>i32</td><td>f64</td></tr></thead><tbody><tr><td>0.0</td><td>0.0</td><td>0</td><td>&quot;037f76ff-8c25-4e43-b5bd-4530e1…</td><td>0.004367</td><td>254</td><td>-0.011832</td></tr><tr><td>0.006667</td><td>0.4</td><td>1</td><td>&quot;037f76ff-8c25-4e43-b5bd-4530e1…</td><td>0.011033</td><td>254</td><td>-0.012062</td></tr><tr><td>0.013333</td><td>0.8</td><td>2</td><td>&quot;037f76ff-8c25-4e43-b5bd-4530e1…</td><td>0.0177</td><td>254</td><td>-0.012055</td></tr><tr><td>0.02</td><td>1.2</td><td>3</td><td>&quot;037f76ff-8c25-4e43-b5bd-4530e1…</td><td>0.024367</td><td>254</td><td>-0.011511</td></tr><tr><td>0.026667</td><td>1.6</td><td>4</td><td>&quot;037f76ff-8c25-4e43-b5bd-4530e1…</td><td>0.031033</td><td>254</td><td>-0.010625</td></tr><tr><td>&hellip;</td><td>&hellip;</td><td>&hellip;</td><td>&hellip;</td><td>&hellip;</td><td>&hellip;</td><td>&hellip;</td></tr><tr><td>39.966667</td><td>2398.0</td><td>5995</td><td>&quot;ff228654-60ac-409b-b5d2-646cfd…</td><td>39.9677</td><td>254</td><td>33.507116</td></tr><tr><td>39.973333</td><td>2398.4</td><td>5996</td><td>&quot;ff228654-60ac-409b-b5d2-646cfd…</td><td>39.974367</td><td>254</td><td>33.180915</td></tr><tr><td>39.98</td><td>2398.8</td><td>5997</td><td>&quot;ff228654-60ac-409b-b5d2-646cfd…</td><td>39.981033</td><td>254</td><td>32.565385</td></tr><tr><td>39.986667</td><td>2399.2</td><td>5998</td><td>&quot;ff228654-60ac-409b-b5d2-646cfd…</td><td>39.9877</td><td>254</td><td>31.754076</td></tr><tr><td>39.993333</td><td>2399.6</td><td>5999</td><td>&quot;ff228654-60ac-409b-b5d2-646cfd…</td><td>39.994367</td><td>254</td><td>31.067312</td></tr></tbody></table></div>"
      ],
      "text/plain": [
       "shape: (1_231_349, 7)\n",
       "┌────────────────┬────────────────┬──────┬───────────────────┬───────────┬────────────┬────────────┐\n",
       "│ mins_corrected ┆ secs_corrected ┆ idx  ┆ id                ┆ mins      ┆ wavelength ┆ absorbance │\n",
       "│ ---            ┆ ---            ┆ ---  ┆ ---               ┆ ---       ┆ ---        ┆ ---        │\n",
       "│ f64            ┆ f64            ┆ i64  ┆ str               ┆ f64       ┆ i32        ┆ f64        │\n",
       "╞════════════════╪════════════════╪══════╪═══════════════════╪═══════════╪════════════╪════════════╡\n",
       "│ 0.0            ┆ 0.0            ┆ 0    ┆ 037f76ff-8c25-4e4 ┆ 0.004367  ┆ 254        ┆ -0.011832  │\n",
       "│                ┆                ┆      ┆ 3-b5bd-4530e1…    ┆           ┆            ┆            │\n",
       "│ 0.006667       ┆ 0.4            ┆ 1    ┆ 037f76ff-8c25-4e4 ┆ 0.011033  ┆ 254        ┆ -0.012062  │\n",
       "│                ┆                ┆      ┆ 3-b5bd-4530e1…    ┆           ┆            ┆            │\n",
       "│ 0.013333       ┆ 0.8            ┆ 2    ┆ 037f76ff-8c25-4e4 ┆ 0.0177    ┆ 254        ┆ -0.012055  │\n",
       "│                ┆                ┆      ┆ 3-b5bd-4530e1…    ┆           ┆            ┆            │\n",
       "│ 0.02           ┆ 1.2            ┆ 3    ┆ 037f76ff-8c25-4e4 ┆ 0.024367  ┆ 254        ┆ -0.011511  │\n",
       "│                ┆                ┆      ┆ 3-b5bd-4530e1…    ┆           ┆            ┆            │\n",
       "│ 0.026667       ┆ 1.6            ┆ 4    ┆ 037f76ff-8c25-4e4 ┆ 0.031033  ┆ 254        ┆ -0.010625  │\n",
       "│                ┆                ┆      ┆ 3-b5bd-4530e1…    ┆           ┆            ┆            │\n",
       "│ …              ┆ …              ┆ …    ┆ …                 ┆ …         ┆ …          ┆ …          │\n",
       "│ 39.966667      ┆ 2398.0         ┆ 5995 ┆ ff228654-60ac-409 ┆ 39.9677   ┆ 254        ┆ 33.507116  │\n",
       "│                ┆                ┆      ┆ b-b5d2-646cfd…    ┆           ┆            ┆            │\n",
       "│ 39.973333      ┆ 2398.4         ┆ 5996 ┆ ff228654-60ac-409 ┆ 39.974367 ┆ 254        ┆ 33.180915  │\n",
       "│                ┆                ┆      ┆ b-b5d2-646cfd…    ┆           ┆            ┆            │\n",
       "│ 39.98          ┆ 2398.8         ┆ 5997 ┆ ff228654-60ac-409 ┆ 39.981033 ┆ 254        ┆ 32.565385  │\n",
       "│                ┆                ┆      ┆ b-b5d2-646cfd…    ┆           ┆            ┆            │\n",
       "│ 39.986667      ┆ 2399.2         ┆ 5998 ┆ ff228654-60ac-409 ┆ 39.9877   ┆ 254        ┆ 31.754076  │\n",
       "│                ┆                ┆      ┆ b-b5d2-646cfd…    ┆           ┆            ┆            │\n",
       "│ 39.993333      ┆ 2399.6         ┆ 5999 ┆ ff228654-60ac-409 ┆ 39.994367 ┆ 254        ┆ 31.067312  │\n",
       "│                ┆                ┆      ┆ b-b5d2-646cfd…    ┆           ┆            ┆            │\n",
       "└────────────────┴────────────────┴──────┴───────────────────┴───────────┴────────────┴────────────┘"
      ]
     },
     "execution_count": 6,
     "metadata": {},
     "output_type": "execute_result"
    }
   ],
   "source": [
    "nm_254 = con.sql(\n",
    "    \"\"\"--sql\n",
    "    SELECT\n",
    "        mins - first(mins) OVER (PARTITION BY id ORDER BY id, idx) as mins_corrected,\n",
    "        mins_corrected * 60 as secs_corrected,\n",
    "        *,\n",
    "    FROM\n",
    "        pbl.chromatogram_spectra_long\n",
    "    WHERE\n",
    "        wavelength = 254\n",
    "    ORDER BY\n",
    "        id,\n",
    "        idx\n",
    "    \"\"\"\n",
    ")\n",
    "\n",
    "nm_254.pl()\n"
   ]
  },
  {
   "cell_type": "markdown",
   "metadata": {},
   "source": [
    "To confirm that the mins has been corrected, correctly, find the first and last value of each sample"
   ]
  },
  {
   "cell_type": "code",
   "execution_count": 7,
   "metadata": {},
   "outputs": [
    {
     "data": {
      "text/html": [
       "<div><style>\n",
       ".dataframe > thead > tr,\n",
       ".dataframe > tbody > tr {\n",
       "  text-align: right;\n",
       "  white-space: pre-wrap;\n",
       "}\n",
       "</style>\n",
       "<small>shape: (0, 3)</small><table border=\"1\" class=\"dataframe\"><thead><tr><th>min_mins_corrected</th><th>min_first_corrected</th><th>test</th></tr><tr><td>f64</td><td>f64</td><td>str</td></tr></thead><tbody></tbody></table></div>"
      ],
      "text/plain": [
       "shape: (0, 3)\n",
       "┌────────────────────┬─────────────────────┬──────┐\n",
       "│ min_mins_corrected ┆ min_first_corrected ┆ test │\n",
       "│ ---                ┆ ---                 ┆ ---  │\n",
       "│ f64                ┆ f64                 ┆ str  │\n",
       "╞════════════════════╪═════════════════════╪══════╡\n",
       "└────────────────────┴─────────────────────┴──────┘"
      ]
     },
     "execution_count": 7,
     "metadata": {},
     "output_type": "execute_result"
    }
   ],
   "source": [
    "con.sql(\n",
    "\"\"\"--sql\n",
    "with min_mins AS (\n",
    "    SELECT\n",
    "        min(mins_corrected) OVER (PARTITION BY id ORDER BY id, mins) min_mins_corrected,\n",
    "        first(mins_corrected) OVER (PARTITION BY id ORDER BY id, mins) min_first_corrected,\n",
    "        \n",
    "    FROM\n",
    "        nm_254\n",
    "),\n",
    "test_min_mins AS (\n",
    "    SELECT\n",
    "        *,\n",
    "        CASE WHEN min_mins_corrected = min_first_corrected THEN 'pass' WHEN min_mins_corrected != 0 THEN 'fail' ELSE 'fail' END AS test\n",
    "    FROM\n",
    "        min_mins\n",
    "\n",
    "    )\n",
    "SELECT\n",
    "    *\n",
    "FROM\n",
    "    test_min_mins\n",
    "WHERE\n",
    "    test = 'fail'\n",
    "\"\"\"\n",
    ").pl()\n"
   ]
  },
  {
   "cell_type": "markdown",
   "metadata": {},
   "source": [
    "In every sample, the first \"mins\" is the minimum, in this case, zero."
   ]
  },
  {
   "cell_type": "markdown",
   "metadata": {},
   "source": [
    "# Add corrected columns to nm_254\n",
    "\n",
    "As the corrected mins col passes the test above, we can safely add 'mins_corrected' mins and 'secs_corrected' columns to 'nm_254'.\n"
   ]
  },
  {
   "cell_type": "code",
   "execution_count": 8,
   "metadata": {},
   "outputs": [
    {
     "data": {
      "text/html": [
       "<div><style>\n",
       ".dataframe > thead > tr,\n",
       ".dataframe > tbody > tr {\n",
       "  text-align: right;\n",
       "  white-space: pre-wrap;\n",
       "}\n",
       "</style>\n",
       "<small>shape: (8, 6)</small><table border=\"1\" class=\"dataframe\"><thead><tr><th>column_name</th><th>column_type</th><th>null</th><th>key</th><th>default</th><th>extra</th></tr><tr><td>str</td><td>str</td><td>str</td><td>str</td><td>str</td><td>str</td></tr></thead><tbody><tr><td>&quot;sample_num&quot;</td><td>&quot;BIGINT&quot;</td><td>&quot;YES&quot;</td><td>null</td><td>null</td><td>null</td></tr><tr><td>&quot;idx&quot;</td><td>&quot;BIGINT&quot;</td><td>&quot;YES&quot;</td><td>null</td><td>null</td><td>null</td></tr><tr><td>&quot;id&quot;</td><td>&quot;VARCHAR&quot;</td><td>&quot;YES&quot;</td><td>null</td><td>null</td><td>null</td></tr><tr><td>&quot;mins&quot;</td><td>&quot;DOUBLE&quot;</td><td>&quot;YES&quot;</td><td>null</td><td>null</td><td>null</td></tr><tr><td>&quot;wavelength&quot;</td><td>&quot;INTEGER&quot;</td><td>&quot;YES&quot;</td><td>null</td><td>null</td><td>null</td></tr><tr><td>&quot;absorbance&quot;</td><td>&quot;DOUBLE&quot;</td><td>&quot;YES&quot;</td><td>null</td><td>null</td><td>null</td></tr><tr><td>&quot;mins_corrected&quot;</td><td>&quot;DOUBLE&quot;</td><td>&quot;YES&quot;</td><td>null</td><td>null</td><td>null</td></tr><tr><td>&quot;secs_corrected&quot;</td><td>&quot;DOUBLE&quot;</td><td>&quot;YES&quot;</td><td>null</td><td>null</td><td>null</td></tr></tbody></table></div>"
      ],
      "text/plain": [
       "shape: (8, 6)\n",
       "┌────────────────┬─────────────┬──────┬──────┬─────────┬───────┐\n",
       "│ column_name    ┆ column_type ┆ null ┆ key  ┆ default ┆ extra │\n",
       "│ ---            ┆ ---         ┆ ---  ┆ ---  ┆ ---     ┆ ---   │\n",
       "│ str            ┆ str         ┆ str  ┆ str  ┆ str     ┆ str   │\n",
       "╞════════════════╪═════════════╪══════╪══════╪═════════╪═══════╡\n",
       "│ sample_num     ┆ BIGINT      ┆ YES  ┆ null ┆ null    ┆ null  │\n",
       "│ idx            ┆ BIGINT      ┆ YES  ┆ null ┆ null    ┆ null  │\n",
       "│ id             ┆ VARCHAR     ┆ YES  ┆ null ┆ null    ┆ null  │\n",
       "│ mins           ┆ DOUBLE      ┆ YES  ┆ null ┆ null    ┆ null  │\n",
       "│ wavelength     ┆ INTEGER     ┆ YES  ┆ null ┆ null    ┆ null  │\n",
       "│ absorbance     ┆ DOUBLE      ┆ YES  ┆ null ┆ null    ┆ null  │\n",
       "│ mins_corrected ┆ DOUBLE      ┆ YES  ┆ null ┆ null    ┆ null  │\n",
       "│ secs_corrected ┆ DOUBLE      ┆ YES  ┆ null ┆ null    ┆ null  │\n",
       "└────────────────┴─────────────┴──────┴──────┴─────────┴───────┘"
      ]
     },
     "execution_count": 8,
     "metadata": {},
     "output_type": "execute_result"
    }
   ],
   "source": [
    "con.sql(\"\"\"--sql\n",
    "DESCRIBE dataset_eda.nm_254\n",
    "\"\"\").pl()\n"
   ]
  },
  {
   "cell_type": "code",
   "execution_count": 43,
   "metadata": {},
   "outputs": [
    {
     "data": {
      "text/html": [
       "<div><style>\n",
       ".dataframe > thead > tr,\n",
       ".dataframe > tbody > tr {\n",
       "  text-align: right;\n",
       "  white-space: pre-wrap;\n",
       "}\n",
       "</style>\n",
       "<small>shape: (5, 10)</small><table border=\"1\" class=\"dataframe\"><thead><tr><th>sample_num</th><th>idx</th><th>id</th><th>mins</th><th>wavelength</th><th>absorbance</th><th>first_min</th><th>mins_corrected</th><th>secs_corrected</th><th>hz</th></tr><tr><td>i64</td><td>i64</td><td>str</td><td>f64</td><td>i32</td><td>f64</td><td>f64</td><td>f64</td><td>f64</td><td>f64</td></tr></thead><tbody><tr><td>76</td><td>0</td><td>&quot;037f76ff-8c25-4e43-b5bd-4530e1…</td><td>0.004367</td><td>254</td><td>-0.011832</td><td>0.004367</td><td>0.0</td><td>0.0</td><td>null</td></tr><tr><td>76</td><td>1</td><td>&quot;037f76ff-8c25-4e43-b5bd-4530e1…</td><td>0.011033</td><td>254</td><td>-0.012062</td><td>0.004367</td><td>0.006667</td><td>0.4</td><td>2.5</td></tr><tr><td>76</td><td>2</td><td>&quot;037f76ff-8c25-4e43-b5bd-4530e1…</td><td>0.0177</td><td>254</td><td>-0.012055</td><td>0.004367</td><td>0.013333</td><td>0.8</td><td>1.25</td></tr><tr><td>76</td><td>3</td><td>&quot;037f76ff-8c25-4e43-b5bd-4530e1…</td><td>0.024367</td><td>254</td><td>-0.011511</td><td>0.004367</td><td>0.02</td><td>1.2</td><td>0.833333</td></tr><tr><td>76</td><td>4</td><td>&quot;037f76ff-8c25-4e43-b5bd-4530e1…</td><td>0.031033</td><td>254</td><td>-0.010625</td><td>0.004367</td><td>0.026667</td><td>1.6</td><td>0.625</td></tr></tbody></table></div>"
      ],
      "text/plain": [
       "shape: (5, 10)\n",
       "┌────────────┬─────┬─────────────┬──────────┬───┬───────────┬─────────────┬─────────────┬──────────┐\n",
       "│ sample_num ┆ idx ┆ id          ┆ mins     ┆ … ┆ first_min ┆ mins_correc ┆ secs_correc ┆ hz       │\n",
       "│ ---        ┆ --- ┆ ---         ┆ ---      ┆   ┆ ---       ┆ ted         ┆ ted         ┆ ---      │\n",
       "│ i64        ┆ i64 ┆ str         ┆ f64      ┆   ┆ f64       ┆ ---         ┆ ---         ┆ f64      │\n",
       "│            ┆     ┆             ┆          ┆   ┆           ┆ f64         ┆ f64         ┆          │\n",
       "╞════════════╪═════╪═════════════╪══════════╪═══╪═══════════╪═════════════╪═════════════╪══════════╡\n",
       "│ 76         ┆ 0   ┆ 037f76ff-8c ┆ 0.004367 ┆ … ┆ 0.004367  ┆ 0.0         ┆ 0.0         ┆ null     │\n",
       "│            ┆     ┆ 25-4e43-b5b ┆          ┆   ┆           ┆             ┆             ┆          │\n",
       "│            ┆     ┆ d-4530e1…   ┆          ┆   ┆           ┆             ┆             ┆          │\n",
       "│ 76         ┆ 1   ┆ 037f76ff-8c ┆ 0.011033 ┆ … ┆ 0.004367  ┆ 0.006667    ┆ 0.4         ┆ 2.5      │\n",
       "│            ┆     ┆ 25-4e43-b5b ┆          ┆   ┆           ┆             ┆             ┆          │\n",
       "│            ┆     ┆ d-4530e1…   ┆          ┆   ┆           ┆             ┆             ┆          │\n",
       "│ 76         ┆ 2   ┆ 037f76ff-8c ┆ 0.0177   ┆ … ┆ 0.004367  ┆ 0.013333    ┆ 0.8         ┆ 1.25     │\n",
       "│            ┆     ┆ 25-4e43-b5b ┆          ┆   ┆           ┆             ┆             ┆          │\n",
       "│            ┆     ┆ d-4530e1…   ┆          ┆   ┆           ┆             ┆             ┆          │\n",
       "│ 76         ┆ 3   ┆ 037f76ff-8c ┆ 0.024367 ┆ … ┆ 0.004367  ┆ 0.02        ┆ 1.2         ┆ 0.833333 │\n",
       "│            ┆     ┆ 25-4e43-b5b ┆          ┆   ┆           ┆             ┆             ┆          │\n",
       "│            ┆     ┆ d-4530e1…   ┆          ┆   ┆           ┆             ┆             ┆          │\n",
       "│ 76         ┆ 4   ┆ 037f76ff-8c ┆ 0.031033 ┆ … ┆ 0.004367  ┆ 0.026667    ┆ 1.6         ┆ 0.625    │\n",
       "│            ┆     ┆ 25-4e43-b5b ┆          ┆   ┆           ┆             ┆             ┆          │\n",
       "│            ┆     ┆ d-4530e1…   ┆          ┆   ┆           ┆             ┆             ┆          │\n",
       "└────────────┴─────┴─────────────┴──────────┴───┴───────────┴─────────────┴─────────────┴──────────┘"
      ]
     },
     "metadata": {},
     "output_type": "display_data"
    }
   ],
   "source": [
    "con.close()\n",
    "\n",
    "with db.connect(db_path) as con:\n",
    "\n",
    "    display(con.sql(\"\"\"--sql\n",
    "    CREATE OR REPLACE TABLE dataset_eda.nm_254 AS \n",
    "    SELECT\n",
    "        *,\n",
    "        first(mins) OVER (PARTITION BY id ORDER BY id, idx) as first_min,\n",
    "        mins - first_min as mins_corrected,\n",
    "        mins_corrected * 60 as secs_corrected,\n",
    "        1/secs_corrected as hz,\n",
    "    FROM\n",
    "        dataset_eda.nm_254\n",
    "    ORDER BY\n",
    "        id, idx\n",
    "                    ;\n",
    "    SELECT * FROM dataset_eda.nm_254 LIMIT 10;\n",
    "    \"\"\").pl().head())\n"
   ]
  },
  {
   "cell_type": "markdown",
   "metadata": {},
   "source": [
    "and verify within the database.."
   ]
  },
  {
   "cell_type": "code",
   "execution_count": 11,
   "metadata": {},
   "outputs": [
    {
     "data": {
      "text/html": [
       "<div><style>\n",
       ".dataframe > thead > tr,\n",
       ".dataframe > tbody > tr {\n",
       "  text-align: right;\n",
       "  white-space: pre-wrap;\n",
       "}\n",
       "</style>\n",
       "<small>shape: (0, 3)</small><table border=\"1\" class=\"dataframe\"><thead><tr><th>min_mins_corrected</th><th>min_first_corrected</th><th>test</th></tr><tr><td>f64</td><td>f64</td><td>str</td></tr></thead><tbody></tbody></table></div>"
      ],
      "text/plain": [
       "shape: (0, 3)\n",
       "┌────────────────────┬─────────────────────┬──────┐\n",
       "│ min_mins_corrected ┆ min_first_corrected ┆ test │\n",
       "│ ---                ┆ ---                 ┆ ---  │\n",
       "│ f64                ┆ f64                 ┆ str  │\n",
       "╞════════════════════╪═════════════════════╪══════╡\n",
       "└────────────────────┴─────────────────────┴──────┘"
      ]
     },
     "execution_count": 11,
     "metadata": {},
     "output_type": "execute_result"
    }
   ],
   "source": [
    "con.sql(\n",
    "\"\"\"--sql\n",
    "with min_mins AS (\n",
    "    SELECT\n",
    "        min(mins_corrected) OVER (PARTITION BY id ORDER BY id, idx) min_mins_corrected,\n",
    "        first(mins_corrected) OVER (PARTITION BY id ORDER BY id, idx) min_first_corrected,\n",
    "        \n",
    "    FROM\n",
    "        dataset_eda.nm_254\n",
    "),\n",
    "test_min_mins AS (\n",
    "    SELECT\n",
    "        *,\n",
    "        (CASE\n",
    "            WHEN\n",
    "                min_mins_corrected = min_first_corrected\n",
    "            THEN\n",
    "                'pass'\n",
    "            WHEN\n",
    "                min_mins_corrected != 0\n",
    "            THEN\n",
    "                'fail'\n",
    "            ELSE\n",
    "                'fail'\n",
    "            END)\n",
    "            AS test\n",
    "    FROM\n",
    "        min_mins\n",
    "\n",
    "    )\n",
    "SELECT\n",
    "    *\n",
    "FROM\n",
    "    test_min_mins\n",
    "WHERE\n",
    "    test = 'fail'\n",
    "\"\"\"\n",
    ").pl()\n"
   ]
  },
  {
   "cell_type": "markdown",
   "metadata": {},
   "source": [
    "still passed! well done. Remember, this will have to be executed after [dataset_EDA](/Users/jonathan/mres_thesis/pca_analysis/pca_analysis/experiments/notebooks/experiments/dataset_description_wavelength_time.ipynb)\n"
   ]
  }
 ],
 "metadata": {
  "kernelspec": {
   "display_name": "pca-analysis-6KQS4gUX-py3.12",
   "language": "python",
   "name": "python3"
  },
  "language_info": {
   "codemirror_mode": {
    "name": "ipython",
    "version": 3
   },
   "file_extension": ".py",
   "mimetype": "text/x-python",
   "name": "python",
   "nbconvert_exporter": "python",
   "pygments_lexer": "ipython3",
   "version": "3.12.2"
  }
 },
 "nbformat": 4,
 "nbformat_minor": 2
}
