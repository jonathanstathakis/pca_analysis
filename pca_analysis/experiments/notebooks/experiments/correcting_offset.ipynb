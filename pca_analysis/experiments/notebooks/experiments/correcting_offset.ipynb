{
 "cells": [
  {
   "cell_type": "markdown",
   "metadata": {},
   "source": [
    "---\n",
    "title: Correcting Offset\n",
    "cdt: 2024-09-06T15:55:14\n",
    "description: \"Correct the time offset and express as secs for sample 254.\"\n",
    "project: dataset_EDA\n",
    "execution_order: '001'\n",
    "---"
   ]
  },
  {
   "cell_type": "markdown",
   "metadata": {},
   "source": [
    "# Summary\n",
    "\n",
    "- correcting offset\n",
    "  - the vast majority of samples possess a zeroth value time offset that can be corrected by subtracting the zeroth element from the time column ('mins') element-wise.\n"
   ]
  },
  {
   "cell_type": "markdown",
   "metadata": {},
   "source": [
    "# Conclusion\n",
    " \n",
    "'mins_corrected', and 'secs_corrected' written to table 'dataset_eda.nm_254'."
   ]
  },
  {
   "cell_type": "markdown",
   "metadata": {},
   "source": [
    "The time offset is the zeroth value. We can correct for it by subtracting it element-wise from the 'mins' column."
   ]
  },
  {
   "cell_type": "code",
   "execution_count": null,
   "metadata": {},
   "outputs": [],
   "source": [
    "import duckdb as db\n",
    "import polars as pl\n",
    "\n",
    "db_path = \"/Users/jonathan/mres_thesis/wine_analysis_hplc_uv/wines.db\"\n",
    "\n",
    "con = db.connect(db_path)\n"
   ]
  },
  {
   "cell_type": "code",
   "execution_count": null,
   "metadata": {},
   "outputs": [],
   "source": [
    "con.sql(\"corcondia_2024-08-29.ipynb\")\n"
   ]
  },
  {
   "cell_type": "code",
   "execution_count": null,
   "metadata": {},
   "outputs": [],
   "source": [
    "con.sql(\n",
    "    \"\"\"\n",
    "    select\n",
    "        id,\n",
    "        min(mins) as zeroth_mins\n",
    "    from\n",
    "        dataset_eda.nm_254\n",
    "    group by\n",
    "        id\n",
    "    order by\n",
    "        id, zeroth_mins\n",
    "    \"\"\"\n",
    ").pl().plot.scatter(x='id',y='zeroth_mins', title=\"zeroth 'mins' against 'id'\")\n"
   ]
  },
  {
   "cell_type": "markdown",
   "metadata": {},
   "source": [
    "As we can see, without going into it too deeply, the offset appears essentially random and is to be corrected:\n"
   ]
  },
  {
   "cell_type": "code",
   "execution_count": null,
   "metadata": {},
   "outputs": [],
   "source": [
    "nm_254 = con.sql(\n",
    "    \"\"\"--sql\n",
    "    SELECT\n",
    "        \n",
    "        mins - first(mins) OVER (PARTITION BY id ORDER BY id, idx) as mins_corrected,\n",
    "        *\n",
    "    FROM\n",
    "        pbl.chromatogram_spectra_long\n",
    "    WHERE\n",
    "        wavelength = 254\n",
    "    ORDER BY\n",
    "        id,\n",
    "        idx\n",
    "    \"\"\"\n",
    ")\n",
    "\n",
    "nm_254.pl()\n"
   ]
  },
  {
   "cell_type": "code",
   "execution_count": null,
   "metadata": {},
   "outputs": [],
   "source": [
    "nm_254 = con.sql(\n",
    "    \"\"\"--sql\n",
    "    SELECT\n",
    "        *,\n",
    "        mins_corrected * 60 as secs_corrected\n",
    "    FROM\n",
    "        nm_254\n",
    "    ORDER BY\n",
    "        id,\n",
    "        mins_corrected\n",
    "    \"\"\"\n",
    "\n",
    ")\n",
    "\n",
    "nm_254.pl()\n"
   ]
  },
  {
   "cell_type": "markdown",
   "metadata": {},
   "source": [
    "To confirm that the mins has been corrected, correctly, find the first and last value of each sample"
   ]
  },
  {
   "cell_type": "code",
   "execution_count": null,
   "metadata": {},
   "outputs": [],
   "source": [
    "con.sql(\n",
    "\"\"\"--sql\n",
    "with min_mins AS (\n",
    "    SELECT\n",
    "        min(mins_corrected) OVER (PARTITION BY id ORDER BY id, mins) min_mins_corrected,\n",
    "        first(mins_corrected) OVER (PARTITION BY id ORDER BY id, mins) min_first_corrected,\n",
    "        \n",
    "    FROM\n",
    "        nm_254\n",
    "),\n",
    "test_min_mins AS (\n",
    "    SELECT\n",
    "        *,\n",
    "        CASE WHEN min_mins_corrected = min_first_corrected THEN 'pass' WHEN min_mins_corrected != 0 THEN 'fail' ELSE 'fail' END AS test\n",
    "    FROM\n",
    "        min_mins\n",
    "\n",
    "    )\n",
    "SELECT\n",
    "    *\n",
    "FROM\n",
    "    test_min_mins\n",
    "WHERE\n",
    "    test = 'fail'\n",
    "\"\"\"\n",
    ").pl()\n"
   ]
  },
  {
   "cell_type": "markdown",
   "metadata": {},
   "source": [
    "In every sample, the first \"mins\" is the minimum, in this case, zero."
   ]
  },
  {
   "cell_type": "markdown",
   "metadata": {},
   "source": [
    "# Add corrected columns to nm_254\n",
    "\n",
    "As the corrected mins col passes the test above, we can safely add 'mins_corrected' mins and 'secs_corrected' columns to 'nm_254'.\n"
   ]
  },
  {
   "cell_type": "code",
   "execution_count": null,
   "metadata": {},
   "outputs": [],
   "source": [
    "con.sql(\"\"\"--sql\n",
    "DESCRIBE dataset_eda.nm_254\n",
    "\"\"\").pl()\n"
   ]
  },
  {
   "cell_type": "code",
   "execution_count": null,
   "metadata": {},
   "outputs": [],
   "source": [
    "display(con.sql(\"\"\"--sql\n",
    "--BEGIN TRANSACTION;\n",
    "-- mins corrected\n",
    "ALTER TABLE\n",
    "    dataset_eda.nm_254\n",
    "ADD COLUMN IF NOT ExISTS\n",
    "    mins_corrected DOUBLE;\n",
    "UPDATE  dataset_eda.nm_254\n",
    "SET mins_corrected = (\n",
    "        SELECT\n",
    "            mins - first(mins) OVER (PARTITION BY id ORDER BY id, idx) as mins_corrected\n",
    "        FROM\n",
    "            dataset_eda.nm_254\n",
    "    );\n",
    "\n",
    "-- secs corrected\n",
    "ALTER TABLE\n",
    "    dataset_eda.nm_254\n",
    "ADD COLUMN IF NOT EXISTS\n",
    "    secs_corrected DOUBLE;\n",
    "UPDATE\n",
    "    dataset_eda.nm_254\n",
    "SET secs_corrected = (\n",
    "        SELECT\n",
    "            mins_corrected / 60 as secs_corrected\n",
    "        FROM\n",
    "            dataset_eda.nm_254\n",
    "    );\n",
    "                \n",
    "-- observe results\n",
    "SELECT\n",
    "    *\n",
    "FROM\n",
    "    dataset_eda.nm_254\n",
    "\"\"\").pl().head())\n",
    "\n",
    "\n",
    "\n",
    "# con.sql(\"\"\"--sql\n",
    "#         ROLLBACK\n",
    "# \"\"\")\n"
   ]
  },
  {
   "cell_type": "markdown",
   "metadata": {},
   "source": [
    "and verify within the database.."
   ]
  },
  {
   "cell_type": "code",
   "execution_count": null,
   "metadata": {},
   "outputs": [],
   "source": [
    "con.sql(\n",
    "\"\"\"--sql\n",
    "with min_mins AS (\n",
    "    SELECT\n",
    "        min(mins_corrected) OVER (PARTITION BY id ORDER BY id, mins) min_mins_corrected,\n",
    "        first(mins_corrected) OVER (PARTITION BY id ORDER BY id, mins) min_first_corrected,\n",
    "        \n",
    "    FROM\n",
    "        dataset_eda.nm_254\n",
    "),\n",
    "test_min_mins AS (\n",
    "    SELECT\n",
    "        *,\n",
    "        (CASE\n",
    "            WHEN\n",
    "                min_mins_corrected = min_first_corrected\n",
    "            THEN\n",
    "                'pass'\n",
    "            WHEN\n",
    "                min_mins_corrected != 0\n",
    "            THEN\n",
    "                'fail'\n",
    "            ELSE\n",
    "                'fail'\n",
    "            END)\n",
    "            AS test\n",
    "    FROM\n",
    "        min_mins\n",
    "\n",
    "    )\n",
    "SELECT\n",
    "    *\n",
    "FROM\n",
    "    test_min_mins\n",
    "WHERE\n",
    "    test = 'fail'\n",
    "\"\"\"\n",
    ").pl()\n"
   ]
  },
  {
   "cell_type": "markdown",
   "metadata": {},
   "source": [
    "still passed! well done. Remember, this will have to be executed after [dataset_EDA](/Users/jonathan/mres_thesis/pca_analysis/pca_analysis/experiments/notebooks/experiments/dataset_description_wavelength_time.ipynb)\n"
   ]
  }
 ],
 "metadata": {
  "kernelspec": {
   "display_name": "pca-analysis-6KQS4gUX-py3.12",
   "language": "python",
   "name": "python3"
  },
  "language_info": {
   "codemirror_mode": {
    "name": "ipython",
    "version": 3
   },
   "file_extension": ".py",
   "mimetype": "text/x-python",
   "name": "python",
   "nbconvert_exporter": "python",
   "pygments_lexer": "ipython3",
   "version": "3.12.2"
  }
 },
 "nbformat": 4,
 "nbformat_minor": 2
}
