{
 "cells": [
  {
   "cell_type": "markdown",
   "metadata": {},
   "source": [
    "---\n",
    "cdt: 2024-09-10T16:27:00\n",
    "title: Creating the 'clean' Schema and Primary Keys\n",
    "description: Introduces the 'clean' schema and provides the code necessary for its creation from the source tables. A defining characteristic is the presence of 'pk' primary keys in each table\n",
    "project: dataset_EDA\n",
    "---"
   ]
  },
  {
   "cell_type": "code",
   "execution_count": 2,
   "metadata": {},
   "outputs": [],
   "source": [
    "%reload_ext autoreload\n",
    "%autoreload 2\n",
    "import duckdb as db\n",
    "import polars as pl\n",
    "from pca_analysis.experiments.constants import db_path\n",
    "from great_tables import GT\n",
    "pl.Config.set_tbl_rows(999).set_tbl_width_chars(2000).set_fmt_str_lengths(99999)\n",
    "\n",
    "con = db.connect(db_path)\n"
   ]
  },
  {
   "cell_type": "markdown",
   "metadata": {},
   "source": [
    "[Medallion Architecture](https://www.databricks.com/glossary/medallion-architecture) describes a tiered database structure from the raw, dirty, messy input data to cleaned, organised and human readable outputs. From this point of view, our data is still very much in the lower stages. In order to begin organising the data in a more cohesive manner, each table needs a contextless primary key. The addition of the primary key column ('pk') to each of the 'c_chemstation_metadata', 'c_sample_tracker' and 'c_cellar_tracker' will begin this second-stage cleaning process, and the new tables will be added to a newly created 'clean' schema. The advantage of the distinction is that it a: saves on namespace, and b. protects the source data tables from incorrect edits.\n",
    "\n",
    "To produce the primary keys we identify columns that can be used as unique identifiers, then use `dense_rank()` over them to produce a unique, monotonically increasing key column. This was done for each table. See below for details.\n"
   ]
  },
  {
   "cell_type": "markdown",
   "metadata": {},
   "source": [
    "# Create 'clean' Schema\n",
    "\n",
    "Schemas need to be explicitly created before tables can be added to them."
   ]
  },
  {
   "cell_type": "code",
   "execution_count": 4,
   "metadata": {},
   "outputs": [],
   "source": [
    "con.sql(\n",
    "\"\"\"--sql\n",
    "CREATE SCHEMA IF NOT EXISTS clean;\n",
    "\"\"\")\n"
   ]
  },
  {
   "cell_type": "markdown",
   "metadata": {},
   "source": [
    "# Adding Primary Keys and Creating 'clean.' Tables\n",
    "\n"
   ]
  },
  {
   "cell_type": "markdown",
   "metadata": {},
   "source": [
    "## Sample Tracker\n"
   ]
  },
  {
   "cell_type": "markdown",
   "metadata": {},
   "source": [
    "### Observing 'samplecode' as a Primary Key\n"
   ]
  },
  {
   "cell_type": "markdown",
   "metadata": {},
   "source": [
    "is ch_samplecode the primary key of sample tracker? If it is, there should be an equal number of distinct values as there are rows of the table."
   ]
  },
  {
   "cell_type": "code",
   "execution_count": null,
   "metadata": {},
   "outputs": [
    {
     "data": {
      "text/html": [
       "<div><style>\n",
       ".dataframe > thead > tr,\n",
       ".dataframe > tbody > tr {\n",
       "  text-align: right;\n",
       "  white-space: pre-wrap;\n",
       "}\n",
       "</style>\n",
       "<small>shape: (0, 2)</small><table border=\"1\" class=\"dataframe\"><thead><tr><th>samplecode</th><th>count</th></tr><tr><td>str</td><td>i64</td></tr></thead><tbody></tbody></table></div>"
      ],
      "text/plain": [
       "shape: (0, 2)\n",
       "┌────────────┬───────┐\n",
       "│ samplecode ┆ count │\n",
       "│ ---        ┆ ---   │\n",
       "│ str        ┆ i64   │\n",
       "╞════════════╪═══════╡\n",
       "└────────────┴───────┘"
      ]
     },
     "metadata": {},
     "output_type": "display_data"
    }
   ],
   "source": [
    "con.sql(\n",
    "\"\"\"--sql\n",
    "SELECT\n",
    "    samplecode,\n",
    "    count(*) as count\n",
    "FROM\n",
    "    c_sample_tracker\n",
    "GROUP BY\n",
    "    samplecode\n",
    "HAVING\n",
    "    count > 1\n",
    "\"\"\"\n",
    ").pl()\n"
   ]
  },
  {
   "cell_type": "markdown",
   "metadata": {},
   "source": [
    "yes. However lets add a new 'pk' column based on it. This can be achieved by densely ranking the 'samplecode' column:"
   ]
  },
  {
   "cell_type": "code",
   "execution_count": null,
   "metadata": {},
   "outputs": [],
   "source": [
    "con.sql(\n",
    "\"\"\"--sql\n",
    "\n",
    "\"\"\"\n",
    ")\n"
   ]
  },
  {
   "cell_type": "markdown",
   "metadata": {},
   "source": [
    "Now I have to recreate the table.\n"
   ]
  },
  {
   "cell_type": "markdown",
   "metadata": {},
   "source": [
    "Now I have to create the clean schema table:\n"
   ]
  },
  {
   "cell_type": "code",
   "execution_count": null,
   "metadata": {},
   "outputs": [
    {
     "data": {
      "text/plain": [
       "['detection',\n",
       " 'sampler',\n",
       " 'samplecode',\n",
       " 'vintage',\n",
       " 'name',\n",
       " 'open_date',\n",
       " 'sampled_date',\n",
       " 'added_to_cellartracker',\n",
       " 'notes',\n",
       " 'size',\n",
       " 'ct_wine_name',\n",
       " 'pk']"
      ]
     },
     "metadata": {},
     "output_type": "display_data"
    }
   ],
   "source": [
    "con.sql(\n",
    "\"\"\"--sql\n",
    "SELECT * FROM st LIMIT 1\n",
    "\"\"\"\n",
    ").pl().columns\n"
   ]
  },
  {
   "cell_type": "code",
   "execution_count": null,
   "metadata": {},
   "outputs": [
    {
     "data": {
      "text/html": [
       "<div><style>\n",
       ".dataframe > thead > tr,\n",
       ".dataframe > tbody > tr {\n",
       "  text-align: right;\n",
       "  white-space: pre-wrap;\n",
       "}\n",
       "</style>\n",
       "<small>shape: (3, 12)</small><table border=\"1\" class=\"dataframe\"><thead><tr><th>detection</th><th>sampler</th><th>samplecode</th><th>vintage</th><th>name</th><th>open_date</th><th>sampled_date</th><th>added_to_cellartracker</th><th>notes</th><th>size</th><th>ct_wine_name</th><th>pk</th></tr><tr><td>str</td><td>str</td><td>str</td><td>str</td><td>str</td><td>str</td><td>str</td><td>str</td><td>str</td><td>str</td><td>str</td><td>i32</td></tr></thead><tbody><tr><td>&quot;raw&quot;</td><td>&quot;jonathan&quot;</td><td>&quot;00&quot;</td><td>&quot;2016&quot;</td><td>&quot;zema estate &#x27;family selection&#x27; cabernet sauvignon&quot;</td><td>null</td><td>null</td><td>&quot;y&quot;</td><td>&quot;freezer storage. sampled at 21:20 20230122, stored for 10h before transport to lab.&quot;</td><td>&quot;750&quot;</td><td>&quot;2016 zema estate cabernet sauvignon family selection&quot;</td><td>1</td></tr><tr><td>&quot;raw&quot;</td><td>&quot;jonathan&quot;</td><td>&quot;01&quot;</td><td>&quot;2022&quot;</td><td>&quot;william downie &#x27;cathedral&#x27; pinot noir&quot;</td><td>null</td><td>null</td><td>&quot;y&quot;</td><td>&quot;ambient 2 weeks. sampled 20230111.&quot;</td><td>&quot;750&quot;</td><td>&quot;2022 william downie cathedral&quot;</td><td>2</td></tr><tr><td>&quot;raw&quot;</td><td>&quot;jonathan&quot;</td><td>&quot;02&quot;</td><td>&quot;2021&quot;</td><td>&quot;babo chianti&quot;</td><td>null</td><td>null</td><td>&quot;y&quot;</td><td>&quot;ambient 2 weeks. sampled 20230111.&quot;</td><td>&quot;750&quot;</td><td>&quot;2021 babo chianti&quot;</td><td>3</td></tr></tbody></table></div>"
      ],
      "text/plain": [
       "shape: (3, 12)\n",
       "┌───────────┬──────────┬────────────┬─────────┬───┬─────────────────────────────────────────────────────────────────────────────────────┬──────┬──────────────────────────────────────────────────────┬─────┐\n",
       "│ detection ┆ sampler  ┆ samplecode ┆ vintage ┆ … ┆ notes                                                                               ┆ size ┆ ct_wine_name                                         ┆ pk  │\n",
       "│ ---       ┆ ---      ┆ ---        ┆ ---     ┆   ┆ ---                                                                                 ┆ ---  ┆ ---                                                  ┆ --- │\n",
       "│ str       ┆ str      ┆ str        ┆ str     ┆   ┆ str                                                                                 ┆ str  ┆ str                                                  ┆ i32 │\n",
       "╞═══════════╪══════════╪════════════╪═════════╪═══╪═════════════════════════════════════════════════════════════════════════════════════╪══════╪══════════════════════════════════════════════════════╪═════╡\n",
       "│ raw       ┆ jonathan ┆ 00         ┆ 2016    ┆ … ┆ freezer storage. sampled at 21:20 20230122, stored for 10h before transport to lab. ┆ 750  ┆ 2016 zema estate cabernet sauvignon family selection ┆ 1   │\n",
       "│ raw       ┆ jonathan ┆ 01         ┆ 2022    ┆ … ┆ ambient 2 weeks. sampled 20230111.                                                  ┆ 750  ┆ 2022 william downie cathedral                        ┆ 2   │\n",
       "│ raw       ┆ jonathan ┆ 02         ┆ 2021    ┆ … ┆ ambient 2 weeks. sampled 20230111.                                                  ┆ 750  ┆ 2021 babo chianti                                    ┆ 3   │\n",
       "└───────────┴──────────┴────────────┴─────────┴───┴─────────────────────────────────────────────────────────────────────────────────────┴──────┴──────────────────────────────────────────────────────┴─────┘"
      ]
     },
     "metadata": {},
     "output_type": "display_data"
    }
   ],
   "source": [
    "con.sql(\n",
    "\"\"\"--sql\n",
    "-- create a intermediate table with the primary key to avoid editing the source\n",
    "CREATE TEMP TABLE st AS\n",
    "    SELECT\n",
    "        *,\n",
    "        rank_dense() OVER (order by samplecode) as pk\n",
    "    FROM\n",
    "        c_sample_tracker;\n",
    "\n",
    "-- create the destination table with the primary key column constraint\n",
    "CREATE OR REPLACE TABLE clean.st (\n",
    "    detection VARCHAR,\n",
    "    sampler VARCHAR,\n",
    "    samplecode VARCHAR,\n",
    "    vintage VARCHAR,\n",
    "    name VARCHAR,\n",
    "    open_date VARCHAR,\n",
    "    sampled_date VARCHAR,\n",
    "    added_to_cellartracker VARCHAR,\n",
    "    notes VARCHAR,\n",
    "    size VARCHAR,\n",
    "    ct_wine_name VARCHAR,\n",
    "    pk INTEGER PRIMARY KEY,\n",
    ");\n",
    "\n",
    "-- populate the new table\n",
    "INSERT INTO clean.st\n",
    "SELECT\n",
    "    *\n",
    "FROM\n",
    "    st;\n",
    "\n",
    "-- cleanup of the intermedaite table\n",
    "DROP TABLE st;\n",
    "SELECT\n",
    "    *\n",
    "FROM\n",
    "    clean.st\n",
    "LIMIT 3\n",
    "\"\"\"\n",
    ").pl()\n"
   ]
  },
  {
   "cell_type": "markdown",
   "metadata": {},
   "source": [
    "And see if the primary key constraint worked.."
   ]
  },
  {
   "cell_type": "markdown",
   "metadata": {},
   "source": [
    "If the above passed, then the primary key constraint on sample tracker worked."
   ]
  },
  {
   "cell_type": "markdown",
   "metadata": {},
   "source": [
    "## Chemstation Metadata\n",
    "\n",
    "The chemstation metadata primary key can be created from the 'id' column.\n",
    "\n",
    "To do this we create a new 'clean' table,"
   ]
  },
  {
   "cell_type": "markdown",
   "metadata": {},
   "source": [
    "\n",
    "\n",
    "The primary key of the 'chemstation_metadata' table is the 'id'.\n"
   ]
  },
  {
   "cell_type": "markdown",
   "metadata": {},
   "source": [
    "There are 175 unique rows.\n"
   ]
  },
  {
   "cell_type": "markdown",
   "metadata": {},
   "source": [
    "create the pk column\n"
   ]
  },
  {
   "cell_type": "code",
   "execution_count": null,
   "metadata": {},
   "outputs": [],
   "source": [
    "if not con.sql(\n",
    "\"\"\"--sql\n",
    "SELECT\n",
    "    id,\n",
    "    count(*) as count\n",
    "FROM\n",
    "    c_chemstation_metadata\n",
    "GROUP BY\n",
    "    id\n",
    "HAVING\n",
    "    count > 1\n",
    "\"\"\"\n",
    ").pl().is_empty():\n",
    "    raise ValueError(\"duplicate detected in table\")\n"
   ]
  },
  {
   "cell_type": "code",
   "execution_count": 3,
   "metadata": {},
   "outputs": [
    {
     "data": {
      "text/html": [
       "<div><style>\n",
       ".dataframe > thead > tr,\n",
       ".dataframe > tbody > tr {\n",
       "  text-align: right;\n",
       "  white-space: pre-wrap;\n",
       "}\n",
       "</style>\n",
       "<small>shape: (3, 15)</small><table border=\"1\" class=\"dataframe\"><thead><tr><th>pk</th><th>id</th><th>path</th><th>acq_date</th><th>acq_method</th><th>unit</th><th>signal</th><th>vendor</th><th>inj_vol</th><th>seq_name</th><th>seq_desc</th><th>vialnum</th><th>originalfilepath</th><th>st_samplecode</th><th>desc</th></tr><tr><td>i32</td><td>str</td><td>str</td><td>str</td><td>str</td><td>str</td><td>str</td><td>str</td><td>str</td><td>str</td><td>str</td><td>str</td><td>str</td><td>str</td><td>str</td></tr></thead><tbody><tr><td>1</td><td>&quot;037f76ff-8c25-4e43-b5bd-4530e12cc5a6&quot;</td><td>&quot;/users/jonathan/uni/0_jono_data/mres_data_library/raw_uv/085.d&quot;</td><td>&quot;2023-04-04 19:11:36&quot;</td><td>&quot;avantor100x4_6c18-h2o-meoh-2_5.m&quot;</td><td>&quot;mau&quot;</td><td>&quot;dad1i, dad: spectrum&quot;</td><td>&quot;agilent&quot;</td><td>&quot;10.00&quot;</td><td>&quot;2023-04-04_wines_2023-04-04_12-01-53&quot;</td><td>null</td><td>&quot;vial 9&quot;</td><td>&quot;c:\\chem32\\1\\data\\0_jono_data\\2023-04-04_wines_2023-04-04_12-01-53&quot;</td><td>&quot;85&quot;</td><td>null</td></tr><tr><td>2</td><td>&quot;03d2138b-5aad-4f81-af22-698e97ab28dc&quot;</td><td>&quot;/users/jonathan/uni/0_jono_data/mres_data_library/cuprac_wines_2023-05-22 2023-05-22 10-24-28/008-2701.d&quot;</td><td>&quot;2023-05-23 04:23:53&quot;</td><td>&quot;0_cuprac_3_16_40-mins-4min100%hold.m&quot;</td><td>&quot;mau&quot;</td><td>&quot;dad1i, dad: spectrum&quot;</td><td>&quot;agilent&quot;</td><td>&quot;5.00&quot;</td><td>&quot;cuprac_wines_2023-05-22 2023-05-22 10-24-28&quot;</td><td>&quot;cuprac version of the ambient daily repeat runs.&quot;</td><td>&quot;vial 8&quot;</td><td>&quot;c:\\chem32\\3\\data\\cuprac_wines_2023-05-22 2023-05-22 10-24-28&quot;</td><td>&quot;ca0101&quot;</td><td>null</td></tr><tr><td>3</td><td>&quot;06902f86-0024-418d-b449-79843f96bf09&quot;</td><td>&quot;/users/jonathan/uni/0_jono_data/mres_data_library/raw_uv/096.d&quot;</td><td>&quot;2023-04-13 12:00:29&quot;</td><td>&quot;avantor100x4_6c18-h2o-meoh-2_5_44-mins.m&quot;</td><td>&quot;mau&quot;</td><td>&quot;dad1i, dad: spectrum&quot;</td><td>&quot;agilent&quot;</td><td>&quot;10.00&quot;</td><td>&quot;2023-04-13_wines_2023-04-13_11-59-01&quot;</td><td>null</td><td>&quot;vial 1&quot;</td><td>&quot;c:\\chem32\\1\\data\\0_jono_data\\2023-04-13_wines_2023-04-13_11-59-01&quot;</td><td>&quot;96&quot;</td><td>null</td></tr></tbody></table></div>"
      ],
      "text/plain": [
       "shape: (3, 15)\n",
       "┌─────┬──────────────────────────────────────┬──────────────────────────────────────────────────────────────────────────────────────────────────────────┬─────────────────────┬───┬─────────┬───────────────────────────────────────────────────────────────────┬───────────────┬──────┐\n",
       "│ pk  ┆ id                                   ┆ path                                                                                                     ┆ acq_date            ┆ … ┆ vialnum ┆ originalfilepath                                                  ┆ st_samplecode ┆ desc │\n",
       "│ --- ┆ ---                                  ┆ ---                                                                                                      ┆ ---                 ┆   ┆ ---     ┆ ---                                                               ┆ ---           ┆ ---  │\n",
       "│ i32 ┆ str                                  ┆ str                                                                                                      ┆ str                 ┆   ┆ str     ┆ str                                                               ┆ str           ┆ str  │\n",
       "╞═════╪══════════════════════════════════════╪══════════════════════════════════════════════════════════════════════════════════════════════════════════╪═════════════════════╪═══╪═════════╪═══════════════════════════════════════════════════════════════════╪═══════════════╪══════╡\n",
       "│ 1   ┆ 037f76ff-8c25-4e43-b5bd-4530e12cc5a6 ┆ /users/jonathan/uni/0_jono_data/mres_data_library/raw_uv/085.d                                           ┆ 2023-04-04 19:11:36 ┆ … ┆ vial 9  ┆ c:\\chem32\\1\\data\\0_jono_data\\2023-04-04_wines_2023-04-04_12-01-53 ┆ 85            ┆ null │\n",
       "│ 2   ┆ 03d2138b-5aad-4f81-af22-698e97ab28dc ┆ /users/jonathan/uni/0_jono_data/mres_data_library/cuprac_wines_2023-05-22 2023-05-22 10-24-28/008-2701.d ┆ 2023-05-23 04:23:53 ┆ … ┆ vial 8  ┆ c:\\chem32\\3\\data\\cuprac_wines_2023-05-22 2023-05-22 10-24-28      ┆ ca0101        ┆ null │\n",
       "│ 3   ┆ 06902f86-0024-418d-b449-79843f96bf09 ┆ /users/jonathan/uni/0_jono_data/mres_data_library/raw_uv/096.d                                           ┆ 2023-04-13 12:00:29 ┆ … ┆ vial 1  ┆ c:\\chem32\\1\\data\\0_jono_data\\2023-04-13_wines_2023-04-13_11-59-01 ┆ 96            ┆ null │\n",
       "└─────┴──────────────────────────────────────┴──────────────────────────────────────────────────────────────────────────────────────────────────────────┴─────────────────────┴───┴─────────┴───────────────────────────────────────────────────────────────────┴───────────────┴──────┘"
      ]
     },
     "execution_count": 3,
     "metadata": {},
     "output_type": "execute_result"
    }
   ],
   "source": [
    "con.sql(\n",
    "\"\"\"--sql\n",
    "-- create an intermediate table to avoid editing the source dat and add the primary key\n",
    "CREATE OR REPLACE TEMP TABLE chm AS\n",
    "SELECT\n",
    "    rank_dense() OVER (order by id) as pk,\n",
    "    id,\n",
    "    path,\n",
    "    acq_date,\n",
    "    acq_method,\n",
    "    unit,\n",
    "    signal,\n",
    "    vendor,\n",
    "    inj_vol,\n",
    "    seq_name,\n",
    "    seq_desc,\n",
    "    vialnum,\n",
    "    originalfilepath,\n",
    "    \"desc\",\n",
    "    join_samplecode as st_samplecode,\n",
    "FROM\n",
    "    c_chemstation_metadata;\n",
    "\n",
    "-- create the destination table with the primary key restraint\n",
    "CREATE OR REPLACE TABLE clean.chm (\n",
    "    pk INTEGER PRIMARY KEY,\n",
    "    id VARCHAR UNIQUE,\n",
    "    path VARCHAR,\n",
    "    acq_date VARCHAR UNIQUE,\n",
    "    acq_method VARCHAR,\n",
    "    unit VARCHAR,\n",
    "    signal VARCHAR,\n",
    "    vendor VARCHAR,\n",
    "    inj_vol VARCHAR,\n",
    "    seq_name VARCHAR,\n",
    "    seq_desc VARCHAR,\n",
    "    vialnum VARCHAR,\n",
    "    originalfilepath VARCHAR,\n",
    "    st_samplecode VARCHAR,\n",
    "    \"desc\" VARCHAR,\n",
    ");\n",
    "\n",
    "-- populate the destination table\n",
    "INSERT INTO clean.chm\n",
    "    SELECT\n",
    "        pk,\n",
    "        id,\n",
    "        path,\n",
    "        acq_date,\n",
    "        acq_method,\n",
    "        unit,\n",
    "        signal,\n",
    "        vendor,\n",
    "        inj_vol,\n",
    "        seq_name,\n",
    "        seq_desc,\n",
    "        vialnum,\n",
    "        originalfilepath,\n",
    "        st_samplecode,\n",
    "        \"desc\"\n",
    "    FROM\n",
    "        chm;\n",
    "\n",
    "-- cleanup\n",
    "DROP TABLE chm;\n",
    "\n",
    "SELECT * FROM clean.chm LIMIT 3\n",
    "\"\"\"\n",
    ").pl()\n"
   ]
  },
  {
   "cell_type": "markdown",
   "metadata": {},
   "source": [
    "And now to populate. I think i'll have to do this column by column? Need a join table"
   ]
  },
  {
   "cell_type": "markdown",
   "metadata": {},
   "source": [
    "Now write chemstation metadata to the clean schema\n"
   ]
  },
  {
   "cell_type": "markdown",
   "metadata": {},
   "source": [
    "### Clean CHM Description\n"
   ]
  },
  {
   "cell_type": "code",
   "execution_count": 4,
   "metadata": {},
   "outputs": [
    {
     "data": {
      "text/html": [
       "<div><style>\n",
       ".dataframe > thead > tr,\n",
       ".dataframe > tbody > tr {\n",
       "  text-align: right;\n",
       "  white-space: pre-wrap;\n",
       "}\n",
       "</style>\n",
       "<small>shape: (15, 6)</small><table border=\"1\" class=\"dataframe\"><thead><tr><th>column_name</th><th>column_type</th><th>null</th><th>key</th><th>default</th><th>extra</th></tr><tr><td>str</td><td>str</td><td>str</td><td>str</td><td>str</td><td>str</td></tr></thead><tbody><tr><td>&quot;pk&quot;</td><td>&quot;INTEGER&quot;</td><td>&quot;NO&quot;</td><td>&quot;PRI&quot;</td><td>null</td><td>null</td></tr><tr><td>&quot;id&quot;</td><td>&quot;VARCHAR&quot;</td><td>&quot;YES&quot;</td><td>&quot;UNI&quot;</td><td>null</td><td>null</td></tr><tr><td>&quot;path&quot;</td><td>&quot;VARCHAR&quot;</td><td>&quot;YES&quot;</td><td>null</td><td>null</td><td>null</td></tr><tr><td>&quot;acq_date&quot;</td><td>&quot;VARCHAR&quot;</td><td>&quot;YES&quot;</td><td>&quot;UNI&quot;</td><td>null</td><td>null</td></tr><tr><td>&quot;acq_method&quot;</td><td>&quot;VARCHAR&quot;</td><td>&quot;YES&quot;</td><td>null</td><td>null</td><td>null</td></tr><tr><td>&quot;unit&quot;</td><td>&quot;VARCHAR&quot;</td><td>&quot;YES&quot;</td><td>null</td><td>null</td><td>null</td></tr><tr><td>&quot;signal&quot;</td><td>&quot;VARCHAR&quot;</td><td>&quot;YES&quot;</td><td>null</td><td>null</td><td>null</td></tr><tr><td>&quot;vendor&quot;</td><td>&quot;VARCHAR&quot;</td><td>&quot;YES&quot;</td><td>null</td><td>null</td><td>null</td></tr><tr><td>&quot;inj_vol&quot;</td><td>&quot;VARCHAR&quot;</td><td>&quot;YES&quot;</td><td>null</td><td>null</td><td>null</td></tr><tr><td>&quot;seq_name&quot;</td><td>&quot;VARCHAR&quot;</td><td>&quot;YES&quot;</td><td>null</td><td>null</td><td>null</td></tr><tr><td>&quot;seq_desc&quot;</td><td>&quot;VARCHAR&quot;</td><td>&quot;YES&quot;</td><td>null</td><td>null</td><td>null</td></tr><tr><td>&quot;vialnum&quot;</td><td>&quot;VARCHAR&quot;</td><td>&quot;YES&quot;</td><td>null</td><td>null</td><td>null</td></tr><tr><td>&quot;originalfilepath&quot;</td><td>&quot;VARCHAR&quot;</td><td>&quot;YES&quot;</td><td>null</td><td>null</td><td>null</td></tr><tr><td>&quot;st_samplecode&quot;</td><td>&quot;VARCHAR&quot;</td><td>&quot;YES&quot;</td><td>null</td><td>null</td><td>null</td></tr><tr><td>&quot;desc&quot;</td><td>&quot;VARCHAR&quot;</td><td>&quot;YES&quot;</td><td>null</td><td>null</td><td>null</td></tr></tbody></table></div>"
      ],
      "text/plain": [
       "shape: (15, 6)\n",
       "┌──────────────────┬─────────────┬──────┬──────┬─────────┬───────┐\n",
       "│ column_name      ┆ column_type ┆ null ┆ key  ┆ default ┆ extra │\n",
       "│ ---              ┆ ---         ┆ ---  ┆ ---  ┆ ---     ┆ ---   │\n",
       "│ str              ┆ str         ┆ str  ┆ str  ┆ str     ┆ str   │\n",
       "╞══════════════════╪═════════════╪══════╪══════╪═════════╪═══════╡\n",
       "│ pk               ┆ INTEGER     ┆ NO   ┆ PRI  ┆ null    ┆ null  │\n",
       "│ id               ┆ VARCHAR     ┆ YES  ┆ UNI  ┆ null    ┆ null  │\n",
       "│ path             ┆ VARCHAR     ┆ YES  ┆ null ┆ null    ┆ null  │\n",
       "│ acq_date         ┆ VARCHAR     ┆ YES  ┆ UNI  ┆ null    ┆ null  │\n",
       "│ acq_method       ┆ VARCHAR     ┆ YES  ┆ null ┆ null    ┆ null  │\n",
       "│ unit             ┆ VARCHAR     ┆ YES  ┆ null ┆ null    ┆ null  │\n",
       "│ signal           ┆ VARCHAR     ┆ YES  ┆ null ┆ null    ┆ null  │\n",
       "│ vendor           ┆ VARCHAR     ┆ YES  ┆ null ┆ null    ┆ null  │\n",
       "│ inj_vol          ┆ VARCHAR     ┆ YES  ┆ null ┆ null    ┆ null  │\n",
       "│ seq_name         ┆ VARCHAR     ┆ YES  ┆ null ┆ null    ┆ null  │\n",
       "│ seq_desc         ┆ VARCHAR     ┆ YES  ┆ null ┆ null    ┆ null  │\n",
       "│ vialnum          ┆ VARCHAR     ┆ YES  ┆ null ┆ null    ┆ null  │\n",
       "│ originalfilepath ┆ VARCHAR     ┆ YES  ┆ null ┆ null    ┆ null  │\n",
       "│ st_samplecode    ┆ VARCHAR     ┆ YES  ┆ null ┆ null    ┆ null  │\n",
       "│ desc             ┆ VARCHAR     ┆ YES  ┆ null ┆ null    ┆ null  │\n",
       "└──────────────────┴─────────────┴──────┴──────┴─────────┴───────┘"
      ]
     },
     "execution_count": 4,
     "metadata": {},
     "output_type": "execute_result"
    },
    {
     "ename": "",
     "evalue": "",
     "output_type": "error",
     "traceback": [
      "\u001b[1;31mThe Kernel crashed while executing code in the current cell or a previous cell. \n",
      "\u001b[1;31mPlease review the code in the cell(s) to identify a possible cause of the failure. \n",
      "\u001b[1;31mClick <a href='https://aka.ms/vscodeJupyterKernelCrash'>here</a> for more info. \n",
      "\u001b[1;31mView Jupyter <a href='command:jupyter.viewOutput'>log</a> for further details."
     ]
    }
   ],
   "source": [
    "con.sql(\n",
    "\"\"\"--sql\n",
    "DESCRIBE clean.chm\n",
    "\"\"\"\n",
    ").pl()\n"
   ]
  },
  {
   "cell_type": "markdown",
   "metadata": {},
   "source": [
    "### Constraints Table\n"
   ]
  },
  {
   "cell_type": "code",
   "execution_count": null,
   "metadata": {},
   "outputs": [],
   "source": [
    "con.sql(\n",
    "\"\"\"--sql\n",
    "SELECT\n",
    "    schema_name,\n",
    "    table_name,\n",
    "    constraint_column_names,\n",
    "    constraint_type\n",
    "FROM\n",
    "    duckdb_constraints()\n",
    "WHERE\n",
    "    schema_name = 'clean'\n",
    "AND\n",
    "    table_name = 'chm'\n",
    "\"\"\"\n",
    ").pl()\n"
   ]
  },
  {
   "cell_type": "markdown",
   "metadata": {},
   "source": [
    "Now it would acquire the means to connect to the sample tracker table.."
   ]
  },
  {
   "cell_type": "code",
   "execution_count": null,
   "metadata": {},
   "outputs": [],
   "source": [
    "join_tbl = con.sql(\n",
    "\"\"\"--sql\n",
    "SELECT\n",
    "    st.ct_wine_name as pk_st_to_ct,\n",
    "    jt.pk_chm_to_st,\n",
    "    jt.pk_id\n",
    "FROM\n",
    "    c_sample_tracker as st\n",
    "JOIN\n",
    "    join_tbl as jt\n",
    "ON\n",
    "    jt.pk_chm_to_st = st.samplecode\n",
    "\"\"\"\n",
    ").pl()\n",
    "\n",
    "join_tbl.head()\n"
   ]
  },
  {
   "cell_type": "code",
   "execution_count": null,
   "metadata": {},
   "outputs": [],
   "source": [
    "con.sql(\n",
    "\"\"\"--sql\n",
    "SELECT\n",
    "    *\n",
    "FROM\n",
    "    \n",
    "\"\"\"\n",
    ").pl()\n"
   ]
  },
  {
   "cell_type": "code",
   "execution_count": null,
   "metadata": {},
   "outputs": [],
   "source": [
    "con.sql(\n",
    "\"\"\"--sql\n",
    "select table_schema, table_name, column_name from information_schema.columns WHERE table_name = 'c_sample_tracker'\n",
    "\"\"\"\n",
    ").pl()['column_name'].to_list()\n"
   ]
  },
  {
   "cell_type": "code",
   "execution_count": null,
   "metadata": {},
   "outputs": [],
   "source": [
    "con.sql(\n",
    "\"\"\"--sql\n",
    "SELECT\n",
    "    wine\n",
    "FROM\n",
    "    c_cellar_tracker\n",
    "\"\"\"\n",
    ").pl()\n"
   ]
  },
  {
   "cell_type": "code",
   "execution_count": null,
   "metadata": {},
   "outputs": [],
   "source": [
    "con.sql(\n",
    "\"\"\"--sql\n",
    "SELECT\n",
    "    ct_wine_name\n",
    "FROM\n",
    "    c_sample_tracker\n",
    "\"\"\"\n",
    ").pl()\n"
   ]
  },
  {
   "cell_type": "markdown",
   "metadata": {},
   "source": [
    "'c_chemstation_metadata' has 175 rows but 174 distinct 'join_samplecode' values. This is the key to join with 'c_sample_tracker'. Is there a duplicate?"
   ]
  },
  {
   "cell_type": "code",
   "execution_count": null,
   "metadata": {},
   "outputs": [],
   "source": [
    "con.sql(\n",
    "\"\"\"--sql\n",
    "select\n",
    "    count(distinct join_samplecode)\n",
    "from\n",
    "    c_chemstation_metadata\n",
    "\"\"\"\n",
    ").pl()\n"
   ]
  },
  {
   "cell_type": "code",
   "execution_count": null,
   "metadata": {},
   "outputs": [],
   "source": [
    "con.sql(\n",
    "\"\"\"--sql\n",
    "select\n",
    "    *\n",
    "from\n",
    "    c_cellar_tracker as ct\n",
    "JOIN\n",
    "    c_sample_tracker as st\n",
    "ON\n",
    "    ct.wine = st.ct_wine_name\n",
    "\"\"\"\n",
    ").pl()\n"
   ]
  },
  {
   "cell_type": "code",
   "execution_count": null,
   "metadata": {},
   "outputs": [],
   "source": [
    "con.sql(\n",
    "\"\"\"--sql\n",
    "SELECT\n",
    "    \n",
    "\"\"\"\n",
    ").pl()\n"
   ]
  },
  {
   "cell_type": "code",
   "execution_count": null,
   "metadata": {},
   "outputs": [],
   "source": [
    "con.sql(\n",
    "\"\"\"--sql\n",
    "SELECT\n",
    "    vintage,\n",
    "    count(vintage) as count\n",
    "FROM\n",
    "    pbl.sample_metadata\n",
    "JOIN\n",
    "    c_a\n",
    "    \n",
    "\"\"\"\n",
    ").pl()\n"
   ]
  },
  {
   "cell_type": "markdown",
   "metadata": {},
   "source": [
    "## Cellar Tracker\n",
    "\n",
    "To form a join table between ST and CT it is best to create a new primary key on cellar tracker (CT).\n"
   ]
  },
  {
   "cell_type": "markdown",
   "metadata": {},
   "source": [
    "### CT Duplicate Row\n"
   ]
  },
  {
   "cell_type": "markdown",
   "metadata": {},
   "source": [
    "CT has one duplicate row, wine 'Mumm Tasmania Brut Prestige'."
   ]
  },
  {
   "cell_type": "code",
   "execution_count": null,
   "metadata": {},
   "outputs": [
    {
     "data": {
      "text/html": [
       "<div><style>\n",
       ".dataframe > thead > tr,\n",
       ".dataframe > tbody > tr {\n",
       "  text-align: right;\n",
       "  white-space: pre-wrap;\n",
       "}\n",
       "</style>\n",
       "<small>shape: (1, 3)</small><table border=\"1\" class=\"dataframe\"><thead><tr><th>vintage</th><th>name</th><th>duplicate_count</th></tr><tr><td>str</td><td>str</td><td>i64</td></tr></thead><tbody><tr><td>null</td><td>&quot;mumm tasmania brut prestige&quot;</td><td>2</td></tr></tbody></table></div>"
      ],
      "text/plain": [
       "shape: (1, 3)\n",
       "┌─────────┬─────────────────────────────┬─────────────────┐\n",
       "│ vintage ┆ name                        ┆ duplicate_count │\n",
       "│ ---     ┆ ---                         ┆ ---             │\n",
       "│ str     ┆ str                         ┆ i64             │\n",
       "╞═════════╪═════════════════════════════╪═════════════════╡\n",
       "│ null    ┆ mumm tasmania brut prestige ┆ 2               │\n",
       "└─────────┴─────────────────────────────┴─────────────────┘"
      ]
     },
     "metadata": {},
     "output_type": "display_data"
    }
   ],
   "source": [
    "con.sql(\n",
    "\"\"\"--sql\n",
    "SELECT\n",
    "    vintage,\n",
    "    name,\n",
    "    count(*) as duplicate_count\n",
    "FROM\n",
    "    c_cellar_tracker\n",
    "GROUP BY\n",
    "    name, vintage\n",
    "HAVING\n",
    "    count(*) > 1\n",
    "\"\"\"\n",
    ").pl()\n"
   ]
  },
  {
   "cell_type": "markdown",
   "metadata": {},
   "source": [
    "This can be remedied by selecting distinct rows only in the query."
   ]
  },
  {
   "cell_type": "code",
   "execution_count": null,
   "metadata": {},
   "outputs": [
    {
     "data": {
      "text/html": [
       "<div><style>\n",
       ".dataframe > thead > tr,\n",
       ".dataframe > tbody > tr {\n",
       "  text-align: right;\n",
       "  white-space: pre-wrap;\n",
       "}\n",
       "</style>\n",
       "<small>shape: (3, 15)</small><table border=\"1\" class=\"dataframe\"><thead><tr><th>size</th><th>vintage</th><th>name</th><th>locale</th><th>country</th><th>region</th><th>subregion</th><th>appellation</th><th>producer</th><th>type</th><th>color</th><th>category</th><th>varietal</th><th>wine</th><th>pk</th></tr><tr><td>str</td><td>str</td><td>str</td><td>str</td><td>str</td><td>str</td><td>str</td><td>str</td><td>str</td><td>str</td><td>str</td><td>str</td><td>str</td><td>str</td><td>i32</td></tr></thead><tbody><tr><td>&quot;750ml&quot;</td><td>&quot;2008&quot;</td><td>&quot;torbreck descendant&quot;</td><td>&quot;australia, south australia, barossa, barossa valley&quot;</td><td>&quot;australia&quot;</td><td>&quot;south australia&quot;</td><td>&quot;barossa&quot;</td><td>&quot;barossa valley&quot;</td><td>&quot;torbreck&quot;</td><td>&quot;red&quot;</td><td>&quot;red&quot;</td><td>&quot;dry&quot;</td><td>&quot;shiraz blend&quot;</td><td>&quot;2008 torbreck descendant&quot;</td><td>1</td></tr><tr><td>&quot;750ml&quot;</td><td>&quot;2009&quot;</td><td>&quot;st hugo cabernet sauvignon coonawarra&quot;</td><td>&quot;australia, south australia, limestone coast, coonawarra&quot;</td><td>&quot;australia&quot;</td><td>&quot;south australia&quot;</td><td>&quot;limestone coast&quot;</td><td>&quot;coonawarra&quot;</td><td>&quot;st hugo&quot;</td><td>&quot;red&quot;</td><td>&quot;red&quot;</td><td>&quot;dry&quot;</td><td>&quot;cabernet sauvignon&quot;</td><td>&quot;2009 st hugo cabernet sauvignon coonawarra&quot;</td><td>2</td></tr><tr><td>&quot;750ml&quot;</td><td>&quot;2013&quot;</td><td>&quot;woodlands cabernet merlot&quot;</td><td>&quot;australia, western australia, south west australia, margaret river&quot;</td><td>&quot;australia&quot;</td><td>&quot;western australia&quot;</td><td>&quot;south west australia&quot;</td><td>&quot;margaret river&quot;</td><td>&quot;woodlands&quot;</td><td>&quot;red&quot;</td><td>&quot;red&quot;</td><td>&quot;dry&quot;</td><td>&quot;red bordeaux blend&quot;</td><td>&quot;2013 woodlands cabernet merlot&quot;</td><td>3</td></tr></tbody></table></div>"
      ],
      "text/plain": [
       "shape: (3, 15)\n",
       "┌───────┬─────────┬───────────────────────────────────────┬────────────────────────────────────────────────────────────────────┬───┬──────────┬────────────────────┬────────────────────────────────────────────┬─────┐\n",
       "│ size  ┆ vintage ┆ name                                  ┆ locale                                                             ┆ … ┆ category ┆ varietal           ┆ wine                                       ┆ pk  │\n",
       "│ ---   ┆ ---     ┆ ---                                   ┆ ---                                                                ┆   ┆ ---      ┆ ---                ┆ ---                                        ┆ --- │\n",
       "│ str   ┆ str     ┆ str                                   ┆ str                                                                ┆   ┆ str      ┆ str                ┆ str                                        ┆ i32 │\n",
       "╞═══════╪═════════╪═══════════════════════════════════════╪════════════════════════════════════════════════════════════════════╪═══╪══════════╪════════════════════╪════════════════════════════════════════════╪═════╡\n",
       "│ 750ml ┆ 2008    ┆ torbreck descendant                   ┆ australia, south australia, barossa, barossa valley                ┆ … ┆ dry      ┆ shiraz blend       ┆ 2008 torbreck descendant                   ┆ 1   │\n",
       "│ 750ml ┆ 2009    ┆ st hugo cabernet sauvignon coonawarra ┆ australia, south australia, limestone coast, coonawarra            ┆ … ┆ dry      ┆ cabernet sauvignon ┆ 2009 st hugo cabernet sauvignon coonawarra ┆ 2   │\n",
       "│ 750ml ┆ 2013    ┆ woodlands cabernet merlot             ┆ australia, western australia, south west australia, margaret river ┆ … ┆ dry      ┆ red bordeaux blend ┆ 2013 woodlands cabernet merlot             ┆ 3   │\n",
       "└───────┴─────────┴───────────────────────────────────────┴────────────────────────────────────────────────────────────────────┴───┴──────────┴────────────────────┴────────────────────────────────────────────┴─────┘"
      ]
     },
     "metadata": {},
     "output_type": "display_data"
    }
   ],
   "source": [
    "con.sql(\n",
    "\"\"\"--sql\n",
    "-- create an intermediate table including the primary key to avoid editing the source table.\n",
    "CREATE OR REPLACE TEMP TABLE ct AS\n",
    "    SELECT\n",
    "        size,\n",
    "        vintage,\n",
    "        name,\n",
    "        locale,\n",
    "        country,\n",
    "        region,\n",
    "        subregion,\n",
    "        appellation,\n",
    "        producer,\n",
    "        type,\n",
    "        color,\n",
    "        category,\n",
    "        varietal,\n",
    "        wine,\n",
    "        rank_dense() OVER (order by vintage, name) as pk,\n",
    "    FROM\n",
    "        (\n",
    "            SELECT\n",
    "                -- remove duplicate row from consideration - Mumm NV is duplicated\n",
    "                DISTINCT concat(vintage, name),\n",
    "                size,\n",
    "                vintage,\n",
    "                name,\n",
    "                locale,\n",
    "                country,\n",
    "                region,\n",
    "                subregion,\n",
    "                appellation,\n",
    "                producer,\n",
    "                type,\n",
    "                color,\n",
    "                category,\n",
    "                varietal,\n",
    "                wine,\n",
    "            FROM\n",
    "                c_cellar_tracker\n",
    "            );\n",
    "\n",
    "-- create the destination table\n",
    "CREATE OR REPLACE TABLE clean.ct (\n",
    "    size VARCHAR,\n",
    "    vintage VARCHAR,\n",
    "    name VARCHAR,\n",
    "    locale VARCHAR,\n",
    "    country VARCHAR,\n",
    "    region VARCHAR,\n",
    "    subregion VARCHAR,\n",
    "    appellation VARCHAR,\n",
    "    producer VARCHAR,\n",
    "    type VARCHAR,\n",
    "    color VARCHAR,\n",
    "    category VARCHAR,\n",
    "    varietal VARCHAR,\n",
    "    wine VARCHAR,\n",
    "    pk INTEGER PRIMARY KEY\n",
    ");\n",
    "\n",
    "-- populate the destination table\n",
    "INSERT INTO clean.ct (\n",
    "SELECT\n",
    "    size,\n",
    "    vintage,\n",
    "    name,\n",
    "    locale,\n",
    "    country,\n",
    "    region,\n",
    "    subregion,\n",
    "    appellation,\n",
    "    producer,\n",
    "    type,\n",
    "    color,\n",
    "    category,\n",
    "    varietal,\n",
    "    wine,\n",
    "    pk\n",
    "FROM\n",
    "    ct\n",
    ");\n",
    "\n",
    "-- cleanup\n",
    "DROP TABLE ct;\n",
    "\n",
    "SELECT * FROM clean.ct LIMIT 3\n",
    "\"\"\"\n",
    ").pl()\n"
   ]
  },
  {
   "cell_type": "markdown",
   "metadata": {},
   "source": [
    "Now create the new table with the primary key constraint.\n"
   ]
  },
  {
   "cell_type": "markdown",
   "metadata": {},
   "source": [
    "# Conclusion\n",
    "\n",
    "In conclusion, the following tables were created in the 'clean' schema: 1. 'clean.st', 2. 'clean.chm', and 'clean.ct' corresponding to the 'c_sample_tracker', 'c_chemstation_metadata', and 'c_cellar_tracker' tables respectively. 1.'s primary key was created from the 'id' column, 2. from the 'samplecode' column and '3.' from the combination of 'vintage' and 'name' columns.\n"
   ]
  }
 ],
 "metadata": {
  "kernelspec": {
   "display_name": "pca-analysis-6KQS4gUX-py3.12",
   "language": "python",
   "name": "python3"
  },
  "language_info": {
   "codemirror_mode": {
    "name": "ipython",
    "version": 3
   },
   "file_extension": ".py",
   "mimetype": "text/x-python",
   "name": "python",
   "nbconvert_exporter": "python",
   "pygments_lexer": "ipython3",
   "version": "3.12.2"
  }
 },
 "nbformat": 4,
 "nbformat_minor": 2
}
