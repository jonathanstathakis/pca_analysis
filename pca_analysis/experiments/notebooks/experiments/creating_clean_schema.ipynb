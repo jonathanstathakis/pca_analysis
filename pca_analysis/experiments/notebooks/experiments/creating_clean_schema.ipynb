{
 "cells": [
  {
   "cell_type": "markdown",
   "metadata": {},
   "source": [
    "---\n",
    "cdt: 2024-09-10T16:27:00\n",
    "title: Creating the 'clean' Schema and Primary Keys\n",
    "project: database_architecture\n",
    "description: Introduces the 'clean' schema and provides the code necessary for its creation from the source tables. A defining characteristic is the presence of 'pk' primary keys in each table\n",
    "conclusion: A 'clean' schema was created with the tables 'chm', 'st', 'ct' with primary keys 'pk' based on a unique identifying column. Rational constraints were added for each table. 'pk_chm' was added to 'pbl.chromatogram_spectra_long'. 'sample_num' was recreated in 'clean.chm' to link that table to 'pbl.sample_metadata'.\n",
    "---"
   ]
  },
  {
   "cell_type": "code",
   "execution_count": null,
   "metadata": {},
   "outputs": [],
   "source": [
    "%reload_ext autoreload\n",
    "%autoreload 2\n",
    "import duckdb as db\n",
    "import polars as pl\n",
    "from pca_analysis.experiments.constants import db_path\n",
    "from great_tables import GT\n",
    "pl.Config.set_tbl_rows(999).set_tbl_width_chars(2000).set_fmt_str_lengths(99999)\n",
    "\n",
    "con = db.connect(db_path)\n",
    "con.close()\n"
   ]
  },
  {
   "cell_type": "markdown",
   "metadata": {},
   "source": [
    "[Medallion Architecture](https://www.databricks.com/glossary/medallion-architecture) describes a tiered database structure from the raw, dirty, messy input data to cleaned, organised and human readable outputs. From this point of view, our data is still very much in the lower stages. In order to begin organising the data in a more cohesive manner, each table needs a contextless primary key. The addition of the primary key column ('pk') to each of the 'c_chemstation_metadata', 'c_sample_tracker' and 'c_cellar_tracker' will begin this second-stage cleaning process, and the new tables will be added to a newly created 'clean' schema. The advantage of the distinction is that it a: saves on namespace, and b. protects the source data tables from incorrect edits.\n",
    "\n",
    "To produce the primary keys we identify columns that can be used as unique identifiers, then use `dense_rank()` over them to produce a unique, monotonically increasing key column. This was done for each table. See below for details.\n"
   ]
  },
  {
   "cell_type": "markdown",
   "metadata": {},
   "source": [
    "# Create 'clean' Schema\n",
    "\n",
    "Schemas need to be explicitly created before tables can be added to them."
   ]
  },
  {
   "cell_type": "code",
   "execution_count": null,
   "metadata": {},
   "outputs": [],
   "source": [
    "con.sql(\n",
    "\"\"\"--sql\n",
    "CREATE SCHEMA IF NOT EXISTS clean;\n",
    "\"\"\")\n"
   ]
  },
  {
   "cell_type": "markdown",
   "metadata": {},
   "source": [
    "# Adding Primary Keys and Creating 'clean.' Tables\n",
    "\n"
   ]
  },
  {
   "cell_type": "markdown",
   "metadata": {},
   "source": [
    "## Sample Tracker\n"
   ]
  },
  {
   "cell_type": "markdown",
   "metadata": {},
   "source": [
    "### Observing 'samplecode' as a Primary Key\n"
   ]
  },
  {
   "cell_type": "markdown",
   "metadata": {},
   "source": [
    "is ch_samplecode the primary key of sample tracker? If it is, there should be an equal number of distinct values as there are rows of the table."
   ]
  },
  {
   "cell_type": "code",
   "execution_count": null,
   "metadata": {},
   "outputs": [],
   "source": [
    "con.sql(\n",
    "\"\"\"--sql\n",
    "SELECT\n",
    "    samplecode,\n",
    "    count(*) as count\n",
    "FROM\n",
    "    c_sample_tracker\n",
    "GROUP BY\n",
    "    samplecode\n",
    "HAVING\n",
    "    count > 1\n",
    "\"\"\"\n",
    ").pl()\n"
   ]
  },
  {
   "cell_type": "markdown",
   "metadata": {},
   "source": [
    "yes. However lets add a new 'pk' column based on it. This can be achieved by densely ranking the 'samplecode' column:"
   ]
  },
  {
   "cell_type": "code",
   "execution_count": null,
   "metadata": {},
   "outputs": [],
   "source": [
    "con.sql(\n",
    "\"\"\"--sql\n",
    "\n",
    "\"\"\"\n",
    ")\n"
   ]
  },
  {
   "cell_type": "markdown",
   "metadata": {},
   "source": [
    "Now I have to recreate the table.\n"
   ]
  },
  {
   "cell_type": "markdown",
   "metadata": {},
   "source": [
    "Now I have to create the clean schema table:\n"
   ]
  },
  {
   "cell_type": "code",
   "execution_count": null,
   "metadata": {},
   "outputs": [],
   "source": [
    "con.sql(\n",
    "\"\"\"--sql\n",
    "SELECT * FROM st LIMIT 1\n",
    "\"\"\"\n",
    ").pl().columns\n"
   ]
  },
  {
   "cell_type": "code",
   "execution_count": null,
   "metadata": {},
   "outputs": [],
   "source": [
    "con.sql(\n",
    "\"\"\"--sql\n",
    "-- create a intermediate table with the primary key to avoid editing the source\n",
    "CREATE TEMP TABLE st AS\n",
    "    SELECT\n",
    "        *,\n",
    "        rank_dense() OVER (order by samplecode) as pk\n",
    "    FROM\n",
    "        c_sample_tracker;\n",
    "\n",
    "-- create the destination table with the primary key column constraint\n",
    "CREATE OR REPLACE TABLE clean.st (\n",
    "    detection VARCHAR,\n",
    "    sampler VARCHAR,\n",
    "    samplecode VARCHAR,\n",
    "    vintage VARCHAR,\n",
    "    name VARCHAR,\n",
    "    open_date VARCHAR,\n",
    "    sampled_date VARCHAR,\n",
    "    added_to_cellartracker VARCHAR,\n",
    "    notes VARCHAR,\n",
    "    size VARCHAR,\n",
    "    ct_wine_name VARCHAR,\n",
    "    pk INTEGER PRIMARY KEY,\n",
    ");\n",
    "\n",
    "-- populate the new table\n",
    "INSERT INTO clean.st\n",
    "SELECT\n",
    "    *\n",
    "FROM\n",
    "    st;\n",
    "\n",
    "-- cleanup of the intermedaite table\n",
    "DROP TABLE st;\n",
    "SELECT\n",
    "    *\n",
    "FROM\n",
    "    clean.st\n",
    "LIMIT 3\n",
    "\"\"\"\n",
    ").pl()\n"
   ]
  },
  {
   "cell_type": "markdown",
   "metadata": {},
   "source": [
    "And see if the primary key constraint worked.."
   ]
  },
  {
   "cell_type": "markdown",
   "metadata": {},
   "source": [
    "If the above passed, then the primary key constraint on sample tracker worked."
   ]
  },
  {
   "cell_type": "markdown",
   "metadata": {},
   "source": [
    "## Chemstation Metadata\n",
    "\n",
    "The chemstation metadata primary key can be created from the 'id' column.\n",
    "\n",
    "To do this we create a new 'clean' table,"
   ]
  },
  {
   "cell_type": "markdown",
   "metadata": {},
   "source": [
    "\n",
    "\n",
    "The primary key of the 'chemstation_metadata' table is the 'id'.\n"
   ]
  },
  {
   "cell_type": "markdown",
   "metadata": {},
   "source": [
    "There are 175 unique rows.\n"
   ]
  },
  {
   "cell_type": "markdown",
   "metadata": {},
   "source": [
    "create the pk column\n"
   ]
  },
  {
   "cell_type": "code",
   "execution_count": null,
   "metadata": {},
   "outputs": [],
   "source": [
    "if not con.sql(\n",
    "\"\"\"--sql\n",
    "SELECT\n",
    "    id,\n",
    "    count(*) as count\n",
    "FROM\n",
    "    c_chemstation_metadata\n",
    "GROUP BY\n",
    "    id\n",
    "HAVING\n",
    "    count > 1\n",
    "\"\"\"\n",
    ").pl().is_empty():\n",
    "    raise ValueError(\"duplicate detected in table\")\n"
   ]
  },
  {
   "cell_type": "code",
   "execution_count": null,
   "metadata": {},
   "outputs": [],
   "source": [
    "con.sql(\n",
    "\"\"\"--sql\n",
    "-- create an intermediate table to avoid editing the source dat and add the primary key\n",
    "CREATE OR REPLACE TEMP TABLE chm AS\n",
    "SELECT\n",
    "    rank_dense() OVER (order by id) as pk,\n",
    "    id,\n",
    "    path,\n",
    "    acq_date,\n",
    "    acq_method,\n",
    "    unit,\n",
    "    signal,\n",
    "    vendor,\n",
    "    inj_vol,\n",
    "    seq_name,\n",
    "    seq_desc,\n",
    "    vialnum,\n",
    "    originalfilepath,\n",
    "    \"desc\",\n",
    "    join_samplecode as st_samplecode,\n",
    "FROM\n",
    "    c_chemstation_metadata;\n",
    "\n",
    "-- create the destination table with the primary key restraint\n",
    "CREATE OR REPLACE TABLE clean.chm (\n",
    "    pk INTEGER PRIMARY KEY,\n",
    "    id VARCHAR UNIQUE,\n",
    "    path VARCHAR,\n",
    "    acq_date VARCHAR UNIQUE,\n",
    "    acq_method VARCHAR,\n",
    "    unit VARCHAR,\n",
    "    signal VARCHAR,\n",
    "    vendor VARCHAR,\n",
    "    inj_vol VARCHAR,\n",
    "    seq_name VARCHAR,\n",
    "    seq_desc VARCHAR,\n",
    "    vialnum VARCHAR,\n",
    "    originalfilepath VARCHAR,\n",
    "    st_samplecode VARCHAR,\n",
    "    \"desc\" VARCHAR,\n",
    ");\n",
    "\n",
    "-- populate the destination table\n",
    "INSERT INTO clean.chm\n",
    "    SELECT\n",
    "        pk,\n",
    "        id,\n",
    "        path,\n",
    "        acq_date,\n",
    "        acq_method,\n",
    "        unit,\n",
    "        signal,\n",
    "        vendor,\n",
    "        inj_vol,\n",
    "        seq_name,\n",
    "        seq_desc,\n",
    "        vialnum,\n",
    "        originalfilepath,\n",
    "        st_samplecode,\n",
    "        \"desc\"\n",
    "    FROM\n",
    "        chm;\n",
    "\n",
    "-- cleanup\n",
    "DROP TABLE chm;\n",
    "\n",
    "SELECT * FROM clean.chm LIMIT 3\n",
    "\"\"\"\n",
    ").pl()\n"
   ]
  },
  {
   "cell_type": "markdown",
   "metadata": {},
   "source": [
    "And now to populate. I think i'll have to do this column by column? Need a join table"
   ]
  },
  {
   "cell_type": "markdown",
   "metadata": {},
   "source": [
    "Now write chemstation metadata to the clean schema\n"
   ]
  },
  {
   "cell_type": "markdown",
   "metadata": {},
   "source": [
    "### Clean CHM Description\n"
   ]
  },
  {
   "cell_type": "code",
   "execution_count": null,
   "metadata": {},
   "outputs": [],
   "source": [
    "con.sql(\n",
    "\"\"\"--sql\n",
    "DESCRIBE clean.chm\n",
    "\"\"\"\n",
    ").pl()\n"
   ]
  },
  {
   "cell_type": "markdown",
   "metadata": {},
   "source": [
    "### Constraints Table\n"
   ]
  },
  {
   "cell_type": "code",
   "execution_count": null,
   "metadata": {},
   "outputs": [],
   "source": [
    "con.sql(\n",
    "\"\"\"--sql\n",
    "SELECT\n",
    "    schema_name,\n",
    "    table_name,\n",
    "    constraint_column_names,\n",
    "    constraint_type\n",
    "FROM\n",
    "    duckdb_constraints()\n",
    "WHERE\n",
    "    schema_name = 'clean'\n",
    "AND\n",
    "    table_name = 'chm'\n",
    "\"\"\"\n",
    ").pl()\n"
   ]
  },
  {
   "cell_type": "markdown",
   "metadata": {},
   "source": [
    "Now it would acquire the means to connect to the sample tracker table.."
   ]
  },
  {
   "cell_type": "code",
   "execution_count": null,
   "metadata": {},
   "outputs": [],
   "source": [
    "join_tbl = con.sql(\n",
    "\"\"\"--sql\n",
    "SELECT\n",
    "    st.ct_wine_name as pk_st_to_ct,\n",
    "    jt.pk_chm_to_st,\n",
    "    jt.pk_id\n",
    "FROM\n",
    "    c_sample_tracker as st\n",
    "JOIN\n",
    "    join_tbl as jt\n",
    "ON\n",
    "    jt.pk_chm_to_st = st.samplecode\n",
    "\"\"\"\n",
    ").pl()\n",
    "\n",
    "join_tbl.head()\n"
   ]
  },
  {
   "cell_type": "code",
   "execution_count": null,
   "metadata": {},
   "outputs": [],
   "source": [
    "con.sql(\n",
    "\"\"\"--sql\n",
    "SELECT\n",
    "    *\n",
    "FROM\n",
    "    \n",
    "\"\"\"\n",
    ").pl()\n"
   ]
  },
  {
   "cell_type": "code",
   "execution_count": null,
   "metadata": {},
   "outputs": [],
   "source": [
    "con.sql(\n",
    "\"\"\"--sql\n",
    "select table_schema, table_name, column_name from information_schema.columns WHERE table_name = 'c_sample_tracker'\n",
    "\"\"\"\n",
    ").pl()['column_name'].to_list()\n"
   ]
  },
  {
   "cell_type": "code",
   "execution_count": null,
   "metadata": {},
   "outputs": [],
   "source": [
    "con.sql(\n",
    "\"\"\"--sql\n",
    "SELECT\n",
    "    wine\n",
    "FROM\n",
    "    c_cellar_tracker\n",
    "\"\"\"\n",
    ").pl()\n"
   ]
  },
  {
   "cell_type": "code",
   "execution_count": null,
   "metadata": {},
   "outputs": [],
   "source": [
    "con.sql(\n",
    "\"\"\"--sql\n",
    "SELECT\n",
    "    ct_wine_name\n",
    "FROM\n",
    "    c_sample_tracker\n",
    "\"\"\"\n",
    ").pl()\n",
    "con.s\n"
   ]
  },
  {
   "cell_type": "markdown",
   "metadata": {},
   "source": [
    "'c_chemstation_metadata' has 175 rows but 174 distinct 'join_samplecode' values. This is the key to join with 'c_sample_tracker'. Is there a duplicate?"
   ]
  },
  {
   "cell_type": "code",
   "execution_count": null,
   "metadata": {},
   "outputs": [],
   "source": [
    "con.sql(\n",
    "\"\"\"--sql\n",
    "select\n",
    "    count(distinct join_samplecode)\n",
    "from\n",
    "    c_chemstation_metadata\n",
    "\"\"\"\n",
    ").pl()\n"
   ]
  },
  {
   "cell_type": "code",
   "execution_count": null,
   "metadata": {},
   "outputs": [],
   "source": [
    "con.sql(\n",
    "\"\"\"--sql\n",
    "select\n",
    "    *\n",
    "from\n",
    "    c_cellar_tracker as ct\n",
    "JOIN\n",
    "    c_sample_tracker as st\n",
    "ON\n",
    "    ct.wine = st.ct_wine_name\n",
    "\"\"\"\n",
    ").pl()\n"
   ]
  },
  {
   "cell_type": "code",
   "execution_count": null,
   "metadata": {},
   "outputs": [],
   "source": [
    "con.sql(\n",
    "\"\"\"--sql\n",
    "SELECT\n",
    "    vintage,\n",
    "    count(vintage) as count\n",
    "FROM\n",
    "    pbl.sample_metadata\n",
    "JOIN\n",
    "    c_a\n",
    "    \n",
    "\"\"\"\n",
    ").pl()\n"
   ]
  },
  {
   "cell_type": "markdown",
   "metadata": {},
   "source": [
    "## Cellar Tracker\n",
    "\n",
    "To form a join table between ST and CT it is best to create a new primary key on cellar tracker (CT).\n"
   ]
  },
  {
   "cell_type": "markdown",
   "metadata": {},
   "source": [
    "### CT Duplicate Row\n"
   ]
  },
  {
   "cell_type": "markdown",
   "metadata": {},
   "source": [
    "CT has one duplicate row, wine 'Mumm Tasmania Brut Prestige'."
   ]
  },
  {
   "cell_type": "code",
   "execution_count": null,
   "metadata": {},
   "outputs": [],
   "source": [
    "con.sql(\n",
    "\"\"\"--sql\n",
    "SELECT\n",
    "    vintage,\n",
    "    name,\n",
    "    count(*) as duplicate_count\n",
    "FROM\n",
    "    c_cellar_tracker\n",
    "GROUP BY\n",
    "    name, vintage\n",
    "HAVING\n",
    "    count(*) > 1\n",
    "\"\"\"\n",
    ").pl()\n"
   ]
  },
  {
   "cell_type": "markdown",
   "metadata": {},
   "source": [
    "This can be remedied by selecting distinct rows only in the query."
   ]
  },
  {
   "cell_type": "code",
   "execution_count": null,
   "metadata": {},
   "outputs": [],
   "source": [
    "con.sql(\n",
    "\"\"\"--sql\n",
    "-- create an intermediate table including the primary key to avoid editing the source table.\n",
    "CREATE OR REPLACE TEMP TABLE ct AS\n",
    "    SELECT\n",
    "        size,\n",
    "        vintage,\n",
    "        name,\n",
    "        locale,\n",
    "        country,\n",
    "        region,\n",
    "        subregion,\n",
    "        appellation,\n",
    "        producer,\n",
    "        type,\n",
    "        color,\n",
    "        category,\n",
    "        varietal,\n",
    "        wine,\n",
    "        rank_dense() OVER (order by vintage, name) as pk,\n",
    "    FROM\n",
    "        (\n",
    "            SELECT\n",
    "                -- remove duplicate row from consideration - Mumm NV is duplicated\n",
    "                DISTINCT concat(vintage, name),\n",
    "                size,\n",
    "                vintage,\n",
    "                name,\n",
    "                locale,\n",
    "                country,\n",
    "                region,\n",
    "                subregion,\n",
    "                appellation,\n",
    "                producer,\n",
    "                type,\n",
    "                color,\n",
    "                category,\n",
    "                varietal,\n",
    "                wine,\n",
    "            FROM\n",
    "                c_cellar_tracker\n",
    "            );\n",
    "\n",
    "-- create the destination table\n",
    "CREATE OR REPLACE TABLE clean.ct (\n",
    "    size VARCHAR,\n",
    "    vintage VARCHAR,\n",
    "    name VARCHAR,\n",
    "    locale VARCHAR,\n",
    "    country VARCHAR,\n",
    "    region VARCHAR,\n",
    "    subregion VARCHAR,\n",
    "    appellation VARCHAR,\n",
    "    producer VARCHAR,\n",
    "    type VARCHAR,\n",
    "    color VARCHAR,\n",
    "    category VARCHAR,\n",
    "    varietal VARCHAR,\n",
    "    wine VARCHAR,\n",
    "    pk INTEGER PRIMARY KEY\n",
    ");\n",
    "\n",
    "-- populate the destination table\n",
    "INSERT INTO clean.ct (\n",
    "SELECT\n",
    "    size,\n",
    "    vintage,\n",
    "    name,\n",
    "    locale,\n",
    "    country,\n",
    "    region,\n",
    "    subregion,\n",
    "    appellation,\n",
    "    producer,\n",
    "    type,\n",
    "    color,\n",
    "    category,\n",
    "    varietal,\n",
    "    wine,\n",
    "    pk\n",
    "FROM\n",
    "    ct\n",
    ");\n",
    "\n",
    "-- cleanup\n",
    "DROP TABLE ct;\n",
    "\n",
    "SELECT * FROM clean.ct LIMIT 3\n",
    "\"\"\"\n",
    ").pl()\n"
   ]
  },
  {
   "cell_type": "markdown",
   "metadata": {},
   "source": [
    "# Add CHM's PK to CS"
   ]
  },
  {
   "cell_type": "markdown",
   "metadata": {},
   "source": [
    "While the 'id' column is acceptable, in the spirit of simplying the keys, we can add the CHM primary key 'pk' to the 'pbl.chromatogram_spectra_long' table as well."
   ]
  },
  {
   "cell_type": "code",
   "execution_count": null,
   "metadata": {},
   "outputs": [],
   "source": [
    "con.sql(\n",
    "\"\"\"--sql\n",
    "ALTER TABLE\n",
    "    pbl.chromatogram_spectra_long\n",
    "ADD COLUMN IF NOT EXISTS\n",
    "    pk_chm INTEGER;\n",
    "UPDATE pbl.chromatogram_spectra_long as cs\n",
    "SET\n",
    "    pk_chm = (\n",
    "    SELECT\n",
    "        pk\n",
    "    FROM\n",
    "        clean.chm as chm\n",
    "    WHERE\n",
    "        cs.id = chm.id\n",
    "    );\n",
    "SELECT * FROM pbl.chromatogram_spectra_long LIMIT 3;\n",
    "\"\"\"\n",
    ").pl()\n"
   ]
  },
  {
   "cell_type": "markdown",
   "metadata": {},
   "source": [
    "# Adding 'sample_num'\n",
    "\n",
    "Moving from 'pbl' schema to 'clean' schema creates one problem - all the old code will reference 'sample_num' as the primary key rather than 'pk_chm', for example. To remedy this, we can add the 'sample_num' column to 'clean.chm'. First we'll create a test to ensure that the method of value creation is the same as the original."
   ]
  },
  {
   "cell_type": "code",
   "execution_count": null,
   "metadata": {},
   "outputs": [],
   "source": [
    "con.sql(\n",
    "\"\"\"--sql\n",
    "WITH chm AS (SELECT\n",
    "    rank_dense() OVER (ORDER BY acq_date) as sample_num_new,\n",
    "    id\n",
    "FROM\n",
    "    clean.chm as chm)\n",
    "SELECT\n",
    "    bool_and(sample_num_new = sm.sample_num) as all_same\n",
    "FROM\n",
    "    chm\n",
    "JOIN\n",
    "    pbl.sample_metadata as sm\n",
    "USING\n",
    "    (id)\n",
    "\"\"\"\n",
    ").pl()\n"
   ]
  },
  {
   "cell_type": "markdown",
   "metadata": {},
   "source": [
    "As the above is 'true', then it is. Thus we can create the column in 'chm'."
   ]
  },
  {
   "cell_type": "code",
   "execution_count": null,
   "metadata": {},
   "outputs": [],
   "source": [
    "con.sql(\n",
    "\"\"\"--sql\n",
    "ALTER TABLE\n",
    "    clean.chm\n",
    "ADD COLUMN IF NOT EXISTS\n",
    "    sample_num INTEGER;\n",
    "CREATE OR REPLACE TEMP TABLE sample_num AS (\n",
    "    SELECT\n",
    "        rank_dense() OVER (ORDER BY acq_date) as sample_num,\n",
    "        pk\n",
    "    FROM\n",
    "        clean.chm\n",
    "    );\n",
    "UPDATE clean.chm\n",
    "SET\n",
    "    sample_num = (\n",
    "        SELECT\n",
    "            sample_num\n",
    "        FROM\n",
    "            sample_num\n",
    "        WHERE\n",
    "            clean.chm.pk = sample_num.pk\n",
    "            );\n",
    "SELECT\n",
    "    pk,\n",
    "    acq_date,\n",
    "    sample_num\n",
    "FROM\n",
    "    clean.chm\n",
    "ORDER BY\n",
    "    acq_date\n",
    "LIMIT 5\n",
    "\"\"\"\n",
    ").pl()\n"
   ]
  },
  {
   "cell_type": "markdown",
   "metadata": {},
   "source": [
    "# Conclusion\n",
    "\n",
    "In conclusion, the following tables were created in the 'clean' schema: 1. 'clean.st', 2. 'clean.chm', and 'clean.ct' corresponding to the 'c_sample_tracker', 'c_chemstation_metadata', and 'c_cellar_tracker' tables respectively. 1.'s primary key was created from the 'id' column, 2. from the 'samplecode' column and '3.' from the combination of 'vintage' and 'name' columns. In what feels like a half-done job, 'clean.chm''s primary key was also added to 'pbl.chromatogram_spectra_long' as 'pk_chm'. Furthermore, a 'sample_num' column was recreated in 'clean.chm' to provide a link to 'pbl.sample_metadata'.\n"
   ]
  }
 ],
 "metadata": {
  "kernelspec": {
   "display_name": "pca-analysis-6KQS4gUX-py3.12",
   "language": "python",
   "name": "python3"
  },
  "language_info": {
   "codemirror_mode": {
    "name": "ipython",
    "version": 3
   },
   "file_extension": ".py",
   "mimetype": "text/x-python",
   "name": "python",
   "nbconvert_exporter": "python",
   "pygments_lexer": "ipython3",
   "version": "3.12.2"
  }
 },
 "nbformat": 4,
 "nbformat_minor": 2
}
