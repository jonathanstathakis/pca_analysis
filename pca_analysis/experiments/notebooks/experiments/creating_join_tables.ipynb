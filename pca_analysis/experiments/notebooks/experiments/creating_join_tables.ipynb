{
 "cells": [
  {
   "cell_type": "markdown",
   "metadata": {},
   "source": [
    "---\n",
    "cdt: 2024-09-10T16:44:02\n",
    "title: \"Creating Join Tables\"\n",
    "description: \"Contains a discussion of and the code required to create join tables for 'clean.chm' to 'clean.st' and 'clean.st' to 'clean.ct.\"\n",
    "project: database_architecture\n",
    "conclusion: a join table 'joins.chm_st_ct' has been created, consisting of 'pk_chm', 'pk_st', 'pk_ct', and 'sample_num\" corresponding to the primary keys of each table and 'pbl.sample_metadata'. As some samples are missing CT rows, the 'pk_ct' column contains nulls.\n",
    "---\n"
   ]
  },
  {
   "cell_type": "code",
   "execution_count": null,
   "metadata": {},
   "outputs": [],
   "source": [
    "%reload_ext autoreload\n",
    "%autoreload 2\n",
    "import duckdb as db\n",
    "import polars as pl\n",
    "from pca_analysis.experiments.constants import db_path\n",
    "from great_tables import GT\n",
    "pl.Config.set_tbl_rows(999).set_tbl_width_chars(2000).set_fmt_str_lengths(99999)\n",
    "\n",
    "con = db.connect(db_path)\n"
   ]
  },
  {
   "cell_type": "markdown",
   "metadata": {},
   "source": [
    "## Creation of Join Table CHM to ST"
   ]
  },
  {
   "cell_type": "markdown",
   "metadata": {},
   "source": [
    "'join_samplecode' connects 'c_chemstation_metadata' and 'c_sample_tracker'. Note: 'join_samplecode' was manually added, and thus that connection is fragile without the code that added it. It is somewhere in the 'wine_analysis_hplc_uv' project, and will be added here at a later date. In the meantime, you are warned.\n",
    "\n",
    "update: its stored in `wine_analysis_hplc_uv.etl.build_library.chemstation.ch_m_cleaner` and simply consists of some value replacement and formatting. Shouldn't be difficult to implement here. 'ch_samplecode' is the original samplecode as entered in the Chemstation data files, 'join_samplecode' is the cleaned version of the samplecode."
   ]
  },
  {
   "cell_type": "code",
   "execution_count": null,
   "metadata": {},
   "outputs": [],
   "source": [
    "join_tbl = con.sql(\n",
    "\"\"\"--sql\n",
    "CREATE schema IF NOT EXISTS joins;\n",
    "CREATE OR REPLACE TABLE joins.chm_st_ct AS (\n",
    "SELECT\n",
    "    chm.sample_num as sample_num,\n",
    "    chm.pk as pk_chm,\n",
    "    st.pk as pk_st,\n",
    "    ct.pk as pk_ct\n",
    "FROM\n",
    "    clean.chm as chm\n",
    "JOIN\n",
    "    clean.st as st\n",
    "ON\n",
    "    chm.st_samplecode = st.samplecode\n",
    "LEFT JOIN\n",
    "    clean.ct as ct\n",
    "ON\n",
    "    st.ct_wine_name = concat(ct.vintage, ' ',ct.name)\n",
    ");\n",
    "SELECT * FROM joins.chm_st_ct ORDER BY sample_num;\n",
    "\"\"\"\n",
    ").pl()\n",
    "\n",
    "join_tbl.head()\n"
   ]
  },
  {
   "cell_type": "code",
   "execution_count": null,
   "metadata": {},
   "outputs": [],
   "source": [
    "con.sql(\n",
    "\"\"\"--sql\n",
    "SELECT\n",
    "    *\n",
    "FROM\n",
    "    join_tbl\n",
    "WHERE\n",
    "    pk_ct IS NULL\n",
    "\"\"\"\n",
    ").pl()\n"
   ]
  },
  {
   "cell_type": "markdown",
   "metadata": {},
   "source": [
    "Looks good to me. We can add a readme table to describe this in the schema."
   ]
  },
  {
   "cell_type": "code",
   "execution_count": null,
   "metadata": {},
   "outputs": [],
   "source": [
    "con.sql(\n",
    "\"\"\"--sql\n",
    "CREATE OR REPLACE TABLE joins.readme (readme VARCHAR);\n",
    "INSERT INTO joins.readme\n",
    "    VALUES ('Use joins.chm_st_ct to go between the three tables based on individuals as defined by chm.id.\\nEach individual has a corresponding st entry, but currently (2024-09-11) may not have a ct entry.\\nThis is symbolised by a null value in the pk_ct column.');\n",
    "INSERT INTO joins.readme\n",
    "    VALUES ('joins.chm_st_ct also has sample_num for joins to pbl.sample_metadata');\n",
    "SELECT * FROM joins.readme\n",
    "\"\"\"\n",
    ").pl()\n"
   ]
  },
  {
   "cell_type": "markdown",
   "metadata": {},
   "source": [
    "# Conclusion\n",
    "\n",
    "a join table 'joins.chm_st_ct' has been created, consisting of 'pk_chm', 'pk_st', and 'pk_ct' corresponding to the primary keys of each table. As some samples are missing CT rows, the 'pk_ct' column contains nulls. A 'sample_num' column derived from the order of 'acq_date' in 'clean.chm' has been added as well, to provide a link to pbl.sample_metadata'.\n"
   ]
  }
 ],
 "metadata": {
  "kernelspec": {
   "display_name": "pca-analysis-6KQS4gUX-py3.12",
   "language": "python",
   "name": "python3"
  },
  "language_info": {
   "codemirror_mode": {
    "name": "ipython",
    "version": 3
   },
   "file_extension": ".py",
   "mimetype": "text/x-python",
   "name": "python",
   "nbconvert_exporter": "python",
   "pygments_lexer": "ipython3",
   "version": "3.12.2"
  }
 },
 "nbformat": 4,
 "nbformat_minor": 2
}
