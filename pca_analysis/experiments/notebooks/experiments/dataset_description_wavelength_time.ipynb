{
 "cells": [
  {
   "cell_type": "markdown",
   "metadata": {},
   "source": [
    "---\n",
    "cdt: 2024-09-05T12:30:33\n",
    "title: Dataset EDA\n",
    "desc: EDA on the dataset sample ID, time and wavelength in order to seperate the set into groups based on those dimensions so I can organise them into NetCDF datasets.\n",
    "notes:\n",
    "     - Doing SQL relations so that you can execute a query then write about AND build on that query. Relations dont work between scopes so everything has to be global.\n",
    "project: \"\"\n",
    "execution_order: \"000\"\n",
    "---\n"
   ]
  },
  {
   "cell_type": "markdown",
   "metadata": {},
   "source": [
    "In [Migrating From DuckDB to NetCDF](export_data_from_db.ipynb), we found that in order to export the data to NetCDF from the SQL database its currently in, we need to ensure that the key dimensions align. What this means is that every sample needs to have the same wavelength and time values for rows/columns. This is because the magic of NetCDF/XArray is to share as many dimensions as possible. If I don't do this, the dataset will become too large for memory as it tries to fit all the different time points in. See \n",
    "\n",
    "Yet again we need to do some descriptive EDA on the dataset.\n",
    "\n",
    "This can be performed within duckdb.\n",
    "\n",
    "TODO:\n",
    "- [x] what does sample_metadata look like?\n",
    "- [x] what does chromatogram_spectra look like?\n",
    "- [ ] distribution of:\n",
    "  - [ ]  wavelengths\n",
    "  - [ ] distribution of times\n",
    "  - [x] timestep"
   ]
  },
  {
   "cell_type": "markdown",
   "metadata": {},
   "source": [
    "# Summary\n",
    "\n",
    "\n"
   ]
  },
  {
   "cell_type": "code",
   "execution_count": null,
   "metadata": {
    "notebookRunGroups": {
     "groupValue": "1"
    }
   },
   "outputs": [],
   "source": [
    "import duckdb as db\n",
    "import polars as pl\n",
    "\n",
    "db_path = \"/Users/jonathan/mres_thesis/wine_analysis_hplc_uv/wines.db\"\n",
    "\n",
    "con = db.connect(db_path)\n"
   ]
  },
  {
   "cell_type": "markdown",
   "metadata": {},
   "source": [
    "### Correcting Offset\n"
   ]
  }
 ],
 "metadata": {
  "kernelspec": {
   "display_name": "pca-analysis-6KQS4gUX-py3.12",
   "language": "python",
   "name": "python3"
  },
  "language_info": {
   "codemirror_mode": {
    "name": "ipython",
    "version": 3
   },
   "file_extension": ".py",
   "mimetype": "text/x-python",
   "name": "python",
   "nbconvert_exporter": "python",
   "pygments_lexer": "ipython3",
   "version": "3.12.2"
  }
 },
 "nbformat": 4,
 "nbformat_minor": 2
}
