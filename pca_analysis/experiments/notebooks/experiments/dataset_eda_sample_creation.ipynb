{
 "cells": [
  {
   "cell_type": "markdown",
   "metadata": {},
   "source": [
    "---\n",
    "title: Sample Set nm 254 Creation\n",
    "description: \"creation of the `dataset_eda` schema and nm = 254 sample for the project\"\n",
    "cdt: '2024-09-06T14:32:38'\n",
    "project: \"total_dataset_EDA\"\n",
    "execution_order: \"000\"\n",
    "conclusion: Created a schema 'dataset_eda' to contain the work of the 'dataset_EDA' projcet. A table 'dataset_eda.nm_254' was created from a subset of the samples pbl.chromatogram_spectra_long @ 254 nm, which includes the 'sample_num' primary key.\n",
    "---"
   ]
  },
  {
   "cell_type": "markdown",
   "metadata": {},
   "source": [
    "# Wavelength Subset Selection\n",
    "\n",
    "Based on *a priori* knowledge, 254 is one of the maxima wavelengths. Therefore the best representative of the dataset, as every sample has a detection at that channel. We should create a subset there. This will be created as a table under the schema `dataset_eda` within the 'wine.db' database. We will also add the \"sample_num\" column from \"sample_metadata\" for ease of life."
   ]
  },
  {
   "cell_type": "code",
   "execution_count": null,
   "metadata": {},
   "outputs": [],
   "source": [
    "%reload_ext autoreload\n",
    "%autoreload 2\n",
    "\n",
    "import duckdb as db\n",
    "import polars as pl\n",
    "from pca_analysis.experiments.constants import db_path\n",
    "\n",
    "con = db.connect(db_path, read_only=True)\n",
    "con.sql(\"SHOW\").pl().head()\n"
   ]
  },
  {
   "cell_type": "code",
   "execution_count": null,
   "metadata": {},
   "outputs": [],
   "source": [
    "with db.connect(db_path) as con:\n",
    "    con.sql(\n",
    "    \"\"\"--sql\n",
    "    CREATE SCHEMA IF NOT EXISTS dataset_eda;\n",
    "    CREATE OR REPLACE TABLE\n",
    "        dataset_eda.nm_254 AS (\n",
    "    SELECT\n",
    "        mta.sample_num,\n",
    "        cs.*\n",
    "    FROM\n",
    "        pbl.chromatogram_spectra_long as cs\n",
    "    JOIN\n",
    "        pbl.sample_metadata as mta\n",
    "    USING\n",
    "        (id)\n",
    "    WHERE\n",
    "        wavelength = 254\n",
    "    ORDER BY\n",
    "        id, idx);\n",
    "    SELECT * FROM dataset_eda.nm_254\n",
    "    \"\"\"\n",
    "    ).pl().describe()\n"
   ]
  }
 ],
 "metadata": {
  "kernelspec": {
   "display_name": "pca-analysis-6KQS4gUX-py3.12",
   "language": "python",
   "name": "python3"
  },
  "language_info": {
   "codemirror_mode": {
    "name": "ipython",
    "version": 3
   },
   "file_extension": ".py",
   "mimetype": "text/x-python",
   "name": "python",
   "nbconvert_exporter": "python",
   "pygments_lexer": "ipython3",
   "version": "3.12.2"
  }
 },
 "nbformat": 4,
 "nbformat_minor": 2
}
