{
 "cells": [
  {
   "cell_type": "markdown",
   "metadata": {},
   "source": [
    "---\n",
    "title: Sample Set nm 254 Creation\n",
    "description: \"creation of the `dataset_eda` schema and nm = 254 sample for the project\"\n",
    "cdt: '2024-09-06T14:32:38'\n",
    "project: \"dataset_EDA\"\n",
    "execution_order: \"000\"\n",
    "---"
   ]
  },
  {
   "cell_type": "markdown",
   "metadata": {},
   "source": [
    "# Wavelength Subset Selection\n",
    "\n",
    "Based on *a priori* knowledge, 254 is one of the maxima wavelengths. Therefore the best representative of the dataset, as every sample has a detection at that channel. We should create a subset there. This will be created as a table under the schema `dataset_eda` within the 'wine.db' database. We will also add the \"sample_num\" column from \"sample_metadata\" for ease of life."
   ]
  },
  {
   "cell_type": "code",
   "execution_count": 1,
   "metadata": {},
   "outputs": [
    {
     "name": "stdout",
     "output_type": "stream",
     "text": [
      ".\n"
     ]
    },
    {
     "data": {
      "text/html": [
       "<div><style>\n",
       ".dataframe > thead > tr,\n",
       ".dataframe > tbody > tr {\n",
       "  text-align: right;\n",
       "  white-space: pre-wrap;\n",
       "}\n",
       "</style>\n",
       "<small>shape: (5, 6)</small><table border=\"1\" class=\"dataframe\"><thead><tr><th>database</th><th>schema</th><th>name</th><th>column_names</th><th>column_types</th><th>temporary</th></tr><tr><td>str</td><td>str</td><td>str</td><td>list[str]</td><td>list[str]</td><td>bool</td></tr></thead><tbody><tr><td>&quot;wines&quot;</td><td>&quot;dataset_eda&quot;</td><td>&quot;excluded_samples&quot;</td><td>[&quot;sample_num&quot;, &quot;comment&quot;]</td><td>[&quot;INTEGER&quot;, &quot;VARCHAR&quot;]</td><td>false</td></tr><tr><td>&quot;wines&quot;</td><td>&quot;dataset_eda&quot;</td><td>&quot;nm_254&quot;</td><td>[&quot;sample_num&quot;, &quot;idx&quot;, … &quot;hz&quot;]</td><td>[&quot;BIGINT&quot;, &quot;BIGINT&quot;, … &quot;DOUBLE&quot;]</td><td>false</td></tr><tr><td>&quot;wines&quot;</td><td>&quot;main&quot;</td><td>&quot;c_cellar_tracker&quot;</td><td>[&quot;size&quot;, &quot;vintage&quot;, … &quot;wine&quot;]</td><td>[&quot;VARCHAR&quot;, &quot;VARCHAR&quot;, … &quot;VARCHAR&quot;]</td><td>false</td></tr><tr><td>&quot;wines&quot;</td><td>&quot;main&quot;</td><td>&quot;c_chemstation_metadata&quot;</td><td>[&quot;path&quot;, &quot;ch_samplecode&quot;, … &quot;join_samplecode&quot;]</td><td>[&quot;VARCHAR&quot;, &quot;VARCHAR&quot;, … &quot;VARCHAR&quot;]</td><td>false</td></tr><tr><td>&quot;wines&quot;</td><td>&quot;main&quot;</td><td>&quot;c_sample_tracker&quot;</td><td>[&quot;detection&quot;, &quot;sampler&quot;, … &quot;ct_wine_name&quot;]</td><td>[&quot;VARCHAR&quot;, &quot;VARCHAR&quot;, … &quot;VARCHAR&quot;]</td><td>false</td></tr></tbody></table></div>"
      ],
      "text/plain": [
       "shape: (5, 6)\n",
       "┌──────────┬─────────────┬───────────────────────┬──────────────────────┬──────────────┬───────────┐\n",
       "│ database ┆ schema      ┆ name                  ┆ column_names         ┆ column_types ┆ temporary │\n",
       "│ ---      ┆ ---         ┆ ---                   ┆ ---                  ┆ ---          ┆ ---       │\n",
       "│ str      ┆ str         ┆ str                   ┆ list[str]            ┆ list[str]    ┆ bool      │\n",
       "╞══════════╪═════════════╪═══════════════════════╪══════════════════════╪══════════════╪═══════════╡\n",
       "│ wines    ┆ dataset_eda ┆ excluded_samples      ┆ [\"sample_num\",       ┆ [\"INTEGER\",  ┆ false     │\n",
       "│          ┆             ┆                       ┆ \"comment\"]           ┆ \"VARCHAR\"]   ┆           │\n",
       "│ wines    ┆ dataset_eda ┆ nm_254                ┆ [\"sample_num\",       ┆ [\"BIGINT\",   ┆ false     │\n",
       "│          ┆             ┆                       ┆ \"idx\", … \"hz\"]       ┆ \"BIGINT\", …  ┆           │\n",
       "│          ┆             ┆                       ┆                      ┆ \"DOUBLE…     ┆           │\n",
       "│ wines    ┆ main        ┆ c_cellar_tracker      ┆ [\"size\", \"vintage\",  ┆ [\"VARCHAR\",  ┆ false     │\n",
       "│          ┆             ┆                       ┆ … \"wine\"]            ┆ \"VARCHAR\", … ┆           │\n",
       "│          ┆             ┆                       ┆                      ┆ \"VARC…       ┆           │\n",
       "│ wines    ┆ main        ┆ c_chemstation_metadat ┆ [\"path\",             ┆ [\"VARCHAR\",  ┆ false     │\n",
       "│          ┆             ┆ a                     ┆ \"ch_samplecode\", …   ┆ \"VARCHAR\", … ┆           │\n",
       "│          ┆             ┆                       ┆ \"j…                  ┆ \"VARC…       ┆           │\n",
       "│ wines    ┆ main        ┆ c_sample_tracker      ┆ [\"detection\",        ┆ [\"VARCHAR\",  ┆ false     │\n",
       "│          ┆             ┆                       ┆ \"sampler\", … \"ct…    ┆ \"VARCHAR\", … ┆           │\n",
       "│          ┆             ┆                       ┆                      ┆ \"VARC…       ┆           │\n",
       "└──────────┴─────────────┴───────────────────────┴──────────────────────┴──────────────┴───────────┘"
      ]
     },
     "execution_count": 1,
     "metadata": {},
     "output_type": "execute_result"
    },
    {
     "ename": "",
     "evalue": "",
     "output_type": "error",
     "traceback": [
      "\u001b[1;31mThe Kernel crashed while executing code in the current cell or a previous cell. \n",
      "\u001b[1;31mPlease review the code in the cell(s) to identify a possible cause of the failure. \n",
      "\u001b[1;31mClick <a href='https://aka.ms/vscodeJupyterKernelCrash'>here</a> for more info. \n",
      "\u001b[1;31mView Jupyter <a href='command:jupyter.viewOutput'>log</a> for further details."
     ]
    }
   ],
   "source": [
    "%reload_ext autoreload\n",
    "%autoreload 2\n",
    "\n",
    "import duckdb as db\n",
    "import polars as pl\n",
    "from pca_analysis.experiments.constants import db_path\n",
    "\n",
    "con = db.connect(db_path, read_only=True)\n",
    "con.sql(\"SHOW\").pl().head()\n"
   ]
  },
  {
   "cell_type": "code",
   "execution_count": 4,
   "metadata": {},
   "outputs": [],
   "source": [
    "with db.connect(db_path) as con:\n",
    "    con.sql(\n",
    "    \"\"\"--sql\n",
    "    CREATE SCHEMA IF NOT EXISTS dataset_eda;\n",
    "    CREATE OR REPLACE TABLE\n",
    "        dataset_eda.nm_254 AS (\n",
    "    SELECT\n",
    "        mta.sample_num,\n",
    "        cs.*\n",
    "    FROM\n",
    "        pbl.chromatogram_spectra_long as cs\n",
    "    JOIN\n",
    "        pbl.sample_metadata as mta\n",
    "    USING\n",
    "        (id)\n",
    "    WHERE\n",
    "        wavelength = 254\n",
    "    ORDER BY\n",
    "        id, idx);\n",
    "    SELECT * FROM dataset_eda.nm_254\n",
    "    \"\"\"\n",
    "    ).pl().describe()\n"
   ]
  }
 ],
 "metadata": {
  "kernelspec": {
   "display_name": "pca-analysis-6KQS4gUX-py3.12",
   "language": "python",
   "name": "python3"
  },
  "language_info": {
   "codemirror_mode": {
    "name": "ipython",
    "version": 3
   },
   "file_extension": ".py",
   "mimetype": "text/x-python",
   "name": "python",
   "nbconvert_exporter": "python",
   "pygments_lexer": "ipython3",
   "version": "3.12.2"
  }
 },
 "nbformat": 4,
 "nbformat_minor": 2
}
