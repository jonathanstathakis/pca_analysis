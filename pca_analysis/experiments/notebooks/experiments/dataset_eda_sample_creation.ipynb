{
 "cells": [
  {
   "cell_type": "markdown",
   "metadata": {},
   "source": [
    "---\n",
    "title: Sample Set nm 254 Creation\n",
    "description: \"creation of the `dataset_eda` schema and nm = 254 sample for the project\"\n",
    "cdt: '2024-09-06T14:32:38'\n",
    "project: \"dataset_EDA\"\n",
    "---"
   ]
  },
  {
   "cell_type": "markdown",
   "metadata": {},
   "source": [
    "# Wavelength Subset Selection\n",
    "\n",
    "Based on *a priori* knowledge, 254 is one of the maxima wavelengths. Therefore the best representative of the dataset, as every sample has a detection at that channel. We should create a subset there. This will be created as a table under the schema `dataset_eda` within the 'wine.db' database."
   ]
  },
  {
   "cell_type": "code",
   "execution_count": null,
   "metadata": {},
   "outputs": [],
   "source": [
    "con.sql(\n",
    "\"\"\"\n",
    "CREATE SCHEMA IF NOT EXISTS dataset_eda;\n",
    "CREATE OR REPLACE TABLE\n",
    "    dataset_eda.nm_254 AS (\n",
    "SELECT\n",
    "    *\n",
    "FROM\n",
    "    pbl.chromatogram_spectra_long\n",
    "WHERE\n",
    "    wavelength = 254\n",
    "ORDER BY\n",
    "    id, idx);\n",
    "SELECT * FROM dataset_eda.nm_254\n",
    "\"\"\"\n",
    ").pl().describe()\n"
   ]
  }
 ],
 "metadata": {
  "language_info": {
   "name": "python"
  }
 },
 "nbformat": 4,
 "nbformat_minor": 2
}
