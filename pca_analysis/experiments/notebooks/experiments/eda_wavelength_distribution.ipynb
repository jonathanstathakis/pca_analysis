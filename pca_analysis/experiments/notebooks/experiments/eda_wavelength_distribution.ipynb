{
 "cells": [
  {
   "cell_type": "markdown",
   "metadata": {},
   "source": [
    "---\n",
    "title: EDA - Wavelength Distribution\n",
    "project: \"dataset_EDA\"\n",
    "cdt: 2024-09-06T13:16:52\n",
    "description: \"Observation of wavelength distribution and determination of common cutoff\"\n",
    "---\n"
   ]
  },
  {
   "cell_type": "code",
   "execution_count": null,
   "metadata": {},
   "outputs": [],
   "source": [
    "import duckdb as db\n",
    "import polars as pl\n",
    "\n",
    "db_path = \"/Users/jonathan/mres_thesis/wine_analysis_hplc_uv/wines.db\"\n",
    "\n",
    "con = db.connect(db_path)\n"
   ]
  },
  {
   "cell_type": "markdown",
   "metadata": {},
   "source": [
    "What are the unique counts of sample per wavelength?"
   ]
  },
  {
   "cell_type": "code",
   "execution_count": null,
   "metadata": {},
   "outputs": [],
   "source": [
    "# number of unique counts\n",
    "\n",
    "samples_per_wavelength = con.sql(\n",
    "    \"\"\"\n",
    "    SELECT\n",
    "        wavelength,\n",
    "        COUNT(DISTINCT ID) as num_samples\n",
    "    FROM\n",
    "        pbl.chromatogram_spectra_long\n",
    "    GROUP BY\n",
    "        wavelength\n",
    "    ORDER BY\n",
    "        num_samples DESC\n",
    "    \"\"\"\n",
    ")\n",
    "\n",
    "unique_sample_counts = con.sql(\n",
    "    \"\"\"\n",
    "    SELECT\n",
    "        DISTINCT num_samples as unique_sample_counts\n",
    "    FROM\n",
    "        samples_per_wavelength\n",
    "    \"\"\"\n",
    ")\n",
    "\n",
    "unique_sample_counts.pl()\n"
   ]
  },
  {
   "cell_type": "markdown",
   "metadata": {},
   "source": [
    "Not sure how to interpret that one, 71 samples have wavelengths on top of the that the other 104 dont have?"
   ]
  },
  {
   "cell_type": "markdown",
   "metadata": {},
   "source": [
    "Yes. Every samples wavelength starts at 190nm."
   ]
  },
  {
   "cell_type": "code",
   "execution_count": null,
   "metadata": {},
   "outputs": [],
   "source": [
    "wavelength_min_max_per_id = con.sql(\n",
    "    \"\"\"\n",
    "    SELECT\n",
    "        id,\n",
    "        min(wavelength) as nm_min,\n",
    "        max(wavelength) as nm_max,\n",
    "    FROM\n",
    "        pbl.chromatogram_spectra_long\n",
    "    GROUP BY\n",
    "        id\n",
    "    \"\"\"\n",
    ")\n",
    "wavelength_min_max_per_id\n"
   ]
  },
  {
   "cell_type": "markdown",
   "metadata": {},
   "source": [
    "does every sample start at 190?"
   ]
  },
  {
   "cell_type": "code",
   "execution_count": null,
   "metadata": {},
   "outputs": [],
   "source": [
    "unique_min_wavelengths = con.sql(\n",
    "    \"\"\"\n",
    "    SELECT\n",
    "        DISTINCT nm_min\n",
    "    FROM\n",
    "        wavelength_min_max_per_id\n",
    "    \"\"\"\n",
    ")\n",
    "unique_min_wavelengths\n"
   ]
  },
  {
   "cell_type": "markdown",
   "metadata": {},
   "source": [
    "how many end wavelengths?"
   ]
  },
  {
   "cell_type": "code",
   "execution_count": null,
   "metadata": {},
   "outputs": [],
   "source": [
    "unique_max_wavelengths = con.sql(\n",
    "    \"\"\"\n",
    "    SELECT\n",
    "        DISTINCT nm_max\n",
    "    FROM\n",
    "        wavelength_min_max_per_id\n",
    "    \"\"\"\n",
    ")\n",
    "unique_max_wavelengths\n"
   ]
  },
  {
   "cell_type": "markdown",
   "metadata": {},
   "source": [
    "there are two wavelengths, 600 and 400."
   ]
  },
  {
   "cell_type": "code",
   "execution_count": null,
   "metadata": {},
   "outputs": [],
   "source": [
    "# how many per wavelength range?\n",
    "\n",
    "samples_per_wavelength_max = con.sql(\n",
    "    \"\"\"\n",
    "    SELECT\n",
    "        nm_max,\n",
    "        COUNT (id)\n",
    "    FROM\n",
    "        wavelength_min_max_per_id\n",
    "    GROUP BY\n",
    "        nm_max\n",
    "    ORDER BY\n",
    "        nm_max\n",
    "    \"\"\"\n",
    ")\n",
    "\n",
    "samples_per_wavelength_max\n"
   ]
  },
  {
   "cell_type": "markdown",
   "metadata": {},
   "source": [
    "104 \n"
   ]
  },
  {
   "cell_type": "code",
   "execution_count": null,
   "metadata": {},
   "outputs": [],
   "source": [
    "def describe_wavelengths(con):\n",
    "    query = \\\n",
    "    \"\"\"\n",
    "    SELECT\n",
    "        id,\n",
    "        min(wavelength),\n",
    "        max(wavelength),\n",
    "        count(wavelength)\n",
    "    FROM\n",
    "        pbl.chromatogram_spectra_long\n",
    "    GROUP BY\n",
    "        id\n",
    "    \"\"\"\n",
    "    \n",
    "    con.sql(query).pl()\n",
    "\n",
    "describe_wavelengths(con)\n",
    "    "
   ]
  }
 ],
 "metadata": {
  "kernelspec": {
   "display_name": "pca-analysis-6KQS4gUX-py3.12",
   "language": "python",
   "name": "python3"
  },
  "language_info": {
   "codemirror_mode": {
    "name": "ipython",
    "version": 3
   },
   "file_extension": ".py",
   "mimetype": "text/x-python",
   "name": "python",
   "nbconvert_exporter": "python",
   "pygments_lexer": "ipython3",
   "version": "3.12.2"
  }
 },
 "nbformat": 4,
 "nbformat_minor": 2
}
