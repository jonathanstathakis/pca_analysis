{
 "cells": [
  {
   "cell_type": "markdown",
   "metadata": {},
   "source": [
    "---\n",
    "title: EDA - Wavelength Distribution\n",
    "project: \"total_dataset_EDA\"\n",
    "cdt: 2024-09-06T13:16:52\n",
    "description: \"Observation of wavelength distribution and determination of common cutoff\"\n",
    "conclusion: \"175 samples start at 190nm. 104 include a max of 400nm, 71 run until 600 nm.\"\n",
    "---\n"
   ]
  },
  {
   "cell_type": "code",
   "execution_count": null,
   "metadata": {},
   "outputs": [],
   "source": [
    "import duckdb as db\n",
    "import polars as pl\n",
    "\n",
    "db_path = \"/Users/jonathan/mres_thesis/wine_analysis_hplc_uv/wines.db\"\n",
    "\n",
    "con = db.connect(db_path)\n"
   ]
  },
  {
   "cell_type": "markdown",
   "metadata": {},
   "source": [
    "What are the unique counts of sample per wavelength?"
   ]
  },
  {
   "cell_type": "code",
   "execution_count": null,
   "metadata": {},
   "outputs": [],
   "source": [
    "# number of unique counts\n",
    "\n",
    "samples_per_wavelength = con.sql(\n",
    "    \"\"\"\n",
    "    SELECT\n",
    "        wavelength,\n",
    "        COUNT(DISTINCT ID) as num_samples\n",
    "    FROM\n",
    "        pbl.chromatogram_spectra_long\n",
    "    GROUP BY\n",
    "        wavelength\n",
    "    ORDER BY\n",
    "        num_samples DESC\n",
    "    \"\"\"\n",
    ")\n",
    "\n",
    "unique_sample_counts = con.sql(\n",
    "    \"\"\"\n",
    "    SELECT\n",
    "        DISTINCT num_samples as unique_sample_counts\n",
    "    FROM\n",
    "        samples_per_wavelength\n",
    "    \"\"\"\n",
    ")\n",
    "\n",
    "unique_sample_counts.pl()\n"
   ]
  },
  {
   "cell_type": "markdown",
   "metadata": {},
   "source": [
    "Not sure how to interpret that one, 71 samples have wavelengths on top of the that the other 104 dont have?"
   ]
  },
  {
   "cell_type": "markdown",
   "metadata": {},
   "source": [
    "Yes. Every samples wavelength starts at 190nm."
   ]
  },
  {
   "cell_type": "code",
   "execution_count": null,
   "metadata": {},
   "outputs": [],
   "source": [
    "wavelength_min_max_per_id = con.sql(\n",
    "    \"\"\"\n",
    "    SELECT\n",
    "        id,\n",
    "        min(wavelength) as nm_min,\n",
    "        max(wavelength) as nm_max,\n",
    "    FROM\n",
    "        pbl.chromatogram_spectra_long\n",
    "    GROUP BY\n",
    "        id\n",
    "    \"\"\"\n",
    ")\n",
    "wavelength_min_max_per_id.pl()\n"
   ]
  },
  {
   "cell_type": "markdown",
   "metadata": {},
   "source": [
    "does every sample start at 190?"
   ]
  },
  {
   "cell_type": "code",
   "execution_count": null,
   "metadata": {},
   "outputs": [],
   "source": [
    "unique_min_wavelengths = con.sql(\n",
    "    \"\"\"\n",
    "    SELECT\n",
    "        DISTINCT nm_min\n",
    "    FROM\n",
    "        wavelength_min_max_per_id\n",
    "    \"\"\"\n",
    ")\n",
    "unique_min_wavelengths.pl()\n"
   ]
  },
  {
   "cell_type": "markdown",
   "metadata": {},
   "source": [
    "how many end wavelengths?"
   ]
  },
  {
   "cell_type": "code",
   "execution_count": null,
   "metadata": {},
   "outputs": [],
   "source": [
    "unique_max_wavelengths = con.sql(\n",
    "    \"\"\"\n",
    "    SELECT\n",
    "        DISTINCT nm_max\n",
    "    FROM\n",
    "        wavelength_min_max_per_id\n",
    "    \"\"\"\n",
    ")\n",
    "unique_max_wavelengths.pl()\n"
   ]
  },
  {
   "cell_type": "markdown",
   "metadata": {},
   "source": [
    "there are two wavelengths, 600 and 400."
   ]
  },
  {
   "cell_type": "code",
   "execution_count": null,
   "metadata": {},
   "outputs": [],
   "source": [
    "# how many per wavelength range?\n",
    "\n",
    "samples_per_wavelength_max = con.sql(\n",
    "    \"\"\"\n",
    "    SELECT\n",
    "        nm_max,\n",
    "        COUNT (id) count\n",
    "    FROM\n",
    "        wavelength_min_max_per_id\n",
    "    GROUP BY\n",
    "        nm_max\n",
    "    ORDER BY\n",
    "        nm_max\n",
    "    \"\"\"\n",
    ")\n",
    "\n",
    "samples_per_wavelength_max.pl()\n"
   ]
  },
  {
   "cell_type": "markdown",
   "metadata": {},
   "source": [
    "104 \n"
   ]
  },
  {
   "cell_type": "markdown",
   "metadata": {},
   "source": [
    "104 samples run from 190 to 400 nm. 71 samples run from 190 to 600 nm."
   ]
  },
  {
   "cell_type": "markdown",
   "metadata": {},
   "source": [
    "# Conclusion\n",
    "\n",
    "\n",
    "All samples 175 samples in the total dataset (across 'raw' and 'cuprac') start at 190 nm and run to either 400 or 600 nm. 104 run until 400nm, and 71 include a range of 190 - 600 nm."
   ]
  }
 ],
 "metadata": {
  "kernelspec": {
   "display_name": "pca-analysis-6KQS4gUX-py3.12",
   "language": "python",
   "name": "python3"
  },
  "language_info": {
   "codemirror_mode": {
    "name": "ipython",
    "version": 3
   },
   "file_extension": ".py",
   "mimetype": "text/x-python",
   "name": "python",
   "nbconvert_exporter": "python",
   "pygments_lexer": "ipython3",
   "version": "3.12.2"
  }
 },
 "nbformat": 4,
 "nbformat_minor": 2
}
