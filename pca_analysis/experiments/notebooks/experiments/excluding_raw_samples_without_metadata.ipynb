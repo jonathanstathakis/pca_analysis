{
 "cells": [
  {
   "cell_type": "markdown",
   "metadata": {},
   "source": [
    "---\n",
    "cdt: 2024-09-10T11:02:40\n",
    "title: Excluding Raw Samples Lacking Metadata\n",
    "project: database_architecture\n",
    "description: \"It has been noted that some 'raw' samples are missing thier metadata. This is an exploration of why, and how to address it.\"\n",
    "conclusion: \"Have found that 6 samples in the 'raw' dataset are lacking metadata. As they have been judged to lack value, they are being excluded for now by adding their 'sample_num' to a table data 'dataset_eda.excluded_samples'.\"\n",
    "---\n"
   ]
  },
  {
   "cell_type": "code",
   "execution_count": null,
   "metadata": {},
   "outputs": [],
   "source": [
    "%reload_ext autoreload\n",
    "%autoreload 2\n",
    "\n",
    "import duckdb as db\n",
    "import polars as pl\n",
    "from pca_analysis.experiments.constants import db_path\n",
    "\n",
    "con = db.connect(db_path, read_only=True)\n",
    "\n"
   ]
  },
  {
   "cell_type": "code",
   "execution_count": null,
   "metadata": {},
   "outputs": [],
   "source": [
    "null_varietals = con.sql(\n",
    "\"\"\"--sql\n",
    "SELECT\n",
    "    *\n",
    "FROM\n",
    "    pbl.sample_metadata\n",
    "WHERE\n",
    "    varietal IS NULL\n",
    "AND\n",
    "    detection = 'raw'\n",
    "\"\"\"\n",
    ").pl()\n",
    "null_varietals\n"
   ]
  },
  {
   "cell_type": "markdown",
   "metadata": {},
   "source": [
    "6 samples are missing 'wine', 'color', and varietal values. Why?\n"
   ]
  },
  {
   "cell_type": "code",
   "execution_count": null,
   "metadata": {},
   "outputs": [],
   "source": [
    "con.sql(\n",
    "\"\"\"--sql\n",
    "SELECT\n",
    "    *\n",
    "FROM\n",
    "    c_sample_tracker\n",
    "WHERE\n",
    "    samplecode IN (SELECT samplecode FROM null_varietals)\n",
    "\"\"\"\n",
    ").pl()\n"
   ]
  },
  {
   "cell_type": "markdown",
   "metadata": {},
   "source": [
    "I assume its because the wines are not in the cellar tracker table. Frankly I dont consider these wines of value due to under-representation of their categories. They can be reintegrated later if necessary.\n"
   ]
  },
  {
   "cell_type": "code",
   "execution_count": null,
   "metadata": {},
   "outputs": [],
   "source": [
    "missing_metadata_excluded_samples = con.sql(\n",
    "\"\"\"--sql\n",
    "WITH\n",
    "  commented as (\n",
    "    SELECT\n",
    "      sample_num,\n",
    "      'missing metadata' AS comment,\n",
    "      'excluding_raw_samples_without_metadata.ipynb' as proof\n",
    "    FROM\n",
    "      null_varietals\n",
    "    )\n",
    "SELECT\n",
    "  *\n",
    "FROM\n",
    "  commented\n",
    "\"\"\"\n",
    ").pl()\n",
    "\n",
    "missing_metadata_excluded_samples\n"
   ]
  },
  {
   "cell_type": "markdown",
   "metadata": {},
   "source": [
    "We will thus add them to the excluded list."
   ]
  },
  {
   "cell_type": "code",
   "execution_count": null,
   "metadata": {},
   "outputs": [],
   "source": [
    "#%%script #uncomment to execut this cell\n",
    "\n",
    "con.close()\n",
    "con = db.connect(db_path)\n",
    "\n",
    "if input(\"warning: this will add values to table 'dataset_eda.excluded_samples'. press 'y' to continue:\") == 'y':\n",
    "    con.sql(\n",
    "    \"\"\"--sql\n",
    "    INSERT INTO\n",
    "        dataset_eda.excluded_samples\n",
    "    SELECT\n",
    "        *\n",
    "    FROM\n",
    "        missing_metadata_excluded_samples\n",
    "    \"\"\")\n",
    "\n",
    "    excluded_samples = con.sql(\n",
    "    \"\"\"--sql\n",
    "    SELECT\n",
    "        *\n",
    "    FROM\n",
    "        dataset_eda.excluded_samples\n",
    "    \"\"\"\n",
    "    ).pl()\n",
    "    print(\"added values to 'dataset_eda.excluded_samples'\")\n",
    "    display(excluded_samples)\n",
    "else:\n",
    "    print('did not execute SQL')\n"
   ]
  }
 ],
 "metadata": {
  "kernelspec": {
   "display_name": "pca-analysis-6KQS4gUX-py3.12",
   "language": "python",
   "name": "python3"
  },
  "language_info": {
   "codemirror_mode": {
    "name": "ipython",
    "version": 3
   },
   "file_extension": ".py",
   "mimetype": "text/x-python",
   "name": "python",
   "nbconvert_exporter": "python",
   "pygments_lexer": "ipython3",
   "version": "3.12.2"
  }
 },
 "nbformat": 4,
 "nbformat_minor": 2
}
