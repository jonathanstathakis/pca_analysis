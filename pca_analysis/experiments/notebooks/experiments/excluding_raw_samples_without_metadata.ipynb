{
 "cells": [
  {
   "cell_type": "markdown",
   "metadata": {},
   "source": [
    "---\n",
    "cdt: 2024-09-10T11:02:40\n",
    "title: Excluding Raw Samples Lacking Metadata\n",
    "description: \"Have found that a number of samples in the 'raw' dataset are lacking metadata. As they have been judged to lack value, they are being excluded for now. This document contains the discussion and code to add them to the excluded list\"\n",
    "project: dataset_EDA\n",
    "summary: 6 samples were added to the excluded list\n",
    "---\n"
   ]
  },
  {
   "cell_type": "code",
   "execution_count": 1,
   "metadata": {},
   "outputs": [
    {
     "name": "stdout",
     "output_type": "stream",
     "text": [
      ".\n"
     ]
    }
   ],
   "source": [
    "%reload_ext autoreload\n",
    "%autoreload 2\n",
    "\n",
    "import duckdb as db\n",
    "import polars as pl\n",
    "from pca_analysis.experiments.constants import db_path\n",
    "\n",
    "con = db.connect(db_path, read_only=True)\n",
    "\n"
   ]
  },
  {
   "cell_type": "code",
   "execution_count": 2,
   "metadata": {},
   "outputs": [
    {
     "data": {
      "text/html": [
       "<div><style>\n",
       ".dataframe > thead > tr,\n",
       ".dataframe > tbody > tr {\n",
       "  text-align: right;\n",
       "  white-space: pre-wrap;\n",
       "}\n",
       "</style>\n",
       "<small>shape: (6, 8)</small><table border=\"1\" class=\"dataframe\"><thead><tr><th>detection</th><th>acq_date</th><th>wine</th><th>color</th><th>varietal</th><th>samplecode</th><th>id</th><th>sample_num</th></tr><tr><td>str</td><td>str</td><td>str</td><td>str</td><td>str</td><td>str</td><td>str</td><td>i64</td></tr></thead><tbody><tr><td>&quot;raw&quot;</td><td>&quot;2023-02-16 02:06:05&quot;</td><td>null</td><td>null</td><td>null</td><td>&quot;18&quot;</td><td>&quot;49cb7b13-3646-4e65-83c2-43b492…</td><td>13</td></tr><tr><td>&quot;raw&quot;</td><td>&quot;2023-02-16 15:35:24&quot;</td><td>null</td><td>null</td><td>null</td><td>&quot;25&quot;</td><td>&quot;a7bd7365-981b-49c3-874a-1f7b37…</td><td>21</td></tr><tr><td>&quot;raw&quot;</td><td>&quot;2023-02-16 17:22:50&quot;</td><td>null</td><td>null</td><td>null</td><td>&quot;27&quot;</td><td>&quot;3d094718-2d85-462f-bd56-41622d…</td><td>23</td></tr><tr><td>&quot;raw&quot;</td><td>&quot;2023-03-15 19:38:07&quot;</td><td>null</td><td>null</td><td>null</td><td>&quot;55&quot;</td><td>&quot;6c21c6a3-8b4a-4385-a023-09cbf6…</td><td>54</td></tr><tr><td>&quot;raw&quot;</td><td>&quot;2023-05-09 03:13:54&quot;</td><td>null</td><td>null</td><td>null</td><td>&quot;112&quot;</td><td>&quot;631766f0-2c8e-49fd-9381-5716da…</td><td>100</td></tr><tr><td>&quot;raw&quot;</td><td>&quot;2023-05-09 04:07:24&quot;</td><td>null</td><td>null</td><td>null</td><td>&quot;113&quot;</td><td>&quot;e33cb9ba-fbfc-4c47-906c-44d096…</td><td>101</td></tr></tbody></table></div>"
      ],
      "text/plain": [
       "shape: (6, 8)\n",
       "┌───────────┬────────────┬──────┬───────┬──────────┬────────────┬─────────────────────┬────────────┐\n",
       "│ detection ┆ acq_date   ┆ wine ┆ color ┆ varietal ┆ samplecode ┆ id                  ┆ sample_num │\n",
       "│ ---       ┆ ---        ┆ ---  ┆ ---   ┆ ---      ┆ ---        ┆ ---                 ┆ ---        │\n",
       "│ str       ┆ str        ┆ str  ┆ str   ┆ str      ┆ str        ┆ str                 ┆ i64        │\n",
       "╞═══════════╪════════════╪══════╪═══════╪══════════╪════════════╪═════════════════════╪════════════╡\n",
       "│ raw       ┆ 2023-02-16 ┆ null ┆ null  ┆ null     ┆ 18         ┆ 49cb7b13-3646-4e65- ┆ 13         │\n",
       "│           ┆ 02:06:05   ┆      ┆       ┆          ┆            ┆ 83c2-43b492…        ┆            │\n",
       "│ raw       ┆ 2023-02-16 ┆ null ┆ null  ┆ null     ┆ 25         ┆ a7bd7365-981b-49c3- ┆ 21         │\n",
       "│           ┆ 15:35:24   ┆      ┆       ┆          ┆            ┆ 874a-1f7b37…        ┆            │\n",
       "│ raw       ┆ 2023-02-16 ┆ null ┆ null  ┆ null     ┆ 27         ┆ 3d094718-2d85-462f- ┆ 23         │\n",
       "│           ┆ 17:22:50   ┆      ┆       ┆          ┆            ┆ bd56-41622d…        ┆            │\n",
       "│ raw       ┆ 2023-03-15 ┆ null ┆ null  ┆ null     ┆ 55         ┆ 6c21c6a3-8b4a-4385- ┆ 54         │\n",
       "│           ┆ 19:38:07   ┆      ┆       ┆          ┆            ┆ a023-09cbf6…        ┆            │\n",
       "│ raw       ┆ 2023-05-09 ┆ null ┆ null  ┆ null     ┆ 112        ┆ 631766f0-2c8e-49fd- ┆ 100        │\n",
       "│           ┆ 03:13:54   ┆      ┆       ┆          ┆            ┆ 9381-5716da…        ┆            │\n",
       "│ raw       ┆ 2023-05-09 ┆ null ┆ null  ┆ null     ┆ 113        ┆ e33cb9ba-fbfc-4c47- ┆ 101        │\n",
       "│           ┆ 04:07:24   ┆      ┆       ┆          ┆            ┆ 906c-44d096…        ┆            │\n",
       "└───────────┴────────────┴──────┴───────┴──────────┴────────────┴─────────────────────┴────────────┘"
      ]
     },
     "execution_count": 2,
     "metadata": {},
     "output_type": "execute_result"
    }
   ],
   "source": [
    "null_varietals = con.sql(\n",
    "\"\"\"--sql\n",
    "SELECT\n",
    "    *\n",
    "FROM\n",
    "    pbl.sample_metadata\n",
    "WHERE\n",
    "    varietal IS NULL\n",
    "AND\n",
    "    detection = 'raw'\n",
    "\"\"\"\n",
    ").pl()\n",
    "null_varietals\n"
   ]
  },
  {
   "cell_type": "markdown",
   "metadata": {},
   "source": [
    "6 samples are missing 'wine', 'color', and varietal values. Why?\n"
   ]
  },
  {
   "cell_type": "code",
   "execution_count": 3,
   "metadata": {},
   "outputs": [
    {
     "data": {
      "text/html": [
       "<div><style>\n",
       ".dataframe > thead > tr,\n",
       ".dataframe > tbody > tr {\n",
       "  text-align: right;\n",
       "  white-space: pre-wrap;\n",
       "}\n",
       "</style>\n",
       "<small>shape: (6, 11)</small><table border=\"1\" class=\"dataframe\"><thead><tr><th>detection</th><th>sampler</th><th>samplecode</th><th>vintage</th><th>name</th><th>open_date</th><th>sampled_date</th><th>added_to_cellartracker</th><th>notes</th><th>size</th><th>ct_wine_name</th></tr><tr><td>str</td><td>str</td><td>str</td><td>str</td><td>str</td><td>str</td><td>str</td><td>str</td><td>str</td><td>str</td><td>str</td></tr></thead><tbody><tr><td>&quot;raw&quot;</td><td>&quot;jonathan&quot;</td><td>&quot;18&quot;</td><td>&quot;null&quot;</td><td>&quot;empty id, missing wine&quot;</td><td>null</td><td>null</td><td>&quot;y&quot;</td><td>null</td><td>&quot;750&quot;</td><td>&quot; &quot;</td></tr><tr><td>&quot;raw&quot;</td><td>&quot;jonathan&quot;</td><td>&quot;25&quot;</td><td>&quot;nv&quot;</td><td>&quot;nv ulysse collin champagne bla…</td><td>&quot;2023-02-13&quot;</td><td>null</td><td>&quot;y&quot;</td><td>null</td><td>&quot;750&quot;</td><td>&quot; &quot;</td></tr><tr><td>&quot;raw&quot;</td><td>&quot;jonathan&quot;</td><td>&quot;27&quot;</td><td>&quot;null&quot;</td><td>&quot;mystery&quot;</td><td>&quot;2023-02-10&quot;</td><td>null</td><td>&quot;y&quot;</td><td>null</td><td>&quot;750&quot;</td><td>&quot; &quot;</td></tr><tr><td>&quot;raw&quot;</td><td>&quot;jonathan&quot;</td><td>&quot;55&quot;</td><td>&quot;nv&quot;</td><td>&quot;mumm tasmania brut prestige&quot;</td><td>null</td><td>&quot;2023-03-13&quot;</td><td>&quot;y&quot;</td><td>null</td><td>&quot;750&quot;</td><td>&quot; &quot;</td></tr><tr><td>&quot;raw&quot;</td><td>&quot;jonathan&quot;</td><td>&quot;112&quot;</td><td>null</td><td>&quot;clembush&quot;</td><td>&quot;2023-05-05&quot;</td><td>&quot;2023-05-08&quot;</td><td>&quot;n&quot;</td><td>null</td><td>&quot;750&quot;</td><td>&quot; &quot;</td></tr><tr><td>&quot;raw&quot;</td><td>&quot;jonathan&quot;</td><td>&quot;113&quot;</td><td>null</td><td>&quot;leflaive macon-verze blanc le …</td><td>&quot;2023-04-20&quot;</td><td>&quot;2023-05-08&quot;</td><td>&quot;n&quot;</td><td>null</td><td>&quot;750&quot;</td><td>&quot; &quot;</td></tr></tbody></table></div>"
      ],
      "text/plain": [
       "shape: (6, 11)\n",
       "┌───────────┬──────────┬────────────┬─────────┬───┬──────────────────┬───────┬──────┬──────────────┐\n",
       "│ detection ┆ sampler  ┆ samplecode ┆ vintage ┆ … ┆ added_to_cellart ┆ notes ┆ size ┆ ct_wine_name │\n",
       "│ ---       ┆ ---      ┆ ---        ┆ ---     ┆   ┆ racker           ┆ ---   ┆ ---  ┆ ---          │\n",
       "│ str       ┆ str      ┆ str        ┆ str     ┆   ┆ ---              ┆ str   ┆ str  ┆ str          │\n",
       "│           ┆          ┆            ┆         ┆   ┆ str              ┆       ┆      ┆              │\n",
       "╞═══════════╪══════════╪════════════╪═════════╪═══╪══════════════════╪═══════╪══════╪══════════════╡\n",
       "│ raw       ┆ jonathan ┆ 18         ┆ null    ┆ … ┆ y                ┆ null  ┆ 750  ┆              │\n",
       "│ raw       ┆ jonathan ┆ 25         ┆ nv      ┆ … ┆ y                ┆ null  ┆ 750  ┆              │\n",
       "│ raw       ┆ jonathan ┆ 27         ┆ null    ┆ … ┆ y                ┆ null  ┆ 750  ┆              │\n",
       "│ raw       ┆ jonathan ┆ 55         ┆ nv      ┆ … ┆ y                ┆ null  ┆ 750  ┆              │\n",
       "│ raw       ┆ jonathan ┆ 112        ┆ null    ┆ … ┆ n                ┆ null  ┆ 750  ┆              │\n",
       "│ raw       ┆ jonathan ┆ 113        ┆ null    ┆ … ┆ n                ┆ null  ┆ 750  ┆              │\n",
       "└───────────┴──────────┴────────────┴─────────┴───┴──────────────────┴───────┴──────┴──────────────┘"
      ]
     },
     "execution_count": 3,
     "metadata": {},
     "output_type": "execute_result"
    }
   ],
   "source": [
    "con.sql(\n",
    "\"\"\"--sql\n",
    "SELECT\n",
    "    *\n",
    "FROM\n",
    "    c_sample_tracker\n",
    "WHERE\n",
    "    samplecode IN (SELECT samplecode FROM null_varietals)\n",
    "\"\"\"\n",
    ").pl()\n"
   ]
  },
  {
   "cell_type": "markdown",
   "metadata": {},
   "source": [
    "I assume its because the wines are not in the cellar tracker table. Frankly I dont consider these wines of value due to under-representation of their categories. They can be reintegrated later if necessary.\n"
   ]
  },
  {
   "cell_type": "code",
   "execution_count": 4,
   "metadata": {},
   "outputs": [
    {
     "data": {
      "text/html": [
       "<div><style>\n",
       ".dataframe > thead > tr,\n",
       ".dataframe > tbody > tr {\n",
       "  text-align: right;\n",
       "  white-space: pre-wrap;\n",
       "}\n",
       "</style>\n",
       "<small>shape: (6, 3)</small><table border=\"1\" class=\"dataframe\"><thead><tr><th>sample_num</th><th>comment</th><th>proof</th></tr><tr><td>i64</td><td>str</td><td>str</td></tr></thead><tbody><tr><td>13</td><td>&quot;missing metadata&quot;</td><td>&quot;excluding_raw_samples_without_…</td></tr><tr><td>21</td><td>&quot;missing metadata&quot;</td><td>&quot;excluding_raw_samples_without_…</td></tr><tr><td>23</td><td>&quot;missing metadata&quot;</td><td>&quot;excluding_raw_samples_without_…</td></tr><tr><td>54</td><td>&quot;missing metadata&quot;</td><td>&quot;excluding_raw_samples_without_…</td></tr><tr><td>100</td><td>&quot;missing metadata&quot;</td><td>&quot;excluding_raw_samples_without_…</td></tr><tr><td>101</td><td>&quot;missing metadata&quot;</td><td>&quot;excluding_raw_samples_without_…</td></tr></tbody></table></div>"
      ],
      "text/plain": [
       "shape: (6, 3)\n",
       "┌────────────┬──────────────────┬─────────────────────────────────┐\n",
       "│ sample_num ┆ comment          ┆ proof                           │\n",
       "│ ---        ┆ ---              ┆ ---                             │\n",
       "│ i64        ┆ str              ┆ str                             │\n",
       "╞════════════╪══════════════════╪═════════════════════════════════╡\n",
       "│ 13         ┆ missing metadata ┆ excluding_raw_samples_without_… │\n",
       "│ 21         ┆ missing metadata ┆ excluding_raw_samples_without_… │\n",
       "│ 23         ┆ missing metadata ┆ excluding_raw_samples_without_… │\n",
       "│ 54         ┆ missing metadata ┆ excluding_raw_samples_without_… │\n",
       "│ 100        ┆ missing metadata ┆ excluding_raw_samples_without_… │\n",
       "│ 101        ┆ missing metadata ┆ excluding_raw_samples_without_… │\n",
       "└────────────┴──────────────────┴─────────────────────────────────┘"
      ]
     },
     "execution_count": 4,
     "metadata": {},
     "output_type": "execute_result"
    }
   ],
   "source": [
    "missing_metadata_excluded_samples = con.sql(\n",
    "\"\"\"--sql\n",
    "WITH\n",
    "  commented as (\n",
    "    SELECT\n",
    "      sample_num,\n",
    "      'missing metadata' AS comment,\n",
    "      'excluding_raw_samples_without_metadata.ipynb' as proof\n",
    "    FROM\n",
    "      null_varietals\n",
    "    )\n",
    "SELECT\n",
    "  *\n",
    "FROM\n",
    "  commented\n",
    "\"\"\"\n",
    ").pl()\n",
    "\n",
    "missing_metadata_excluded_samples\n"
   ]
  },
  {
   "cell_type": "markdown",
   "metadata": {},
   "source": [
    "We will thus add them to the excluded list."
   ]
  },
  {
   "cell_type": "code",
   "execution_count": 9,
   "metadata": {},
   "outputs": [
    {
     "ename": "ConstraintException",
     "evalue": "Constraint Error: Duplicate key \"sample_num: 13\" violates primary key constraint. If this is an unexpected constraint violation please double check with the known index limitations section in our documentation (https://duckdb.org/docs/sql/indexes).",
     "output_type": "error",
     "traceback": [
      "\u001b[0;31m---------------------------------------------------------------------------\u001b[0m",
      "\u001b[0;31mConstraintException\u001b[0m                       Traceback (most recent call last)",
      "\u001b[1;32m/Users/jonathan/mres_thesis/pca_analysis/pca_analysis/experiments/notebooks/experiments/excluding_raw_samples_without_metadata.ipynb Cell 9\u001b[0m line \u001b[0;36m5\n\u001b[1;32m      <a href='vscode-notebook-cell:/Users/jonathan/mres_thesis/pca_analysis/pca_analysis/experiments/notebooks/experiments/excluding_raw_samples_without_metadata.ipynb#X14sZmlsZQ%3D%3D?line=1'>2</a>\u001b[0m con \u001b[39m=\u001b[39m db\u001b[39m.\u001b[39mconnect(db_path)\n\u001b[1;32m      <a href='vscode-notebook-cell:/Users/jonathan/mres_thesis/pca_analysis/pca_analysis/experiments/notebooks/experiments/excluding_raw_samples_without_metadata.ipynb#X14sZmlsZQ%3D%3D?line=3'>4</a>\u001b[0m \u001b[39mif\u001b[39;00m \u001b[39minput\u001b[39m(\u001b[39m\"\u001b[39m\u001b[39mwarning: this will add values to table \u001b[39m\u001b[39m'\u001b[39m\u001b[39mdataset_eda.excluded_samples\u001b[39m\u001b[39m'\u001b[39m\u001b[39m. press \u001b[39m\u001b[39m'\u001b[39m\u001b[39my\u001b[39m\u001b[39m'\u001b[39m\u001b[39m to continue:\u001b[39m\u001b[39m\"\u001b[39m) \u001b[39m==\u001b[39m \u001b[39m'\u001b[39m\u001b[39my\u001b[39m\u001b[39m'\u001b[39m:\n\u001b[0;32m----> <a href='vscode-notebook-cell:/Users/jonathan/mres_thesis/pca_analysis/pca_analysis/experiments/notebooks/experiments/excluding_raw_samples_without_metadata.ipynb#X14sZmlsZQ%3D%3D?line=4'>5</a>\u001b[0m     con\u001b[39m.\u001b[39;49msql(\n\u001b[1;32m      <a href='vscode-notebook-cell:/Users/jonathan/mres_thesis/pca_analysis/pca_analysis/experiments/notebooks/experiments/excluding_raw_samples_without_metadata.ipynb#X14sZmlsZQ%3D%3D?line=5'>6</a>\u001b[0m \u001b[39m    \u001b[39;49m\u001b[39m\"\"\"--sql\u001b[39;49;00m\n\u001b[1;32m      <a href='vscode-notebook-cell:/Users/jonathan/mres_thesis/pca_analysis/pca_analysis/experiments/notebooks/experiments/excluding_raw_samples_without_metadata.ipynb#X14sZmlsZQ%3D%3D?line=6'>7</a>\u001b[0m \u001b[39m    INSERT INTO\u001b[39;49;00m\n\u001b[1;32m      <a href='vscode-notebook-cell:/Users/jonathan/mres_thesis/pca_analysis/pca_analysis/experiments/notebooks/experiments/excluding_raw_samples_without_metadata.ipynb#X14sZmlsZQ%3D%3D?line=7'>8</a>\u001b[0m \u001b[39m        dataset_eda.excluded_samples\u001b[39;49;00m\n\u001b[1;32m      <a href='vscode-notebook-cell:/Users/jonathan/mres_thesis/pca_analysis/pca_analysis/experiments/notebooks/experiments/excluding_raw_samples_without_metadata.ipynb#X14sZmlsZQ%3D%3D?line=8'>9</a>\u001b[0m \u001b[39m    SELECT\u001b[39;49;00m\n\u001b[1;32m     <a href='vscode-notebook-cell:/Users/jonathan/mres_thesis/pca_analysis/pca_analysis/experiments/notebooks/experiments/excluding_raw_samples_without_metadata.ipynb#X14sZmlsZQ%3D%3D?line=9'>10</a>\u001b[0m \u001b[39m        *\u001b[39;49;00m\n\u001b[1;32m     <a href='vscode-notebook-cell:/Users/jonathan/mres_thesis/pca_analysis/pca_analysis/experiments/notebooks/experiments/excluding_raw_samples_without_metadata.ipynb#X14sZmlsZQ%3D%3D?line=10'>11</a>\u001b[0m \u001b[39m    FROM\u001b[39;49;00m\n\u001b[1;32m     <a href='vscode-notebook-cell:/Users/jonathan/mres_thesis/pca_analysis/pca_analysis/experiments/notebooks/experiments/excluding_raw_samples_without_metadata.ipynb#X14sZmlsZQ%3D%3D?line=11'>12</a>\u001b[0m \u001b[39m        missing_metadata_excluded_samples\u001b[39;49;00m\n\u001b[1;32m     <a href='vscode-notebook-cell:/Users/jonathan/mres_thesis/pca_analysis/pca_analysis/experiments/notebooks/experiments/excluding_raw_samples_without_metadata.ipynb#X14sZmlsZQ%3D%3D?line=12'>13</a>\u001b[0m \u001b[39m    \"\"\"\u001b[39;49;00m)\n\u001b[1;32m     <a href='vscode-notebook-cell:/Users/jonathan/mres_thesis/pca_analysis/pca_analysis/experiments/notebooks/experiments/excluding_raw_samples_without_metadata.ipynb#X14sZmlsZQ%3D%3D?line=14'>15</a>\u001b[0m     excluded_samples \u001b[39m=\u001b[39m con\u001b[39m.\u001b[39msql(\n\u001b[1;32m     <a href='vscode-notebook-cell:/Users/jonathan/mres_thesis/pca_analysis/pca_analysis/experiments/notebooks/experiments/excluding_raw_samples_without_metadata.ipynb#X14sZmlsZQ%3D%3D?line=15'>16</a>\u001b[0m \u001b[39m    \u001b[39m\u001b[39m\"\"\"--sql\u001b[39;00m\n\u001b[1;32m     <a href='vscode-notebook-cell:/Users/jonathan/mres_thesis/pca_analysis/pca_analysis/experiments/notebooks/experiments/excluding_raw_samples_without_metadata.ipynb#X14sZmlsZQ%3D%3D?line=16'>17</a>\u001b[0m \u001b[39m    SELECT\u001b[39;00m\n\u001b[0;32m   (...)\u001b[0m\n\u001b[1;32m     <a href='vscode-notebook-cell:/Users/jonathan/mres_thesis/pca_analysis/pca_analysis/experiments/notebooks/experiments/excluding_raw_samples_without_metadata.ipynb#X14sZmlsZQ%3D%3D?line=20'>21</a>\u001b[0m \u001b[39m    \"\"\"\u001b[39;00m\n\u001b[1;32m     <a href='vscode-notebook-cell:/Users/jonathan/mres_thesis/pca_analysis/pca_analysis/experiments/notebooks/experiments/excluding_raw_samples_without_metadata.ipynb#X14sZmlsZQ%3D%3D?line=21'>22</a>\u001b[0m     )\u001b[39m.\u001b[39mpl()\n\u001b[1;32m     <a href='vscode-notebook-cell:/Users/jonathan/mres_thesis/pca_analysis/pca_analysis/experiments/notebooks/experiments/excluding_raw_samples_without_metadata.ipynb#X14sZmlsZQ%3D%3D?line=22'>23</a>\u001b[0m     \u001b[39mprint\u001b[39m(\u001b[39m\"\u001b[39m\u001b[39madded values to \u001b[39m\u001b[39m'\u001b[39m\u001b[39mdataset_eda.excluded_samples\u001b[39m\u001b[39m'\u001b[39m\u001b[39m\"\u001b[39m)\n",
      "\u001b[0;31mConstraintException\u001b[0m: Constraint Error: Duplicate key \"sample_num: 13\" violates primary key constraint. If this is an unexpected constraint violation please double check with the known index limitations section in our documentation (https://duckdb.org/docs/sql/indexes)."
     ]
    }
   ],
   "source": [
    "#%%script #uncomment to execut this cell\n",
    "\n",
    "con.close()\n",
    "con = db.connect(db_path)\n",
    "\n",
    "if input(\"warning: this will add values to table 'dataset_eda.excluded_samples'. press 'y' to continue:\") == 'y':\n",
    "    con.sql(\n",
    "    \"\"\"--sql\n",
    "    INSERT INTO\n",
    "        dataset_eda.excluded_samples\n",
    "    SELECT\n",
    "        *\n",
    "    FROM\n",
    "        missing_metadata_excluded_samples\n",
    "    \"\"\")\n",
    "\n",
    "    excluded_samples = con.sql(\n",
    "    \"\"\"--sql\n",
    "    SELECT\n",
    "        *\n",
    "    FROM\n",
    "        dataset_eda.excluded_samples\n",
    "    \"\"\"\n",
    "    ).pl()\n",
    "    print(\"added values to 'dataset_eda.excluded_samples'\")\n",
    "    display(excluded_samples)\n",
    "else:\n",
    "    print('did not execute SQL')\n"
   ]
  }
 ],
 "metadata": {
  "kernelspec": {
   "display_name": "pca-analysis-6KQS4gUX-py3.12",
   "language": "python",
   "name": "python3"
  },
  "language_info": {
   "codemirror_mode": {
    "name": "ipython",
    "version": 3
   },
   "file_extension": ".py",
   "mimetype": "text/x-python",
   "name": "python",
   "nbconvert_exporter": "python",
   "pygments_lexer": "ipython3",
   "version": "3.12.2"
  }
 },
 "nbformat": 4,
 "nbformat_minor": 2
}
