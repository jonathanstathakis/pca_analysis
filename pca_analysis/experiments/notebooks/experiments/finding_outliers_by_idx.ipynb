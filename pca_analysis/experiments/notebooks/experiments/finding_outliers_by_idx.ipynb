{
 "cells": [
  {
   "cell_type": "markdown",
   "metadata": {},
   "source": [
    "---\n",
    "title: \"Finding Outliers by Index\"\n",
    "cdt: 2024-09-06T15:07:04\n",
    "description: \"Identification of outlier samples based on their time span\n",
    "conclusion: samples 29 and 87 were determined to be runs to be discarded\"\n",
    "project: \"total_dataset_EDA\"\n",
    "conclusion: \"A table 'excluded_samples' was created to note bad samples to be excluded from downstream analyses. The table consists of columns: 'sample_num' - the primary key from 'pbl.sample_metadata', 'comment' a user friendly comment describing why its excluded, and 'proof' the file name of a notebook containing more information. Samples 29 and 87 were excluded based on their signal.\"\n",
    "---"
   ]
  },
  {
   "cell_type": "markdown",
   "metadata": {},
   "source": [
    "# Summary\n",
    "\n",
    "- outlier detection through observation of length of signal\n",
    "  - To investigate the range of idx/mins, we observed the sample lengths, defined as the number of rows of 'mins_corrected' per sample 'id'.\n",
    "  - We found 10 unique lengths ranging from 2087 to 15600, with 1 sample 2087 and one at 15600 - samples 29 and 87, respectively.\n",
    "  - sample 29\n",
    "    - sample 29 was determined to be an outlier because its runtime was cut too short and baseline was high relative to its neighbours\n",
    "  - sample 87\n",
    "    - sample 87 was determined to be an outlier with an observation frequency of 5Hz, double the sample frequency of 2.5Hz.\n",
    "- dataset observation frequency\n",
    "  - Total dataset observation frequncy bar outliers and minor errors was 2.5Hz\n",
    "- outcomes\n",
    "  - dataset is ready for resampling to common time coordinates.\n"
   ]
  },
  {
   "cell_type": "code",
   "execution_count": null,
   "metadata": {},
   "outputs": [],
   "source": [
    "import duckdb as db\n",
    "import polars as pl\n",
    "\n",
    "db_path = \"/Users/jonathan/mres_thesis/wine_analysis_hplc_uv/wines.db\"\n",
    "\n",
    "con = db.connect(db_path, read_only=True)\n"
   ]
  },
  {
   "cell_type": "markdown",
   "metadata": {},
   "source": [
    "## What is typical length of a Sample?\n",
    "\n",
    "To find duplicates, we need a standard to compare against. What lengths are present in the set?\n"
   ]
  },
  {
   "cell_type": "code",
   "execution_count": null,
   "metadata": {},
   "outputs": [],
   "source": [
    "lengths = con.sql(\n",
    "    \"\"\"\n",
    "    SELECT\n",
    "        id,\n",
    "        min(idx) as min_idx,\n",
    "        max(idx) as max_idx,\n",
    "        count(idx) as length\n",
    "    FROM\n",
    "        dataset_eda.nm_254\n",
    "    GROUP BY\n",
    "        ID\n",
    "    ORDER BY\n",
    "        id, length\n",
    "    \"\"\"\n",
    ").pl()\n",
    "\n",
    "lengths.head()\n"
   ]
  },
  {
   "cell_type": "markdown",
   "metadata": {},
   "source": [
    "And how many distinct lengths?"
   ]
  },
  {
   "cell_type": "code",
   "execution_count": null,
   "metadata": {},
   "outputs": [],
   "source": [
    "pl.Config.set_tbl_rows(1000)\n",
    "\n",
    "unique_lengths = con.sql(\n",
    "    \"\"\"--sql\n",
    "    SELECT\n",
    "        DISTINCT length,\n",
    "        min_idx,\n",
    "        max_idx,\n",
    "    FROM\n",
    "        lengths\n",
    "    ORDER BY\n",
    "        length\n",
    "    \"\"\"\n",
    ")\n",
    "\n",
    "unique_lengths.pl()\n"
   ]
  },
  {
   "cell_type": "code",
   "execution_count": null,
   "metadata": {},
   "outputs": [],
   "source": [
    "(\n",
    "    unique_lengths.pl()\n",
    "    .describe()\n",
    ")\n"
   ]
  },
  {
   "cell_type": "markdown",
   "metadata": {},
   "source": [
    "There are 10 unique lengths, with a minimum of 2087, a maximum of 15600, a median of 6600 and mean of 7019.10, with std dev 3404.82. There are a corresponding 10 unique 'max_mins ranging from 13.9 to 52 with a median of 43.99, mean of 41.59 and std dev of 11.16.\n",
    "\n"
   ]
  },
  {
   "cell_type": "markdown",
   "metadata": {},
   "source": [
    "From experience we know that a 2.5Hz run requires ~30 mins for full separation, therefore anything below that is highly suspect."
   ]
  },
  {
   "cell_type": "code",
   "execution_count": null,
   "metadata": {},
   "outputs": [],
   "source": [
    "import seaborn as sns\n",
    "import matplotlib.pyplot as plt\n",
    "bin_breaks = [2000, 3000, 5000, 6000, 7000, 8000, 10000, 15000, 16000]\n",
    "sns.histplot(lengths,\n",
    "             x='length',\n",
    "            bins=bin_breaks,\n",
    "            binwidth=1000\n",
    "            # bins=50\n",
    "             )\n",
    "plt.title('Histogram of lengths with even binning, bins = 5')\n"
   ]
  },
  {
   "cell_type": "code",
   "execution_count": null,
   "metadata": {},
   "outputs": [],
   "source": [
    "lengths = lengths.with_columns(pl.col('length').cut(breaks=bin_breaks).alias('bin_range'))\n",
    "lengths = lengths.with_columns(pl.col('bin_range').rank('dense').alias('bin')).sort('bin')\n",
    "lengths.head()\n"
   ]
  },
  {
   "cell_type": "code",
   "execution_count": null,
   "metadata": {},
   "outputs": [],
   "source": [
    "bin_counts = lengths.group_by('bin','bin_range').len().sort('bin')\n",
    "bin_counts\n"
   ]
  },
  {
   "cell_type": "markdown",
   "metadata": {},
   "source": [
    "As we can see, there is 1 sample in the range 0 to 3000, 67 in the range 5000 to 6000, 10 in the range 6000 to 7000, and 1 sample in the range 15000 to 16000. The first thing to do would be to investigate the outliers.\n"
   ]
  },
  {
   "cell_type": "markdown",
   "metadata": {},
   "source": [
    "## What are the Outliers?"
   ]
  },
  {
   "cell_type": "code",
   "execution_count": null,
   "metadata": {},
   "outputs": [],
   "source": [
    "pl.Config.set_fmt_str_lengths(99999)\n",
    "con.sql(\n",
    "    \"\"\"--sql\n",
    "    SELECT\n",
    "        mta.wine,\n",
    "        mta.sample_num,\n",
    "        len,\n",
    "        length,\n",
    "    FROM\n",
    "        (FROM lengths) as len\n",
    "    JOIN\n",
    "        (FROM bin_counts) as bc\n",
    "    ON\n",
    "        len.bin=bc.bin\n",
    "    JOIN\n",
    "        pbl.sample_metadata as mta\n",
    "    USING\n",
    "        (id)\n",
    "    WHERE\n",
    "        bc.len = 1\n",
    "    \"\"\"\n",
    ").pl()\n"
   ]
  },
  {
   "cell_type": "markdown",
   "metadata": {},
   "source": [
    "samples 29 and 87 are the outliers, with 2087 and 15600 respectively.\n"
   ]
  },
  {
   "cell_type": "markdown",
   "metadata": {},
   "source": [
    "Observing sample 29.."
   ]
  },
  {
   "cell_type": "markdown",
   "metadata": {},
   "source": [
    "### Sample 29\n"
   ]
  },
  {
   "cell_type": "code",
   "execution_count": null,
   "metadata": {},
   "outputs": [],
   "source": [
    "con.sql(\"\"\"--sql\n",
    "SELECT\n",
    "    nm_254.*,\n",
    "    mta.sample_num,\n",
    "    mta.wine\n",
    "FROM\n",
    "    dataset_eda.nm_254\n",
    "JOIN\n",
    "    pbl.sample_metadata as mta\n",
    "USING\n",
    "        (id)\n",
    "WHERE\n",
    "    mta.sample_num in (29, 28, 32)\n",
    "\"\"\").pl().plot(x='idx', y='absorbance', title='sample 29 @ 254 nm', by='wine')\n"
   ]
  },
  {
   "cell_type": "markdown",
   "metadata": {},
   "source": [
    "When comparing 29 to 28 and 32, some neighbouring samples, the profile is not outrageous, the baseline is a little high, it just looks like an aborted run. Nevertheless, it will be isolated from the rest of the set."
   ]
  },
  {
   "cell_type": "code",
   "execution_count": null,
   "metadata": {},
   "outputs": [],
   "source": [
    "# a list of excluded samples by 'sample_num'\n",
    "excluded_samples = [29,]\n"
   ]
  },
  {
   "cell_type": "markdown",
   "metadata": {},
   "source": [
    "### Sample 87\n"
   ]
  },
  {
   "cell_type": "code",
   "execution_count": null,
   "metadata": {},
   "outputs": [],
   "source": [
    "con.sql(\"\"\"--sql\n",
    "SELECT\n",
    "    nm_254.*,\n",
    "    mta.sample_num,\n",
    "    mta.wine\n",
    "FROM\n",
    "    dataset_eda.nm_254\n",
    "JOIN\n",
    "    pbl.sample_metadata as mta\n",
    "USING\n",
    "        (id)\n",
    "WHERE\n",
    "    mta.sample_num in (86, 87, 88)\n",
    "\"\"\").pl().plot(x='idx', y='absorbance', title='sample 87 @ 254 nm', by=['wine', 'sample_num'], legend=None, fontscale=0.5)\n"
   ]
  },
  {
   "cell_type": "markdown",
   "metadata": {},
   "source": [
    "So not only does it have over 2 times as many data points as the other samples, the overall signal appears more spread out, with a much lower baseline. According to log entry: \"2023-10-24_dtw_has_proved_be_somewhat_red\", I had determined that sample 87 was recorded at twice the sampling rate. Can we  confirm this?\n"
   ]
  },
  {
   "cell_type": "code",
   "execution_count": null,
   "metadata": {},
   "outputs": [],
   "source": [
    "con.sql(\"SELECT * FROM dataset_eda.nm_254\").columns\n"
   ]
  },
  {
   "cell_type": "code",
   "execution_count": null,
   "metadata": {},
   "outputs": [],
   "source": [
    "sample_87 = con.sql(\n",
    "    \"\"\"--sql\n",
    "    SELECT\n",
    "        sample_num,\n",
    "        idx,\n",
    "        secs_corrected\n",
    "    FROM\n",
    "        dataset_eda.nm_254\n",
    "    WHERE\n",
    "        sample_num = 87\n",
    "    ORDER BY\n",
    "        idx\n",
    "    \"\"\"\n",
    ").pl()\n",
    "\n",
    "# confirm that the secs column matches ordering expectations\n",
    "con.sql(\n",
    "    \"\"\"--sql\n",
    "    SELECT\n",
    "        first(idx) as first_idx,\n",
    "        first(secs_corrected) as min_secs,\n",
    "        last(idx) as last_idx,\n",
    "        last(secs_corrected) as max_secs\n",
    "    FROM\n",
    "        sample_87\n",
    "    \"\"\"\n",
    ").pl()\n"
   ]
  },
  {
   "cell_type": "markdown",
   "metadata": {},
   "source": [
    "Find the frequency in hertz, defined as 1/diff:"
   ]
  },
  {
   "cell_type": "code",
   "execution_count": null,
   "metadata": {},
   "outputs": [],
   "source": [
    "finite_diff_hz_87 = con.sql(\n",
    "\"\"\"\n",
    "SELECT\n",
    "  sample_num,\n",
    "  idx,\n",
    "  secs_corrected - lag(secs_corrected) OVER (ORDER BY idx) as diff,\n",
    "  1/diff as hz\n",
    "FROM\n",
    "  sample_87\n",
    "order by\n",
    "  idx\n",
    "\"\"\"\n",
    ").pl().head()\n"
   ]
  },
  {
   "cell_type": "markdown",
   "metadata": {},
   "source": [
    "and the mean.."
   ]
  },
  {
   "cell_type": "code",
   "execution_count": null,
   "metadata": {},
   "outputs": [],
   "source": [
    "con.sql(\n",
    "    \"\"\"\n",
    "    FROM\n",
    "        finite_diff_hz_87\n",
    "    SELECT\n",
    "        mean(diff) as mean_diff,\n",
    "        mean(hz) as mean_hz\n",
    "    \"\"\"\n",
    ").pl()\n"
   ]
  },
  {
   "cell_type": "code",
   "execution_count": null,
   "metadata": {},
   "outputs": [],
   "source": [
    "del finite_diff_hz_87\n",
    "del sample_87\n"
   ]
  },
  {
   "cell_type": "markdown",
   "metadata": {},
   "source": [
    "#### Sample Observation Frequency\n"
   ]
  },
  {
   "cell_type": "markdown",
   "metadata": {},
   "source": [
    "As we can see, there is a mean value of 5hz. How does that compare to the full set?\n"
   ]
  },
  {
   "cell_type": "code",
   "execution_count": null,
   "metadata": {},
   "outputs": [],
   "source": [
    "nm_254_diff_hz = con.sql(\n",
    "    \"\"\"--sql\n",
    "    WITH with_secs_corrected AS (\n",
    "    \n",
    "    SELECT\n",
    "        *,\n",
    "        (mins - first(mins) OVER (PARTITION BY id ORDER BY idx))*60 as secs_corrected_x,\n",
    "        --1/diff as hz\n",
    "    FROM\n",
    "        dataset_eda.nm_254\n",
    "    )\n",
    "    SELECT\n",
    "        *,\n",
    "        secs_corrected_x - lag(secs_corrected_x) OVER ( PARTITION BY id ORDER BY idx) as diff,\n",
    "        1/diff as hz\n",
    "    FROM\n",
    "        with_secs_corrected\n",
    "\n",
    "    \"\"\"\n",
    ")\n",
    "nm_254_diff_hz.pl().head()\n"
   ]
  },
  {
   "cell_type": "code",
   "execution_count": null,
   "metadata": {},
   "outputs": [],
   "source": [
    "sns.scatterplot(nm_254_diff_hz.pl().cast({'sample_num': str}), x='idx', y='hz', hue='sample_num', legend=False)\n",
    "plt.title(\"hz vs. idx per sample\")\n"
   ]
  },
  {
   "cell_type": "markdown",
   "metadata": {},
   "source": [
    "As can be seen the vast majority of samples fall onto the 5 or 2.5Hz frequencies, with singular deviances. So how many samples are at 5 Hz?\n"
   ]
  },
  {
   "cell_type": "code",
   "execution_count": null,
   "metadata": {},
   "outputs": [],
   "source": [
    "nm_254_diff_hz_means = con.sql(\n",
    "    \"\"\"--sql\n",
    "    SELECT\n",
    "        sample_num,\n",
    "        mean(hz) as mean_hz\n",
    "    FROM\n",
    "        nm_254_diff_hz\n",
    "    GROUP BY\n",
    "        sample_num\n",
    "    \"\"\"\n",
    ")\n",
    "\n",
    "nm_254_diff_hz_means.pl().head()\n"
   ]
  },
  {
   "cell_type": "code",
   "execution_count": null,
   "metadata": {},
   "outputs": [],
   "source": [
    "nm_254_diff_hz_means.pl().shape\n"
   ]
  },
  {
   "cell_type": "code",
   "execution_count": null,
   "metadata": {},
   "outputs": [],
   "source": [
    "binned_hz = con.sql(\"\"\"--sql\n",
    "SELECT\n",
    "    sample_num,\n",
    "    mean_hz,\n",
    "    CASE WHEN mean_hz <= 2.45 THEN 0 WHEN mean_hz > 2.45 AND mean_hz < 2.6 THEN 1 WHEN mean_hz >= 2.6 THEN 2 END as bin\n",
    "FROM\n",
    "    nm_254_diff_hz_means\n",
    "\"\"\").pl()\n",
    "\n",
    "con.sql(\"\"\"--sql\n",
    "SELECT\n",
    "    bin,\n",
    "    count(sample_num) as count_sample_num,\n",
    "FROM\n",
    "    binned_hz\n",
    "GROUP BY\n",
    "    bin\n",
    "\"\"\").pl()\n"
   ]
  },
  {
   "cell_type": "markdown",
   "metadata": {},
   "source": [
    "So all samples BAR 1 fall into a range between 2.45 and 2.6 Hz, with one sample with a Hz greater than that."
   ]
  },
  {
   "cell_type": "code",
   "execution_count": null,
   "metadata": {},
   "outputs": [],
   "source": [
    "con.sql(\"\"\"--sql\n",
    "SELECT\n",
    "    sample_num,\n",
    "    mean_hz\n",
    "FROM\n",
    "    nm_254_diff_hz_means\n",
    "WHERE\n",
    "    mean_hz > 2.6\n",
    "\"\"\").pl()\n"
   ]
  },
  {
   "cell_type": "markdown",
   "metadata": {},
   "source": [
    "Low and behold, its sample 87. Thus we can confidently state that sample 87 is an outlier to be excluded from the dataset, AND that the dataset is ripe for resampling to smooth out irregularities, once a common time cutoff is determined."
   ]
  },
  {
   "cell_type": "code",
   "execution_count": null,
   "metadata": {},
   "outputs": [],
   "source": [
    "excluded_samples.append(87)\n"
   ]
  },
  {
   "cell_type": "markdown",
   "metadata": {},
   "source": [
    "Now we'll add these two to a table created now called 'excluded_samples' with the sample number and a comment:"
   ]
  },
  {
   "cell_type": "code",
   "execution_count": null,
   "metadata": {},
   "outputs": [],
   "source": [
    "# %%script true # comment this line to run\n",
    "\n",
    "con.close()\n",
    "if input(\"warning: this will replace the table with the values here. press y to continue:\") == 'y':\n",
    "        with db.connect(db_path) as con:\n",
    "                excluded_samples = con.sql(\"\"\"--sql\n",
    "                CREATE OR REPLACE TABLE\n",
    "                        dataset_eda.excluded_samples (sample_num INTEGER PRIMARY KEY, comment VARCHAR, proof VARCHAR);\n",
    "                INSERT INTO\n",
    "                        dataset_eda.excluded_samples\n",
    "                BY NAME\n",
    "                        (SELECT 87 as sample_num, 'recorded at 5hz compared to rest of dataset @ 2.5Hz' as comment, 'finding_outliers_by_idx.ipynb' as proof );\n",
    "                INSERT INTO\n",
    "                        dataset_eda.excluded_samples\n",
    "                BY NAME\n",
    "                        (SELECT 29 AS sample_num, 'aborted run, high baseline' as comment, 'finding_outliers_by_idx.ipynb' as proof);\n",
    "                SELECT * FROM dataset_eda.excluded_samples LIMIT 10        \n",
    "                \"\"\").pl()\n",
    "        display(excluded_samples)\n",
    "        print(\"replaced table\")\n",
    "else:\n",
    "        print(\"did not execute\")\n"
   ]
  },
  {
   "cell_type": "code",
   "execution_count": null,
   "metadata": {},
   "outputs": [],
   "source": []
  },
  {
   "cell_type": "markdown",
   "metadata": {},
   "source": [
    "### Conclusion\n",
    "\n",
    "The outliers are sample 29 and 87. 29 because it was an aborted run, and 87 because it was recorded at the wrong sampling frequency. All other samples were recorded @ approximately 2.5 Hz barring rare cases of error. The dataset is ready for resampling to remove those errors once a maximum cutoff is determined.\n"
   ]
  }
 ],
 "metadata": {
  "kernelspec": {
   "display_name": "pca-analysis-6KQS4gUX-py3.12",
   "language": "python",
   "name": "python3"
  },
  "language_info": {
   "codemirror_mode": {
    "name": "ipython",
    "version": 3
   },
   "file_extension": ".py",
   "mimetype": "text/x-python",
   "name": "python",
   "nbconvert_exporter": "python",
   "pygments_lexer": "ipython3",
   "version": "3.12.2"
  }
 },
 "nbformat": 4,
 "nbformat_minor": 2
}
