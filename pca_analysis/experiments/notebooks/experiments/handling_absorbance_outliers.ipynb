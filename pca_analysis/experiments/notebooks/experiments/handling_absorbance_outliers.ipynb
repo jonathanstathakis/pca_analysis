{
 "cells": [
  {
   "cell_type": "markdown",
   "metadata": {},
   "source": [
    "---\n",
    "title: \"Handling Absorbance Outliers\"\n",
    "cdt: 2024-09-07T00:09:10\n",
    "description: \"Handling the absorbance outliers first observed in [Table Descriptions](./key_table_descriptions.ipynb)\"\n",
    "project: total_dataset_EDA\n",
    "conclusion: \"negative absorbances are a natural feature of the CUPRAC dataset and are not inherently an indictor of outliers if 'cuprac' subpopulation is included\"\n",
    "---\n",
    "\n",
    "As per the observation of negative absorbances in [Table Descriptions](key_table_descriptions.ipynb), we are here to observe them, and eliminate if ncessary."
   ]
  },
  {
   "cell_type": "code",
   "execution_count": null,
   "metadata": {},
   "outputs": [],
   "source": [
    "%reload_ext autoreload\n",
    "%autoreload 2\n",
    "\n",
    "import duckdb as db\n",
    "import polars as pl\n",
    "from pca_analysis.experiments.constants import db_path\n",
    "import seaborn as sns\n",
    "import matplotlib.pyplot as plt\n",
    "\n",
    "con = db.connect(db_path)\n",
    "con.sql(\"FROM dataset_eda.nm_254\").columns\n"
   ]
  },
  {
   "cell_type": "markdown",
   "metadata": {},
   "source": [
    "# Samples with Negative Absorbances\n",
    "\n",
    "Negative absorbance in itself is not a massive deal, after all, without baseline adjustment there may be an amplitude around the zero line. But in the study mentioned, absorbances in the negative thousands were seen. Thus we will first collect a count of any sample with a negative absorbance and observe the distribution, fully expecting to have to fine tune the filter. Now we know, again *a priori* that different wavelengths have different ab\n"
   ]
  },
  {
   "cell_type": "code",
   "execution_count": null,
   "metadata": {},
   "outputs": [],
   "source": [
    "\n",
    "con.sql(\"\"\"--sql\n",
    "CREATE TABLE IF NOT EXISTS neg_abs_counts AS\n",
    "(\n",
    "WITH negs AS (\n",
    "    SELECT\n",
    "            sample_num,\n",
    "            count(absorbance) as neg_count,\n",
    "        FROM\n",
    "            dataset_eda.nm_254\n",
    "        WHERE\n",
    "            absorbance < 0\n",
    "        GROUP BY\n",
    "            sample_num\n",
    "),\n",
    "total_abs AS (\n",
    "    SELECT\n",
    "        sample_num,\n",
    "        count(absorbance) as counts,\n",
    "    FROM\n",
    "        dataset_eda.nm_254\n",
    "    GROUP BY\n",
    "        sample_num\n",
    "    )\n",
    "SELECT\n",
    "        sample_num,\n",
    "        neg_count,\n",
    "        counts,\n",
    "        neg_count / counts as neg_prop\n",
    "FROM\n",
    "        total_abs\n",
    "JOIN\n",
    "        negs\n",
    "USING\n",
    "        (sample_num)\n",
    "ORDER BY\n",
    "        neg_count DESC\n",
    ");\n",
    "SELECT * FROM neg_abs_counts\n",
    "\"\"\").pl()\n",
    "\n",
    "display(con.sql(\"SELECT * FROM neg_abs_counts LIMIT 10\").pl())\n",
    "\n"
   ]
  },
  {
   "cell_type": "markdown",
   "metadata": {},
   "source": [
    "Now, this is just observing the 254 nm wavelength, but regardless, again, we are not expecting a significant negative absorbance ever, because that is a sign of transmission - which will only occur if bubbles or particulates are within the elution {need to add citation}. Ergo negatives are bad. Surprisingly, some samples have more than 90% neg count?\n"
   ]
  },
  {
   "cell_type": "code",
   "execution_count": null,
   "metadata": {},
   "outputs": [],
   "source": [
    "sns.histplot(con.sql(\"\"\"--sql\n",
    "SELECT * FROM neg_abs_counts\n",
    "\"\"\").pl(), x='neg_count', binwidth=200)\n",
    "\n",
    "plt.title('counts of samples with negative absorbance')\n"
   ]
  },
  {
   "cell_type": "markdown",
   "metadata": {},
   "source": [
    "From this view, it appears that all samples have significant negative values! But what if we add a cutoff of say, 10% below zero?"
   ]
  },
  {
   "cell_type": "code",
   "execution_count": null,
   "metadata": {},
   "outputs": [],
   "source": [
    "con.sql(\"\"\"--sql\n",
    "CREATE OR REPLACE TEMP TABLE samples_with_negs\n",
    "    AS (SELECT * FROM dataset_eda.nm_254 WHERE absorbance < 0\n",
    ");\n",
    "SELECT * FROM samples_with_negs LIMIT 10\n",
    "\"\"\").pl()\n"
   ]
  },
  {
   "cell_type": "code",
   "execution_count": null,
   "metadata": {},
   "outputs": [],
   "source": [
    "# top 10 negative counts\n",
    "\n",
    "con.sql(\"\"\"--sql\n",
    "CREATE TEMP TABLE IF NOT EXISTS top_10_neg_counts AS \n",
    "        (SELECT\n",
    "    sample_num,\n",
    "    count(idx) as neg_count\n",
    "FROM\n",
    "    samples_with_negs\n",
    "GROUP BY\n",
    "    sample_num\n",
    "ORDER BY\n",
    "    neg_count DESC\n",
    "LIMIT 10);\n",
    "SELECT\n",
    "    cast(sample_num AS VARCHAR) AS sample_num,\n",
    "    idx,\n",
    "    absorbance\n",
    "FROM\n",
    "    dataset_eda.nm_254\n",
    "JOIN\n",
    "    top_10_neg_counts\n",
    "USING\n",
    "    (sample_num)\n",
    "ORDER BY\n",
    "    sample_num, idx\n",
    "\"\"\").pl().pipe(sns.lineplot, x='idx', y='absorbance', hue='sample_num')\n",
    "\n",
    "plt.title(label=\"chromatogram @ 256 of top 10 samples \\n with significant negative absorbance\")\n"
   ]
  },
  {
   "cell_type": "markdown",
   "metadata": {},
   "source": [
    "This can't be right. What do their total absorbances look like? Lets choose 113."
   ]
  },
  {
   "cell_type": "code",
   "execution_count": null,
   "metadata": {},
   "outputs": [],
   "source": [
    "con.sql(\"\"\"--sql\n",
    "SELECT\n",
    "        cast(sample_num as varchar) as sample_num,idx, absorbance FROM dataset_eda.nm_254 ORDER BY sample_num, idx\n",
    "\"\"\").pl().plot(x='idx',y='absorbance',by='sample_num', title='all samples @ nm 254', width = 1000)\n"
   ]
  },
  {
   "cell_type": "markdown",
   "metadata": {},
   "source": [
    "These results may be an artifact of the data organisation. Sample 152 and 163 are the worst. What does sample 152 look like?\n"
   ]
  },
  {
   "cell_type": "markdown",
   "metadata": {},
   "source": [
    "## Sample 152"
   ]
  },
  {
   "cell_type": "code",
   "execution_count": null,
   "metadata": {},
   "outputs": [],
   "source": [
    "s152 = con.sql(\"\"\"--sql\n",
    "SELECT * FROM dataset_eda.nm_254 WHERE sample_num = 152 ORDER BY idx\n",
    "\"\"\").pl()\n",
    "s152.plot(x='idx',y='absorbance',by='sample_num', title='sample 152 @ 254nm')\n",
    "\n"
   ]
  },
  {
   "cell_type": "markdown",
   "metadata": {},
   "source": [
    "so at 254 it looks like that. What about across all wavelengths?\n"
   ]
  },
  {
   "cell_type": "code",
   "execution_count": null,
   "metadata": {},
   "outputs": [],
   "source": [
    "con.sql(\"\"\"--sql\n",
    "(SELECT\n",
    "    COUNT(distinct wavelength) as wavelength\n",
    "    --*,\n",
    "    -- ntile() OVER (order by wavelength, idx) as wavelength_bin\n",
    "FROM\n",
    "    pbl.chromatogram_spectra_long\n",
    "JOIN\n",
    "    pbl.sample_metadata\n",
    "USING\n",
    "    (id)\n",
    "WHERE\n",
    "    sample_num = 152\n",
    "-- ORDER BY\n",
    "   -- idx        \n",
    ");\n",
    "SELECT\n",
    "    *\n",
    "FROM\n",
    "    s152\n",
    "ORDER BY\n",
    "    wavelength\n",
    "    -- idx\n",
    "\"\"\").pl()\n",
    "# .plot(x='idx',y='absorbance', by='wavelength_bin', legend=False, title='sample 152 @ all wavelengths')\n"
   ]
  },
  {
   "cell_type": "markdown",
   "metadata": {},
   "source": [
    "So sample 152 has wavelengths ranging from\n"
   ]
  },
  {
   "cell_type": "code",
   "execution_count": null,
   "metadata": {},
   "outputs": [],
   "source": [
    "represent_wavelengths_152 = con.sql(\"\"\"--sql\n",
    "SELECT\n",
    "    min(wavelength) as min_wavelength,\n",
    "    max(wavelength) as max_wavelength,\n",
    "    count(distinct wavelength) as count,\n",
    "    max_wavelength - min_wavelength as range_wavelength,\n",
    "    [\n",
    "        min_wavelength,\n",
    "        approx_quantile(wavelength, 0.2),\n",
    "        approx_quantile(wavelength, 0.4),\n",
    "        approx_quantile(wavelength, 0.6),\n",
    "        approx_quantile(wavelength, 0.8),\n",
    "        max_wavelength,\n",
    "        ] as representatives,\n",
    "FROM\n",
    "    pbl.chromatogram_spectra_long\n",
    "JOIN\n",
    "    pbl.sample_metadata\n",
    "USING\n",
    "    (id)\n",
    "WHERE\n",
    "    sample_num = 154\n",
    "\"\"\").pl()\n",
    "represent_wavelengths_152\n"
   ]
  },
  {
   "cell_type": "code",
   "execution_count": null,
   "metadata": {},
   "outputs": [],
   "source": [
    "con.sql(\"\"\"--sql\n",
    "SELECT\n",
    "    *\n",
    "FROM\n",
    "    pbl.chromatogram_spectra_long\n",
    "JOIN\n",
    "    pbl.sample_metadata\n",
    "USING\n",
    "    (id)\n",
    "WHERE\n",
    "    sample_num = 152\n",
    "AND\n",
    "    wavelength in (SELECT UNNEST(representatives) FROM represent_wavelengths_152)\n",
    "ORDER BY\n",
    "    idx\n",
    "\"\"\").pl().plot(x='idx',y='absorbance',by='wavelength', title='sample 152 @ 0.2 quantile wavelengths')\n"
   ]
  },
  {
   "cell_type": "markdown",
   "metadata": {},
   "source": [
    "As we can see, sample 152 is a mess. The data is irredeemable and should be expunged.\n"
   ]
  },
  {
   "cell_type": "code",
   "execution_count": null,
   "metadata": {},
   "outputs": [],
   "source": [
    "# excluded tables\n",
    "\n",
    "con.sql(\"\"\"--sql\n",
    "SELECT * FROM dataset_eda.excluded_samples\n",
    "\"\"\").pl()\n"
   ]
  },
  {
   "cell_type": "markdown",
   "metadata": {},
   "source": [
    "So that's 152. What about the rest?"
   ]
  },
  {
   "cell_type": "markdown",
   "metadata": {},
   "source": [
    "## Sample 163\n",
    "\n",
    "Same as sample 152, lets observe the representative wavelengths"
   ]
  },
  {
   "cell_type": "code",
   "execution_count": null,
   "metadata": {},
   "outputs": [],
   "source": [
    "con.sql(\"\"\"--sql\n",
    "WITH\n",
    "    representative_wavelengths AS (\n",
    "    SELECT\n",
    "        [\n",
    "        min(wavelength),\n",
    "        approx_quantile(wavelength, 0.2),\n",
    "        approx_quantile(wavelength, 0.4),\n",
    "        approx_quantile(wavelength, 0.6),\n",
    "        approx_quantile(wavelength, 0.8),\n",
    "        max(wavelength),\n",
    "        ] as representatives\n",
    "    FROM\n",
    "        pbl.chromatogram_spectra_long\n",
    "    JOIN\n",
    "        pbl.sample_metadata\n",
    "    USING\n",
    "        (id)\n",
    "    WHERE\n",
    "        sample_num = 163\n",
    "        )\n",
    "SELECT\n",
    "    *\n",
    "FROM\n",
    "    pbl.chromatogram_spectra_long\n",
    "JOIN\n",
    "    pbl.sample_metadata\n",
    "USING\n",
    "    (id)\n",
    "WHERE\n",
    "    sample_num = 163\n",
    "AND\n",
    "    wavelength in (SELECT UNNEST(representatives) FROM representative_wavelengths)\n",
    "\"\"\").pl().plot(x='idx',y='absorbance',by='wavelength', title='sample 163 @ 0.2 quantile wavelengths')\n"
   ]
  },
  {
   "cell_type": "markdown",
   "metadata": {},
   "source": [
    "Are these CUPRAC samples? Hence the gulf?"
   ]
  },
  {
   "cell_type": "code",
   "execution_count": null,
   "metadata": {},
   "outputs": [],
   "source": [
    "con.sql(\"\"\"--sql\n",
    "SELECT\n",
    "    distinct(detection)\n",
    "FROM\n",
    "    top_10_neg_counts\n",
    "JOIN\n",
    "    pbl.sample_metadata\n",
    "USING\n",
    "        (sample_num)\n",
    "\"\"\").pl()\n"
   ]
  },
  {
   "cell_type": "markdown",
   "metadata": {},
   "source": [
    "So all of the \"negative\" samples are CUPRAC samples."
   ]
  },
  {
   "cell_type": "markdown",
   "metadata": {},
   "source": [
    "# Conclusoin\n",
    "\n",
    "So it's become apparent that nm 254 is NOT a representative wavelength across both the raw and CUPRAC datasets, almost by definition, as the CUPRAC reagent was selected because the wavelength range is isolated from indigenous chromophores in organic material. To verify this, we should observe absorbance as a function of wavelength for a select number of peaks in select samples."
   ]
  }
 ],
 "metadata": {
  "kernelspec": {
   "display_name": "pca-analysis-6KQS4gUX-py3.12",
   "language": "python",
   "name": "python3"
  },
  "language_info": {
   "codemirror_mode": {
    "name": "ipython",
    "version": 3
   },
   "file_extension": ".py",
   "mimetype": "text/x-python",
   "name": "python",
   "nbconvert_exporter": "python",
   "pygments_lexer": "ipython3",
   "version": "3.12.2"
  }
 },
 "nbformat": 4,
 "nbformat_minor": 2
}
