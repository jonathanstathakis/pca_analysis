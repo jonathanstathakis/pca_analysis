{
 "cells": [
  {
   "cell_type": "markdown",
   "metadata": {},
   "source": [
    "---\n",
    "project: dataset_EDA\n",
    "title: Raw Dataset Description\n",
    "cdt: 2024-09-09T23:44:30\n",
    "description: a descriptive analysis of the raw dataset\n",
    "---\n"
   ]
  },
  {
   "cell_type": "markdown",
   "metadata": {
    "vscode": {
     "languageId": "plaintext"
    }
   },
   "source": [
    "# Sample Metadata\n",
    "\n",
    "We define the metadata as all categorical information pertaining to the character of the data: the wine name, geographic origin, variety, producer, vintage, etc.\n"
   ]
  },
  {
   "cell_type": "code",
   "execution_count": 1,
   "metadata": {},
   "outputs": [
    {
     "name": "stdout",
     "output_type": "stream",
     "text": [
      ".\n"
     ]
    }
   ],
   "source": [
    "%reload_ext autoreload\n",
    "%autoreload 2\n",
    "import duckdb as db\n",
    "import polars as pl\n",
    "from pca_analysis.experiments.constants import db_path\n",
    "from great_tables import GT\n",
    "pl.Config.set_tbl_rows(999).set_tbl_width_chars(2000).set_fmt_str_lengths(99999)\n",
    "\n",
    "con = db.connect(db_path, read_only=True)\n"
   ]
  },
  {
   "cell_type": "markdown",
   "metadata": {},
   "source": [
    "- ~~how many samples~~\n",
    "- ~~what colors~~\n",
    "- ~~what varieties~~\n",
    "- what vintages\n"
   ]
  },
  {
   "cell_type": "code",
   "execution_count": 2,
   "metadata": {},
   "outputs": [
    {
     "data": {
      "text/html": [
       "<div><style>\n",
       ".dataframe > thead > tr,\n",
       ".dataframe > tbody > tr {\n",
       "  text-align: right;\n",
       "  white-space: pre-wrap;\n",
       "}\n",
       "</style>\n",
       "<small>shape: (96, 8)</small><table border=\"1\" class=\"dataframe\"><thead><tr><th>detection</th><th>acq_date</th><th>wine</th><th>color</th><th>varietal</th><th>samplecode</th><th>id</th><th>sample_num</th></tr><tr><td>str</td><td>str</td><td>str</td><td>str</td><td>str</td><td>str</td><td>str</td><td>i64</td></tr></thead><tbody><tr><td>&quot;raw&quot;</td><td>&quot;2023-02-15 15:21:28&quot;</td><td>&quot;2022 william downie cathedral&quot;</td><td>&quot;red&quot;</td><td>&quot;pinot noir&quot;</td><td>&quot;05&quot;</td><td>&quot;4fe49506-74e4-473b-b7a8-23500c…</td><td>1</td></tr><tr><td>&quot;raw&quot;</td><td>&quot;2023-02-15 16:15:09&quot;</td><td>&quot;2021 babo chianti&quot;</td><td>&quot;red&quot;</td><td>&quot;sangiovese&quot;</td><td>&quot;06&quot;</td><td>&quot;e56c4dcd-2847-4d34-b457-743be1…</td><td>2</td></tr><tr><td>&quot;raw&quot;</td><td>&quot;2023-02-15 17:08:54&quot;</td><td>&quot;2020 boutinot uva non grata&quot;</td><td>&quot;red&quot;</td><td>&quot;gamay&quot;</td><td>&quot;07&quot;</td><td>&quot;5eb3135c-33a2-404b-8042-e23cae…</td><td>3</td></tr><tr><td>&quot;raw&quot;</td><td>&quot;2023-02-15 18:02:36&quot;</td><td>&quot;2021 matias riccitelli malbec …</td><td>&quot;red&quot;</td><td>&quot;malbec&quot;</td><td>&quot;08&quot;</td><td>&quot;8cfa23c8-ffa6-4c27-be70-0251d4…</td><td>4</td></tr><tr><td>&quot;raw&quot;</td><td>&quot;2023-02-15 18:56:22&quot;</td><td>&quot;2018 crawford river cabernets&quot;</td><td>&quot;red&quot;</td><td>&quot;red bordeaux blend&quot;</td><td>&quot;09&quot;</td><td>&quot;38601b0b-5338-4154-9f04-cf85b8…</td><td>5</td></tr><tr><td>&hellip;</td><td>&hellip;</td><td>&hellip;</td><td>&hellip;</td><td>&hellip;</td><td>&hellip;</td><td>&hellip;</td><td>&hellip;</td></tr><tr><td>&quot;raw&quot;</td><td>&quot;2023-05-09 01:26:57&quot;</td><td>&quot;2015 clos du marquis&quot;</td><td>&quot;red&quot;</td><td>&quot;red bordeaux blend&quot;</td><td>&quot;110&quot;</td><td>&quot;7311903b-1d99-4dd9-b41d-8e5755…</td><td>98</td></tr><tr><td>&quot;raw&quot;</td><td>&quot;2023-05-09 02:20:25&quot;</td><td>&quot;2022 clonakilla shiraz oriada&quot;</td><td>&quot;red&quot;</td><td>&quot;shiraz&quot;</td><td>&quot;111&quot;</td><td>&quot;ca0b15df-e1e0-48fa-a28c-9c4b01…</td><td>99</td></tr><tr><td>&quot;raw&quot;</td><td>&quot;2023-05-09 05:00:53&quot;</td><td>&quot;2019 bodega catena zapata malb…</td><td>&quot;red&quot;</td><td>&quot;malbec&quot;</td><td>&quot;114&quot;</td><td>&quot;839df657-69a3-4935-a30b-3bd17e…</td><td>102</td></tr><tr><td>&quot;raw&quot;</td><td>&quot;2023-05-09 05:54:23&quot;</td><td>&quot;2022 bleeding heart shiraz&quot;</td><td>&quot;red&quot;</td><td>&quot;shiraz&quot;</td><td>&quot;115&quot;</td><td>&quot;d4d65f88-a5db-4ac9-9dca-520fcc…</td><td>103</td></tr><tr><td>&quot;raw&quot;</td><td>&quot;2023-05-09 06:47:55&quot;</td><td>&quot;2022 sigurd chenin blanc&quot;</td><td>&quot;white&quot;</td><td>&quot;chenin blanc&quot;</td><td>&quot;sigurdcb&quot;</td><td>&quot;afb7db75-a452-4a65-976d-379f93…</td><td>104</td></tr></tbody></table></div>"
      ],
      "text/plain": [
       "shape: (96, 8)\n",
       "┌───────────┬─────────────┬────────────┬───────┬────────────┬────────────┬────────────┬────────────┐\n",
       "│ detection ┆ acq_date    ┆ wine       ┆ color ┆ varietal   ┆ samplecode ┆ id         ┆ sample_num │\n",
       "│ ---       ┆ ---         ┆ ---        ┆ ---   ┆ ---        ┆ ---        ┆ ---        ┆ ---        │\n",
       "│ str       ┆ str         ┆ str        ┆ str   ┆ str        ┆ str        ┆ str        ┆ i64        │\n",
       "╞═══════════╪═════════════╪════════════╪═══════╪════════════╪════════════╪════════════╪════════════╡\n",
       "│ raw       ┆ 2023-02-15  ┆ 2022       ┆ red   ┆ pinot noir ┆ 05         ┆ 4fe49506-7 ┆ 1          │\n",
       "│           ┆ 15:21:28    ┆ william    ┆       ┆            ┆            ┆ 4e4-473b-b ┆            │\n",
       "│           ┆             ┆ downie     ┆       ┆            ┆            ┆ 7a8-23500c ┆            │\n",
       "│           ┆             ┆ cathedral  ┆       ┆            ┆            ┆ …          ┆            │\n",
       "│ raw       ┆ 2023-02-15  ┆ 2021 babo  ┆ red   ┆ sangiovese ┆ 06         ┆ e56c4dcd-2 ┆ 2          │\n",
       "│           ┆ 16:15:09    ┆ chianti    ┆       ┆            ┆            ┆ 847-4d34-b ┆            │\n",
       "│           ┆             ┆            ┆       ┆            ┆            ┆ 457-743be1 ┆            │\n",
       "│           ┆             ┆            ┆       ┆            ┆            ┆ …          ┆            │\n",
       "│ raw       ┆ 2023-02-15  ┆ 2020       ┆ red   ┆ gamay      ┆ 07         ┆ 5eb3135c-3 ┆ 3          │\n",
       "│           ┆ 17:08:54    ┆ boutinot   ┆       ┆            ┆            ┆ 3a2-404b-8 ┆            │\n",
       "│           ┆             ┆ uva non    ┆       ┆            ┆            ┆ 042-e23cae ┆            │\n",
       "│           ┆             ┆ grata      ┆       ┆            ┆            ┆ …          ┆            │\n",
       "│ raw       ┆ 2023-02-15  ┆ 2021       ┆ red   ┆ malbec     ┆ 08         ┆ 8cfa23c8-f ┆ 4          │\n",
       "│           ┆ 18:02:36    ┆ matias     ┆       ┆            ┆            ┆ fa6-4c27-b ┆            │\n",
       "│           ┆             ┆ riccitelli ┆       ┆            ┆            ┆ e70-0251d4 ┆            │\n",
       "│           ┆             ┆ malbec …   ┆       ┆            ┆            ┆ …          ┆            │\n",
       "│ raw       ┆ 2023-02-15  ┆ 2018       ┆ red   ┆ red        ┆ 09         ┆ 38601b0b-5 ┆ 5          │\n",
       "│           ┆ 18:56:22    ┆ crawford   ┆       ┆ bordeaux   ┆            ┆ 338-4154-9 ┆            │\n",
       "│           ┆             ┆ river      ┆       ┆ blend      ┆            ┆ f04-cf85b8 ┆            │\n",
       "│           ┆             ┆ cabernets  ┆       ┆            ┆            ┆ …          ┆            │\n",
       "│ …         ┆ …           ┆ …          ┆ …     ┆ …          ┆ …          ┆ …          ┆ …          │\n",
       "│ raw       ┆ 2023-05-09  ┆ 2015 clos  ┆ red   ┆ red        ┆ 110        ┆ 7311903b-1 ┆ 98         │\n",
       "│           ┆ 01:26:57    ┆ du marquis ┆       ┆ bordeaux   ┆            ┆ d99-4dd9-b ┆            │\n",
       "│           ┆             ┆            ┆       ┆ blend      ┆            ┆ 41d-8e5755 ┆            │\n",
       "│           ┆             ┆            ┆       ┆            ┆            ┆ …          ┆            │\n",
       "│ raw       ┆ 2023-05-09  ┆ 2022       ┆ red   ┆ shiraz     ┆ 111        ┆ ca0b15df-e ┆ 99         │\n",
       "│           ┆ 02:20:25    ┆ clonakilla ┆       ┆            ┆            ┆ 1e0-48fa-a ┆            │\n",
       "│           ┆             ┆ shiraz     ┆       ┆            ┆            ┆ 28c-9c4b01 ┆            │\n",
       "│           ┆             ┆ oriada     ┆       ┆            ┆            ┆ …          ┆            │\n",
       "│ raw       ┆ 2023-05-09  ┆ 2019       ┆ red   ┆ malbec     ┆ 114        ┆ 839df657-6 ┆ 102        │\n",
       "│           ┆ 05:00:53    ┆ bodega     ┆       ┆            ┆            ┆ 9a3-4935-a ┆            │\n",
       "│           ┆             ┆ catena     ┆       ┆            ┆            ┆ 30b-3bd17e ┆            │\n",
       "│           ┆             ┆ zapata     ┆       ┆            ┆            ┆ …          ┆            │\n",
       "│           ┆             ┆ malb…      ┆       ┆            ┆            ┆            ┆            │\n",
       "│ raw       ┆ 2023-05-09  ┆ 2022       ┆ red   ┆ shiraz     ┆ 115        ┆ d4d65f88-a ┆ 103        │\n",
       "│           ┆ 05:54:23    ┆ bleeding   ┆       ┆            ┆            ┆ 5db-4ac9-9 ┆            │\n",
       "│           ┆             ┆ heart      ┆       ┆            ┆            ┆ dca-520fcc ┆            │\n",
       "│           ┆             ┆ shiraz     ┆       ┆            ┆            ┆ …          ┆            │\n",
       "│ raw       ┆ 2023-05-09  ┆ 2022       ┆ white ┆ chenin     ┆ sigurdcb   ┆ afb7db75-a ┆ 104        │\n",
       "│           ┆ 06:47:55    ┆ sigurd     ┆       ┆ blanc      ┆            ┆ 452-4a65-9 ┆            │\n",
       "│           ┆             ┆ chenin     ┆       ┆            ┆            ┆ 76d-379f93 ┆            │\n",
       "│           ┆             ┆ blanc      ┆       ┆            ┆            ┆ …          ┆            │\n",
       "└───────────┴─────────────┴────────────┴───────┴────────────┴────────────┴────────────┴────────────┘"
      ]
     },
     "execution_count": 2,
     "metadata": {},
     "output_type": "execute_result"
    }
   ],
   "source": [
    "sm = con.sql(\n",
    "\"\"\"--sql\n",
    "SELECT\n",
    "    *\n",
    "FROM\n",
    "    pbl.sample_metadata\n",
    "ANTI JOIN\n",
    "    (SELECT sample_num FROM dataset_eda.excluded_samples)\n",
    "USING\n",
    "    (sample_num)\n",
    "WHERE\n",
    "    detection = 'raw'\n",
    "\"\"\"\n",
    ").pl()\n",
    "sm\n"
   ]
  },
  {
   "cell_type": "markdown",
   "metadata": {},
   "source": [
    "## Columns\n"
   ]
  },
  {
   "cell_type": "code",
   "execution_count": 4,
   "metadata": {},
   "outputs": [
    {
     "data": {
      "text/plain": [
       "['detection',\n",
       " 'acq_date',\n",
       " 'wine',\n",
       " 'color',\n",
       " 'varietal',\n",
       " 'samplecode',\n",
       " 'id',\n",
       " 'sample_num']"
      ]
     },
     "execution_count": 4,
     "metadata": {},
     "output_type": "execute_result"
    }
   ],
   "source": [
    "sm.columns\n"
   ]
  },
  {
   "cell_type": "markdown",
   "metadata": {},
   "source": [
    "The sample metadata table contains the following columns: 'detection': the detection method of the sample signal, 'acq_date': the date the sample was observed, 'wine': the name of the wine from which the sample was taken, 'color': the color of the wine, 'varietal': the grape variety the wine was made from, 'samplecode': the unique identifier assigned to the sample at the time of observation, 'id' a unique identifer hash generated by the Agilent Chemstation software used to join the metadata to the signal table, 'sample_num': a human-readable unique identifier monotonically increasing from 1 acording to the 'acq_datee' in ascending order. "
   ]
  },
  {
   "cell_type": "markdown",
   "metadata": {},
   "source": [
    "## Sample Count"
   ]
  },
  {
   "cell_type": "code",
   "execution_count": 5,
   "metadata": {},
   "outputs": [
    {
     "data": {
      "text/html": [
       "<div><style>\n",
       ".dataframe > thead > tr,\n",
       ".dataframe > tbody > tr {\n",
       "  text-align: right;\n",
       "  white-space: pre-wrap;\n",
       "}\n",
       "</style>\n",
       "<small>shape: (1, 1)</small><table border=\"1\" class=\"dataframe\"><thead><tr><th>sample_num</th></tr><tr><td>i64</td></tr></thead><tbody><tr><td>96</td></tr></tbody></table></div>"
      ],
      "text/plain": [
       "shape: (1, 1)\n",
       "┌────────────┐\n",
       "│ sample_num │\n",
       "│ ---        │\n",
       "│ i64        │\n",
       "╞════════════╡\n",
       "│ 96         │\n",
       "└────────────┘"
      ]
     },
     "execution_count": 5,
     "metadata": {},
     "output_type": "execute_result"
    }
   ],
   "source": [
    "con.sql(\n",
    "\"\"\"--sql\n",
    "SELECT\n",
    "    count( distinct sample_num) as sample_num\n",
    "FROM\n",
    "    sm\n",
    "\"\"\"\n",
    ").pl()\n"
   ]
  },
  {
   "cell_type": "markdown",
   "metadata": {},
   "source": [
    "In the raw dataset are 96 samples."
   ]
  },
  {
   "cell_type": "markdown",
   "metadata": {},
   "source": [
    "## Color\n"
   ]
  },
  {
   "cell_type": "code",
   "execution_count": 6,
   "metadata": {},
   "outputs": [
    {
     "data": {
      "text/html": [
       "<div><style>\n",
       ".dataframe > thead > tr,\n",
       ".dataframe > tbody > tr {\n",
       "  text-align: right;\n",
       "  white-space: pre-wrap;\n",
       "}\n",
       "</style>\n",
       "<small>shape: (4, 2)</small><table border=\"1\" class=\"dataframe\"><thead><tr><th>color</th><th>count(sample_num)</th></tr><tr><td>str</td><td>i64</td></tr></thead><tbody><tr><td>&quot;orange&quot;</td><td>1</td></tr><tr><td>&quot;red&quot;</td><td>68</td></tr><tr><td>&quot;rosé&quot;</td><td>3</td></tr><tr><td>&quot;white&quot;</td><td>24</td></tr></tbody></table></div>"
      ],
      "text/plain": [
       "shape: (4, 2)\n",
       "┌────────┬───────────────────┐\n",
       "│ color  ┆ count(sample_num) │\n",
       "│ ---    ┆ ---               │\n",
       "│ str    ┆ i64               │\n",
       "╞════════╪═══════════════════╡\n",
       "│ orange ┆ 1                 │\n",
       "│ red    ┆ 68                │\n",
       "│ rosé   ┆ 3                 │\n",
       "│ white  ┆ 24                │\n",
       "└────────┴───────────────────┘"
      ]
     },
     "execution_count": 6,
     "metadata": {},
     "output_type": "execute_result"
    }
   ],
   "source": [
    "con.sql(\n",
    "\"\"\"--sql\n",
    "SELECT\n",
    "    color,\n",
    "    count(sample_num)\n",
    "FROM\n",
    "    sm\n",
    "GROUP BY color\n",
    "ORDER BY\n",
    "    color\n",
    "\"\"\"\n",
    ").pl()\n"
   ]
  },
  {
   "cell_type": "markdown",
   "metadata": {},
   "source": [
    "There are 4 unique colors: 'orange', 'red', 'rosé', and 'white'. The 96 samples can be broken down into the following: 'orange' = 1, 'red' = 68, 'rosè' = 3, 'white' = 24.\n"
   ]
  },
  {
   "cell_type": "markdown",
   "metadata": {},
   "source": [
    "## Variety"
   ]
  },
  {
   "cell_type": "markdown",
   "metadata": {},
   "source": [
    "### Samples per Varietal"
   ]
  },
  {
   "cell_type": "code",
   "execution_count": 7,
   "metadata": {},
   "outputs": [
    {
     "data": {
      "text/html": [
       "<div><style>\n",
       ".dataframe > thead > tr,\n",
       ".dataframe > tbody > tr {\n",
       "  text-align: right;\n",
       "  white-space: pre-wrap;\n",
       "}\n",
       "</style>\n",
       "<small>shape: (9, 3)</small><table border=\"1\" class=\"dataframe\"><thead><tr><th>statistic</th><th>varietal</th><th>count</th></tr><tr><td>str</td><td>str</td><td>f64</td></tr></thead><tbody><tr><td>&quot;count&quot;</td><td>&quot;33&quot;</td><td>33.0</td></tr><tr><td>&quot;null_count&quot;</td><td>&quot;0&quot;</td><td>0.0</td></tr><tr><td>&quot;mean&quot;</td><td>null</td><td>2.909091</td></tr><tr><td>&quot;std&quot;</td><td>null</td><td>2.673523</td></tr><tr><td>&quot;min&quot;</td><td>&quot;cabernet sauvignon&quot;</td><td>1.0</td></tr><tr><td>&quot;25%&quot;</td><td>null</td><td>1.0</td></tr><tr><td>&quot;50%&quot;</td><td>null</td><td>2.0</td></tr><tr><td>&quot;75%&quot;</td><td>null</td><td>3.0</td></tr><tr><td>&quot;max&quot;</td><td>&quot;white blend&quot;</td><td>11.0</td></tr></tbody></table></div>"
      ],
      "text/plain": [
       "shape: (9, 3)\n",
       "┌────────────┬────────────────────┬──────────┐\n",
       "│ statistic  ┆ varietal           ┆ count    │\n",
       "│ ---        ┆ ---                ┆ ---      │\n",
       "│ str        ┆ str                ┆ f64      │\n",
       "╞════════════╪════════════════════╪══════════╡\n",
       "│ count      ┆ 33                 ┆ 33.0     │\n",
       "│ null_count ┆ 0                  ┆ 0.0      │\n",
       "│ mean       ┆ null               ┆ 2.909091 │\n",
       "│ std        ┆ null               ┆ 2.673523 │\n",
       "│ min        ┆ cabernet sauvignon ┆ 1.0      │\n",
       "│ 25%        ┆ null               ┆ 1.0      │\n",
       "│ 50%        ┆ null               ┆ 2.0      │\n",
       "│ 75%        ┆ null               ┆ 3.0      │\n",
       "│ max        ┆ white blend        ┆ 11.0     │\n",
       "└────────────┴────────────────────┴──────────┘"
      ]
     },
     "execution_count": 7,
     "metadata": {},
     "output_type": "execute_result"
    }
   ],
   "source": [
    "varietal_counts = con.sql(\n",
    "\"\"\"--sql\n",
    "SELECT\n",
    "    varietal,\n",
    "    count(sample_num) as count\n",
    "FROM\n",
    "    sm\n",
    "GROUP BY\n",
    "    varietal\n",
    "ORDER BY\n",
    "    varietal\n",
    "\"\"\"\n",
    ").pl()\n",
    "\n",
    "varietal_counts.describe()\n"
   ]
  },
  {
   "cell_type": "markdown",
   "metadata": {},
   "source": [
    "There are 33 varieties within the 'raw' dataset.\n"
   ]
  },
  {
   "cell_type": "code",
   "execution_count": 27,
   "metadata": {},
   "outputs": [
    {
     "data": {
      "text/html": [
       "<div id=\"zvmglwsqtp\" style=\"padding-left:0px;padding-right:0px;padding-top:10px;padding-bottom:10px;overflow-x:auto;overflow-y:auto;width:auto;height:auto;\">\n",
       "<style>\n",
       "#zvmglwsqtp table {\n",
       "          font-family: -apple-system, BlinkMacSystemFont, 'Segoe UI', Roboto, Oxygen, Ubuntu, Cantarell, 'Helvetica Neue', 'Fira Sans', 'Droid Sans', Arial, sans-serif;\n",
       "          -webkit-font-smoothing: antialiased;\n",
       "          -moz-osx-font-smoothing: grayscale;\n",
       "        }\n",
       "\n",
       "#zvmglwsqtp thead, tbody, tfoot, tr, td, th { border-style: none !important; }\n",
       " tr { background-color: transparent !important; }\n",
       "#zvmglwsqtp p { margin: 0 !important; padding: 0 !important; }\n",
       " #zvmglwsqtp .gt_table { display: table !important; border-collapse: collapse !important; line-height: normal !important; margin-left: auto !important; margin-right: auto !important; color: #333333 !important; font-size: 16px !important; font-weight: normal !important; font-style: normal !important; background-color: #FFFFFF !important; width: auto !important; border-top-style: solid !important; border-top-width: 2px !important; border-top-color: #A8A8A8 !important; border-right-style: none !important; border-right-width: 2px !important; border-right-color: #D3D3D3 !important; border-bottom-style: solid !important; border-bottom-width: 2px !important; border-bottom-color: #A8A8A8 !important; border-left-style: none !important; border-left-width: 2px !important; border-left-color: #D3D3D3 !important; }\n",
       " #zvmglwsqtp .gt_caption { padding-top: 4px !important; padding-bottom: 4px !important; }\n",
       " #zvmglwsqtp .gt_title { color: #333333 !important; font-size: 125% !important; font-weight: initial !important; padding-top: 4px !important; padding-bottom: 4px !important; padding-left: 5px !important; padding-right: 5px !important; border-bottom-color: #FFFFFF !important; border-bottom-width: 0 !important; }\n",
       " #zvmglwsqtp .gt_subtitle { color: #333333 !important; font-size: 85% !important; font-weight: initial !important; padding-top: 3px !important; padding-bottom: 5px !important; padding-left: 5px !important; padding-right: 5px !important; border-top-color: #FFFFFF !important; border-top-width: 0 !important; }\n",
       " #zvmglwsqtp .gt_heading { background-color: #FFFFFF !important; text-align: center !important; border-bottom-color: #FFFFFF !important; border-left-style: none !important; border-left-width: 1px !important; border-left-color: #D3D3D3 !important; border-right-style: none !important; border-right-width: 1px !important; border-right-color: #D3D3D3 !important; }\n",
       " #zvmglwsqtp .gt_bottom_border { border-bottom-style: solid !important; border-bottom-width: 2px !important; border-bottom-color: #D3D3D3 !important; }\n",
       " #zvmglwsqtp .gt_col_headings { border-top-style: solid !important; border-top-width: 2px !important; border-top-color: #D3D3D3 !important; border-bottom-style: solid !important; border-bottom-width: 2px !important; border-bottom-color: #D3D3D3 !important; border-left-style: none !important; border-left-width: 1px !important; border-left-color: #D3D3D3 !important; border-right-style: none !important; border-right-width: 1px !important; border-right-color: #D3D3D3 !important; }\n",
       " #zvmglwsqtp .gt_col_heading { color: #333333 !important; background-color: #FFFFFF !important; font-size: 100% !important; font-weight: normal !important; text-transform: inherit !important; border-left-style: none !important; border-left-width: 1px !important; border-left-color: #D3D3D3 !important; border-right-style: none !important; border-right-width: 1px !important; border-right-color: #D3D3D3 !important; vertical-align: bottom !important; padding-top: 5px !important; padding-bottom: 5px !important; padding-left: 5px !important; padding-right: 5px !important; overflow-x: hidden !important; }\n",
       " #zvmglwsqtp .gt_column_spanner_outer { color: #333333 !important; background-color: #FFFFFF !important; font-size: 100% !important; font-weight: normal !important; text-transform: inherit !important; padding-top: 0 !important; padding-bottom: 0 !important; padding-left: 4px !important; padding-right: 4px !important; }\n",
       " #zvmglwsqtp .gt_column_spanner_outer:first-child { padding-left: 0 !important; }\n",
       " #zvmglwsqtp .gt_column_spanner_outer:last-child { padding-right: 0 !important; }\n",
       " #zvmglwsqtp .gt_column_spanner { border-bottom-style: solid !important; border-bottom-width: 2px !important; border-bottom-color: #D3D3D3 !important; vertical-align: bottom !important; padding-top: 5px !important; padding-bottom: 5px !important; overflow-x: hidden !important; display: inline-block !important; width: 100% !important; }\n",
       " #zvmglwsqtp .gt_spanner_row { border-bottom-style: hidden !important; }\n",
       " #zvmglwsqtp .gt_group_heading { padding-top: 8px !important; padding-bottom: 8px !important; padding-left: 5px !important; padding-right: 5px !important; color: #333333 !important; background-color: #FFFFFF !important; font-size: 100% !important; font-weight: initial !important; text-transform: inherit !important; border-top-style: solid !important; border-top-width: 2px !important; border-top-color: #D3D3D3 !important; border-bottom-style: solid !important; border-bottom-width: 2px !important; border-bottom-color: #D3D3D3 !important; border-left-style: none !important; border-left-width: 1px !important; border-left-color: #D3D3D3 !important; border-right-style: none !important; border-right-width: 1px !important; border-right-color: #D3D3D3 !important; vertical-align: middle !important; text-align: left !important; }\n",
       " #zvmglwsqtp .gt_empty_group_heading { padding: 0.5px !important; color: #333333 !important; background-color: #FFFFFF !important; font-size: 100% !important; font-weight: initial !important; border-top-style: solid !important; border-top-width: 2px !important; border-top-color: #D3D3D3 !important; border-bottom-style: solid !important; border-bottom-width: 2px !important; border-bottom-color: #D3D3D3 !important; vertical-align: middle !important; }\n",
       " #zvmglwsqtp .gt_from_md> :first-child { margin-top: 0 !important; }\n",
       " #zvmglwsqtp .gt_from_md> :last-child { margin-bottom: 0 !important; }\n",
       " #zvmglwsqtp .gt_row { padding-top: 8px !important; padding-bottom: 8px !important; padding-left: 5px !important; padding-right: 5px !important; margin: 10px !important; border-top-style: solid !important; border-top-width: 1px !important; border-top-color: #D3D3D3 !important; border-left-style: none !important; border-left-width: 1px !important; border-left-color: #D3D3D3 !important; border-right-style: none !important; border-right-width: 1px !important; border-right-color: #D3D3D3 !important; vertical-align: middle !important; overflow-x: hidden !important; }\n",
       " #zvmglwsqtp .gt_stub { color: #333333 !important; background-color: #FFFFFF !important; font-size: 100% !important; font-weight: initial !important; text-transform: inherit !important; border-right-style: solid !important; border-right-width: 2px !important; border-right-color: #D3D3D3 !important; padding-left: 5px !important; padding-right: 5px !important; }\n",
       " #zvmglwsqtp .gt_stub_row_group { color: #333333 !important; background-color: #FFFFFF !important; font-size: 100% !important; font-weight: initial !important; text-transform: inherit !important; border-right-style: solid !important; border-right-width: 2px !important; border-right-color: #D3D3D3 !important; padding-left: 5px !important; padding-right: 5px !important; vertical-align: top !important; }\n",
       " #zvmglwsqtp .gt_row_group_first td { border-top-width: 2px !important; }\n",
       " #zvmglwsqtp .gt_row_group_first th { border-top-width: 2px !important; }\n",
       " #zvmglwsqtp .gt_table_body { border-top-style: solid !important; border-top-width: 2px !important; border-top-color: #D3D3D3 !important; border-bottom-style: solid !important; border-bottom-width: 2px !important; border-bottom-color: #D3D3D3 !important; }\n",
       " #zvmglwsqtp .gt_sourcenotes { color: #333333 !important; background-color: #FFFFFF !important; border-bottom-style: none !important; border-bottom-width: 2px !important; border-bottom-color: #D3D3D3 !important; border-left-style: none !important; border-left-width: 2px !important; border-left-color: #D3D3D3 !important; border-right-style: none !important; border-right-width: 2px !important; border-right-color: #D3D3D3 !important; }\n",
       " #zvmglwsqtp .gt_sourcenote { font-size: 90% !important; padding-top: 4px !important; padding-bottom: 4px !important; padding-left: 5px !important; padding-right: 5px !important; text-align: left !important; }\n",
       " #zvmglwsqtp .gt_left { text-align: left !important; }\n",
       " #zvmglwsqtp .gt_center { text-align: center !important; }\n",
       " #zvmglwsqtp .gt_right { text-align: right !important; font-variant-numeric: tabular-nums !important; }\n",
       " #zvmglwsqtp .gt_font_normal { font-weight: normal !important; }\n",
       " #zvmglwsqtp .gt_font_bold { font-weight: bold !important; }\n",
       " #zvmglwsqtp .gt_font_italic { font-style: italic !important; }\n",
       " #zvmglwsqtp .gt_super { font-size: 65% !important; }\n",
       " #zvmglwsqtp .gt_footnote_marks { font-size: 75% !important; vertical-align: 0.4em !important; position: initial !important; }\n",
       " #zvmglwsqtp .gt_asterisk { font-size: 100% !important; vertical-align: 0 !important; }\n",
       " \n",
       "</style>\n",
       "<table class=\"gt_table\" data-quarto-disable-processing=\"false\" data-quarto-bootstrap=\"false\">\n",
       "<thead>\n",
       "\n",
       "<tr class=\"gt_col_headings\">\n",
       "  <th class=\"gt_col_heading gt_columns_bottom_border gt_right\" rowspan=\"1\" colspan=\"1\" scope=\"col\" id=\"bin_rank\">bin_rank</th>\n",
       "  <th class=\"gt_col_heading gt_columns_bottom_border gt_left\" rowspan=\"1\" colspan=\"1\" scope=\"col\" id=\"desc\">desc</th>\n",
       "  <th class=\"gt_col_heading gt_columns_bottom_border gt_right\" rowspan=\"1\" colspan=\"1\" scope=\"col\" id=\"var_per_bin\">var_per_bin</th>\n",
       "</tr>\n",
       "</thead>\n",
       "<tbody class=\"gt_table_body\">\n",
       "  <tr>\n",
       "    <td class=\"gt_row gt_right\">1</td>\n",
       "    <td class=\"gt_row gt_left\">one</td>\n",
       "    <td class=\"gt_row gt_right\">13</td>\n",
       "  </tr>\n",
       "  <tr>\n",
       "    <td class=\"gt_row gt_right\">2</td>\n",
       "    <td class=\"gt_row gt_left\">between 2 and 5</td>\n",
       "    <td class=\"gt_row gt_right\">16</td>\n",
       "  </tr>\n",
       "  <tr>\n",
       "    <td class=\"gt_row gt_right\">3</td>\n",
       "    <td class=\"gt_row gt_left\">between 5 and 10</td>\n",
       "    <td class=\"gt_row gt_right\">2</td>\n",
       "  </tr>\n",
       "  <tr>\n",
       "    <td class=\"gt_row gt_right\">4</td>\n",
       "    <td class=\"gt_row gt_left\">greater than 10</td>\n",
       "    <td class=\"gt_row gt_right\">2</td>\n",
       "  </tr>\n",
       "</tbody>\n",
       "\n",
       "\n",
       "</table>\n",
       "\n",
       "</div>\n",
       "        "
      ],
      "text/plain": [
       "GT(_tbl_data=shape: (4, 3)\n",
       "┌──────────┬──────────────────┬─────────────┐\n",
       "│ bin_rank ┆ desc             ┆ var_per_bin │\n",
       "│ ---      ┆ ---              ┆ ---         │\n",
       "│ i32      ┆ str              ┆ i64         │\n",
       "╞══════════╪══════════════════╪═════════════╡\n",
       "│ 1        ┆ one              ┆ 13          │\n",
       "│ 2        ┆ between 2 and 5  ┆ 16          │\n",
       "│ 3        ┆ between 5 and 10 ┆ 2           │\n",
       "│ 4        ┆ greater than 10  ┆ 2           │\n",
       "└──────────┴──────────────────┴─────────────┘, _body=<great_tables._gt_data.Body object at 0x16b577aa0>, _boxhead=Boxhead([ColInfo(var='bin_rank', type=<ColInfoTypeEnum.default: 1>, column_label='bin_rank', column_align='right', column_width=None), ColInfo(var='desc', type=<ColInfoTypeEnum.default: 1>, column_label='desc', column_align='left', column_width=None), ColInfo(var='var_per_bin', type=<ColInfoTypeEnum.default: 1>, column_label='var_per_bin', column_align='right', column_width=None)]), _stub=<great_tables._gt_data.Stub object at 0x2a039c860>, _spanners=Spanners([]), _heading=Heading(title=None, subtitle=None, preheader=None), _stubhead=None, _source_notes=[], _footnotes=[], _styles=[], _locale=<great_tables._gt_data.Locale object at 0x2a02f6900>, _formats=[], _substitutions=[], _options=Options(table_id=OptionsInfo(scss=False, category='table', type='value', value=None), table_caption=OptionsInfo(scss=False, category='table', type='value', value=None), table_width=OptionsInfo(scss=True, category='table', type='px', value='auto'), table_layout=OptionsInfo(scss=True, category='table', type='value', value='fixed'), table_margin_left=OptionsInfo(scss=True, category='table', type='px', value='auto'), table_margin_right=OptionsInfo(scss=True, category='table', type='px', value='auto'), table_background_color=OptionsInfo(scss=True, category='table', type='value', value='#FFFFFF'), table_font_names=OptionsInfo(scss=False, category='table', type='values', value=['-apple-system', 'BlinkMacSystemFont', 'Segoe UI', 'Roboto', 'Oxygen', 'Ubuntu', 'Cantarell', 'Helvetica Neue', 'Fira Sans', 'Droid Sans', 'Arial', 'sans-serif']), table_font_size=OptionsInfo(scss=True, category='table', type='px', value='16px'), table_font_weight=OptionsInfo(scss=True, category='table', type='value', value='normal'), table_font_style=OptionsInfo(scss=True, category='table', type='value', value='normal'), table_font_color=OptionsInfo(scss=True, category='table', type='value', value='#333333'), table_font_color_light=OptionsInfo(scss=True, category='table', type='value', value='#FFFFFF'), table_border_top_include=OptionsInfo(scss=False, category='table', type='boolean', value=True), table_border_top_style=OptionsInfo(scss=True, category='table', type='value', value='solid'), table_border_top_width=OptionsInfo(scss=True, category='table', type='px', value='2px'), table_border_top_color=OptionsInfo(scss=True, category='table', type='value', value='#A8A8A8'), table_border_right_style=OptionsInfo(scss=True, category='table', type='value', value='none'), table_border_right_width=OptionsInfo(scss=True, category='table', type='px', value='2px'), table_border_right_color=OptionsInfo(scss=True, category='table', type='value', value='#D3D3D3'), table_border_bottom_include=OptionsInfo(scss=False, category='table', type='boolean', value=True), table_border_bottom_style=OptionsInfo(scss=True, category='table', type='value', value='solid'), table_border_bottom_width=OptionsInfo(scss=True, category='table', type='px', value='2px'), table_border_bottom_color=OptionsInfo(scss=True, category='table', type='value', value='#A8A8A8'), table_border_left_style=OptionsInfo(scss=True, category='table', type='value', value='none'), table_border_left_width=OptionsInfo(scss=True, category='table', type='px', value='2px'), table_border_left_color=OptionsInfo(scss=True, category='table', type='value', value='#D3D3D3'), heading_background_color=OptionsInfo(scss=True, category='heading', type='value', value=None), heading_align=OptionsInfo(scss=True, category='heading', type='value', value='center'), heading_title_font_size=OptionsInfo(scss=True, category='heading', type='px', value='125%'), heading_title_font_weight=OptionsInfo(scss=True, category='heading', type='value', value='initial'), heading_subtitle_font_size=OptionsInfo(scss=True, category='heading', type='px', value='85%'), heading_subtitle_font_weight=OptionsInfo(scss=True, category='heading', type='value', value='initial'), heading_padding=OptionsInfo(scss=True, category='heading', type='px', value='4px'), heading_padding_horizontal=OptionsInfo(scss=True, category='heading', type='px', value='5px'), heading_border_bottom_style=OptionsInfo(scss=True, category='heading', type='value', value='solid'), heading_border_bottom_width=OptionsInfo(scss=True, category='heading', type='px', value='2px'), heading_border_bottom_color=OptionsInfo(scss=True, category='heading', type='value', value='#D3D3D3'), heading_border_lr_style=OptionsInfo(scss=True, category='heading', type='value', value='none'), heading_border_lr_width=OptionsInfo(scss=True, category='heading', type='px', value='1px'), heading_border_lr_color=OptionsInfo(scss=True, category='heading', type='value', value='#D3D3D3'), column_labels_background_color=OptionsInfo(scss=True, category='column_labels', type='value', value=None), column_labels_font_size=OptionsInfo(scss=True, category='column_labels', type='px', value='100%'), column_labels_font_weight=OptionsInfo(scss=True, category='column_labels', type='value', value='normal'), column_labels_text_transform=OptionsInfo(scss=True, category='column_labels', type='value', value='inherit'), column_labels_padding=OptionsInfo(scss=True, category='column_labels', type='px', value='5px'), column_labels_padding_horizontal=OptionsInfo(scss=True, category='column_labels', type='px', value='5px'), column_labels_vlines_style=OptionsInfo(scss=True, category='table_body', type='value', value='none'), column_labels_vlines_width=OptionsInfo(scss=True, category='table_body', type='px', value='1px'), column_labels_vlines_color=OptionsInfo(scss=True, category='table_body', type='value', value='#D3D3D3'), column_labels_border_top_style=OptionsInfo(scss=True, category='column_labels', type='value', value='solid'), column_labels_border_top_width=OptionsInfo(scss=True, category='column_labels', type='px', value='2px'), column_labels_border_top_color=OptionsInfo(scss=True, category='column_labels', type='value', value='#D3D3D3'), column_labels_border_bottom_style=OptionsInfo(scss=True, category='column_labels', type='value', value='solid'), column_labels_border_bottom_width=OptionsInfo(scss=True, category='column_labels', type='px', value='2px'), column_labels_border_bottom_color=OptionsInfo(scss=True, category='column_labels', type='value', value='#D3D3D3'), column_labels_border_lr_style=OptionsInfo(scss=True, category='column_labels', type='value', value='none'), column_labels_border_lr_width=OptionsInfo(scss=True, category='column_labels', type='px', value='1px'), column_labels_border_lr_color=OptionsInfo(scss=True, category='column_labels', type='value', value='#D3D3D3'), column_labels_hidden=OptionsInfo(scss=False, category='column_labels', type='boolean', value=False), row_group_background_color=OptionsInfo(scss=True, category='row_group', type='value', value=None), row_group_font_size=OptionsInfo(scss=True, category='row_group', type='px', value='100%'), row_group_font_weight=OptionsInfo(scss=True, category='row_group', type='value', value='initial'), row_group_text_transform=OptionsInfo(scss=True, category='row_group', type='value', value='inherit'), row_group_padding=OptionsInfo(scss=True, category='row_group', type='px', value='8px'), row_group_padding_horizontal=OptionsInfo(scss=True, category='row_group', type='px', value='5px'), row_group_border_top_style=OptionsInfo(scss=True, category='row_group', type='value', value='solid'), row_group_border_top_width=OptionsInfo(scss=True, category='row_group', type='px', value='2px'), row_group_border_top_color=OptionsInfo(scss=True, category='row_group', type='value', value='#D3D3D3'), row_group_border_right_style=OptionsInfo(scss=True, category='row_group', type='value', value='none'), row_group_border_right_width=OptionsInfo(scss=True, category='row_group', type='px', value='1px'), row_group_border_right_color=OptionsInfo(scss=True, category='row_group', type='value', value='#D3D3D3'), row_group_border_bottom_style=OptionsInfo(scss=True, category='row_group', type='value', value='solid'), row_group_border_bottom_width=OptionsInfo(scss=True, category='row_group', type='px', value='2px'), row_group_border_bottom_color=OptionsInfo(scss=True, category='row_group', type='value', value='#D3D3D3'), row_group_border_left_style=OptionsInfo(scss=True, category='row_group', type='value', value='none'), row_group_border_left_width=OptionsInfo(scss=True, category='row_group', type='px', value='1px'), row_group_border_left_color=OptionsInfo(scss=True, category='row_group', type='value', value='#D3D3D3'), row_group_as_column=OptionsInfo(scss=False, category='row_group', type='boolean', value=False), table_body_hlines_style=OptionsInfo(scss=True, category='table_body', type='value', value='solid'), table_body_hlines_width=OptionsInfo(scss=True, category='table_body', type='px', value='1px'), table_body_hlines_color=OptionsInfo(scss=True, category='table_body', type='value', value='#D3D3D3'), table_body_vlines_style=OptionsInfo(scss=True, category='table_body', type='value', value='none'), table_body_vlines_width=OptionsInfo(scss=True, category='table_body', type='px', value='1px'), table_body_vlines_color=OptionsInfo(scss=True, category='table_body', type='value', value='#D3D3D3'), table_body_border_top_style=OptionsInfo(scss=True, category='table_body', type='value', value='solid'), table_body_border_top_width=OptionsInfo(scss=True, category='table_body', type='px', value='2px'), table_body_border_top_color=OptionsInfo(scss=True, category='table_body', type='value', value='#D3D3D3'), table_body_border_bottom_style=OptionsInfo(scss=True, category='table_body', type='value', value='solid'), table_body_border_bottom_width=OptionsInfo(scss=True, category='table_body', type='px', value='2px'), table_body_border_bottom_color=OptionsInfo(scss=True, category='table_body', type='value', value='#D3D3D3'), data_row_padding=OptionsInfo(scss=True, category='data_row', type='px', value='8px'), data_row_padding_horizontal=OptionsInfo(scss=True, category='data_row', type='px', value='5px'), stub_background_color=OptionsInfo(scss=True, category='stub', type='value', value=None), stub_font_size=OptionsInfo(scss=True, category='stub', type='px', value='100%'), stub_font_weight=OptionsInfo(scss=True, category='stub', type='value', value='initial'), stub_text_transform=OptionsInfo(scss=True, category='stub', type='value', value='inherit'), stub_border_style=OptionsInfo(scss=True, category='stub', type='value', value='solid'), stub_border_width=OptionsInfo(scss=True, category='stub', type='px', value='2px'), stub_border_color=OptionsInfo(scss=True, category='stub', type='value', value='#D3D3D3'), stub_row_group_background_color=OptionsInfo(scss=True, category='stub', type='value', value=None), stub_row_group_font_size=OptionsInfo(scss=True, category='stub', type='px', value='100%'), stub_row_group_font_weight=OptionsInfo(scss=True, category='stub', type='value', value='initial'), stub_row_group_text_transform=OptionsInfo(scss=True, category='stub', type='value', value='inherit'), stub_row_group_border_style=OptionsInfo(scss=True, category='stub', type='value', value='solid'), stub_row_group_border_width=OptionsInfo(scss=True, category='stub', type='px', value='2px'), stub_row_group_border_color=OptionsInfo(scss=True, category='stub', type='value', value='#D3D3D3'), source_notes_padding=OptionsInfo(scss=True, category='source_notes', type='px', value='4px'), source_notes_padding_horizontal=OptionsInfo(scss=True, category='source_notes', type='px', value='5px'), source_notes_background_color=OptionsInfo(scss=True, category='source_notes', type='value', value=None), source_notes_font_size=OptionsInfo(scss=True, category='source_notes', type='px', value='90%'), source_notes_border_bottom_style=OptionsInfo(scss=True, category='source_notes', type='value', value='none'), source_notes_border_bottom_width=OptionsInfo(scss=True, category='source_notes', type='px', value='2px'), source_notes_border_bottom_color=OptionsInfo(scss=True, category='source_notes', type='value', value='#D3D3D3'), source_notes_border_lr_style=OptionsInfo(scss=True, category='source_notes', type='value', value='none'), source_notes_border_lr_width=OptionsInfo(scss=True, category='source_notes', type='px', value='2px'), source_notes_border_lr_color=OptionsInfo(scss=True, category='source_notes', type='value', value='#D3D3D3'), source_notes_multiline=OptionsInfo(scss=False, category='source_notes', type='boolean', value=True), source_notes_sep=OptionsInfo(scss=False, category='source_notes', type='value', value=' '), container_width=OptionsInfo(scss=False, category='container', type='px', value='auto'), container_height=OptionsInfo(scss=False, category='container', type='px', value='auto'), container_padding_x=OptionsInfo(scss=False, category='container', type='px', value='0px'), container_padding_y=OptionsInfo(scss=False, category='container', type='px', value='10px'), container_overflow_x=OptionsInfo(scss=False, category='container', type='overflow', value='auto'), container_overflow_y=OptionsInfo(scss=False, category='container', type='overflow', value='auto'), quarto_disable_processing=OptionsInfo(scss=False, category='quarto', type='logical', value=False), quarto_use_bootstrap=OptionsInfo(scss=False, category='quarto', type='logical', value=False)), _has_built=False)"
      ]
     },
     "execution_count": 27,
     "metadata": {},
     "output_type": "execute_result"
    }
   ],
   "source": [
    "con.sql(\n",
    "\"\"\"--sql\n",
    "WITH\n",
    "    binned AS(\n",
    "        SELECT\n",
    "            varietal,\n",
    "            count,\n",
    "            CASE\n",
    "                WHEN\n",
    "                    count = 1\n",
    "                THEN\n",
    "                    {'desc':'one', 'bin_rank': 0}\n",
    "                WHEN\n",
    "                    count BETWEEN 2 AND 5\n",
    "                THEN\n",
    "                    {'desc':'between 2 and 5', 'bin_rank':1}\n",
    "                WHEN\n",
    "                    count BETWEEN 5 AND 10\n",
    "                THEN\n",
    "                    {'desc':'between 5 and 10', 'bin_rank':2}\n",
    "                WHEN\n",
    "                    count > 10\n",
    "                THEN\n",
    "                    {'desc':'greater than 10', 'bin_rank':3}\n",
    "                END AS bin\n",
    "                    \n",
    "        FROM\n",
    "            varietal_counts\n",
    "        ORDER BY\n",
    "            bin ASC\n",
    "        ),\n",
    "    agg AS (\n",
    "        SELECT\n",
    "            bin,\n",
    "            count(varietal) as var_per_bin,\n",
    "        FROM\n",
    "            binned\n",
    "        GROUP BY\n",
    "            bin\n",
    "        ORDER BY\n",
    "            bin\n",
    "        ),\n",
    "    unpacked AS (\n",
    "        SELECT\n",
    "            bin.*,\n",
    "            var_per_bin\n",
    "        FROM\n",
    "            agg\n",
    "        )\n",
    "SELECT\n",
    "    bin_rank + 1 as bin_rank,\n",
    "    \"desc\",\n",
    "    var_per_bin\n",
    "    \n",
    "FROM\n",
    "    unpacked\n",
    "ORDER BY\n",
    "    bin_rank\n",
    "\"\"\"\n",
    ").pl().pipe(GT)\n"
   ]
  },
  {
   "cell_type": "markdown",
   "metadata": {},
   "source": [
    "There is a variation in numerical representation of varieties within the dataset, ranging from 1 to 11 samples. Four key ranges were identified: 1: $n = 1$, 2: $2 \\le n < 5$, 3: $5 \\le n < 10$, and 4: $n>10$ (11 samples). bin 1 possessed 13 varietals, bin 2 16 varietals, 3 and 4 both had 2. The full tabulation can be found in the [appendix](#varietal-counts)."
   ]
  },
  {
   "cell_type": "markdown",
   "metadata": {},
   "source": [
    "### Most Represented Varietals\n"
   ]
  },
  {
   "cell_type": "code",
   "execution_count": 28,
   "metadata": {},
   "outputs": [
    {
     "data": {
      "text/html": [
       "<div id=\"ytzdvrdcwh\" style=\"padding-left:0px;padding-right:0px;padding-top:10px;padding-bottom:10px;overflow-x:auto;overflow-y:auto;width:auto;height:auto;\">\n",
       "<style>\n",
       "#ytzdvrdcwh table {\n",
       "          font-family: -apple-system, BlinkMacSystemFont, 'Segoe UI', Roboto, Oxygen, Ubuntu, Cantarell, 'Helvetica Neue', 'Fira Sans', 'Droid Sans', Arial, sans-serif;\n",
       "          -webkit-font-smoothing: antialiased;\n",
       "          -moz-osx-font-smoothing: grayscale;\n",
       "        }\n",
       "\n",
       "#ytzdvrdcwh thead, tbody, tfoot, tr, td, th { border-style: none !important; }\n",
       " tr { background-color: transparent !important; }\n",
       "#ytzdvrdcwh p { margin: 0 !important; padding: 0 !important; }\n",
       " #ytzdvrdcwh .gt_table { display: table !important; border-collapse: collapse !important; line-height: normal !important; margin-left: auto !important; margin-right: auto !important; color: #333333 !important; font-size: 16px !important; font-weight: normal !important; font-style: normal !important; background-color: #FFFFFF !important; width: auto !important; border-top-style: solid !important; border-top-width: 2px !important; border-top-color: #A8A8A8 !important; border-right-style: none !important; border-right-width: 2px !important; border-right-color: #D3D3D3 !important; border-bottom-style: solid !important; border-bottom-width: 2px !important; border-bottom-color: #A8A8A8 !important; border-left-style: none !important; border-left-width: 2px !important; border-left-color: #D3D3D3 !important; }\n",
       " #ytzdvrdcwh .gt_caption { padding-top: 4px !important; padding-bottom: 4px !important; }\n",
       " #ytzdvrdcwh .gt_title { color: #333333 !important; font-size: 125% !important; font-weight: initial !important; padding-top: 4px !important; padding-bottom: 4px !important; padding-left: 5px !important; padding-right: 5px !important; border-bottom-color: #FFFFFF !important; border-bottom-width: 0 !important; }\n",
       " #ytzdvrdcwh .gt_subtitle { color: #333333 !important; font-size: 85% !important; font-weight: initial !important; padding-top: 3px !important; padding-bottom: 5px !important; padding-left: 5px !important; padding-right: 5px !important; border-top-color: #FFFFFF !important; border-top-width: 0 !important; }\n",
       " #ytzdvrdcwh .gt_heading { background-color: #FFFFFF !important; text-align: center !important; border-bottom-color: #FFFFFF !important; border-left-style: none !important; border-left-width: 1px !important; border-left-color: #D3D3D3 !important; border-right-style: none !important; border-right-width: 1px !important; border-right-color: #D3D3D3 !important; }\n",
       " #ytzdvrdcwh .gt_bottom_border { border-bottom-style: solid !important; border-bottom-width: 2px !important; border-bottom-color: #D3D3D3 !important; }\n",
       " #ytzdvrdcwh .gt_col_headings { border-top-style: solid !important; border-top-width: 2px !important; border-top-color: #D3D3D3 !important; border-bottom-style: solid !important; border-bottom-width: 2px !important; border-bottom-color: #D3D3D3 !important; border-left-style: none !important; border-left-width: 1px !important; border-left-color: #D3D3D3 !important; border-right-style: none !important; border-right-width: 1px !important; border-right-color: #D3D3D3 !important; }\n",
       " #ytzdvrdcwh .gt_col_heading { color: #333333 !important; background-color: #FFFFFF !important; font-size: 100% !important; font-weight: normal !important; text-transform: inherit !important; border-left-style: none !important; border-left-width: 1px !important; border-left-color: #D3D3D3 !important; border-right-style: none !important; border-right-width: 1px !important; border-right-color: #D3D3D3 !important; vertical-align: bottom !important; padding-top: 5px !important; padding-bottom: 5px !important; padding-left: 5px !important; padding-right: 5px !important; overflow-x: hidden !important; }\n",
       " #ytzdvrdcwh .gt_column_spanner_outer { color: #333333 !important; background-color: #FFFFFF !important; font-size: 100% !important; font-weight: normal !important; text-transform: inherit !important; padding-top: 0 !important; padding-bottom: 0 !important; padding-left: 4px !important; padding-right: 4px !important; }\n",
       " #ytzdvrdcwh .gt_column_spanner_outer:first-child { padding-left: 0 !important; }\n",
       " #ytzdvrdcwh .gt_column_spanner_outer:last-child { padding-right: 0 !important; }\n",
       " #ytzdvrdcwh .gt_column_spanner { border-bottom-style: solid !important; border-bottom-width: 2px !important; border-bottom-color: #D3D3D3 !important; vertical-align: bottom !important; padding-top: 5px !important; padding-bottom: 5px !important; overflow-x: hidden !important; display: inline-block !important; width: 100% !important; }\n",
       " #ytzdvrdcwh .gt_spanner_row { border-bottom-style: hidden !important; }\n",
       " #ytzdvrdcwh .gt_group_heading { padding-top: 8px !important; padding-bottom: 8px !important; padding-left: 5px !important; padding-right: 5px !important; color: #333333 !important; background-color: #FFFFFF !important; font-size: 100% !important; font-weight: initial !important; text-transform: inherit !important; border-top-style: solid !important; border-top-width: 2px !important; border-top-color: #D3D3D3 !important; border-bottom-style: solid !important; border-bottom-width: 2px !important; border-bottom-color: #D3D3D3 !important; border-left-style: none !important; border-left-width: 1px !important; border-left-color: #D3D3D3 !important; border-right-style: none !important; border-right-width: 1px !important; border-right-color: #D3D3D3 !important; vertical-align: middle !important; text-align: left !important; }\n",
       " #ytzdvrdcwh .gt_empty_group_heading { padding: 0.5px !important; color: #333333 !important; background-color: #FFFFFF !important; font-size: 100% !important; font-weight: initial !important; border-top-style: solid !important; border-top-width: 2px !important; border-top-color: #D3D3D3 !important; border-bottom-style: solid !important; border-bottom-width: 2px !important; border-bottom-color: #D3D3D3 !important; vertical-align: middle !important; }\n",
       " #ytzdvrdcwh .gt_from_md> :first-child { margin-top: 0 !important; }\n",
       " #ytzdvrdcwh .gt_from_md> :last-child { margin-bottom: 0 !important; }\n",
       " #ytzdvrdcwh .gt_row { padding-top: 8px !important; padding-bottom: 8px !important; padding-left: 5px !important; padding-right: 5px !important; margin: 10px !important; border-top-style: solid !important; border-top-width: 1px !important; border-top-color: #D3D3D3 !important; border-left-style: none !important; border-left-width: 1px !important; border-left-color: #D3D3D3 !important; border-right-style: none !important; border-right-width: 1px !important; border-right-color: #D3D3D3 !important; vertical-align: middle !important; overflow-x: hidden !important; }\n",
       " #ytzdvrdcwh .gt_stub { color: #333333 !important; background-color: #FFFFFF !important; font-size: 100% !important; font-weight: initial !important; text-transform: inherit !important; border-right-style: solid !important; border-right-width: 2px !important; border-right-color: #D3D3D3 !important; padding-left: 5px !important; padding-right: 5px !important; }\n",
       " #ytzdvrdcwh .gt_stub_row_group { color: #333333 !important; background-color: #FFFFFF !important; font-size: 100% !important; font-weight: initial !important; text-transform: inherit !important; border-right-style: solid !important; border-right-width: 2px !important; border-right-color: #D3D3D3 !important; padding-left: 5px !important; padding-right: 5px !important; vertical-align: top !important; }\n",
       " #ytzdvrdcwh .gt_row_group_first td { border-top-width: 2px !important; }\n",
       " #ytzdvrdcwh .gt_row_group_first th { border-top-width: 2px !important; }\n",
       " #ytzdvrdcwh .gt_table_body { border-top-style: solid !important; border-top-width: 2px !important; border-top-color: #D3D3D3 !important; border-bottom-style: solid !important; border-bottom-width: 2px !important; border-bottom-color: #D3D3D3 !important; }\n",
       " #ytzdvrdcwh .gt_sourcenotes { color: #333333 !important; background-color: #FFFFFF !important; border-bottom-style: none !important; border-bottom-width: 2px !important; border-bottom-color: #D3D3D3 !important; border-left-style: none !important; border-left-width: 2px !important; border-left-color: #D3D3D3 !important; border-right-style: none !important; border-right-width: 2px !important; border-right-color: #D3D3D3 !important; }\n",
       " #ytzdvrdcwh .gt_sourcenote { font-size: 90% !important; padding-top: 4px !important; padding-bottom: 4px !important; padding-left: 5px !important; padding-right: 5px !important; text-align: left !important; }\n",
       " #ytzdvrdcwh .gt_left { text-align: left !important; }\n",
       " #ytzdvrdcwh .gt_center { text-align: center !important; }\n",
       " #ytzdvrdcwh .gt_right { text-align: right !important; font-variant-numeric: tabular-nums !important; }\n",
       " #ytzdvrdcwh .gt_font_normal { font-weight: normal !important; }\n",
       " #ytzdvrdcwh .gt_font_bold { font-weight: bold !important; }\n",
       " #ytzdvrdcwh .gt_font_italic { font-style: italic !important; }\n",
       " #ytzdvrdcwh .gt_super { font-size: 65% !important; }\n",
       " #ytzdvrdcwh .gt_footnote_marks { font-size: 75% !important; vertical-align: 0.4em !important; position: initial !important; }\n",
       " #ytzdvrdcwh .gt_asterisk { font-size: 100% !important; vertical-align: 0 !important; }\n",
       " \n",
       "</style>\n",
       "<table class=\"gt_table\" data-quarto-disable-processing=\"false\" data-quarto-bootstrap=\"false\">\n",
       "<thead>\n",
       "\n",
       "<tr class=\"gt_col_headings\">\n",
       "  <th class=\"gt_col_heading gt_columns_bottom_border gt_left\" rowspan=\"1\" colspan=\"1\" scope=\"col\" id=\"varietal\">varietal</th>\n",
       "  <th class=\"gt_col_heading gt_columns_bottom_border gt_right\" rowspan=\"1\" colspan=\"1\" scope=\"col\" id=\"count\">count</th>\n",
       "</tr>\n",
       "</thead>\n",
       "<tbody class=\"gt_table_body\">\n",
       "  <tr>\n",
       "    <td class=\"gt_row gt_left\">pinot noir</td>\n",
       "    <td class=\"gt_row gt_right\">11</td>\n",
       "  </tr>\n",
       "  <tr>\n",
       "    <td class=\"gt_row gt_left\">shiraz</td>\n",
       "    <td class=\"gt_row gt_right\">11</td>\n",
       "  </tr>\n",
       "  <tr>\n",
       "    <td class=\"gt_row gt_left\">chardonnay</td>\n",
       "    <td class=\"gt_row gt_right\">7</td>\n",
       "  </tr>\n",
       "  <tr>\n",
       "    <td class=\"gt_row gt_left\">red bordeaux blend</td>\n",
       "    <td class=\"gt_row gt_right\">6</td>\n",
       "  </tr>\n",
       "  <tr>\n",
       "    <td class=\"gt_row gt_left\">gamay</td>\n",
       "    <td class=\"gt_row gt_right\">5</td>\n",
       "  </tr>\n",
       "  <tr>\n",
       "    <td class=\"gt_row gt_left\">malbec</td>\n",
       "    <td class=\"gt_row gt_right\">5</td>\n",
       "  </tr>\n",
       "  <tr>\n",
       "    <td class=\"gt_row gt_left\">nebbiolo</td>\n",
       "    <td class=\"gt_row gt_right\">5</td>\n",
       "  </tr>\n",
       "  <tr>\n",
       "    <td class=\"gt_row gt_left\">riesling</td>\n",
       "    <td class=\"gt_row gt_right\">5</td>\n",
       "  </tr>\n",
       "</tbody>\n",
       "\n",
       "\n",
       "</table>\n",
       "\n",
       "</div>\n",
       "        "
      ],
      "text/plain": [
       "GT(_tbl_data=shape: (8, 2)\n",
       "┌────────────────────┬───────┐\n",
       "│ varietal           ┆ count │\n",
       "│ ---                ┆ ---   │\n",
       "│ str                ┆ i64   │\n",
       "╞════════════════════╪═══════╡\n",
       "│ pinot noir         ┆ 11    │\n",
       "│ shiraz             ┆ 11    │\n",
       "│ chardonnay         ┆ 7     │\n",
       "│ red bordeaux blend ┆ 6     │\n",
       "│ gamay              ┆ 5     │\n",
       "│ malbec             ┆ 5     │\n",
       "│ nebbiolo           ┆ 5     │\n",
       "│ riesling           ┆ 5     │\n",
       "└────────────────────┴───────┘, _body=<great_tables._gt_data.Body object at 0x16bc29190>, _boxhead=Boxhead([ColInfo(var='varietal', type=<ColInfoTypeEnum.default: 1>, column_label='varietal', column_align='left', column_width=None), ColInfo(var='count', type=<ColInfoTypeEnum.default: 1>, column_label='count', column_align='right', column_width=None)]), _stub=<great_tables._gt_data.Stub object at 0x16bc29730>, _spanners=Spanners([]), _heading=Heading(title=None, subtitle=None, preheader=None), _stubhead=None, _source_notes=[], _footnotes=[], _styles=[], _locale=<great_tables._gt_data.Locale object at 0x16d2e4f80>, _formats=[], _substitutions=[], _options=Options(table_id=OptionsInfo(scss=False, category='table', type='value', value=None), table_caption=OptionsInfo(scss=False, category='table', type='value', value=None), table_width=OptionsInfo(scss=True, category='table', type='px', value='auto'), table_layout=OptionsInfo(scss=True, category='table', type='value', value='fixed'), table_margin_left=OptionsInfo(scss=True, category='table', type='px', value='auto'), table_margin_right=OptionsInfo(scss=True, category='table', type='px', value='auto'), table_background_color=OptionsInfo(scss=True, category='table', type='value', value='#FFFFFF'), table_font_names=OptionsInfo(scss=False, category='table', type='values', value=['-apple-system', 'BlinkMacSystemFont', 'Segoe UI', 'Roboto', 'Oxygen', 'Ubuntu', 'Cantarell', 'Helvetica Neue', 'Fira Sans', 'Droid Sans', 'Arial', 'sans-serif']), table_font_size=OptionsInfo(scss=True, category='table', type='px', value='16px'), table_font_weight=OptionsInfo(scss=True, category='table', type='value', value='normal'), table_font_style=OptionsInfo(scss=True, category='table', type='value', value='normal'), table_font_color=OptionsInfo(scss=True, category='table', type='value', value='#333333'), table_font_color_light=OptionsInfo(scss=True, category='table', type='value', value='#FFFFFF'), table_border_top_include=OptionsInfo(scss=False, category='table', type='boolean', value=True), table_border_top_style=OptionsInfo(scss=True, category='table', type='value', value='solid'), table_border_top_width=OptionsInfo(scss=True, category='table', type='px', value='2px'), table_border_top_color=OptionsInfo(scss=True, category='table', type='value', value='#A8A8A8'), table_border_right_style=OptionsInfo(scss=True, category='table', type='value', value='none'), table_border_right_width=OptionsInfo(scss=True, category='table', type='px', value='2px'), table_border_right_color=OptionsInfo(scss=True, category='table', type='value', value='#D3D3D3'), table_border_bottom_include=OptionsInfo(scss=False, category='table', type='boolean', value=True), table_border_bottom_style=OptionsInfo(scss=True, category='table', type='value', value='solid'), table_border_bottom_width=OptionsInfo(scss=True, category='table', type='px', value='2px'), table_border_bottom_color=OptionsInfo(scss=True, category='table', type='value', value='#A8A8A8'), table_border_left_style=OptionsInfo(scss=True, category='table', type='value', value='none'), table_border_left_width=OptionsInfo(scss=True, category='table', type='px', value='2px'), table_border_left_color=OptionsInfo(scss=True, category='table', type='value', value='#D3D3D3'), heading_background_color=OptionsInfo(scss=True, category='heading', type='value', value=None), heading_align=OptionsInfo(scss=True, category='heading', type='value', value='center'), heading_title_font_size=OptionsInfo(scss=True, category='heading', type='px', value='125%'), heading_title_font_weight=OptionsInfo(scss=True, category='heading', type='value', value='initial'), heading_subtitle_font_size=OptionsInfo(scss=True, category='heading', type='px', value='85%'), heading_subtitle_font_weight=OptionsInfo(scss=True, category='heading', type='value', value='initial'), heading_padding=OptionsInfo(scss=True, category='heading', type='px', value='4px'), heading_padding_horizontal=OptionsInfo(scss=True, category='heading', type='px', value='5px'), heading_border_bottom_style=OptionsInfo(scss=True, category='heading', type='value', value='solid'), heading_border_bottom_width=OptionsInfo(scss=True, category='heading', type='px', value='2px'), heading_border_bottom_color=OptionsInfo(scss=True, category='heading', type='value', value='#D3D3D3'), heading_border_lr_style=OptionsInfo(scss=True, category='heading', type='value', value='none'), heading_border_lr_width=OptionsInfo(scss=True, category='heading', type='px', value='1px'), heading_border_lr_color=OptionsInfo(scss=True, category='heading', type='value', value='#D3D3D3'), column_labels_background_color=OptionsInfo(scss=True, category='column_labels', type='value', value=None), column_labels_font_size=OptionsInfo(scss=True, category='column_labels', type='px', value='100%'), column_labels_font_weight=OptionsInfo(scss=True, category='column_labels', type='value', value='normal'), column_labels_text_transform=OptionsInfo(scss=True, category='column_labels', type='value', value='inherit'), column_labels_padding=OptionsInfo(scss=True, category='column_labels', type='px', value='5px'), column_labels_padding_horizontal=OptionsInfo(scss=True, category='column_labels', type='px', value='5px'), column_labels_vlines_style=OptionsInfo(scss=True, category='table_body', type='value', value='none'), column_labels_vlines_width=OptionsInfo(scss=True, category='table_body', type='px', value='1px'), column_labels_vlines_color=OptionsInfo(scss=True, category='table_body', type='value', value='#D3D3D3'), column_labels_border_top_style=OptionsInfo(scss=True, category='column_labels', type='value', value='solid'), column_labels_border_top_width=OptionsInfo(scss=True, category='column_labels', type='px', value='2px'), column_labels_border_top_color=OptionsInfo(scss=True, category='column_labels', type='value', value='#D3D3D3'), column_labels_border_bottom_style=OptionsInfo(scss=True, category='column_labels', type='value', value='solid'), column_labels_border_bottom_width=OptionsInfo(scss=True, category='column_labels', type='px', value='2px'), column_labels_border_bottom_color=OptionsInfo(scss=True, category='column_labels', type='value', value='#D3D3D3'), column_labels_border_lr_style=OptionsInfo(scss=True, category='column_labels', type='value', value='none'), column_labels_border_lr_width=OptionsInfo(scss=True, category='column_labels', type='px', value='1px'), column_labels_border_lr_color=OptionsInfo(scss=True, category='column_labels', type='value', value='#D3D3D3'), column_labels_hidden=OptionsInfo(scss=False, category='column_labels', type='boolean', value=False), row_group_background_color=OptionsInfo(scss=True, category='row_group', type='value', value=None), row_group_font_size=OptionsInfo(scss=True, category='row_group', type='px', value='100%'), row_group_font_weight=OptionsInfo(scss=True, category='row_group', type='value', value='initial'), row_group_text_transform=OptionsInfo(scss=True, category='row_group', type='value', value='inherit'), row_group_padding=OptionsInfo(scss=True, category='row_group', type='px', value='8px'), row_group_padding_horizontal=OptionsInfo(scss=True, category='row_group', type='px', value='5px'), row_group_border_top_style=OptionsInfo(scss=True, category='row_group', type='value', value='solid'), row_group_border_top_width=OptionsInfo(scss=True, category='row_group', type='px', value='2px'), row_group_border_top_color=OptionsInfo(scss=True, category='row_group', type='value', value='#D3D3D3'), row_group_border_right_style=OptionsInfo(scss=True, category='row_group', type='value', value='none'), row_group_border_right_width=OptionsInfo(scss=True, category='row_group', type='px', value='1px'), row_group_border_right_color=OptionsInfo(scss=True, category='row_group', type='value', value='#D3D3D3'), row_group_border_bottom_style=OptionsInfo(scss=True, category='row_group', type='value', value='solid'), row_group_border_bottom_width=OptionsInfo(scss=True, category='row_group', type='px', value='2px'), row_group_border_bottom_color=OptionsInfo(scss=True, category='row_group', type='value', value='#D3D3D3'), row_group_border_left_style=OptionsInfo(scss=True, category='row_group', type='value', value='none'), row_group_border_left_width=OptionsInfo(scss=True, category='row_group', type='px', value='1px'), row_group_border_left_color=OptionsInfo(scss=True, category='row_group', type='value', value='#D3D3D3'), row_group_as_column=OptionsInfo(scss=False, category='row_group', type='boolean', value=False), table_body_hlines_style=OptionsInfo(scss=True, category='table_body', type='value', value='solid'), table_body_hlines_width=OptionsInfo(scss=True, category='table_body', type='px', value='1px'), table_body_hlines_color=OptionsInfo(scss=True, category='table_body', type='value', value='#D3D3D3'), table_body_vlines_style=OptionsInfo(scss=True, category='table_body', type='value', value='none'), table_body_vlines_width=OptionsInfo(scss=True, category='table_body', type='px', value='1px'), table_body_vlines_color=OptionsInfo(scss=True, category='table_body', type='value', value='#D3D3D3'), table_body_border_top_style=OptionsInfo(scss=True, category='table_body', type='value', value='solid'), table_body_border_top_width=OptionsInfo(scss=True, category='table_body', type='px', value='2px'), table_body_border_top_color=OptionsInfo(scss=True, category='table_body', type='value', value='#D3D3D3'), table_body_border_bottom_style=OptionsInfo(scss=True, category='table_body', type='value', value='solid'), table_body_border_bottom_width=OptionsInfo(scss=True, category='table_body', type='px', value='2px'), table_body_border_bottom_color=OptionsInfo(scss=True, category='table_body', type='value', value='#D3D3D3'), data_row_padding=OptionsInfo(scss=True, category='data_row', type='px', value='8px'), data_row_padding_horizontal=OptionsInfo(scss=True, category='data_row', type='px', value='5px'), stub_background_color=OptionsInfo(scss=True, category='stub', type='value', value=None), stub_font_size=OptionsInfo(scss=True, category='stub', type='px', value='100%'), stub_font_weight=OptionsInfo(scss=True, category='stub', type='value', value='initial'), stub_text_transform=OptionsInfo(scss=True, category='stub', type='value', value='inherit'), stub_border_style=OptionsInfo(scss=True, category='stub', type='value', value='solid'), stub_border_width=OptionsInfo(scss=True, category='stub', type='px', value='2px'), stub_border_color=OptionsInfo(scss=True, category='stub', type='value', value='#D3D3D3'), stub_row_group_background_color=OptionsInfo(scss=True, category='stub', type='value', value=None), stub_row_group_font_size=OptionsInfo(scss=True, category='stub', type='px', value='100%'), stub_row_group_font_weight=OptionsInfo(scss=True, category='stub', type='value', value='initial'), stub_row_group_text_transform=OptionsInfo(scss=True, category='stub', type='value', value='inherit'), stub_row_group_border_style=OptionsInfo(scss=True, category='stub', type='value', value='solid'), stub_row_group_border_width=OptionsInfo(scss=True, category='stub', type='px', value='2px'), stub_row_group_border_color=OptionsInfo(scss=True, category='stub', type='value', value='#D3D3D3'), source_notes_padding=OptionsInfo(scss=True, category='source_notes', type='px', value='4px'), source_notes_padding_horizontal=OptionsInfo(scss=True, category='source_notes', type='px', value='5px'), source_notes_background_color=OptionsInfo(scss=True, category='source_notes', type='value', value=None), source_notes_font_size=OptionsInfo(scss=True, category='source_notes', type='px', value='90%'), source_notes_border_bottom_style=OptionsInfo(scss=True, category='source_notes', type='value', value='none'), source_notes_border_bottom_width=OptionsInfo(scss=True, category='source_notes', type='px', value='2px'), source_notes_border_bottom_color=OptionsInfo(scss=True, category='source_notes', type='value', value='#D3D3D3'), source_notes_border_lr_style=OptionsInfo(scss=True, category='source_notes', type='value', value='none'), source_notes_border_lr_width=OptionsInfo(scss=True, category='source_notes', type='px', value='2px'), source_notes_border_lr_color=OptionsInfo(scss=True, category='source_notes', type='value', value='#D3D3D3'), source_notes_multiline=OptionsInfo(scss=False, category='source_notes', type='boolean', value=True), source_notes_sep=OptionsInfo(scss=False, category='source_notes', type='value', value=' '), container_width=OptionsInfo(scss=False, category='container', type='px', value='auto'), container_height=OptionsInfo(scss=False, category='container', type='px', value='auto'), container_padding_x=OptionsInfo(scss=False, category='container', type='px', value='0px'), container_padding_y=OptionsInfo(scss=False, category='container', type='px', value='10px'), container_overflow_x=OptionsInfo(scss=False, category='container', type='overflow', value='auto'), container_overflow_y=OptionsInfo(scss=False, category='container', type='overflow', value='auto'), quarto_disable_processing=OptionsInfo(scss=False, category='quarto', type='logical', value=False), quarto_use_bootstrap=OptionsInfo(scss=False, category='quarto', type='logical', value=False)), _has_built=False)"
      ]
     },
     "execution_count": 28,
     "metadata": {},
     "output_type": "execute_result"
    }
   ],
   "source": [
    "varietal_counts.sort('count', descending=True).head(8).pipe(GT)\n"
   ]
  },
  {
   "cell_type": "markdown",
   "metadata": {},
   "source": [
    "The most represented varieties are Pinot Noir (11), Shiraz (11), Chardonnay (7), Red Bordeaux Blends (6), Gamay (5), Malbec (5), Nebbiolo (5) and riesling (5)."
   ]
  },
  {
   "cell_type": "markdown",
   "metadata": {},
   "source": [
    "## Vintage"
   ]
  },
  {
   "cell_type": "code",
   "execution_count": 46,
   "metadata": {},
   "outputs": [
    {
     "data": {
      "text/plain": [
       "['size',\n",
       " 'vintage',\n",
       " 'name',\n",
       " 'locale',\n",
       " 'country',\n",
       " 'region',\n",
       " 'subregion',\n",
       " 'appellation',\n",
       " 'producer',\n",
       " 'type',\n",
       " 'color',\n",
       " 'category',\n",
       " 'varietal',\n",
       " 'wine']"
      ]
     },
     "execution_count": 46,
     "metadata": {},
     "output_type": "execute_result"
    }
   ],
   "source": [
    "con.sql(\n",
    "\"\"\"--sql\n",
    "select table_schema, table_name, column_name from information_schema.columns WHERE table_name = 'c_cellar_tracker'\n",
    "\"\"\"\n",
    ").pl()['column_name'].to_list()\n"
   ]
  },
  {
   "cell_type": "markdown",
   "metadata": {},
   "source": [
    "# Creating a Join Table\n",
    "\n",
    "As we have a lot of potentially useful metadata, it is efficient to store the information in context-specific tables. The creation of a centralised join table containing the primary keys of each individual sample will be useful. It will have the id, chemstation metadata key, sample tracker key, and cellar tracker key.\n",
    "\n",
    "This will require the creation of another set of keys methinks. prefixing the primary key columns with 'pk_' will make it clear what is what.\n",
    "\n",
    "The 'id' column is the possessor of all individuals, so to speak. We would start there."
   ]
  },
  {
   "cell_type": "markdown",
   "metadata": {},
   "source": [
    "## Creation of Join Table CHM to ST"
   ]
  },
  {
   "cell_type": "markdown",
   "metadata": {},
   "source": [
    "'join_samplecode' connects 'c_chemstation_metadata' and 'c_sample_tracker'. Note: 'join_samplecode' was manually added, and thus that connection is fragile without the code that added it. It is somewhere in the 'wine_analysis_hplc_uv' project, and will be added here at a later date. In the meantime, you are warned.\n"
   ]
  },
  {
   "cell_type": "code",
   "execution_count": null,
   "metadata": {},
   "outputs": [],
   "source": [
    "join_tbl = con.sql(\n",
    "\"\"\"--sql\n",
    "CREATE schema IF NOT EXISTS joins;\n",
    "CREATE OR REPLACE TABLE joins.mta_st AS (\n",
    "SELECT\n",
    "    mta.pk as pk_mta,\n",
    "    st.pk as pk_st,\n",
    "FROM\n",
    "    c_chemstation_metadata as mta\n",
    "JOIN\n",
    "    clean.st as st\n",
    "ON\n",
    "    mta.join_samplecode = st.samplecode\n",
    ");\n",
    "SELECT * FROM joins.mta_st\n",
    "\"\"\"\n",
    ")\n"
   ]
  },
  {
   "cell_type": "markdown",
   "metadata": {},
   "source": [
    "then the joining of mta and st becomes.."
   ]
  },
  {
   "cell_type": "code",
   "execution_count": null,
   "metadata": {},
   "outputs": [],
   "source": [
    "con.sql(\n",
    "\"\"\"--sql\n",
    "SELECT\n",
    "    * EXCLUDE pk_st\n",
    "FROM\n",
    "    clean.st AS st\n",
    "JOIN\n",
    "    joins.mta_st AS jtbl\n",
    "ON\n",
    "    jtbl.pk_st = st.pk\n",
    "JOIN\n",
    "    c_chemstation_metadata as mta\n",
    "ON\n",
    "    jtbl.pk_mta = mta.pk\n",
    "\"\"\"\n",
    ").pl().head()\n"
   ]
  },
  {
   "cell_type": "markdown",
   "metadata": {},
   "source": [
    "## Join Table ST to CT\n",
    "\n",
    "The connection between ST and CT is based on the wine name. This is however tenuous, and a perfect example of why a foreign key would be useful. In this case, first we'll proceed with the creation of a join table."
   ]
  },
  {
   "cell_type": "markdown",
   "metadata": {},
   "source": [
    "### CT Primary Key Creation\n",
    "\n",
    "To form a join table between ST and CT it is best to create a new primary key on cellar tracker (CT).\n"
   ]
  },
  {
   "cell_type": "markdown",
   "metadata": {},
   "source": [
    "#### CT Duplicate Row\n"
   ]
  },
  {
   "cell_type": "markdown",
   "metadata": {},
   "source": [
    "CT has one duplicate row, wine 'Mumm Tasmania Brut Prestige'."
   ]
  },
  {
   "cell_type": "code",
   "execution_count": null,
   "metadata": {},
   "outputs": [
    {
     "data": {
      "text/html": [
       "<div><style>\n",
       ".dataframe > thead > tr,\n",
       ".dataframe > tbody > tr {\n",
       "  text-align: right;\n",
       "  white-space: pre-wrap;\n",
       "}\n",
       "</style>\n",
       "<small>shape: (1, 3)</small><table border=\"1\" class=\"dataframe\"><thead><tr><th>vintage</th><th>name</th><th>count</th></tr><tr><td>str</td><td>str</td><td>i64</td></tr></thead><tbody><tr><td>null</td><td>&quot;mumm tasmania brut prestige&quot;</td><td>2</td></tr></tbody></table></div>"
      ],
      "text/plain": [
       "shape: (1, 3)\n",
       "┌─────────┬─────────────────────────────┬───────┐\n",
       "│ vintage ┆ name                        ┆ count │\n",
       "│ ---     ┆ ---                         ┆ ---   │\n",
       "│ str     ┆ str                         ┆ i64   │\n",
       "╞═════════╪═════════════════════════════╪═══════╡\n",
       "│ null    ┆ mumm tasmania brut prestige ┆ 2     │\n",
       "└─────────┴─────────────────────────────┴───────┘"
      ]
     },
     "metadata": {},
     "output_type": "display_data"
    }
   ],
   "source": [
    "con.sql(\n",
    "\"\"\"--sql\n",
    "SELECT\n",
    "    vintage,\n",
    "    name,\n",
    "    count(*) as duplicate_count\n",
    "FROM\n",
    "    c_cellar_tracker\n",
    "GROUP BY\n",
    "    name, vintage\n",
    "HAVING\n",
    "    count(*) > 1\n",
    "\"\"\"\n",
    ").pl()\n"
   ]
  },
  {
   "cell_type": "code",
   "execution_count": 288,
   "metadata": {},
   "outputs": [
    {
     "data": {
      "text/plain": [
       "['size',\n",
       " 'vintage',\n",
       " 'name',\n",
       " 'locale',\n",
       " 'country',\n",
       " 'region',\n",
       " 'subregion',\n",
       " 'appellation',\n",
       " 'producer',\n",
       " 'type',\n",
       " 'color',\n",
       " 'category',\n",
       " 'varietal',\n",
       " 'wine']"
      ]
     },
     "execution_count": 288,
     "metadata": {},
     "output_type": "execute_result"
    }
   ],
   "source": [
    "con.sql(\n",
    "\"\"\"--sql\n",
    "FROM c_cellar_tracker\n",
    "\"\"\"\n",
    ").pl().columns\n"
   ]
  },
  {
   "cell_type": "code",
   "execution_count": 388,
   "metadata": {},
   "outputs": [
    {
     "data": {
      "text/html": [
       "<div><style>\n",
       ".dataframe > thead > tr,\n",
       ".dataframe > tbody > tr {\n",
       "  text-align: right;\n",
       "  white-space: pre-wrap;\n",
       "}\n",
       "</style>\n",
       "<small>shape: (5, 15)</small><table border=\"1\" class=\"dataframe\"><thead><tr><th>size</th><th>vintage</th><th>name</th><th>locale</th><th>country</th><th>region</th><th>subregion</th><th>appellation</th><th>producer</th><th>type</th><th>color</th><th>category</th><th>varietal</th><th>wine</th><th>pk</th></tr><tr><td>str</td><td>str</td><td>str</td><td>str</td><td>str</td><td>str</td><td>str</td><td>str</td><td>str</td><td>str</td><td>str</td><td>str</td><td>str</td><td>str</td><td>i64</td></tr></thead><tbody><tr><td>&quot;750ml&quot;</td><td>&quot;2008&quot;</td><td>&quot;torbreck descendant&quot;</td><td>&quot;australia, south australia, barossa, barossa valley&quot;</td><td>&quot;australia&quot;</td><td>&quot;south australia&quot;</td><td>&quot;barossa&quot;</td><td>&quot;barossa valley&quot;</td><td>&quot;torbreck&quot;</td><td>&quot;red&quot;</td><td>&quot;red&quot;</td><td>&quot;dry&quot;</td><td>&quot;shiraz blend&quot;</td><td>&quot;2008 torbreck descendant&quot;</td><td>1</td></tr><tr><td>&quot;750ml&quot;</td><td>&quot;2009&quot;</td><td>&quot;st hugo cabernet sauvignon coonawarra&quot;</td><td>&quot;australia, south australia, limestone coast, coonawarra&quot;</td><td>&quot;australia&quot;</td><td>&quot;south australia&quot;</td><td>&quot;limestone coast&quot;</td><td>&quot;coonawarra&quot;</td><td>&quot;st hugo&quot;</td><td>&quot;red&quot;</td><td>&quot;red&quot;</td><td>&quot;dry&quot;</td><td>&quot;cabernet sauvignon&quot;</td><td>&quot;2009 st hugo cabernet sauvignon coonawarra&quot;</td><td>2</td></tr><tr><td>&quot;750ml&quot;</td><td>&quot;2013&quot;</td><td>&quot;woodlands cabernet merlot&quot;</td><td>&quot;australia, western australia, south west australia, margaret river&quot;</td><td>&quot;australia&quot;</td><td>&quot;western australia&quot;</td><td>&quot;south west australia&quot;</td><td>&quot;margaret river&quot;</td><td>&quot;woodlands&quot;</td><td>&quot;red&quot;</td><td>&quot;red&quot;</td><td>&quot;dry&quot;</td><td>&quot;red bordeaux blend&quot;</td><td>&quot;2013 woodlands cabernet merlot&quot;</td><td>3</td></tr><tr><td>&quot;750ml&quot;</td><td>&quot;2014&quot;</td><td>&quot;perrier-jouët champagne belle epoque&quot;</td><td>&quot;france, champagne&quot;</td><td>&quot;france&quot;</td><td>&quot;champagne&quot;</td><td>&quot;unknown&quot;</td><td>&quot;champagne&quot;</td><td>&quot;perrier-jouët&quot;</td><td>&quot;white - sparkling&quot;</td><td>&quot;white&quot;</td><td>&quot;sparkling&quot;</td><td>&quot;champagne blend&quot;</td><td>&quot;2014 perrier-jouët champagne belle epoque&quot;</td><td>4</td></tr><tr><td>&quot;750ml&quot;</td><td>&quot;2014&quot;</td><td>&quot;shaw and smith shiraz&quot;</td><td>&quot;australia, south australia, mount lofty ranges, adelaide hills&quot;</td><td>&quot;australia&quot;</td><td>&quot;south australia&quot;</td><td>&quot;mount lofty ranges&quot;</td><td>&quot;adelaide hills&quot;</td><td>&quot;shaw and smith&quot;</td><td>&quot;red&quot;</td><td>&quot;red&quot;</td><td>&quot;dry&quot;</td><td>&quot;shiraz&quot;</td><td>&quot;2014 shaw and smith shiraz&quot;</td><td>5</td></tr></tbody></table></div>"
      ],
      "text/plain": [
       "shape: (5, 15)\n",
       "┌───────┬─────────┬───────────────────────────────────────┬────────────────────────────────────────────────────────────────────┬───┬───────────┬────────────────────┬────────────────────────────────────────────┬─────┐\n",
       "│ size  ┆ vintage ┆ name                                  ┆ locale                                                             ┆ … ┆ category  ┆ varietal           ┆ wine                                       ┆ pk  │\n",
       "│ ---   ┆ ---     ┆ ---                                   ┆ ---                                                                ┆   ┆ ---       ┆ ---                ┆ ---                                        ┆ --- │\n",
       "│ str   ┆ str     ┆ str                                   ┆ str                                                                ┆   ┆ str       ┆ str                ┆ str                                        ┆ i64 │\n",
       "╞═══════╪═════════╪═══════════════════════════════════════╪════════════════════════════════════════════════════════════════════╪═══╪═══════════╪════════════════════╪════════════════════════════════════════════╪═════╡\n",
       "│ 750ml ┆ 2008    ┆ torbreck descendant                   ┆ australia, south australia, barossa, barossa valley                ┆ … ┆ dry       ┆ shiraz blend       ┆ 2008 torbreck descendant                   ┆ 1   │\n",
       "│ 750ml ┆ 2009    ┆ st hugo cabernet sauvignon coonawarra ┆ australia, south australia, limestone coast, coonawarra            ┆ … ┆ dry       ┆ cabernet sauvignon ┆ 2009 st hugo cabernet sauvignon coonawarra ┆ 2   │\n",
       "│ 750ml ┆ 2013    ┆ woodlands cabernet merlot             ┆ australia, western australia, south west australia, margaret river ┆ … ┆ dry       ┆ red bordeaux blend ┆ 2013 woodlands cabernet merlot             ┆ 3   │\n",
       "│ 750ml ┆ 2014    ┆ perrier-jouët champagne belle epoque  ┆ france, champagne                                                  ┆ … ┆ sparkling ┆ champagne blend    ┆ 2014 perrier-jouët champagne belle epoque  ┆ 4   │\n",
       "│ 750ml ┆ 2014    ┆ shaw and smith shiraz                 ┆ australia, south australia, mount lofty ranges, adelaide hills     ┆ … ┆ dry       ┆ shiraz             ┆ 2014 shaw and smith shiraz                 ┆ 5   │\n",
       "└───────┴─────────┴───────────────────────────────────────┴────────────────────────────────────────────────────────────────────┴───┴───────────┴────────────────────┴────────────────────────────────────────────┴─────┘"
      ]
     },
     "execution_count": 388,
     "metadata": {},
     "output_type": "execute_result"
    }
   ],
   "source": [
    "con.sql(\n",
    "\"\"\"--sql\n",
    "CREATE OR REPLACE TEMP TABLE ct AS\n",
    "    SELECT\n",
    "        size,\n",
    "        vintage,\n",
    "        name,\n",
    "        locale,\n",
    "        country,\n",
    "        region,\n",
    "        subregion,\n",
    "        appellation,\n",
    "        producer,\n",
    "        type,\n",
    "        color,\n",
    "        category,\n",
    "        varietal,\n",
    "        wine,\n",
    "        rank_dense() OVER (order by vintage, name) as pk,\n",
    "    FROM\n",
    "        (\n",
    "            SELECT\n",
    "                -- remove duplicate row from consideration - Mumm NV is duplicated\n",
    "                DISTINCT concat(vintage, name),\n",
    "                size,\n",
    "                vintage,\n",
    "                name,\n",
    "                locale,\n",
    "                country,\n",
    "                region,\n",
    "                subregion,\n",
    "                appellation,\n",
    "                producer,\n",
    "                type,\n",
    "                color,\n",
    "                category,\n",
    "                varietal,\n",
    "                wine,\n",
    "            FROM\n",
    "                c_cellar_tracker\n",
    "            );\n",
    "SELECT\n",
    "    *\n",
    "FROM\n",
    "    ct\n",
    "LIMIT 5 \n",
    "\"\"\"\n",
    ").pl()\n"
   ]
  },
  {
   "cell_type": "code",
   "execution_count": 389,
   "metadata": {},
   "outputs": [
    {
     "data": {
      "text/html": [
       "<div><style>\n",
       ".dataframe > thead > tr,\n",
       ".dataframe > tbody > tr {\n",
       "  text-align: right;\n",
       "  white-space: pre-wrap;\n",
       "}\n",
       "</style>\n",
       "<small>shape: (1, 1)</small><table border=\"1\" class=\"dataframe\"><thead><tr><th>count_star()</th></tr><tr><td>i64</td></tr></thead><tbody><tr><td>148</td></tr></tbody></table></div>"
      ],
      "text/plain": [
       "shape: (1, 1)\n",
       "┌──────────────┐\n",
       "│ count_star() │\n",
       "│ ---          │\n",
       "│ i64          │\n",
       "╞══════════════╡\n",
       "│ 148          │\n",
       "└──────────────┘"
      ]
     },
     "execution_count": 389,
     "metadata": {},
     "output_type": "execute_result"
    }
   ],
   "source": [
    "con.sql(\n",
    "\"\"\"--sql\n",
    "SELECT COUNT(*) FROM ct\n",
    "\"\"\"\n",
    ").pl()\n"
   ]
  },
  {
   "cell_type": "markdown",
   "metadata": {},
   "source": [
    "Now create the new table with the primary key constraint.\n"
   ]
  },
  {
   "cell_type": "code",
   "execution_count": 391,
   "metadata": {},
   "outputs": [
    {
     "data": {
      "text/html": [
       "<div><style>\n",
       ".dataframe > thead > tr,\n",
       ".dataframe > tbody > tr {\n",
       "  text-align: right;\n",
       "  white-space: pre-wrap;\n",
       "}\n",
       "</style>\n",
       "<small>shape: (5, 15)</small><table border=\"1\" class=\"dataframe\"><thead><tr><th>size</th><th>vintage</th><th>name</th><th>locale</th><th>country</th><th>region</th><th>subregion</th><th>appellation</th><th>producer</th><th>type</th><th>color</th><th>category</th><th>varietal</th><th>wine</th><th>pk</th></tr><tr><td>str</td><td>str</td><td>str</td><td>str</td><td>str</td><td>str</td><td>str</td><td>str</td><td>str</td><td>str</td><td>str</td><td>str</td><td>str</td><td>str</td><td>i32</td></tr></thead><tbody><tr><td>&quot;750ml&quot;</td><td>&quot;2008&quot;</td><td>&quot;torbreck descendant&quot;</td><td>&quot;australia, south australia, barossa, barossa valley&quot;</td><td>&quot;australia&quot;</td><td>&quot;south australia&quot;</td><td>&quot;barossa&quot;</td><td>&quot;barossa valley&quot;</td><td>&quot;torbreck&quot;</td><td>&quot;red&quot;</td><td>&quot;red&quot;</td><td>&quot;dry&quot;</td><td>&quot;shiraz blend&quot;</td><td>&quot;2008 torbreck descendant&quot;</td><td>1</td></tr><tr><td>&quot;750ml&quot;</td><td>&quot;2009&quot;</td><td>&quot;st hugo cabernet sauvignon coonawarra&quot;</td><td>&quot;australia, south australia, limestone coast, coonawarra&quot;</td><td>&quot;australia&quot;</td><td>&quot;south australia&quot;</td><td>&quot;limestone coast&quot;</td><td>&quot;coonawarra&quot;</td><td>&quot;st hugo&quot;</td><td>&quot;red&quot;</td><td>&quot;red&quot;</td><td>&quot;dry&quot;</td><td>&quot;cabernet sauvignon&quot;</td><td>&quot;2009 st hugo cabernet sauvignon coonawarra&quot;</td><td>2</td></tr><tr><td>&quot;750ml&quot;</td><td>&quot;2013&quot;</td><td>&quot;woodlands cabernet merlot&quot;</td><td>&quot;australia, western australia, south west australia, margaret river&quot;</td><td>&quot;australia&quot;</td><td>&quot;western australia&quot;</td><td>&quot;south west australia&quot;</td><td>&quot;margaret river&quot;</td><td>&quot;woodlands&quot;</td><td>&quot;red&quot;</td><td>&quot;red&quot;</td><td>&quot;dry&quot;</td><td>&quot;red bordeaux blend&quot;</td><td>&quot;2013 woodlands cabernet merlot&quot;</td><td>3</td></tr><tr><td>&quot;750ml&quot;</td><td>&quot;2014&quot;</td><td>&quot;perrier-jouët champagne belle epoque&quot;</td><td>&quot;france, champagne&quot;</td><td>&quot;france&quot;</td><td>&quot;champagne&quot;</td><td>&quot;unknown&quot;</td><td>&quot;champagne&quot;</td><td>&quot;perrier-jouët&quot;</td><td>&quot;white - sparkling&quot;</td><td>&quot;white&quot;</td><td>&quot;sparkling&quot;</td><td>&quot;champagne blend&quot;</td><td>&quot;2014 perrier-jouët champagne belle epoque&quot;</td><td>4</td></tr><tr><td>&quot;750ml&quot;</td><td>&quot;2014&quot;</td><td>&quot;shaw and smith shiraz&quot;</td><td>&quot;australia, south australia, mount lofty ranges, adelaide hills&quot;</td><td>&quot;australia&quot;</td><td>&quot;south australia&quot;</td><td>&quot;mount lofty ranges&quot;</td><td>&quot;adelaide hills&quot;</td><td>&quot;shaw and smith&quot;</td><td>&quot;red&quot;</td><td>&quot;red&quot;</td><td>&quot;dry&quot;</td><td>&quot;shiraz&quot;</td><td>&quot;2014 shaw and smith shiraz&quot;</td><td>5</td></tr></tbody></table></div>"
      ],
      "text/plain": [
       "shape: (5, 15)\n",
       "┌───────┬─────────┬───────────────────────────────────────┬────────────────────────────────────────────────────────────────────┬───┬───────────┬────────────────────┬────────────────────────────────────────────┬─────┐\n",
       "│ size  ┆ vintage ┆ name                                  ┆ locale                                                             ┆ … ┆ category  ┆ varietal           ┆ wine                                       ┆ pk  │\n",
       "│ ---   ┆ ---     ┆ ---                                   ┆ ---                                                                ┆   ┆ ---       ┆ ---                ┆ ---                                        ┆ --- │\n",
       "│ str   ┆ str     ┆ str                                   ┆ str                                                                ┆   ┆ str       ┆ str                ┆ str                                        ┆ i32 │\n",
       "╞═══════╪═════════╪═══════════════════════════════════════╪════════════════════════════════════════════════════════════════════╪═══╪═══════════╪════════════════════╪════════════════════════════════════════════╪═════╡\n",
       "│ 750ml ┆ 2008    ┆ torbreck descendant                   ┆ australia, south australia, barossa, barossa valley                ┆ … ┆ dry       ┆ shiraz blend       ┆ 2008 torbreck descendant                   ┆ 1   │\n",
       "│ 750ml ┆ 2009    ┆ st hugo cabernet sauvignon coonawarra ┆ australia, south australia, limestone coast, coonawarra            ┆ … ┆ dry       ┆ cabernet sauvignon ┆ 2009 st hugo cabernet sauvignon coonawarra ┆ 2   │\n",
       "│ 750ml ┆ 2013    ┆ woodlands cabernet merlot             ┆ australia, western australia, south west australia, margaret river ┆ … ┆ dry       ┆ red bordeaux blend ┆ 2013 woodlands cabernet merlot             ┆ 3   │\n",
       "│ 750ml ┆ 2014    ┆ perrier-jouët champagne belle epoque  ┆ france, champagne                                                  ┆ … ┆ sparkling ┆ champagne blend    ┆ 2014 perrier-jouët champagne belle epoque  ┆ 4   │\n",
       "│ 750ml ┆ 2014    ┆ shaw and smith shiraz                 ┆ australia, south australia, mount lofty ranges, adelaide hills     ┆ … ┆ dry       ┆ shiraz             ┆ 2014 shaw and smith shiraz                 ┆ 5   │\n",
       "└───────┴─────────┴───────────────────────────────────────┴────────────────────────────────────────────────────────────────────┴───┴───────────┴────────────────────┴────────────────────────────────────────────┴─────┘"
      ]
     },
     "execution_count": 391,
     "metadata": {},
     "output_type": "execute_result"
    }
   ],
   "source": [
    "con.sql(\n",
    "\"\"\"--sql\n",
    "CREATE OR REPLACE TABLE clean.ct\n",
    "(\n",
    "    size VARCHAR,\n",
    "    vintage VARCHAR,\n",
    "    name VARCHAR,\n",
    "    locale VARCHAR,\n",
    "    country VARCHAR,\n",
    "    region VARCHAR,\n",
    "    subregion VARCHAR,\n",
    "    appellation VARCHAR,\n",
    "    producer VARCHAR,\n",
    "    type VARCHAR,\n",
    "    color VARCHAR,\n",
    "    category VARCHAR,\n",
    "    varietal VARCHAR,\n",
    "    wine VARCHAR,\n",
    "    pk INTEGER PRIMARY KEY\n",
    ");\n",
    "INSERT INTO clean.ct (\n",
    "SELECT\n",
    "    size,\n",
    "    vintage,\n",
    "    name,\n",
    "    locale,\n",
    "    country,\n",
    "    region,\n",
    "    subregion,\n",
    "    appellation,\n",
    "    producer,\n",
    "    type,\n",
    "    color,\n",
    "    category,\n",
    "    varietal,\n",
    "    wine,\n",
    "    pk\n",
    "FROM\n",
    "    ct\n",
    ");\n",
    "SELECT * FROM clean.ct LIMIT 5\n",
    "\"\"\"\n",
    ").pl()\n"
   ]
  },
  {
   "cell_type": "markdown",
   "metadata": {},
   "source": [
    "# Adding Primary Key Constraints to tables"
   ]
  },
  {
   "cell_type": "markdown",
   "metadata": {},
   "source": [
    "To ensure that the keys are infact primary keys, we should recreate all of the tables while setting those columns as primary keys. Unfortunately DUCKDB does not ship with a method of setting a constraint outside of the table creation query, so we'll need to remake the tables. We will at the same time create a 'clean' schema to place the new tables in. Downtrack we can delete the old tables but that will invalidate a lot of prior code."
   ]
  },
  {
   "cell_type": "code",
   "execution_count": null,
   "metadata": {},
   "outputs": [],
   "source": [
    "con.close()\n",
    "con = db.connect(db_path)\n",
    "con.sql(\n",
    "\"\"\"--sql\n",
    "CREATE SCHEMA clean;\n",
    "\"\"\")\n"
   ]
  },
  {
   "cell_type": "markdown",
   "metadata": {},
   "source": [
    "## Adding Primary Keys\n",
    "\n"
   ]
  },
  {
   "cell_type": "markdown",
   "metadata": {},
   "source": [
    "### Sample Tracker\n"
   ]
  },
  {
   "cell_type": "markdown",
   "metadata": {},
   "source": [
    "is ch_samplecode the primary key of sample tracker? If it is, there should be an equal number of distinct values as there are rows of the table."
   ]
  },
  {
   "cell_type": "code",
   "execution_count": null,
   "metadata": {},
   "outputs": [
    {
     "data": {
      "text/html": [
       "<div><style>\n",
       ".dataframe > thead > tr,\n",
       ".dataframe > tbody > tr {\n",
       "  text-align: right;\n",
       "  white-space: pre-wrap;\n",
       "}\n",
       "</style>\n",
       "<small>shape: (1, 1)</small><table border=\"1\" class=\"dataframe\"><thead><tr><th>count(DISTINCT samplecode)</th></tr><tr><td>i64</td></tr></thead><tbody><tr><td>190</td></tr></tbody></table></div>"
      ],
      "text/plain": [
       "shape: (1, 1)\n",
       "┌────────────────────────────┐\n",
       "│ count(DISTINCT samplecode) │\n",
       "│ ---                        │\n",
       "│ i64                        │\n",
       "╞════════════════════════════╡\n",
       "│ 190                        │\n",
       "└────────────────────────────┘"
      ]
     },
     "metadata": {},
     "output_type": "display_data"
    }
   ],
   "source": [
    "con.sql(\n",
    "\"\"\"--sql\n",
    "SELECT\n",
    "    count( distinct samplecode)\n",
    "FROM\n",
    "    c_sample_tracker\n",
    "WHERE\n",
    "    samplecode IS NOT NULL\n",
    "\"\"\"\n",
    ").pl()\n"
   ]
  },
  {
   "cell_type": "markdown",
   "metadata": {},
   "source": [
    "yes. However lets add a new 'pk' column based on it. This can be achieved by densely ranking the 'samplecode' column:"
   ]
  },
  {
   "cell_type": "code",
   "execution_count": null,
   "metadata": {},
   "outputs": [],
   "source": [
    "con.sql(\n",
    "\"\"\"--sql\n",
    "ALTER TABLE\n",
    "    c_sample_tracker\n",
    "ADD COLUMN\n",
    "    pk INTEGER DEFAULT NULL;\n",
    "\"\"\"\n",
    ")\n",
    "con.sql(\n",
    "\"\"\"--sql\n",
    "CREATE OR REPLACE TABLE samplecode_pk AS\n",
    "SELECT\n",
    "    samplecode,\n",
    "    rank_dense() OVER (order by samplecode) as pk\n",
    "FROM\n",
    "    c_sample_tracker\n",
    "\"\"\"\n",
    ")\n",
    "\n",
    "con.sql(\n",
    "\"\"\"--sql\n",
    "UPDATE c_sample_tracker as st\n",
    "SET pk = (\n",
    "    SELECT\n",
    "        pk\n",
    "    FROM\n",
    "        samplecode_pk\n",
    "    WHERE\n",
    "        samplecode_pk.samplecode = st.samplecode\n",
    ")\n",
    "\"\"\"\n",
    ")\n",
    "\n",
    "con.sql(\n",
    "\"\"\"--sql\n",
    "SELECT COUNT(distinct pk) FROM c_sample_tracker\n",
    "\"\"\"\n",
    ").pl()\n",
    "\n"
   ]
  },
  {
   "cell_type": "markdown",
   "metadata": {},
   "source": [
    "Now I have to recreate the table.\n"
   ]
  },
  {
   "cell_type": "code",
   "execution_count": null,
   "metadata": {},
   "outputs": [],
   "source": [
    "con.sql(\n",
    "\"\"\"--sql\n",
    "SELECT\n",
    "    *\n",
    "FROM\n",
    "    c_sample_tracker\n",
    "\"\"\"\n",
    ").pl().head()\n"
   ]
  },
  {
   "cell_type": "markdown",
   "metadata": {},
   "source": [
    "Now I have to create the clean schema table:\n"
   ]
  },
  {
   "cell_type": "code",
   "execution_count": null,
   "metadata": {},
   "outputs": [],
   "source": [
    "con.sql(\n",
    "\"\"\"--sql\n",
    "SELECT * FROM c_sample_tracker LIMIT 1\n",
    "\"\"\"\n",
    ").pl().columns\n"
   ]
  },
  {
   "cell_type": "code",
   "execution_count": null,
   "metadata": {},
   "outputs": [],
   "source": [
    "con.sql(\n",
    "\"\"\"--sql\n",
    "CREATE TABLE clean.st (\n",
    "    detection VARCHAR,\n",
    "    sampler VARCHAR,\n",
    "    samplecode VARCHAR,\n",
    "    vintage VARCHAR,\n",
    "    name VARCHAR,\n",
    "    open_date VARCHAR,\n",
    "    sampled_date VARCHAR,\n",
    "    added_to_cellartracker VARCHAR,\n",
    "    notes VARCHAR,\n",
    "    size VARCHAR,\n",
    "    ct_wine_name VARCHAR,\n",
    "    pk INTEGER PRIMARY KEY,\n",
    ")\n",
    "\"\"\"\n",
    ")\n",
    "\n",
    "con.sql(\n",
    "\"\"\"--sql\n",
    "INSERT INTO clean.st\n",
    "SELECT\n",
    "    *\n",
    "FROM\n",
    "    c_sample_tracker\n",
    "\"\"\"\n",
    ")\n",
    "\n",
    "con.sql(\n",
    "\"\"\"--sql\n",
    "SELECT * FROM clean.st\n",
    "\"\"\"\n",
    ").pl().head()\n",
    "\n",
    "con.sql(\n",
    "\"\"\"--sql\n",
    "    DROP TABLE samplecode_pk\n",
    "\"\"\"\n",
    ")\n",
    "\n",
    "\n",
    "\n"
   ]
  },
  {
   "cell_type": "markdown",
   "metadata": {},
   "source": [
    "And see if the primary key constraint worked.."
   ]
  },
  {
   "cell_type": "code",
   "execution_count": null,
   "metadata": {},
   "outputs": [
    {
     "name": "stdout",
     "output_type": "stream",
     "text": [
      "Constraint Error: Duplicate key \"pk: 91\" violates primary key constraint. If this is an unexpected constraint violation please double check with the known index limitations section in our documentation (https://duckdb.org/docs/sql/indexes).\n"
     ]
    }
   ],
   "source": [
    "try:\n",
    "    con.sql(\n",
    "    \"\"\"--sql\n",
    "    INSERT INTO clean.st BY NAME (SELECT 91 AS pk)\n",
    "    \"\"\"\n",
    "    ).pl()\n",
    "except db.ConstraintException as e:\n",
    "    print(e)\n"
   ]
  },
  {
   "cell_type": "markdown",
   "metadata": {},
   "source": [
    "If the above passed, then the primary key constraint on sample tracker worked."
   ]
  },
  {
   "cell_type": "markdown",
   "metadata": {},
   "source": [
    "### Chemstation Metadata\n",
    "\n",
    "THe primary key of the 'chemstation_metadata' table is the 'id'.\n"
   ]
  },
  {
   "cell_type": "code",
   "execution_count": 223,
   "metadata": {},
   "outputs": [
    {
     "data": {
      "text/html": [
       "<div><style>\n",
       ".dataframe > thead > tr,\n",
       ".dataframe > tbody > tr {\n",
       "  text-align: right;\n",
       "  white-space: pre-wrap;\n",
       "}\n",
       "</style>\n",
       "<small>shape: (1, 1)</small><table border=\"1\" class=\"dataframe\"><thead><tr><th>count(DISTINCT id)</th></tr><tr><td>i64</td></tr></thead><tbody><tr><td>175</td></tr></tbody></table></div>"
      ],
      "text/plain": [
       "shape: (1, 1)\n",
       "┌────────────────────┐\n",
       "│ count(DISTINCT id) │\n",
       "│ ---                │\n",
       "│ i64                │\n",
       "╞════════════════════╡\n",
       "│ 175                │\n",
       "└────────────────────┘"
      ]
     },
     "execution_count": 223,
     "metadata": {},
     "output_type": "execute_result"
    }
   ],
   "source": [
    "con.sql(\n",
    "\"\"\"--sql\n",
    "SELECT\n",
    "    count(distinct id)\n",
    "FROM\n",
    "    c_chemstation_metadata\n",
    "\"\"\"\n",
    ").pl()\n"
   ]
  },
  {
   "cell_type": "markdown",
   "metadata": {},
   "source": [
    "There are 175 unique rows.\n"
   ]
  },
  {
   "cell_type": "markdown",
   "metadata": {},
   "source": [
    "create the pk column\n"
   ]
  },
  {
   "cell_type": "code",
   "execution_count": 227,
   "metadata": {},
   "outputs": [
    {
     "ename": "AttributeError",
     "evalue": "'NoneType' object has no attribute 'pl'",
     "output_type": "error",
     "traceback": [
      "\u001b[0;31m---------------------------------------------------------------------------\u001b[0m",
      "\u001b[0;31mAttributeError\u001b[0m                            Traceback (most recent call last)",
      "\u001b[1;32m/Users/jonathan/mres_thesis/pca_analysis/pca_analysis/experiments/notebooks/experiments/raw_dataset_description.ipynb Cell 48\u001b[0m line \u001b[0;36m4\n\u001b[1;32m     <a href='vscode-notebook-cell:/Users/jonathan/mres_thesis/pca_analysis/pca_analysis/experiments/notebooks/experiments/raw_dataset_description.ipynb#Y125sZmlsZQ%3D%3D?line=23'>24</a>\u001b[0m con\u001b[39m.\u001b[39msql(\n\u001b[1;32m     <a href='vscode-notebook-cell:/Users/jonathan/mres_thesis/pca_analysis/pca_analysis/experiments/notebooks/experiments/raw_dataset_description.ipynb#Y125sZmlsZQ%3D%3D?line=24'>25</a>\u001b[0m \u001b[39m\"\"\"--sql\u001b[39;00m\n\u001b[1;32m     <a href='vscode-notebook-cell:/Users/jonathan/mres_thesis/pca_analysis/pca_analysis/experiments/notebooks/experiments/raw_dataset_description.ipynb#Y125sZmlsZQ%3D%3D?line=25'>26</a>\u001b[0m \u001b[39mUPDATE c_chemstation_metadata as mta\u001b[39;00m\n\u001b[0;32m   (...)\u001b[0m\n\u001b[1;32m     <a href='vscode-notebook-cell:/Users/jonathan/mres_thesis/pca_analysis/pca_analysis/experiments/notebooks/experiments/raw_dataset_description.ipynb#Y125sZmlsZQ%3D%3D?line=34'>35</a>\u001b[0m \u001b[39m\"\"\"\u001b[39;00m\n\u001b[1;32m     <a href='vscode-notebook-cell:/Users/jonathan/mres_thesis/pca_analysis/pca_analysis/experiments/notebooks/experiments/raw_dataset_description.ipynb#Y125sZmlsZQ%3D%3D?line=35'>36</a>\u001b[0m )\n\u001b[1;32m     <a href='vscode-notebook-cell:/Users/jonathan/mres_thesis/pca_analysis/pca_analysis/experiments/notebooks/experiments/raw_dataset_description.ipynb#Y125sZmlsZQ%3D%3D?line=37'>38</a>\u001b[0m con\u001b[39m.\u001b[39msql(\n\u001b[1;32m     <a href='vscode-notebook-cell:/Users/jonathan/mres_thesis/pca_analysis/pca_analysis/experiments/notebooks/experiments/raw_dataset_description.ipynb#Y125sZmlsZQ%3D%3D?line=38'>39</a>\u001b[0m \u001b[39m\"\"\"--sql\u001b[39;00m\n\u001b[1;32m     <a href='vscode-notebook-cell:/Users/jonathan/mres_thesis/pca_analysis/pca_analysis/experiments/notebooks/experiments/raw_dataset_description.ipynb#Y125sZmlsZQ%3D%3D?line=39'>40</a>\u001b[0m \u001b[39mSELECT COUNT(distinct pk) FROM c_chemstation_metadata\u001b[39;00m\n\u001b[1;32m     <a href='vscode-notebook-cell:/Users/jonathan/mres_thesis/pca_analysis/pca_analysis/experiments/notebooks/experiments/raw_dataset_description.ipynb#Y125sZmlsZQ%3D%3D?line=40'>41</a>\u001b[0m \u001b[39m\"\"\"\u001b[39;00m\n\u001b[1;32m     <a href='vscode-notebook-cell:/Users/jonathan/mres_thesis/pca_analysis/pca_analysis/experiments/notebooks/experiments/raw_dataset_description.ipynb#Y125sZmlsZQ%3D%3D?line=41'>42</a>\u001b[0m )\u001b[39m.\u001b[39mpl()\n\u001b[1;32m     <a href='vscode-notebook-cell:/Users/jonathan/mres_thesis/pca_analysis/pca_analysis/experiments/notebooks/experiments/raw_dataset_description.ipynb#Y125sZmlsZQ%3D%3D?line=43'>44</a>\u001b[0m con\u001b[39m.\u001b[39;49msql(\n\u001b[1;32m     <a href='vscode-notebook-cell:/Users/jonathan/mres_thesis/pca_analysis/pca_analysis/experiments/notebooks/experiments/raw_dataset_description.ipynb#Y125sZmlsZQ%3D%3D?line=44'>45</a>\u001b[0m \u001b[39m\"\"\"--sql\u001b[39;49;00m\n\u001b[1;32m     <a href='vscode-notebook-cell:/Users/jonathan/mres_thesis/pca_analysis/pca_analysis/experiments/notebooks/experiments/raw_dataset_description.ipynb#Y125sZmlsZQ%3D%3D?line=45'>46</a>\u001b[0m \u001b[39mDROP TABLE id_pk\u001b[39;49;00m\n\u001b[1;32m     <a href='vscode-notebook-cell:/Users/jonathan/mres_thesis/pca_analysis/pca_analysis/experiments/notebooks/experiments/raw_dataset_description.ipynb#Y125sZmlsZQ%3D%3D?line=46'>47</a>\u001b[0m \u001b[39m\"\"\"\u001b[39;49;00m\n\u001b[0;32m---> <a href='vscode-notebook-cell:/Users/jonathan/mres_thesis/pca_analysis/pca_analysis/experiments/notebooks/experiments/raw_dataset_description.ipynb#Y125sZmlsZQ%3D%3D?line=47'>48</a>\u001b[0m )\u001b[39m.\u001b[39;49mpl()\n",
      "\u001b[0;31mAttributeError\u001b[0m: 'NoneType' object has no attribute 'pl'"
     ]
    }
   ],
   "source": [
    "\n",
    "\n",
    "con.sql(\n",
    "\"\"\"--sql\n",
    "ALTER TABLE\n",
    "    c_chemstation_metadata\n",
    "ADD COLUMN\n",
    "    pk INTEGER DEFAULT NULL;\n",
    "\"\"\"\n",
    ")\n",
    "\n",
    "# create a temporary pk table\n",
    "con.sql(\n",
    "\"\"\"--sql\n",
    "CREATE OR REPLACE TABLE id_pk AS\n",
    "SELECT\n",
    "    id,\n",
    "    rank_dense() OVER (order by id) as pk\n",
    "FROM\n",
    "    c_chemstation_metadata\n",
    "\"\"\"\n",
    ")\n",
    "\n",
    "# add the pk column to the metadata table\n",
    "con.sql(\n",
    "\"\"\"--sql\n",
    "UPDATE c_chemstation_metadata as mta\n",
    "SET pk = (\n",
    "    SELECT\n",
    "        pk\n",
    "    FROM\n",
    "        id_pk\n",
    "    WHERE\n",
    "        id_pk.id = mta.id\n",
    ")\n",
    "\"\"\"\n",
    ")\n",
    "\n",
    "con.sql(\n",
    "\"\"\"--sql\n",
    "SELECT COUNT(distinct pk) FROM c_chemstation_metadata\n",
    "\"\"\"\n",
    ").pl()\n",
    "\n",
    "con.sql(\n",
    "\"\"\"--sql\n",
    "DROP TABLE id_pk\n",
    "\"\"\"\n",
    ")\n",
    "\n"
   ]
  },
  {
   "cell_type": "code",
   "execution_count": 231,
   "metadata": {},
   "outputs": [
    {
     "data": {
      "text/html": [
       "<div><style>\n",
       ".dataframe > thead > tr,\n",
       ".dataframe > tbody > tr {\n",
       "  text-align: right;\n",
       "  white-space: pre-wrap;\n",
       "}\n",
       "</style>\n",
       "<small>shape: (1, 1)</small><table border=\"1\" class=\"dataframe\"><thead><tr><th>count(DISTINCT pk)</th></tr><tr><td>i64</td></tr></thead><tbody><tr><td>175</td></tr></tbody></table></div>"
      ],
      "text/plain": [
       "shape: (1, 1)\n",
       "┌────────────────────┐\n",
       "│ count(DISTINCT pk) │\n",
       "│ ---                │\n",
       "│ i64                │\n",
       "╞════════════════════╡\n",
       "│ 175                │\n",
       "└────────────────────┘"
      ]
     },
     "execution_count": 231,
     "metadata": {},
     "output_type": "execute_result"
    }
   ],
   "source": [
    "con.sql(\n",
    "\"\"\"--sql\n",
    "SELECT COUNT(DISTINCT pk) FROM c_chemstation_metadata\n",
    "\"\"\"\n",
    ").pl()\n"
   ]
  },
  {
   "cell_type": "code",
   "execution_count": 228,
   "metadata": {},
   "outputs": [
    {
     "data": {
      "text/html": [
       "<div><style>\n",
       ".dataframe > thead > tr,\n",
       ".dataframe > tbody > tr {\n",
       "  text-align: right;\n",
       "  white-space: pre-wrap;\n",
       "}\n",
       "</style>\n",
       "<small>shape: (10, 16)</small><table border=\"1\" class=\"dataframe\"><thead><tr><th>path</th><th>ch_samplecode</th><th>acq_date</th><th>acq_method</th><th>unit</th><th>signal</th><th>vendor</th><th>inj_vol</th><th>seq_name</th><th>seq_desc</th><th>vialnum</th><th>originalfilepath</th><th>id</th><th>desc</th><th>join_samplecode</th><th>pk</th></tr><tr><td>str</td><td>str</td><td>str</td><td>str</td><td>str</td><td>str</td><td>str</td><td>str</td><td>str</td><td>str</td><td>str</td><td>str</td><td>str</td><td>str</td><td>str</td><td>i32</td></tr></thead><tbody><tr><td>&quot;/users/jonathan/uni/0_jono_dat…</td><td>&quot;114&quot;</td><td>&quot;2023-05-09 05:00:53&quot;</td><td>&quot;avantor100x4_6c18-h2o-meoh-2_5…</td><td>&quot;mau&quot;</td><td>&quot;dad1i, dad: spectrum&quot;</td><td>&quot;agilent&quot;</td><td>&quot;10.00&quot;</td><td>&quot;2023-05-08_uv_vis_wines 2023-0…</td><td>&quot;the autonomous ambient wine sa…</td><td>&quot;vial 14&quot;</td><td>&quot;c:\\chem32\\3\\data\\0_jono_data\\0…</td><td>&quot;839df657-69a3-4935-a30b-3bd17e…</td><td>&quot;2019 catena malbec vallle de u…</td><td>&quot;114&quot;</td><td>105</td></tr><tr><td>&quot;/users/jonathan/uni/0_jono_dat…</td><td>&quot;50&quot;</td><td>&quot;2023-03-15 15:09:51&quot;</td><td>&quot;avantor100x4_6c18-h2o-meoh-2_5…</td><td>&quot;mau&quot;</td><td>&quot;dad1i, dad: spectrum&quot;</td><td>&quot;agilent&quot;</td><td>&quot;10.00&quot;</td><td>&quot;wines_2023-03-15_11-33-51&quot;</td><td>null</td><td>&quot;vial 5&quot;</td><td>&quot;c:\\chem32\\1\\data\\0_jono_data\\w…</td><td>&quot;36ac3c9f-aea7-4a31-a8fa-740002…</td><td>null</td><td>&quot;50&quot;</td><td>38</td></tr><tr><td>&quot;/users/jonathan/uni/0_jono_dat…</td><td>&quot;98&quot;</td><td>&quot;2023-04-13 13:32:12&quot;</td><td>&quot;halo150x4_6c18-h2o-meoh-2_1.m&quot;</td><td>&quot;mau&quot;</td><td>&quot;dad1i, dad: spectrum&quot;</td><td>&quot;agilent&quot;</td><td>&quot;10.00&quot;</td><td>&quot;2023-04-13_wines_2023-04-13_11…</td><td>null</td><td>&quot;vial 3&quot;</td><td>&quot;c:\\chem32\\1\\data\\0_jono_data\\2…</td><td>&quot;6bf0e36f-819a-4303-9386-76d206…</td><td>null</td><td>&quot;98&quot;</td><td>76</td></tr><tr><td>&quot;/users/jonathan/uni/0_jono_dat…</td><td>&quot;92&quot;</td><td>&quot;2023-04-05 00:32:28&quot;</td><td>&quot;avantor100x4_6c18-h2o-meoh-2_5…</td><td>&quot;mau&quot;</td><td>&quot;dad1i, dad: spectrum&quot;</td><td>&quot;agilent&quot;</td><td>&quot;10.00&quot;</td><td>&quot;2023-04-04_wines_2023-04-04_12…</td><td>null</td><td>&quot;vial 15&quot;</td><td>&quot;c:\\chem32\\1\\data\\0_jono_data\\2…</td><td>&quot;c1e3411f-1d9e-4780-aace-a4650b…</td><td>null</td><td>&quot;92&quot;</td><td>146</td></tr><tr><td>&quot;/users/jonathan/uni/0_jono_dat…</td><td>&quot;96&quot;</td><td>&quot;2023-04-13 12:00:29&quot;</td><td>&quot;avantor100x4_6c18-h2o-meoh-2_5…</td><td>&quot;mau&quot;</td><td>&quot;dad1i, dad: spectrum&quot;</td><td>&quot;agilent&quot;</td><td>&quot;10.00&quot;</td><td>&quot;2023-04-13_wines_2023-04-13_11…</td><td>null</td><td>&quot;vial 1&quot;</td><td>&quot;c:\\chem32\\1\\data\\0_jono_data\\2…</td><td>&quot;06902f86-0024-418d-b449-79843f…</td><td>null</td><td>&quot;96&quot;</td><td>3</td></tr><tr><td>&quot;/users/jonathan/uni/0_jono_dat…</td><td>&quot;0101&quot;</td><td>&quot;2023-02-15 19:50:05&quot;</td><td>&quot;avantor100x4_6c18-h2o-meoh-2_1…</td><td>&quot;mau&quot;</td><td>&quot;dad1i, dad: spectrum&quot;</td><td>&quot;agilent&quot;</td><td>&quot;10.00&quot;</td><td>&quot;2023-02-15_wines_2023-02-15_15…</td><td>null</td><td>&quot;vial 6&quot;</td><td>&quot;c:\\chem32\\1\\data\\0_jono_data\\2…</td><td>&quot;a69d4665-d7b3-4706-be76-4d8e39…</td><td>null</td><td>&quot;10&quot;</td><td>126</td></tr><tr><td>&quot;/users/jonathan/uni/0_jono_dat…</td><td>&quot;110&quot;</td><td>&quot;2023-05-09 01:26:57&quot;</td><td>&quot;avantor100x4_6c18-h2o-meoh-2_5…</td><td>&quot;mau&quot;</td><td>&quot;dad1i, dad: spectrum&quot;</td><td>&quot;agilent&quot;</td><td>&quot;10.00&quot;</td><td>&quot;2023-05-08_uv_vis_wines 2023-0…</td><td>&quot;the autonomous ambient wine sa…</td><td>&quot;vial 7&quot;</td><td>&quot;c:\\chem32\\3\\data\\0_jono_data\\0…</td><td>&quot;7311903b-1d99-4dd9-b41d-8e5755…</td><td>&quot;2015 clos du marquis&quot;</td><td>&quot;110&quot;</td><td>85</td></tr><tr><td>&quot;/users/jonathan/uni/0_jono_dat…</td><td>&quot;54&quot;</td><td>&quot;2023-03-15 18:44:27&quot;</td><td>&quot;avantor100x4_6c18-h2o-meoh-2_5…</td><td>&quot;mau&quot;</td><td>&quot;dad1i, dad: spectrum&quot;</td><td>&quot;agilent&quot;</td><td>&quot;10.00&quot;</td><td>&quot;wines_2023-03-15_11-33-51&quot;</td><td>null</td><td>&quot;vial 9&quot;</td><td>&quot;c:\\chem32\\1\\data\\0_jono_data\\w…</td><td>&quot;461c5c4f-36cc-4552-a7ab-47bf19…</td><td>null</td><td>&quot;54&quot;</td><td>51</td></tr><tr><td>&quot;/users/jonathan/uni/0_jono_dat…</td><td>&quot;42&quot;</td><td>&quot;2023-03-15 04:47:25&quot;</td><td>&quot;avantor100x4_6c18-h2o-meoh-2_5…</td><td>&quot;mau&quot;</td><td>&quot;dad1i, dad: spectrum&quot;</td><td>&quot;agilent&quot;</td><td>&quot;10.00&quot;</td><td>&quot;2023-03-14_wines_2023-03-14_19…</td><td>null</td><td>&quot;vial 11&quot;</td><td>&quot;c:\\chem32\\1\\data\\2023-03-14_wi…</td><td>&quot;f4f1ff8c-05f2-42ab-a3ab-3d1a34…</td><td>null</td><td>&quot;42&quot;</td><td>171</td></tr><tr><td>&quot;/users/jonathan/uni/0_jono_dat…</td><td>&quot;86&quot;</td><td>&quot;2023-04-04 20:05:08&quot;</td><td>&quot;avantor100x4_6c18-h2o-meoh-2_5…</td><td>&quot;mau&quot;</td><td>&quot;dad1i, dad: spectrum&quot;</td><td>&quot;agilent&quot;</td><td>&quot;10.00&quot;</td><td>&quot;2023-04-04_wines_2023-04-04_12…</td><td>null</td><td>&quot;vial 10&quot;</td><td>&quot;c:\\chem32\\1\\data\\0_jono_data\\2…</td><td>&quot;6330ab34-a340-4bc5-bb1a-a68929…</td><td>null</td><td>&quot;86&quot;</td><td>70</td></tr></tbody></table></div>"
      ],
      "text/plain": [
       "shape: (10, 16)\n",
       "┌────────────┬────────────┬────────────┬────────────┬───┬────────────┬───────────┬───────────┬─────┐\n",
       "│ path       ┆ ch_samplec ┆ acq_date   ┆ acq_method ┆ … ┆ id         ┆ desc      ┆ join_samp ┆ pk  │\n",
       "│ ---        ┆ ode        ┆ ---        ┆ ---        ┆   ┆ ---        ┆ ---       ┆ lecode    ┆ --- │\n",
       "│ str        ┆ ---        ┆ str        ┆ str        ┆   ┆ str        ┆ str       ┆ ---       ┆ i32 │\n",
       "│            ┆ str        ┆            ┆            ┆   ┆            ┆           ┆ str       ┆     │\n",
       "╞════════════╪════════════╪════════════╪════════════╪═══╪════════════╪═══════════╪═══════════╪═════╡\n",
       "│ /users/jon ┆ 114        ┆ 2023-05-09 ┆ avantor100 ┆ … ┆ 839df657-6 ┆ 2019      ┆ 114       ┆ 105 │\n",
       "│ athan/uni/ ┆            ┆ 05:00:53   ┆ x4_6c18-h2 ┆   ┆ 9a3-4935-a ┆ catena    ┆           ┆     │\n",
       "│ 0_jono_dat ┆            ┆            ┆ o-meoh-2_5 ┆   ┆ 30b-3bd17e ┆ malbec    ┆           ┆     │\n",
       "│ …          ┆            ┆            ┆ …          ┆   ┆ …          ┆ vallle de ┆           ┆     │\n",
       "│            ┆            ┆            ┆            ┆   ┆            ┆ u…        ┆           ┆     │\n",
       "│ /users/jon ┆ 50         ┆ 2023-03-15 ┆ avantor100 ┆ … ┆ 36ac3c9f-a ┆ null      ┆ 50        ┆ 38  │\n",
       "│ athan/uni/ ┆            ┆ 15:09:51   ┆ x4_6c18-h2 ┆   ┆ ea7-4a31-a ┆           ┆           ┆     │\n",
       "│ 0_jono_dat ┆            ┆            ┆ o-meoh-2_5 ┆   ┆ 8fa-740002 ┆           ┆           ┆     │\n",
       "│ …          ┆            ┆            ┆ …          ┆   ┆ …          ┆           ┆           ┆     │\n",
       "│ /users/jon ┆ 98         ┆ 2023-04-13 ┆ halo150x4_ ┆ … ┆ 6bf0e36f-8 ┆ null      ┆ 98        ┆ 76  │\n",
       "│ athan/uni/ ┆            ┆ 13:32:12   ┆ 6c18-h2o-m ┆   ┆ 19a-4303-9 ┆           ┆           ┆     │\n",
       "│ 0_jono_dat ┆            ┆            ┆ eoh-2_1.m  ┆   ┆ 386-76d206 ┆           ┆           ┆     │\n",
       "│ …          ┆            ┆            ┆            ┆   ┆ …          ┆           ┆           ┆     │\n",
       "│ /users/jon ┆ 92         ┆ 2023-04-05 ┆ avantor100 ┆ … ┆ c1e3411f-1 ┆ null      ┆ 92        ┆ 146 │\n",
       "│ athan/uni/ ┆            ┆ 00:32:28   ┆ x4_6c18-h2 ┆   ┆ d9e-4780-a ┆           ┆           ┆     │\n",
       "│ 0_jono_dat ┆            ┆            ┆ o-meoh-2_5 ┆   ┆ ace-a4650b ┆           ┆           ┆     │\n",
       "│ …          ┆            ┆            ┆ …          ┆   ┆ …          ┆           ┆           ┆     │\n",
       "│ /users/jon ┆ 96         ┆ 2023-04-13 ┆ avantor100 ┆ … ┆ 06902f86-0 ┆ null      ┆ 96        ┆ 3   │\n",
       "│ athan/uni/ ┆            ┆ 12:00:29   ┆ x4_6c18-h2 ┆   ┆ 024-418d-b ┆           ┆           ┆     │\n",
       "│ 0_jono_dat ┆            ┆            ┆ o-meoh-2_5 ┆   ┆ 449-79843f ┆           ┆           ┆     │\n",
       "│ …          ┆            ┆            ┆ …          ┆   ┆ …          ┆           ┆           ┆     │\n",
       "│ /users/jon ┆ 0101       ┆ 2023-02-15 ┆ avantor100 ┆ … ┆ a69d4665-d ┆ null      ┆ 10        ┆ 126 │\n",
       "│ athan/uni/ ┆            ┆ 19:50:05   ┆ x4_6c18-h2 ┆   ┆ 7b3-4706-b ┆           ┆           ┆     │\n",
       "│ 0_jono_dat ┆            ┆            ┆ o-meoh-2_1 ┆   ┆ e76-4d8e39 ┆           ┆           ┆     │\n",
       "│ …          ┆            ┆            ┆ …          ┆   ┆ …          ┆           ┆           ┆     │\n",
       "│ /users/jon ┆ 110        ┆ 2023-05-09 ┆ avantor100 ┆ … ┆ 7311903b-1 ┆ 2015 clos ┆ 110       ┆ 85  │\n",
       "│ athan/uni/ ┆            ┆ 01:26:57   ┆ x4_6c18-h2 ┆   ┆ d99-4dd9-b ┆ du        ┆           ┆     │\n",
       "│ 0_jono_dat ┆            ┆            ┆ o-meoh-2_5 ┆   ┆ 41d-8e5755 ┆ marquis   ┆           ┆     │\n",
       "│ …          ┆            ┆            ┆ …          ┆   ┆ …          ┆           ┆           ┆     │\n",
       "│ /users/jon ┆ 54         ┆ 2023-03-15 ┆ avantor100 ┆ … ┆ 461c5c4f-3 ┆ null      ┆ 54        ┆ 51  │\n",
       "│ athan/uni/ ┆            ┆ 18:44:27   ┆ x4_6c18-h2 ┆   ┆ 6cc-4552-a ┆           ┆           ┆     │\n",
       "│ 0_jono_dat ┆            ┆            ┆ o-meoh-2_5 ┆   ┆ 7ab-47bf19 ┆           ┆           ┆     │\n",
       "│ …          ┆            ┆            ┆ …          ┆   ┆ …          ┆           ┆           ┆     │\n",
       "│ /users/jon ┆ 42         ┆ 2023-03-15 ┆ avantor100 ┆ … ┆ f4f1ff8c-0 ┆ null      ┆ 42        ┆ 171 │\n",
       "│ athan/uni/ ┆            ┆ 04:47:25   ┆ x4_6c18-h2 ┆   ┆ 5f2-42ab-a ┆           ┆           ┆     │\n",
       "│ 0_jono_dat ┆            ┆            ┆ o-meoh-2_5 ┆   ┆ 3ab-3d1a34 ┆           ┆           ┆     │\n",
       "│ …          ┆            ┆            ┆ …          ┆   ┆ …          ┆           ┆           ┆     │\n",
       "│ /users/jon ┆ 86         ┆ 2023-04-04 ┆ avantor100 ┆ … ┆ 6330ab34-a ┆ null      ┆ 86        ┆ 70  │\n",
       "│ athan/uni/ ┆            ┆ 20:05:08   ┆ x4_6c18-h2 ┆   ┆ 340-4bc5-b ┆           ┆           ┆     │\n",
       "│ 0_jono_dat ┆            ┆            ┆ o-meoh-2_5 ┆   ┆ b1a-a68929 ┆           ┆           ┆     │\n",
       "│ …          ┆            ┆            ┆ …          ┆   ┆ …          ┆           ┆           ┆     │\n",
       "└────────────┴────────────┴────────────┴────────────┴───┴────────────┴───────────┴───────────┴─────┘"
      ]
     },
     "execution_count": 228,
     "metadata": {},
     "output_type": "execute_result"
    }
   ],
   "source": [
    "con.sql(\n",
    "\"\"\"--sql\n",
    "    SELECT * FROM c_chemstation_metadata\n",
    "    LIMIT 10\n",
    "\"\"\"\n",
    ").pl()\n"
   ]
  },
  {
   "cell_type": "code",
   "execution_count": 271,
   "metadata": {},
   "outputs": [
    {
     "ename": "CatalogException",
     "evalue": "Catalog Error: Table with name chm does not exist!\nDid you mean \"st\"?",
     "output_type": "error",
     "traceback": [
      "\u001b[0;31m---------------------------------------------------------------------------\u001b[0m",
      "\u001b[0;31mCatalogException\u001b[0m                          Traceback (most recent call last)",
      "\u001b[1;32m/Users/jonathan/mres_thesis/pca_analysis/pca_analysis/experiments/notebooks/experiments/raw_dataset_description.ipynb Cell 51\u001b[0m line \u001b[0;36m1\n\u001b[0;32m----> <a href='vscode-notebook-cell:/Users/jonathan/mres_thesis/pca_analysis/pca_analysis/experiments/notebooks/experiments/raw_dataset_description.ipynb#Y311sZmlsZQ%3D%3D?line=0'>1</a>\u001b[0m con\u001b[39m.\u001b[39;49msql(\n\u001b[1;32m      <a href='vscode-notebook-cell:/Users/jonathan/mres_thesis/pca_analysis/pca_analysis/experiments/notebooks/experiments/raw_dataset_description.ipynb#Y311sZmlsZQ%3D%3D?line=1'>2</a>\u001b[0m \u001b[39m\"\"\"--sql\u001b[39;49;00m\n\u001b[1;32m      <a href='vscode-notebook-cell:/Users/jonathan/mres_thesis/pca_analysis/pca_analysis/experiments/notebooks/experiments/raw_dataset_description.ipynb#Y311sZmlsZQ%3D%3D?line=2'>3</a>\u001b[0m \u001b[39mDROP TABLE clean.chm\u001b[39;49;00m\n\u001b[1;32m      <a href='vscode-notebook-cell:/Users/jonathan/mres_thesis/pca_analysis/pca_analysis/experiments/notebooks/experiments/raw_dataset_description.ipynb#Y311sZmlsZQ%3D%3D?line=3'>4</a>\u001b[0m \u001b[39m\"\"\"\u001b[39;49;00m\n\u001b[1;32m      <a href='vscode-notebook-cell:/Users/jonathan/mres_thesis/pca_analysis/pca_analysis/experiments/notebooks/experiments/raw_dataset_description.ipynb#Y311sZmlsZQ%3D%3D?line=4'>5</a>\u001b[0m )\n",
      "\u001b[0;31mCatalogException\u001b[0m: Catalog Error: Table with name chm does not exist!\nDid you mean \"st\"?"
     ]
    }
   ],
   "source": [
    "con.sql(\n",
    "\"\"\"--sql\n",
    "DROP TABLE clean.chm\n",
    "\"\"\"\n",
    ")\n"
   ]
  },
  {
   "cell_type": "code",
   "execution_count": 272,
   "metadata": {},
   "outputs": [],
   "source": [
    "con.sql(\n",
    "\"\"\"--sql\n",
    "CREATE OR REPLACE TABLE clean.chm (\n",
    "    pk INTEGER PRIMARY KEY,\n",
    "    id VARCHAR UNIQUE,\n",
    "    path VARCHAR,\n",
    "    acq_date VARCHAR UNIQUE,\n",
    "    acq_method VARCHAR,\n",
    "    unit VARCHAR,\n",
    "    signal VARCHAR,\n",
    "    vendor VARCHAR,\n",
    "    inj_vol VARCHAR,\n",
    "    seq_name VARCHAR,\n",
    "    seq_desc VARCHAR,\n",
    "    vialnum VARCHAR,\n",
    "    originalfilepath VARCHAR,\n",
    "    description VARCHAR,\n",
    ");\n",
    "\"\"\"\n",
    ")\n"
   ]
  },
  {
   "cell_type": "markdown",
   "metadata": {},
   "source": [
    "And now to populate. I think i'll have to do this column by column? Need a join table"
   ]
  },
  {
   "cell_type": "markdown",
   "metadata": {},
   "source": [
    "Now write chemstation metadata to the clean schema\n"
   ]
  },
  {
   "cell_type": "code",
   "execution_count": 274,
   "metadata": {},
   "outputs": [],
   "source": [
    "con.sql(\n",
    "\"\"\"--sql\n",
    "INSERT INTO clean.chm\n",
    "    SELECT\n",
    "        pk,\n",
    "        id,\n",
    "        path,\n",
    "        acq_date,\n",
    "        acq_method,\n",
    "        unit,\n",
    "        signal,\n",
    "        vendor,\n",
    "        inj_vol,\n",
    "        seq_name,\n",
    "        seq_desc,\n",
    "        vialnum,\n",
    "        originalfilepath,\n",
    "        \"desc\"\n",
    "    FROM\n",
    "        c_chemstation_metadata\n",
    "\"\"\"\n",
    ")\n"
   ]
  },
  {
   "cell_type": "code",
   "execution_count": 276,
   "metadata": {},
   "outputs": [
    {
     "data": {
      "text/html": [
       "<div><style>\n",
       ".dataframe > thead > tr,\n",
       ".dataframe > tbody > tr {\n",
       "  text-align: right;\n",
       "  white-space: pre-wrap;\n",
       "}\n",
       "</style>\n",
       "<small>shape: (14, 6)</small><table border=\"1\" class=\"dataframe\"><thead><tr><th>column_name</th><th>column_type</th><th>null</th><th>key</th><th>default</th><th>extra</th></tr><tr><td>str</td><td>str</td><td>str</td><td>str</td><td>str</td><td>str</td></tr></thead><tbody><tr><td>&quot;pk&quot;</td><td>&quot;INTEGER&quot;</td><td>&quot;NO&quot;</td><td>&quot;PRI&quot;</td><td>null</td><td>null</td></tr><tr><td>&quot;id&quot;</td><td>&quot;VARCHAR&quot;</td><td>&quot;YES&quot;</td><td>&quot;UNI&quot;</td><td>null</td><td>null</td></tr><tr><td>&quot;path&quot;</td><td>&quot;VARCHAR&quot;</td><td>&quot;YES&quot;</td><td>null</td><td>null</td><td>null</td></tr><tr><td>&quot;acq_date&quot;</td><td>&quot;VARCHAR&quot;</td><td>&quot;YES&quot;</td><td>&quot;UNI&quot;</td><td>null</td><td>null</td></tr><tr><td>&quot;acq_method&quot;</td><td>&quot;VARCHAR&quot;</td><td>&quot;YES&quot;</td><td>null</td><td>null</td><td>null</td></tr><tr><td>&hellip;</td><td>&hellip;</td><td>&hellip;</td><td>&hellip;</td><td>&hellip;</td><td>&hellip;</td></tr><tr><td>&quot;seq_name&quot;</td><td>&quot;VARCHAR&quot;</td><td>&quot;YES&quot;</td><td>null</td><td>null</td><td>null</td></tr><tr><td>&quot;seq_desc&quot;</td><td>&quot;VARCHAR&quot;</td><td>&quot;YES&quot;</td><td>null</td><td>null</td><td>null</td></tr><tr><td>&quot;vialnum&quot;</td><td>&quot;VARCHAR&quot;</td><td>&quot;YES&quot;</td><td>null</td><td>null</td><td>null</td></tr><tr><td>&quot;originalfilepath&quot;</td><td>&quot;VARCHAR&quot;</td><td>&quot;YES&quot;</td><td>null</td><td>null</td><td>null</td></tr><tr><td>&quot;description&quot;</td><td>&quot;VARCHAR&quot;</td><td>&quot;YES&quot;</td><td>null</td><td>null</td><td>null</td></tr></tbody></table></div>"
      ],
      "text/plain": [
       "shape: (14, 6)\n",
       "┌──────────────────┬─────────────┬──────┬──────┬─────────┬───────┐\n",
       "│ column_name      ┆ column_type ┆ null ┆ key  ┆ default ┆ extra │\n",
       "│ ---              ┆ ---         ┆ ---  ┆ ---  ┆ ---     ┆ ---   │\n",
       "│ str              ┆ str         ┆ str  ┆ str  ┆ str     ┆ str   │\n",
       "╞══════════════════╪═════════════╪══════╪══════╪═════════╪═══════╡\n",
       "│ pk               ┆ INTEGER     ┆ NO   ┆ PRI  ┆ null    ┆ null  │\n",
       "│ id               ┆ VARCHAR     ┆ YES  ┆ UNI  ┆ null    ┆ null  │\n",
       "│ path             ┆ VARCHAR     ┆ YES  ┆ null ┆ null    ┆ null  │\n",
       "│ acq_date         ┆ VARCHAR     ┆ YES  ┆ UNI  ┆ null    ┆ null  │\n",
       "│ acq_method       ┆ VARCHAR     ┆ YES  ┆ null ┆ null    ┆ null  │\n",
       "│ …                ┆ …           ┆ …    ┆ …    ┆ …       ┆ …     │\n",
       "│ seq_name         ┆ VARCHAR     ┆ YES  ┆ null ┆ null    ┆ null  │\n",
       "│ seq_desc         ┆ VARCHAR     ┆ YES  ┆ null ┆ null    ┆ null  │\n",
       "│ vialnum          ┆ VARCHAR     ┆ YES  ┆ null ┆ null    ┆ null  │\n",
       "│ originalfilepath ┆ VARCHAR     ┆ YES  ┆ null ┆ null    ┆ null  │\n",
       "│ description      ┆ VARCHAR     ┆ YES  ┆ null ┆ null    ┆ null  │\n",
       "└──────────────────┴─────────────┴──────┴──────┴─────────┴───────┘"
      ]
     },
     "execution_count": 276,
     "metadata": {},
     "output_type": "execute_result"
    }
   ],
   "source": [
    "con.sql(\n",
    "\"\"\"--sql\n",
    "DESCRIBE clean.chm\n",
    "\"\"\"\n",
    ").pl()\n"
   ]
  },
  {
   "cell_type": "code",
   "execution_count": 280,
   "metadata": {},
   "outputs": [
    {
     "data": {
      "text/html": [
       "<div><style>\n",
       ".dataframe > thead > tr,\n",
       ".dataframe > tbody > tr {\n",
       "  text-align: right;\n",
       "  white-space: pre-wrap;\n",
       "}\n",
       "</style>\n",
       "<small>shape: (4, 4)</small><table border=\"1\" class=\"dataframe\"><thead><tr><th>schema_name</th><th>table_name</th><th>constraint_column_names</th><th>constraint_type</th></tr><tr><td>str</td><td>str</td><td>list[str]</td><td>str</td></tr></thead><tbody><tr><td>&quot;clean&quot;</td><td>&quot;chm&quot;</td><td>[&quot;pk&quot;]</td><td>&quot;PRIMARY KEY&quot;</td></tr><tr><td>&quot;clean&quot;</td><td>&quot;chm&quot;</td><td>[&quot;id&quot;]</td><td>&quot;UNIQUE&quot;</td></tr><tr><td>&quot;clean&quot;</td><td>&quot;chm&quot;</td><td>[&quot;acq_date&quot;]</td><td>&quot;UNIQUE&quot;</td></tr><tr><td>&quot;clean&quot;</td><td>&quot;chm&quot;</td><td>[&quot;pk&quot;]</td><td>&quot;NOT NULL&quot;</td></tr></tbody></table></div>"
      ],
      "text/plain": [
       "shape: (4, 4)\n",
       "┌─────────────┬────────────┬─────────────────────────┬─────────────────┐\n",
       "│ schema_name ┆ table_name ┆ constraint_column_names ┆ constraint_type │\n",
       "│ ---         ┆ ---        ┆ ---                     ┆ ---             │\n",
       "│ str         ┆ str        ┆ list[str]               ┆ str             │\n",
       "╞═════════════╪════════════╪═════════════════════════╪═════════════════╡\n",
       "│ clean       ┆ chm        ┆ [\"pk\"]                  ┆ PRIMARY KEY     │\n",
       "│ clean       ┆ chm        ┆ [\"id\"]                  ┆ UNIQUE          │\n",
       "│ clean       ┆ chm        ┆ [\"acq_date\"]            ┆ UNIQUE          │\n",
       "│ clean       ┆ chm        ┆ [\"pk\"]                  ┆ NOT NULL        │\n",
       "└─────────────┴────────────┴─────────────────────────┴─────────────────┘"
      ]
     },
     "execution_count": 280,
     "metadata": {},
     "output_type": "execute_result"
    }
   ],
   "source": [
    "con.sql(\n",
    "\"\"\"--sql\n",
    "SELECT\n",
    "    schema_name,\n",
    "    table_name,\n",
    "    constraint_column_names,\n",
    "    constraint_type\n",
    "FROM\n",
    "    duckdb_constraints()\n",
    "WHERE\n",
    "    schema_name = 'clean'\n",
    "AND\n",
    "    table_name = 'chm'\n",
    "\"\"\"\n",
    ").pl()\n"
   ]
  },
  {
   "cell_type": "markdown",
   "metadata": {},
   "source": [
    "Now it would acquire the means to connect to the sample tracker table.."
   ]
  },
  {
   "cell_type": "code",
   "execution_count": 81,
   "metadata": {},
   "outputs": [
    {
     "data": {
      "text/html": [
       "<div><style>\n",
       ".dataframe > thead > tr,\n",
       ".dataframe > tbody > tr {\n",
       "  text-align: right;\n",
       "  white-space: pre-wrap;\n",
       "}\n",
       "</style>\n",
       "<small>shape: (5, 3)</small><table border=\"1\" class=\"dataframe\"><thead><tr><th>pk_st_to_ct</th><th>pk_chm_to_st</th><th>pk_id</th></tr><tr><td>str</td><td>str</td><td>str</td></tr></thead><tbody><tr><td>&quot;2021 babo chianti&quot;</td><td>&quot;06&quot;</td><td>&quot;e56c4dcd-2847-4d34-b457-743be1…</td></tr><tr><td>&quot;2020 boutinot uva non grata&quot;</td><td>&quot;07&quot;</td><td>&quot;5eb3135c-33a2-404b-8042-e23cae…</td></tr><tr><td>&quot;2021 matias riccitelli malbec …</td><td>&quot;08&quot;</td><td>&quot;8cfa23c8-ffa6-4c27-be70-0251d4…</td></tr><tr><td>&quot;2018 crawford river cabernets&quot;</td><td>&quot;09&quot;</td><td>&quot;38601b0b-5338-4154-9f04-cf85b8…</td></tr><tr><td>&quot;2021 john duval wines shiraz c…</td><td>&quot;10&quot;</td><td>&quot;a69d4665-d7b3-4706-be76-4d8e39…</td></tr></tbody></table></div>"
      ],
      "text/plain": [
       "shape: (5, 3)\n",
       "┌─────────────────────────────────┬──────────────┬─────────────────────────────────┐\n",
       "│ pk_st_to_ct                     ┆ pk_chm_to_st ┆ pk_id                           │\n",
       "│ ---                             ┆ ---          ┆ ---                             │\n",
       "│ str                             ┆ str          ┆ str                             │\n",
       "╞═════════════════════════════════╪══════════════╪═════════════════════════════════╡\n",
       "│ 2021 babo chianti               ┆ 06           ┆ e56c4dcd-2847-4d34-b457-743be1… │\n",
       "│ 2020 boutinot uva non grata     ┆ 07           ┆ 5eb3135c-33a2-404b-8042-e23cae… │\n",
       "│ 2021 matias riccitelli malbec … ┆ 08           ┆ 8cfa23c8-ffa6-4c27-be70-0251d4… │\n",
       "│ 2018 crawford river cabernets   ┆ 09           ┆ 38601b0b-5338-4154-9f04-cf85b8… │\n",
       "│ 2021 john duval wines shiraz c… ┆ 10           ┆ a69d4665-d7b3-4706-be76-4d8e39… │\n",
       "└─────────────────────────────────┴──────────────┴─────────────────────────────────┘"
      ]
     },
     "execution_count": 81,
     "metadata": {},
     "output_type": "execute_result"
    }
   ],
   "source": [
    "join_tbl = con.sql(\n",
    "\"\"\"--sql\n",
    "SELECT\n",
    "    st.ct_wine_name as pk_st_to_ct,\n",
    "    jt.pk_chm_to_st,\n",
    "    jt.pk_id\n",
    "FROM\n",
    "    c_sample_tracker as st\n",
    "JOIN\n",
    "    join_tbl as jt\n",
    "ON\n",
    "    jt.pk_chm_to_st = st.samplecode\n",
    "\"\"\"\n",
    ").pl()\n",
    "\n",
    "join_tbl.head()\n"
   ]
  },
  {
   "cell_type": "code",
   "execution_count": null,
   "metadata": {},
   "outputs": [],
   "source": [
    "con.sql(\n",
    "\"\"\"--sql\n",
    "SELECT\n",
    "    *\n",
    "FROM\n",
    "    \n",
    "\"\"\"\n",
    ").pl()\n"
   ]
  },
  {
   "cell_type": "code",
   "execution_count": 48,
   "metadata": {},
   "outputs": [
    {
     "data": {
      "text/plain": [
       "['detection',\n",
       " 'sampler',\n",
       " 'samplecode',\n",
       " 'vintage',\n",
       " 'name',\n",
       " 'open_date',\n",
       " 'sampled_date',\n",
       " 'added_to_cellartracker',\n",
       " 'notes',\n",
       " 'size',\n",
       " 'ct_wine_name']"
      ]
     },
     "execution_count": 48,
     "metadata": {},
     "output_type": "execute_result"
    }
   ],
   "source": [
    "con.sql(\n",
    "\"\"\"--sql\n",
    "select table_schema, table_name, column_name from information_schema.columns WHERE table_name = 'c_sample_tracker'\n",
    "\"\"\"\n",
    ").pl()['column_name'].to_list()\n"
   ]
  },
  {
   "cell_type": "code",
   "execution_count": 51,
   "metadata": {},
   "outputs": [
    {
     "data": {
      "text/html": [
       "<div><style>\n",
       ".dataframe > thead > tr,\n",
       ".dataframe > tbody > tr {\n",
       "  text-align: right;\n",
       "  white-space: pre-wrap;\n",
       "}\n",
       "</style>\n",
       "<small>shape: (149, 1)</small><table border=\"1\" class=\"dataframe\"><thead><tr><th>wine</th></tr><tr><td>str</td></tr></thead><tbody><tr><td>&quot;2020 agricola punica montessu …</td></tr><tr><td>&quot;2022 alkina grenache kin&quot;</td></tr><tr><td>&quot;2016 anna maria abbona barolo …</td></tr><tr><td>&quot;2019 domaine des ardoisières a…</td></tr><tr><td>&quot;2021 babo chianti&quot;</td></tr><tr><td>&hellip;</td></tr><tr><td>&quot;2020 yangarra estate roussanne…</td></tr><tr><td>&quot;2015 yangarra estate shiraz mc…</td></tr><tr><td>&quot;2020 yangarra estate shiraz mc…</td></tr><tr><td>&quot;2021 yering station pinot noir&quot;</td></tr><tr><td>&quot;2016 zema estate cabernet sauv…</td></tr></tbody></table></div>"
      ],
      "text/plain": [
       "shape: (149, 1)\n",
       "┌─────────────────────────────────┐\n",
       "│ wine                            │\n",
       "│ ---                             │\n",
       "│ str                             │\n",
       "╞═════════════════════════════════╡\n",
       "│ 2020 agricola punica montessu … │\n",
       "│ 2022 alkina grenache kin        │\n",
       "│ 2016 anna maria abbona barolo … │\n",
       "│ 2019 domaine des ardoisières a… │\n",
       "│ 2021 babo chianti               │\n",
       "│ …                               │\n",
       "│ 2020 yangarra estate roussanne… │\n",
       "│ 2015 yangarra estate shiraz mc… │\n",
       "│ 2020 yangarra estate shiraz mc… │\n",
       "│ 2021 yering station pinot noir  │\n",
       "│ 2016 zema estate cabernet sauv… │\n",
       "└─────────────────────────────────┘"
      ]
     },
     "execution_count": 51,
     "metadata": {},
     "output_type": "execute_result"
    }
   ],
   "source": [
    "con.sql(\n",
    "\"\"\"--sql\n",
    "SELECT\n",
    "    wine\n",
    "FROM\n",
    "    c_cellar_tracker\n",
    "\"\"\"\n",
    ").pl()\n"
   ]
  },
  {
   "cell_type": "code",
   "execution_count": 53,
   "metadata": {},
   "outputs": [
    {
     "data": {
      "text/html": [
       "<div><style>\n",
       ".dataframe > thead > tr,\n",
       ".dataframe > tbody > tr {\n",
       "  text-align: right;\n",
       "  white-space: pre-wrap;\n",
       "}\n",
       "</style>\n",
       "<small>shape: (190, 1)</small><table border=\"1\" class=\"dataframe\"><thead><tr><th>ct_wine_name</th></tr><tr><td>str</td></tr></thead><tbody><tr><td>&quot;2016 zema estate cabernet sauv…</td></tr><tr><td>&quot;2022 william downie cathedral&quot;</td></tr><tr><td>&quot;2021 babo chianti&quot;</td></tr><tr><td>&quot;2021 joshua cooper cabernet sa…</td></tr><tr><td>&quot;2022 william downie cathedral&quot;</td></tr><tr><td>&hellip;</td></tr><tr><td>&quot;2020 leeuwin estate cabernet s…</td></tr><tr><td>&quot; &quot;</td></tr><tr><td>&quot;2021 terraviva cerasuolo dabru…</td></tr><tr><td>&quot;2020 le macchiole bolgheri ros…</td></tr><tr><td>&quot;2021 babo chianti&quot;</td></tr></tbody></table></div>"
      ],
      "text/plain": [
       "shape: (190, 1)\n",
       "┌─────────────────────────────────┐\n",
       "│ ct_wine_name                    │\n",
       "│ ---                             │\n",
       "│ str                             │\n",
       "╞═════════════════════════════════╡\n",
       "│ 2016 zema estate cabernet sauv… │\n",
       "│ 2022 william downie cathedral   │\n",
       "│ 2021 babo chianti               │\n",
       "│ 2021 joshua cooper cabernet sa… │\n",
       "│ 2022 william downie cathedral   │\n",
       "│ …                               │\n",
       "│ 2020 leeuwin estate cabernet s… │\n",
       "│                                 │\n",
       "│ 2021 terraviva cerasuolo dabru… │\n",
       "│ 2020 le macchiole bolgheri ros… │\n",
       "│ 2021 babo chianti               │\n",
       "└─────────────────────────────────┘"
      ]
     },
     "execution_count": 53,
     "metadata": {},
     "output_type": "execute_result"
    }
   ],
   "source": [
    "con.sql(\n",
    "\"\"\"--sql\n",
    "SELECT\n",
    "    ct_wine_name\n",
    "FROM\n",
    "    c_sample_tracker\n",
    "\"\"\"\n",
    ").pl()\n"
   ]
  },
  {
   "cell_type": "markdown",
   "metadata": {},
   "source": [
    "'c_chemstation_metadata' has 175 rows but 174 distinct 'join_samplecode' values. This is the key to join with 'c_sample_tracker'. Is there a duplicate?"
   ]
  },
  {
   "cell_type": "code",
   "execution_count": 60,
   "metadata": {},
   "outputs": [
    {
     "data": {
      "text/html": [
       "<div><style>\n",
       ".dataframe > thead > tr,\n",
       ".dataframe > tbody > tr {\n",
       "  text-align: right;\n",
       "  white-space: pre-wrap;\n",
       "}\n",
       "</style>\n",
       "<small>shape: (1, 1)</small><table border=\"1\" class=\"dataframe\"><thead><tr><th>count(DISTINCT join_samplecode)</th></tr><tr><td>i64</td></tr></thead><tbody><tr><td>174</td></tr></tbody></table></div>"
      ],
      "text/plain": [
       "shape: (1, 1)\n",
       "┌─────────────────────────────────┐\n",
       "│ count(DISTINCT join_samplecode… │\n",
       "│ ---                             │\n",
       "│ i64                             │\n",
       "╞═════════════════════════════════╡\n",
       "│ 174                             │\n",
       "└─────────────────────────────────┘"
      ]
     },
     "execution_count": 60,
     "metadata": {},
     "output_type": "execute_result"
    }
   ],
   "source": [
    "con.sql(\n",
    "\"\"\"--sql\n",
    "select\n",
    "    count(distinct join_samplecode)\n",
    "from\n",
    "    c_chemstation_metadata\n",
    "\"\"\"\n",
    ").pl()\n"
   ]
  },
  {
   "cell_type": "code",
   "execution_count": 54,
   "metadata": {},
   "outputs": [
    {
     "data": {
      "text/html": [
       "<div><style>\n",
       ".dataframe > thead > tr,\n",
       ".dataframe > tbody > tr {\n",
       "  text-align: right;\n",
       "  white-space: pre-wrap;\n",
       "}\n",
       "</style>\n",
       "<small>shape: (175, 25)</small><table border=\"1\" class=\"dataframe\"><thead><tr><th>size</th><th>vintage</th><th>name</th><th>locale</th><th>country</th><th>region</th><th>subregion</th><th>appellation</th><th>producer</th><th>type</th><th>color</th><th>category</th><th>varietal</th><th>wine</th><th>detection</th><th>sampler</th><th>samplecode</th><th>vintage_1</th><th>name_1</th><th>open_date</th><th>sampled_date</th><th>added_to_cellartracker</th><th>notes</th><th>size_1</th><th>ct_wine_name</th></tr><tr><td>str</td><td>str</td><td>str</td><td>str</td><td>str</td><td>str</td><td>str</td><td>str</td><td>str</td><td>str</td><td>str</td><td>str</td><td>str</td><td>str</td><td>str</td><td>str</td><td>str</td><td>str</td><td>str</td><td>str</td><td>str</td><td>str</td><td>str</td><td>str</td><td>str</td></tr></thead><tbody><tr><td>&quot;750ml&quot;</td><td>&quot;2021&quot;</td><td>&quot;babo chianti&quot;</td><td>&quot;italy, tuscany, chianti&quot;</td><td>&quot;italy&quot;</td><td>&quot;tuscany&quot;</td><td>&quot;chianti&quot;</td><td>&quot;chianti&quot;</td><td>&quot;babo&quot;</td><td>&quot;red&quot;</td><td>&quot;red&quot;</td><td>&quot;dry&quot;</td><td>&quot;sangiovese&quot;</td><td>&quot;2021 babo chianti&quot;</td><td>&quot;raw&quot;</td><td>&quot;jonathan&quot;</td><td>&quot;02&quot;</td><td>&quot;2021&quot;</td><td>&quot;babo chianti&quot;</td><td>null</td><td>null</td><td>&quot;y&quot;</td><td>&quot;ambient 2 weeks. sampled 20230…</td><td>&quot;750&quot;</td><td>&quot;2021 babo chianti&quot;</td></tr><tr><td>&quot;750ml&quot;</td><td>&quot;2021&quot;</td><td>&quot;babo chianti&quot;</td><td>&quot;italy, tuscany, chianti&quot;</td><td>&quot;italy&quot;</td><td>&quot;tuscany&quot;</td><td>&quot;chianti&quot;</td><td>&quot;chianti&quot;</td><td>&quot;babo&quot;</td><td>&quot;red&quot;</td><td>&quot;red&quot;</td><td>&quot;dry&quot;</td><td>&quot;sangiovese&quot;</td><td>&quot;2021 babo chianti&quot;</td><td>&quot;raw&quot;</td><td>&quot;jonathan&quot;</td><td>&quot;06&quot;</td><td>&quot;2021&quot;</td><td>&quot;babo chianti&quot;</td><td>&quot;2023-02-04&quot;</td><td>null</td><td>&quot;y&quot;</td><td>null</td><td>&quot;750&quot;</td><td>&quot;2021 babo chianti&quot;</td></tr><tr><td>&quot;750ml&quot;</td><td>&quot;2020&quot;</td><td>&quot;boutinot uva non grata&quot;</td><td>&quot;france, vin de france&quot;</td><td>&quot;france&quot;</td><td>&quot;france&quot;</td><td>&quot;unknown&quot;</td><td>&quot;vin de france&quot;</td><td>&quot;boutinot&quot;</td><td>&quot;red&quot;</td><td>&quot;red&quot;</td><td>&quot;dry&quot;</td><td>&quot;gamay&quot;</td><td>&quot;2020 boutinot uva non grata&quot;</td><td>&quot;raw&quot;</td><td>&quot;jonathan&quot;</td><td>&quot;07&quot;</td><td>&quot;2020&quot;</td><td>&quot;uva non grata gamay&quot;</td><td>&quot;2023-02-04&quot;</td><td>null</td><td>&quot;y&quot;</td><td>null</td><td>&quot;750&quot;</td><td>&quot;2020 boutinot uva non grata&quot;</td></tr><tr><td>&quot;750ml&quot;</td><td>&quot;2021&quot;</td><td>&quot;matias riccitelli malbec hey m…</td><td>&quot;argentina, mendoza, lujan de c…</td><td>&quot;argentina&quot;</td><td>&quot;mendoza&quot;</td><td>&quot;lujan de cuyo&quot;</td><td>&quot;unknown&quot;</td><td>&quot;matias riccitelli&quot;</td><td>&quot;red&quot;</td><td>&quot;red&quot;</td><td>&quot;dry&quot;</td><td>&quot;malbec&quot;</td><td>&quot;2021 matias riccitelli malbec …</td><td>&quot;raw&quot;</td><td>&quot;jonathan&quot;</td><td>&quot;08&quot;</td><td>&quot;2021&quot;</td><td>&quot;hey malbec&quot;</td><td>&quot;2023-02-04&quot;</td><td>null</td><td>&quot;y&quot;</td><td>null</td><td>&quot;750&quot;</td><td>&quot;2021 matias riccitelli malbec …</td></tr><tr><td>&quot;750ml&quot;</td><td>&quot;2018&quot;</td><td>&quot;crawford river cabernets&quot;</td><td>&quot;australia, victoria, western v…</td><td>&quot;australia&quot;</td><td>&quot;victoria&quot;</td><td>&quot;western victoria&quot;</td><td>&quot;henty&quot;</td><td>&quot;crawford river&quot;</td><td>&quot;red&quot;</td><td>&quot;red&quot;</td><td>&quot;dry&quot;</td><td>&quot;red bordeaux blend&quot;</td><td>&quot;2018 crawford river cabernets&quot;</td><td>&quot;raw&quot;</td><td>&quot;jonathan&quot;</td><td>&quot;09&quot;</td><td>&quot;2018&quot;</td><td>&quot;crawford river cabernets&quot;</td><td>&quot;2023-02-01&quot;</td><td>null</td><td>&quot;y&quot;</td><td>null</td><td>&quot;750&quot;</td><td>&quot;2018 crawford river cabernets&quot;</td></tr><tr><td>&hellip;</td><td>&hellip;</td><td>&hellip;</td><td>&hellip;</td><td>&hellip;</td><td>&hellip;</td><td>&hellip;</td><td>&hellip;</td><td>&hellip;</td><td>&hellip;</td><td>&hellip;</td><td>&hellip;</td><td>&hellip;</td><td>&hellip;</td><td>&hellip;</td><td>&hellip;</td><td>&hellip;</td><td>&hellip;</td><td>&hellip;</td><td>&hellip;</td><td>&hellip;</td><td>&hellip;</td><td>&hellip;</td><td>&hellip;</td><td>&hellip;</td></tr><tr><td>&quot;750ml&quot;</td><td>&quot;2021&quot;</td><td>&quot;st hugo grenache shiraz mataro&quot;</td><td>&quot;australia, south australia, ba…</td><td>&quot;australia&quot;</td><td>&quot;south australia&quot;</td><td>&quot;barossa&quot;</td><td>&quot;barossa valley&quot;</td><td>&quot;st hugo&quot;</td><td>&quot;red&quot;</td><td>&quot;red&quot;</td><td>&quot;dry&quot;</td><td>&quot;red rhone blend&quot;</td><td>&quot;2021 st hugo grenache shiraz m…</td><td>&quot;cuprac&quot;</td><td>&quot;jonathan&quot;</td><td>&quot;169&quot;</td><td>&quot;2021&quot;</td><td>&quot;st hugo gsm&quot;</td><td>&quot;2023-05-26&quot;</td><td>&quot;2023-05-30&quot;</td><td>&quot;y&quot;</td><td>null</td><td>null</td><td>&quot;2021 st hugo grenache shiraz m…</td></tr><tr><td>&quot;750ml&quot;</td><td>&quot;2019&quot;</td><td>&quot;kuenhof (peter pliger) rieslin…</td><td>&quot;italy, trentino-alto adige, al…</td><td>&quot;italy&quot;</td><td>&quot;trentino-alto adige&quot;</td><td>&quot;alto adige&quot;</td><td>&quot;valle isarco / eisacktaler&quot;</td><td>&quot;kuenhof (peter pliger)&quot;</td><td>&quot;white&quot;</td><td>&quot;white&quot;</td><td>&quot;dry&quot;</td><td>&quot;riesling&quot;</td><td>&quot;2019 kuenhof (peter pliger) ri…</td><td>&quot;raw&quot;</td><td>&quot;jonathan&quot;</td><td>&quot;22&quot;</td><td>&quot;2019&quot;</td><td>&quot;kuenhof riesling&quot;</td><td>&quot;2023-02-10&quot;</td><td>null</td><td>&quot;y&quot;</td><td>null</td><td>&quot;750&quot;</td><td>&quot;2019 kuenhof (peter pliger) ri…</td></tr><tr><td>&quot;750ml&quot;</td><td>&quot;2020&quot;</td><td>&quot;hochkirch pinot noir maximus&quot;</td><td>&quot;australia, victoria, western v…</td><td>&quot;australia&quot;</td><td>&quot;victoria&quot;</td><td>&quot;western victoria&quot;</td><td>&quot;henty&quot;</td><td>&quot;hochkirch&quot;</td><td>&quot;red&quot;</td><td>&quot;red&quot;</td><td>&quot;dry&quot;</td><td>&quot;pinot noir&quot;</td><td>&quot;2020 hochkirch pinot noir maxi…</td><td>&quot;raw&quot;</td><td>&quot;jonathan&quot;</td><td>&quot;70&quot;</td><td>&quot;2020&quot;</td><td>&quot;hochkirch pinot noir&quot;</td><td>&quot;2023-03-23&quot;</td><td>&quot;2023-03-23&quot;</td><td>&quot;y&quot;</td><td>null</td><td>&quot;750&quot;</td><td>&quot;2020 hochkirch pinot noir maxi…</td></tr><tr><td>&quot;750ml&quot;</td><td>&quot;2022&quot;</td><td>&quot;chalmers vermentino&quot;</td><td>&quot;australia, victoria, central v…</td><td>&quot;australia&quot;</td><td>&quot;victoria&quot;</td><td>&quot;central victoria&quot;</td><td>&quot;heathcote&quot;</td><td>&quot;chalmers&quot;</td><td>&quot;white&quot;</td><td>&quot;white&quot;</td><td>&quot;dry&quot;</td><td>&quot;vermentino&quot;</td><td>&quot;2022 chalmers vermentino&quot;</td><td>&quot;cuprac&quot;</td><td>&quot;colin&quot;</td><td>&quot;160&quot;</td><td>&quot;2022&quot;</td><td>&quot;chalmers vermentino&quot;</td><td>null</td><td>null</td><td>&quot;y&quot;</td><td>null</td><td>null</td><td>&quot;2022 chalmers vermentino&quot;</td></tr><tr><td>&quot;750ml&quot;</td><td>&quot;2019&quot;</td><td>&quot;mauro molino dolcetto dalba&quot;</td><td>&quot;italy, piedmont, alba, dolcett…</td><td>&quot;italy&quot;</td><td>&quot;piedmont&quot;</td><td>&quot;alba&quot;</td><td>&quot;dolcetto dalba&quot;</td><td>&quot;mauro molino&quot;</td><td>&quot;red&quot;</td><td>&quot;red&quot;</td><td>&quot;dry&quot;</td><td>&quot;dolcetto&quot;</td><td>&quot;2019 mauro molino dolcetto dal…</td><td>&quot;cuprac&quot;</td><td>&quot;jonathan&quot;</td><td>&quot;167&quot;</td><td>&quot;2019&quot;</td><td>&quot;mauro molino dolcetto&quot;</td><td>&quot;2023-05-26&quot;</td><td>&quot;2023-05-30&quot;</td><td>&quot;y&quot;</td><td>null</td><td>null</td><td>&quot;2019 mauro molino dolcetto dal…</td></tr></tbody></table></div>"
      ],
      "text/plain": [
       "shape: (175, 25)\n",
       "┌───────┬─────────┬─────────────┬─────────────┬───┬─────────────┬────────────┬────────┬────────────┐\n",
       "│ size  ┆ vintage ┆ name        ┆ locale      ┆ … ┆ added_to_ce ┆ notes      ┆ size_1 ┆ ct_wine_na │\n",
       "│ ---   ┆ ---     ┆ ---         ┆ ---         ┆   ┆ llartracker ┆ ---        ┆ ---    ┆ me         │\n",
       "│ str   ┆ str     ┆ str         ┆ str         ┆   ┆ ---         ┆ str        ┆ str    ┆ ---        │\n",
       "│       ┆         ┆             ┆             ┆   ┆ str         ┆            ┆        ┆ str        │\n",
       "╞═══════╪═════════╪═════════════╪═════════════╪═══╪═════════════╪════════════╪════════╪════════════╡\n",
       "│ 750ml ┆ 2021    ┆ babo        ┆ italy,      ┆ … ┆ y           ┆ ambient 2  ┆ 750    ┆ 2021 babo  │\n",
       "│       ┆         ┆ chianti     ┆ tuscany,    ┆   ┆             ┆ weeks.     ┆        ┆ chianti    │\n",
       "│       ┆         ┆             ┆ chianti     ┆   ┆             ┆ sampled    ┆        ┆            │\n",
       "│       ┆         ┆             ┆             ┆   ┆             ┆ 20230…     ┆        ┆            │\n",
       "│ 750ml ┆ 2021    ┆ babo        ┆ italy,      ┆ … ┆ y           ┆ null       ┆ 750    ┆ 2021 babo  │\n",
       "│       ┆         ┆ chianti     ┆ tuscany,    ┆   ┆             ┆            ┆        ┆ chianti    │\n",
       "│       ┆         ┆             ┆ chianti     ┆   ┆             ┆            ┆        ┆            │\n",
       "│ 750ml ┆ 2020    ┆ boutinot    ┆ france, vin ┆ … ┆ y           ┆ null       ┆ 750    ┆ 2020       │\n",
       "│       ┆         ┆ uva non     ┆ de france   ┆   ┆             ┆            ┆        ┆ boutinot   │\n",
       "│       ┆         ┆ grata       ┆             ┆   ┆             ┆            ┆        ┆ uva non    │\n",
       "│       ┆         ┆             ┆             ┆   ┆             ┆            ┆        ┆ grata      │\n",
       "│ 750ml ┆ 2021    ┆ matias      ┆ argentina,  ┆ … ┆ y           ┆ null       ┆ 750    ┆ 2021       │\n",
       "│       ┆         ┆ riccitelli  ┆ mendoza,    ┆   ┆             ┆            ┆        ┆ matias     │\n",
       "│       ┆         ┆ malbec hey  ┆ lujan de c… ┆   ┆             ┆            ┆        ┆ riccitelli │\n",
       "│       ┆         ┆ m…          ┆             ┆   ┆             ┆            ┆        ┆ malbec …   │\n",
       "│ 750ml ┆ 2018    ┆ crawford    ┆ australia,  ┆ … ┆ y           ┆ null       ┆ 750    ┆ 2018       │\n",
       "│       ┆         ┆ river       ┆ victoria,   ┆   ┆             ┆            ┆        ┆ crawford   │\n",
       "│       ┆         ┆ cabernets   ┆ western v…  ┆   ┆             ┆            ┆        ┆ river      │\n",
       "│       ┆         ┆             ┆             ┆   ┆             ┆            ┆        ┆ cabernets  │\n",
       "│ …     ┆ …       ┆ …           ┆ …           ┆ … ┆ …           ┆ …          ┆ …      ┆ …          │\n",
       "│ 750ml ┆ 2021    ┆ st hugo     ┆ australia,  ┆ … ┆ y           ┆ null       ┆ null   ┆ 2021 st    │\n",
       "│       ┆         ┆ grenache    ┆ south       ┆   ┆             ┆            ┆        ┆ hugo       │\n",
       "│       ┆         ┆ shiraz      ┆ australia,  ┆   ┆             ┆            ┆        ┆ grenache   │\n",
       "│       ┆         ┆ mataro      ┆ ba…         ┆   ┆             ┆            ┆        ┆ shiraz m…  │\n",
       "│ 750ml ┆ 2019    ┆ kuenhof     ┆ italy, tren ┆ … ┆ y           ┆ null       ┆ 750    ┆ 2019       │\n",
       "│       ┆         ┆ (peter      ┆ tino-alto   ┆   ┆             ┆            ┆        ┆ kuenhof    │\n",
       "│       ┆         ┆ pliger)     ┆ adige, al…  ┆   ┆             ┆            ┆        ┆ (peter     │\n",
       "│       ┆         ┆ rieslin…    ┆             ┆   ┆             ┆            ┆        ┆ pliger)    │\n",
       "│       ┆         ┆             ┆             ┆   ┆             ┆            ┆        ┆ ri…        │\n",
       "│ 750ml ┆ 2020    ┆ hochkirch   ┆ australia,  ┆ … ┆ y           ┆ null       ┆ 750    ┆ 2020       │\n",
       "│       ┆         ┆ pinot noir  ┆ victoria,   ┆   ┆             ┆            ┆        ┆ hochkirch  │\n",
       "│       ┆         ┆ maximus     ┆ western v…  ┆   ┆             ┆            ┆        ┆ pinot noir │\n",
       "│       ┆         ┆             ┆             ┆   ┆             ┆            ┆        ┆ maxi…      │\n",
       "│ 750ml ┆ 2022    ┆ chalmers    ┆ australia,  ┆ … ┆ y           ┆ null       ┆ null   ┆ 2022       │\n",
       "│       ┆         ┆ vermentino  ┆ victoria,   ┆   ┆             ┆            ┆        ┆ chalmers   │\n",
       "│       ┆         ┆             ┆ central v…  ┆   ┆             ┆            ┆        ┆ vermentino │\n",
       "│ 750ml ┆ 2019    ┆ mauro       ┆ italy,      ┆ … ┆ y           ┆ null       ┆ null   ┆ 2019 mauro │\n",
       "│       ┆         ┆ molino      ┆ piedmont,   ┆   ┆             ┆            ┆        ┆ molino     │\n",
       "│       ┆         ┆ dolcetto    ┆ alba,       ┆   ┆             ┆            ┆        ┆ dolcetto   │\n",
       "│       ┆         ┆ dalba       ┆ dolcett…    ┆   ┆             ┆            ┆        ┆ dal…       │\n",
       "└───────┴─────────┴─────────────┴─────────────┴───┴─────────────┴────────────┴────────┴────────────┘"
      ]
     },
     "execution_count": 54,
     "metadata": {},
     "output_type": "execute_result"
    }
   ],
   "source": [
    "con.sql(\n",
    "\"\"\"--sql\n",
    "select\n",
    "    *\n",
    "from\n",
    "    c_cellar_tracker as ct\n",
    "JOIN\n",
    "    c_sample_tracker as st\n",
    "ON\n",
    "    ct.wine = st.ct_wine_name\n",
    "\"\"\"\n",
    ").pl()\n"
   ]
  },
  {
   "cell_type": "code",
   "execution_count": null,
   "metadata": {},
   "outputs": [],
   "source": [
    "con.sql(\n",
    "\"\"\"--sql\n",
    "SELECT\n",
    "    \n",
    "\"\"\"\n",
    ").pl()\n"
   ]
  },
  {
   "cell_type": "code",
   "execution_count": 29,
   "metadata": {},
   "outputs": [
    {
     "ename": "BinderException",
     "evalue": "Binder Error: Referenced column \"vintage\" not found in FROM clause!\nCandidate bindings: \"sm.wine\"",
     "output_type": "error",
     "traceback": [
      "\u001b[0;31m---------------------------------------------------------------------------\u001b[0m",
      "\u001b[0;31mBinderException\u001b[0m                           Traceback (most recent call last)",
      "\u001b[1;32m/Users/jonathan/mres_thesis/pca_analysis/pca_analysis/experiments/notebooks/experiments/raw_dataset_description.ipynb Cell 25\u001b[0m line \u001b[0;36m1\n\u001b[0;32m----> <a href='vscode-notebook-cell:/Users/jonathan/mres_thesis/pca_analysis/pca_analysis/experiments/notebooks/experiments/raw_dataset_description.ipynb#X46sZmlsZQ%3D%3D?line=0'>1</a>\u001b[0m con\u001b[39m.\u001b[39;49msql(\n\u001b[1;32m      <a href='vscode-notebook-cell:/Users/jonathan/mres_thesis/pca_analysis/pca_analysis/experiments/notebooks/experiments/raw_dataset_description.ipynb#X46sZmlsZQ%3D%3D?line=1'>2</a>\u001b[0m \u001b[39m\"\"\"--sql\u001b[39;49;00m\n\u001b[1;32m      <a href='vscode-notebook-cell:/Users/jonathan/mres_thesis/pca_analysis/pca_analysis/experiments/notebooks/experiments/raw_dataset_description.ipynb#X46sZmlsZQ%3D%3D?line=2'>3</a>\u001b[0m \u001b[39mSELECT\u001b[39;49;00m\n\u001b[1;32m      <a href='vscode-notebook-cell:/Users/jonathan/mres_thesis/pca_analysis/pca_analysis/experiments/notebooks/experiments/raw_dataset_description.ipynb#X46sZmlsZQ%3D%3D?line=3'>4</a>\u001b[0m \u001b[39m    vintage,\u001b[39;49;00m\n\u001b[1;32m      <a href='vscode-notebook-cell:/Users/jonathan/mres_thesis/pca_analysis/pca_analysis/experiments/notebooks/experiments/raw_dataset_description.ipynb#X46sZmlsZQ%3D%3D?line=4'>5</a>\u001b[0m \u001b[39m    count(vintage) as count\u001b[39;49;00m\n\u001b[1;32m      <a href='vscode-notebook-cell:/Users/jonathan/mres_thesis/pca_analysis/pca_analysis/experiments/notebooks/experiments/raw_dataset_description.ipynb#X46sZmlsZQ%3D%3D?line=5'>6</a>\u001b[0m \u001b[39mFROM\u001b[39;49;00m\n\u001b[1;32m      <a href='vscode-notebook-cell:/Users/jonathan/mres_thesis/pca_analysis/pca_analysis/experiments/notebooks/experiments/raw_dataset_description.ipynb#X46sZmlsZQ%3D%3D?line=6'>7</a>\u001b[0m \u001b[39m    sm\u001b[39;49;00m\n\u001b[1;32m      <a href='vscode-notebook-cell:/Users/jonathan/mres_thesis/pca_analysis/pca_analysis/experiments/notebooks/experiments/raw_dataset_description.ipynb#X46sZmlsZQ%3D%3D?line=7'>8</a>\u001b[0m \u001b[39m\"\"\"\u001b[39;49;00m\n\u001b[1;32m      <a href='vscode-notebook-cell:/Users/jonathan/mres_thesis/pca_analysis/pca_analysis/experiments/notebooks/experiments/raw_dataset_description.ipynb#X46sZmlsZQ%3D%3D?line=8'>9</a>\u001b[0m )\u001b[39m.\u001b[39mpl()\n",
      "\u001b[0;31mBinderException\u001b[0m: Binder Error: Referenced column \"vintage\" not found in FROM clause!\nCandidate bindings: \"sm.wine\""
     ]
    }
   ],
   "source": [
    "con.sql(\n",
    "\"\"\"--sql\n",
    "SELECT\n",
    "    vintage,\n",
    "    count(vintage) as count\n",
    "FROM\n",
    "    pbl.sample_metadata\n",
    "JOIN\n",
    "    c_a\n",
    "    \n",
    "\"\"\"\n",
    ").pl()\n"
   ]
  },
  {
   "cell_type": "markdown",
   "metadata": {
    "vscode": {
     "languageId": "plaintext"
    }
   },
   "source": [
    "# Signal\n"
   ]
  },
  {
   "cell_type": "markdown",
   "metadata": {},
   "source": [
    "# Appendix"
   ]
  },
  {
   "cell_type": "markdown",
   "metadata": {},
   "source": [
    "## Varietal Counts\n"
   ]
  },
  {
   "cell_type": "code",
   "execution_count": 18,
   "metadata": {},
   "outputs": [
    {
     "data": {
      "text/html": [
       "<div id=\"zmenjpespp\" style=\"padding-left:0px;padding-right:0px;padding-top:10px;padding-bottom:10px;overflow-x:auto;overflow-y:auto;width:auto;height:auto;\">\n",
       "<style>\n",
       "#zmenjpespp table {\n",
       "          font-family: -apple-system, BlinkMacSystemFont, 'Segoe UI', Roboto, Oxygen, Ubuntu, Cantarell, 'Helvetica Neue', 'Fira Sans', 'Droid Sans', Arial, sans-serif;\n",
       "          -webkit-font-smoothing: antialiased;\n",
       "          -moz-osx-font-smoothing: grayscale;\n",
       "        }\n",
       "\n",
       "#zmenjpespp thead, tbody, tfoot, tr, td, th { border-style: none !important; }\n",
       " tr { background-color: transparent !important; }\n",
       "#zmenjpespp p { margin: 0 !important; padding: 0 !important; }\n",
       " #zmenjpespp .gt_table { display: table !important; border-collapse: collapse !important; line-height: normal !important; margin-left: auto !important; margin-right: auto !important; color: #333333 !important; font-size: 16px !important; font-weight: normal !important; font-style: normal !important; background-color: #FFFFFF !important; width: auto !important; border-top-style: solid !important; border-top-width: 2px !important; border-top-color: #A8A8A8 !important; border-right-style: none !important; border-right-width: 2px !important; border-right-color: #D3D3D3 !important; border-bottom-style: solid !important; border-bottom-width: 2px !important; border-bottom-color: #A8A8A8 !important; border-left-style: none !important; border-left-width: 2px !important; border-left-color: #D3D3D3 !important; }\n",
       " #zmenjpespp .gt_caption { padding-top: 4px !important; padding-bottom: 4px !important; }\n",
       " #zmenjpespp .gt_title { color: #333333 !important; font-size: 125% !important; font-weight: initial !important; padding-top: 4px !important; padding-bottom: 4px !important; padding-left: 5px !important; padding-right: 5px !important; border-bottom-color: #FFFFFF !important; border-bottom-width: 0 !important; }\n",
       " #zmenjpespp .gt_subtitle { color: #333333 !important; font-size: 85% !important; font-weight: initial !important; padding-top: 3px !important; padding-bottom: 5px !important; padding-left: 5px !important; padding-right: 5px !important; border-top-color: #FFFFFF !important; border-top-width: 0 !important; }\n",
       " #zmenjpespp .gt_heading { background-color: #FFFFFF !important; text-align: center !important; border-bottom-color: #FFFFFF !important; border-left-style: none !important; border-left-width: 1px !important; border-left-color: #D3D3D3 !important; border-right-style: none !important; border-right-width: 1px !important; border-right-color: #D3D3D3 !important; }\n",
       " #zmenjpespp .gt_bottom_border { border-bottom-style: solid !important; border-bottom-width: 2px !important; border-bottom-color: #D3D3D3 !important; }\n",
       " #zmenjpespp .gt_col_headings { border-top-style: solid !important; border-top-width: 2px !important; border-top-color: #D3D3D3 !important; border-bottom-style: solid !important; border-bottom-width: 2px !important; border-bottom-color: #D3D3D3 !important; border-left-style: none !important; border-left-width: 1px !important; border-left-color: #D3D3D3 !important; border-right-style: none !important; border-right-width: 1px !important; border-right-color: #D3D3D3 !important; }\n",
       " #zmenjpespp .gt_col_heading { color: #333333 !important; background-color: #FFFFFF !important; font-size: 100% !important; font-weight: normal !important; text-transform: inherit !important; border-left-style: none !important; border-left-width: 1px !important; border-left-color: #D3D3D3 !important; border-right-style: none !important; border-right-width: 1px !important; border-right-color: #D3D3D3 !important; vertical-align: bottom !important; padding-top: 5px !important; padding-bottom: 5px !important; padding-left: 5px !important; padding-right: 5px !important; overflow-x: hidden !important; }\n",
       " #zmenjpespp .gt_column_spanner_outer { color: #333333 !important; background-color: #FFFFFF !important; font-size: 100% !important; font-weight: normal !important; text-transform: inherit !important; padding-top: 0 !important; padding-bottom: 0 !important; padding-left: 4px !important; padding-right: 4px !important; }\n",
       " #zmenjpespp .gt_column_spanner_outer:first-child { padding-left: 0 !important; }\n",
       " #zmenjpespp .gt_column_spanner_outer:last-child { padding-right: 0 !important; }\n",
       " #zmenjpespp .gt_column_spanner { border-bottom-style: solid !important; border-bottom-width: 2px !important; border-bottom-color: #D3D3D3 !important; vertical-align: bottom !important; padding-top: 5px !important; padding-bottom: 5px !important; overflow-x: hidden !important; display: inline-block !important; width: 100% !important; }\n",
       " #zmenjpespp .gt_spanner_row { border-bottom-style: hidden !important; }\n",
       " #zmenjpespp .gt_group_heading { padding-top: 8px !important; padding-bottom: 8px !important; padding-left: 5px !important; padding-right: 5px !important; color: #333333 !important; background-color: #FFFFFF !important; font-size: 100% !important; font-weight: initial !important; text-transform: inherit !important; border-top-style: solid !important; border-top-width: 2px !important; border-top-color: #D3D3D3 !important; border-bottom-style: solid !important; border-bottom-width: 2px !important; border-bottom-color: #D3D3D3 !important; border-left-style: none !important; border-left-width: 1px !important; border-left-color: #D3D3D3 !important; border-right-style: none !important; border-right-width: 1px !important; border-right-color: #D3D3D3 !important; vertical-align: middle !important; text-align: left !important; }\n",
       " #zmenjpespp .gt_empty_group_heading { padding: 0.5px !important; color: #333333 !important; background-color: #FFFFFF !important; font-size: 100% !important; font-weight: initial !important; border-top-style: solid !important; border-top-width: 2px !important; border-top-color: #D3D3D3 !important; border-bottom-style: solid !important; border-bottom-width: 2px !important; border-bottom-color: #D3D3D3 !important; vertical-align: middle !important; }\n",
       " #zmenjpespp .gt_from_md> :first-child { margin-top: 0 !important; }\n",
       " #zmenjpespp .gt_from_md> :last-child { margin-bottom: 0 !important; }\n",
       " #zmenjpespp .gt_row { padding-top: 8px !important; padding-bottom: 8px !important; padding-left: 5px !important; padding-right: 5px !important; margin: 10px !important; border-top-style: solid !important; border-top-width: 1px !important; border-top-color: #D3D3D3 !important; border-left-style: none !important; border-left-width: 1px !important; border-left-color: #D3D3D3 !important; border-right-style: none !important; border-right-width: 1px !important; border-right-color: #D3D3D3 !important; vertical-align: middle !important; overflow-x: hidden !important; }\n",
       " #zmenjpespp .gt_stub { color: #333333 !important; background-color: #FFFFFF !important; font-size: 100% !important; font-weight: initial !important; text-transform: inherit !important; border-right-style: solid !important; border-right-width: 2px !important; border-right-color: #D3D3D3 !important; padding-left: 5px !important; padding-right: 5px !important; }\n",
       " #zmenjpespp .gt_stub_row_group { color: #333333 !important; background-color: #FFFFFF !important; font-size: 100% !important; font-weight: initial !important; text-transform: inherit !important; border-right-style: solid !important; border-right-width: 2px !important; border-right-color: #D3D3D3 !important; padding-left: 5px !important; padding-right: 5px !important; vertical-align: top !important; }\n",
       " #zmenjpespp .gt_row_group_first td { border-top-width: 2px !important; }\n",
       " #zmenjpespp .gt_row_group_first th { border-top-width: 2px !important; }\n",
       " #zmenjpespp .gt_table_body { border-top-style: solid !important; border-top-width: 2px !important; border-top-color: #D3D3D3 !important; border-bottom-style: solid !important; border-bottom-width: 2px !important; border-bottom-color: #D3D3D3 !important; }\n",
       " #zmenjpespp .gt_sourcenotes { color: #333333 !important; background-color: #FFFFFF !important; border-bottom-style: none !important; border-bottom-width: 2px !important; border-bottom-color: #D3D3D3 !important; border-left-style: none !important; border-left-width: 2px !important; border-left-color: #D3D3D3 !important; border-right-style: none !important; border-right-width: 2px !important; border-right-color: #D3D3D3 !important; }\n",
       " #zmenjpespp .gt_sourcenote { font-size: 90% !important; padding-top: 4px !important; padding-bottom: 4px !important; padding-left: 5px !important; padding-right: 5px !important; text-align: left !important; }\n",
       " #zmenjpespp .gt_left { text-align: left !important; }\n",
       " #zmenjpespp .gt_center { text-align: center !important; }\n",
       " #zmenjpespp .gt_right { text-align: right !important; font-variant-numeric: tabular-nums !important; }\n",
       " #zmenjpespp .gt_font_normal { font-weight: normal !important; }\n",
       " #zmenjpespp .gt_font_bold { font-weight: bold !important; }\n",
       " #zmenjpespp .gt_font_italic { font-style: italic !important; }\n",
       " #zmenjpespp .gt_super { font-size: 65% !important; }\n",
       " #zmenjpespp .gt_footnote_marks { font-size: 75% !important; vertical-align: 0.4em !important; position: initial !important; }\n",
       " #zmenjpespp .gt_asterisk { font-size: 100% !important; vertical-align: 0 !important; }\n",
       " \n",
       "</style>\n",
       "<table class=\"gt_table\" data-quarto-disable-processing=\"false\" data-quarto-bootstrap=\"false\">\n",
       "<thead>\n",
       "\n",
       "<tr class=\"gt_col_headings\">\n",
       "  <th class=\"gt_col_heading gt_columns_bottom_border gt_left\" rowspan=\"1\" colspan=\"1\" scope=\"col\" id=\"varietal\">varietal</th>\n",
       "  <th class=\"gt_col_heading gt_columns_bottom_border gt_right\" rowspan=\"1\" colspan=\"1\" scope=\"col\" id=\"count\">count</th>\n",
       "  <th class=\"gt_col_heading gt_columns_bottom_border gt_left\" rowspan=\"1\" colspan=\"1\" scope=\"col\" id=\"varietal\">varietal</th>\n",
       "  <th class=\"gt_col_heading gt_columns_bottom_border gt_right\" rowspan=\"1\" colspan=\"1\" scope=\"col\" id=\"count\">count</th>\n",
       "</tr>\n",
       "</thead>\n",
       "<tbody class=\"gt_table_body\">\n",
       "  <tr>\n",
       "    <td class=\"gt_row gt_left\">cabernet sauvignon</td>\n",
       "    <td class=\"gt_row gt_right\">2</td>\n",
       "    <td class=\"gt_row gt_left\">pinot grigio</td>\n",
       "    <td class=\"gt_row gt_right\">1</td>\n",
       "  </tr>\n",
       "  <tr>\n",
       "    <td class=\"gt_row gt_left\">cabernet-shiraz blend</td>\n",
       "    <td class=\"gt_row gt_right\">1</td>\n",
       "    <td class=\"gt_row gt_left\">pinot noir</td>\n",
       "    <td class=\"gt_row gt_right\">11</td>\n",
       "  </tr>\n",
       "  <tr>\n",
       "    <td class=\"gt_row gt_left\">carricante</td>\n",
       "    <td class=\"gt_row gt_right\">2</td>\n",
       "    <td class=\"gt_row gt_left\">red blend</td>\n",
       "    <td class=\"gt_row gt_right\">2</td>\n",
       "  </tr>\n",
       "  <tr>\n",
       "    <td class=\"gt_row gt_left\">catarratto</td>\n",
       "    <td class=\"gt_row gt_right\">1</td>\n",
       "    <td class=\"gt_row gt_left\">red bordeaux blend</td>\n",
       "    <td class=\"gt_row gt_right\">6</td>\n",
       "  </tr>\n",
       "  <tr>\n",
       "    <td class=\"gt_row gt_left\">chardonnay</td>\n",
       "    <td class=\"gt_row gt_right\">7</td>\n",
       "    <td class=\"gt_row gt_left\">red rhone blend</td>\n",
       "    <td class=\"gt_row gt_right\">2</td>\n",
       "  </tr>\n",
       "  <tr>\n",
       "    <td class=\"gt_row gt_left\">chardonnay blend</td>\n",
       "    <td class=\"gt_row gt_right\">1</td>\n",
       "    <td class=\"gt_row gt_left\">riesling</td>\n",
       "    <td class=\"gt_row gt_right\">5</td>\n",
       "  </tr>\n",
       "  <tr>\n",
       "    <td class=\"gt_row gt_left\">chenin blanc</td>\n",
       "    <td class=\"gt_row gt_right\">2</td>\n",
       "    <td class=\"gt_row gt_left\">rosé blend</td>\n",
       "    <td class=\"gt_row gt_right\">1</td>\n",
       "  </tr>\n",
       "  <tr>\n",
       "    <td class=\"gt_row gt_left\">gamay</td>\n",
       "    <td class=\"gt_row gt_right\">5</td>\n",
       "    <td class=\"gt_row gt_left\">roussanne</td>\n",
       "    <td class=\"gt_row gt_right\">1</td>\n",
       "  </tr>\n",
       "  <tr>\n",
       "    <td class=\"gt_row gt_left\">garganega</td>\n",
       "    <td class=\"gt_row gt_right\">1</td>\n",
       "    <td class=\"gt_row gt_left\">sangiovese</td>\n",
       "    <td class=\"gt_row gt_right\">3</td>\n",
       "  </tr>\n",
       "  <tr>\n",
       "    <td class=\"gt_row gt_left\">grenache</td>\n",
       "    <td class=\"gt_row gt_right\">2</td>\n",
       "    <td class=\"gt_row gt_left\">sangiovese blend</td>\n",
       "    <td class=\"gt_row gt_right\">1</td>\n",
       "  </tr>\n",
       "  <tr>\n",
       "    <td class=\"gt_row gt_left\">grenache blend</td>\n",
       "    <td class=\"gt_row gt_right\">1</td>\n",
       "    <td class=\"gt_row gt_left\">shiraz</td>\n",
       "    <td class=\"gt_row gt_right\">11</td>\n",
       "  </tr>\n",
       "  <tr>\n",
       "    <td class=\"gt_row gt_left\">grolleau</td>\n",
       "    <td class=\"gt_row gt_right\">3</td>\n",
       "    <td class=\"gt_row gt_left\">shiraz blend</td>\n",
       "    <td class=\"gt_row gt_right\">3</td>\n",
       "  </tr>\n",
       "  <tr>\n",
       "    <td class=\"gt_row gt_left\">malbec</td>\n",
       "    <td class=\"gt_row gt_right\">5</td>\n",
       "    <td class=\"gt_row gt_left\">supertuscan blend</td>\n",
       "    <td class=\"gt_row gt_right\">2</td>\n",
       "  </tr>\n",
       "  <tr>\n",
       "    <td class=\"gt_row gt_left\">merlot</td>\n",
       "    <td class=\"gt_row gt_right\">1</td>\n",
       "    <td class=\"gt_row gt_left\">syrah</td>\n",
       "    <td class=\"gt_row gt_right\">2</td>\n",
       "  </tr>\n",
       "  <tr>\n",
       "    <td class=\"gt_row gt_left\">nebbiolo</td>\n",
       "    <td class=\"gt_row gt_right\">5</td>\n",
       "    <td class=\"gt_row gt_left\">tempranillo blend</td>\n",
       "    <td class=\"gt_row gt_right\">1</td>\n",
       "  </tr>\n",
       "  <tr>\n",
       "    <td class=\"gt_row gt_left\">nerello blend</td>\n",
       "    <td class=\"gt_row gt_right\">1</td>\n",
       "    <td class=\"gt_row gt_left\">white blend</td>\n",
       "    <td class=\"gt_row gt_right\">3</td>\n",
       "  </tr>\n",
       "</tbody>\n",
       "\n",
       "\n",
       "</table>\n",
       "\n",
       "</div>\n",
       "        "
      ],
      "text/plain": [
       "GT(_tbl_data=shape: (16, 4)\n",
       "┌───────────────────────┬───────┬────────────────────┬─────────┐\n",
       "│ varietal              ┆ count ┆ varietal_1         ┆ count_1 │\n",
       "│ ---                   ┆ ---   ┆ ---                ┆ ---     │\n",
       "│ str                   ┆ i64   ┆ str                ┆ i64     │\n",
       "╞═══════════════════════╪═══════╪════════════════════╪═════════╡\n",
       "│ cabernet sauvignon    ┆ 2     ┆ pinot grigio       ┆ 1       │\n",
       "│ cabernet-shiraz blend ┆ 1     ┆ pinot noir         ┆ 11      │\n",
       "│ carricante            ┆ 2     ┆ red blend          ┆ 2       │\n",
       "│ catarratto            ┆ 1     ┆ red bordeaux blend ┆ 6       │\n",
       "│ chardonnay            ┆ 7     ┆ red rhone blend    ┆ 2       │\n",
       "│ …                     ┆ …     ┆ …                  ┆ …       │\n",
       "│ grolleau              ┆ 3     ┆ shiraz blend       ┆ 3       │\n",
       "│ malbec                ┆ 5     ┆ supertuscan blend  ┆ 2       │\n",
       "│ merlot                ┆ 1     ┆ syrah              ┆ 2       │\n",
       "│ nebbiolo              ┆ 5     ┆ tempranillo blend  ┆ 1       │\n",
       "│ nerello blend         ┆ 1     ┆ white blend        ┆ 3       │\n",
       "└───────────────────────┴───────┴────────────────────┴─────────┘, _body=<great_tables._gt_data.Body object at 0x1667e7470>, _boxhead=Boxhead([ColInfo(var='varietal', type=<ColInfoTypeEnum.default: 1>, column_label='varietal', column_align='left', column_width=None), ColInfo(var='count', type=<ColInfoTypeEnum.default: 1>, column_label='count', column_align='right', column_width=None), ColInfo(var='varietal_1', type=<ColInfoTypeEnum.default: 1>, column_label=Html(text='varietal'), column_align='left', column_width=None), ColInfo(var='count_1', type=<ColInfoTypeEnum.default: 1>, column_label=Html(text='count'), column_align='right', column_width=None)]), _stub=<great_tables._gt_data.Stub object at 0x16ae2dee0>, _spanners=Spanners([]), _heading=Heading(title=None, subtitle=None, preheader=None), _stubhead=None, _source_notes=[], _footnotes=[], _styles=[], _locale=<great_tables._gt_data.Locale object at 0x16ae2d2e0>, _formats=[], _substitutions=[], _options=Options(table_id=OptionsInfo(scss=False, category='table', type='value', value=None), table_caption=OptionsInfo(scss=False, category='table', type='value', value=None), table_width=OptionsInfo(scss=True, category='table', type='px', value='auto'), table_layout=OptionsInfo(scss=True, category='table', type='value', value='fixed'), table_margin_left=OptionsInfo(scss=True, category='table', type='px', value='auto'), table_margin_right=OptionsInfo(scss=True, category='table', type='px', value='auto'), table_background_color=OptionsInfo(scss=True, category='table', type='value', value='#FFFFFF'), table_font_names=OptionsInfo(scss=False, category='table', type='values', value=['-apple-system', 'BlinkMacSystemFont', 'Segoe UI', 'Roboto', 'Oxygen', 'Ubuntu', 'Cantarell', 'Helvetica Neue', 'Fira Sans', 'Droid Sans', 'Arial', 'sans-serif']), table_font_size=OptionsInfo(scss=True, category='table', type='px', value='16px'), table_font_weight=OptionsInfo(scss=True, category='table', type='value', value='normal'), table_font_style=OptionsInfo(scss=True, category='table', type='value', value='normal'), table_font_color=OptionsInfo(scss=True, category='table', type='value', value='#333333'), table_font_color_light=OptionsInfo(scss=True, category='table', type='value', value='#FFFFFF'), table_border_top_include=OptionsInfo(scss=False, category='table', type='boolean', value=True), table_border_top_style=OptionsInfo(scss=True, category='table', type='value', value='solid'), table_border_top_width=OptionsInfo(scss=True, category='table', type='px', value='2px'), table_border_top_color=OptionsInfo(scss=True, category='table', type='value', value='#A8A8A8'), table_border_right_style=OptionsInfo(scss=True, category='table', type='value', value='none'), table_border_right_width=OptionsInfo(scss=True, category='table', type='px', value='2px'), table_border_right_color=OptionsInfo(scss=True, category='table', type='value', value='#D3D3D3'), table_border_bottom_include=OptionsInfo(scss=False, category='table', type='boolean', value=True), table_border_bottom_style=OptionsInfo(scss=True, category='table', type='value', value='solid'), table_border_bottom_width=OptionsInfo(scss=True, category='table', type='px', value='2px'), table_border_bottom_color=OptionsInfo(scss=True, category='table', type='value', value='#A8A8A8'), table_border_left_style=OptionsInfo(scss=True, category='table', type='value', value='none'), table_border_left_width=OptionsInfo(scss=True, category='table', type='px', value='2px'), table_border_left_color=OptionsInfo(scss=True, category='table', type='value', value='#D3D3D3'), heading_background_color=OptionsInfo(scss=True, category='heading', type='value', value=None), heading_align=OptionsInfo(scss=True, category='heading', type='value', value='center'), heading_title_font_size=OptionsInfo(scss=True, category='heading', type='px', value='125%'), heading_title_font_weight=OptionsInfo(scss=True, category='heading', type='value', value='initial'), heading_subtitle_font_size=OptionsInfo(scss=True, category='heading', type='px', value='85%'), heading_subtitle_font_weight=OptionsInfo(scss=True, category='heading', type='value', value='initial'), heading_padding=OptionsInfo(scss=True, category='heading', type='px', value='4px'), heading_padding_horizontal=OptionsInfo(scss=True, category='heading', type='px', value='5px'), heading_border_bottom_style=OptionsInfo(scss=True, category='heading', type='value', value='solid'), heading_border_bottom_width=OptionsInfo(scss=True, category='heading', type='px', value='2px'), heading_border_bottom_color=OptionsInfo(scss=True, category='heading', type='value', value='#D3D3D3'), heading_border_lr_style=OptionsInfo(scss=True, category='heading', type='value', value='none'), heading_border_lr_width=OptionsInfo(scss=True, category='heading', type='px', value='1px'), heading_border_lr_color=OptionsInfo(scss=True, category='heading', type='value', value='#D3D3D3'), column_labels_background_color=OptionsInfo(scss=True, category='column_labels', type='value', value=None), column_labels_font_size=OptionsInfo(scss=True, category='column_labels', type='px', value='100%'), column_labels_font_weight=OptionsInfo(scss=True, category='column_labels', type='value', value='normal'), column_labels_text_transform=OptionsInfo(scss=True, category='column_labels', type='value', value='inherit'), column_labels_padding=OptionsInfo(scss=True, category='column_labels', type='px', value='5px'), column_labels_padding_horizontal=OptionsInfo(scss=True, category='column_labels', type='px', value='5px'), column_labels_vlines_style=OptionsInfo(scss=True, category='table_body', type='value', value='none'), column_labels_vlines_width=OptionsInfo(scss=True, category='table_body', type='px', value='1px'), column_labels_vlines_color=OptionsInfo(scss=True, category='table_body', type='value', value='#D3D3D3'), column_labels_border_top_style=OptionsInfo(scss=True, category='column_labels', type='value', value='solid'), column_labels_border_top_width=OptionsInfo(scss=True, category='column_labels', type='px', value='2px'), column_labels_border_top_color=OptionsInfo(scss=True, category='column_labels', type='value', value='#D3D3D3'), column_labels_border_bottom_style=OptionsInfo(scss=True, category='column_labels', type='value', value='solid'), column_labels_border_bottom_width=OptionsInfo(scss=True, category='column_labels', type='px', value='2px'), column_labels_border_bottom_color=OptionsInfo(scss=True, category='column_labels', type='value', value='#D3D3D3'), column_labels_border_lr_style=OptionsInfo(scss=True, category='column_labels', type='value', value='none'), column_labels_border_lr_width=OptionsInfo(scss=True, category='column_labels', type='px', value='1px'), column_labels_border_lr_color=OptionsInfo(scss=True, category='column_labels', type='value', value='#D3D3D3'), column_labels_hidden=OptionsInfo(scss=False, category='column_labels', type='boolean', value=False), row_group_background_color=OptionsInfo(scss=True, category='row_group', type='value', value=None), row_group_font_size=OptionsInfo(scss=True, category='row_group', type='px', value='100%'), row_group_font_weight=OptionsInfo(scss=True, category='row_group', type='value', value='initial'), row_group_text_transform=OptionsInfo(scss=True, category='row_group', type='value', value='inherit'), row_group_padding=OptionsInfo(scss=True, category='row_group', type='px', value='8px'), row_group_padding_horizontal=OptionsInfo(scss=True, category='row_group', type='px', value='5px'), row_group_border_top_style=OptionsInfo(scss=True, category='row_group', type='value', value='solid'), row_group_border_top_width=OptionsInfo(scss=True, category='row_group', type='px', value='2px'), row_group_border_top_color=OptionsInfo(scss=True, category='row_group', type='value', value='#D3D3D3'), row_group_border_right_style=OptionsInfo(scss=True, category='row_group', type='value', value='none'), row_group_border_right_width=OptionsInfo(scss=True, category='row_group', type='px', value='1px'), row_group_border_right_color=OptionsInfo(scss=True, category='row_group', type='value', value='#D3D3D3'), row_group_border_bottom_style=OptionsInfo(scss=True, category='row_group', type='value', value='solid'), row_group_border_bottom_width=OptionsInfo(scss=True, category='row_group', type='px', value='2px'), row_group_border_bottom_color=OptionsInfo(scss=True, category='row_group', type='value', value='#D3D3D3'), row_group_border_left_style=OptionsInfo(scss=True, category='row_group', type='value', value='none'), row_group_border_left_width=OptionsInfo(scss=True, category='row_group', type='px', value='1px'), row_group_border_left_color=OptionsInfo(scss=True, category='row_group', type='value', value='#D3D3D3'), row_group_as_column=OptionsInfo(scss=False, category='row_group', type='boolean', value=False), table_body_hlines_style=OptionsInfo(scss=True, category='table_body', type='value', value='solid'), table_body_hlines_width=OptionsInfo(scss=True, category='table_body', type='px', value='1px'), table_body_hlines_color=OptionsInfo(scss=True, category='table_body', type='value', value='#D3D3D3'), table_body_vlines_style=OptionsInfo(scss=True, category='table_body', type='value', value='none'), table_body_vlines_width=OptionsInfo(scss=True, category='table_body', type='px', value='1px'), table_body_vlines_color=OptionsInfo(scss=True, category='table_body', type='value', value='#D3D3D3'), table_body_border_top_style=OptionsInfo(scss=True, category='table_body', type='value', value='solid'), table_body_border_top_width=OptionsInfo(scss=True, category='table_body', type='px', value='2px'), table_body_border_top_color=OptionsInfo(scss=True, category='table_body', type='value', value='#D3D3D3'), table_body_border_bottom_style=OptionsInfo(scss=True, category='table_body', type='value', value='solid'), table_body_border_bottom_width=OptionsInfo(scss=True, category='table_body', type='px', value='2px'), table_body_border_bottom_color=OptionsInfo(scss=True, category='table_body', type='value', value='#D3D3D3'), data_row_padding=OptionsInfo(scss=True, category='data_row', type='px', value='8px'), data_row_padding_horizontal=OptionsInfo(scss=True, category='data_row', type='px', value='5px'), stub_background_color=OptionsInfo(scss=True, category='stub', type='value', value=None), stub_font_size=OptionsInfo(scss=True, category='stub', type='px', value='100%'), stub_font_weight=OptionsInfo(scss=True, category='stub', type='value', value='initial'), stub_text_transform=OptionsInfo(scss=True, category='stub', type='value', value='inherit'), stub_border_style=OptionsInfo(scss=True, category='stub', type='value', value='solid'), stub_border_width=OptionsInfo(scss=True, category='stub', type='px', value='2px'), stub_border_color=OptionsInfo(scss=True, category='stub', type='value', value='#D3D3D3'), stub_row_group_background_color=OptionsInfo(scss=True, category='stub', type='value', value=None), stub_row_group_font_size=OptionsInfo(scss=True, category='stub', type='px', value='100%'), stub_row_group_font_weight=OptionsInfo(scss=True, category='stub', type='value', value='initial'), stub_row_group_text_transform=OptionsInfo(scss=True, category='stub', type='value', value='inherit'), stub_row_group_border_style=OptionsInfo(scss=True, category='stub', type='value', value='solid'), stub_row_group_border_width=OptionsInfo(scss=True, category='stub', type='px', value='2px'), stub_row_group_border_color=OptionsInfo(scss=True, category='stub', type='value', value='#D3D3D3'), source_notes_padding=OptionsInfo(scss=True, category='source_notes', type='px', value='4px'), source_notes_padding_horizontal=OptionsInfo(scss=True, category='source_notes', type='px', value='5px'), source_notes_background_color=OptionsInfo(scss=True, category='source_notes', type='value', value=None), source_notes_font_size=OptionsInfo(scss=True, category='source_notes', type='px', value='90%'), source_notes_border_bottom_style=OptionsInfo(scss=True, category='source_notes', type='value', value='none'), source_notes_border_bottom_width=OptionsInfo(scss=True, category='source_notes', type='px', value='2px'), source_notes_border_bottom_color=OptionsInfo(scss=True, category='source_notes', type='value', value='#D3D3D3'), source_notes_border_lr_style=OptionsInfo(scss=True, category='source_notes', type='value', value='none'), source_notes_border_lr_width=OptionsInfo(scss=True, category='source_notes', type='px', value='2px'), source_notes_border_lr_color=OptionsInfo(scss=True, category='source_notes', type='value', value='#D3D3D3'), source_notes_multiline=OptionsInfo(scss=False, category='source_notes', type='boolean', value=True), source_notes_sep=OptionsInfo(scss=False, category='source_notes', type='value', value=' '), container_width=OptionsInfo(scss=False, category='container', type='px', value='auto'), container_height=OptionsInfo(scss=False, category='container', type='px', value='auto'), container_padding_x=OptionsInfo(scss=False, category='container', type='px', value='0px'), container_padding_y=OptionsInfo(scss=False, category='container', type='px', value='10px'), container_overflow_x=OptionsInfo(scss=False, category='container', type='overflow', value='auto'), container_overflow_y=OptionsInfo(scss=False, category='container', type='overflow', value='auto'), quarto_disable_processing=OptionsInfo(scss=False, category='quarto', type='logical', value=False), quarto_use_bootstrap=OptionsInfo(scss=False, category='quarto', type='logical', value=False)), _has_built=False)"
      ]
     },
     "execution_count": 18,
     "metadata": {},
     "output_type": "execute_result"
    }
   ],
   "source": [
    "from great_tables import GT, md, html\n",
    "\n",
    "varietal_counts_tbl = con.sql(\n",
    "\"\"\"--sql\n",
    "WITH \n",
    "    agg AS (\n",
    "        SELECT\n",
    "            varietal,\n",
    "            count(varietal) as count,\n",
    "        FROM\n",
    "            sm\n",
    "        GROUP BY \n",
    "            varietal\n",
    "        order by\n",
    "            varietal\n",
    "    ),\n",
    "    tiled AS (\n",
    "        SELECT\n",
    "            ntile(2) OVER (ORDER BY varietal) as col,  \n",
    "            *\n",
    "        FROM\n",
    "            agg\n",
    "        ),\n",
    "    row_nummed AS (\n",
    "        SELECT\n",
    "            row_number() OVER (PARTITION BY col ORDER BY varietal) as row_num,\n",
    "            *\n",
    "        FROM\n",
    "            tiled\n",
    "        ),\n",
    "    col_1 AS (\n",
    "        SELECT\n",
    "            *,\n",
    "        FROM\n",
    "            row_nummed\n",
    "        WHERE\n",
    "            col = 1\n",
    "        ),\n",
    "    col_2 AS (\n",
    "        SELECT\n",
    "            *,\n",
    "        FROM\n",
    "            row_nummed\n",
    "        WHERE\n",
    "            col = 2\n",
    "        ),\n",
    "    joined AS (\n",
    "        SELECT\n",
    "            *\n",
    "        FROM\n",
    "            col_1 as col1\n",
    "        JOIN\n",
    "            col_2 as col2\n",
    "        USING\n",
    "            (row_num)\n",
    "        ORDER BY\n",
    "            row_num\n",
    "            \n",
    "        )\n",
    "SELECT\n",
    "    * EXCLUDE (col, row_num, col_1)\n",
    "FROM\n",
    "    joined\n",
    "\"\"\"\n",
    ").pl()\n",
    "varietal_counts_tbl.pipe(GT).cols_label(\n",
    "    varietal_1=html('varietal'),\n",
    "    count_1=html('count')\n",
    ")\n"
   ]
  }
 ],
 "metadata": {
  "kernelspec": {
   "display_name": "pca-analysis-6KQS4gUX-py3.12",
   "language": "python",
   "name": "python3"
  },
  "language_info": {
   "codemirror_mode": {
    "name": "ipython",
    "version": 3
   },
   "file_extension": ".py",
   "mimetype": "text/x-python",
   "name": "python",
   "nbconvert_exporter": "python",
   "pygments_lexer": "ipython3",
   "version": "3.12.2"
  }
 },
 "nbformat": 4,
 "nbformat_minor": 2
}
