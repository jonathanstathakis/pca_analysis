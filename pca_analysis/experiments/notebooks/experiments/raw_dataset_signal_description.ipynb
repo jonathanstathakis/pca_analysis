{
 "cells": [
  {
   "cell_type": "markdown",
   "metadata": {},
   "source": [
    "---\n",
    "cdt: 2024-09-09T13:41:13\n",
    "title: Description of Raw Dataset Signal Profile over Samples\n",
    "project: raw_dataset_EDA\n",
    "description: an observation of the features of the raw dataset\n",
    "conclusion: samplewise, the chromatographic profile varies significantly. There is are key peak regions at (idx) (0, 600), ~1200. Minor clustering follows throughout. Baseline rises and falls throughout profile, returns to origin at ~6300. Wavelength profile steeply drops after 190, same profile for all bin ranges, thus no wavelength range is specific to any bin region.\n",
    "---"
   ]
  },
  {
   "cell_type": "code",
   "execution_count": null,
   "metadata": {},
   "outputs": [],
   "source": [
    "%reload_ext autoreload\n",
    "%autoreload 2\n",
    "\n",
    "import duckdb as db\n",
    "import polars as pl\n",
    "from pca_analysis.experiments.constants import db_path\n",
    "\n",
    "con = db.connect(db_path, read_only=True)\n"
   ]
  },
  {
   "cell_type": "markdown",
   "metadata": {},
   "source": [
    "This document contains a description of the raw dataset.\n"
   ]
  },
  {
   "cell_type": "markdown",
   "metadata": {},
   "source": [
    "# Chromatographic Profile @ 256 nm\n"
   ]
  },
  {
   "cell_type": "code",
   "execution_count": null,
   "metadata": {},
   "outputs": [],
   "source": [
    "import holoviews as hv\n",
    "\n",
    "included_samples = \\\n",
    "con.sql(\n",
    "\"\"\"--sql\n",
    "SELECT\n",
    "    *\n",
    "FROM\n",
    "    pbl.sample_metadata\n",
    "ANTI JOIN\n",
    "    (select sample_num from dataset_eda.excluded_samples)\n",
    "USING\n",
    "    (sample_num)\n",
    "\"\"\"\n",
    ").pl()\n",
    "\n",
    "raw_sample_selection = con.sql(\n",
    "\"\"\"--sql\n",
    "SELECT\n",
    "    *\n",
    "FROM\n",
    "    included_samples\n",
    "WHERE\n",
    "    detection = 'raw'\n",
    "USING\n",
    "    SAMPLE reservoir(15 rows) repeatable (42)\n",
    "\"\"\"\n",
    ").pl()\n",
    "\n",
    "raw_signals_256 = con.sql(\n",
    "\"\"\"--sql\n",
    "WITH\n",
    "    raw_signals_256 AS (\n",
    "            SELECT\n",
    "                *\n",
    "            FROM\n",
    "                pbl.chromatogram_spectra_long as cs\n",
    "            JOIN\n",
    "                raw_sample_selection\n",
    "            USING\n",
    "                (id)\n",
    "            WHERE\n",
    "                cs.wavelength = 256\n",
    "            ORDER BY\n",
    "                sample_num, cs.idx\n",
    "    )\n",
    "SELECT\n",
    "    *\n",
    "FROM\n",
    "    raw_signals_256\n",
    "\"\"\"\n",
    ").pl()\n",
    "\n",
    "sample_plot_256 = \\\n",
    "(\n",
    "    raw_signals_256\n",
    "        .plot(x='idx',y='absorbance',by='sample_num', title='absorbance vs. time for samples @ 256 nm', legend=False, height =500, width =1000)\n",
    ")\n",
    "sample_plot_256\n"
   ]
  },
  {
   "cell_type": "markdown",
   "metadata": {},
   "source": [
    "Every analyte in every sample elutes by 4100. We can place bins at 110, 630, 1200, 1800, 3000, 4200."
   ]
  },
  {
   "cell_type": "markdown",
   "metadata": {},
   "source": [
    "# Binned Sample Aggregations Across Wavelengths\n"
   ]
  },
  {
   "cell_type": "code",
   "execution_count": null,
   "metadata": {},
   "outputs": [],
   "source": [
    "# binning\n",
    "\n",
    "max_idx = con.sql(\n",
    "\"\"\"--sql\n",
    "SELECT\n",
    "    max(idx)\n",
    "FROM\n",
    "    pbl.chromatogram_spectra_long\n",
    "JOIN\n",
    "    included_samples\n",
    "USING\n",
    "    (id)\n",
    "WHERE\n",
    "    detection = 'raw'\n",
    "\"\"\"\n",
    ").pl().item()\n",
    "\n",
    "idx = pl.DataFrame(pl.arange(0, max_idx, 1, eager=True).rename('idx'))\n",
    "\n",
    "raw_binned_idx = con.sql(\n",
    "\"\"\"--sql\n",
    "SELECT\n",
    "    idx,\n",
    "    CASE\n",
    "    WHEN idx < 110 THEN 0\n",
    "    WHEN idx BETWEEN 110 AND 630 THEN 1\n",
    "    WHEN idx BETWEEN 630 AND 1200 THEN 2\n",
    "    WHEN idx BETWEEN 1200 and 1800 THEN  3\n",
    "    WHEN idx BETWEEN 1800 and 3000 THEN 4\n",
    "    WHEN idx BETWEEN 3000 and 4200 THEN 5\n",
    "    WHEN idx > 4200 THEN 6\n",
    "    END\n",
    "    as bin\n",
    "    FROM\n",
    "        idx\n",
    "\"\"\").pl()\n",
    "\n",
    "raw_samples_binned = (con.sql(\n",
    "\"\"\"--sql\n",
    "WITH\n",
    "    raw_samples_binned AS (\n",
    "        SELECT\n",
    "            *\n",
    "        FROM\n",
    "            raw_signals_256\n",
    "        JOIN\n",
    "            raw_binned_idx\n",
    "        USING\n",
    "            (idx)\n",
    "        ORDER BY\n",
    "            sample_num, idx\n",
    "    )\n",
    "SELECT\n",
    "    *\n",
    "FROM\n",
    "    raw_samples_binned\n",
    "\n",
    "\"\"\")\n",
    ")\n",
    "\n",
    "bins = con.sql(\n",
    "\"\"\"--sql\n",
    "SELECT\n",
    "    max(idx) as bin_end,\n",
    "FROM\n",
    "    (\n",
    "        SELECT\n",
    "            bin,\n",
    "            idx\n",
    "        FROM\n",
    "            raw_samples_binned\n",
    "        JOIN\n",
    "            (\n",
    "                SELECT\n",
    "                    first(sample_num) AS sample_num\n",
    "                FROM\n",
    "                    raw_samples_binned\n",
    "            )\n",
    "        USING\n",
    "            (sample_num)\n",
    "    )\n",
    "GROUP BY\n",
    "    bin\n",
    "HAVING\n",
    "-- skip last bin because we're only plotting the ends\n",
    "bin < 6\n",
    "\"\"\").pl().pipe(hv.VLines).opts(line_dash='dashed', line_width=1)\n",
    "\n",
    "bins * sample_plot_256\n"
   ]
  },
  {
   "cell_type": "markdown",
   "metadata": {},
   "source": [
    "Now that representative bins have been selected, we can observe across wavelengths. in the intrest of efficiency, we can increase the granularity to 10 nm between observations.\n"
   ]
  },
  {
   "cell_type": "code",
   "execution_count": null,
   "metadata": {},
   "outputs": [],
   "source": [
    "wavelength_selection = pl.DataFrame(\n",
    "    pl.arange(190, 620, 20, eager=True).rename('wavelength')\n",
    "    )\n",
    "wavelength_selection\n"
   ]
  },
  {
   "cell_type": "code",
   "execution_count": null,
   "metadata": {},
   "outputs": [],
   "source": [
    "# get the granular expression of the samples\n",
    "\n",
    "raw_signals_granular = con.sql(\n",
    "\"\"\"--sql\n",
    "SELECT\n",
    "    *,\n",
    "    ntile(50) OVER (ORDER BY wavelength) as wavelength_group\n",
    "FROM\n",
    "    pbl.chromatogram_spectra_long\n",
    "JOIN\n",
    "    raw_sample_selection\n",
    "USING\n",
    "    (id)\n",
    "WHERE\n",
    "    wavelength in (SELECT (wavelength) FROM wavelength_selection)\n",
    "ORDER BY\n",
    "    sample_num, wavelength,idx\n",
    "\"\"\"\n",
    ").pl()\n"
   ]
  },
  {
   "cell_type": "code",
   "execution_count": null,
   "metadata": {},
   "outputs": [],
   "source": [
    "# get the granular expression of the samples. For each wavelength, aggregate into n groups \n",
    "\n",
    "con.sql(\n",
    "\"\"\"--sql\n",
    "WITH\n",
    "    grouped_wavelength AS (\n",
    "        SELECT\n",
    "            -- break the wavelengths into groups for later aggregation\n",
    "            ntile(50) OVER (ORDER BY wavelength) as wavelength_group\n",
    "        FROM\n",
    "            -- the spectrochromato data\n",
    "            pbl.chromatogram_spectra_long\n",
    "        JOIN\n",
    "            -- the sample nums in the sample\n",
    "            raw_sample_selection\n",
    "        USING\n",
    "            (id)\n",
    "        WHERE\n",
    "            wavelength in (SELECT (wavelength) FROM wavelength_selection)\n",
    "        ORDER BY\n",
    "            sample_num, wavelength\n",
    "    )\n",
    "SELECT\n",
    "    *,\n",
    "    mean(absorbance) as absorbance\n",
    "FROM\n",
    "    grouped_wavelength\n",
    "GROUP BY\n",
    "    sample_num, wavelength\n",
    "ORDER BY\n",
    "    sample_num, wavelength\n",
    "LIMIT 10\n",
    "\"\"\"\n",
    ").pl()\n"
   ]
  },
  {
   "cell_type": "code",
   "execution_count": null,
   "metadata": {},
   "outputs": [],
   "source": [
    "# add the bins\n"
   ]
  },
  {
   "cell_type": "code",
   "execution_count": null,
   "metadata": {},
   "outputs": [],
   "source": [
    "raw_bin_aggs = con.sql(\n",
    "\"\"\"--sql\n",
    "SELECT\n",
    "    bin,\n",
    "    wavelength,\n",
    "    mean(absorbance) as absorbance\n",
    "FROM\n",
    "    raw_signals_granular\n",
    "JOIN\n",
    "    raw_binned_idx\n",
    "USING\n",
    "    (idx)\n",
    "GROUP BY\n",
    "    bin, wavelength\n",
    "ORDER BY\n",
    "    bin, wavelength\n",
    "\"\"\").pl()\n",
    "\n",
    "raw_bin_aggs.plot(x='wavelength',y='absorbance',by='bin', title='raw sample absorbance v. wavelength over time bins aggregated across samples')\n"
   ]
  },
  {
   "cell_type": "markdown",
   "metadata": {},
   "source": [
    "As we can see, the profile is consistant across the wavelengths and time bins, however this in itself is not evidence for 256 being the optimal observance wavelength, as if this was the only evidence, then the conclusion would be that ~ 200 nm would be optimal. We do however know *a priori* that these wavelengths are dominated by the solvent background, and that ~ 256 nm contains the most prominent signals."
   ]
  },
  {
   "cell_type": "markdown",
   "metadata": {},
   "source": [
    "### Results\n",
    "\n",
    "The profiles at 256 nm can be described as possesing two major clusters within the first 600 indexes, and a third cluster by 1252, depending on the sample. Following this, the baseline reaches a maximum at ~ 1800, with minor peak clusters throughout, and some samples possess a significant cluster at ~3200 and ~3800. By ~4200 the baseline has returned to origin for all samples observed. There is an notable rise at 6200 which can presumably be attributed to the 100% methanol purge.\n"
   ]
  },
  {
   "cell_type": "markdown",
   "metadata": {},
   "source": [
    "### Conclusions\n",
    "\n",
    "The chromatographic profile at 256nm across samples and a sample aggregation across manually defined time bins across all wavelengths were observed.\n",
    "\n",
    "The chromatographic profile varies significantly by sample but can be summarised as possessing a key peak region between idx 0 and 600, followed by a third at ~1200. Clusters occur throughout the remainder of the elution profile with some samples possesing key clusters at ~3200 and ~3800. The baseline rises slowly after the first cluster reaching a maximum around 1800 before returning to origin at ~4200. There is a feature attributable to the methanol purge at ~6300. See the description of the experimental design for more information.\n",
    "\n",
    "Regarding the aggregated spectral profile, we found that it is consistent across the selected time bins, meaning that no wavelength is superior for a given time range. It is however difficult to determine an optimal observation wavelength for all samples  and times from aggregated spectral profiles alone as no distinct maxima occurs.\n"
   ]
  }
 ],
 "metadata": {
  "kernelspec": {
   "display_name": "pca-analysis-6KQS4gUX-py3.12",
   "language": "python",
   "name": "python3"
  },
  "language_info": {
   "codemirror_mode": {
    "name": "ipython",
    "version": 3
   },
   "file_extension": ".py",
   "mimetype": "text/x-python",
   "name": "python",
   "nbconvert_exporter": "python",
   "pygments_lexer": "ipython3",
   "version": "3.12.2"
  }
 },
 "nbformat": 4,
 "nbformat_minor": 2
}
