{
 "cells": [
  {
   "cell_type": "markdown",
   "metadata": {},
   "source": [
    "---\n",
    "title: Samples Missing CT Metadata\n",
    "description: An observation of samples missing CT metadata across detection methods\n",
    "project: database_architecture\n",
    "cdt: 2024-09-11T10:38:52\n",
    "conclusion: 12 samples in total, 6 in each detection method, are missing their CT metadata. It will need to be remedied in the future.\n",
    "---"
   ]
  },
  {
   "cell_type": "markdown",
   "metadata": {},
   "source": [
    "[test](\"./samples_missing_ct_metadata.ipynb\")"
   ]
  },
  {
   "cell_type": "code",
   "execution_count": null,
   "metadata": {},
   "outputs": [],
   "source": [
    "%reload_ext autoreload\n",
    "%autoreload 2\n",
    "import duckdb as db\n",
    "import polars as pl\n",
    "from pca_analysis.experiments.constants import db_path\n",
    "from great_tables import GT\n",
    "pl.Config.set_tbl_rows(999).set_tbl_width_chars(2000).set_fmt_str_lengths(99999)\n",
    "\n",
    "con = db.connect(db_path)\n"
   ]
  },
  {
   "cell_type": "markdown",
   "metadata": {},
   "source": [
    "As we have discovered previously, a number of samples are missing CT metadata, thus making statements about sample characteristic distributions difficult. We will explore that phenomenon now: \n"
   ]
  },
  {
   "cell_type": "markdown",
   "metadata": {},
   "source": [
    "Number of 'raw' samples without ct metadata:\n"
   ]
  },
  {
   "cell_type": "code",
   "execution_count": null,
   "metadata": {},
   "outputs": [],
   "source": [
    "con.sql(\n",
    "\"\"\"--sql\n",
    "SELECT\n",
    "    *,\n",
    "    pk_ct\n",
    "FROM\n",
    "    joins.chm_st_ct as jt\n",
    "JOIN\n",
    "    clean.st as st\n",
    "ON\n",
    "    jt.pk_st = st.pk\n",
    "WHERE\n",
    "    clean.st.detection = 'raw'\n",
    "AND\n",
    "    pk_ct IS NULL\n",
    "\"\"\"\n",
    ").pl()\n"
   ]
  },
  {
   "cell_type": "markdown",
   "metadata": {},
   "source": [
    "There are 6 samples missing metadata. This has been noted in a previous notebook and those have already been added to the excluded list.\n"
   ]
  },
  {
   "cell_type": "markdown",
   "metadata": {},
   "source": [
    "'cuprac' samples without metadata:"
   ]
  },
  {
   "cell_type": "code",
   "execution_count": null,
   "metadata": {},
   "outputs": [],
   "source": [
    "con.sql(\n",
    "\"\"\"--sql\n",
    "SELECT\n",
    "    *,\n",
    "    pk_ct\n",
    "FROM\n",
    "    joins.chm_st_ct as jt\n",
    "JOIN\n",
    "    clean.st as st\n",
    "ON\n",
    "    jt.pk_st = st.pk\n",
    "WHERE\n",
    "    clean.st.detection = 'cuprac'\n",
    "AND\n",
    "    pk_ct IS NULL\n",
    "\"\"\"\n",
    ").pl()\n"
   ]
  },
  {
   "cell_type": "markdown",
   "metadata": {},
   "source": [
    "Coincidentally also 6. Can add these to the excluded list as well, at a later date. However downtrack it would be beneficial to complete the metadata.\n"
   ]
  }
 ],
 "metadata": {
  "kernelspec": {
   "display_name": "pca-analysis-6KQS4gUX-py3.12",
   "language": "python",
   "name": "python3"
  },
  "language_info": {
   "codemirror_mode": {
    "name": "ipython",
    "version": 3
   },
   "file_extension": ".py",
   "mimetype": "text/x-python",
   "name": "python",
   "nbconvert_exporter": "python",
   "pygments_lexer": "ipython3",
   "version": "3.12.2"
  }
 },
 "nbformat": 4,
 "nbformat_minor": 2
}
