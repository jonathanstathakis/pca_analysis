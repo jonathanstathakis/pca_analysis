{
 "cells": [
  {
   "cell_type": "markdown",
   "metadata": {},
   "source": [
    "---\n",
    "title: Samples Per Acquisition Method\n",
    "cdt: 2024-09-06T12:23:02\n",
    "description: \"An obervation of the number of samples, detection types, etc. over the acquision methods\"\n",
    "project: \"dataset_EDA\"\n",
    "---"
   ]
  },
  {
   "cell_type": "markdown",
   "metadata": {},
   "source": [
    "## Prepare All Metadata"
   ]
  },
  {
   "cell_type": "code",
   "execution_count": null,
   "metadata": {},
   "outputs": [],
   "source": [
    "import duckdb as db\n",
    "import polars as pl\n",
    "\n",
    "db_path = \"/Users/jonathan/mres_thesis/wine_analysis_hplc_uv/wines.db\"\n",
    "\n",
    "con = db.connect(db_path)\n"
   ]
  },
  {
   "cell_type": "code",
   "execution_count": null,
   "metadata": {},
   "outputs": [],
   "source": [
    "columns = con.sql(\n",
    "    \"\"\"\n",
    "    select\n",
    "        table_name,\n",
    "        column_name\n",
    "    FROM\n",
    "        information_schema.columns\n",
    "    WHERE\n",
    "        table_name = 'c_chemstation_metadata'\n",
    "    OR\n",
    "        table_name = 'chromatogram_spectra_long'\n",
    "    OR\n",
    "        table_name = 'c_sample_tracker'\n",
    "    \"\"\"\n",
    ").pl()\n",
    "columns.head()\n"
   ]
  },
  {
   "cell_type": "code",
   "execution_count": null,
   "metadata": {},
   "outputs": [],
   "source": [
    "\n",
    "for x in columns.filter(pl.col('table_name').eq('c_sample_tracker')).get_column('column_name').to_list():\n",
    "    print(f\"{x},\")\n"
   ]
  },
  {
   "cell_type": "code",
   "execution_count": null,
   "metadata": {},
   "outputs": [],
   "source": [
    "mta_st = con.sql(\n",
    "    \"\"\"\n",
    "    SELECT\n",
    "        mta.path,\n",
    "        mta.ch_samplecode,\n",
    "        mta.acq_date,\n",
    "        mta.acq_method,\n",
    "        mta.unit,\n",
    "        mta.signal,\n",
    "        mta.vendor,\n",
    "        mta.inj_vol,\n",
    "        mta.seq_name,\n",
    "        mta.seq_desc,\n",
    "        mta.id,\n",
    "        mta.desc,\n",
    "        mta.join_samplecode,\n",
    "        st.detection,\n",
    "        st.sampler,\n",
    "        st.samplecode,\n",
    "        st.vintage,\n",
    "        st.name,\n",
    "        st.open_date,\n",
    "        st.sampled_date,\n",
    "        st.added_to_cellartracker,\n",
    "        st.notes,\n",
    "        st.size,\n",
    "        st.ct_wine_name\n",
    "    FROM\n",
    "        c_chemstation_metadata mta\n",
    "    JOIN\n",
    "        c_sample_tracker st\n",
    "    ON\n",
    "        mta.join_samplecode = st.samplecode\n",
    "    ORDER BY\n",
    "        mta.acq_date\n",
    "    \"\"\"\n",
    ")\n",
    "mta_st.pl().head()\n"
   ]
  },
  {
   "cell_type": "markdown",
   "metadata": {},
   "source": [
    "Now we can do some descriptive stats!\n"
   ]
  },
  {
   "cell_type": "markdown",
   "metadata": {},
   "source": [
    "## Samples and Detection Type Per Method\n"
   ]
  },
  {
   "cell_type": "code",
   "execution_count": null,
   "metadata": {},
   "outputs": [],
   "source": [
    "con.sql(\n",
    "    \"\"\"\n",
    "    SELECT\n",
    "    dense_rank() OVER (ORDER BY first_acq_date ASC) as rank,\n",
    "    *\n",
    "    FROM\n",
    "        (select\n",
    "            first(acq_date) as first_acq_date,\n",
    "            last(acq_date) as last_acq_date,\n",
    "            acq_method,\n",
    "            detection,\n",
    "            count(id),\n",
    "\n",
    "        from\n",
    "            mta_st\n",
    "        GROUP BY ALL\n",
    "        ORDER BY\n",
    "            last_acq_date desc)\n",
    "    \n",
    "\n",
    "    \"\"\"\n",
    ").pl()\n"
   ]
  },
  {
   "cell_type": "markdown",
   "metadata": {},
   "source": [
    "As we can see there are 5 distinct methods. All \"avantor\" methods were performed on a 100 x 4.6 mm, C18 column with a H:20:MeOH mobile phase. Ordered by last date of use:\n",
    "\n",
    "1. \"avantor100x4_6c18-h2o-meoh-2_1.m\": 30 samples.\n",
    "2. \"avantor100x4_6c18-h2o-meoh-2_5.m\"L 67 samples.\n",
    "3. \"avantor100x4_6c18-h2o-meoh-2_5_44-mins.m\": 6 samples.\n",
    "4. \"halo150x4_6c18-h2o-meoh-2_1.m\": 1 sample.\n",
    "5. \"0_cuprac_3_16_40-mins-4min100%hold.m\": 71 samples."
   ]
  },
  {
   "cell_type": "markdown",
   "metadata": {},
   "source": [
    "So luckily it appears that all of the CUPRAC samples were performed on the same method. So that dataset should be consistent. The raw is more concerning."
   ]
  }
 ],
 "metadata": {
  "kernelspec": {
   "display_name": "pca-analysis-6KQS4gUX-py3.12",
   "language": "python",
   "name": "python3"
  },
  "language_info": {
   "codemirror_mode": {
    "name": "ipython",
    "version": 3
   },
   "file_extension": ".py",
   "mimetype": "text/x-python",
   "name": "python",
   "nbconvert_exporter": "python",
   "pygments_lexer": "ipython3",
   "version": "3.12.2"
  }
 },
 "nbformat": 4,
 "nbformat_minor": 2
}
