{
 "cells": [
  {
   "cell_type": "markdown",
   "metadata": {},
   "source": [
    "---\n",
    "cdt: 2024-09-09T16:17:32\n",
    "title: Separation of CUPRAC and Raw Signal Tables\n",
    "description: The CUPRAC and Raw data is in one table which is too large for efficient querying. Need to seperate them\n",
    "project: dataset_EDA\n",
    "---\n",
    "\n",
    "As we have found throughout the project, querying on the combined long `chromatogram_spectra_long` table is slow. Considering that CUPRAC and raw are fundamentally different datasets, there is no reason to keep them in one table that outwieghs the negatives. Thus they will be seperated into two.\n",
    "\n",
    "Considering that there will be associated tables downtrack - peak tables, possibly baseline corrected, etc. We should make schemas for each. 'raw', and 'cuprac'\n"
   ]
  },
  {
   "cell_type": "code",
   "execution_count": 4,
   "metadata": {},
   "outputs": [],
   "source": [
    "%reload_ext autoreload\n",
    "%autoreload 2\n",
    "\n",
    "import duckdb as db\n",
    "import polars as pl\n",
    "from pca_analysis.experiments.constants import db_path\n",
    "\n",
    "con = db.connect(db_path)\n"
   ]
  },
  {
   "cell_type": "code",
   "execution_count": 5,
   "metadata": {},
   "outputs": [],
   "source": [
    "con.sql(\n",
    "\"\"\"--sql\n",
    "CREATE SCHEMA IF NOT EXISTS raw;\n",
    "CREATE SCHEMA IF NOT EXISTS cuprac;\n",
    "\"\"\"\n",
    ")\n"
   ]
  },
  {
   "cell_type": "markdown",
   "metadata": {},
   "source": [
    "create cuprac table first."
   ]
  },
  {
   "cell_type": "code",
   "execution_count": 10,
   "metadata": {},
   "outputs": [
    {
     "data": {
      "application/vnd.jupyter.widget-view+json": {
       "model_id": "a6bd69c0908344a8ad88a76a10dabf26",
       "version_major": 2,
       "version_minor": 0
      },
      "text/plain": [
       "FloatProgress(value=0.0, layout=Layout(width='auto'), style=ProgressStyle(bar_color='black'))"
      ]
     },
     "metadata": {},
     "output_type": "display_data"
    },
    {
     "data": {
      "application/vnd.jupyter.widget-view+json": {
       "model_id": "754307616ddb4e589ae050872990e928",
       "version_major": 2,
       "version_minor": 0
      },
      "text/plain": [
       "FloatProgress(value=0.0, layout=Layout(width='auto'), style=ProgressStyle(bar_color='black'))"
      ]
     },
     "metadata": {},
     "output_type": "display_data"
    },
    {
     "data": {
      "application/vnd.jupyter.widget-view+json": {
       "model_id": "e99ff50422ad44648c503cb8ae3d1c42",
       "version_major": 2,
       "version_minor": 0
      },
      "text/plain": [
       "FloatProgress(value=0.0, layout=Layout(width='auto'), style=ProgressStyle(bar_color='black'))"
      ]
     },
     "metadata": {},
     "output_type": "display_data"
    },
    {
     "data": {
      "text/html": [
       "<div><style>\n",
       ".dataframe > thead > tr,\n",
       ".dataframe > tbody > tr {\n",
       "  text-align: right;\n",
       "  white-space: pre-wrap;\n",
       "}\n",
       "</style>\n",
       "<small>shape: (87_602_530, 7)</small><table border=\"1\" class=\"dataframe\"><thead><tr><th>idx</th><th>id</th><th>mins</th><th>wavelength</th><th>absorbance</th><th>sample_num</th><th>detection</th></tr><tr><td>i64</td><td>str</td><td>f64</td><td>i32</td><td>f64</td><td>i64</td><td>str</td></tr></thead><tbody><tr><td>0</td><td>&quot;87040513-0579-4793-9593-6e3322…</td><td>0.002083</td><td>190</td><td>3.626853</td><td>105</td><td>&quot;cuprac&quot;</td></tr><tr><td>1</td><td>&quot;87040513-0579-4793-9593-6e3322…</td><td>0.00875</td><td>190</td><td>5.647995</td><td>105</td><td>&quot;cuprac&quot;</td></tr><tr><td>2</td><td>&quot;87040513-0579-4793-9593-6e3322…</td><td>0.015417</td><td>190</td><td>7.061757</td><td>105</td><td>&quot;cuprac&quot;</td></tr><tr><td>3</td><td>&quot;87040513-0579-4793-9593-6e3322…</td><td>0.022083</td><td>190</td><td>7.529549</td><td>105</td><td>&quot;cuprac&quot;</td></tr><tr><td>4</td><td>&quot;87040513-0579-4793-9593-6e3322…</td><td>0.02875</td><td>190</td><td>7.070497</td><td>105</td><td>&quot;cuprac&quot;</td></tr><tr><td>&hellip;</td><td>&hellip;</td><td>&hellip;</td><td>&hellip;</td><td>&hellip;</td><td>&hellip;</td><td>&hellip;</td></tr><tr><td>5995</td><td>&quot;79177dc7-9f72-40c6-8ea7-0661a7…</td><td>39.972917</td><td>600</td><td>0.06628</td><td>175</td><td>&quot;cuprac&quot;</td></tr><tr><td>5996</td><td>&quot;79177dc7-9f72-40c6-8ea7-0661a7…</td><td>39.979583</td><td>600</td><td>0.102244</td><td>175</td><td>&quot;cuprac&quot;</td></tr><tr><td>5997</td><td>&quot;79177dc7-9f72-40c6-8ea7-0661a7…</td><td>39.98625</td><td>600</td><td>0.124872</td><td>175</td><td>&quot;cuprac&quot;</td></tr><tr><td>5998</td><td>&quot;79177dc7-9f72-40c6-8ea7-0661a7…</td><td>39.992917</td><td>600</td><td>0.135452</td><td>175</td><td>&quot;cuprac&quot;</td></tr><tr><td>5999</td><td>&quot;79177dc7-9f72-40c6-8ea7-0661a7…</td><td>39.999583</td><td>600</td><td>0.138797</td><td>175</td><td>&quot;cuprac&quot;</td></tr></tbody></table></div>"
      ],
      "text/plain": [
       "shape: (87_602_530, 7)\n",
       "┌──────┬────────────────────────────┬───────────┬────────────┬────────────┬────────────┬───────────┐\n",
       "│ idx  ┆ id                         ┆ mins      ┆ wavelength ┆ absorbance ┆ sample_num ┆ detection │\n",
       "│ ---  ┆ ---                        ┆ ---       ┆ ---        ┆ ---        ┆ ---        ┆ ---       │\n",
       "│ i64  ┆ str                        ┆ f64       ┆ i32        ┆ f64        ┆ i64        ┆ str       │\n",
       "╞══════╪════════════════════════════╪═══════════╪════════════╪════════════╪════════════╪═══════════╡\n",
       "│ 0    ┆ 87040513-0579-4793-9593-6e ┆ 0.002083  ┆ 190        ┆ 3.626853   ┆ 105        ┆ cuprac    │\n",
       "│      ┆ 3322…                      ┆           ┆            ┆            ┆            ┆           │\n",
       "│ 1    ┆ 87040513-0579-4793-9593-6e ┆ 0.00875   ┆ 190        ┆ 5.647995   ┆ 105        ┆ cuprac    │\n",
       "│      ┆ 3322…                      ┆           ┆            ┆            ┆            ┆           │\n",
       "│ 2    ┆ 87040513-0579-4793-9593-6e ┆ 0.015417  ┆ 190        ┆ 7.061757   ┆ 105        ┆ cuprac    │\n",
       "│      ┆ 3322…                      ┆           ┆            ┆            ┆            ┆           │\n",
       "│ 3    ┆ 87040513-0579-4793-9593-6e ┆ 0.022083  ┆ 190        ┆ 7.529549   ┆ 105        ┆ cuprac    │\n",
       "│      ┆ 3322…                      ┆           ┆            ┆            ┆            ┆           │\n",
       "│ 4    ┆ 87040513-0579-4793-9593-6e ┆ 0.02875   ┆ 190        ┆ 7.070497   ┆ 105        ┆ cuprac    │\n",
       "│      ┆ 3322…                      ┆           ┆            ┆            ┆            ┆           │\n",
       "│ …    ┆ …                          ┆ …         ┆ …          ┆ …          ┆ …          ┆ …         │\n",
       "│ 5995 ┆ 79177dc7-9f72-40c6-8ea7-06 ┆ 39.972917 ┆ 600        ┆ 0.06628    ┆ 175        ┆ cuprac    │\n",
       "│      ┆ 61a7…                      ┆           ┆            ┆            ┆            ┆           │\n",
       "│ 5996 ┆ 79177dc7-9f72-40c6-8ea7-06 ┆ 39.979583 ┆ 600        ┆ 0.102244   ┆ 175        ┆ cuprac    │\n",
       "│      ┆ 61a7…                      ┆           ┆            ┆            ┆            ┆           │\n",
       "│ 5997 ┆ 79177dc7-9f72-40c6-8ea7-06 ┆ 39.98625  ┆ 600        ┆ 0.124872   ┆ 175        ┆ cuprac    │\n",
       "│      ┆ 61a7…                      ┆           ┆            ┆            ┆            ┆           │\n",
       "│ 5998 ┆ 79177dc7-9f72-40c6-8ea7-06 ┆ 39.992917 ┆ 600        ┆ 0.135452   ┆ 175        ┆ cuprac    │\n",
       "│      ┆ 61a7…                      ┆           ┆            ┆            ┆            ┆           │\n",
       "│ 5999 ┆ 79177dc7-9f72-40c6-8ea7-06 ┆ 39.999583 ┆ 600        ┆ 0.138797   ┆ 175        ┆ cuprac    │\n",
       "│      ┆ 61a7…                      ┆           ┆            ┆            ┆            ┆           │\n",
       "└──────┴────────────────────────────┴───────────┴────────────┴────────────┴────────────┴───────────┘"
      ]
     },
     "execution_count": 10,
     "metadata": {},
     "output_type": "execute_result"
    }
   ],
   "source": [
    "con.sql(\n",
    "\"\"\"--sql\n",
    "CREATE OR REPLACE TABLE cuprac.cs_long AS (\n",
    "    WITH \n",
    "        labeled_data AS (\n",
    "            SELECT\n",
    "                *\n",
    "            FROM\n",
    "                pbl.chromatogram_spectra_long\n",
    "            JOIN\n",
    "                (select id, sample_num, detection FROM pbl.sample_metadata) as mta\n",
    "            USING\n",
    "                (id)\n",
    "        ),\n",
    "        cuprac_data AS (\n",
    "            SELECT\n",
    "                *\n",
    "            FROM\n",
    "                labeled_data\n",
    "            WHERE\n",
    "                detection = 'cuprac'\n",
    "        )\n",
    "    SELECT\n",
    "        *\n",
    "    FROM\n",
    "        cuprac_data\n",
    ");\n",
    "SELECT\n",
    "    *\n",
    "FROM\n",
    "    cuprac.cs_long\n",
    "ORDER BY\n",
    "    sample_num, wavelength, idx\n",
    "\"\"\"\n",
    ").pl()\n"
   ]
  },
  {
   "cell_type": "markdown",
   "metadata": {},
   "source": [
    "now do the same for raw."
   ]
  },
  {
   "cell_type": "code",
   "execution_count": 14,
   "metadata": {},
   "outputs": [
    {
     "data": {
      "application/vnd.jupyter.widget-view+json": {
       "model_id": "298b17a4ff78450ba1273e0689ce8d29",
       "version_major": 2,
       "version_minor": 0
      },
      "text/plain": [
       "FloatProgress(value=0.0, layout=Layout(width='auto'), style=ProgressStyle(bar_color='black'))"
      ]
     },
     "metadata": {},
     "output_type": "display_data"
    },
    {
     "data": {
      "application/vnd.jupyter.widget-view+json": {
       "model_id": "7082945166a44a80a88af1500b336230",
       "version_major": 2,
       "version_minor": 0
      },
      "text/plain": [
       "FloatProgress(value=0.0, layout=Layout(width='auto'), style=ProgressStyle(bar_color='black'))"
      ]
     },
     "metadata": {},
     "output_type": "display_data"
    },
    {
     "data": {
      "application/vnd.jupyter.widget-view+json": {
       "model_id": "b54f143d8d7842299a2a3d8dbe78291c",
       "version_major": 2,
       "version_minor": 0
      },
      "text/plain": [
       "FloatProgress(value=0.0, layout=Layout(width='auto'), style=ProgressStyle(bar_color='black'))"
      ]
     },
     "metadata": {},
     "output_type": "display_data"
    },
    {
     "data": {
      "text/html": [
       "<div><style>\n",
       ".dataframe > thead > tr,\n",
       ".dataframe > tbody > tr {\n",
       "  text-align: right;\n",
       "  white-space: pre-wrap;\n",
       "}\n",
       "</style>\n",
       "<small>shape: (85_445_964, 7)</small><table border=\"1\" class=\"dataframe\"><thead><tr><th>idx</th><th>id</th><th>mins</th><th>wavelength</th><th>absorbance</th><th>sample_num</th><th>detection</th></tr><tr><td>i64</td><td>str</td><td>f64</td><td>i32</td><td>f64</td><td>i64</td><td>str</td></tr></thead><tbody><tr><td>0</td><td>&quot;4fe49506-74e4-473b-b7a8-23500c…</td><td>0.005417</td><td>190</td><td>0.112936</td><td>1</td><td>&quot;raw&quot;</td></tr><tr><td>1</td><td>&quot;4fe49506-74e4-473b-b7a8-23500c…</td><td>0.012083</td><td>190</td><td>0.13493</td><td>1</td><td>&quot;raw&quot;</td></tr><tr><td>2</td><td>&quot;4fe49506-74e4-473b-b7a8-23500c…</td><td>0.01875</td><td>190</td><td>0.126094</td><td>1</td><td>&quot;raw&quot;</td></tr><tr><td>3</td><td>&quot;4fe49506-74e4-473b-b7a8-23500c…</td><td>0.025417</td><td>190</td><td>0.077926</td><td>1</td><td>&quot;raw&quot;</td></tr><tr><td>4</td><td>&quot;4fe49506-74e4-473b-b7a8-23500c…</td><td>0.032083</td><td>190</td><td>-0.004746</td><td>1</td><td>&quot;raw&quot;</td></tr><tr><td>&hellip;</td><td>&hellip;</td><td>&hellip;</td><td>&hellip;</td><td>&hellip;</td><td>&hellip;</td><td>&hellip;</td></tr><tr><td>7795</td><td>&quot;afb7db75-a452-4a65-976d-379f93…</td><td>51.971867</td><td>400</td><td>0.004008</td><td>104</td><td>&quot;raw&quot;</td></tr><tr><td>7796</td><td>&quot;afb7db75-a452-4a65-976d-379f93…</td><td>51.978533</td><td>400</td><td>0.00491</td><td>104</td><td>&quot;raw&quot;</td></tr><tr><td>7797</td><td>&quot;afb7db75-a452-4a65-976d-379f93…</td><td>51.9852</td><td>400</td><td>0.006206</td><td>104</td><td>&quot;raw&quot;</td></tr><tr><td>7798</td><td>&quot;afb7db75-a452-4a65-976d-379f93…</td><td>51.991867</td><td>400</td><td>0.00675</td><td>104</td><td>&quot;raw&quot;</td></tr><tr><td>7799</td><td>&quot;afb7db75-a452-4a65-976d-379f93…</td><td>51.998533</td><td>400</td><td>0.006646</td><td>104</td><td>&quot;raw&quot;</td></tr></tbody></table></div>"
      ],
      "text/plain": [
       "shape: (85_445_964, 7)\n",
       "┌──────┬────────────────────────────┬───────────┬────────────┬────────────┬────────────┬───────────┐\n",
       "│ idx  ┆ id                         ┆ mins      ┆ wavelength ┆ absorbance ┆ sample_num ┆ detection │\n",
       "│ ---  ┆ ---                        ┆ ---       ┆ ---        ┆ ---        ┆ ---        ┆ ---       │\n",
       "│ i64  ┆ str                        ┆ f64       ┆ i32        ┆ f64        ┆ i64        ┆ str       │\n",
       "╞══════╪════════════════════════════╪═══════════╪════════════╪════════════╪════════════╪═══════════╡\n",
       "│ 0    ┆ 4fe49506-74e4-473b-b7a8-23 ┆ 0.005417  ┆ 190        ┆ 0.112936   ┆ 1          ┆ raw       │\n",
       "│      ┆ 500c…                      ┆           ┆            ┆            ┆            ┆           │\n",
       "│ 1    ┆ 4fe49506-74e4-473b-b7a8-23 ┆ 0.012083  ┆ 190        ┆ 0.13493    ┆ 1          ┆ raw       │\n",
       "│      ┆ 500c…                      ┆           ┆            ┆            ┆            ┆           │\n",
       "│ 2    ┆ 4fe49506-74e4-473b-b7a8-23 ┆ 0.01875   ┆ 190        ┆ 0.126094   ┆ 1          ┆ raw       │\n",
       "│      ┆ 500c…                      ┆           ┆            ┆            ┆            ┆           │\n",
       "│ 3    ┆ 4fe49506-74e4-473b-b7a8-23 ┆ 0.025417  ┆ 190        ┆ 0.077926   ┆ 1          ┆ raw       │\n",
       "│      ┆ 500c…                      ┆           ┆            ┆            ┆            ┆           │\n",
       "│ 4    ┆ 4fe49506-74e4-473b-b7a8-23 ┆ 0.032083  ┆ 190        ┆ -0.004746  ┆ 1          ┆ raw       │\n",
       "│      ┆ 500c…                      ┆           ┆            ┆            ┆            ┆           │\n",
       "│ …    ┆ …                          ┆ …         ┆ …          ┆ …          ┆ …          ┆ …         │\n",
       "│ 7795 ┆ afb7db75-a452-4a65-976d-37 ┆ 51.971867 ┆ 400        ┆ 0.004008   ┆ 104        ┆ raw       │\n",
       "│      ┆ 9f93…                      ┆           ┆            ┆            ┆            ┆           │\n",
       "│ 7796 ┆ afb7db75-a452-4a65-976d-37 ┆ 51.978533 ┆ 400        ┆ 0.00491    ┆ 104        ┆ raw       │\n",
       "│      ┆ 9f93…                      ┆           ┆            ┆            ┆            ┆           │\n",
       "│ 7797 ┆ afb7db75-a452-4a65-976d-37 ┆ 51.9852   ┆ 400        ┆ 0.006206   ┆ 104        ┆ raw       │\n",
       "│      ┆ 9f93…                      ┆           ┆            ┆            ┆            ┆           │\n",
       "│ 7798 ┆ afb7db75-a452-4a65-976d-37 ┆ 51.991867 ┆ 400        ┆ 0.00675    ┆ 104        ┆ raw       │\n",
       "│      ┆ 9f93…                      ┆           ┆            ┆            ┆            ┆           │\n",
       "│ 7799 ┆ afb7db75-a452-4a65-976d-37 ┆ 51.998533 ┆ 400        ┆ 0.006646   ┆ 104        ┆ raw       │\n",
       "│      ┆ 9f93…                      ┆           ┆            ┆            ┆            ┆           │\n",
       "└──────┴────────────────────────────┴───────────┴────────────┴────────────┴────────────┴───────────┘"
      ]
     },
     "execution_count": 14,
     "metadata": {},
     "output_type": "execute_result"
    }
   ],
   "source": [
    "con.sql(\n",
    "\"\"\"--sql\n",
    "CREATE OR REPLACE TABLE raw.cs_long AS (\n",
    "    WITH \n",
    "        labeled_data AS (\n",
    "            SELECT\n",
    "                *\n",
    "            FROM\n",
    "                pbl.chromatogram_spectra_long\n",
    "            JOIN\n",
    "                (select id, sample_num, detection FROM pbl.sample_metadata) as mta\n",
    "            USING\n",
    "                (id)\n",
    "        ),\n",
    "        raw_data AS (\n",
    "            SELECT\n",
    "                *\n",
    "            FROM\n",
    "                labeled_data\n",
    "            WHERE\n",
    "                detection = 'raw'\n",
    "        )\n",
    "    SELECT\n",
    "        *\n",
    "    FROM\n",
    "        raw_data\n",
    ");\n",
    "SELECT\n",
    "    *\n",
    "FROM\n",
    "    raw.cs_long\n",
    "ORDER BY\n",
    "    sample_num, wavelength, idx\n",
    "\"\"\"\n",
    ").pl()\n"
   ]
  },
  {
   "cell_type": "markdown",
   "metadata": {},
   "source": [
    "Done."
   ]
  }
 ],
 "metadata": {
  "kernelspec": {
   "display_name": "pca-analysis-6KQS4gUX-py3.12",
   "language": "python",
   "name": "python3"
  },
  "language_info": {
   "codemirror_mode": {
    "name": "ipython",
    "version": 3
   },
   "file_extension": ".py",
   "mimetype": "text/x-python",
   "name": "python",
   "nbconvert_exporter": "python",
   "pygments_lexer": "ipython3",
   "version": "3.12.2"
  }
 },
 "nbformat": 4,
 "nbformat_minor": 2
}
