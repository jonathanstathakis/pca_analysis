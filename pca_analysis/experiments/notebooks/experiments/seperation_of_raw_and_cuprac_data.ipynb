{
 "cells": [
  {
   "cell_type": "markdown",
   "metadata": {},
   "source": [
    "---\n",
    "cdt: 2024-09-09T16:17:32\n",
    "title: Separation of CUPRAC and Raw Signal Tables\n",
    "description: The CUPRAC and Raw data is in one table which is too large for efficient querying. Need to seperate them\n",
    "project: database_architecture\n",
    "---\n",
    "\n",
    "As we have found throughout the project, querying on the combined long `chromatogram_spectra_long` table is slow. Considering that CUPRAC and raw are fundamentally different datasets, there is no reason to keep them in one table that outwieghs the negatives. Thus they will be seperated into two.\n",
    "\n",
    "Considering that there will be associated tables downtrack - peak tables, possibly baseline corrected, etc. We should make schemas for each. 'raw', and 'cuprac'\n"
   ]
  },
  {
   "cell_type": "code",
   "execution_count": null,
   "metadata": {},
   "outputs": [],
   "source": [
    "%reload_ext autoreload\n",
    "%autoreload 2\n",
    "\n",
    "import duckdb as db\n",
    "import polars as pl\n",
    "from pca_analysis.experiments.constants import db_path\n",
    "\n",
    "con = db.connect(db_path)\n"
   ]
  },
  {
   "cell_type": "code",
   "execution_count": null,
   "metadata": {},
   "outputs": [],
   "source": [
    "con.sql(\n",
    "\"\"\"--sql\n",
    "CREATE SCHEMA IF NOT EXISTS raw;\n",
    "CREATE SCHEMA IF NOT EXISTS cuprac;\n",
    "\"\"\"\n",
    ")\n"
   ]
  },
  {
   "cell_type": "markdown",
   "metadata": {},
   "source": [
    "create cuprac table first."
   ]
  },
  {
   "cell_type": "code",
   "execution_count": null,
   "metadata": {},
   "outputs": [],
   "source": [
    "con.sql(\n",
    "\"\"\"--sql\n",
    "CREATE OR REPLACE TABLE cuprac.cs_long AS (\n",
    "    WITH \n",
    "        labeled_data AS (\n",
    "            SELECT\n",
    "                *\n",
    "            FROM\n",
    "                pbl.chromatogram_spectra_long\n",
    "            JOIN\n",
    "                (select id, sample_num, detection FROM pbl.sample_metadata) as mta\n",
    "            USING\n",
    "                (id)\n",
    "        ),\n",
    "        cuprac_data AS (\n",
    "            SELECT\n",
    "                *\n",
    "            FROM\n",
    "                labeled_data\n",
    "            WHERE\n",
    "                detection = 'cuprac'\n",
    "        )\n",
    "    SELECT\n",
    "        *\n",
    "    FROM\n",
    "        cuprac_data\n",
    ");\n",
    "SELECT\n",
    "    *\n",
    "FROM\n",
    "    cuprac.cs_long\n",
    "ORDER BY\n",
    "    sample_num, wavelength, idx\n",
    "\"\"\"\n",
    ").pl()\n"
   ]
  },
  {
   "cell_type": "markdown",
   "metadata": {},
   "source": [
    "now do the same for raw."
   ]
  },
  {
   "cell_type": "code",
   "execution_count": null,
   "metadata": {},
   "outputs": [],
   "source": [
    "con.sql(\n",
    "\"\"\"--sql\n",
    "CREATE OR REPLACE TABLE raw.cs_long AS (\n",
    "    WITH \n",
    "        labeled_data AS (\n",
    "            SELECT\n",
    "                *\n",
    "            FROM\n",
    "                pbl.chromatogram_spectra_long\n",
    "            JOIN\n",
    "                (select id, sample_num, detection FROM pbl.sample_metadata) as mta\n",
    "            USING\n",
    "                (id)\n",
    "        ),\n",
    "        raw_data AS (\n",
    "            SELECT\n",
    "                *\n",
    "            FROM\n",
    "                labeled_data\n",
    "            WHERE\n",
    "                detection = 'raw'\n",
    "        )\n",
    "    SELECT\n",
    "        *\n",
    "    FROM\n",
    "        raw_data\n",
    ");\n",
    "SELECT\n",
    "    *\n",
    "FROM\n",
    "    raw.cs_long\n",
    "ORDER BY\n",
    "    sample_num, wavelength, idx\n",
    "\"\"\"\n",
    ").pl()\n"
   ]
  },
  {
   "cell_type": "markdown",
   "metadata": {},
   "source": [
    "Done."
   ]
  }
 ],
 "metadata": {
  "kernelspec": {
   "display_name": "pca-analysis-6KQS4gUX-py3.12",
   "language": "python",
   "name": "python3"
  },
  "language_info": {
   "codemirror_mode": {
    "name": "ipython",
    "version": 3
   },
   "file_extension": ".py",
   "mimetype": "text/x-python",
   "name": "python",
   "nbconvert_exporter": "python",
   "pygments_lexer": "ipython3",
   "version": "3.12.2"
  }
 },
 "nbformat": 4,
 "nbformat_minor": 2
}
