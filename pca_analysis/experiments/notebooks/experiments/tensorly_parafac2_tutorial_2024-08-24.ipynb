{
 "cells": [
  {
   "cell_type": "markdown",
   "metadata": {},
   "source": [
    "# PARAFAC2 tutorial\n",
    "\n",
    "A tutorial on PARAFAC2 taken from [here](https://tensorly.org/stable/auto_examples/decomposition/plot_parafac2.html)."
   ]
  },
  {
   "cell_type": "code",
   "execution_count": null,
   "metadata": {},
   "outputs": [],
   "source": [
    "import numpy as np\n",
    "import numpy.linalg as la\n",
    "import matplotlib.pyplot as plt\n",
    "import tensorly as tl\n",
    "from tensorly.decomposition import parafac2\n",
    "from scipy.optimize import linear_sum_assignment\n"
   ]
  },
  {
   "cell_type": "markdown",
   "metadata": {},
   "source": [
    "They generate a tensor of the form: $$\\mathcal{X}_{i j k}=\\sum_{r=1}^R A_{i r} B_{\\sigma_i(j) r} C_{k r},$$ where $\\sigma_i$ is a cyclic permutation of $J$ elements"
   ]
  },
  {
   "cell_type": "code",
   "execution_count": null,
   "metadata": {},
   "outputs": [],
   "source": [
    "# Set parameters\n",
    "true_rank = 3\n",
    "I, J, K = 30, 40, 20\n",
    "noise_rate = 0.1\n",
    "np.random.seed(0)\n",
    "\n",
    "# Generate random matrices\n",
    "A_factor_matrix = np.random.uniform(1, 2, size=(I, true_rank))\n",
    "B_factor_matrix = np.random.uniform(size=(J, true_rank))\n",
    "C_factor_matrix = np.random.uniform(size=(K, true_rank))\n",
    "\n",
    "# Normalised factor matrices\n",
    "A_normalised = A_factor_matrix / la.norm(A_factor_matrix, axis=0)\n",
    "B_normalised = B_factor_matrix / la.norm(B_factor_matrix, axis=0)\n",
    "C_normalised = C_factor_matrix / la.norm(C_factor_matrix, axis=0)\n",
    "\n",
    "# Generate the shifted factor matrix\n",
    "B_factor_matrices = [np.roll(B_factor_matrix, shift=i, axis=0) for i in range(I)]\n",
    "Bs_normalised = [np.roll(B_normalised, shift=i, axis=0) for i in range(I)]\n",
    "\n",
    "# Construct the tensor\n",
    "tensor = np.einsum(\n",
    "    \"ir,ijr,kr->ijk\", A_factor_matrix, B_factor_matrices, C_factor_matrix\n",
    ")\n",
    "\n",
    "# Add noise\n",
    "noise = np.random.standard_normal(tensor.shape)\n",
    "noise /= np.linalg.norm(noise)\n",
    "noise *= noise_rate * np.linalg.norm(tensor)\n",
    "tensor += noise\n"
   ]
  },
  {
   "cell_type": "code",
   "execution_count": null,
   "metadata": {},
   "outputs": [],
   "source": [
    "tensor.shape\n"
   ]
  },
  {
   "cell_type": "code",
   "execution_count": null,
   "metadata": {},
   "outputs": [],
   "source": [
    "best_err = np.inf\n",
    "decomposition = None\n",
    "\n",
    "for run in range(10):\n",
    "    print(f\"Training model {run}...\")\n",
    "    trial_decomposition, trial_errs = parafac2(\n",
    "        tensor,\n",
    "        true_rank,\n",
    "        return_errors=True,\n",
    "        tol=1e-8,\n",
    "        n_iter_max=500,\n",
    "        random_state=run,\n",
    "    )\n",
    "    print(f\"Number of iterations: {len(trial_errs)}\")\n",
    "    print(f\"Final error: {trial_errs[-1]}\")\n",
    "    if best_err > trial_errs[-1]:\n",
    "        best_err = trial_errs[-1]\n",
    "        err = trial_errs\n",
    "        decomposition = trial_decomposition\n",
    "    print(\"-------------------------------\")\n",
    "print(f\"Best model error: {best_err}\")\n"
   ]
  },
  {
   "cell_type": "code",
   "execution_count": null,
   "metadata": {},
   "outputs": [],
   "source": [
    "decomposition\n"
   ]
  },
  {
   "cell_type": "code",
   "execution_count": null,
   "metadata": {},
   "outputs": [],
   "source": [
    "from tensorly import parafac2_tensor\n",
    "\n",
    "decomp_tensor = parafac2_tensor.parafac2_to_tensor(decomposition)\n",
    "projection_matrices = parafac2_tensor.apply_parafac2_projections(decomposition)\n",
    "\n"
   ]
  },
  {
   "cell_type": "code",
   "execution_count": null,
   "metadata": {},
   "outputs": [],
   "source": [
    "F = decomposition.factors\n"
   ]
  },
  {
   "cell_type": "markdown",
   "metadata": {},
   "source": [
    "This has not been helpful. Still no idea how to intepret the results. Maybe start with PARAFAC then move to PARAFAC2?"
   ]
  },
  {
   "cell_type": "code",
   "execution_count": null,
   "metadata": {},
   "outputs": [],
   "source": [
    "import matplotlib.pyplot as plt\n",
    "\n",
    "y = decomposition.factors[0]\n",
    "# print(y.shape)\n",
    "# print(y)\n",
    "plt.plot(y);\n"
   ]
  },
  {
   "cell_type": "code",
   "execution_count": null,
   "metadata": {},
   "outputs": [],
   "source": [
    "plt.plot(B_factor_matrix)\n"
   ]
  },
  {
   "cell_type": "code",
   "execution_count": null,
   "metadata": {},
   "outputs": [],
   "source": []
  }
 ],
 "metadata": {
  "kernelspec": {
   "display_name": "Python 3 (ipykernel)",
   "language": "python",
   "name": "python3"
  },
  "language_info": {
   "codemirror_mode": {
    "name": "ipython",
    "version": 3
   },
   "file_extension": ".py",
   "mimetype": "text/x-python",
   "name": "python",
   "nbconvert_exporter": "python",
   "pygments_lexer": "ipython3",
   "version": "3.12.2"
  }
 },
 "nbformat": 4,
 "nbformat_minor": 4
}
