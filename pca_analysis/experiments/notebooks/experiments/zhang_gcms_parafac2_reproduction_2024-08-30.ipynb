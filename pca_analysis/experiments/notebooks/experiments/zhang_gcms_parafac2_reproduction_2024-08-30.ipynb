{
 "cells": [
  {
   "cell_type": "markdown",
   "id": "1d00cee9-7077-4cfc-ad69-ce7be92fa47b",
   "metadata": {},
   "source": [
    "# Zhang et al. GC-MS PARAFAC2 Results Reproduction\n",
    "\n",
    "A follow up to [Rank Estimation](experiments/zhang_gcms_experiment_2024-08-30.ipynb), now that the rank estimation has been confirmed, we will attempt to recreate their PARAFAC2 results."
   ]
  }
 ],
 "metadata": {
  "kernelspec": {
   "display_name": "Python 3 (ipykernel)",
   "language": "python",
   "name": "python3"
  },
  "language_info": {
   "codemirror_mode": {
    "name": "ipython",
    "version": 3
   },
   "file_extension": ".py",
   "mimetype": "text/x-python",
   "name": "python",
   "nbconvert_exporter": "python",
   "pygments_lexer": "ipython3",
   "version": "3.12.2"
  }
 },
 "nbformat": 4,
 "nbformat_minor": 5
}
