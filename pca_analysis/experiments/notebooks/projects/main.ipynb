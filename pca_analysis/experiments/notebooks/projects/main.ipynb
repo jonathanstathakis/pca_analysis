{
 "cells": [
  {
   "cell_type": "markdown",
   "metadata": {},
   "source": [
    "---\n",
    "title: Project Main\n",
    "description: Project Overview page. A TOC.\n",
    "cdt: 2024-09-11T11:11:25\n",
    "---\n",
    "\n",
    "The main landing page of the project. All projects are listed below."
   ]
  },
  {
   "cell_type": "code",
   "execution_count": null,
   "metadata": {},
   "outputs": [],
   "source": [
    "%reload_ext autoreload\n",
    "%autoreload 2\n",
    "\n",
    "from pca_analysis.experiments.toc import build_toc\n",
    "from pathlib import Path\n",
    "from great_tables import GT\n",
    "import duckdb as db\n",
    "projects_path = \".\"\n",
    "nbooks = list(Path(projects_path).glob(\"*\"))\n",
    "nbooks.remove(Path(\"main.ipynb\"))\n",
    "nbooks\n"
   ]
  },
  {
   "cell_type": "code",
   "execution_count": null,
   "metadata": {},
   "outputs": [],
   "source": [
    "project_toc = build_toc(paths=nbooks)\n"
   ]
  },
  {
   "cell_type": "code",
   "execution_count": null,
   "metadata": {},
   "outputs": [],
   "source": [
    "# https://catppuccin.com/palette\n",
    "\n",
    "(\n",
    "    db.sql(\n",
    "    \"\"\"--sql\n",
    "    SELECT\n",
    "        status,\n",
    "        cdt,\n",
    "        title,\n",
    "        project,\n",
    "        link,\n",
    "        description,\n",
    "        conclusion,\n",
    "        filename\n",
    "    FROM\n",
    "        project_toc\n",
    "    \"\"\"\n",
    "    )\n",
    "    .pl()\n",
    "    .pipe(GT)\n",
    "    .fmt_markdown('link')\n",
    "    .opt_stylize(style = 3, color='gray')\n",
    "    .tab_options(\n",
    "        table_background_color='#363a4f',\n",
    "        table_font_color='#cad3f5',\n",
    "        table_font_size=1\n",
    "        \n",
    "    )\n",
    ")\n"
   ]
  },
  {
   "cell_type": "markdown",
   "metadata": {},
   "source": [
    "## TODO:\n",
    "- [ ] admin\n",
    "  - [x] extract offset calculator\n",
    "  - [x] check that 'dataset_EDA' project is  clean and orderly.\n",
    "  - [ ] create logs under the new system.\n",
    "  - [x] github repo.\n",
    "  - [ ] move previous projects into this newly created hierarchy.\n",
    "  - [x] move this todo to TOC root.\n",
    "- [x] dataset division\n",
    "  - [x] divide datasets into raw and cuprac, in wide form - string number column names?\n",
    "- raw dataset\n",
    "  - [ ] cleaning\n",
    "    - [ ] outlier removal\n",
    "      - [ ] for each of the following, make note of outliers, storing in a table\n",
    "        - [x] time outliers\n",
    "        - [ ] absorbance outliers\n",
    "    - [ ] dimension unification\n",
    "      - [ ] wavelength unification\n",
    "        - [ ] describe wavelength distribution in terms of samples and any intersting features within the 400 - 600 nm range\n",
    "        - [ ] amend nm_254 to the common wavelength range - smaller than 400 would be great.\n",
    "      - [ ] time unification\n",
    "        - [x] save offset correction to nm_254\n",
    "        - [ ] identify common time cutoff, i.e a time point common to all samples beyond which no relvant features exist\n",
    "        - [ ] replace all sample times with a common 2.5Hz time running from 0 to the time identified above\n",
    "  - [ ] xarray migration\n",
    "    - [ ] once 'cleaning' and 'dataset division' are done, complete migration of data to xarray\n",
    "- [ ] PARAFAC2:\n",
    "  - [ ] test PARAFAC2 on a sample set.\n",
    "- Fix missing CT metadata. See [Samples Missing CT Metadata](../experiments/samples_missing_ct_metadata.ipynb)\n"
   ]
  },
  {
   "cell_type": "markdown",
   "metadata": {},
   "source": [
    "# Notes on Dataset\n",
    "\n",
    "2024-09-12T14:52:28\n",
    "\n",
    "The dataset is a little bit.. unorganised. Notes on that are even more scattered. I will start constructing useful notes regarding the topic here.\n",
    "\n",
    "2024-09-12T14:53:07 - 3 of the raw samples from the wine deg study are at \"/Users/jonathan/uni/0_jono_data/wine-deg-study/raw_uv/ambient\" but have been included in the database to bring the total to 104 'raw' samples."
   ]
  }
 ],
 "metadata": {
  "kernelspec": {
   "display_name": "pca-analysis-6KQS4gUX-py3.12",
   "language": "python",
   "name": "python3"
  },
  "language_info": {
   "codemirror_mode": {
    "name": "ipython",
    "version": 3
   },
   "file_extension": ".py",
   "mimetype": "text/x-python",
   "name": "python",
   "nbconvert_exporter": "python",
   "pygments_lexer": "ipython3",
   "version": "3.12.2"
  }
 },
 "nbformat": 4,
 "nbformat_minor": 2
}
