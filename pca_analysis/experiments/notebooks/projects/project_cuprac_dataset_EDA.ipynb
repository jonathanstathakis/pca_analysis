{
 "cells": [
  {
   "cell_type": "markdown",
   "metadata": {},
   "source": [
    "---\n",
    "title: \"'cuprac' Dataset EDA\"\n",
    "project: cuprac_dataset_EDA\n",
    "cdt: 2024-09-11T13:00:15\n",
    "description: \"EDA of the 'cuprac' dataset\"\n",
    "conclusion: \"\"\n",
    "status: \"open\"\n",
    "---"
   ]
  },
  {
   "cell_type": "code",
   "execution_count": null,
   "metadata": {},
   "outputs": [],
   "source": [
    "target_names = [\"Injection Volume\"]\n",
    "\n",
    "\n",
    "\n",
    "rdict = {}\n",
    "# Parse the XML file\n",
    "tree = etree.parse(macaml)\n",
    "\n",
    "# Find all \"Parameter\" elements\n",
    "ns = {\"acaml\": \"urn:schemas-agilent-com:acaml14\"}\n",
    "sections = tree.findall(\".//acaml:Section\", namespaces=ns)\n",
    "\n",
    "# Iterate through the sections\n",
    "for section in sections:\n",
    "    section_name = section.find(\"acaml:Name\", namespaces=ns)  # Adjust as needed\n",
    "    parameters = section.findall(\".//acaml:Parameter\", namespaces=ns)\n",
    "    print(parameters)\n",
    "\n",
    "    # Iterate through the \"Parameter\" elements in this section\n",
    "    for parameter in parameters:\n",
    "        parameter_name = parameter.find(\"acaml:Name\", namespaces=ns)\n",
    "        parameter_value = parameter.find(\"acaml:Value\", namespaces=ns)\n",
    "\n",
    "        for target in target_names:\n",
    "            if (\n",
    "                section_name is not None\n",
    "                and parameter_name is not None\n",
    "                and parameter_value is not None\n",
    "                and parameter_name.text == target\n",
    "            ):\n",
    "\n",
    "                rdict[target] = parameter_value.text\n",
    "\n",
    "rdict\n"
   ]
  },
  {
   "cell_type": "code",
   "execution_count": null,
   "metadata": {},
   "outputs": [],
   "source": [
    "%reload_ext autoreload\n",
    "%autoreload 2\n",
    "from great_tables import GT, style\n",
    "import duckdb as db\n",
    "from pathlib import Path\n",
    "from pca_analysis.constants import ROOT\n",
    "from pca_analysis.experiments.toc import build_toc\n",
    "import polars as pl\n",
    "\n",
    "pl.Config.set_fmt_str_lengths(9999)\n",
    "\n",
    "path = (ROOT / \"experiments\" / \"notebooks\" / \"experiments\")\n",
    "\n",
    "notebooks = list(Path(path).glob(\"*.ipynb\"))\n",
    "\n",
    "toc = build_toc(notebooks)\n"
   ]
  },
  {
   "cell_type": "code",
   "execution_count": null,
   "metadata": {},
   "outputs": [],
   "source": [
    "(\n",
    "db.sql(\"\"\"--sql\n",
    "SELECT\n",
    "    cdt,\n",
    "    title,\n",
    "    description,\n",
    "    conclusion,\n",
    "    link,\n",
    "    notes,\n",
    "FROM\n",
    "    toc\n",
    "WHERE\n",
    "    project = 'cuprac_dataset_EDA'\n",
    "ORDER BY\n",
    "    cdt DESC\n",
    "\"\"\")\n",
    ".pl()\n",
    ".pipe(GT)\n",
    ".fmt_markdown('link')\n",
    ".opt_stylize(style = 3, color='gray')\n",
    ".tab_options(\n",
    "        table_background_color='#363a4f',\n",
    "        table_font_color='#cad3f5',\n",
    "        table_font_size=1\n",
    "        \n",
    "        )\n",
    ")\n"
   ]
  },
  {
   "cell_type": "markdown",
   "metadata": {},
   "source": [
    "# From Logs\n",
    "\n",
    "The Following CUPRAC samples are noted as being bad due to too high injection volumes:\n",
    "\n",
    "\n",
    "| \\#  | id     | wine                                                    |\n",
    "| --- | ------ | ------------------------------------------------------- |\n",
    "| 0   | 128    | 2019 mount pleasant wines mount henry shiraz pinot noir |\n",
    "| 1   | 161    | 2021 le juice fleurie fleurie gamay                     |\n",
    "| 2   | 163    | 2015 yangarra estate shiraz mclaren vale                |\n",
    "| 3   | 164    | 2015 yangarra estate old vine grenache                  |\n",
    "| 4   | 165    | 2020 izway shiraz bruce                                 |\n",
    "| 5   | ca0101 | 2021 yering station pinot noir                          |\n",
    "| 6   | ca0301 | 2021 chris ringland shiraz                              |\n",
    "|     |        |                                                         |\n",
    "\n",
    "See log entry '2023-08-01_20230801_114918while_develop' for more information.\n"
   ]
  }
 ],
 "metadata": {
  "kernelspec": {
   "display_name": "pca-analysis-6KQS4gUX-py3.12",
   "language": "python",
   "name": "python3"
  },
  "language_info": {
   "codemirror_mode": {
    "name": "ipython",
    "version": 3
   },
   "file_extension": ".py",
   "mimetype": "text/x-python",
   "name": "python",
   "nbconvert_exporter": "python",
   "pygments_lexer": "ipython3",
   "version": "3.12.2"
  }
 },
 "nbformat": 4,
 "nbformat_minor": 2
}
