{
 "cells": [
  {
   "cell_type": "markdown",
   "metadata": {},
   "source": [
    "---\n",
    "cdt: 2024-09-10T11:08:04\n",
    "project: database_architecture\n",
    "title: Database Architecture\n",
    "description: establish an efficient and clean database architecture\n",
    "conclusion:\n",
    "status: open\n",
    "---"
   ]
  },
  {
   "cell_type": "markdown",
   "metadata": {},
   "source": [
    "# Database Architecture\n",
    "\n",
    "date: 2024-09-10\n",
    "\n",
    "It was decided that the current state of the database was insufficient for efficient EDA and downstream processes and thus the creation of a 'clean' schema containing tables corresponding to the 'c_chemstation_metadata', 'c_sample_tracker', and 'c_cellar_tracker' tables with their own primary keys, known as 'clean.chm', 'clean.st', and 'clean.ct', respectively. Following this join tables were constructed for 'clean.chm' $\\rightarrow$ 'clean.st' and 'clean.st' $\\rightarrow$ 'clean.ct'. Thus through the join tables and the 'clean.st' primary key (pk_st) a relationship could be formed between each of the metadata tables. See the notebooks linked below for more information and the code to create the state described.\n",
    "\n",
    "## Notebooks\n",
    "\n",
    "- [Creating the 'clean' Schema and Primary Keys](../experiments/creating_clean_schema.ipynb)\n",
    "- [Creating Join Tables](../experiments/creating_join_tables.ipynb)"
   ]
  },
  {
   "cell_type": "code",
   "execution_count": null,
   "metadata": {},
   "outputs": [],
   "source": [
    "%reload_ext autoreload\n",
    "%autoreload 2\n",
    "from great_tables import GT\n",
    "import duckdb as db\n",
    "from pathlib import Path\n",
    "from pca_analysis.constants import ROOT\n",
    "from pca_analysis.experiments.toc import build_toc\n",
    "import polars as pl\n",
    "\n",
    "pl.Config.set_fmt_str_lengths(9999)\n",
    "\n",
    "path = (ROOT / \"experiments\" / \"notebooks\" / \"experiments\")\n",
    "\n",
    "notebooks = list(Path(path).glob(\"*.ipynb\"))\n",
    "\n",
    "toc = build_toc(notebooks)\n"
   ]
  },
  {
   "cell_type": "code",
   "execution_count": null,
   "metadata": {},
   "outputs": [],
   "source": [
    "(\n",
    "db.sql(\"\"\"--sql\n",
    "SELECT\n",
    "    project,\n",
    "    cdt,\n",
    "    title,\n",
    "    description,\n",
    "    conclusion,\n",
    "    link,\n",
    "    notes,\n",
    "FROM\n",
    "    toc\n",
    "WHERE\n",
    "    project = 'database_architecture'\n",
    "ORDER BY\n",
    "    cdt DESC\n",
    "\"\"\")\n",
    ".pl()\n",
    ".pipe(GT)\n",
    ".fmt_markdown('link')\n",
    ".opt_stylize(style = 5, color='gray')\n",
    ")\n"
   ]
  }
 ],
 "metadata": {
  "kernelspec": {
   "display_name": "pca-analysis-6KQS4gUX-py3.12",
   "language": "python",
   "name": "python3"
  },
  "language_info": {
   "codemirror_mode": {
    "name": "ipython",
    "version": 3
   },
   "file_extension": ".py",
   "mimetype": "text/x-python",
   "name": "python",
   "nbconvert_exporter": "python",
   "pygments_lexer": "ipython3",
   "version": "3.12.2"
  }
 },
 "nbformat": 4,
 "nbformat_minor": 2
}
