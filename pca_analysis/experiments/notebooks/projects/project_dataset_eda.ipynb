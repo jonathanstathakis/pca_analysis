{
 "cells": [
  {
   "cell_type": "markdown",
   "metadata": {},
   "source": [
    "---\n",
    "cdt: 2024-09-05T13:56:09\n",
    "title: \"Dataset EDA\"\n",
    "description: \"\"\n",
    "goals: \"Provide a description of the dataset in terms of timstep, run time interval, wavelength interval and any outliers.\"\n",
    "---\n"
   ]
  },
  {
   "cell_type": "markdown",
   "metadata": {},
   "source": [
    "# Dataset EDA"
   ]
  },
  {
   "cell_type": "code",
   "execution_count": null,
   "metadata": {},
   "outputs": [],
   "source": [
    "%reload_ext autoreload\n",
    "%autoreload 2\n",
    "\n",
    "import duckdb as db\n",
    "from pathlib import Path\n",
    "from pca_analysis.constants import ROOT\n",
    "from pca_analysis.experiments.toc import build_toc\n",
    "import polars as pl\n",
    "\n",
    "pl.Config.set_fmt_str_lengths(9999)\n",
    "\n",
    "path = (ROOT / \"experiments\" / \"notebooks\" / \"experiments\")\n",
    "\n",
    "toc = build_toc(path)\n",
    "\n",
    "db.sql(\"SELECT execution_order, project, cdt, title, description, link, notes from toc where project = 'dataset_EDA' ORDER BY execution_order\").pl()\n"
   ]
  },
  {
   "cell_type": "markdown",
   "metadata": {},
   "source": [
    "## TODO:\n",
    "- [ ] admin\n",
    "  - [x] extract offset calculator\n",
    "  - [ ] check that 'dataset_EDA' project is  clean and orderly.\n",
    "  - [ ] create logs under the new system.\n",
    "  - [x] github repo.\n",
    "  - [ ] move previous projects into this newly created hierarchy.\n",
    "  - [ ] move this todo to TOC root.\n",
    "- [ ] cleaning\n",
    "  - [ ] outlier removal\n",
    "    - [ ] for each of the following, make note of outliers, storing in a table\n",
    "      - [x] time outliers\n",
    "      - [ ] absorbance outliers\n",
    "  - [ ] dimension unification\n",
    "    - [ ] wavelength unification\n",
    "      - [ ] describe wavelength distribution in terms of samples and any intersting features within the 400 - 600 nm range\n",
    "      - [ ] amend nm_254 to the common wavelength range - smaller than 400 would be great.\n",
    "    - [ ] time unification\n",
    "      - [ ] save offset correction to nm_254\n",
    "      - [ ] identify common time cutoff, i.e a time point common to all samples beyond which no relvant features exist\n",
    "      - [ ] replace all sample times with a common 2.5Hz time running from 0 to the time identified above\n",
    "- [ ] dataset division\n",
    "  - [ ] once cleaning is done, divide datasets into raw and cuprac, in wide form - string number column names?\n",
    "- [ ] xarray migration\n",
    "  - [ ] once 'cleaning' and 'dataset division' are done, complete migration of data to xarray\n",
    "- [ ] PARAFAC2:\n",
    "  - [ ] test PARAFAC2 on a sample set.\n"
   ]
  }
 ],
 "metadata": {
  "kernelspec": {
   "display_name": "pca-analysis-6KQS4gUX-py3.12",
   "language": "python",
   "name": "python3"
  },
  "language_info": {
   "codemirror_mode": {
    "name": "ipython",
    "version": 3
   },
   "file_extension": ".py",
   "mimetype": "text/x-python",
   "name": "python",
   "nbconvert_exporter": "python",
   "pygments_lexer": "ipython3",
   "version": "3.12.2"
  }
 },
 "nbformat": 4,
 "nbformat_minor": 2
}
