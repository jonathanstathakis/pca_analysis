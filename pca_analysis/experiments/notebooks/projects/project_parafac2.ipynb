{
 "cells": [
  {
   "cell_type": "markdown",
   "metadata": {
    "vscode": {
     "languageId": "plaintext"
    }
   },
   "source": [
    "---\n",
    "title: PARAFAC2\n",
    "description: efforts to apply PARAFAC2 to decompose multiway data\n",
    "status: open\n",
    "project: 'parafac2'\n",
    "cdt: 1970-01-01\n",
    "conclusion: ''\n",
    "---"
   ]
  }
 ],
 "metadata": {
  "language_info": {
   "name": "python"
  }
 },
 "nbformat": 4,
 "nbformat_minor": 2
}
