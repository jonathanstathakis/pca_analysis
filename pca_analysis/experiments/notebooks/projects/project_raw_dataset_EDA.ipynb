{
 "cells": [
  {
   "cell_type": "markdown",
   "metadata": {},
   "source": [
    "---\n",
    "cdt: 2024-09-11T12:58:27\n",
    "title: \"'Raw' Dataset EDA\"\n",
    "project: \"raw_dataset_EDA\"\n",
    "description: \"EDA of the 'raw' dataset. General description and discovery of any outliers\"\n",
    "conclusion: \"\"\n",
    "status: open\n",
    "---\n"
   ]
  },
  {
   "cell_type": "code",
   "execution_count": null,
   "metadata": {},
   "outputs": [],
   "source": [
    "%reload_ext autoreload\n",
    "%autoreload 2\n",
    "\n",
    "from pca_analysis.experiments.toc import build_toc\n",
    "from pathlib import Path\n",
    "from great_tables import GT\n",
    "import duckdb as db\n",
    "import polars as pl\n",
    "experiments_path = \"../experiments\"\n",
    "nbooks = list(Path(experiments_path).glob(\"*.ipynb\"))\n",
    "pl.Config.set_fmt_str_lengths(9999)\n"
   ]
  },
  {
   "cell_type": "code",
   "execution_count": null,
   "metadata": {},
   "outputs": [],
   "source": [
    "toc = build_toc(paths=nbooks)\n"
   ]
  },
  {
   "cell_type": "code",
   "execution_count": null,
   "metadata": {},
   "outputs": [],
   "source": [
    "(\n",
    "db.sql(\"\"\"--sql\n",
    "SELECT\n",
    "    cdt,\n",
    "    title,\n",
    "    description,\n",
    "    conclusion,\n",
    "    link,\n",
    "    notes,\n",
    "FROM\n",
    "    toc\n",
    "WHERE\n",
    "    project = 'raw_dataset_EDA'\n",
    "ORDER BY\n",
    "    cdt DESC\n",
    "\"\"\")\n",
    ".pl()\n",
    ".with_columns(\n",
    "    pl.col('description').str.replace(\"./\", \"../experiments/\"),\n",
    "    pl.col('conclusion').str.replace(\"./\", \"../experiments/\"),\n",
    ")\n",
    ".pipe(GT)\n",
    ".fmt_markdown()\n",
    ".opt_stylize(style = 3, color='gray')\n",
    ".tab_options(\n",
    "    table_background_color='#363a4f',\n",
    "    table_font_color='#cad3f5',\n",
    "    table_font_size=1 \n",
    "    )\n",
    ")\n"
   ]
  },
  {
   "cell_type": "markdown",
   "metadata": {},
   "source": [
    "[test](../experiments/samples_missing_ct_metadata.ipynb)\n"
   ]
  }
 ],
 "metadata": {
  "kernelspec": {
   "display_name": "pca-analysis-6KQS4gUX-py3.12",
   "language": "python",
   "name": "python3"
  },
  "language_info": {
   "codemirror_mode": {
    "name": "ipython",
    "version": 3
   },
   "file_extension": ".py",
   "mimetype": "text/x-python",
   "name": "python",
   "nbconvert_exporter": "python",
   "pygments_lexer": "ipython3",
   "version": "3.12.2"
  }
 },
 "nbformat": 4,
 "nbformat_minor": 2
}
