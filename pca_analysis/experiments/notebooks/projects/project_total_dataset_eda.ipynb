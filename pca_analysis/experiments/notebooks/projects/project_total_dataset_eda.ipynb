{
 "cells": [
  {
   "cell_type": "markdown",
   "metadata": {},
   "source": [
    "---\n",
    "cdt: 2024-09-05T13:56:09\n",
    "title: \"Total Dataset EDA\"\n",
    "description: \"Total, overall dataset EDA - general description of the population that includes 'raw' and CUPRAC'\"\n",
    "project: total_dataset_EDA\n",
    "status: closed\n",
    "conclusion: \"There are 175 total samples. signals range from 190 to 400 or 600 nm. time idx ranges from 0 to 15599. Absorbance ranges from -3596 to ~2918. There are 5 distinct acquisition methods, 4 for 'raw', 1 for 'cuprac'. Almost all samples posses a time offset which can be corrected by subtraction of the zeroth time value from all others. An 'excluded_samples' table was created to document bad samples - samples 29 and 87 were added due to signal features. A 'dataset_EDA' schema was created to contain tables created during this project, including a subset of the chromatospectral table at 256 nm. Observation of the CUPRAC subpopulation at 256 nm was ill-advised, and further EDA will be conducted in a dataset-specific manner.\"\n",
    "---\n"
   ]
  },
  {
   "cell_type": "code",
   "execution_count": null,
   "metadata": {},
   "outputs": [],
   "source": [
    "%reload_ext autoreload\n",
    "%autoreload 2\n",
    "from great_tables import GT, style\n",
    "import duckdb as db\n",
    "from pathlib import Path\n",
    "from pca_analysis.constants import ROOT\n",
    "from pca_analysis.experiments.toc import build_toc\n",
    "import polars as pl\n",
    "\n",
    "pl.Config.set_fmt_str_lengths(9999)\n",
    "\n",
    "path = (ROOT / \"experiments\" / \"notebooks\" / \"experiments\")\n",
    "\n",
    "notebooks = list(Path(path).glob(\"*.ipynb\"))\n",
    "\n",
    "toc = build_toc(notebooks)\n"
   ]
  },
  {
   "cell_type": "markdown",
   "metadata": {},
   "source": [
    "# Chronological Order"
   ]
  },
  {
   "cell_type": "code",
   "execution_count": null,
   "metadata": {},
   "outputs": [],
   "source": [
    "(\n",
    "db.sql(\"\"\"--sql\n",
    "SELECT\n",
    "    cdt,\n",
    "    title,\n",
    "    description,\n",
    "    conclusion,\n",
    "    link,\n",
    "    notes,\n",
    "FROM\n",
    "    toc\n",
    "WHERE\n",
    "    project = 'total_dataset_EDA'\n",
    "ORDER BY\n",
    "    cdt DESC\n",
    "\"\"\")\n",
    ".pl()\n",
    ".with_columns(\n",
    "    pl.col('description').str.replace(\"./\", \"../experiments/\")\n",
    ")\n",
    ".pipe(GT)\n",
    ".fmt_markdown()\n",
    ".opt_stylize(style = 3, color='gray')\n",
    ".tab_options(\n",
    "    table_background_color='#363a4f',\n",
    "    table_font_color='#cad3f5',\n",
    "    table_font_size=1\n",
    "    \n",
    "    )\n",
    ")\n"
   ]
  },
  {
   "cell_type": "markdown",
   "metadata": {},
   "source": [
    "# By Execution Order\n"
   ]
  },
  {
   "cell_type": "code",
   "execution_count": null,
   "metadata": {},
   "outputs": [],
   "source": [
    "db.sql(\"SELECT execution_order, project, cdt, title, description, link, notes from toc where project = 'dataset_EDA' ORDER BY execution_order, cdt DESC\").pl().pipe(GT).fmt_markdown('link').opt_stylize(style = 5, color='gray')\n"
   ]
  },
  {
   "cell_type": "markdown",
   "metadata": {},
   "source": [
    "## Summaries of Raw Datasets\n",
    "\n",
    "As the CUPRAC dataset is much messier than the raw one, we will start with the raw set, and if time permits, move on to the CUPRAC.\n",
    "\n"
   ]
  }
 ],
 "metadata": {
  "kernelspec": {
   "display_name": "pca-analysis-6KQS4gUX-py3.12",
   "language": "python",
   "name": "python3"
  },
  "language_info": {
   "codemirror_mode": {
    "name": "ipython",
    "version": 3
   },
   "file_extension": ".py",
   "mimetype": "text/x-python",
   "name": "python",
   "nbconvert_exporter": "python",
   "pygments_lexer": "ipython3",
   "version": "3.12.2"
  }
 },
 "nbformat": 4,
 "nbformat_minor": 2
}
