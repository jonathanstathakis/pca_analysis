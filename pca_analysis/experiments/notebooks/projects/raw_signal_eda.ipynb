{
 "cells": [
  {
   "cell_type": "markdown",
   "metadata": {},
   "source": [
    "---\n",
    "cdt: 2024-09-11T14:01:36\n",
    "title: \"'raw' Signal EDA\"\n",
    "description: \"EDA on the signals of the 'raw' dataset, primarily to describe the distribution of times, wavelengths and absorbance, and find any outliers.\"\n",
    "conclusion: \"\"\n",
    "status: \"open\"\n",
    "---\n",
    "\n",
    "To export to xarray we need to unify the time and wavelength modes. To do this, we need a description of both. Removing any outliers will make this task simpler."
   ]
  },
  {
   "cell_type": "code",
   "execution_count": null,
   "metadata": {},
   "outputs": [],
   "source": [
    "# environment\n",
    "\n",
    "%reload_ext autoreload\n",
    "%autoreload 2\n",
    "\n",
    "import duckdb as db\n",
    "import polars as pl\n",
    "from pca_analysis.experiments.constants import db_path\n",
    "import seaborn as sns\n",
    "import matplotlib.pyplot as plt\n",
    "pl.Config.set_fmt_str_lengths(9999)\n",
    "pl.Config.set_tbl_rows(9999)\n",
    "con = db.connect(db_path)\n"
   ]
  },
  {
   "cell_type": "markdown",
   "metadata": {},
   "source": [
    "# Setup"
   ]
  },
  {
   "cell_type": "markdown",
   "metadata": {},
   "source": [
    "To make this simpler, should make a 'raw' specific join table.\n"
   ]
  },
  {
   "cell_type": "code",
   "execution_count": null,
   "metadata": {},
   "outputs": [],
   "source": [
    "con.sql(\n",
    "\"\"\"--sql\n",
    "SELECT\n",
    "    schema_name,\n",
    "    table_name\n",
    "FROM\n",
    "    duckdb_tables\n",
    "WHERE\n",
    "    schema_name = 'joins'\n",
    "\"\"\"\n",
    ").pl()\n"
   ]
  },
  {
   "cell_type": "code",
   "execution_count": null,
   "metadata": {},
   "outputs": [],
   "source": [
    "con.sql(\n",
    "\"\"\"--sql\n",
    "SELECT\n",
    "    *\n",
    "FROM\n",
    "    joins.chm_st_ct\n",
    "LIMIT 10\n",
    "\"\"\"\n",
    ").pl()\n"
   ]
  },
  {
   "cell_type": "code",
   "execution_count": null,
   "metadata": {},
   "outputs": [],
   "source": [
    "con.sql(\n",
    "\"\"\"--sql\n",
    "CREATE OR REPLACE TABLE raw.raw_join_tbl AS\n",
    "    SELECT\n",
    "        jt.*\n",
    "    FROM\n",
    "        joins.chm_st_ct as jt\n",
    "    JOIN\n",
    "        clean.st as st\n",
    "    ON\n",
    "        jt.pk_st = st.pk\n",
    "    WHERE\n",
    "        detection = 'raw';\n",
    "SELECT\n",
    "    *\n",
    "FROM\n",
    "    raw.raw_join_tbl\n",
    "\"\"\"\n",
    ").pl().shape\n"
   ]
  },
  {
   "cell_type": "markdown",
   "metadata": {},
   "source": [
    "Also, 'raw.cs_long' is missing the 'pk_chm' primary key. Easiest to recreate it here.\n"
   ]
  },
  {
   "cell_type": "code",
   "execution_count": null,
   "metadata": {},
   "outputs": [],
   "source": [
    "con.sql(\n",
    "\"\"\"--sql\n",
    "ALTER TABLE\n",
    "    raw.cs_long\n",
    "ADD COLUMN IF NOT EXISTS\n",
    "    pk_chm INTEGER;\n",
    "UPDATE\n",
    "    raw.cs_long AS tar\n",
    "SET\n",
    "    pk_chm = (\n",
    "        SELECT\n",
    "            sou.pk_chm\n",
    "        FROM\n",
    "            pbl.chromatogram_spectra_long as sou\n",
    "        JOIN\n",
    "            raw.raw_join_tbl as jt\n",
    "        ON\n",
    "            jt.pk_chm = sou.pk_chm\n",
    "        WHERE\n",
    "            sou.id = tar.id\n",
    "        );\n",
    "SELECT\n",
    "    *\n",
    "FROM\n",
    "    raw.cs_long\n",
    "LIMIT\n",
    "    5\n",
    "\"\"\"\n",
    ").pl()\n"
   ]
  },
  {
   "cell_type": "markdown",
   "metadata": {},
   "source": [
    "And confirm? use the key to join to the metadata, finding distinct pairings and confirm that the id's match."
   ]
  },
  {
   "cell_type": "code",
   "execution_count": null,
   "metadata": {},
   "outputs": [],
   "source": [
    "con.sql(\n",
    "\"\"\"--sql\n",
    "SELECT\n",
    "    bool_and(pk = pk_chm) as if_true_pass,\n",
    "    bool_and(cs.id = chm.id) as id_if_true_pass,\n",
    "FROM\n",
    "    raw.cs_long as cs\n",
    "JOIN\n",
    "    clean.chm as chm\n",
    "ON\n",
    "    chm.pk = cs.pk_chm\n",
    "\"\"\"\n",
    ").pl()\n"
   ]
  },
  {
   "cell_type": "markdown",
   "metadata": {},
   "source": [
    "if true, the key is successful."
   ]
  },
  {
   "cell_type": "markdown",
   "metadata": {},
   "source": [
    "# Description of 'raw.cs_long'"
   ]
  },
  {
   "cell_type": "code",
   "execution_count": null,
   "metadata": {},
   "outputs": [],
   "source": [
    "con.sql(\n",
    "\"\"\"--sql\n",
    "select\n",
    "    count(*) as rows\n",
    "FROM\n",
    "    raw.cs_long\n",
    "\"\"\"\n",
    ").pl()\n"
   ]
  },
  {
   "cell_type": "markdown",
   "metadata": {},
   "source": [
    "Including 'excluded' samples, there are over 85 million rows in 'raw.cs_long'."
   ]
  },
  {
   "cell_type": "code",
   "execution_count": null,
   "metadata": {},
   "outputs": [],
   "source": [
    "con.sql(\n",
    "\"\"\"--sql\n",
    "SELECT\n",
    "    table_schema,\n",
    "    table_name,\n",
    "    column_name,\n",
    "FROM\n",
    "    information_schema.columns\n",
    "WHERE\n",
    "    table_schema = 'raw'\n",
    "AND\n",
    "    table_name = 'cs_long'\n",
    "\"\"\"\n",
    ").pl()\n"
   ]
  },
  {
   "cell_type": "markdown",
   "metadata": {},
   "source": [
    "There are 8 columns: 'idx', 'id', 'mins', 'wavelength', 'absorbance', 'sample_num', 'detection', 'pk_chm'."
   ]
  },
  {
   "cell_type": "markdown",
   "metadata": {},
   "source": [
    "# Preprocessing\n",
    "\n",
    "The time offset will have to be corrected again in this table. Easiest just to do it directly."
   ]
  },
  {
   "cell_type": "code",
   "execution_count": null,
   "metadata": {},
   "outputs": [],
   "source": [
    "con.sql(\n",
    "\"\"\"--sql\n",
    "ALTER TABLE raw.cs_long ADD COLUMN IF NOT EXISTS mins_corrected DOUBLE;\n",
    "ALTER TABLE raw.cs_long ADD COLUMN IF NOT EXISTS secs_corrected DOUBLE;\n",
    "-- need to create an interm table\n",
    "CREATE OR REPLACE TEMP TABLE time_corrected AS (\n",
    "    WITH\n",
    "        mins_corrected_ AS (\n",
    "            SELECT\n",
    "                pk_chm,\n",
    "                wavelength,\n",
    "                idx,\n",
    "                mins - min(mins) OVER (PARTITION BY pk_chm, wavelength ORDER BY idx)as mins_corrected\n",
    "            FROM\n",
    "                raw.cs_long\n",
    "        ),\n",
    "        other_units_corrected AS (\n",
    "            SELECT\n",
    "                pk_chm,\n",
    "                wavelength,\n",
    "                idx,\n",
    "                mins_corrected,\n",
    "                mins_corrected * 60 as secs_corrected,\n",
    "            FROM\n",
    "                mins_corrected_\n",
    "        )\n",
    "    SELECT\n",
    "        *\n",
    "    FROM\n",
    "        other_units_corrected\n",
    ");\n",
    "UPDATE raw.cs_long as tar\n",
    "    SET mins_corrected = (\n",
    "        SELECT\n",
    "            mins_corrected\n",
    "        FROM\n",
    "            time_corrected as sou\n",
    "        WHERE\n",
    "            sou.pk_chm = tar.pk_chm\n",
    "        AND\n",
    "            sou.wavelength = tar.wavelength\n",
    "        AND\n",
    "            sou.idx = tar.idx\n",
    "    );\n",
    "UPDATE raw.cs_long as tar\n",
    "    SET secs_corrected = (\n",
    "        SELECT\n",
    "            secs_corrected\n",
    "        FROM\n",
    "            time_corrected as sou\n",
    "        WHERE\n",
    "            sou.pk_chm = tar.pk_chm\n",
    "        AND\n",
    "            sou.wavelength = tar.wavelength\n",
    "        AND \n",
    "            sou.idx = tar.idx\n",
    "    );\n",
    "SELECT\n",
    "    *\n",
    "FROM\n",
    "    raw.cs_long\n",
    "LIMIT\n",
    "    10;\n",
    "\"\"\"\n",
    ").pl()\n"
   ]
  },
  {
   "cell_type": "code",
   "execution_count": null,
   "metadata": {},
   "outputs": [],
   "source": [
    "con.sql(\n",
    "\"\"\"--sql\n",
    "SELECT\n",
    "    pk_chm,\n",
    "    absorbance,\n",
    "    idx,\n",
    "    mins_corrected as mins,\n",
    "FROM\n",
    "    raw.cs_long\n",
    "WHERE\n",
    "    wavelength = 256\n",
    "ORDER BY\n",
    "    pk_chm,\n",
    "    idx\n",
    "\"\"\"\n",
    ").pl().plot.line(x='idx',y='mins', by='pk_chm', title='idx vs. mins_corrected')\n"
   ]
  },
  {
   "cell_type": "markdown",
   "metadata": {},
   "source": [
    "If the line is straight then 'mins_corrected' is correct. The data should now be ready to analyse."
   ]
  },
  {
   "cell_type": "markdown",
   "metadata": {},
   "source": [
    "# Mode Descriptions\n"
   ]
  },
  {
   "cell_type": "markdown",
   "metadata": {},
   "source": [
    "## Time\n"
   ]
  },
  {
   "cell_type": "code",
   "execution_count": null,
   "metadata": {},
   "outputs": [],
   "source": [
    "con.sql(\n",
    "\"\"\"--sql\n",
    "SELECT * FROM dataset_eda.excluded_samples\n",
    "\"\"\"\n",
    ").pl()\n"
   ]
  },
  {
   "cell_type": "code",
   "execution_count": null,
   "metadata": {},
   "outputs": [],
   "source": [
    "con.sql(\n",
    "\"\"\"--sql\n",
    "SELECT\n",
    "    schema_name\n",
    "FROM\n",
    "    duckdb_schemas\n",
    "\"\"\"\n",
    ").pl()\n"
   ]
  },
  {
   "cell_type": "code",
   "execution_count": null,
   "metadata": {},
   "outputs": [],
   "source": [
    "con.sql(\n",
    "\"\"\"--sql\n",
    "CREATE OR REPLACE TEMP TABLE included_cs AS (\n",
    "WITH\n",
    "    included AS (\n",
    "        SELECT\n",
    "            *\n",
    "        FROM\n",
    "            raw.raw_join_tbl as jt\n",
    "        ANTI JOIN\n",
    "            dataset_eda.excluded_samples as exc\n",
    "        ON\n",
    "            jt.sample_num = exc.sample_num\n",
    "    )\n",
    "SELECT\n",
    "    cs.*\n",
    "FROM\n",
    "    raw.cs_long cs\n",
    "JOIN\n",
    "    included inc\n",
    "ON\n",
    "    cs.pk_chm = inc.pk_chm\n",
    "ORDER BY\n",
    "    cs.pk_chm,\n",
    "    cs.wavelength,\n",
    "    cs.idx\n",
    ");\n",
    "SELECT\n",
    "    count( distinct pk_chm) = 96 as individuals \n",
    "FROM\n",
    "    included_cs\n",
    "\"\"\"\n",
    ").pl()\n"
   ]
  },
  {
   "cell_type": "code",
   "execution_count": null,
   "metadata": {},
   "outputs": [],
   "source": [
    "con.sql(\n",
    "\"\"\"--sql\n",
    "SELECT\n",
    "    *\n",
    "FROM\n",
    "    included_cs \n",
    "LIMIT\n",
    "    3\n",
    "\"\"\"\n",
    ").pl()\n"
   ]
  },
  {
   "cell_type": "code",
   "execution_count": null,
   "metadata": {},
   "outputs": [],
   "source": [
    "con.sql(\n",
    "\"\"\"--sql\n",
    "CREATE OR REPLACE TABLE raw.time_aggs AS (\n",
    "WITH \n",
    "    nm_256 AS\n",
    "        (\n",
    "        SELECT\n",
    "            *\n",
    "        FROM\n",
    "            included_cs\n",
    "        WHERE\n",
    "            wavelength = 256\n",
    "        ),\n",
    "    time_aggs AS (\n",
    "        SELECT\n",
    "            pk_chm,\n",
    "            min(mins_corrected) as min,\n",
    "            max(mins_corrected) as max,\n",
    "            count(mins_corrected) as count,\n",
    "        FROM\n",
    "            nm_256\n",
    "        GROUP BY\n",
    "            pk_chm\n",
    "    )\n",
    "SELECT\n",
    "    *\n",
    "FROM\n",
    "    time_aggs\n",
    "ORDER BY\n",
    "    pk_chm\n",
    ");\n",
    "SELECT\n",
    "    *\n",
    "FROM\n",
    "    raw.time_aggs\n",
    "LIMIT 10\n",
    "\"\"\"\n",
    ").pl()\n"
   ]
  },
  {
   "cell_type": "code",
   "execution_count": null,
   "metadata": {},
   "outputs": [],
   "source": [
    "con.sql(\n",
    "\"\"\"--sql\n",
    "SELECT\n",
    "    count(distinct count)\n",
    "from\n",
    "    raw.time_aggs\n",
    "\"\"\"\n",
    ").pl()\n"
   ]
  },
  {
   "cell_type": "markdown",
   "metadata": {},
   "source": [
    "There are 4 distinct observation ranges, numbers of observation per sample.\n"
   ]
  },
  {
   "cell_type": "markdown",
   "metadata": {},
   "source": [
    "Do they correspond to a method?\n"
   ]
  },
  {
   "cell_type": "code",
   "execution_count": null,
   "metadata": {},
   "outputs": [],
   "source": [
    "con.sql(\n",
    "\"\"\"--sql\n",
    "CREATE OR REPLACE TEMP TABLE acq_method_aggs AS (\n",
    "    WITH\n",
    "        acq_method_aggs AS (\n",
    "        SELECT\n",
    "            chm.acq_method,\n",
    "            aggs.pk_chm,\n",
    "            aggs.min,\n",
    "            aggs.max,\n",
    "            aggs.count,\n",
    "        FROM\n",
    "            raw.time_aggs as aggs\n",
    "        JOIN\n",
    "            clean.chm as chm\n",
    "        ON\n",
    "            chm.pk = aggs.pk_chm\n",
    "        )\n",
    "    SELECT\n",
    "        *\n",
    "    FROM\n",
    "        acq_method_aggs\n",
    "    );\n",
    "SELECT\n",
    "    *\n",
    "FROM\n",
    "    acq_method_aggs\n",
    "LIMIT\n",
    "    10\n",
    "\"\"\"\n",
    ").pl()\n"
   ]
  },
  {
   "cell_type": "markdown",
   "metadata": {},
   "source": [
    "How many samples per method?\n"
   ]
  },
  {
   "cell_type": "code",
   "execution_count": null,
   "metadata": {},
   "outputs": [],
   "source": [
    "con.sql(\n",
    "\"\"\"--sql\n",
    "SELECT\n",
    "    acq_method,\n",
    "    count(pk_chm) as count\n",
    "FROM\n",
    "    acq_method_aggs\n",
    "GROUP BY\n",
    "    acq_method\n",
    "\"\"\"\n",
    ").pl()\n"
   ]
  },
  {
   "cell_type": "markdown",
   "metadata": {},
   "source": [
    "Only three methods?"
   ]
  },
  {
   "cell_type": "code",
   "execution_count": null,
   "metadata": {},
   "outputs": [],
   "source": [
    "con.sql(\n",
    "\"\"\"--sql\n",
    "SELECT\n",
    "    distinct acq_method\n",
    "FROM\n",
    "    acq_method_aggs\n",
    "\"\"\"\n",
    ").pl()\n"
   ]
  },
  {
   "cell_type": "markdown",
   "metadata": {},
   "source": [
    "Presumably one was unique to the excluded samples?\n"
   ]
  },
  {
   "cell_type": "code",
   "execution_count": null,
   "metadata": {},
   "outputs": [],
   "source": [
    "con.sql(\n",
    "\"\"\"--sql\n",
    "-- display methods in the excluded samples  not present in 'acq_method_aggs'\n",
    "SELECT\n",
    "    acq_method\n",
    "FROM\n",
    "    clean.chm chm\n",
    "JOIN\n",
    "    dataset_eda.excluded_samples exc\n",
    "ON\n",
    "    chm.sample_num = exc.sample_num\n",
    "EXCEPT\n",
    "SELECT\n",
    "    acq_method\n",
    "FROM\n",
    "    acq_method_aggs\n",
    "\"\"\"\n",
    ").pl()\n"
   ]
  },
  {
   "cell_type": "markdown",
   "metadata": {},
   "source": [
    "Halo. The Halo method shouldnt be in the database at all.\n"
   ]
  },
  {
   "cell_type": "markdown",
   "metadata": {},
   "source": [
    "Which sample uses it?"
   ]
  },
  {
   "cell_type": "code",
   "execution_count": null,
   "metadata": {},
   "outputs": [],
   "source": [
    "con.sql(\n",
    "\"\"\"--sql\n",
    "SELECT\n",
    "    chm.sample_num,\n",
    "    jt.pk_chm,\n",
    "    jt.pk_st,\n",
    "    acq_date,\n",
    "    seq_name,\n",
    "    st.notes,\n",
    "FROM\n",
    "    clean.chm chm\n",
    "JOIN\n",
    "    joins.chm_st_ct jt\n",
    "ON\n",
    "    jt.pk_chm = chm.pk\n",
    "JOIN\n",
    "    clean.st st\n",
    "ON\n",
    "    st.pk = jt.pk_st\n",
    "\n",
    "WHERE\n",
    "    acq_method LIKE '%halo%'\n",
    "\"\"\"\n",
    ").pl()\n"
   ]
  },
  {
   "cell_type": "markdown",
   "metadata": {},
   "source": [
    "One sample, sample 87. It was run on an incorrect method. Its already in the excluded list for being run at 5Hz as well. Wild."
   ]
  },
  {
   "cell_type": "code",
   "execution_count": null,
   "metadata": {},
   "outputs": [],
   "source": [
    "con.sql(\n",
    "\"\"\"--sql\n",
    "SELECT\n",
    "    *\n",
    "FROM\n",
    "    dataset_eda.excluded_samples\n",
    "WHERE\n",
    "    sample_num = 87\n",
    "\"\"\"\n",
    ").pl()\n"
   ]
  },
  {
   "cell_type": "markdown",
   "metadata": {},
   "source": [
    "Now, how many samples per remaining methods?"
   ]
  },
  {
   "cell_type": "markdown",
   "metadata": {},
   "source": [
    "create an inclusive, raw chm table.\n"
   ]
  },
  {
   "cell_type": "code",
   "execution_count": null,
   "metadata": {},
   "outputs": [],
   "source": [
    "con.sql(\n",
    "\"\"\"--sql\n",
    "-- create a chm table specific for raw excluding the excluded samples.\n",
    "CREATE OR REPLACE TABLE raw.chm AS (\n",
    "SELECT\n",
    "    *\n",
    "FROM\n",
    "    clean.chm as chm\n",
    "ANTI JOIN\n",
    "    dataset_eda.excluded_samples as exc\n",
    "ON\n",
    "    chm.sample_num = exc.sample_num\n",
    "JOIN\n",
    "    joins.chm_st_ct as jt\n",
    "ON\n",
    "    jt.pk_chm = chm.pk\n",
    "JOIN\n",
    "    clean.st st\n",
    "ON\n",
    "    st.pk = jt.pk_st\n",
    "WHERE\n",
    "    detection = 'raw'\n",
    ");\n",
    "SELECT\n",
    "    *\n",
    "FROM\n",
    "    raw.chm\n",
    "LIMIT 3\n",
    "\"\"\"\n",
    ").pl()\n"
   ]
  },
  {
   "cell_type": "code",
   "execution_count": null,
   "metadata": {},
   "outputs": [],
   "source": [
    "con.sql(\n",
    "\"\"\"--sql\n",
    "SELECT COUNT(*) FROM raw.chm\n",
    "\"\"\"\n",
    ").pl()\n"
   ]
  },
  {
   "cell_type": "code",
   "execution_count": null,
   "metadata": {},
   "outputs": [],
   "source": [
    "con.sql(\n",
    "\"\"\"--sql\n",
    "SELECT\n",
    "    distinct acq_method\n",
    "FROM\n",
    "    raw.chm\n",
    "\"\"\"\n",
    ").pl()\n"
   ]
  },
  {
   "cell_type": "markdown",
   "metadata": {},
   "source": [
    "Without the excluded samples, 3 methods remain in the raw dataset.\n"
   ]
  },
  {
   "cell_type": "code",
   "execution_count": null,
   "metadata": {},
   "outputs": [],
   "source": [
    "con.sql(\n",
    "\"\"\"--sql\n",
    "CREATE OR REPLACE TABLE raw.methods AS (\n",
    "WITH\n",
    "    timestamped AS (\n",
    "        SELECT\n",
    "            acq_method,\n",
    "            CAST(acq_date AS TIMESTAMP) as acq_date\n",
    "        FROM\n",
    "            raw.chm\n",
    "        ),\n",
    "    numbered AS (\n",
    "        SELECT\n",
    "            acq_method,\n",
    "            acq_date,\n",
    "        ),\n",
    "    method_aggs AS (\n",
    "        SELECT\n",
    "            acq_method,\n",
    "            min(acq_date) as earliest,\n",
    "            max(acq_date) as latest,\n",
    "            latest - earliest as length_of_use\n",
    "        FROM\n",
    "            timestamped\n",
    "        GROUP BY\n",
    "            acq_method        \n",
    "        )\n",
    "SELECT\n",
    "    dense_rank() OVER (ORDER BY earliest) as method_idx,\n",
    "    acq_method,\n",
    "    earliest,\n",
    "    latest,\n",
    "    length_of_use\n",
    "FROM\n",
    "    method_aggs\n",
    "ORDER BY\n",
    "    method_idx\n",
    "    );\n",
    "SELECT\n",
    "    *,\n",
    "FROM\n",
    "    raw.methods\n",
    "ORDER BY\n",
    "    earliest\n",
    "\"\"\"\n",
    ").df()\n"
   ]
  },
  {
   "cell_type": "markdown",
   "metadata": {},
   "source": [
    "As we can see, some methods were more popular than others. method 2, avantor 100 x 4.6mm C18 H20:MeOH at 2.5% was the most popular, with 55 days of use. The corresponding 2.1 and 2.5 44 mins were less popular, at 7 and 8 days respectively."
   ]
  },
  {
   "cell_type": "code",
   "execution_count": null,
   "metadata": {},
   "outputs": [],
   "source": [
    "con.sql(\n",
    "\"\"\"--sql\n",
    "WITH raw_samples_per_method AS (\n",
    "    SELECT\n",
    "        acq_method,\n",
    "        count(pk) as sample_count\n",
    "    FROM\n",
    "        raw.chm as chm\n",
    "    GROUP BY\n",
    "        acq_method\n",
    "    )\n",
    "SELECT\n",
    "    methods.method_idx,\n",
    "    methods.acq_method,\n",
    "    aggs.sample_count,\n",
    "    methods.earliest,\n",
    "    methods.latest,\n",
    "    methods.length_of_use,\n",
    "FROM\n",
    "    raw_samples_per_method as aggs\n",
    "LEFT JOIN\n",
    "    raw.methods as methods\n",
    "USING\n",
    "    (acq_method)\n",
    "ORDER BY\n",
    "    method_idx\n",
    "\"\"\"\n",
    ").df()\n"
   ]
  },
  {
   "cell_type": "markdown",
   "metadata": {},
   "source": [
    "As we can see, There are method 1. has 26 samples, method 2 has 64 samples, method 3 has 6 samples, method 5 has 71 samples."
   ]
  },
  {
   "cell_type": "markdown",
   "metadata": {},
   "source": [
    "What sets the methods apart? While the gradient is a concerning difference, There is not much I can do to observe it at the moment, without checking the data files. I should probably just do that..\n",
    "\n",
    "The thing is that the methods while having the same name throughout, may have been modified. The only way to tell is to check each samples gradient directly. This information can be manually accessed in acq.txt as a text based table. Not very useful for parsing. BUt that does contain the method name and gradient profile, so presumably the \"macaml\" does too.\n",
    "\n",
    "If we wanted to get the information we could try parsing the macaml again..\n"
   ]
  }
 ],
 "metadata": {
  "kernelspec": {
   "display_name": "pca-analysis-6KQS4gUX-py3.12",
   "language": "python",
   "name": "python3"
  },
  "language_info": {
   "codemirror_mode": {
    "name": "ipython",
    "version": 3
   },
   "file_extension": ".py",
   "mimetype": "text/x-python",
   "name": "python",
   "nbconvert_exporter": "python",
   "pygments_lexer": "ipython3",
   "version": "3.12.2"
  }
 },
 "nbformat": 4,
 "nbformat_minor": 2
}
