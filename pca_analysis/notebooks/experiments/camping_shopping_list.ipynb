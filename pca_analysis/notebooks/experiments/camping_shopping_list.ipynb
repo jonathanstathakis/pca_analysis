{
 "cells": [
  {
   "cell_type": "code",
   "execution_count": null,
   "metadata": {},
   "outputs": [],
   "source": [
    "import polars as pl\n",
    "\n",
    "\n",
    "class Meal:\n",
    "    def __init__(self, meal: str, day: int):\n",
    "        self.day = day\n",
    "        self.meal = meal\n",
    "        self.ing_schema = {\"ing\": str, \"unit\": str, \"val\": float}\n",
    "        self.schema = {\"day\": int, \"name\": str, **self.ing_schema}\n",
    "        self.df = pl.DataFrame(schema=self.schema)\n",
    "\n",
    "    def add_ingredient(self, name: str, unit: str, quantity: float):\n",
    "        ing_df = pl.from_records(\n",
    "            [[self.day, self.meal, name, unit, quantity]],\n",
    "            schema=self.schema,\n",
    "            orient=\"row\",\n",
    "        )\n",
    "\n",
    "        self.df = pl.concat([self.df, ing_df])\n"
   ]
  },
  {
   "cell_type": "code",
   "execution_count": 28,
   "metadata": {},
   "outputs": [
    {
     "data": {
      "text/html": [
       "<div><style>\n",
       ".dataframe > thead > tr,\n",
       ".dataframe > tbody > tr {\n",
       "  text-align: right;\n",
       "  white-space: pre-wrap;\n",
       "}\n",
       "</style>\n",
       "<small>shape: (1, 2)</small><table border=\"1\" class=\"dataframe\"><thead><tr><th>day</th><th>meal</th></tr><tr><td>i32</td><td>str</td></tr></thead><tbody><tr><td>1</td><td>&quot;burgers&quot;</td></tr></tbody></table></div>"
      ],
      "text/plain": [
       "shape: (1, 2)\n",
       "┌─────┬─────────┐\n",
       "│ day ┆ meal    │\n",
       "│ --- ┆ ---     │\n",
       "│ i32 ┆ str     │\n",
       "╞═════╪═════════╡\n",
       "│ 1   ┆ burgers │\n",
       "└─────┴─────────┘"
      ]
     },
     "metadata": {},
     "output_type": "display_data"
    },
    {
     "data": {
      "text/html": [
       "<div><style>\n",
       ".dataframe > thead > tr,\n",
       ".dataframe > tbody > tr {\n",
       "  text-align: right;\n",
       "  white-space: pre-wrap;\n",
       "}\n",
       "</style>\n",
       "<small>shape: (5, 2)</small><table border=\"1\" class=\"dataframe\"><thead><tr><th>ing</th><th>quant</th></tr><tr><td>str</td><td>i64</td></tr></thead><tbody><tr><td>&quot;buns&quot;</td><td>6</td></tr><tr><td>&quot;sliced_cheese&quot;</td><td>8</td></tr><tr><td>&quot;tomato&quot;</td><td>1</td></tr><tr><td>&quot;mayo (ml)&quot;</td><td>120</td></tr><tr><td>&quot;patties&quot;</td><td>4</td></tr></tbody></table></div>"
      ],
      "text/plain": [
       "shape: (5, 2)\n",
       "┌───────────────┬───────┐\n",
       "│ ing           ┆ quant │\n",
       "│ ---           ┆ ---   │\n",
       "│ str           ┆ i64   │\n",
       "╞═══════════════╪═══════╡\n",
       "│ buns          ┆ 6     │\n",
       "│ sliced_cheese ┆ 8     │\n",
       "│ tomato        ┆ 1     │\n",
       "│ mayo (ml)     ┆ 120   │\n",
       "│ patties       ┆ 4     │\n",
       "└───────────────┴───────┘"
      ]
     },
     "metadata": {},
     "output_type": "display_data"
    },
    {
     "data": {
      "text/html": [
       "<div><style>\n",
       ".dataframe > thead > tr,\n",
       ".dataframe > tbody > tr {\n",
       "  text-align: right;\n",
       "  white-space: pre-wrap;\n",
       "}\n",
       "</style>\n",
       "<small>shape: (1, 2)</small><table border=\"1\" class=\"dataframe\"><thead><tr><th>day</th><th>meal</th></tr><tr><td>i32</td><td>str</td></tr></thead><tbody><tr><td>2</td><td>&quot;pasta_stew&quot;</td></tr></tbody></table></div>"
      ],
      "text/plain": [
       "shape: (1, 2)\n",
       "┌─────┬────────────┐\n",
       "│ day ┆ meal       │\n",
       "│ --- ┆ ---        │\n",
       "│ i32 ┆ str        │\n",
       "╞═════╪════════════╡\n",
       "│ 2   ┆ pasta_stew │\n",
       "└─────┴────────────┘"
      ]
     },
     "metadata": {},
     "output_type": "display_data"
    },
    {
     "data": {
      "text/html": [
       "<div><style>\n",
       ".dataframe > thead > tr,\n",
       ".dataframe > tbody > tr {\n",
       "  text-align: right;\n",
       "  white-space: pre-wrap;\n",
       "}\n",
       "</style>\n",
       "<small>shape: (4, 2)</small><table border=\"1\" class=\"dataframe\"><thead><tr><th>ing</th><th>quant</th></tr><tr><td>str</td><td>i64</td></tr></thead><tbody><tr><td>&quot;lentils (cans)&quot;</td><td>2</td></tr><tr><td>&quot;passata&quot;</td><td>1</td></tr><tr><td>&quot;carrots&quot;</td><td>3</td></tr><tr><td>&quot;onions&quot;</td><td>2</td></tr></tbody></table></div>"
      ],
      "text/plain": [
       "shape: (4, 2)\n",
       "┌────────────────┬───────┐\n",
       "│ ing            ┆ quant │\n",
       "│ ---            ┆ ---   │\n",
       "│ str            ┆ i64   │\n",
       "╞════════════════╪═══════╡\n",
       "│ lentils (cans) ┆ 2     │\n",
       "│ passata        ┆ 1     │\n",
       "│ carrots        ┆ 3     │\n",
       "│ onions         ┆ 2     │\n",
       "└────────────────┴───────┘"
      ]
     },
     "metadata": {},
     "output_type": "display_data"
    },
    {
     "data": {
      "text/html": [
       "<div><style>\n",
       ".dataframe > thead > tr,\n",
       ".dataframe > tbody > tr {\n",
       "  text-align: right;\n",
       "  white-space: pre-wrap;\n",
       "}\n",
       "</style>\n",
       "<small>shape: (9, 4)</small><table border=\"1\" class=\"dataframe\"><thead><tr><th>day</th><th>meal</th><th>ing</th><th>quant</th></tr><tr><td>i32</td><td>str</td><td>str</td><td>i64</td></tr></thead><tbody><tr><td>1</td><td>&quot;burgers&quot;</td><td>&quot;buns&quot;</td><td>6</td></tr><tr><td>1</td><td>&quot;burgers&quot;</td><td>&quot;sliced_cheese&quot;</td><td>8</td></tr><tr><td>1</td><td>&quot;burgers&quot;</td><td>&quot;tomato&quot;</td><td>1</td></tr><tr><td>1</td><td>&quot;burgers&quot;</td><td>&quot;mayo (ml)&quot;</td><td>120</td></tr><tr><td>1</td><td>&quot;burgers&quot;</td><td>&quot;patties&quot;</td><td>4</td></tr><tr><td>2</td><td>&quot;pasta_stew&quot;</td><td>&quot;lentils (cans)&quot;</td><td>2</td></tr><tr><td>2</td><td>&quot;pasta_stew&quot;</td><td>&quot;passata&quot;</td><td>1</td></tr><tr><td>2</td><td>&quot;pasta_stew&quot;</td><td>&quot;carrots&quot;</td><td>3</td></tr><tr><td>2</td><td>&quot;pasta_stew&quot;</td><td>&quot;onions&quot;</td><td>2</td></tr></tbody></table></div>"
      ],
      "text/plain": [
       "shape: (9, 4)\n",
       "┌─────┬────────────┬────────────────┬───────┐\n",
       "│ day ┆ meal       ┆ ing            ┆ quant │\n",
       "│ --- ┆ ---        ┆ ---            ┆ ---   │\n",
       "│ i32 ┆ str        ┆ str            ┆ i64   │\n",
       "╞═════╪════════════╪════════════════╪═══════╡\n",
       "│ 1   ┆ burgers    ┆ buns           ┆ 6     │\n",
       "│ 1   ┆ burgers    ┆ sliced_cheese  ┆ 8     │\n",
       "│ 1   ┆ burgers    ┆ tomato         ┆ 1     │\n",
       "│ 1   ┆ burgers    ┆ mayo (ml)      ┆ 120   │\n",
       "│ 1   ┆ burgers    ┆ patties        ┆ 4     │\n",
       "│ 2   ┆ pasta_stew ┆ lentils (cans) ┆ 2     │\n",
       "│ 2   ┆ pasta_stew ┆ passata        ┆ 1     │\n",
       "│ 2   ┆ pasta_stew ┆ carrots        ┆ 3     │\n",
       "│ 2   ┆ pasta_stew ┆ onions         ┆ 2     │\n",
       "└─────┴────────────┴────────────────┴───────┘"
      ]
     },
     "execution_count": 28,
     "metadata": {},
     "output_type": "execute_result"
    }
   ],
   "source": [
    "import polars as pl\n",
    "\n",
    "pl.Config().set_tbl_rows(99)\n",
    "df = pl.DataFrame()\n",
    "\n",
    "\n",
    "def construct_meal_tbl(\n",
    "    day_num: int, meal_name: str, ingredients: dict[str, float]\n",
    ") -> pl.DataFrame:\n",
    "    df = pl.DataFrame()\n",
    "\n",
    "    df = df.with_columns(pl.lit(day_num).alias(\"day\"), pl.lit(meal_name).alias(\"meal\"))\n",
    "\n",
    "    ing_df = pl.DataFrame(\n",
    "        [\n",
    "            pl.Series(name=\"ing\", values=ingredients.keys()),\n",
    "            pl.Series(name=\"quant\", values=ingredients.values()),\n",
    "        ],\n",
    "    )\n",
    "    display(df)\n",
    "    display(ing_df)\n",
    "    df = df.join(\n",
    "        ing_df,\n",
    "        how=\"cross\",\n",
    "    )\n",
    "\n",
    "    return df\n",
    "\n",
    "\n",
    "burger_ings = [\n",
    "    [\"buns\", \"patties\", 6],\n",
    "    [\"sliced_cheese\", \"slices\", 8],\n",
    "    [\"tomato\", 1],\n",
    "    [\"mayo (ml)\", 120],\n",
    "    [\"patties\", 4],\n",
    "]\n",
    "meal_1 = construct_meal_tbl(\n",
    "    day_num=1,\n",
    "    meal_name=\"burgers\",\n",
    "    ingredients={},\n",
    ")\n",
    "meal_2 = construct_meal_tbl(\n",
    "    day_num=2,\n",
    "    meal_name=\"pasta_stew\",\n",
    "    ingredients={\"lentils (cans)\": 2, \"passata\": 1, \"carrots\": 3, \"onions\": 2},\n",
    ")\n",
    "\n",
    "\n",
    "meatloaf_ings = [\n",
    "    [\"impossible mince\", \"packet\", 2],\n",
    "    [\"carrots\", \"whole\", 2],\n",
    "    [\"peas\", \"cup\", 1],\n",
    "    [\"eggs\", \"whole\", 2],\n",
    "    [\"brown mushrooms\", \"whole\", 4],\n",
    "    [\"parsley\", \"sprig\", 1],\n",
    "    [\"ketchup\", \"cup\", 0.5],\n",
    "    [\"breadcrumbs\", \"cup\", 2],\n",
    "]\n",
    "\n",
    "meal3 = Meal(meal=\"meatloaf\", day=1)\n",
    "for row in meatloaf_ings:\n",
    "    meal3.add_ingredient(*row)\n",
    "\n",
    "# meal_4 = construct_meal_tbl(\n",
    "#     day_num=4,\n",
    "#     meal_name=\"frittata\",\n",
    "#     ingredients=[\"eggs\", \"carrots\", \"leek\", \"potato\", \"peas\", \"\"],\n",
    "# )\n",
    "meals = [\n",
    "    meal_1,\n",
    "    meal_2,\n",
    "    #  meal_3\n",
    "]\n",
    "meals = pl.concat(meals, how=\"vertical\")\n",
    "meals\n"
   ]
  },
  {
   "cell_type": "code",
   "execution_count": null,
   "metadata": {},
   "outputs": [],
   "source": []
  }
 ],
 "metadata": {
  "kernelspec": {
   "display_name": "pca-analysis-6KQS4gUX-py3.12",
   "language": "python",
   "name": "python3"
  },
  "language_info": {
   "codemirror_mode": {
    "name": "ipython",
    "version": 3
   },
   "file_extension": ".py",
   "mimetype": "text/x-python",
   "name": "python",
   "nbconvert_exporter": "python",
   "pygments_lexer": "ipython3",
   "version": "3.12.2"
  }
 },
 "nbformat": 4,
 "nbformat_minor": 2
}
