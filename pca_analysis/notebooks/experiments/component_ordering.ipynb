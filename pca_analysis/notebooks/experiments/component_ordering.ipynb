{
 "cells": [
  {
   "cell_type": "raw",
   "id": "c1b1006b-744c-4467-95ed-32ac2fa1b927",
   "metadata": {
    "vscode": {
     "languageId": "raw"
    }
   },
   "source": [
    "---\n",
    "cdt: 2024-09-03T14:29:50\n",
    "title: Component Ordering\n",
    "description: \"A short discussion on the time-wise ordering of the pure components of PARAFAC2 model\"\n",
    "conclusion: \"The component ordering in a decomposition is random and therefore will need time ordering based on pure peak maxima\"\n",
    "project: parafac2\n",
    "status: closed\n",
    "---\n"
   ]
  },
  {
   "cell_type": "markdown",
   "id": "f47bd565",
   "metadata": {
    "vscode": {
     "languageId": "raw"
    }
   },
   "source": [
    "# Component Ordering\n",
    "\n",
    "What is the order of the components (columns) of the PARAFAC2 decomposition factor matrices? As shown in [PARAFAC2 Decomposition As Shapes](pca_analysis/experiments/notebooks/decomposition_as_shapes.ipynb), the pure analytes corresponding to the selected rank of the model are represented throughout $A$, $B$, and $C$ as their columns, where $A$ is the concentration, $B$ is the elution profile and $C$ is the spectral profile. Observe:\n",
    "\n",
    "Are they $I$ ordered? It is not something that is discussed by @kiers_parafac2parti_1999 or @bro_parafac2partii_1999.\n"
   ]
  },
  {
   "cell_type": "code",
   "execution_count": null,
   "id": "9cd021fa-a0ad-4d23-a559-aaeec7d5df16",
   "metadata": {},
   "outputs": [
    {
     "ename": "ModuleNotFoundError",
     "evalue": "No module named 'pca_analysis.experiments'",
     "output_type": "error",
     "traceback": [
      "\u001b[0;31m---------------------------------------------------------------------------\u001b[0m",
      "\u001b[0;31mModuleNotFoundError\u001b[0m                       Traceback (most recent call last)",
      "\u001b[1;32m/Users/jonathan/mres_thesis/pca_analysis/pca_analysis/notebooks/notes/component_ordering.ipynb Cell 2\u001b[0m line \u001b[0;36m7\n\u001b[1;32m      <a href='vscode-notebook-cell:/Users/jonathan/mres_thesis/pca_analysis/pca_analysis/notebooks/notes/component_ordering.ipynb#W1sZmlsZQ%3D%3D?line=4'>5</a>\u001b[0m \u001b[39mimport\u001b[39;00m \u001b[39mmatplotlib\u001b[39;00m\u001b[39m.\u001b[39;00m\u001b[39mpyplot\u001b[39;00m \u001b[39mas\u001b[39;00m \u001b[39mplt\u001b[39;00m\n\u001b[1;32m      <a href='vscode-notebook-cell:/Users/jonathan/mres_thesis/pca_analysis/pca_analysis/notebooks/notes/component_ordering.ipynb#W1sZmlsZQ%3D%3D?line=5'>6</a>\u001b[0m \u001b[39mfrom\u001b[39;00m \u001b[39mpca_analysis\u001b[39;00m\u001b[39m.\u001b[39;00m\u001b[39mcode\u001b[39;00m\u001b[39m.\u001b[39;00m\u001b[39mget_sample_data\u001b[39;00m \u001b[39mimport\u001b[39;00m get_zhang_data\n\u001b[0;32m----> <a href='vscode-notebook-cell:/Users/jonathan/mres_thesis/pca_analysis/pca_analysis/notebooks/notes/component_ordering.ipynb#W1sZmlsZQ%3D%3D?line=6'>7</a>\u001b[0m \u001b[39mfrom\u001b[39;00m \u001b[39mpca_analysis\u001b[39;00m\u001b[39m.\u001b[39;00m\u001b[39mexperiments\u001b[39;00m\u001b[39m.\u001b[39;00m\u001b[39mnotebooks\u001b[39;00m\u001b[39m.\u001b[39;00m\u001b[39mcode\u001b[39;00m\u001b[39m.\u001b[39;00m\u001b[39mparafac2\u001b[39;00m \u001b[39mimport\u001b[39;00m Parafac2\n\u001b[1;32m      <a href='vscode-notebook-cell:/Users/jonathan/mres_thesis/pca_analysis/pca_analysis/notebooks/notes/component_ordering.ipynb#W1sZmlsZQ%3D%3D?line=7'>8</a>\u001b[0m \u001b[39mimport\u001b[39;00m \u001b[39mscipy\u001b[39;00m\u001b[39m.\u001b[39;00m\u001b[39mspatial\u001b[39;00m\u001b[39m.\u001b[39;00m\u001b[39mdistance\u001b[39;00m \u001b[39mas\u001b[39;00m \u001b[39mdistance\u001b[39;00m\n\u001b[1;32m      <a href='vscode-notebook-cell:/Users/jonathan/mres_thesis/pca_analysis/pca_analysis/notebooks/notes/component_ordering.ipynb#W1sZmlsZQ%3D%3D?line=8'>9</a>\u001b[0m \u001b[39mfrom\u001b[39;00m \u001b[39mmatplotlib\u001b[39;00m\u001b[39m.\u001b[39;00m\u001b[39mpatches\u001b[39;00m \u001b[39mimport\u001b[39;00m Patch\n",
      "\u001b[0;31mModuleNotFoundError\u001b[0m: No module named 'pca_analysis.experiments'"
     ]
    }
   ],
   "source": [
    "%load_ext autoreload\n",
    "%autoreload 2\n",
    "\n",
    "from tensorly.decomposition import parafac2 as tl_parafac2\n",
    "import matplotlib.pyplot as plt\n",
    "from pca_analysis.get_sample_data import get_zhang_data\n",
    "from pca_analysis.experiments.notebooks.code.parafac2 import Parafac2\n",
    "import scipy.spatial.distance as distance\n",
    "from matplotlib.patches import Patch\n"
   ]
  },
  {
   "cell_type": "code",
   "execution_count": null,
   "id": "9bf3cb8b-31c0-46b1-9292-e288c0c0bf88",
   "metadata": {},
   "outputs": [
    {
     "ename": "NameError",
     "evalue": "name 'get_zhang_data' is not defined",
     "output_type": "error",
     "traceback": [
      "\u001b[0;31m---------------------------------------------------------------------------\u001b[0m",
      "\u001b[0;31mNameError\u001b[0m                                 Traceback (most recent call last)",
      "\u001b[1;32m/Users/jonathan/mres_thesis/pca_analysis/pca_analysis/notebooks/notes/component_ordering.ipynb Cell 3\u001b[0m line \u001b[0;36m1\n\u001b[0;32m----> <a href='vscode-notebook-cell:/Users/jonathan/mres_thesis/pca_analysis/pca_analysis/notebooks/notes/component_ordering.ipynb#W2sZmlsZQ%3D%3D?line=0'>1</a>\u001b[0m raw_data \u001b[39m=\u001b[39m get_zhang_data()\n\u001b[1;32m      <a href='vscode-notebook-cell:/Users/jonathan/mres_thesis/pca_analysis/pca_analysis/notebooks/notes/component_ordering.ipynb#W2sZmlsZQ%3D%3D?line=2'>3</a>\u001b[0m raw_data\u001b[39m.\u001b[39mhead(\u001b[39m3\u001b[39m)\n",
      "\u001b[0;31mNameError\u001b[0m: name 'get_zhang_data' is not defined"
     ]
    }
   ],
   "source": [
    "raw_data = get_zhang_data()\n",
    "\n",
    "raw_data.head(3)\n"
   ]
  },
  {
   "cell_type": "code",
   "execution_count": null,
   "id": "0f67056b-c7fe-4fff-8c4d-a1488e56fc76",
   "metadata": {},
   "outputs": [],
   "source": [
    "_decomp, err = tl_parafac2(\n",
    "    raw_data.to_numpy(),\n",
    "    3,\n",
    "    return_errors=True,\n",
    "    verbose=True,\n",
    "    n_iter_max=500,\n",
    "    nn_modes=\"all\",\n",
    ")\n"
   ]
  },
  {
   "cell_type": "code",
   "execution_count": null,
   "id": "0b877b06-8e92-43ef-8ca9-9aa6d23fd751",
   "metadata": {},
   "outputs": [],
   "source": [
    "parafac2 = Parafac2(_decomp, raw_data)\n"
   ]
  },
  {
   "cell_type": "code",
   "execution_count": null,
   "id": "f4c8662c-dc5d-48fa-bead-49f4fe49803b",
   "metadata": {},
   "outputs": [],
   "source": [
    "parafac2.pure.C.shape\n"
   ]
  },
  {
   "cell_type": "code",
   "execution_count": null,
   "id": "4447dddc-b799-42bf-a0f0-bb3d0fd9937a",
   "metadata": {},
   "outputs": [],
   "source": [
    "# present the three decompositions and the original data\n",
    "\n",
    "fig, axs = plt.subplots(2, 2, layout=\"constrained\")\n",
    "\n",
    "mz = 44\n",
    "mz_idx = 39\n",
    "sample_idx = 10\n",
    "\n",
    "# original data\n",
    "\n",
    "axs = axs.ravel()\n",
    "\n",
    "\n",
    "# Raw Data\n",
    "raw_data.isel(sample=sample_idx, mz=mz_idx).plot.line(ax=axs[0], color=\"black\")\n",
    "axs[0].set_title(\"raw data\")\n",
    "axs[0].set_ylabel(\"abs\")\n",
    "\n",
    "# A\n",
    "A = parafac2.pure.A\n",
    "\n",
    "# see <https://stackoverflow.com/questions/71256037/control-order-of-tab10-colors-in-colormap> for source\n",
    "colors = [plt.cm.tab10.colors[i] for i in range(0, A.shape[1])]\n",
    "labels = [i for i in range(0, len(colors))]\n",
    "\n",
    "axs[1].bar(range(0, len(A[sample_idx])), A[sample_idx], color=colors, label=labels)\n",
    "axs[1].set_title(\"A\")\n",
    "axs[1].set_xlabel(\"K\")\n",
    "\n",
    "# B\n",
    "axs[2].plot(parafac2.pure.B[sample_idx])\n",
    "axs[2].set_title(\"B\")\n",
    "axs[2].set_xlabel(\"I\")\n",
    "axs[2].set_ylabel(\"y\")\n",
    "\n",
    "# C\n",
    "C_44 = parafac2.pure.C[mz_idx]\n",
    "axs[3].bar(\n",
    "    x=range(0, len(C_44)),\n",
    "    height=C_44,\n",
    "    color=colors,\n",
    ")\n",
    "axs[3].set_title(\"C\")\n",
    "axs[3].set_xlabel(\"J\")\n",
    "axs[3].set_ylabel(\"y\")\n",
    "\n",
    "fig.suptitle(\"Comparison of Raw Data and its Decompositions\")\n",
    "fig.text(0, -0.05, r\"For a $X \\in R^{I, J, K}$ where mz ($J$) = 44, sample ($K$) = 10\")\n",
    "\n",
    "legend_elements = [Patch(color=color, label=i) for i, color in enumerate(colors)]\n",
    "\n",
    "fig.legend()\n"
   ]
  },
  {
   "cell_type": "code",
   "execution_count": null,
   "id": "06a2f77a-3794-4152-94d5-78057e97a72d",
   "metadata": {},
   "outputs": [],
   "source": [
    "for idx, k in enumerate(A.T):\n",
    "    plt.plot(k, label=idx)\n",
    "\n",
    "plt.xlabel(\"J\")\n",
    "plt.ylabel(\"y\")\n",
    "plt.title(\"A as a function of K\")\n",
    "plt.legend()\n"
   ]
  },
  {
   "cell_type": "markdown",
   "id": "dcae11ae-4c16-4adb-9c75-94fecb674be9",
   "metadata": {},
   "source": [
    "The ordering of the components is not repeatable, even if the solution is. For example in the above plot the noise (the lowest intensity signal) may be component 0, 1 or 2. We can demonstrate the random nature of component ordering through a series of correlation matrixes over a number of runs:"
   ]
  },
  {
   "cell_type": "code",
   "execution_count": null,
   "id": "18a35950-72cb-4e7c-abdf-a43bf96c393a",
   "metadata": {},
   "outputs": [],
   "source": [
    "def run_parafac(data):\n",
    "    _decomp, err = tl_parafac2(\n",
    "        raw_data.to_numpy(),\n",
    "        3,\n",
    "        return_errors=True,\n",
    "        verbose=True,\n",
    "        n_iter_max=500,\n",
    "        nn_modes=\"all\",\n",
    "    )\n",
    "    parafac2 = Parafac2(_decomp, raw_data)\n",
    "    return parafac2\n",
    "\n",
    "\n",
    "def run_decomps(data, n_runs=4):\n",
    "    runs = []\n",
    "\n",
    "    for run in range(0, n_runs):\n",
    "        runs.append(run_parafac(data))\n",
    "\n",
    "    return runs\n",
    "\n",
    "\n",
    "runs = run_decomps(raw_data)\n"
   ]
  },
  {
   "cell_type": "code",
   "execution_count": null,
   "id": "9550cc54-9133-4e16-a0ec-6d3efba7e825",
   "metadata": {},
   "outputs": [],
   "source": [
    "def build_run_corr(runs):\n",
    "    \"\"\"\n",
    "    Create an L2 correlation matrix along the runs and plot as a heatmap\n",
    "    \"\"\"\n",
    "    As = [run.pure.A for run in runs]\n",
    "\n",
    "    # Using A_0 as a reference\n",
    "\n",
    "    A_0 = As[0]\n",
    "\n",
    "    corrs = []\n",
    "    for A in As:\n",
    "        corrs.append(distance.cdist(A_0.T, A.T))\n",
    "\n",
    "    import seaborn as sns\n",
    "\n",
    "    fig, axs = plt.subplots(2, 2, layout=\"constrained\")\n",
    "\n",
    "    flat_axs = axs.ravel()\n",
    "\n",
    "    for i, corr in enumerate(corrs):\n",
    "        sns.heatmap(corr, ax=flat_axs[i], xticklabels=\"auto\", annot=True, cbar=False)\n",
    "        flat_axs[i].set_title(i)\n",
    "\n",
    "    fig.suptitle(\"Correlation Matrices\")\n",
    "\n",
    "    s = \"\"\"\n",
    "    Correlation Matrices between the 0th run (0) and other runs.\n",
    "    If all runs had the same component ordering, all maps would appear the same\n",
    "    \"\"\"\n",
    "    fig.text(x=0.0, y=-0.1, s=s)\n",
    "\n",
    "    # want to iterate over each column through the run mode.\n",
    "\n",
    "\n",
    "build_run_corr(runs)\n"
   ]
  },
  {
   "cell_type": "markdown",
   "id": "4b3055f4-25a1-4beb-b294-58ea80196a9e",
   "metadata": {},
   "source": [
    "Thus time-wise peak labeling would have to be done by observing the peak maxima point for each peak individually then labeling.\n",
    "\n",
    "At a later date I will need to investigate how the components are ordered during the decomposition. I assume its based on random initialisation, but I would have thought if anything that the largest peak (component) would always be first, and ordered thusly."
   ]
  }
 ],
 "metadata": {
  "kernelspec": {
   "display_name": "pca-analysis-6KQS4gUX-py3.12",
   "language": "python",
   "name": "python3"
  },
  "language_info": {
   "codemirror_mode": {
    "name": "ipython",
    "version": 3
   },
   "file_extension": ".py",
   "mimetype": "text/x-python",
   "name": "python",
   "nbconvert_exporter": "python",
   "pygments_lexer": "ipython3",
   "version": "3.12.2"
  }
 },
 "nbformat": 4,
 "nbformat_minor": 5
}
