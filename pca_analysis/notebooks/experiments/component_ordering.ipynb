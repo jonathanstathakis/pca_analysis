{
 "cells": [
  {
   "cell_type": "raw",
   "id": "0",
   "metadata": {
    "vscode": {
     "languageId": "raw"
    }
   },
   "source": [
    "---\n",
    "cdt: 2024-09-03T14:29:50\n",
    "title: Component Ordering\n",
    "description: \"A short discussion on the time-wise ordering of the pure components of PARAFAC2 model\"\n",
    "conclusion: \"The component ordering in a decomposition is random and therefore will need time ordering based on pure peak maxima\"\n",
    "project: parafac2\n",
    "status: closed\n",
    "---\n"
   ]
  },
  {
   "cell_type": "markdown",
   "id": "1",
   "metadata": {
    "vscode": {
     "languageId": "raw"
    }
   },
   "source": [
    "# Component Ordering\n",
    "\n",
    "What is the order of the components (columns) of the PARAFAC2 decomposition factor matrices? As shown in [PARAFAC2 Decomposition As Shapes](pca_analysis/experiments/notebooks/decomposition_as_shapes.ipynb), the pure analytes corresponding to the selected rank of the model are represented throughout $A$, $B$, and $C$ as their columns, where $A$ is the concentration, $B$ is the elution profile and $C$ is the spectral profile.\n",
    "\n",
    "Are they $I$ ordered? It is not something that is discussed by @kiers_parafac2parti_1999 or @bro_parafac2partii_1999.\n"
   ]
  },
  {
   "cell_type": "code",
   "execution_count": null,
   "id": "2",
   "metadata": {},
   "outputs": [],
   "source": [
    "from pca_analysis.get_sample_data import get_zhang_data\n",
    "\n",
    "raw_data = get_zhang_data()\n",
    "raw_data.head(3), raw_data.shape\n"
   ]
  },
  {
   "cell_type": "code",
   "execution_count": null,
   "id": "3",
   "metadata": {},
   "outputs": [],
   "source": [
    "from pca_analysis.parafac2_pipeline.estimators import PARAFAC2\n",
    "\n",
    "parafac2 = PARAFAC2(rank=3, linesearch=False, nn_modes=\"all\", n_iter_max=1)\n",
    "parafac2.fit_transform(raw_data.to_numpy())\n",
    "\n",
    "component_xr = parafac2.get_sample_component_tensors(\n",
    "    as_xarr=True, input_coords=raw_data.coords\n",
    ")\n",
    "component_xr.sel(sample=10, mz=39).plot.line(x=\"time\")\n"
   ]
  },
  {
   "cell_type": "markdown",
   "id": "4",
   "metadata": {},
   "source": [
    "The ordering of the components is not repeatable, even if the solution is. For example in the above plot the noise (the lowest intensity signal) may be component 0, 1 or 2. We can demonstrate the random nature of component ordering through a series of correlation matrixes over a number of runs:"
   ]
  },
  {
   "cell_type": "code",
   "execution_count": null,
   "id": "5",
   "metadata": {},
   "outputs": [],
   "source": [
    "import matplotlib.pyplot as plt\n",
    "import numpy as np\n",
    "from pca_analysis.parafac2_pipeline.estimators import PARAFAC2\n",
    "\n",
    "fig, axes = plt.subplots(\n",
    "    3,\n",
    "    3,\n",
    ")\n",
    "\n",
    "for ax in np.ravel(axes):\n",
    "    parafac2 = PARAFAC2(rank=3, linesearch=False, nn_modes=\"all\", n_iter_max=1)\n",
    "    parafac2.fit_transform(raw_data.to_numpy())\n",
    "\n",
    "    component_xr = parafac2.get_sample_component_tensors(\n",
    "        as_xarr=True, input_coords=raw_data.coords\n",
    "    )\n",
    "    component_xr.sel(sample=10, mz=39).plot.line(x=\"time\", ax=ax)\n",
    "fig.set_figwidth(20)\n",
    "fig.set_figheight(20)\n",
    "fig.show()\n"
   ]
  },
  {
   "cell_type": "markdown",
   "id": "6",
   "metadata": {},
   "source": [
    "And as we can see, the component (or rank) order assignment is random. We will need a deeper understanding of the model to understand why."
   ]
  }
 ],
 "metadata": {
  "kernelspec": {
   "display_name": "pca-analysis-6KQS4gUX-py3.12",
   "language": "python",
   "name": "python3"
  },
  "language_info": {
   "codemirror_mode": {
    "name": "ipython",
    "version": 3
   },
   "file_extension": ".py",
   "mimetype": "text/x-python",
   "name": "python",
   "nbconvert_exporter": "python",
   "pygments_lexer": "ipython3",
   "version": "3.12.2"
  }
 },
 "nbformat": 4,
 "nbformat_minor": 5
}
