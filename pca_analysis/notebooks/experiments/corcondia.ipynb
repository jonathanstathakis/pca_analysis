{
 "cells": [
  {
   "cell_type": "markdown",
   "id": "67da7565-3c7b-43cb-bd1b-bff0e7892e52",
   "metadata": {
    "editable": true,
    "slideshow": {
     "slide_type": ""
    },
    "tags": []
   },
   "source": [
    "---\n",
    "cdt: 2024-08-29T00:00:00\n",
    "title: CORCONDIA\n",
    "description: first-look demonstration of CORCONDIA\n",
    "project: parafac2\n",
    "status: open\n",
    "---\n",
    "\n",
    "As the PCA approaches are failing to produce the expected results without extensive manual handling, we will move on to CORCONDIA, a method of approximating the number of components of PARAFAC and PARAFAC-like models (i.e. PARAFAC2) through observation of a Tucker3 core [@bro_newefficientmethod_2003]. It will iterate through components, starting at 1, until a limit (?) and we are looking for a steep dropoff as the indication of the optimal number of components.\n"
   ]
  },
  {
   "cell_type": "code",
   "execution_count": null,
   "id": "12092be5-0520-4a71-9234-e3e7ae93d77c",
   "metadata": {},
   "outputs": [],
   "source": [
    "from corcondia import corcondia_3d\n",
    "import xarray as xr\n"
   ]
  },
  {
   "cell_type": "code",
   "execution_count": null,
   "id": "ee18e942-0c51-43c8-b667-e5123de79e80",
   "metadata": {},
   "outputs": [],
   "source": [
    "from pca_analysis import constants\n",
    "\n",
    "constants\n"
   ]
  },
  {
   "cell_type": "code",
   "execution_count": null,
   "id": "971ecf0e-d784-492e-b2e8-733ec35634d2",
   "metadata": {},
   "outputs": [],
   "source": [
    "corcondia_3d(X=raw_data.transpose(\"sample\", \"time\", \"mz\").to_numpy(), k=22)\n"
   ]
  },
  {
   "cell_type": "markdown",
   "id": "07f70076-28a1-4129-9821-ed80d7b2e714",
   "metadata": {},
   "source": [
    "corcondia hasnt worked. The vibe of things is that none of these tools work for high numbers of peaks. Binning is required.."
   ]
  }
 ],
 "metadata": {
  "kernelspec": {
   "display_name": "Python 3 (ipykernel)",
   "language": "python",
   "name": "python3"
  },
  "language_info": {
   "codemirror_mode": {
    "name": "ipython",
    "version": 3
   },
   "file_extension": ".py",
   "mimetype": "text/x-python",
   "name": "python",
   "nbconvert_exporter": "python",
   "pygments_lexer": "ipython3",
   "version": "3.12.2"
  }
 },
 "nbformat": 4,
 "nbformat_minor": 5
}
