{
 "cells": [
  {
   "cell_type": "raw",
   "metadata": {
    "vscode": {
     "languageId": "raw"
    }
   },
   "source": [
    "---\n",
    "title: Time Alignment via Gross Mean Subtraction\n",
    "cdt: 2024-12-03T12:15:03\n",
    "description: \"Foray into basic peak alignment by subtraction of final peak\"\n",
    "status: open\n",
    "conclusion: \"While gross alignment appears to be an attractive (or necessary) first step, we should revisit it if decompositions need tuning downtrack, as finishing the code is finicky.\"\n",
    "project: parafac2\n",
    "---\n"
   ]
  },
  {
   "cell_type": "markdown",
   "metadata": {},
   "source": []
  },
  {
   "cell_type": "markdown",
   "metadata": {},
   "source": [
    "# Gross Time Alignment on Last Peak\n"
   ]
  },
  {
   "cell_type": "markdown",
   "metadata": {},
   "source": [
    "Trying to help decomposition by subtracting large differences via subtraction of mean peak time across sample set."
   ]
  },
  {
   "cell_type": "code",
   "execution_count": null,
   "metadata": {},
   "outputs": [],
   "source": [
    "%reload_ext autoreload\n",
    "%autoreload 3 --print\n",
    "\n",
    "# get the test data as two tables: metadata and a samplewise stacked img table\n",
    "import logging\n",
    "\n",
    "import duckdb as db\n",
    "import plotly.express as px\n",
    "import polars as pl\n",
    "from database_etl import get_data\n",
    "\n",
    "from pca_analysis.definitions import DB_PATH_UV\n",
    "from pca_analysis.get_sample_data import get_ids_by_varietal\n",
    "import xarray as xr\n",
    "\n",
    "logger = logging.getLogger(__name__)\n",
    "\n",
    "logger.setLevel(logging.DEBUG)\n",
    "\n",
    "xr.set_options(display_expand_data=False)\n",
    "\n",
    "\n",
    "with db.connect(DB_PATH_UV) as conn:\n",
    "    ids = get_ids_by_varietal(\"shiraz\", conn)\n",
    "\n",
    "    ds = get_data(output=\"xr\", con=conn, runids=ids)\n",
    "# replace id with id_rank to be more human friendly\n",
    "ds = ds.assign_coords(\n",
    "    id_rank=lambda x: (\n",
    "        \"id\",\n",
    "        x.coords[\"id\"].to_dataframe()[\"id\"].rank(method=\"dense\").astype(int),\n",
    "    )\n",
    ")\n",
    "ds\n"
   ]
  },
  {
   "cell_type": "code",
   "execution_count": null,
   "metadata": {},
   "outputs": [],
   "source": [
    "import plotly.express as px\n",
    "\n",
    "\n",
    "def px_line_pipe(ds):\n",
    "    return (\n",
    "        ds.to_dataframe()\n",
    "        .reset_index()\n",
    "        .pipe(px.line, x=\"mins\", y=\"imgs\", color=\"id_rank\")\n",
    "        .update_traces(line=dict(width=0.75))\n",
    "    )\n",
    "\n",
    "\n",
    "ds.sel(wavelength=\"256\").pipe(px_line_pipe)\n"
   ]
  },
  {
   "cell_type": "markdown",
   "metadata": {},
   "source": [
    "Firstly some gross alignment can be introduced. Namely, we can subtract the last peak time from all times to align them on that peak, as the majority of samples have a very close peak time. What is that peak time? The last peak is between 40 and 44 mins."
   ]
  },
  {
   "cell_type": "code",
   "execution_count": null,
   "metadata": {},
   "outputs": [],
   "source": [
    "last_peak = ds.sel(wavelength=\"256\", mins=slice(40, 44))\n",
    "lp_fig = last_peak.pipe(px_line_pipe)\n"
   ]
  },
  {
   "cell_type": "markdown",
   "metadata": {},
   "source": [
    "And with peak detection.."
   ]
  },
  {
   "cell_type": "code",
   "execution_count": null,
   "metadata": {},
   "outputs": [],
   "source": [
    "from pca_analysis import xr_signal\n",
    "\n",
    "find_peaks_kws = xr_signal.find_peaks_defaults\n",
    "find_peaks_kws[\"prominence\"] = 0.5\n",
    "last_peak = last_peak.pipe(\n",
    "    xr_signal.find_peaks_dataset,\n",
    "    array_key=\"imgs\",\n",
    "    grouper=[\"id_rank\"],\n",
    "    x_key=\"mins\",\n",
    ")\n"
   ]
  },
  {
   "cell_type": "code",
   "execution_count": null,
   "metadata": {},
   "outputs": [],
   "source": [
    "# filter out the na caused by aligning the peak maximas.\n",
    "\n",
    "peaks = last_peak.peaks.to_dataframe().reset_index()[lambda x: ~x[\"peaks\"].isna()][\n",
    "    [\"id_rank\", \"mins\", \"peaks\"]\n",
    "]\n",
    "ranked_peaks = peaks.reset_index().set_index(\"id_rank\")[\"mins\"].rank()\n",
    "ranked_peaks.plot.bar()\n"
   ]
  },
  {
   "cell_type": "markdown",
   "metadata": {},
   "source": [
    "as we can see, quite the dispersion."
   ]
  },
  {
   "cell_type": "code",
   "execution_count": null,
   "metadata": {},
   "outputs": [],
   "source": [
    "ranked_peaks.plot.hist(bins=30)\n"
   ]
  },
  {
   "cell_type": "markdown",
   "metadata": {},
   "source": [
    "but as we can see its vaguely normal, so computing an average and subtracting will be acceptable."
   ]
  },
  {
   "cell_type": "code",
   "execution_count": null,
   "metadata": {},
   "outputs": [],
   "source": [
    "peak_mins = peaks.reset_index(drop=True).set_index(\"id_rank\")[[\"mins\"]]\n",
    "\n",
    "peak_mins.plot.hist(bins=30)\n"
   ]
  },
  {
   "cell_type": "code",
   "execution_count": null,
   "metadata": {},
   "outputs": [],
   "source": [
    "mean = peaks[\"mins\"].mean()\n"
   ]
  },
  {
   "cell_type": "code",
   "execution_count": null,
   "metadata": {},
   "outputs": [],
   "source": [
    "peaks_mean_diff = peak_mins - mean\n",
    "peaks_mean_diff.plot.bar()\n"
   ]
  },
  {
   "cell_type": "markdown",
   "metadata": {},
   "source": [
    "Subtracting the mean centers the sample on zero. Subtracting the difference of each samples peak from each sample aligns on that mean.\n"
   ]
  },
  {
   "cell_type": "code",
   "execution_count": null,
   "metadata": {},
   "outputs": [],
   "source": [
    "peaks_mean_diff\n"
   ]
  },
  {
   "cell_type": "code",
   "execution_count": null,
   "metadata": {},
   "outputs": [],
   "source": [
    "adjusted_peaks = peaks.reset_index().set_index(\"id_rank\")[[\"mins\"]] - peaks_mean_diff\n",
    "\n",
    "# adjusted_peaks.plot.bar()\n",
    "adjusted_peaks.plot.line()\n"
   ]
  },
  {
   "cell_type": "code",
   "execution_count": null,
   "metadata": {},
   "outputs": [],
   "source": [
    "left = (\n",
    "    ds[[\"id_rank\", \"mins\"]]\n",
    "    .to_dataframe()\n",
    "    .reset_index()[[\"id_rank\", \"mins\"]]\n",
    "    .set_index(\"id_rank\")\n",
    ")\n",
    "left\n"
   ]
  },
  {
   "cell_type": "code",
   "execution_count": null,
   "metadata": {},
   "outputs": [],
   "source": [
    "import pandas as pd\n",
    "\n",
    "adjusted = (\n",
    "    pd.merge(\n",
    "        left=left,\n",
    "        right=peaks_mean_diff.rename({\"mins\": \"diff\"}, axis=1),\n",
    "        how=\"left\",\n",
    "        on=\"id_rank\",\n",
    "    )\n",
    "    .assign(mins=lambda x: x[\"mins\"] + x[\"diff\"])\n",
    "    .drop(\"diff\", axis=1)\n",
    ")\n",
    "adjusted\n"
   ]
  },
  {
   "cell_type": "code",
   "execution_count": null,
   "metadata": {},
   "outputs": [],
   "source": [
    "ds = ds.assign_coords(mins_adjusted=adjusted.values.flatten())\n",
    "ds.sel(wavelength=\"256\")\n"
   ]
  },
  {
   "cell_type": "markdown",
   "metadata": {},
   "source": [
    "## Conclusion\n",
    "\n",
    "This is finicky and only changing 0.02 mins here and there. Not worth persuing at this time 2024-12-09T15:28:57\n"
   ]
  }
 ],
 "metadata": {
  "kernelspec": {
   "display_name": "pca-analysis-6KQS4gUX-py3.12",
   "language": "python",
   "name": "python3"
  },
  "language_info": {
   "codemirror_mode": {
    "name": "ipython",
    "version": 3
   },
   "file_extension": ".py",
   "mimetype": "text/x-python",
   "name": "python",
   "nbconvert_exporter": "python",
   "pygments_lexer": "ipython3",
   "version": "3.12.2"
  }
 },
 "nbformat": 4,
 "nbformat_minor": 2
}
