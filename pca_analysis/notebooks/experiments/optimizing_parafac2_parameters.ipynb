{
 "cells": [
  {
   "cell_type": "markdown",
   "metadata": {},
   "source": [
    "---\n",
    "cdt: 2024-10-30T20:29:58\n",
    "title: Optimizing Parafac2 Parameters\n",
    "description: now that parafac2 is prototyped, need to find optimal parameters\n",
    "project: parafac2\n",
    "status: open\n",
    "conclusion: \"\"\n",
    "---\n"
   ]
  },
  {
   "cell_type": "markdown",
   "metadata": {},
   "source": [
    "So far we've consistently had negative components and multipeak components. The expectation is that no components will be negative, and there will be one peak per component. Furthermore all components will approximate a gaussian peak.\n"
   ]
  },
  {
   "cell_type": "markdown",
   "metadata": {},
   "source": [
    "As we can see all signals bar 0101 are on a similar scale. I will elect to exclude it from the test set.\n"
   ]
  }
 ],
 "metadata": {
  "kernelspec": {
   "display_name": "pca-analysis-6KQS4gUX-py3.12",
   "language": "python",
   "name": "python3"
  },
  "language_info": {
   "codemirror_mode": {
    "name": "ipython",
    "version": 3
   },
   "file_extension": ".py",
   "mimetype": "text/x-python",
   "name": "python",
   "nbconvert_exporter": "python",
   "pygments_lexer": "ipython3",
   "version": "3.12.2"
  }
 },
 "nbformat": 4,
 "nbformat_minor": 2
}
