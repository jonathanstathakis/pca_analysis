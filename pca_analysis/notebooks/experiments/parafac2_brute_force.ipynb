{
 "cells": [
  {
   "cell_type": "raw",
   "metadata": {
    "vscode": {
     "languageId": "raw"
    }
   },
   "source": [
    "---\n",
    "title: Brute Force PARAFAC2\n",
    "cdt: 2024-12-03T12:15:03\n",
    "description: \"An experiment on brute forcing a solution to the decomposition of the shiraz dataset through 'manual' iterati   on until an acceptable model is formed\"\n",
    "status: open\n",
    "conclusion: \"\"\n",
    "project: parafac2\n",
    "---\n"
   ]
  },
  {
   "cell_type": "markdown",
   "metadata": {},
   "source": [
    "# Brute Froce PARAFAC2 Decomposition of Shiraz Dataset\n"
   ]
  },
  {
   "cell_type": "markdown",
   "metadata": {},
   "source": [
    "Note: this is a reconstruction of an experiment which was accidentally deleted.\n",
    "\n",
    "Efforts of using CORCONDIA to estimate the rank of the dataset have failed. Thus we will attempt to 'brute force' a solution. This will provide insight into how the model changes over increasing rank."
   ]
  }
 ],
 "metadata": {
  "kernelspec": {
   "display_name": "pca-analysis-6KQS4gUX-py3.12",
   "language": "python",
   "name": "python3"
  },
  "language_info": {
   "codemirror_mode": {
    "name": "ipython",
    "version": 3
   },
   "file_extension": ".py",
   "mimetype": "text/x-python",
   "name": "python",
   "nbconvert_exporter": "python",
   "pygments_lexer": "ipython3",
   "version": "3.12.2"
  }
 },
 "nbformat": 4,
 "nbformat_minor": 4
}
