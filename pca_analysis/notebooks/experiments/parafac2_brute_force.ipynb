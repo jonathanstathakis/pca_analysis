{
 "cells": [
  {
   "cell_type": "raw",
   "metadata": {
    "vscode": {
     "languageId": "raw"
    }
   },
   "source": [
    "---\n",
    "title: Brute Force PARAFAC2\n",
    "cdt: 2024-12-03T12:15:03\n",
    "description: \"An experiment on brute forcing a solution to the decomposition of the shiraz dataset through 'manual' iteration until an acceptable model is formed\"\n",
    "status: open\n",
    "conclusion: \"\"\n",
    "project: parafac2\n",
    "---\n"
   ]
  },
  {
   "cell_type": "code",
   "execution_count": null,
   "metadata": {},
   "outputs": [],
   "source": [
    "# Brute Froce PARAFAC2 Decomposition of Shiraz Dataset\n"
   ]
  },
  {
   "cell_type": "markdown",
   "metadata": {},
   "source": [
    "Note: this is a reconstruction of an experiment which was accidentally deleted.\n",
    "\n",
    "Efforts of using CORCONDIA to estimate the rank of the dataset have failed. Thus we will attempt to 'brute force' a solution. This will provide insight into how the model changes over increasing rank."
   ]
  },
  {
   "cell_type": "code",
   "execution_count": null,
   "metadata": {},
   "outputs": [],
   "source": [
    "%reload_ext autoreload\n",
    "%autoreload 2\n",
    "\n",
    "# get the test data as two tables: metadata and a samplewise stacked img table\n",
    "import logging\n",
    "\n",
    "import duckdb as db\n",
    "\n",
    "import polars as pl\n",
    "\n",
    "from pca_analysis.definitions import DB_PATH_UV\n",
    "from pca_analysis.parafac2_pipeline.parafac2_decomposition import (\n",
    "    get_input_data,\n",
    ")\n",
    "\n",
    "from pca_analysis.get_sample_data import get_ids_by_varietal\n",
    "import plotly.express as px\n",
    "\n",
    "logger = logging.getLogger(__name__)\n",
    "\n",
    "logger.setLevel(logging.DEBUG)\n",
    "\n",
    "\n",
    "with db.connect(DB_PATH_UV) as conn:\n",
    "    ids = get_ids_by_varietal(\"shiraz\", conn)\n",
    "\n",
    "input_data = get_input_data(DB_PATH_UV, ids)\n",
    "\n",
    "input_data.filter_nm_tbl(pl.col(\"mins\").le(4.55)).plot_2d_facet(\n",
    "    wavelength=256,\n",
    "    title=\"shiraz dataset @ 256\",\n",
    "    facet_col_wrap=4,\n",
    "    template=\"plotly_dark\",\n",
    ")\n"
   ]
  }
 ],
 "metadata": {
  "kernelspec": {
   "display_name": "pca-analysis-6KQS4gUX-py3.12",
   "language": "python",
   "name": "python3"
  },
  "language_info": {
   "codemirror_mode": {
    "name": "ipython",
    "version": 3
   },
   "file_extension": ".py",
   "mimetype": "text/x-python",
   "name": "python",
   "nbconvert_exporter": "python",
   "pygments_lexer": "ipython3",
   "version": "3.12.2"
  }
 },
 "nbformat": 4,
 "nbformat_minor": 4
}
