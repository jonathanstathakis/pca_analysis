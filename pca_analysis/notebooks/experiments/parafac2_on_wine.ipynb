{
 "cells": [
  {
   "cell_type": "markdown",
   "metadata": {},
   "source": [
    "---\n",
    "title: PARAFAC 2 on Wine\n",
    "description: first proper attempt to decompose wine dataset.\n",
    "project: parafac2\n",
    "conclusion: \"\"\n",
    "status: open\n",
    "cdt: 2024-09-26T15:07:44\n",
    "---"
   ]
  },
  {
   "cell_type": "code",
   "execution_count": 2,
   "metadata": {},
   "outputs": [
    {
     "data": {
      "text/html": [
       "<div><style>\n",
       ".dataframe > thead > tr,\n",
       ".dataframe > tbody > tr {\n",
       "  text-align: right;\n",
       "  white-space: pre-wrap;\n",
       "}\n",
       "</style>\n",
       "<small>shape: (5, 110)</small><table border=\"1\" class=\"dataframe\"><thead><tr><th>id</th><th>mins</th><th>190</th><th>192</th><th>194</th><th>196</th><th>198</th><th>200</th><th>202</th><th>204</th><th>206</th><th>208</th><th>210</th><th>212</th><th>214</th><th>216</th><th>218</th><th>220</th><th>222</th><th>224</th><th>226</th><th>228</th><th>230</th><th>232</th><th>234</th><th>236</th><th>238</th><th>240</th><th>242</th><th>244</th><th>246</th><th>248</th><th>250</th><th>252</th><th>254</th><th>256</th><th>258</th><th>&hellip;</th><th>332</th><th>334</th><th>336</th><th>338</th><th>340</th><th>342</th><th>344</th><th>346</th><th>348</th><th>350</th><th>352</th><th>354</th><th>356</th><th>358</th><th>360</th><th>362</th><th>364</th><th>366</th><th>368</th><th>370</th><th>372</th><th>374</th><th>376</th><th>378</th><th>380</th><th>382</th><th>384</th><th>386</th><th>388</th><th>390</th><th>392</th><th>394</th><th>396</th><th>398</th><th>400</th><th>runid</th><th>path</th></tr><tr><td>str</td><td>f64</td><td>f64</td><td>f64</td><td>f64</td><td>f64</td><td>f64</td><td>f64</td><td>f64</td><td>f64</td><td>f64</td><td>f64</td><td>f64</td><td>f64</td><td>f64</td><td>f64</td><td>f64</td><td>f64</td><td>f64</td><td>f64</td><td>f64</td><td>f64</td><td>f64</td><td>f64</td><td>f64</td><td>f64</td><td>f64</td><td>f64</td><td>f64</td><td>f64</td><td>f64</td><td>f64</td><td>f64</td><td>f64</td><td>f64</td><td>f64</td><td>f64</td><td>&hellip;</td><td>f64</td><td>f64</td><td>f64</td><td>f64</td><td>f64</td><td>f64</td><td>f64</td><td>f64</td><td>f64</td><td>f64</td><td>f64</td><td>f64</td><td>f64</td><td>f64</td><td>f64</td><td>f64</td><td>f64</td><td>f64</td><td>f64</td><td>f64</td><td>f64</td><td>f64</td><td>f64</td><td>f64</td><td>f64</td><td>f64</td><td>f64</td><td>f64</td><td>f64</td><td>f64</td><td>f64</td><td>f64</td><td>f64</td><td>f64</td><td>f64</td><td>str</td><td>str</td></tr></thead><tbody><tr><td>&quot;c1e3411f-1d9e-4780-aace-a4650b…</td><td>0.0</td><td>-0.100836</td><td>-0.090286</td><td>-0.084877</td><td>-0.088319</td><td>-0.116237</td><td>-0.152491</td><td>-0.184111</td><td>-0.20989</td><td>-0.21103</td><td>-0.185363</td><td>-0.163682</td><td>-0.138558</td><td>-0.109747</td><td>-0.089183</td><td>-0.078201</td><td>-0.064656</td><td>-0.049725</td><td>-0.028498</td><td>-0.016235</td><td>-0.006683</td><td>0.004441</td><td>0.013769</td><td>0.020534</td><td>0.021987</td><td>0.022456</td><td>0.022985</td><td>0.020288</td><td>0.019573</td><td>0.018895</td><td>0.017829</td><td>0.018694</td><td>0.019729</td><td>0.020511</td><td>0.020102</td><td>0.018604</td><td>&hellip;</td><td>-0.014119</td><td>-0.012293</td><td>-0.010543</td><td>-0.010282</td><td>-0.012659</td><td>-0.012465</td><td>-0.012487</td><td>-0.01391</td><td>-0.015892</td><td>-0.014476</td><td>-0.010468</td><td>-0.010245</td><td>-0.015363</td><td>-0.020862</td><td>-0.02037</td><td>-0.018559</td><td>-0.021495</td><td>-0.018828</td><td>-0.016242</td><td>-0.017658</td><td>-0.016965</td><td>-0.014506</td><td>-0.011474</td><td>-0.00792</td><td>-0.009611</td><td>-0.013739</td><td>-0.01324</td><td>-0.013113</td><td>-0.006378</td><td>-0.005886</td><td>-0.009276</td><td>-0.004478</td><td>-0.005119</td><td>-0.014029</td><td>-0.0166</td><td>&quot;92&quot;</td><td>&quot;/Users/jonathan/mres_thesis/da…</td></tr><tr><td>&quot;c1e3411f-1d9e-4780-aace-a4650b…</td><td>0.006667</td><td>-0.152573</td><td>-0.125825</td><td>-0.105329</td><td>-0.098512</td><td>-0.121959</td><td>-0.155978</td><td>-0.185095</td><td>-0.20992</td><td>-0.21144</td><td>-0.185713</td><td>-0.163361</td><td>-0.137843</td><td>-0.109114</td><td>-0.088133</td><td>-0.077836</td><td>-0.064626</td><td>-0.049308</td><td>-0.02791</td><td>-0.015162</td><td>-0.006095</td><td>0.004835</td><td>0.014164</td><td>0.020713</td><td>0.022106</td><td>0.022285</td><td>0.022762</td><td>0.020258</td><td>0.019759</td><td>0.019178</td><td>0.017688</td><td>0.018656</td><td>0.020258</td><td>0.021018</td><td>0.019997</td><td>0.018321</td><td>&hellip;</td><td>-0.014521</td><td>-0.012375</td><td>-0.011243</td><td>-0.010177</td><td>-0.011608</td><td>-0.012465</td><td>-0.012986</td><td>-0.014238</td><td>-0.01628</td><td>-0.014722</td><td>-0.010848</td><td>-0.009976</td><td>-0.014335</td><td>-0.020392</td><td>-0.019901</td><td>-0.017539</td><td>-0.020146</td><td>-0.017412</td><td>-0.015698</td><td>-0.018083</td><td>-0.017457</td><td>-0.014603</td><td>-0.01172</td><td>-0.008769</td><td>-0.010498</td><td>-0.0135</td><td>-0.011995</td><td>-0.011861</td><td>-0.005312</td><td>-0.005253</td><td>-0.008352</td><td>-0.004046</td><td>-0.005536</td><td>-0.013955</td><td>-0.01695</td><td>&quot;92&quot;</td><td>&quot;/Users/jonathan/mres_thesis/da…</td></tr><tr><td>&quot;c1e3411f-1d9e-4780-aace-a4650b…</td><td>0.013333</td><td>-0.240289</td><td>-0.185803</td><td>-0.140652</td><td>-0.116594</td><td>-0.131525</td><td>-0.161052</td><td>-0.187069</td><td>-0.210479</td><td>-0.211842</td><td>-0.185877</td><td>-0.162601</td><td>-0.13683</td><td>-0.108719</td><td>-0.087172</td><td>-0.077404</td><td>-0.064924</td><td>-0.049241</td><td>-0.027366</td><td>-0.013918</td><td>-0.005186</td><td>0.005566</td><td>0.014625</td><td>0.020891</td><td>0.022441</td><td>0.022605</td><td>0.022814</td><td>0.02034</td><td>0.020161</td><td>0.019781</td><td>0.017896</td><td>0.018597</td><td>0.020579</td><td>0.021636</td><td>0.020109</td><td>0.018567</td><td>&hellip;</td><td>-0.014335</td><td>-0.011839</td><td>-0.01169</td><td>-0.010543</td><td>-0.011168</td><td>-0.012569</td><td>-0.013001</td><td>-0.013918</td><td>-0.016026</td><td>-0.0147</td><td>-0.010937</td><td>-0.009239</td><td>-0.013001</td><td>-0.01967</td><td>-0.018947</td><td>-0.016034</td><td>-0.01806</td><td>-0.015602</td><td>-0.015028</td><td>-0.018269</td><td>-0.017554</td><td>-0.014648</td><td>-0.012137</td><td>-0.009716</td><td>-0.011519</td><td>-0.013575</td><td>-0.011601</td><td>-0.011072</td><td>-0.004649</td><td>-0.004776</td><td>-0.007369</td><td>-0.004604</td><td>-0.006787</td><td>-0.012845</td><td>-0.015482</td><td>&quot;92&quot;</td><td>&quot;/Users/jonathan/mres_thesis/da…</td></tr><tr><td>&quot;c1e3411f-1d9e-4780-aace-a4650b…</td><td>0.02</td><td>-0.356585</td><td>-0.264287</td><td>-0.187322</td><td>-0.140779</td><td>-0.143558</td><td>-0.16693</td><td>-0.189669</td><td>-0.211388</td><td>-0.212304</td><td>-0.185914</td><td>-0.161789</td><td>-0.136115</td><td>-0.108778</td><td>-0.086486</td><td>-0.076734</td><td>-0.065237</td><td>-0.049181</td><td>-0.026658</td><td>-0.012435</td><td>-0.003763</td><td>0.006653</td><td>0.015132</td><td>0.02107</td><td>0.023171</td><td>0.023767</td><td>0.023469</td><td>0.020839</td><td>0.020877</td><td>0.020735</td><td>0.018626</td><td>0.018701</td><td>0.020891</td><td>0.022501</td><td>0.020809</td><td>0.019446</td><td>&hellip;</td><td>-0.013709</td><td>-0.010818</td><td>-0.011899</td><td>-0.011131</td><td>-0.010848</td><td>-0.01239</td><td>-0.01239</td><td>-0.012964</td><td>-0.015043</td><td>-0.013836</td><td>-0.009969</td><td>-0.007741</td><td>-0.011496</td><td>-0.018552</td><td>-0.0173</td><td>-0.013843</td><td>-0.015303</td><td>-0.013098</td><td>-0.01362</td><td>-0.017412</td><td>-0.016406</td><td>-0.013933</td><td>-0.012144</td><td>-0.010222</td><td>-0.011474</td><td>-0.012778</td><td>-0.011019</td><td>-0.009969</td><td>-0.004143</td><td>-0.004366</td><td>-0.006728</td><td>-0.005744</td><td>-0.00757</td><td>-0.010036</td><td>-0.011787</td><td>&quot;92&quot;</td><td>&quot;/Users/jonathan/mres_thesis/da…</td></tr><tr><td>&quot;c1e3411f-1d9e-4780-aace-a4650b…</td><td>0.026667</td><td>-0.481077</td><td>-0.34786</td><td>-0.237465</td><td>-0.167102</td><td>-0.156216</td><td>-0.172667</td><td>-0.192247</td><td>-0.21258</td><td>-0.212915</td><td>-0.186063</td><td>-0.161543</td><td>-0.135943</td><td>-0.108913</td><td>-0.086047</td><td>-0.076145</td><td>-0.065632</td><td>-0.049144</td><td>-0.025906</td><td>-0.010908</td><td>-0.002198</td><td>0.007786</td><td>0.015765</td><td>0.021353</td><td>0.024006</td><td>0.025213</td><td>0.024371</td><td>0.021406</td><td>0.02145</td><td>0.021674</td><td>0.019714</td><td>0.019126</td><td>0.021182</td><td>0.023149</td><td>0.02154</td><td>0.020444</td><td>&hellip;</td><td>-0.013001</td><td>-0.00976</td><td>-0.011414</td><td>-0.011146</td><td>-0.010185</td><td>-0.011921</td><td>-0.011563</td><td>-0.011861</td><td>-0.014201</td><td>-0.012651</td><td>-0.008307</td><td>-0.006065</td><td>-0.010334</td><td>-0.017174</td><td>-0.01511</td><td>-0.011407</td><td>-0.012472</td><td>-0.010632</td><td>-0.011936</td><td>-0.01552</td><td>-0.014313</td><td>-0.012882</td><td>-0.012077</td><td>-0.010774</td><td>-0.010632</td><td>-0.011258</td><td>-0.01055</td><td>-0.009149</td><td>-0.004381</td><td>-0.004172</td><td>-0.00599</td><td>-0.006415</td><td>-0.007369</td><td>-0.006586</td><td>-0.007369</td><td>&quot;92&quot;</td><td>&quot;/Users/jonathan/mres_thesis/da…</td></tr></tbody></table></div>"
      ],
      "text/plain": [
       "shape: (5, 110)\n",
       "┌─────────────┬──────────┬───────────┬───────────┬───┬───────────┬───────────┬───────┬─────────────┐\n",
       "│ id          ┆ mins     ┆ 190       ┆ 192       ┆ … ┆ 398       ┆ 400       ┆ runid ┆ path        │\n",
       "│ ---         ┆ ---      ┆ ---       ┆ ---       ┆   ┆ ---       ┆ ---       ┆ ---   ┆ ---         │\n",
       "│ str         ┆ f64      ┆ f64       ┆ f64       ┆   ┆ f64       ┆ f64       ┆ str   ┆ str         │\n",
       "╞═════════════╪══════════╪═══════════╪═══════════╪═══╪═══════════╪═══════════╪═══════╪═════════════╡\n",
       "│ c1e3411f-1d ┆ 0.0      ┆ -0.100836 ┆ -0.090286 ┆ … ┆ -0.014029 ┆ -0.0166   ┆ 92    ┆ /Users/jona │\n",
       "│ 9e-4780-aac ┆          ┆           ┆           ┆   ┆           ┆           ┆       ┆ than/mres_t │\n",
       "│ e-a4650b…   ┆          ┆           ┆           ┆   ┆           ┆           ┆       ┆ hesis/da…   │\n",
       "│ c1e3411f-1d ┆ 0.006667 ┆ -0.152573 ┆ -0.125825 ┆ … ┆ -0.013955 ┆ -0.01695  ┆ 92    ┆ /Users/jona │\n",
       "│ 9e-4780-aac ┆          ┆           ┆           ┆   ┆           ┆           ┆       ┆ than/mres_t │\n",
       "│ e-a4650b…   ┆          ┆           ┆           ┆   ┆           ┆           ┆       ┆ hesis/da…   │\n",
       "│ c1e3411f-1d ┆ 0.013333 ┆ -0.240289 ┆ -0.185803 ┆ … ┆ -0.012845 ┆ -0.015482 ┆ 92    ┆ /Users/jona │\n",
       "│ 9e-4780-aac ┆          ┆           ┆           ┆   ┆           ┆           ┆       ┆ than/mres_t │\n",
       "│ e-a4650b…   ┆          ┆           ┆           ┆   ┆           ┆           ┆       ┆ hesis/da…   │\n",
       "│ c1e3411f-1d ┆ 0.02     ┆ -0.356585 ┆ -0.264287 ┆ … ┆ -0.010036 ┆ -0.011787 ┆ 92    ┆ /Users/jona │\n",
       "│ 9e-4780-aac ┆          ┆           ┆           ┆   ┆           ┆           ┆       ┆ than/mres_t │\n",
       "│ e-a4650b…   ┆          ┆           ┆           ┆   ┆           ┆           ┆       ┆ hesis/da…   │\n",
       "│ c1e3411f-1d ┆ 0.026667 ┆ -0.481077 ┆ -0.34786  ┆ … ┆ -0.006586 ┆ -0.007369 ┆ 92    ┆ /Users/jona │\n",
       "│ 9e-4780-aac ┆          ┆           ┆           ┆   ┆           ┆           ┆       ┆ than/mres_t │\n",
       "│ e-a4650b…   ┆          ┆           ┆           ┆   ┆           ┆           ┆       ┆ hesis/da…   │\n",
       "└─────────────┴──────────┴───────────┴───────────┴───┴───────────┴───────────┴───────┴─────────────┘"
      ]
     },
     "execution_count": 2,
     "metadata": {},
     "output_type": "execute_result"
    }
   ],
   "source": [
    "from database_etl import get_data\n",
    "from pca_analysis.definitions import DB_PATH_UV\n",
    "import polars as pl\n",
    "import duckdb as db\n",
    "\n",
    "con = db.connect(DB_PATH_UV, read_only=True)\n",
    "\n",
    "ids = con.sql(\n",
    "    \"\"\"--sql\n",
    "select inc_chm.runid from inc_chm join st using (samplecode) join ct using (vintage, wine) where varietal ='shiraz'\n",
    "\"\"\"\n",
    ").pl()[\"runid\"]\n",
    "\n",
    "shiraz_data = get_data(output=\"tuple\", con=con)\n",
    "shiraz_data[0][0].head()\n"
   ]
  },
  {
   "cell_type": "code",
   "execution_count": 3,
   "metadata": {},
   "outputs": [],
   "source": []
  }
 ],
 "metadata": {
  "kernelspec": {
   "display_name": "pca-analysis-6KQS4gUX-py3.12",
   "language": "python",
   "name": "python3"
  },
  "language_info": {
   "codemirror_mode": {
    "name": "ipython",
    "version": 3
   },
   "file_extension": ".py",
   "mimetype": "text/x-python",
   "name": "python",
   "nbconvert_exporter": "python",
   "pygments_lexer": "ipython3",
   "version": "3.12.2"
  }
 },
 "nbformat": 4,
 "nbformat_minor": 2
}
