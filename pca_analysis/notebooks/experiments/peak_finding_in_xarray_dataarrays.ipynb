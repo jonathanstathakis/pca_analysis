{
 "cells": [
  {
   "cell_type": "raw",
   "metadata": {
    "vscode": {
     "languageId": "raw"
    }
   },
   "source": [
    "---\n",
    "title: \"Prototyping Peak Finding in xarray DataArrays\"\n",
    "cdt: \"2024-12-08T03:06:23\"\n",
    "description: \"Prototyping how to find peaks in xarray tensors\"\n",
    "status: \"closed\"\n",
    "conclusion: \"Peak finding at DataArray and Dataset level established, alongside viz and a top-level convenience function. The need for smoothing functions is noted as the peak finding algo detected many false peaks at default settings.\"\n",
    "project: parafac2\n",
    "---\n"
   ]
  },
  {
   "cell_type": "markdown",
   "metadata": {
    "vscode": {
     "languageId": "raw"
    }
   },
   "source": [
    "# Peak Finding in xarray DataArrays\n",
    "\n",
    "There are no existing libraries for the purpose, and reducing n-dimensional tensors down to 1D arrays for the scipy peak finding algorithm is subjective as the user has to define what order to unfold the tensor."
   ]
  },
  {
   "cell_type": "code",
   "execution_count": null,
   "metadata": {},
   "outputs": [],
   "source": [
    "%reload_ext autoreload\n",
    "%autoreload 3 --print\n",
    "\n",
    "import xarray as xr\n",
    "from pca_analysis.get_sample_data import get_zhang_data\n",
    "from pca_analysis import xr_signal\n",
    "\n",
    "xr.set_options(display_expand_data=False)\n",
    "\n",
    "raw_data: xr.DataArray = get_zhang_data()\n",
    "raw_data.name = \"raw_data\"\n"
   ]
  },
  {
   "cell_type": "markdown",
   "metadata": {},
   "source": [
    "This tensor has 3 modes. We want to detect every peak at every point. There are some libraries for tensor flow, but generally speaking I'm sure that a 1D approach is best. For example\n"
   ]
  },
  {
   "cell_type": "code",
   "execution_count": null,
   "metadata": {},
   "outputs": [],
   "source": [
    "raw_data\n"
   ]
  },
  {
   "cell_type": "code",
   "execution_count": null,
   "metadata": {},
   "outputs": [],
   "source": [
    "# from pca_analysis import xr_signal\n",
    "from pca_analysis.xr_signal import find_peaks_array\n",
    "\n",
    "ds = raw_data.to_dataset()\n",
    "test_ds = ds.sel(mz=46).isel(sample=slice(5, 10))\n",
    "\n",
    "res = test_ds[\"raw_data\"].pipe(find_peaks_array, grouper=[\"sample\", \"mz\"], x_key=\"time\")\n",
    "\n",
    "test_ds = test_ds.merge(res)\n",
    "test_ds\n"
   ]
  },
  {
   "cell_type": "code",
   "execution_count": null,
   "metadata": {},
   "outputs": [],
   "source": [
    "fig = test_ds.pipe(\n",
    "    xr_signal.facet_plot_multiple_traces,\n",
    "    data_keys=[\"raw_data\", \"peaks\"],\n",
    "    grouper=[\"sample\", \"mz\"],\n",
    "    col_wrap=2,\n",
    "    x_key=\"time\",\n",
    "    fig_kwargs=dict(\n",
    "        y_title=\"au\",\n",
    "    ),\n",
    ")\n",
    "fig.update_layout(height=1500).show()\n"
   ]
  },
  {
   "cell_type": "markdown",
   "metadata": {},
   "source": [
    "As we can see, peak finding is successful. It would be useful to add the viz function as an optional output of the peak finding function - given an xarray input, find the peaks and return as a dataset, providing a viz if specified."
   ]
  },
  {
   "cell_type": "code",
   "execution_count": null,
   "metadata": {},
   "outputs": [],
   "source": [
    "x_key = \"time\"\n",
    "array_key = \"raw_data\"\n",
    "grouper = [\"sample\", \"mz\"]\n",
    "new_arr_name = \"peaks\"\n",
    "test_ds = test_ds.pipe(\n",
    "    xr_signal.find_peaks_dataset,\n",
    "    array_key=array_key,\n",
    "    grouper=grouper,\n",
    "    x_key=x_key,\n",
    "    new_arr_name=new_arr_name,\n",
    ")\n",
    "test_ds.pipe(\n",
    "    xr_signal.facet_plot_multiple_traces,\n",
    "    grouper=grouper,\n",
    "    x_key=x_key,\n",
    "    data_keys=[array_key, new_arr_name],\n",
    "    trace_kwargs=[dict(mode=\"lines\"), dict(mode=\"markers\")],\n",
    "    col_wrap=3,\n",
    ")\n"
   ]
  },
  {
   "cell_type": "markdown",
   "metadata": {},
   "source": [
    "And as we can see the convenience function works as expected, producing the same result as above."
   ]
  },
  {
   "cell_type": "markdown",
   "metadata": {},
   "source": [
    "## Conclusion\n",
    "\n",
    "We have established a foundation of peak finding on xarray DataArrays and Dataset objects, including result calculation and visualisation. We have also established a convenience function for working at the Dataset level\n",
    "rather than DataArray."
   ]
  }
 ],
 "metadata": {
  "kernelspec": {
   "display_name": "pca-analysis-6KQS4gUX-py3.12",
   "language": "python",
   "name": "python3"
  },
  "language_info": {
   "codemirror_mode": {
    "name": "ipython",
    "version": 3
   },
   "file_extension": ".py",
   "mimetype": "text/x-python",
   "name": "python",
   "nbconvert_exporter": "python",
   "pygments_lexer": "ipython3",
   "version": "3.12.2"
  }
 },
 "nbformat": 4,
 "nbformat_minor": 2
}
