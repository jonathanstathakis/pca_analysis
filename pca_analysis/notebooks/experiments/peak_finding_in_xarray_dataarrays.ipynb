{
 "cells": [
  {
   "cell_type": "raw",
   "metadata": {
    "vscode": {
     "languageId": "raw"
    }
   },
   "source": [
    "---\n",
    "title: \"Prototyping Peak Finding in xarray DataArrays\"\n",
    "cdt: \"2024-12-08T03:06:23\"\n",
    "description: \"Prototyping how to find peaks in xarray tensors\"\n",
    "status: \"closed\"\n",
    "conclusion: \"Peak finding at DataArray and Dataset level established, alongside viz and a top-level convenience function. The need for smoothing functions is noted as the peak finding algo detected many false peaks at default settings.\"\n",
    "project: parafac2\n",
    "---\n"
   ]
  },
  {
   "cell_type": "markdown",
   "metadata": {
    "vscode": {
     "languageId": "raw"
    }
   },
   "source": [
    "# Peak Finding in xarray DataArrays\n",
    "\n",
    "There are no existing libraries for the purpose, and reducing n-dimensional tensors down to 1D arrays for the scipy peak finding algorithm is subjective as the user has to define what order to unfold the tensor."
   ]
  },
  {
   "cell_type": "code",
   "execution_count": null,
   "metadata": {},
   "outputs": [],
   "source": [
    "%reload_ext autoreload\n",
    "%autoreload 3 --print\n",
    "\n",
    "import xarray as xr\n",
    "from pca_analysis.get_sample_data import get_zhang_data\n",
    "from pca_analysis import xr_signal\n",
    "\n",
    "xr.set_options(display_expand_data=False)\n",
    "\n",
    "raw_data: xr.DataArray = get_zhang_data()\n",
    "raw_data.name = \"raw_data\"\n"
   ]
  },
  {
   "cell_type": "markdown",
   "metadata": {},
   "source": [
    "This tensor has 3 modes. We want to detect every peak at every point. There are some libraries for tensor flow, but generally speaking I'm sure that a 1D approach is best. For example\n"
   ]
  },
  {
   "cell_type": "code",
   "execution_count": null,
   "metadata": {},
   "outputs": [
    {
     "data": {
      "text/html": [
       "<div><svg style=\"position: absolute; width: 0; height: 0; overflow: hidden\">\n",
       "<defs>\n",
       "<symbol id=\"icon-database\" viewBox=\"0 0 32 32\">\n",
       "<path d=\"M16 0c-8.837 0-16 2.239-16 5v4c0 2.761 7.163 5 16 5s16-2.239 16-5v-4c0-2.761-7.163-5-16-5z\"></path>\n",
       "<path d=\"M16 17c-8.837 0-16-2.239-16-5v6c0 2.761 7.163 5 16 5s16-2.239 16-5v-6c0 2.761-7.163 5-16 5z\"></path>\n",
       "<path d=\"M16 26c-8.837 0-16-2.239-16-5v6c0 2.761 7.163 5 16 5s16-2.239 16-5v-6c0 2.761-7.163 5-16 5z\"></path>\n",
       "</symbol>\n",
       "<symbol id=\"icon-file-text2\" viewBox=\"0 0 32 32\">\n",
       "<path d=\"M28.681 7.159c-0.694-0.947-1.662-2.053-2.724-3.116s-2.169-2.030-3.116-2.724c-1.612-1.182-2.393-1.319-2.841-1.319h-15.5c-1.378 0-2.5 1.121-2.5 2.5v27c0 1.378 1.122 2.5 2.5 2.5h23c1.378 0 2.5-1.122 2.5-2.5v-19.5c0-0.448-0.137-1.23-1.319-2.841zM24.543 5.457c0.959 0.959 1.712 1.825 2.268 2.543h-4.811v-4.811c0.718 0.556 1.584 1.309 2.543 2.268zM28 29.5c0 0.271-0.229 0.5-0.5 0.5h-23c-0.271 0-0.5-0.229-0.5-0.5v-27c0-0.271 0.229-0.5 0.5-0.5 0 0 15.499-0 15.5 0v7c0 0.552 0.448 1 1 1h7v19.5z\"></path>\n",
       "<path d=\"M23 26h-14c-0.552 0-1-0.448-1-1s0.448-1 1-1h14c0.552 0 1 0.448 1 1s-0.448 1-1 1z\"></path>\n",
       "<path d=\"M23 22h-14c-0.552 0-1-0.448-1-1s0.448-1 1-1h14c0.552 0 1 0.448 1 1s-0.448 1-1 1z\"></path>\n",
       "<path d=\"M23 18h-14c-0.552 0-1-0.448-1-1s0.448-1 1-1h14c0.552 0 1 0.448 1 1s-0.448 1-1 1z\"></path>\n",
       "</symbol>\n",
       "</defs>\n",
       "</svg>\n",
       "<style>/* CSS stylesheet for displaying xarray objects in jupyterlab.\n",
       " *\n",
       " */\n",
       "\n",
       ":root {\n",
       "  --xr-font-color0: var(--jp-content-font-color0, rgba(0, 0, 0, 1));\n",
       "  --xr-font-color2: var(--jp-content-font-color2, rgba(0, 0, 0, 0.54));\n",
       "  --xr-font-color3: var(--jp-content-font-color3, rgba(0, 0, 0, 0.38));\n",
       "  --xr-border-color: var(--jp-border-color2, #e0e0e0);\n",
       "  --xr-disabled-color: var(--jp-layout-color3, #bdbdbd);\n",
       "  --xr-background-color: var(--jp-layout-color0, white);\n",
       "  --xr-background-color-row-even: var(--jp-layout-color1, white);\n",
       "  --xr-background-color-row-odd: var(--jp-layout-color2, #eeeeee);\n",
       "}\n",
       "\n",
       "html[theme=dark],\n",
       "html[data-theme=dark],\n",
       "body[data-theme=dark],\n",
       "body.vscode-dark {\n",
       "  --xr-font-color0: rgba(255, 255, 255, 1);\n",
       "  --xr-font-color2: rgba(255, 255, 255, 0.54);\n",
       "  --xr-font-color3: rgba(255, 255, 255, 0.38);\n",
       "  --xr-border-color: #1F1F1F;\n",
       "  --xr-disabled-color: #515151;\n",
       "  --xr-background-color: #111111;\n",
       "  --xr-background-color-row-even: #111111;\n",
       "  --xr-background-color-row-odd: #313131;\n",
       "}\n",
       "\n",
       ".xr-wrap {\n",
       "  display: block !important;\n",
       "  min-width: 300px;\n",
       "  max-width: 700px;\n",
       "}\n",
       "\n",
       ".xr-text-repr-fallback {\n",
       "  /* fallback to plain text repr when CSS is not injected (untrusted notebook) */\n",
       "  display: none;\n",
       "}\n",
       "\n",
       ".xr-header {\n",
       "  padding-top: 6px;\n",
       "  padding-bottom: 6px;\n",
       "  margin-bottom: 4px;\n",
       "  border-bottom: solid 1px var(--xr-border-color);\n",
       "}\n",
       "\n",
       ".xr-header > div,\n",
       ".xr-header > ul {\n",
       "  display: inline;\n",
       "  margin-top: 0;\n",
       "  margin-bottom: 0;\n",
       "}\n",
       "\n",
       ".xr-obj-type,\n",
       ".xr-array-name {\n",
       "  margin-left: 2px;\n",
       "  margin-right: 10px;\n",
       "}\n",
       "\n",
       ".xr-obj-type {\n",
       "  color: var(--xr-font-color2);\n",
       "}\n",
       "\n",
       ".xr-sections {\n",
       "  padding-left: 0 !important;\n",
       "  display: grid;\n",
       "  grid-template-columns: 150px auto auto 1fr 0 20px 0 20px;\n",
       "}\n",
       "\n",
       ".xr-section-item {\n",
       "  display: contents;\n",
       "}\n",
       "\n",
       ".xr-section-item input {\n",
       "  display: inline-block;\n",
       "  opacity: 0;\n",
       "}\n",
       "\n",
       ".xr-section-item input + label {\n",
       "  color: var(--xr-disabled-color);\n",
       "}\n",
       "\n",
       ".xr-section-item input:enabled + label {\n",
       "  cursor: pointer;\n",
       "  color: var(--xr-font-color2);\n",
       "}\n",
       "\n",
       ".xr-section-item input:focus + label {\n",
       "  border: 2px solid var(--xr-font-color0);\n",
       "}\n",
       "\n",
       ".xr-section-item input:enabled + label:hover {\n",
       "  color: var(--xr-font-color0);\n",
       "}\n",
       "\n",
       ".xr-section-summary {\n",
       "  grid-column: 1;\n",
       "  color: var(--xr-font-color2);\n",
       "  font-weight: 500;\n",
       "}\n",
       "\n",
       ".xr-section-summary > span {\n",
       "  display: inline-block;\n",
       "  padding-left: 0.5em;\n",
       "}\n",
       "\n",
       ".xr-section-summary-in:disabled + label {\n",
       "  color: var(--xr-font-color2);\n",
       "}\n",
       "\n",
       ".xr-section-summary-in + label:before {\n",
       "  display: inline-block;\n",
       "  content: '►';\n",
       "  font-size: 11px;\n",
       "  width: 15px;\n",
       "  text-align: center;\n",
       "}\n",
       "\n",
       ".xr-section-summary-in:disabled + label:before {\n",
       "  color: var(--xr-disabled-color);\n",
       "}\n",
       "\n",
       ".xr-section-summary-in:checked + label:before {\n",
       "  content: '▼';\n",
       "}\n",
       "\n",
       ".xr-section-summary-in:checked + label > span {\n",
       "  display: none;\n",
       "}\n",
       "\n",
       ".xr-section-summary,\n",
       ".xr-section-inline-details {\n",
       "  padding-top: 4px;\n",
       "  padding-bottom: 4px;\n",
       "}\n",
       "\n",
       ".xr-section-inline-details {\n",
       "  grid-column: 2 / -1;\n",
       "}\n",
       "\n",
       ".xr-section-details {\n",
       "  display: none;\n",
       "  grid-column: 1 / -1;\n",
       "  margin-bottom: 5px;\n",
       "}\n",
       "\n",
       ".xr-section-summary-in:checked ~ .xr-section-details {\n",
       "  display: contents;\n",
       "}\n",
       "\n",
       ".xr-array-wrap {\n",
       "  grid-column: 1 / -1;\n",
       "  display: grid;\n",
       "  grid-template-columns: 20px auto;\n",
       "}\n",
       "\n",
       ".xr-array-wrap > label {\n",
       "  grid-column: 1;\n",
       "  vertical-align: top;\n",
       "}\n",
       "\n",
       ".xr-preview {\n",
       "  color: var(--xr-font-color3);\n",
       "}\n",
       "\n",
       ".xr-array-preview,\n",
       ".xr-array-data {\n",
       "  padding: 0 5px !important;\n",
       "  grid-column: 2;\n",
       "}\n",
       "\n",
       ".xr-array-data,\n",
       ".xr-array-in:checked ~ .xr-array-preview {\n",
       "  display: none;\n",
       "}\n",
       "\n",
       ".xr-array-in:checked ~ .xr-array-data,\n",
       ".xr-array-preview {\n",
       "  display: inline-block;\n",
       "}\n",
       "\n",
       ".xr-dim-list {\n",
       "  display: inline-block !important;\n",
       "  list-style: none;\n",
       "  padding: 0 !important;\n",
       "  margin: 0;\n",
       "}\n",
       "\n",
       ".xr-dim-list li {\n",
       "  display: inline-block;\n",
       "  padding: 0;\n",
       "  margin: 0;\n",
       "}\n",
       "\n",
       ".xr-dim-list:before {\n",
       "  content: '(';\n",
       "}\n",
       "\n",
       ".xr-dim-list:after {\n",
       "  content: ')';\n",
       "}\n",
       "\n",
       ".xr-dim-list li:not(:last-child):after {\n",
       "  content: ',';\n",
       "  padding-right: 5px;\n",
       "}\n",
       "\n",
       ".xr-has-index {\n",
       "  font-weight: bold;\n",
       "}\n",
       "\n",
       ".xr-var-list,\n",
       ".xr-var-item {\n",
       "  display: contents;\n",
       "}\n",
       "\n",
       ".xr-var-item > div,\n",
       ".xr-var-item label,\n",
       ".xr-var-item > .xr-var-name span {\n",
       "  background-color: var(--xr-background-color-row-even);\n",
       "  margin-bottom: 0;\n",
       "}\n",
       "\n",
       ".xr-var-item > .xr-var-name:hover span {\n",
       "  padding-right: 5px;\n",
       "}\n",
       "\n",
       ".xr-var-list > li:nth-child(odd) > div,\n",
       ".xr-var-list > li:nth-child(odd) > label,\n",
       ".xr-var-list > li:nth-child(odd) > .xr-var-name span {\n",
       "  background-color: var(--xr-background-color-row-odd);\n",
       "}\n",
       "\n",
       ".xr-var-name {\n",
       "  grid-column: 1;\n",
       "}\n",
       "\n",
       ".xr-var-dims {\n",
       "  grid-column: 2;\n",
       "}\n",
       "\n",
       ".xr-var-dtype {\n",
       "  grid-column: 3;\n",
       "  text-align: right;\n",
       "  color: var(--xr-font-color2);\n",
       "}\n",
       "\n",
       ".xr-var-preview {\n",
       "  grid-column: 4;\n",
       "}\n",
       "\n",
       ".xr-index-preview {\n",
       "  grid-column: 2 / 5;\n",
       "  color: var(--xr-font-color2);\n",
       "}\n",
       "\n",
       ".xr-var-name,\n",
       ".xr-var-dims,\n",
       ".xr-var-dtype,\n",
       ".xr-preview,\n",
       ".xr-attrs dt {\n",
       "  white-space: nowrap;\n",
       "  overflow: hidden;\n",
       "  text-overflow: ellipsis;\n",
       "  padding-right: 10px;\n",
       "}\n",
       "\n",
       ".xr-var-name:hover,\n",
       ".xr-var-dims:hover,\n",
       ".xr-var-dtype:hover,\n",
       ".xr-attrs dt:hover {\n",
       "  overflow: visible;\n",
       "  width: auto;\n",
       "  z-index: 1;\n",
       "}\n",
       "\n",
       ".xr-var-attrs,\n",
       ".xr-var-data,\n",
       ".xr-index-data {\n",
       "  display: none;\n",
       "  background-color: var(--xr-background-color) !important;\n",
       "  padding-bottom: 5px !important;\n",
       "}\n",
       "\n",
       ".xr-var-attrs-in:checked ~ .xr-var-attrs,\n",
       ".xr-var-data-in:checked ~ .xr-var-data,\n",
       ".xr-index-data-in:checked ~ .xr-index-data {\n",
       "  display: block;\n",
       "}\n",
       "\n",
       ".xr-var-data > table {\n",
       "  float: right;\n",
       "}\n",
       "\n",
       ".xr-var-name span,\n",
       ".xr-var-data,\n",
       ".xr-index-name div,\n",
       ".xr-index-data,\n",
       ".xr-attrs {\n",
       "  padding-left: 25px !important;\n",
       "}\n",
       "\n",
       ".xr-attrs,\n",
       ".xr-var-attrs,\n",
       ".xr-var-data,\n",
       ".xr-index-data {\n",
       "  grid-column: 1 / -1;\n",
       "}\n",
       "\n",
       "dl.xr-attrs {\n",
       "  padding: 0;\n",
       "  margin: 0;\n",
       "  display: grid;\n",
       "  grid-template-columns: 125px auto;\n",
       "}\n",
       "\n",
       ".xr-attrs dt,\n",
       ".xr-attrs dd {\n",
       "  padding: 0;\n",
       "  margin: 0;\n",
       "  float: left;\n",
       "  padding-right: 10px;\n",
       "  width: auto;\n",
       "}\n",
       "\n",
       ".xr-attrs dt {\n",
       "  font-weight: normal;\n",
       "  grid-column: 1;\n",
       "}\n",
       "\n",
       ".xr-attrs dt:hover span {\n",
       "  display: inline-block;\n",
       "  background: var(--xr-background-color);\n",
       "  padding-right: 10px;\n",
       "}\n",
       "\n",
       ".xr-attrs dd {\n",
       "  grid-column: 2;\n",
       "  white-space: pre-wrap;\n",
       "  word-break: break-all;\n",
       "}\n",
       "\n",
       ".xr-icon-database,\n",
       ".xr-icon-file-text2,\n",
       ".xr-no-icon {\n",
       "  display: inline-block;\n",
       "  vertical-align: middle;\n",
       "  width: 1em;\n",
       "  height: 1.5em !important;\n",
       "  stroke-width: 0;\n",
       "  stroke: currentColor;\n",
       "  fill: currentColor;\n",
       "}\n",
       "</style><pre class='xr-text-repr-fallback'>&lt;xarray.DataArray &#x27;raw_data&#x27; (sample: 44, time: 31, mz: 200)&gt; Size: 2MB\n",
       "0.001538 0.0 0.0 0.0 0.0 0.0 0.0 0.0 0.0 ... 0.0 0.0 0.0 0.0 0.0 0.0 0.0 0.0 0.0\n",
       "Coordinates:\n",
       "  * sample   (sample) &lt;U8 1kB &#x27;ARG-BNS1&#x27; &#x27;ARG-DDA1&#x27; ... &#x27;SOU-SPI1&#x27; &#x27;SOU-SRE1&#x27;\n",
       "  * time     (time) float64 248B 16.44 16.46 16.47 16.48 ... 16.79 16.81 16.82\n",
       "  * mz       (mz) float64 2kB 5.0 6.0 7.0 8.0 9.0 ... 201.0 202.0 203.0 204.0</pre><div class='xr-wrap' style='display:none'><div class='xr-header'><div class='xr-obj-type'>xarray.DataArray</div><div class='xr-array-name'>'raw_data'</div><ul class='xr-dim-list'><li><span class='xr-has-index'>sample</span>: 44</li><li><span class='xr-has-index'>time</span>: 31</li><li><span class='xr-has-index'>mz</span>: 200</li></ul></div><ul class='xr-sections'><li class='xr-section-item'><div class='xr-array-wrap'><input id='section-acec841f-550d-4de3-a107-5826e1fbe3c4' class='xr-array-in' type='checkbox' ><label for='section-acec841f-550d-4de3-a107-5826e1fbe3c4' title='Show/hide data repr'><svg class='icon xr-icon-database'><use xlink:href='#icon-database'></use></svg></label><div class='xr-array-preview xr-preview'><span>0.001538 0.0 0.0 0.0 0.0 0.0 0.0 0.0 ... 0.0 0.0 0.0 0.0 0.0 0.0 0.0</span></div><div class='xr-array-data'><pre>array([[[0.0015377 , 0.        , 0.        , ..., 0.        ,\n",
       "         0.        , 0.        ],\n",
       "        [0.00153885, 0.        , 0.        , ..., 0.        ,\n",
       "         0.        , 0.        ],\n",
       "        [0.00153999, 0.        , 0.        , ..., 0.        ,\n",
       "         0.        , 0.        ],\n",
       "        ...,\n",
       "        [0.00157127, 0.        , 0.        , ..., 0.        ,\n",
       "         0.        , 0.        ],\n",
       "        [0.00157248, 0.        , 0.        , ..., 0.        ,\n",
       "         0.        , 0.        ],\n",
       "        [0.00157368, 0.        , 0.        , ..., 0.        ,\n",
       "         0.        , 0.        ]],\n",
       "\n",
       "       [[0.00161663, 0.        , 0.        , ..., 0.        ,\n",
       "         0.        , 0.        ],\n",
       "        [0.00161784, 0.        , 0.        , ..., 0.        ,\n",
       "         0.        , 0.        ],\n",
       "        [0.00161905, 0.        , 0.        , ..., 0.        ,\n",
       "         0.        , 0.        ],\n",
       "...\n",
       "        [0.00203524, 0.        , 0.        , ..., 0.        ,\n",
       "         0.        , 0.        ],\n",
       "        [0.00203681, 0.        , 0.        , ..., 0.        ,\n",
       "         0.        , 0.        ],\n",
       "        [0.00203837, 0.        , 0.        , ..., 0.        ,\n",
       "         0.        , 0.        ]],\n",
       "\n",
       "       [[0.00161423, 0.        , 0.        , ..., 0.        ,\n",
       "         0.        , 0.        ],\n",
       "        [0.00161548, 0.        , 0.        , ..., 0.        ,\n",
       "         0.        , 0.        ],\n",
       "        [0.00161672, 0.        , 0.        , ..., 0.        ,\n",
       "         0.        , 0.        ],\n",
       "        ...,\n",
       "        [0.00164861, 0.        , 0.        , ..., 0.        ,\n",
       "         0.        , 0.        ],\n",
       "        [0.00164984, 0.        , 0.        , ..., 0.        ,\n",
       "         0.        , 0.        ],\n",
       "        [0.00165106, 0.        , 0.        , ..., 0.        ,\n",
       "         0.        , 0.        ]]])</pre></div></div></li><li class='xr-section-item'><input id='section-ec79cb78-7ed6-4fc2-8b5b-a72a44dc26bd' class='xr-section-summary-in' type='checkbox'  checked><label for='section-ec79cb78-7ed6-4fc2-8b5b-a72a44dc26bd' class='xr-section-summary' >Coordinates: <span>(3)</span></label><div class='xr-section-inline-details'></div><div class='xr-section-details'><ul class='xr-var-list'><li class='xr-var-item'><div class='xr-var-name'><span class='xr-has-index'>sample</span></div><div class='xr-var-dims'>(sample)</div><div class='xr-var-dtype'>&lt;U8</div><div class='xr-var-preview xr-preview'>&#x27;ARG-BNS1&#x27; ... &#x27;SOU-SRE1&#x27;</div><input id='attrs-94399ceb-4829-41c6-bdc2-ee732b5f4b77' class='xr-var-attrs-in' type='checkbox' disabled><label for='attrs-94399ceb-4829-41c6-bdc2-ee732b5f4b77' title='Show/Hide attributes'><svg class='icon xr-icon-file-text2'><use xlink:href='#icon-file-text2'></use></svg></label><input id='data-41166a6c-6bad-4ea7-8346-8c568003774f' class='xr-var-data-in' type='checkbox'><label for='data-41166a6c-6bad-4ea7-8346-8c568003774f' title='Show/Hide data repr'><svg class='icon xr-icon-database'><use xlink:href='#icon-database'></use></svg></label><div class='xr-var-attrs'><dl class='xr-attrs'></dl></div><div class='xr-var-data'><pre>array([&#x27;ARG-BNS1&#x27;, &#x27;ARG-DDA1&#x27;, &#x27;ARG-FFL1&#x27;, &#x27;ARG-FLM1&#x27;, &#x27;ARG-ICR1&#x27;, &#x27;ARG-SAL1&#x27;,\n",
       "       &#x27;AUS-CAV1&#x27;, &#x27;AUS-EAG1&#x27;, &#x27;AUS-HAR1&#x27;, &#x27;AUS-IB41&#x27;, &#x27;AUS-KIL1&#x27;, &#x27;AUS-KIR1&#x27;,\n",
       "       &#x27;AUS-NUG1&#x27;, &#x27;AUS-SOC1&#x27;, &#x27;AUS-TGH1&#x27;, &#x27;AUS-VAF1&#x27;, &#x27;AUS-WBL1&#x27;, &#x27;AUS-WES1&#x27;,\n",
       "       &#x27;CHI-CDD1&#x27;, &#x27;CHI-CDM1&#x27;, &#x27;CHI-CMO1&#x27;, &#x27;CHI-CSU1&#x27;, &#x27;CHI-GNE1&#x27;, &#x27;CHI-IND1&#x27;,\n",
       "       &#x27;CHI-LJO1&#x27;, &#x27;CHI-S151&#x27;, &#x27;CHI-SCH1&#x27;, &#x27;CHI-SHE1&#x27;, &#x27;CHI-SUN1&#x27;, &#x27;CHI-UND1&#x27;,\n",
       "       &#x27;CHI-UTA1&#x27;, &#x27;CHI-VDA1&#x27;, &#x27;CHI-VDS1&#x27;, &#x27;SOU-HHI1&#x27;, &#x27;SOU-INS1&#x27;, &#x27;SOU-KWV1&#x27;,\n",
       "       &#x27;SOU-NED1&#x27;, &#x27;SOU-PDM1&#x27;, &#x27;SOU-ROO1&#x27;, &#x27;SOU-RW21&#x27;, &#x27;SOU-SAV1&#x27;, &#x27;SOU-SIM1&#x27;,\n",
       "       &#x27;SOU-SPI1&#x27;, &#x27;SOU-SRE1&#x27;], dtype=&#x27;&lt;U8&#x27;)</pre></div></li><li class='xr-var-item'><div class='xr-var-name'><span class='xr-has-index'>time</span></div><div class='xr-var-dims'>(time)</div><div class='xr-var-dtype'>float64</div><div class='xr-var-preview xr-preview'>16.44 16.46 16.47 ... 16.81 16.82</div><input id='attrs-0555039c-b5a1-45cd-b58c-d04ef77809b1' class='xr-var-attrs-in' type='checkbox' disabled><label for='attrs-0555039c-b5a1-45cd-b58c-d04ef77809b1' title='Show/Hide attributes'><svg class='icon xr-icon-file-text2'><use xlink:href='#icon-file-text2'></use></svg></label><input id='data-72f6d8dc-65f4-4f24-a753-51244fee4076' class='xr-var-data-in' type='checkbox'><label for='data-72f6d8dc-65f4-4f24-a753-51244fee4076' title='Show/Hide data repr'><svg class='icon xr-icon-database'><use xlink:href='#icon-database'></use></svg></label><div class='xr-var-attrs'><dl class='xr-attrs'></dl></div><div class='xr-var-data'><pre>array([16.443855, 16.456346, 16.468836, 16.481327, 16.493817, 16.506308,\n",
       "       16.518799, 16.531289, 16.54378 , 16.55627 , 16.568761, 16.581251,\n",
       "       16.593742, 16.606233, 16.618723, 16.631214, 16.643704, 16.656195,\n",
       "       16.668686, 16.681176, 16.693667, 16.706157, 16.718648, 16.731138,\n",
       "       16.743629, 16.75612 , 16.76861 , 16.781101, 16.793591, 16.806082,\n",
       "       16.818573])</pre></div></li><li class='xr-var-item'><div class='xr-var-name'><span class='xr-has-index'>mz</span></div><div class='xr-var-dims'>(mz)</div><div class='xr-var-dtype'>float64</div><div class='xr-var-preview xr-preview'>5.0 6.0 7.0 ... 202.0 203.0 204.0</div><input id='attrs-5555d996-b209-43b1-a080-c94e204ef668' class='xr-var-attrs-in' type='checkbox' disabled><label for='attrs-5555d996-b209-43b1-a080-c94e204ef668' title='Show/Hide attributes'><svg class='icon xr-icon-file-text2'><use xlink:href='#icon-file-text2'></use></svg></label><input id='data-5047046b-0076-40c1-a2e0-eceb823361c1' class='xr-var-data-in' type='checkbox'><label for='data-5047046b-0076-40c1-a2e0-eceb823361c1' title='Show/Hide data repr'><svg class='icon xr-icon-database'><use xlink:href='#icon-database'></use></svg></label><div class='xr-var-attrs'><dl class='xr-attrs'></dl></div><div class='xr-var-data'><pre>array([  5.,   6.,   7.,   8.,   9.,  10.,  11.,  12.,  13.,  14.,  15.,  16.,\n",
       "        17.,  18.,  19.,  20.,  21.,  22.,  23.,  24.,  25.,  26.,  27.,  28.,\n",
       "        29.,  30.,  31.,  32.,  33.,  34.,  35.,  36.,  37.,  38.,  39.,  40.,\n",
       "        41.,  42.,  43.,  44.,  45.,  46.,  47.,  48.,  49.,  50.,  51.,  52.,\n",
       "        53.,  54.,  55.,  56.,  57.,  58.,  59.,  60.,  61.,  62.,  63.,  64.,\n",
       "        65.,  66.,  67.,  68.,  69.,  70.,  71.,  72.,  73.,  74.,  75.,  76.,\n",
       "        77.,  78.,  79.,  80.,  81.,  82.,  83.,  84.,  85.,  86.,  87.,  88.,\n",
       "        89.,  90.,  91.,  92.,  93.,  94.,  95.,  96.,  97.,  98.,  99., 100.,\n",
       "       101., 102., 103., 104., 105., 106., 107., 108., 109., 110., 111., 112.,\n",
       "       113., 114., 115., 116., 117., 118., 119., 120., 121., 122., 123., 124.,\n",
       "       125., 126., 127., 128., 129., 130., 131., 132., 133., 134., 135., 136.,\n",
       "       137., 138., 139., 140., 141., 142., 143., 144., 145., 146., 147., 148.,\n",
       "       149., 150., 151., 152., 153., 154., 155., 156., 157., 158., 159., 160.,\n",
       "       161., 162., 163., 164., 165., 166., 167., 168., 169., 170., 171., 172.,\n",
       "       173., 174., 175., 176., 177., 178., 179., 180., 181., 182., 183., 184.,\n",
       "       185., 186., 187., 188., 189., 190., 191., 192., 193., 194., 195., 196.,\n",
       "       197., 198., 199., 200., 201., 202., 203., 204.])</pre></div></li></ul></div></li><li class='xr-section-item'><input id='section-8ec48d4b-ee65-41b7-921b-8cd941aa5ff4' class='xr-section-summary-in' type='checkbox'  ><label for='section-8ec48d4b-ee65-41b7-921b-8cd941aa5ff4' class='xr-section-summary' >Indexes: <span>(3)</span></label><div class='xr-section-inline-details'></div><div class='xr-section-details'><ul class='xr-var-list'><li class='xr-var-item'><div class='xr-index-name'><div>sample</div></div><div class='xr-index-preview'>PandasIndex</div><div></div><input id='index-462cc2c2-d070-4a28-a996-c8a2d4f413b5' class='xr-index-data-in' type='checkbox'/><label for='index-462cc2c2-d070-4a28-a996-c8a2d4f413b5' title='Show/Hide index repr'><svg class='icon xr-icon-database'><use xlink:href='#icon-database'></use></svg></label><div class='xr-index-data'><pre>PandasIndex(Index([&#x27;ARG-BNS1&#x27;, &#x27;ARG-DDA1&#x27;, &#x27;ARG-FFL1&#x27;, &#x27;ARG-FLM1&#x27;, &#x27;ARG-ICR1&#x27;, &#x27;ARG-SAL1&#x27;,\n",
       "       &#x27;AUS-CAV1&#x27;, &#x27;AUS-EAG1&#x27;, &#x27;AUS-HAR1&#x27;, &#x27;AUS-IB41&#x27;, &#x27;AUS-KIL1&#x27;, &#x27;AUS-KIR1&#x27;,\n",
       "       &#x27;AUS-NUG1&#x27;, &#x27;AUS-SOC1&#x27;, &#x27;AUS-TGH1&#x27;, &#x27;AUS-VAF1&#x27;, &#x27;AUS-WBL1&#x27;, &#x27;AUS-WES1&#x27;,\n",
       "       &#x27;CHI-CDD1&#x27;, &#x27;CHI-CDM1&#x27;, &#x27;CHI-CMO1&#x27;, &#x27;CHI-CSU1&#x27;, &#x27;CHI-GNE1&#x27;, &#x27;CHI-IND1&#x27;,\n",
       "       &#x27;CHI-LJO1&#x27;, &#x27;CHI-S151&#x27;, &#x27;CHI-SCH1&#x27;, &#x27;CHI-SHE1&#x27;, &#x27;CHI-SUN1&#x27;, &#x27;CHI-UND1&#x27;,\n",
       "       &#x27;CHI-UTA1&#x27;, &#x27;CHI-VDA1&#x27;, &#x27;CHI-VDS1&#x27;, &#x27;SOU-HHI1&#x27;, &#x27;SOU-INS1&#x27;, &#x27;SOU-KWV1&#x27;,\n",
       "       &#x27;SOU-NED1&#x27;, &#x27;SOU-PDM1&#x27;, &#x27;SOU-ROO1&#x27;, &#x27;SOU-RW21&#x27;, &#x27;SOU-SAV1&#x27;, &#x27;SOU-SIM1&#x27;,\n",
       "       &#x27;SOU-SPI1&#x27;, &#x27;SOU-SRE1&#x27;],\n",
       "      dtype=&#x27;object&#x27;, name=&#x27;sample&#x27;))</pre></div></li><li class='xr-var-item'><div class='xr-index-name'><div>time</div></div><div class='xr-index-preview'>PandasIndex</div><div></div><input id='index-d1081fee-af15-4556-b1b0-84b4db6011fe' class='xr-index-data-in' type='checkbox'/><label for='index-d1081fee-af15-4556-b1b0-84b4db6011fe' title='Show/Hide index repr'><svg class='icon xr-icon-database'><use xlink:href='#icon-database'></use></svg></label><div class='xr-index-data'><pre>PandasIndex(Index([ 16.44385502416264, 16.456345609065156,  16.46883619396767,\n",
       "        16.48132677887019, 16.493817363772706,  16.50630794867522,\n",
       "       16.518798533577737, 16.531289118480256,  16.54377970338277,\n",
       "       16.556270288285287, 16.568760873187802,  16.58125145809032,\n",
       "       16.593742042992837, 16.606232627895352, 16.618723212797867,\n",
       "       16.631213797700383, 16.643704382602902, 16.656194967505417,\n",
       "       16.668685552407933, 16.681176137310448, 16.693666722212967,\n",
       "       16.706157307115483, 16.718647892017998, 16.731138476920513,\n",
       "       16.743629061823032, 16.756119646725548, 16.768610231628063,\n",
       "        16.78110081653058, 16.793591401433094, 16.806081986335613,\n",
       "        16.81857257123813],\n",
       "      dtype=&#x27;float64&#x27;, name=&#x27;time&#x27;))</pre></div></li><li class='xr-var-item'><div class='xr-index-name'><div>mz</div></div><div class='xr-index-preview'>PandasIndex</div><div></div><input id='index-5e654c8c-6ac5-40dc-a06b-7ffdce955c74' class='xr-index-data-in' type='checkbox'/><label for='index-5e654c8c-6ac5-40dc-a06b-7ffdce955c74' title='Show/Hide index repr'><svg class='icon xr-icon-database'><use xlink:href='#icon-database'></use></svg></label><div class='xr-index-data'><pre>PandasIndex(Index([  5.0,   6.0,   7.0,   8.0,   9.0,  10.0,  11.0,  12.0,  13.0,  14.0,\n",
       "       ...\n",
       "       195.0, 196.0, 197.0, 198.0, 199.0, 200.0, 201.0, 202.0, 203.0, 204.0],\n",
       "      dtype=&#x27;float64&#x27;, name=&#x27;mz&#x27;, length=200))</pre></div></li></ul></div></li><li class='xr-section-item'><input id='section-a1dd0c04-3a39-48b3-a282-47da2065f0b1' class='xr-section-summary-in' type='checkbox' disabled ><label for='section-a1dd0c04-3a39-48b3-a282-47da2065f0b1' class='xr-section-summary'  title='Expand/collapse section'>Attributes: <span>(0)</span></label><div class='xr-section-inline-details'></div><div class='xr-section-details'><dl class='xr-attrs'></dl></div></li></ul></div></div>"
      ],
      "text/plain": [
       "<xarray.DataArray 'raw_data' (sample: 44, time: 31, mz: 200)> Size: 2MB\n",
       "0.001538 0.0 0.0 0.0 0.0 0.0 0.0 0.0 0.0 ... 0.0 0.0 0.0 0.0 0.0 0.0 0.0 0.0 0.0\n",
       "Coordinates:\n",
       "  * sample   (sample) <U8 1kB 'ARG-BNS1' 'ARG-DDA1' ... 'SOU-SPI1' 'SOU-SRE1'\n",
       "  * time     (time) float64 248B 16.44 16.46 16.47 16.48 ... 16.79 16.81 16.82\n",
       "  * mz       (mz) float64 2kB 5.0 6.0 7.0 8.0 9.0 ... 201.0 202.0 203.0 204.0"
      ]
     },
     "execution_count": 52,
     "metadata": {},
     "output_type": "execute_result"
    }
   ],
   "source": [
    "raw_data\n"
   ]
  },
  {
   "cell_type": "code",
   "execution_count": null,
   "metadata": {},
   "outputs": [
    {
     "data": {
      "text/html": [
       "<div><svg style=\"position: absolute; width: 0; height: 0; overflow: hidden\">\n",
       "<defs>\n",
       "<symbol id=\"icon-database\" viewBox=\"0 0 32 32\">\n",
       "<path d=\"M16 0c-8.837 0-16 2.239-16 5v4c0 2.761 7.163 5 16 5s16-2.239 16-5v-4c0-2.761-7.163-5-16-5z\"></path>\n",
       "<path d=\"M16 17c-8.837 0-16-2.239-16-5v6c0 2.761 7.163 5 16 5s16-2.239 16-5v-6c0 2.761-7.163 5-16 5z\"></path>\n",
       "<path d=\"M16 26c-8.837 0-16-2.239-16-5v6c0 2.761 7.163 5 16 5s16-2.239 16-5v-6c0 2.761-7.163 5-16 5z\"></path>\n",
       "</symbol>\n",
       "<symbol id=\"icon-file-text2\" viewBox=\"0 0 32 32\">\n",
       "<path d=\"M28.681 7.159c-0.694-0.947-1.662-2.053-2.724-3.116s-2.169-2.030-3.116-2.724c-1.612-1.182-2.393-1.319-2.841-1.319h-15.5c-1.378 0-2.5 1.121-2.5 2.5v27c0 1.378 1.122 2.5 2.5 2.5h23c1.378 0 2.5-1.122 2.5-2.5v-19.5c0-0.448-0.137-1.23-1.319-2.841zM24.543 5.457c0.959 0.959 1.712 1.825 2.268 2.543h-4.811v-4.811c0.718 0.556 1.584 1.309 2.543 2.268zM28 29.5c0 0.271-0.229 0.5-0.5 0.5h-23c-0.271 0-0.5-0.229-0.5-0.5v-27c0-0.271 0.229-0.5 0.5-0.5 0 0 15.499-0 15.5 0v7c0 0.552 0.448 1 1 1h7v19.5z\"></path>\n",
       "<path d=\"M23 26h-14c-0.552 0-1-0.448-1-1s0.448-1 1-1h14c0.552 0 1 0.448 1 1s-0.448 1-1 1z\"></path>\n",
       "<path d=\"M23 22h-14c-0.552 0-1-0.448-1-1s0.448-1 1-1h14c0.552 0 1 0.448 1 1s-0.448 1-1 1z\"></path>\n",
       "<path d=\"M23 18h-14c-0.552 0-1-0.448-1-1s0.448-1 1-1h14c0.552 0 1 0.448 1 1s-0.448 1-1 1z\"></path>\n",
       "</symbol>\n",
       "</defs>\n",
       "</svg>\n",
       "<style>/* CSS stylesheet for displaying xarray objects in jupyterlab.\n",
       " *\n",
       " */\n",
       "\n",
       ":root {\n",
       "  --xr-font-color0: var(--jp-content-font-color0, rgba(0, 0, 0, 1));\n",
       "  --xr-font-color2: var(--jp-content-font-color2, rgba(0, 0, 0, 0.54));\n",
       "  --xr-font-color3: var(--jp-content-font-color3, rgba(0, 0, 0, 0.38));\n",
       "  --xr-border-color: var(--jp-border-color2, #e0e0e0);\n",
       "  --xr-disabled-color: var(--jp-layout-color3, #bdbdbd);\n",
       "  --xr-background-color: var(--jp-layout-color0, white);\n",
       "  --xr-background-color-row-even: var(--jp-layout-color1, white);\n",
       "  --xr-background-color-row-odd: var(--jp-layout-color2, #eeeeee);\n",
       "}\n",
       "\n",
       "html[theme=dark],\n",
       "html[data-theme=dark],\n",
       "body[data-theme=dark],\n",
       "body.vscode-dark {\n",
       "  --xr-font-color0: rgba(255, 255, 255, 1);\n",
       "  --xr-font-color2: rgba(255, 255, 255, 0.54);\n",
       "  --xr-font-color3: rgba(255, 255, 255, 0.38);\n",
       "  --xr-border-color: #1F1F1F;\n",
       "  --xr-disabled-color: #515151;\n",
       "  --xr-background-color: #111111;\n",
       "  --xr-background-color-row-even: #111111;\n",
       "  --xr-background-color-row-odd: #313131;\n",
       "}\n",
       "\n",
       ".xr-wrap {\n",
       "  display: block !important;\n",
       "  min-width: 300px;\n",
       "  max-width: 700px;\n",
       "}\n",
       "\n",
       ".xr-text-repr-fallback {\n",
       "  /* fallback to plain text repr when CSS is not injected (untrusted notebook) */\n",
       "  display: none;\n",
       "}\n",
       "\n",
       ".xr-header {\n",
       "  padding-top: 6px;\n",
       "  padding-bottom: 6px;\n",
       "  margin-bottom: 4px;\n",
       "  border-bottom: solid 1px var(--xr-border-color);\n",
       "}\n",
       "\n",
       ".xr-header > div,\n",
       ".xr-header > ul {\n",
       "  display: inline;\n",
       "  margin-top: 0;\n",
       "  margin-bottom: 0;\n",
       "}\n",
       "\n",
       ".xr-obj-type,\n",
       ".xr-array-name {\n",
       "  margin-left: 2px;\n",
       "  margin-right: 10px;\n",
       "}\n",
       "\n",
       ".xr-obj-type {\n",
       "  color: var(--xr-font-color2);\n",
       "}\n",
       "\n",
       ".xr-sections {\n",
       "  padding-left: 0 !important;\n",
       "  display: grid;\n",
       "  grid-template-columns: 150px auto auto 1fr 0 20px 0 20px;\n",
       "}\n",
       "\n",
       ".xr-section-item {\n",
       "  display: contents;\n",
       "}\n",
       "\n",
       ".xr-section-item input {\n",
       "  display: inline-block;\n",
       "  opacity: 0;\n",
       "}\n",
       "\n",
       ".xr-section-item input + label {\n",
       "  color: var(--xr-disabled-color);\n",
       "}\n",
       "\n",
       ".xr-section-item input:enabled + label {\n",
       "  cursor: pointer;\n",
       "  color: var(--xr-font-color2);\n",
       "}\n",
       "\n",
       ".xr-section-item input:focus + label {\n",
       "  border: 2px solid var(--xr-font-color0);\n",
       "}\n",
       "\n",
       ".xr-section-item input:enabled + label:hover {\n",
       "  color: var(--xr-font-color0);\n",
       "}\n",
       "\n",
       ".xr-section-summary {\n",
       "  grid-column: 1;\n",
       "  color: var(--xr-font-color2);\n",
       "  font-weight: 500;\n",
       "}\n",
       "\n",
       ".xr-section-summary > span {\n",
       "  display: inline-block;\n",
       "  padding-left: 0.5em;\n",
       "}\n",
       "\n",
       ".xr-section-summary-in:disabled + label {\n",
       "  color: var(--xr-font-color2);\n",
       "}\n",
       "\n",
       ".xr-section-summary-in + label:before {\n",
       "  display: inline-block;\n",
       "  content: '►';\n",
       "  font-size: 11px;\n",
       "  width: 15px;\n",
       "  text-align: center;\n",
       "}\n",
       "\n",
       ".xr-section-summary-in:disabled + label:before {\n",
       "  color: var(--xr-disabled-color);\n",
       "}\n",
       "\n",
       ".xr-section-summary-in:checked + label:before {\n",
       "  content: '▼';\n",
       "}\n",
       "\n",
       ".xr-section-summary-in:checked + label > span {\n",
       "  display: none;\n",
       "}\n",
       "\n",
       ".xr-section-summary,\n",
       ".xr-section-inline-details {\n",
       "  padding-top: 4px;\n",
       "  padding-bottom: 4px;\n",
       "}\n",
       "\n",
       ".xr-section-inline-details {\n",
       "  grid-column: 2 / -1;\n",
       "}\n",
       "\n",
       ".xr-section-details {\n",
       "  display: none;\n",
       "  grid-column: 1 / -1;\n",
       "  margin-bottom: 5px;\n",
       "}\n",
       "\n",
       ".xr-section-summary-in:checked ~ .xr-section-details {\n",
       "  display: contents;\n",
       "}\n",
       "\n",
       ".xr-array-wrap {\n",
       "  grid-column: 1 / -1;\n",
       "  display: grid;\n",
       "  grid-template-columns: 20px auto;\n",
       "}\n",
       "\n",
       ".xr-array-wrap > label {\n",
       "  grid-column: 1;\n",
       "  vertical-align: top;\n",
       "}\n",
       "\n",
       ".xr-preview {\n",
       "  color: var(--xr-font-color3);\n",
       "}\n",
       "\n",
       ".xr-array-preview,\n",
       ".xr-array-data {\n",
       "  padding: 0 5px !important;\n",
       "  grid-column: 2;\n",
       "}\n",
       "\n",
       ".xr-array-data,\n",
       ".xr-array-in:checked ~ .xr-array-preview {\n",
       "  display: none;\n",
       "}\n",
       "\n",
       ".xr-array-in:checked ~ .xr-array-data,\n",
       ".xr-array-preview {\n",
       "  display: inline-block;\n",
       "}\n",
       "\n",
       ".xr-dim-list {\n",
       "  display: inline-block !important;\n",
       "  list-style: none;\n",
       "  padding: 0 !important;\n",
       "  margin: 0;\n",
       "}\n",
       "\n",
       ".xr-dim-list li {\n",
       "  display: inline-block;\n",
       "  padding: 0;\n",
       "  margin: 0;\n",
       "}\n",
       "\n",
       ".xr-dim-list:before {\n",
       "  content: '(';\n",
       "}\n",
       "\n",
       ".xr-dim-list:after {\n",
       "  content: ')';\n",
       "}\n",
       "\n",
       ".xr-dim-list li:not(:last-child):after {\n",
       "  content: ',';\n",
       "  padding-right: 5px;\n",
       "}\n",
       "\n",
       ".xr-has-index {\n",
       "  font-weight: bold;\n",
       "}\n",
       "\n",
       ".xr-var-list,\n",
       ".xr-var-item {\n",
       "  display: contents;\n",
       "}\n",
       "\n",
       ".xr-var-item > div,\n",
       ".xr-var-item label,\n",
       ".xr-var-item > .xr-var-name span {\n",
       "  background-color: var(--xr-background-color-row-even);\n",
       "  margin-bottom: 0;\n",
       "}\n",
       "\n",
       ".xr-var-item > .xr-var-name:hover span {\n",
       "  padding-right: 5px;\n",
       "}\n",
       "\n",
       ".xr-var-list > li:nth-child(odd) > div,\n",
       ".xr-var-list > li:nth-child(odd) > label,\n",
       ".xr-var-list > li:nth-child(odd) > .xr-var-name span {\n",
       "  background-color: var(--xr-background-color-row-odd);\n",
       "}\n",
       "\n",
       ".xr-var-name {\n",
       "  grid-column: 1;\n",
       "}\n",
       "\n",
       ".xr-var-dims {\n",
       "  grid-column: 2;\n",
       "}\n",
       "\n",
       ".xr-var-dtype {\n",
       "  grid-column: 3;\n",
       "  text-align: right;\n",
       "  color: var(--xr-font-color2);\n",
       "}\n",
       "\n",
       ".xr-var-preview {\n",
       "  grid-column: 4;\n",
       "}\n",
       "\n",
       ".xr-index-preview {\n",
       "  grid-column: 2 / 5;\n",
       "  color: var(--xr-font-color2);\n",
       "}\n",
       "\n",
       ".xr-var-name,\n",
       ".xr-var-dims,\n",
       ".xr-var-dtype,\n",
       ".xr-preview,\n",
       ".xr-attrs dt {\n",
       "  white-space: nowrap;\n",
       "  overflow: hidden;\n",
       "  text-overflow: ellipsis;\n",
       "  padding-right: 10px;\n",
       "}\n",
       "\n",
       ".xr-var-name:hover,\n",
       ".xr-var-dims:hover,\n",
       ".xr-var-dtype:hover,\n",
       ".xr-attrs dt:hover {\n",
       "  overflow: visible;\n",
       "  width: auto;\n",
       "  z-index: 1;\n",
       "}\n",
       "\n",
       ".xr-var-attrs,\n",
       ".xr-var-data,\n",
       ".xr-index-data {\n",
       "  display: none;\n",
       "  background-color: var(--xr-background-color) !important;\n",
       "  padding-bottom: 5px !important;\n",
       "}\n",
       "\n",
       ".xr-var-attrs-in:checked ~ .xr-var-attrs,\n",
       ".xr-var-data-in:checked ~ .xr-var-data,\n",
       ".xr-index-data-in:checked ~ .xr-index-data {\n",
       "  display: block;\n",
       "}\n",
       "\n",
       ".xr-var-data > table {\n",
       "  float: right;\n",
       "}\n",
       "\n",
       ".xr-var-name span,\n",
       ".xr-var-data,\n",
       ".xr-index-name div,\n",
       ".xr-index-data,\n",
       ".xr-attrs {\n",
       "  padding-left: 25px !important;\n",
       "}\n",
       "\n",
       ".xr-attrs,\n",
       ".xr-var-attrs,\n",
       ".xr-var-data,\n",
       ".xr-index-data {\n",
       "  grid-column: 1 / -1;\n",
       "}\n",
       "\n",
       "dl.xr-attrs {\n",
       "  padding: 0;\n",
       "  margin: 0;\n",
       "  display: grid;\n",
       "  grid-template-columns: 125px auto;\n",
       "}\n",
       "\n",
       ".xr-attrs dt,\n",
       ".xr-attrs dd {\n",
       "  padding: 0;\n",
       "  margin: 0;\n",
       "  float: left;\n",
       "  padding-right: 10px;\n",
       "  width: auto;\n",
       "}\n",
       "\n",
       ".xr-attrs dt {\n",
       "  font-weight: normal;\n",
       "  grid-column: 1;\n",
       "}\n",
       "\n",
       ".xr-attrs dt:hover span {\n",
       "  display: inline-block;\n",
       "  background: var(--xr-background-color);\n",
       "  padding-right: 10px;\n",
       "}\n",
       "\n",
       ".xr-attrs dd {\n",
       "  grid-column: 2;\n",
       "  white-space: pre-wrap;\n",
       "  word-break: break-all;\n",
       "}\n",
       "\n",
       ".xr-icon-database,\n",
       ".xr-icon-file-text2,\n",
       ".xr-no-icon {\n",
       "  display: inline-block;\n",
       "  vertical-align: middle;\n",
       "  width: 1em;\n",
       "  height: 1.5em !important;\n",
       "  stroke-width: 0;\n",
       "  stroke: currentColor;\n",
       "  fill: currentColor;\n",
       "}\n",
       "</style><pre class='xr-text-repr-fallback'>&lt;xarray.Dataset&gt; Size: 3kB\n",
       "Dimensions:   (sample: 5, time: 31)\n",
       "Coordinates:\n",
       "  * sample    (sample) &lt;U8 160B &#x27;ARG-SAL1&#x27; &#x27;AUS-CAV1&#x27; ... &#x27;AUS-HAR1&#x27; &#x27;AUS-IB41&#x27;\n",
       "  * time      (time) float64 248B 16.44 16.46 16.47 16.48 ... 16.79 16.81 16.82\n",
       "    mz        float64 8B 46.0\n",
       "Data variables:\n",
       "    raw_data  (sample, time) float64 1kB 0.0001484 0.0001469 ... 0.0003215\n",
       "    peaks     (sample, time) float64 1kB nan nan 0.0001905 ... nan 0.0003849 nan</pre><div class='xr-wrap' style='display:none'><div class='xr-header'><div class='xr-obj-type'>xarray.Dataset</div></div><ul class='xr-sections'><li class='xr-section-item'><input id='section-7f9dabb0-6f58-4792-a9cb-72ff2f9b4cbc' class='xr-section-summary-in' type='checkbox' disabled ><label for='section-7f9dabb0-6f58-4792-a9cb-72ff2f9b4cbc' class='xr-section-summary'  title='Expand/collapse section'>Dimensions:</label><div class='xr-section-inline-details'><ul class='xr-dim-list'><li><span class='xr-has-index'>sample</span>: 5</li><li><span class='xr-has-index'>time</span>: 31</li></ul></div><div class='xr-section-details'></div></li><li class='xr-section-item'><input id='section-4bb276a6-d84c-49eb-b4c1-dc73db5ee37c' class='xr-section-summary-in' type='checkbox'  checked><label for='section-4bb276a6-d84c-49eb-b4c1-dc73db5ee37c' class='xr-section-summary' >Coordinates: <span>(3)</span></label><div class='xr-section-inline-details'></div><div class='xr-section-details'><ul class='xr-var-list'><li class='xr-var-item'><div class='xr-var-name'><span class='xr-has-index'>sample</span></div><div class='xr-var-dims'>(sample)</div><div class='xr-var-dtype'>&lt;U8</div><div class='xr-var-preview xr-preview'>&#x27;ARG-SAL1&#x27; ... &#x27;AUS-IB41&#x27;</div><input id='attrs-3ca69d06-df27-476b-a486-df9587b55a33' class='xr-var-attrs-in' type='checkbox' disabled><label for='attrs-3ca69d06-df27-476b-a486-df9587b55a33' title='Show/Hide attributes'><svg class='icon xr-icon-file-text2'><use xlink:href='#icon-file-text2'></use></svg></label><input id='data-ac172fa5-8017-4597-9b55-c5d717de9a17' class='xr-var-data-in' type='checkbox'><label for='data-ac172fa5-8017-4597-9b55-c5d717de9a17' title='Show/Hide data repr'><svg class='icon xr-icon-database'><use xlink:href='#icon-database'></use></svg></label><div class='xr-var-attrs'><dl class='xr-attrs'></dl></div><div class='xr-var-data'><pre>array([&#x27;ARG-SAL1&#x27;, &#x27;AUS-CAV1&#x27;, &#x27;AUS-EAG1&#x27;, &#x27;AUS-HAR1&#x27;, &#x27;AUS-IB41&#x27;], dtype=&#x27;&lt;U8&#x27;)</pre></div></li><li class='xr-var-item'><div class='xr-var-name'><span class='xr-has-index'>time</span></div><div class='xr-var-dims'>(time)</div><div class='xr-var-dtype'>float64</div><div class='xr-var-preview xr-preview'>16.44 16.46 16.47 ... 16.81 16.82</div><input id='attrs-9b42b94c-fd00-4154-9a45-386bd180a273' class='xr-var-attrs-in' type='checkbox' disabled><label for='attrs-9b42b94c-fd00-4154-9a45-386bd180a273' title='Show/Hide attributes'><svg class='icon xr-icon-file-text2'><use xlink:href='#icon-file-text2'></use></svg></label><input id='data-1275d758-b147-4d9f-b702-160afefc9936' class='xr-var-data-in' type='checkbox'><label for='data-1275d758-b147-4d9f-b702-160afefc9936' title='Show/Hide data repr'><svg class='icon xr-icon-database'><use xlink:href='#icon-database'></use></svg></label><div class='xr-var-attrs'><dl class='xr-attrs'></dl></div><div class='xr-var-data'><pre>array([16.443855, 16.456346, 16.468836, 16.481327, 16.493817, 16.506308,\n",
       "       16.518799, 16.531289, 16.54378 , 16.55627 , 16.568761, 16.581251,\n",
       "       16.593742, 16.606233, 16.618723, 16.631214, 16.643704, 16.656195,\n",
       "       16.668686, 16.681176, 16.693667, 16.706157, 16.718648, 16.731138,\n",
       "       16.743629, 16.75612 , 16.76861 , 16.781101, 16.793591, 16.806082,\n",
       "       16.818573])</pre></div></li><li class='xr-var-item'><div class='xr-var-name'><span>mz</span></div><div class='xr-var-dims'>()</div><div class='xr-var-dtype'>float64</div><div class='xr-var-preview xr-preview'>46.0</div><input id='attrs-4d95d041-e042-40cd-9929-de3eb559b25a' class='xr-var-attrs-in' type='checkbox' disabled><label for='attrs-4d95d041-e042-40cd-9929-de3eb559b25a' title='Show/Hide attributes'><svg class='icon xr-icon-file-text2'><use xlink:href='#icon-file-text2'></use></svg></label><input id='data-2dbb1fe2-20d2-492e-b80c-03166f524198' class='xr-var-data-in' type='checkbox'><label for='data-2dbb1fe2-20d2-492e-b80c-03166f524198' title='Show/Hide data repr'><svg class='icon xr-icon-database'><use xlink:href='#icon-database'></use></svg></label><div class='xr-var-attrs'><dl class='xr-attrs'></dl></div><div class='xr-var-data'><pre>array(46.)</pre></div></li></ul></div></li><li class='xr-section-item'><input id='section-90ef1bca-f2f5-4b22-8564-53a24d5fb4c6' class='xr-section-summary-in' type='checkbox'  checked><label for='section-90ef1bca-f2f5-4b22-8564-53a24d5fb4c6' class='xr-section-summary' >Data variables: <span>(2)</span></label><div class='xr-section-inline-details'></div><div class='xr-section-details'><ul class='xr-var-list'><li class='xr-var-item'><div class='xr-var-name'><span>raw_data</span></div><div class='xr-var-dims'>(sample, time)</div><div class='xr-var-dtype'>float64</div><div class='xr-var-preview xr-preview'>0.0001484 0.0001469 ... 0.0003215</div><input id='attrs-b0320353-01c2-449c-970d-bc06e8c5f6eb' class='xr-var-attrs-in' type='checkbox' disabled><label for='attrs-b0320353-01c2-449c-970d-bc06e8c5f6eb' title='Show/Hide attributes'><svg class='icon xr-icon-file-text2'><use xlink:href='#icon-file-text2'></use></svg></label><input id='data-057ef21c-2f03-49f9-83f9-328dfbdb17f6' class='xr-var-data-in' type='checkbox'><label for='data-057ef21c-2f03-49f9-83f9-328dfbdb17f6' title='Show/Hide data repr'><svg class='icon xr-icon-database'><use xlink:href='#icon-database'></use></svg></label><div class='xr-var-attrs'><dl class='xr-attrs'></dl></div><div class='xr-var-data'><pre>array([[0.00014836, 0.00014689, 0.00019051, 0.00016226, 0.00023052,\n",
       "        0.00017491, 0.00019367, 0.0001587 , 0.0001988 , 0.0002193 ,\n",
       "        0.00022853, 0.00019177, 0.00023675, 0.00027627, 0.00066439,\n",
       "        0.00230536, 0.00575352, 0.01113177, 0.01442773, 0.01321747,\n",
       "        0.00881775, 0.00390719, 0.00166675, 0.0007209 , 0.00045193,\n",
       "        0.00036521, 0.00034578, 0.00030164, 0.00028225, 0.00025485,\n",
       "        0.00026173],\n",
       "       [0.00022479, 0.0001607 , 0.00019743, 0.00024167, 0.00021078,\n",
       "        0.00019521, 0.0002223 , 0.00024729, 0.00018174, 0.00025513,\n",
       "        0.00019877, 0.00023705, 0.00024546, 0.00030823, 0.00068814,\n",
       "        0.00177344, 0.00412915, 0.00682802, 0.00845957, 0.00686505,\n",
       "        0.00426851, 0.00208557, 0.00088785, 0.00050368, 0.00039608,\n",
       "        0.00034498, 0.00028056, 0.00029513, 0.00026388, 0.00024138,\n",
       "        0.00024029],\n",
       "       [0.00017053, 0.00023426, 0.00018953, 0.00015138, 0.00022415,\n",
       "        0.00019634, 0.00016961, 0.00018388, 0.000177  , 0.00022411,\n",
       "        0.00023717, 0.00026656, 0.00024499, 0.0003456 , 0.00081069,\n",
       "        0.00230388, 0.00587042, 0.01097622, 0.01426727, 0.01302905,\n",
       "        0.00872454, 0.00422944, 0.00168254, 0.00079438, 0.00049018,\n",
       "        0.0003957 , 0.00030957, 0.00035432, 0.0002585 , 0.00028431,\n",
       "        0.00022724],\n",
       "       [0.00021163, 0.00021214, 0.00016786, 0.00019875, 0.00017249,\n",
       "        0.00018852, 0.00020389, 0.00018289, 0.00016741, 0.00020768,\n",
       "        0.00028744, 0.00031579, 0.00025884, 0.00038221, 0.00115264,\n",
       "        0.00328421, 0.00877567, 0.01603398, 0.02011161, 0.01724154,\n",
       "        0.01107872, 0.00515453, 0.00193507, 0.00099317, 0.00054513,\n",
       "        0.00048264, 0.00038843, 0.00042617, 0.00029772, 0.00028713,\n",
       "        0.00029242],\n",
       "       [0.00026524, 0.00021447, 0.00022859, 0.00025392, 0.00019773,\n",
       "        0.00025812, 0.00020751, 0.0002719 , 0.00021224, 0.00024123,\n",
       "        0.00032847, 0.00031156, 0.0003356 , 0.00050205, 0.00161941,\n",
       "        0.00521969, 0.01228397, 0.02124858, 0.02600609, 0.0226525 ,\n",
       "        0.01408303, 0.00644981, 0.00244334, 0.00116071, 0.00073274,\n",
       "        0.00061059, 0.00045849, 0.00044054, 0.00035206, 0.00038495,\n",
       "        0.00032149]])</pre></div></li><li class='xr-var-item'><div class='xr-var-name'><span>peaks</span></div><div class='xr-var-dims'>(sample, time)</div><div class='xr-var-dtype'>float64</div><div class='xr-var-preview xr-preview'>nan nan 0.0001905 ... 0.0003849 nan</div><input id='attrs-173fc79a-29ac-43b7-a1d5-320bad492e05' class='xr-var-attrs-in' type='checkbox' disabled><label for='attrs-173fc79a-29ac-43b7-a1d5-320bad492e05' title='Show/Hide attributes'><svg class='icon xr-icon-file-text2'><use xlink:href='#icon-file-text2'></use></svg></label><input id='data-abdb87cb-98b1-466e-a329-2cc276440141' class='xr-var-data-in' type='checkbox'><label for='data-abdb87cb-98b1-466e-a329-2cc276440141' title='Show/Hide data repr'><svg class='icon xr-icon-database'><use xlink:href='#icon-database'></use></svg></label><div class='xr-var-attrs'><dl class='xr-attrs'></dl></div><div class='xr-var-data'><pre>array([[       nan,        nan, 0.00019051,        nan, 0.00023052,\n",
       "               nan, 0.00019367,        nan,        nan,        nan,\n",
       "        0.00022853,        nan,        nan,        nan,        nan,\n",
       "               nan,        nan,        nan, 0.01442773,        nan,\n",
       "               nan,        nan,        nan,        nan,        nan,\n",
       "               nan,        nan,        nan,        nan,        nan,\n",
       "               nan],\n",
       "       [       nan,        nan,        nan, 0.00024167,        nan,\n",
       "               nan,        nan, 0.00024729,        nan, 0.00025513,\n",
       "               nan,        nan,        nan,        nan,        nan,\n",
       "               nan,        nan,        nan, 0.00845957,        nan,\n",
       "               nan,        nan,        nan,        nan,        nan,\n",
       "               nan,        nan, 0.00029513,        nan,        nan,\n",
       "               nan],\n",
       "       [       nan, 0.00023426,        nan,        nan, 0.00022415,\n",
       "               nan,        nan, 0.00018388,        nan,        nan,\n",
       "               nan, 0.00026656,        nan,        nan,        nan,\n",
       "               nan,        nan,        nan, 0.01426727,        nan,\n",
       "               nan,        nan,        nan,        nan,        nan,\n",
       "               nan,        nan, 0.00035432,        nan, 0.00028431,\n",
       "               nan],\n",
       "       [       nan, 0.00021214,        nan, 0.00019875,        nan,\n",
       "               nan, 0.00020389,        nan,        nan,        nan,\n",
       "               nan, 0.00031579,        nan,        nan,        nan,\n",
       "               nan,        nan,        nan, 0.02011161,        nan,\n",
       "               nan,        nan,        nan,        nan,        nan,\n",
       "               nan,        nan, 0.00042617,        nan,        nan,\n",
       "               nan],\n",
       "       [       nan,        nan,        nan, 0.00025392,        nan,\n",
       "        0.00025812,        nan, 0.0002719 ,        nan,        nan,\n",
       "        0.00032847,        nan,        nan,        nan,        nan,\n",
       "               nan,        nan,        nan, 0.02600609,        nan,\n",
       "               nan,        nan,        nan,        nan,        nan,\n",
       "               nan,        nan,        nan,        nan, 0.00038495,\n",
       "               nan]])</pre></div></li></ul></div></li><li class='xr-section-item'><input id='section-3a9ced0b-b9ab-4e1f-b287-52622ac12c1b' class='xr-section-summary-in' type='checkbox'  ><label for='section-3a9ced0b-b9ab-4e1f-b287-52622ac12c1b' class='xr-section-summary' >Indexes: <span>(2)</span></label><div class='xr-section-inline-details'></div><div class='xr-section-details'><ul class='xr-var-list'><li class='xr-var-item'><div class='xr-index-name'><div>sample</div></div><div class='xr-index-preview'>PandasIndex</div><div></div><input id='index-19888f38-9ecb-4289-b2ee-cbbe84cf54c8' class='xr-index-data-in' type='checkbox'/><label for='index-19888f38-9ecb-4289-b2ee-cbbe84cf54c8' title='Show/Hide index repr'><svg class='icon xr-icon-database'><use xlink:href='#icon-database'></use></svg></label><div class='xr-index-data'><pre>PandasIndex(Index([&#x27;ARG-SAL1&#x27;, &#x27;AUS-CAV1&#x27;, &#x27;AUS-EAG1&#x27;, &#x27;AUS-HAR1&#x27;, &#x27;AUS-IB41&#x27;], dtype=&#x27;object&#x27;, name=&#x27;sample&#x27;))</pre></div></li><li class='xr-var-item'><div class='xr-index-name'><div>time</div></div><div class='xr-index-preview'>PandasIndex</div><div></div><input id='index-6a8f907f-2997-49a7-b12e-e7f689ae8b2d' class='xr-index-data-in' type='checkbox'/><label for='index-6a8f907f-2997-49a7-b12e-e7f689ae8b2d' title='Show/Hide index repr'><svg class='icon xr-icon-database'><use xlink:href='#icon-database'></use></svg></label><div class='xr-index-data'><pre>PandasIndex(Index([ 16.44385502416264, 16.456345609065156,  16.46883619396767,\n",
       "        16.48132677887019, 16.493817363772706,  16.50630794867522,\n",
       "       16.518798533577737, 16.531289118480256,  16.54377970338277,\n",
       "       16.556270288285287, 16.568760873187802,  16.58125145809032,\n",
       "       16.593742042992837, 16.606232627895352, 16.618723212797867,\n",
       "       16.631213797700383, 16.643704382602902, 16.656194967505417,\n",
       "       16.668685552407933, 16.681176137310448, 16.693666722212967,\n",
       "       16.706157307115483, 16.718647892017998, 16.731138476920513,\n",
       "       16.743629061823032, 16.756119646725548, 16.768610231628063,\n",
       "        16.78110081653058, 16.793591401433094, 16.806081986335613,\n",
       "        16.81857257123813],\n",
       "      dtype=&#x27;float64&#x27;, name=&#x27;time&#x27;))</pre></div></li></ul></div></li><li class='xr-section-item'><input id='section-74b665e4-2c03-4d1c-ad5c-0dfbe0df4cdf' class='xr-section-summary-in' type='checkbox' disabled ><label for='section-74b665e4-2c03-4d1c-ad5c-0dfbe0df4cdf' class='xr-section-summary'  title='Expand/collapse section'>Attributes: <span>(0)</span></label><div class='xr-section-inline-details'></div><div class='xr-section-details'><dl class='xr-attrs'></dl></div></li></ul></div></div>"
      ],
      "text/plain": [
       "<xarray.Dataset> Size: 3kB\n",
       "Dimensions:   (sample: 5, time: 31)\n",
       "Coordinates:\n",
       "  * sample    (sample) <U8 160B 'ARG-SAL1' 'AUS-CAV1' ... 'AUS-HAR1' 'AUS-IB41'\n",
       "  * time      (time) float64 248B 16.44 16.46 16.47 16.48 ... 16.79 16.81 16.82\n",
       "    mz        float64 8B 46.0\n",
       "Data variables:\n",
       "    raw_data  (sample, time) float64 1kB 0.0001484 0.0001469 ... 0.0003215\n",
       "    peaks     (sample, time) float64 1kB nan nan 0.0001905 ... nan 0.0003849 nan"
      ]
     },
     "execution_count": 55,
     "metadata": {},
     "output_type": "execute_result"
    }
   ],
   "source": [
    "# from pca_analysis import xr_signal\n",
    "from pca_analysis.xr_signal import find_peaks_array\n",
    "\n",
    "ds = raw_data.to_dataset()\n",
    "test_ds = ds.sel(mz=46).isel(sample=slice(5, 10))\n",
    "\n",
    "res = test_ds[\"raw_data\"].pipe(find_peaks_array, grouper=[\"sample\", \"mz\"])\n",
    "\n",
    "test_ds = test_ds.merge(res)\n",
    "test_ds\n"
   ]
  },
  {
   "cell_type": "code",
   "execution_count": null,
   "metadata": {},
   "outputs": [
    {
     "data": {
      "application/vnd.plotly.v1+json": {
       "config": {
        "plotlyServerURL": "https://plot.ly"
       },
       "data": [
        {
         "legendgroup": "line",
         "marker": {
          "color": "blue"
         },
         "mode": "lines",
         "name": "raw_data",
         "showlegend": true,
         "type": "scatter",
         "x": [
          16.44385502416264,
          16.456345609065156,
          16.46883619396767,
          16.48132677887019,
          16.493817363772706,
          16.50630794867522,
          16.518798533577737,
          16.531289118480256,
          16.54377970338277,
          16.556270288285287,
          16.568760873187802,
          16.58125145809032,
          16.593742042992837,
          16.606232627895352,
          16.618723212797867,
          16.631213797700383,
          16.643704382602902,
          16.656194967505417,
          16.668685552407933,
          16.681176137310448,
          16.693666722212967,
          16.706157307115483,
          16.718647892017998,
          16.731138476920513,
          16.743629061823032,
          16.756119646725548,
          16.768610231628063,
          16.78110081653058,
          16.793591401433094,
          16.806081986335613,
          16.81857257123813
         ],
         "xaxis": "x",
         "y": [
          0.00014835976958366847,
          0.0001468882485090646,
          0.00019050616284456014,
          0.00016226310663337276,
          0.00023052138765257752,
          0.00017490803945376067,
          0.00019367247026025927,
          0.0001587010107907113,
          0.00019879742296836193,
          0.00021929723380077247,
          0.0002285322970965615,
          0.00019177471549508066,
          0.000236752518271934,
          0.0002762704704409472,
          0.0006643866909729831,
          0.002305355954422636,
          0.005753515472224935,
          0.011131772773583508,
          0.014427726270165758,
          0.013217466151042015,
          0.008817750067452525,
          0.003907192905709029,
          0.0016667462533082298,
          0.0007209032486589697,
          0.00045192949306381585,
          0.0003652112338742376,
          0.00034577700726826403,
          0.00030164152345135643,
          0.0002822478905301998,
          0.0002548471532789579,
          0.00026172778285538074
         ],
         "yaxis": "y"
        },
        {
         "legendgroup": "peaks",
         "marker": {
          "color": "red"
         },
         "mode": "markers",
         "name": "peaks",
         "showlegend": true,
         "type": "scatter",
         "x": [
          16.44385502416264,
          16.456345609065156,
          16.46883619396767,
          16.48132677887019,
          16.493817363772706,
          16.50630794867522,
          16.518798533577737,
          16.531289118480256,
          16.54377970338277,
          16.556270288285287,
          16.568760873187802,
          16.58125145809032,
          16.593742042992837,
          16.606232627895352,
          16.618723212797867,
          16.631213797700383,
          16.643704382602902,
          16.656194967505417,
          16.668685552407933,
          16.681176137310448,
          16.693666722212967,
          16.706157307115483,
          16.718647892017998,
          16.731138476920513,
          16.743629061823032,
          16.756119646725548,
          16.768610231628063,
          16.78110081653058,
          16.793591401433094,
          16.806081986335613,
          16.81857257123813
         ],
         "xaxis": "x",
         "y": [
          null,
          null,
          0.00019050616284456014,
          null,
          0.00023052138765257752,
          null,
          0.00019367247026025927,
          null,
          null,
          null,
          0.0002285322970965615,
          null,
          null,
          null,
          null,
          null,
          null,
          null,
          0.014427726270165758,
          null,
          null,
          null,
          null,
          null,
          null,
          null,
          null,
          null,
          null,
          null,
          null
         ],
         "yaxis": "y"
        },
        {
         "legendgroup": "line",
         "marker": {
          "color": "blue"
         },
         "mode": "lines",
         "name": "raw_data",
         "showlegend": false,
         "type": "scatter",
         "x": [
          16.44385502416264,
          16.456345609065156,
          16.46883619396767,
          16.48132677887019,
          16.493817363772706,
          16.50630794867522,
          16.518798533577737,
          16.531289118480256,
          16.54377970338277,
          16.556270288285287,
          16.568760873187802,
          16.58125145809032,
          16.593742042992837,
          16.606232627895352,
          16.618723212797867,
          16.631213797700383,
          16.643704382602902,
          16.656194967505417,
          16.668685552407933,
          16.681176137310448,
          16.693666722212967,
          16.706157307115483,
          16.718647892017998,
          16.731138476920513,
          16.743629061823032,
          16.756119646725548,
          16.768610231628063,
          16.78110081653058,
          16.793591401433094,
          16.806081986335613,
          16.81857257123813
         ],
         "xaxis": "x2",
         "y": [
          0.00022478940358798132,
          0.00016070481711839127,
          0.00019742543827438024,
          0.00024166540830734232,
          0.00021077993797669715,
          0.00019520535902450457,
          0.00022229713071359982,
          0.00024728790786354075,
          0.00018174028066223207,
          0.00025513048666961477,
          0.00019876939429537766,
          0.00023704662274150916,
          0.00024545910694889224,
          0.00030823376160054786,
          0.000688139506953785,
          0.0017734350302138653,
          0.004129151765601045,
          0.006828019600982414,
          0.008459573704422617,
          0.006865046439965971,
          0.00426851490134803,
          0.0020855730691159177,
          0.0008878530728841668,
          0.0005036772900464955,
          0.0003960842539098026,
          0.000344979900908834,
          0.00028056357845937773,
          0.00029513444342120504,
          0.00026388321290763024,
          0.00024137620258130485,
          0.0002402874280832816
         ],
         "yaxis": "y2"
        },
        {
         "legendgroup": "peaks",
         "marker": {
          "color": "red"
         },
         "mode": "markers",
         "name": "peaks",
         "showlegend": false,
         "type": "scatter",
         "x": [
          16.44385502416264,
          16.456345609065156,
          16.46883619396767,
          16.48132677887019,
          16.493817363772706,
          16.50630794867522,
          16.518798533577737,
          16.531289118480256,
          16.54377970338277,
          16.556270288285287,
          16.568760873187802,
          16.58125145809032,
          16.593742042992837,
          16.606232627895352,
          16.618723212797867,
          16.631213797700383,
          16.643704382602902,
          16.656194967505417,
          16.668685552407933,
          16.681176137310448,
          16.693666722212967,
          16.706157307115483,
          16.718647892017998,
          16.731138476920513,
          16.743629061823032,
          16.756119646725548,
          16.768610231628063,
          16.78110081653058,
          16.793591401433094,
          16.806081986335613,
          16.81857257123813
         ],
         "xaxis": "x2",
         "y": [
          null,
          null,
          null,
          0.00024166540830734232,
          null,
          null,
          null,
          0.00024728790786354075,
          null,
          0.00025513048666961477,
          null,
          null,
          null,
          null,
          null,
          null,
          null,
          null,
          0.008459573704422617,
          null,
          null,
          null,
          null,
          null,
          null,
          null,
          null,
          0.00029513444342120504,
          null,
          null,
          null
         ],
         "yaxis": "y2"
        },
        {
         "legendgroup": "line",
         "marker": {
          "color": "blue"
         },
         "mode": "lines",
         "name": "raw_data",
         "showlegend": false,
         "type": "scatter",
         "x": [
          16.44385502416264,
          16.456345609065156,
          16.46883619396767,
          16.48132677887019,
          16.493817363772706,
          16.50630794867522,
          16.518798533577737,
          16.531289118480256,
          16.54377970338277,
          16.556270288285287,
          16.568760873187802,
          16.58125145809032,
          16.593742042992837,
          16.606232627895352,
          16.618723212797867,
          16.631213797700383,
          16.643704382602902,
          16.656194967505417,
          16.668685552407933,
          16.681176137310448,
          16.693666722212967,
          16.706157307115483,
          16.718647892017998,
          16.731138476920513,
          16.743629061823032,
          16.756119646725548,
          16.768610231628063,
          16.78110081653058,
          16.793591401433094,
          16.806081986335613,
          16.81857257123813
         ],
         "xaxis": "x3",
         "y": [
          0.00017053487671157543,
          0.0002342593630859441,
          0.00018953058689134188,
          0.0001513811980479855,
          0.00022414938012124488,
          0.0001963390285441314,
          0.00016961076108120836,
          0.00018388321359465455,
          0.00017699578769995335,
          0.00022410988800028906,
          0.00023716598318829484,
          0.00026655601960364254,
          0.00024499332156174543,
          0.000345595550484692,
          0.000810694258981802,
          0.0023038755554743193,
          0.005870424795846012,
          0.010976218942593137,
          0.014267271147176784,
          0.013029050983575272,
          0.00872453617417408,
          0.004229440287464113,
          0.00168253811805165,
          0.0007943761146028439,
          0.0004901841037282702,
          0.0003957031535534813,
          0.0003095708377487604,
          0.0003543233092159358,
          0.0002584996269286481,
          0.0002843116771853952,
          0.0002272376639799927
         ],
         "yaxis": "y3"
        },
        {
         "legendgroup": "peaks",
         "marker": {
          "color": "red"
         },
         "mode": "markers",
         "name": "peaks",
         "showlegend": false,
         "type": "scatter",
         "x": [
          16.44385502416264,
          16.456345609065156,
          16.46883619396767,
          16.48132677887019,
          16.493817363772706,
          16.50630794867522,
          16.518798533577737,
          16.531289118480256,
          16.54377970338277,
          16.556270288285287,
          16.568760873187802,
          16.58125145809032,
          16.593742042992837,
          16.606232627895352,
          16.618723212797867,
          16.631213797700383,
          16.643704382602902,
          16.656194967505417,
          16.668685552407933,
          16.681176137310448,
          16.693666722212967,
          16.706157307115483,
          16.718647892017998,
          16.731138476920513,
          16.743629061823032,
          16.756119646725548,
          16.768610231628063,
          16.78110081653058,
          16.793591401433094,
          16.806081986335613,
          16.81857257123813
         ],
         "xaxis": "x3",
         "y": [
          null,
          0.0002342593630859441,
          null,
          null,
          0.00022414938012124488,
          null,
          null,
          0.00018388321359465455,
          null,
          null,
          null,
          0.00026655601960364254,
          null,
          null,
          null,
          null,
          null,
          null,
          0.014267271147176784,
          null,
          null,
          null,
          null,
          null,
          null,
          null,
          null,
          0.0003543233092159358,
          null,
          0.0002843116771853952,
          null
         ],
         "yaxis": "y3"
        },
        {
         "legendgroup": "line",
         "marker": {
          "color": "blue"
         },
         "mode": "lines",
         "name": "raw_data",
         "showlegend": false,
         "type": "scatter",
         "x": [
          16.44385502416264,
          16.456345609065156,
          16.46883619396767,
          16.48132677887019,
          16.493817363772706,
          16.50630794867522,
          16.518798533577737,
          16.531289118480256,
          16.54377970338277,
          16.556270288285287,
          16.568760873187802,
          16.58125145809032,
          16.593742042992837,
          16.606232627895352,
          16.618723212797867,
          16.631213797700383,
          16.643704382602902,
          16.656194967505417,
          16.668685552407933,
          16.681176137310448,
          16.693666722212967,
          16.706157307115483,
          16.718647892017998,
          16.731138476920513,
          16.743629061823032,
          16.756119646725548,
          16.768610231628063,
          16.78110081653058,
          16.793591401433094,
          16.806081986335613,
          16.81857257123813
         ],
         "xaxis": "x4",
         "y": [
          0.0002116260625295621,
          0.0002121409677911912,
          0.00016785911529108817,
          0.00019875343098883446,
          0.0001724932626457501,
          0.0001885164162110219,
          0.00020388502918947707,
          0.0001828873671643987,
          0.00016740530048422862,
          0.00020768136459301372,
          0.00028743931689857965,
          0.0003157940151194773,
          0.0002588402568586038,
          0.00038220806666180735,
          0.001152637246176313,
          0.003284214121203444,
          0.008775670009270027,
          0.016033975302973843,
          0.020111606069100788,
          0.017241541595195805,
          0.011078719063627477,
          0.005154533302804658,
          0.0019350663364491238,
          0.000993173704812125,
          0.0005451275823243858,
          0.00048264077430295563,
          0.0003884305658404781,
          0.0004261670124724144,
          0.00029771996771551303,
          0.0002871338646247318,
          0.0002924225525662104
         ],
         "yaxis": "y4"
        },
        {
         "legendgroup": "peaks",
         "marker": {
          "color": "red"
         },
         "mode": "markers",
         "name": "peaks",
         "showlegend": false,
         "type": "scatter",
         "x": [
          16.44385502416264,
          16.456345609065156,
          16.46883619396767,
          16.48132677887019,
          16.493817363772706,
          16.50630794867522,
          16.518798533577737,
          16.531289118480256,
          16.54377970338277,
          16.556270288285287,
          16.568760873187802,
          16.58125145809032,
          16.593742042992837,
          16.606232627895352,
          16.618723212797867,
          16.631213797700383,
          16.643704382602902,
          16.656194967505417,
          16.668685552407933,
          16.681176137310448,
          16.693666722212967,
          16.706157307115483,
          16.718647892017998,
          16.731138476920513,
          16.743629061823032,
          16.756119646725548,
          16.768610231628063,
          16.78110081653058,
          16.793591401433094,
          16.806081986335613,
          16.81857257123813
         ],
         "xaxis": "x4",
         "y": [
          null,
          0.0002121409677911912,
          null,
          0.00019875343098883446,
          null,
          null,
          0.00020388502918947707,
          null,
          null,
          null,
          null,
          0.0003157940151194773,
          null,
          null,
          null,
          null,
          null,
          null,
          0.020111606069100788,
          null,
          null,
          null,
          null,
          null,
          null,
          null,
          null,
          0.0004261670124724144,
          null,
          null,
          null
         ],
         "yaxis": "y4"
        },
        {
         "legendgroup": "line",
         "marker": {
          "color": "blue"
         },
         "mode": "lines",
         "name": "raw_data",
         "showlegend": false,
         "type": "scatter",
         "x": [
          16.44385502416264,
          16.456345609065156,
          16.46883619396767,
          16.48132677887019,
          16.493817363772706,
          16.50630794867522,
          16.518798533577737,
          16.531289118480256,
          16.54377970338277,
          16.556270288285287,
          16.568760873187802,
          16.58125145809032,
          16.593742042992837,
          16.606232627895352,
          16.618723212797867,
          16.631213797700383,
          16.643704382602902,
          16.656194967505417,
          16.668685552407933,
          16.681176137310448,
          16.693666722212967,
          16.706157307115483,
          16.718647892017998,
          16.731138476920513,
          16.743629061823032,
          16.756119646725548,
          16.768610231628063,
          16.78110081653058,
          16.793591401433094,
          16.806081986335613,
          16.81857257123813
         ],
         "xaxis": "x5",
         "y": [
          0.0002652356689674781,
          0.00021447333312510136,
          0.00022858821951855448,
          0.0002539201036185366,
          0.00019772669067923774,
          0.0002581190851853041,
          0.00020751445757078726,
          0.000271898841594555,
          0.00021223584764234034,
          0.00024123444804006303,
          0.00032846681157502086,
          0.0003115624609012973,
          0.00033560310888567735,
          0.0005020542866274665,
          0.0016194072242499834,
          0.005219688931004642,
          0.012283972722114586,
          0.021248581518349817,
          0.026006086774082796,
          0.02265250016275785,
          0.014083029331425388,
          0.006449813108311163,
          0.002443344003939323,
          0.001160712843519726,
          0.0007327419969294049,
          0.00061058711768774,
          0.0004584873886811935,
          0.0004405382209978984,
          0.0003520639051685452,
          0.00038494607067731556,
          0.0003214882224922243
         ],
         "yaxis": "y5"
        },
        {
         "legendgroup": "peaks",
         "marker": {
          "color": "red"
         },
         "mode": "markers",
         "name": "peaks",
         "showlegend": false,
         "type": "scatter",
         "x": [
          16.44385502416264,
          16.456345609065156,
          16.46883619396767,
          16.48132677887019,
          16.493817363772706,
          16.50630794867522,
          16.518798533577737,
          16.531289118480256,
          16.54377970338277,
          16.556270288285287,
          16.568760873187802,
          16.58125145809032,
          16.593742042992837,
          16.606232627895352,
          16.618723212797867,
          16.631213797700383,
          16.643704382602902,
          16.656194967505417,
          16.668685552407933,
          16.681176137310448,
          16.693666722212967,
          16.706157307115483,
          16.718647892017998,
          16.731138476920513,
          16.743629061823032,
          16.756119646725548,
          16.768610231628063,
          16.78110081653058,
          16.793591401433094,
          16.806081986335613,
          16.81857257123813
         ],
         "xaxis": "x5",
         "y": [
          null,
          null,
          null,
          0.0002539201036185366,
          null,
          0.0002581190851853041,
          null,
          0.000271898841594555,
          null,
          null,
          0.00032846681157502086,
          null,
          null,
          null,
          null,
          null,
          null,
          null,
          0.026006086774082796,
          null,
          null,
          null,
          null,
          null,
          null,
          null,
          null,
          null,
          null,
          0.00038494607067731556,
          null
         ],
         "yaxis": "y5"
        }
       ],
       "layout": {
        "annotations": [
         {
          "font": {
           "size": 16
          },
          "showarrow": false,
          "text": "('ARG-SAL1', 46.0)",
          "x": 0.225,
          "xanchor": "center",
          "xref": "paper",
          "y": 1,
          "yanchor": "bottom",
          "yref": "paper"
         },
         {
          "font": {
           "size": 16
          },
          "showarrow": false,
          "text": "('AUS-CAV1', 46.0)",
          "x": 0.775,
          "xanchor": "center",
          "xref": "paper",
          "y": 1,
          "yanchor": "bottom",
          "yref": "paper"
         },
         {
          "font": {
           "size": 16
          },
          "showarrow": false,
          "text": "('AUS-EAG1', 46.0)",
          "x": 0.225,
          "xanchor": "center",
          "xref": "paper",
          "y": 0.6111111111111112,
          "yanchor": "bottom",
          "yref": "paper"
         },
         {
          "font": {
           "size": 16
          },
          "showarrow": false,
          "text": "('AUS-HAR1', 46.0)",
          "x": 0.775,
          "xanchor": "center",
          "xref": "paper",
          "y": 0.6111111111111112,
          "yanchor": "bottom",
          "yref": "paper"
         },
         {
          "font": {
           "size": 16
          },
          "showarrow": false,
          "text": "('AUS-IB41', 46.0)",
          "x": 0.225,
          "xanchor": "center",
          "xref": "paper",
          "y": 0.22222222222222224,
          "yanchor": "bottom",
          "yref": "paper"
         },
         {
          "font": {
           "size": 16
          },
          "showarrow": false,
          "text": "time",
          "x": 0.5,
          "xanchor": "center",
          "xref": "paper",
          "y": 0,
          "yanchor": "top",
          "yref": "paper",
          "yshift": -30
         },
         {
          "font": {
           "size": 16
          },
          "showarrow": false,
          "text": "au",
          "textangle": -90,
          "x": 0,
          "xanchor": "right",
          "xref": "paper",
          "xshift": -40,
          "y": 0.5,
          "yanchor": "middle",
          "yref": "paper"
         }
        ],
        "height": 1500,
        "template": {
         "data": {
          "bar": [
           {
            "error_x": {
             "color": "#2a3f5f"
            },
            "error_y": {
             "color": "#2a3f5f"
            },
            "marker": {
             "line": {
              "color": "#E5ECF6",
              "width": 0.5
             },
             "pattern": {
              "fillmode": "overlay",
              "size": 10,
              "solidity": 0.2
             }
            },
            "type": "bar"
           }
          ],
          "barpolar": [
           {
            "marker": {
             "line": {
              "color": "#E5ECF6",
              "width": 0.5
             },
             "pattern": {
              "fillmode": "overlay",
              "size": 10,
              "solidity": 0.2
             }
            },
            "type": "barpolar"
           }
          ],
          "carpet": [
           {
            "aaxis": {
             "endlinecolor": "#2a3f5f",
             "gridcolor": "white",
             "linecolor": "white",
             "minorgridcolor": "white",
             "startlinecolor": "#2a3f5f"
            },
            "baxis": {
             "endlinecolor": "#2a3f5f",
             "gridcolor": "white",
             "linecolor": "white",
             "minorgridcolor": "white",
             "startlinecolor": "#2a3f5f"
            },
            "type": "carpet"
           }
          ],
          "choropleth": [
           {
            "colorbar": {
             "outlinewidth": 0,
             "ticks": ""
            },
            "type": "choropleth"
           }
          ],
          "contour": [
           {
            "colorbar": {
             "outlinewidth": 0,
             "ticks": ""
            },
            "colorscale": [
             [
              0,
              "#0d0887"
             ],
             [
              0.1111111111111111,
              "#46039f"
             ],
             [
              0.2222222222222222,
              "#7201a8"
             ],
             [
              0.3333333333333333,
              "#9c179e"
             ],
             [
              0.4444444444444444,
              "#bd3786"
             ],
             [
              0.5555555555555556,
              "#d8576b"
             ],
             [
              0.6666666666666666,
              "#ed7953"
             ],
             [
              0.7777777777777778,
              "#fb9f3a"
             ],
             [
              0.8888888888888888,
              "#fdca26"
             ],
             [
              1,
              "#f0f921"
             ]
            ],
            "type": "contour"
           }
          ],
          "contourcarpet": [
           {
            "colorbar": {
             "outlinewidth": 0,
             "ticks": ""
            },
            "type": "contourcarpet"
           }
          ],
          "heatmap": [
           {
            "colorbar": {
             "outlinewidth": 0,
             "ticks": ""
            },
            "colorscale": [
             [
              0,
              "#0d0887"
             ],
             [
              0.1111111111111111,
              "#46039f"
             ],
             [
              0.2222222222222222,
              "#7201a8"
             ],
             [
              0.3333333333333333,
              "#9c179e"
             ],
             [
              0.4444444444444444,
              "#bd3786"
             ],
             [
              0.5555555555555556,
              "#d8576b"
             ],
             [
              0.6666666666666666,
              "#ed7953"
             ],
             [
              0.7777777777777778,
              "#fb9f3a"
             ],
             [
              0.8888888888888888,
              "#fdca26"
             ],
             [
              1,
              "#f0f921"
             ]
            ],
            "type": "heatmap"
           }
          ],
          "heatmapgl": [
           {
            "colorbar": {
             "outlinewidth": 0,
             "ticks": ""
            },
            "colorscale": [
             [
              0,
              "#0d0887"
             ],
             [
              0.1111111111111111,
              "#46039f"
             ],
             [
              0.2222222222222222,
              "#7201a8"
             ],
             [
              0.3333333333333333,
              "#9c179e"
             ],
             [
              0.4444444444444444,
              "#bd3786"
             ],
             [
              0.5555555555555556,
              "#d8576b"
             ],
             [
              0.6666666666666666,
              "#ed7953"
             ],
             [
              0.7777777777777778,
              "#fb9f3a"
             ],
             [
              0.8888888888888888,
              "#fdca26"
             ],
             [
              1,
              "#f0f921"
             ]
            ],
            "type": "heatmapgl"
           }
          ],
          "histogram": [
           {
            "marker": {
             "pattern": {
              "fillmode": "overlay",
              "size": 10,
              "solidity": 0.2
             }
            },
            "type": "histogram"
           }
          ],
          "histogram2d": [
           {
            "colorbar": {
             "outlinewidth": 0,
             "ticks": ""
            },
            "colorscale": [
             [
              0,
              "#0d0887"
             ],
             [
              0.1111111111111111,
              "#46039f"
             ],
             [
              0.2222222222222222,
              "#7201a8"
             ],
             [
              0.3333333333333333,
              "#9c179e"
             ],
             [
              0.4444444444444444,
              "#bd3786"
             ],
             [
              0.5555555555555556,
              "#d8576b"
             ],
             [
              0.6666666666666666,
              "#ed7953"
             ],
             [
              0.7777777777777778,
              "#fb9f3a"
             ],
             [
              0.8888888888888888,
              "#fdca26"
             ],
             [
              1,
              "#f0f921"
             ]
            ],
            "type": "histogram2d"
           }
          ],
          "histogram2dcontour": [
           {
            "colorbar": {
             "outlinewidth": 0,
             "ticks": ""
            },
            "colorscale": [
             [
              0,
              "#0d0887"
             ],
             [
              0.1111111111111111,
              "#46039f"
             ],
             [
              0.2222222222222222,
              "#7201a8"
             ],
             [
              0.3333333333333333,
              "#9c179e"
             ],
             [
              0.4444444444444444,
              "#bd3786"
             ],
             [
              0.5555555555555556,
              "#d8576b"
             ],
             [
              0.6666666666666666,
              "#ed7953"
             ],
             [
              0.7777777777777778,
              "#fb9f3a"
             ],
             [
              0.8888888888888888,
              "#fdca26"
             ],
             [
              1,
              "#f0f921"
             ]
            ],
            "type": "histogram2dcontour"
           }
          ],
          "mesh3d": [
           {
            "colorbar": {
             "outlinewidth": 0,
             "ticks": ""
            },
            "type": "mesh3d"
           }
          ],
          "parcoords": [
           {
            "line": {
             "colorbar": {
              "outlinewidth": 0,
              "ticks": ""
             }
            },
            "type": "parcoords"
           }
          ],
          "pie": [
           {
            "automargin": true,
            "type": "pie"
           }
          ],
          "scatter": [
           {
            "fillpattern": {
             "fillmode": "overlay",
             "size": 10,
             "solidity": 0.2
            },
            "type": "scatter"
           }
          ],
          "scatter3d": [
           {
            "line": {
             "colorbar": {
              "outlinewidth": 0,
              "ticks": ""
             }
            },
            "marker": {
             "colorbar": {
              "outlinewidth": 0,
              "ticks": ""
             }
            },
            "type": "scatter3d"
           }
          ],
          "scattercarpet": [
           {
            "marker": {
             "colorbar": {
              "outlinewidth": 0,
              "ticks": ""
             }
            },
            "type": "scattercarpet"
           }
          ],
          "scattergeo": [
           {
            "marker": {
             "colorbar": {
              "outlinewidth": 0,
              "ticks": ""
             }
            },
            "type": "scattergeo"
           }
          ],
          "scattergl": [
           {
            "marker": {
             "colorbar": {
              "outlinewidth": 0,
              "ticks": ""
             }
            },
            "type": "scattergl"
           }
          ],
          "scattermapbox": [
           {
            "marker": {
             "colorbar": {
              "outlinewidth": 0,
              "ticks": ""
             }
            },
            "type": "scattermapbox"
           }
          ],
          "scatterpolar": [
           {
            "marker": {
             "colorbar": {
              "outlinewidth": 0,
              "ticks": ""
             }
            },
            "type": "scatterpolar"
           }
          ],
          "scatterpolargl": [
           {
            "marker": {
             "colorbar": {
              "outlinewidth": 0,
              "ticks": ""
             }
            },
            "type": "scatterpolargl"
           }
          ],
          "scatterternary": [
           {
            "marker": {
             "colorbar": {
              "outlinewidth": 0,
              "ticks": ""
             }
            },
            "type": "scatterternary"
           }
          ],
          "surface": [
           {
            "colorbar": {
             "outlinewidth": 0,
             "ticks": ""
            },
            "colorscale": [
             [
              0,
              "#0d0887"
             ],
             [
              0.1111111111111111,
              "#46039f"
             ],
             [
              0.2222222222222222,
              "#7201a8"
             ],
             [
              0.3333333333333333,
              "#9c179e"
             ],
             [
              0.4444444444444444,
              "#bd3786"
             ],
             [
              0.5555555555555556,
              "#d8576b"
             ],
             [
              0.6666666666666666,
              "#ed7953"
             ],
             [
              0.7777777777777778,
              "#fb9f3a"
             ],
             [
              0.8888888888888888,
              "#fdca26"
             ],
             [
              1,
              "#f0f921"
             ]
            ],
            "type": "surface"
           }
          ],
          "table": [
           {
            "cells": {
             "fill": {
              "color": "#EBF0F8"
             },
             "line": {
              "color": "white"
             }
            },
            "header": {
             "fill": {
              "color": "#C8D4E3"
             },
             "line": {
              "color": "white"
             }
            },
            "type": "table"
           }
          ]
         },
         "layout": {
          "annotationdefaults": {
           "arrowcolor": "#2a3f5f",
           "arrowhead": 0,
           "arrowwidth": 1
          },
          "autotypenumbers": "strict",
          "coloraxis": {
           "colorbar": {
            "outlinewidth": 0,
            "ticks": ""
           }
          },
          "colorscale": {
           "diverging": [
            [
             0,
             "#8e0152"
            ],
            [
             0.1,
             "#c51b7d"
            ],
            [
             0.2,
             "#de77ae"
            ],
            [
             0.3,
             "#f1b6da"
            ],
            [
             0.4,
             "#fde0ef"
            ],
            [
             0.5,
             "#f7f7f7"
            ],
            [
             0.6,
             "#e6f5d0"
            ],
            [
             0.7,
             "#b8e186"
            ],
            [
             0.8,
             "#7fbc41"
            ],
            [
             0.9,
             "#4d9221"
            ],
            [
             1,
             "#276419"
            ]
           ],
           "sequential": [
            [
             0,
             "#0d0887"
            ],
            [
             0.1111111111111111,
             "#46039f"
            ],
            [
             0.2222222222222222,
             "#7201a8"
            ],
            [
             0.3333333333333333,
             "#9c179e"
            ],
            [
             0.4444444444444444,
             "#bd3786"
            ],
            [
             0.5555555555555556,
             "#d8576b"
            ],
            [
             0.6666666666666666,
             "#ed7953"
            ],
            [
             0.7777777777777778,
             "#fb9f3a"
            ],
            [
             0.8888888888888888,
             "#fdca26"
            ],
            [
             1,
             "#f0f921"
            ]
           ],
           "sequentialminus": [
            [
             0,
             "#0d0887"
            ],
            [
             0.1111111111111111,
             "#46039f"
            ],
            [
             0.2222222222222222,
             "#7201a8"
            ],
            [
             0.3333333333333333,
             "#9c179e"
            ],
            [
             0.4444444444444444,
             "#bd3786"
            ],
            [
             0.5555555555555556,
             "#d8576b"
            ],
            [
             0.6666666666666666,
             "#ed7953"
            ],
            [
             0.7777777777777778,
             "#fb9f3a"
            ],
            [
             0.8888888888888888,
             "#fdca26"
            ],
            [
             1,
             "#f0f921"
            ]
           ]
          },
          "colorway": [
           "#636efa",
           "#EF553B",
           "#00cc96",
           "#ab63fa",
           "#FFA15A",
           "#19d3f3",
           "#FF6692",
           "#B6E880",
           "#FF97FF",
           "#FECB52"
          ],
          "font": {
           "color": "#2a3f5f"
          },
          "geo": {
           "bgcolor": "white",
           "lakecolor": "white",
           "landcolor": "#E5ECF6",
           "showlakes": true,
           "showland": true,
           "subunitcolor": "white"
          },
          "hoverlabel": {
           "align": "left"
          },
          "hovermode": "closest",
          "mapbox": {
           "style": "light"
          },
          "paper_bgcolor": "white",
          "plot_bgcolor": "#E5ECF6",
          "polar": {
           "angularaxis": {
            "gridcolor": "white",
            "linecolor": "white",
            "ticks": ""
           },
           "bgcolor": "#E5ECF6",
           "radialaxis": {
            "gridcolor": "white",
            "linecolor": "white",
            "ticks": ""
           }
          },
          "scene": {
           "xaxis": {
            "backgroundcolor": "#E5ECF6",
            "gridcolor": "white",
            "gridwidth": 2,
            "linecolor": "white",
            "showbackground": true,
            "ticks": "",
            "zerolinecolor": "white"
           },
           "yaxis": {
            "backgroundcolor": "#E5ECF6",
            "gridcolor": "white",
            "gridwidth": 2,
            "linecolor": "white",
            "showbackground": true,
            "ticks": "",
            "zerolinecolor": "white"
           },
           "zaxis": {
            "backgroundcolor": "#E5ECF6",
            "gridcolor": "white",
            "gridwidth": 2,
            "linecolor": "white",
            "showbackground": true,
            "ticks": "",
            "zerolinecolor": "white"
           }
          },
          "shapedefaults": {
           "line": {
            "color": "#2a3f5f"
           }
          },
          "ternary": {
           "aaxis": {
            "gridcolor": "white",
            "linecolor": "white",
            "ticks": ""
           },
           "baxis": {
            "gridcolor": "white",
            "linecolor": "white",
            "ticks": ""
           },
           "bgcolor": "#E5ECF6",
           "caxis": {
            "gridcolor": "white",
            "linecolor": "white",
            "ticks": ""
           }
          },
          "title": {
           "x": 0.05
          },
          "xaxis": {
           "automargin": true,
           "gridcolor": "white",
           "linecolor": "white",
           "ticks": "",
           "title": {
            "standoff": 15
           },
           "zerolinecolor": "white",
           "zerolinewidth": 2
          },
          "yaxis": {
           "automargin": true,
           "gridcolor": "white",
           "linecolor": "white",
           "ticks": "",
           "title": {
            "standoff": 15
           },
           "zerolinecolor": "white",
           "zerolinewidth": 2
          }
         }
        },
        "xaxis": {
         "anchor": "y",
         "domain": [
          0,
          0.45
         ]
        },
        "xaxis2": {
         "anchor": "y2",
         "domain": [
          0.55,
          1
         ]
        },
        "xaxis3": {
         "anchor": "y3",
         "domain": [
          0,
          0.45
         ]
        },
        "xaxis4": {
         "anchor": "y4",
         "domain": [
          0.55,
          1
         ]
        },
        "xaxis5": {
         "anchor": "y5",
         "domain": [
          0,
          0.45
         ]
        },
        "xaxis6": {
         "anchor": "y6",
         "domain": [
          0.55,
          1
         ]
        },
        "yaxis": {
         "anchor": "x",
         "domain": [
          0.7777777777777778,
          1
         ]
        },
        "yaxis2": {
         "anchor": "x2",
         "domain": [
          0.7777777777777778,
          1
         ]
        },
        "yaxis3": {
         "anchor": "x3",
         "domain": [
          0.3888888888888889,
          0.6111111111111112
         ]
        },
        "yaxis4": {
         "anchor": "x4",
         "domain": [
          0.3888888888888889,
          0.6111111111111112
         ]
        },
        "yaxis5": {
         "anchor": "x5",
         "domain": [
          0,
          0.22222222222222224
         ]
        },
        "yaxis6": {
         "anchor": "x6",
         "domain": [
          0,
          0.22222222222222224
         ]
        }
       }
      }
     },
     "metadata": {},
     "output_type": "display_data"
    }
   ],
   "source": [
    "fig = xr_signal.facet_plot_signal_peaks(\n",
    "    ds=test_ds,\n",
    "    line_key=\"raw_data\",\n",
    "    marker_key=\"peaks\",\n",
    "    x=\"time\",\n",
    "    y=\"au\",\n",
    "    grouper=[\"sample\", \"mz\"],\n",
    "    col_wrap=2,\n",
    ")\n",
    "fig.update_layout(height=1500).show()\n"
   ]
  },
  {
   "cell_type": "markdown",
   "metadata": {},
   "source": [
    "As we can see, peak finding is successful. It would be useful to add the viz function as an optional output of the peak finding function - given an xarray input, find the peaks and return as a dataset, providing a viz if specified."
   ]
  },
  {
   "cell_type": "code",
   "execution_count": null,
   "metadata": {},
   "outputs": [
    {
     "data": {
      "application/vnd.plotly.v1+json": {
       "config": {
        "plotlyServerURL": "https://plot.ly"
       },
       "data": [
        {
         "legendgroup": "line",
         "marker": {
          "color": "blue"
         },
         "mode": "lines",
         "name": "raw_data",
         "showlegend": true,
         "type": "scatter",
         "x": [
          16.44385502416264,
          16.456345609065156,
          16.46883619396767,
          16.48132677887019,
          16.493817363772706,
          16.50630794867522,
          16.518798533577737,
          16.531289118480256,
          16.54377970338277,
          16.556270288285287,
          16.568760873187802,
          16.58125145809032,
          16.593742042992837,
          16.606232627895352,
          16.618723212797867,
          16.631213797700383,
          16.643704382602902,
          16.656194967505417,
          16.668685552407933,
          16.681176137310448,
          16.693666722212967,
          16.706157307115483,
          16.718647892017998,
          16.731138476920513,
          16.743629061823032,
          16.756119646725548,
          16.768610231628063,
          16.78110081653058,
          16.793591401433094,
          16.806081986335613,
          16.81857257123813
         ],
         "xaxis": "x",
         "y": [
          0.00014835976958366847,
          0.0001468882485090646,
          0.00019050616284456014,
          0.00016226310663337276,
          0.00023052138765257752,
          0.00017490803945376067,
          0.00019367247026025927,
          0.0001587010107907113,
          0.00019879742296836193,
          0.00021929723380077247,
          0.0002285322970965615,
          0.00019177471549508066,
          0.000236752518271934,
          0.0002762704704409472,
          0.0006643866909729831,
          0.002305355954422636,
          0.005753515472224935,
          0.011131772773583508,
          0.014427726270165758,
          0.013217466151042015,
          0.008817750067452525,
          0.003907192905709029,
          0.0016667462533082298,
          0.0007209032486589697,
          0.00045192949306381585,
          0.0003652112338742376,
          0.00034577700726826403,
          0.00030164152345135643,
          0.0002822478905301998,
          0.0002548471532789579,
          0.00026172778285538074
         ],
         "yaxis": "y"
        },
        {
         "legendgroup": "peaks",
         "marker": {
          "color": "red"
         },
         "mode": "markers",
         "name": "peaks",
         "showlegend": true,
         "type": "scatter",
         "x": [
          16.44385502416264,
          16.456345609065156,
          16.46883619396767,
          16.48132677887019,
          16.493817363772706,
          16.50630794867522,
          16.518798533577737,
          16.531289118480256,
          16.54377970338277,
          16.556270288285287,
          16.568760873187802,
          16.58125145809032,
          16.593742042992837,
          16.606232627895352,
          16.618723212797867,
          16.631213797700383,
          16.643704382602902,
          16.656194967505417,
          16.668685552407933,
          16.681176137310448,
          16.693666722212967,
          16.706157307115483,
          16.718647892017998,
          16.731138476920513,
          16.743629061823032,
          16.756119646725548,
          16.768610231628063,
          16.78110081653058,
          16.793591401433094,
          16.806081986335613,
          16.81857257123813
         ],
         "xaxis": "x",
         "y": [
          null,
          null,
          0.00019050616284456014,
          null,
          0.00023052138765257752,
          null,
          0.00019367247026025927,
          null,
          null,
          null,
          0.0002285322970965615,
          null,
          null,
          null,
          null,
          null,
          null,
          null,
          0.014427726270165758,
          null,
          null,
          null,
          null,
          null,
          null,
          null,
          null,
          null,
          null,
          null,
          null
         ],
         "yaxis": "y"
        },
        {
         "legendgroup": "line",
         "marker": {
          "color": "blue"
         },
         "mode": "lines",
         "name": "raw_data",
         "showlegend": false,
         "type": "scatter",
         "x": [
          16.44385502416264,
          16.456345609065156,
          16.46883619396767,
          16.48132677887019,
          16.493817363772706,
          16.50630794867522,
          16.518798533577737,
          16.531289118480256,
          16.54377970338277,
          16.556270288285287,
          16.568760873187802,
          16.58125145809032,
          16.593742042992837,
          16.606232627895352,
          16.618723212797867,
          16.631213797700383,
          16.643704382602902,
          16.656194967505417,
          16.668685552407933,
          16.681176137310448,
          16.693666722212967,
          16.706157307115483,
          16.718647892017998,
          16.731138476920513,
          16.743629061823032,
          16.756119646725548,
          16.768610231628063,
          16.78110081653058,
          16.793591401433094,
          16.806081986335613,
          16.81857257123813
         ],
         "xaxis": "x2",
         "y": [
          0.00022478940358798132,
          0.00016070481711839127,
          0.00019742543827438024,
          0.00024166540830734232,
          0.00021077993797669715,
          0.00019520535902450457,
          0.00022229713071359982,
          0.00024728790786354075,
          0.00018174028066223207,
          0.00025513048666961477,
          0.00019876939429537766,
          0.00023704662274150916,
          0.00024545910694889224,
          0.00030823376160054786,
          0.000688139506953785,
          0.0017734350302138653,
          0.004129151765601045,
          0.006828019600982414,
          0.008459573704422617,
          0.006865046439965971,
          0.00426851490134803,
          0.0020855730691159177,
          0.0008878530728841668,
          0.0005036772900464955,
          0.0003960842539098026,
          0.000344979900908834,
          0.00028056357845937773,
          0.00029513444342120504,
          0.00026388321290763024,
          0.00024137620258130485,
          0.0002402874280832816
         ],
         "yaxis": "y2"
        },
        {
         "legendgroup": "peaks",
         "marker": {
          "color": "red"
         },
         "mode": "markers",
         "name": "peaks",
         "showlegend": false,
         "type": "scatter",
         "x": [
          16.44385502416264,
          16.456345609065156,
          16.46883619396767,
          16.48132677887019,
          16.493817363772706,
          16.50630794867522,
          16.518798533577737,
          16.531289118480256,
          16.54377970338277,
          16.556270288285287,
          16.568760873187802,
          16.58125145809032,
          16.593742042992837,
          16.606232627895352,
          16.618723212797867,
          16.631213797700383,
          16.643704382602902,
          16.656194967505417,
          16.668685552407933,
          16.681176137310448,
          16.693666722212967,
          16.706157307115483,
          16.718647892017998,
          16.731138476920513,
          16.743629061823032,
          16.756119646725548,
          16.768610231628063,
          16.78110081653058,
          16.793591401433094,
          16.806081986335613,
          16.81857257123813
         ],
         "xaxis": "x2",
         "y": [
          null,
          null,
          null,
          0.00024166540830734232,
          null,
          null,
          null,
          0.00024728790786354075,
          null,
          0.00025513048666961477,
          null,
          null,
          null,
          null,
          null,
          null,
          null,
          null,
          0.008459573704422617,
          null,
          null,
          null,
          null,
          null,
          null,
          null,
          null,
          0.00029513444342120504,
          null,
          null,
          null
         ],
         "yaxis": "y2"
        },
        {
         "legendgroup": "line",
         "marker": {
          "color": "blue"
         },
         "mode": "lines",
         "name": "raw_data",
         "showlegend": false,
         "type": "scatter",
         "x": [
          16.44385502416264,
          16.456345609065156,
          16.46883619396767,
          16.48132677887019,
          16.493817363772706,
          16.50630794867522,
          16.518798533577737,
          16.531289118480256,
          16.54377970338277,
          16.556270288285287,
          16.568760873187802,
          16.58125145809032,
          16.593742042992837,
          16.606232627895352,
          16.618723212797867,
          16.631213797700383,
          16.643704382602902,
          16.656194967505417,
          16.668685552407933,
          16.681176137310448,
          16.693666722212967,
          16.706157307115483,
          16.718647892017998,
          16.731138476920513,
          16.743629061823032,
          16.756119646725548,
          16.768610231628063,
          16.78110081653058,
          16.793591401433094,
          16.806081986335613,
          16.81857257123813
         ],
         "xaxis": "x3",
         "y": [
          0.00017053487671157543,
          0.0002342593630859441,
          0.00018953058689134188,
          0.0001513811980479855,
          0.00022414938012124488,
          0.0001963390285441314,
          0.00016961076108120836,
          0.00018388321359465455,
          0.00017699578769995335,
          0.00022410988800028906,
          0.00023716598318829484,
          0.00026655601960364254,
          0.00024499332156174543,
          0.000345595550484692,
          0.000810694258981802,
          0.0023038755554743193,
          0.005870424795846012,
          0.010976218942593137,
          0.014267271147176784,
          0.013029050983575272,
          0.00872453617417408,
          0.004229440287464113,
          0.00168253811805165,
          0.0007943761146028439,
          0.0004901841037282702,
          0.0003957031535534813,
          0.0003095708377487604,
          0.0003543233092159358,
          0.0002584996269286481,
          0.0002843116771853952,
          0.0002272376639799927
         ],
         "yaxis": "y3"
        },
        {
         "legendgroup": "peaks",
         "marker": {
          "color": "red"
         },
         "mode": "markers",
         "name": "peaks",
         "showlegend": false,
         "type": "scatter",
         "x": [
          16.44385502416264,
          16.456345609065156,
          16.46883619396767,
          16.48132677887019,
          16.493817363772706,
          16.50630794867522,
          16.518798533577737,
          16.531289118480256,
          16.54377970338277,
          16.556270288285287,
          16.568760873187802,
          16.58125145809032,
          16.593742042992837,
          16.606232627895352,
          16.618723212797867,
          16.631213797700383,
          16.643704382602902,
          16.656194967505417,
          16.668685552407933,
          16.681176137310448,
          16.693666722212967,
          16.706157307115483,
          16.718647892017998,
          16.731138476920513,
          16.743629061823032,
          16.756119646725548,
          16.768610231628063,
          16.78110081653058,
          16.793591401433094,
          16.806081986335613,
          16.81857257123813
         ],
         "xaxis": "x3",
         "y": [
          null,
          0.0002342593630859441,
          null,
          null,
          0.00022414938012124488,
          null,
          null,
          0.00018388321359465455,
          null,
          null,
          null,
          0.00026655601960364254,
          null,
          null,
          null,
          null,
          null,
          null,
          0.014267271147176784,
          null,
          null,
          null,
          null,
          null,
          null,
          null,
          null,
          0.0003543233092159358,
          null,
          0.0002843116771853952,
          null
         ],
         "yaxis": "y3"
        },
        {
         "legendgroup": "line",
         "marker": {
          "color": "blue"
         },
         "mode": "lines",
         "name": "raw_data",
         "showlegend": false,
         "type": "scatter",
         "x": [
          16.44385502416264,
          16.456345609065156,
          16.46883619396767,
          16.48132677887019,
          16.493817363772706,
          16.50630794867522,
          16.518798533577737,
          16.531289118480256,
          16.54377970338277,
          16.556270288285287,
          16.568760873187802,
          16.58125145809032,
          16.593742042992837,
          16.606232627895352,
          16.618723212797867,
          16.631213797700383,
          16.643704382602902,
          16.656194967505417,
          16.668685552407933,
          16.681176137310448,
          16.693666722212967,
          16.706157307115483,
          16.718647892017998,
          16.731138476920513,
          16.743629061823032,
          16.756119646725548,
          16.768610231628063,
          16.78110081653058,
          16.793591401433094,
          16.806081986335613,
          16.81857257123813
         ],
         "xaxis": "x4",
         "y": [
          0.0002116260625295621,
          0.0002121409677911912,
          0.00016785911529108817,
          0.00019875343098883446,
          0.0001724932626457501,
          0.0001885164162110219,
          0.00020388502918947707,
          0.0001828873671643987,
          0.00016740530048422862,
          0.00020768136459301372,
          0.00028743931689857965,
          0.0003157940151194773,
          0.0002588402568586038,
          0.00038220806666180735,
          0.001152637246176313,
          0.003284214121203444,
          0.008775670009270027,
          0.016033975302973843,
          0.020111606069100788,
          0.017241541595195805,
          0.011078719063627477,
          0.005154533302804658,
          0.0019350663364491238,
          0.000993173704812125,
          0.0005451275823243858,
          0.00048264077430295563,
          0.0003884305658404781,
          0.0004261670124724144,
          0.00029771996771551303,
          0.0002871338646247318,
          0.0002924225525662104
         ],
         "yaxis": "y4"
        },
        {
         "legendgroup": "peaks",
         "marker": {
          "color": "red"
         },
         "mode": "markers",
         "name": "peaks",
         "showlegend": false,
         "type": "scatter",
         "x": [
          16.44385502416264,
          16.456345609065156,
          16.46883619396767,
          16.48132677887019,
          16.493817363772706,
          16.50630794867522,
          16.518798533577737,
          16.531289118480256,
          16.54377970338277,
          16.556270288285287,
          16.568760873187802,
          16.58125145809032,
          16.593742042992837,
          16.606232627895352,
          16.618723212797867,
          16.631213797700383,
          16.643704382602902,
          16.656194967505417,
          16.668685552407933,
          16.681176137310448,
          16.693666722212967,
          16.706157307115483,
          16.718647892017998,
          16.731138476920513,
          16.743629061823032,
          16.756119646725548,
          16.768610231628063,
          16.78110081653058,
          16.793591401433094,
          16.806081986335613,
          16.81857257123813
         ],
         "xaxis": "x4",
         "y": [
          null,
          0.0002121409677911912,
          null,
          0.00019875343098883446,
          null,
          null,
          0.00020388502918947707,
          null,
          null,
          null,
          null,
          0.0003157940151194773,
          null,
          null,
          null,
          null,
          null,
          null,
          0.020111606069100788,
          null,
          null,
          null,
          null,
          null,
          null,
          null,
          null,
          0.0004261670124724144,
          null,
          null,
          null
         ],
         "yaxis": "y4"
        },
        {
         "legendgroup": "line",
         "marker": {
          "color": "blue"
         },
         "mode": "lines",
         "name": "raw_data",
         "showlegend": false,
         "type": "scatter",
         "x": [
          16.44385502416264,
          16.456345609065156,
          16.46883619396767,
          16.48132677887019,
          16.493817363772706,
          16.50630794867522,
          16.518798533577737,
          16.531289118480256,
          16.54377970338277,
          16.556270288285287,
          16.568760873187802,
          16.58125145809032,
          16.593742042992837,
          16.606232627895352,
          16.618723212797867,
          16.631213797700383,
          16.643704382602902,
          16.656194967505417,
          16.668685552407933,
          16.681176137310448,
          16.693666722212967,
          16.706157307115483,
          16.718647892017998,
          16.731138476920513,
          16.743629061823032,
          16.756119646725548,
          16.768610231628063,
          16.78110081653058,
          16.793591401433094,
          16.806081986335613,
          16.81857257123813
         ],
         "xaxis": "x5",
         "y": [
          0.0002652356689674781,
          0.00021447333312510136,
          0.00022858821951855448,
          0.0002539201036185366,
          0.00019772669067923774,
          0.0002581190851853041,
          0.00020751445757078726,
          0.000271898841594555,
          0.00021223584764234034,
          0.00024123444804006303,
          0.00032846681157502086,
          0.0003115624609012973,
          0.00033560310888567735,
          0.0005020542866274665,
          0.0016194072242499834,
          0.005219688931004642,
          0.012283972722114586,
          0.021248581518349817,
          0.026006086774082796,
          0.02265250016275785,
          0.014083029331425388,
          0.006449813108311163,
          0.002443344003939323,
          0.001160712843519726,
          0.0007327419969294049,
          0.00061058711768774,
          0.0004584873886811935,
          0.0004405382209978984,
          0.0003520639051685452,
          0.00038494607067731556,
          0.0003214882224922243
         ],
         "yaxis": "y5"
        },
        {
         "legendgroup": "peaks",
         "marker": {
          "color": "red"
         },
         "mode": "markers",
         "name": "peaks",
         "showlegend": false,
         "type": "scatter",
         "x": [
          16.44385502416264,
          16.456345609065156,
          16.46883619396767,
          16.48132677887019,
          16.493817363772706,
          16.50630794867522,
          16.518798533577737,
          16.531289118480256,
          16.54377970338277,
          16.556270288285287,
          16.568760873187802,
          16.58125145809032,
          16.593742042992837,
          16.606232627895352,
          16.618723212797867,
          16.631213797700383,
          16.643704382602902,
          16.656194967505417,
          16.668685552407933,
          16.681176137310448,
          16.693666722212967,
          16.706157307115483,
          16.718647892017998,
          16.731138476920513,
          16.743629061823032,
          16.756119646725548,
          16.768610231628063,
          16.78110081653058,
          16.793591401433094,
          16.806081986335613,
          16.81857257123813
         ],
         "xaxis": "x5",
         "y": [
          null,
          null,
          null,
          0.0002539201036185366,
          null,
          0.0002581190851853041,
          null,
          0.000271898841594555,
          null,
          null,
          0.00032846681157502086,
          null,
          null,
          null,
          null,
          null,
          null,
          null,
          0.026006086774082796,
          null,
          null,
          null,
          null,
          null,
          null,
          null,
          null,
          null,
          null,
          0.00038494607067731556,
          null
         ],
         "yaxis": "y5"
        }
       ],
       "layout": {
        "annotations": [
         {
          "font": {
           "size": 16
          },
          "showarrow": false,
          "text": "('ARG-SAL1', 46.0)",
          "x": 0.14444444444444446,
          "xanchor": "center",
          "xref": "paper",
          "y": 1,
          "yanchor": "bottom",
          "yref": "paper"
         },
         {
          "font": {
           "size": 16
          },
          "showarrow": false,
          "text": "('AUS-CAV1', 46.0)",
          "x": 0.5,
          "xanchor": "center",
          "xref": "paper",
          "y": 1,
          "yanchor": "bottom",
          "yref": "paper"
         },
         {
          "font": {
           "size": 16
          },
          "showarrow": false,
          "text": "('AUS-EAG1', 46.0)",
          "x": 0.8555555555555556,
          "xanchor": "center",
          "xref": "paper",
          "y": 1,
          "yanchor": "bottom",
          "yref": "paper"
         },
         {
          "font": {
           "size": 16
          },
          "showarrow": false,
          "text": "('AUS-HAR1', 46.0)",
          "x": 0.14444444444444446,
          "xanchor": "center",
          "xref": "paper",
          "y": 0.375,
          "yanchor": "bottom",
          "yref": "paper"
         },
         {
          "font": {
           "size": 16
          },
          "showarrow": false,
          "text": "('AUS-IB41', 46.0)",
          "x": 0.5,
          "xanchor": "center",
          "xref": "paper",
          "y": 0.375,
          "yanchor": "bottom",
          "yref": "paper"
         },
         {
          "font": {
           "size": 16
          },
          "showarrow": false,
          "text": "time",
          "x": 0.5,
          "xanchor": "center",
          "xref": "paper",
          "y": 0,
          "yanchor": "top",
          "yref": "paper",
          "yshift": -30
         }
        ],
        "template": {
         "data": {
          "bar": [
           {
            "error_x": {
             "color": "#2a3f5f"
            },
            "error_y": {
             "color": "#2a3f5f"
            },
            "marker": {
             "line": {
              "color": "#E5ECF6",
              "width": 0.5
             },
             "pattern": {
              "fillmode": "overlay",
              "size": 10,
              "solidity": 0.2
             }
            },
            "type": "bar"
           }
          ],
          "barpolar": [
           {
            "marker": {
             "line": {
              "color": "#E5ECF6",
              "width": 0.5
             },
             "pattern": {
              "fillmode": "overlay",
              "size": 10,
              "solidity": 0.2
             }
            },
            "type": "barpolar"
           }
          ],
          "carpet": [
           {
            "aaxis": {
             "endlinecolor": "#2a3f5f",
             "gridcolor": "white",
             "linecolor": "white",
             "minorgridcolor": "white",
             "startlinecolor": "#2a3f5f"
            },
            "baxis": {
             "endlinecolor": "#2a3f5f",
             "gridcolor": "white",
             "linecolor": "white",
             "minorgridcolor": "white",
             "startlinecolor": "#2a3f5f"
            },
            "type": "carpet"
           }
          ],
          "choropleth": [
           {
            "colorbar": {
             "outlinewidth": 0,
             "ticks": ""
            },
            "type": "choropleth"
           }
          ],
          "contour": [
           {
            "colorbar": {
             "outlinewidth": 0,
             "ticks": ""
            },
            "colorscale": [
             [
              0,
              "#0d0887"
             ],
             [
              0.1111111111111111,
              "#46039f"
             ],
             [
              0.2222222222222222,
              "#7201a8"
             ],
             [
              0.3333333333333333,
              "#9c179e"
             ],
             [
              0.4444444444444444,
              "#bd3786"
             ],
             [
              0.5555555555555556,
              "#d8576b"
             ],
             [
              0.6666666666666666,
              "#ed7953"
             ],
             [
              0.7777777777777778,
              "#fb9f3a"
             ],
             [
              0.8888888888888888,
              "#fdca26"
             ],
             [
              1,
              "#f0f921"
             ]
            ],
            "type": "contour"
           }
          ],
          "contourcarpet": [
           {
            "colorbar": {
             "outlinewidth": 0,
             "ticks": ""
            },
            "type": "contourcarpet"
           }
          ],
          "heatmap": [
           {
            "colorbar": {
             "outlinewidth": 0,
             "ticks": ""
            },
            "colorscale": [
             [
              0,
              "#0d0887"
             ],
             [
              0.1111111111111111,
              "#46039f"
             ],
             [
              0.2222222222222222,
              "#7201a8"
             ],
             [
              0.3333333333333333,
              "#9c179e"
             ],
             [
              0.4444444444444444,
              "#bd3786"
             ],
             [
              0.5555555555555556,
              "#d8576b"
             ],
             [
              0.6666666666666666,
              "#ed7953"
             ],
             [
              0.7777777777777778,
              "#fb9f3a"
             ],
             [
              0.8888888888888888,
              "#fdca26"
             ],
             [
              1,
              "#f0f921"
             ]
            ],
            "type": "heatmap"
           }
          ],
          "heatmapgl": [
           {
            "colorbar": {
             "outlinewidth": 0,
             "ticks": ""
            },
            "colorscale": [
             [
              0,
              "#0d0887"
             ],
             [
              0.1111111111111111,
              "#46039f"
             ],
             [
              0.2222222222222222,
              "#7201a8"
             ],
             [
              0.3333333333333333,
              "#9c179e"
             ],
             [
              0.4444444444444444,
              "#bd3786"
             ],
             [
              0.5555555555555556,
              "#d8576b"
             ],
             [
              0.6666666666666666,
              "#ed7953"
             ],
             [
              0.7777777777777778,
              "#fb9f3a"
             ],
             [
              0.8888888888888888,
              "#fdca26"
             ],
             [
              1,
              "#f0f921"
             ]
            ],
            "type": "heatmapgl"
           }
          ],
          "histogram": [
           {
            "marker": {
             "pattern": {
              "fillmode": "overlay",
              "size": 10,
              "solidity": 0.2
             }
            },
            "type": "histogram"
           }
          ],
          "histogram2d": [
           {
            "colorbar": {
             "outlinewidth": 0,
             "ticks": ""
            },
            "colorscale": [
             [
              0,
              "#0d0887"
             ],
             [
              0.1111111111111111,
              "#46039f"
             ],
             [
              0.2222222222222222,
              "#7201a8"
             ],
             [
              0.3333333333333333,
              "#9c179e"
             ],
             [
              0.4444444444444444,
              "#bd3786"
             ],
             [
              0.5555555555555556,
              "#d8576b"
             ],
             [
              0.6666666666666666,
              "#ed7953"
             ],
             [
              0.7777777777777778,
              "#fb9f3a"
             ],
             [
              0.8888888888888888,
              "#fdca26"
             ],
             [
              1,
              "#f0f921"
             ]
            ],
            "type": "histogram2d"
           }
          ],
          "histogram2dcontour": [
           {
            "colorbar": {
             "outlinewidth": 0,
             "ticks": ""
            },
            "colorscale": [
             [
              0,
              "#0d0887"
             ],
             [
              0.1111111111111111,
              "#46039f"
             ],
             [
              0.2222222222222222,
              "#7201a8"
             ],
             [
              0.3333333333333333,
              "#9c179e"
             ],
             [
              0.4444444444444444,
              "#bd3786"
             ],
             [
              0.5555555555555556,
              "#d8576b"
             ],
             [
              0.6666666666666666,
              "#ed7953"
             ],
             [
              0.7777777777777778,
              "#fb9f3a"
             ],
             [
              0.8888888888888888,
              "#fdca26"
             ],
             [
              1,
              "#f0f921"
             ]
            ],
            "type": "histogram2dcontour"
           }
          ],
          "mesh3d": [
           {
            "colorbar": {
             "outlinewidth": 0,
             "ticks": ""
            },
            "type": "mesh3d"
           }
          ],
          "parcoords": [
           {
            "line": {
             "colorbar": {
              "outlinewidth": 0,
              "ticks": ""
             }
            },
            "type": "parcoords"
           }
          ],
          "pie": [
           {
            "automargin": true,
            "type": "pie"
           }
          ],
          "scatter": [
           {
            "fillpattern": {
             "fillmode": "overlay",
             "size": 10,
             "solidity": 0.2
            },
            "type": "scatter"
           }
          ],
          "scatter3d": [
           {
            "line": {
             "colorbar": {
              "outlinewidth": 0,
              "ticks": ""
             }
            },
            "marker": {
             "colorbar": {
              "outlinewidth": 0,
              "ticks": ""
             }
            },
            "type": "scatter3d"
           }
          ],
          "scattercarpet": [
           {
            "marker": {
             "colorbar": {
              "outlinewidth": 0,
              "ticks": ""
             }
            },
            "type": "scattercarpet"
           }
          ],
          "scattergeo": [
           {
            "marker": {
             "colorbar": {
              "outlinewidth": 0,
              "ticks": ""
             }
            },
            "type": "scattergeo"
           }
          ],
          "scattergl": [
           {
            "marker": {
             "colorbar": {
              "outlinewidth": 0,
              "ticks": ""
             }
            },
            "type": "scattergl"
           }
          ],
          "scattermapbox": [
           {
            "marker": {
             "colorbar": {
              "outlinewidth": 0,
              "ticks": ""
             }
            },
            "type": "scattermapbox"
           }
          ],
          "scatterpolar": [
           {
            "marker": {
             "colorbar": {
              "outlinewidth": 0,
              "ticks": ""
             }
            },
            "type": "scatterpolar"
           }
          ],
          "scatterpolargl": [
           {
            "marker": {
             "colorbar": {
              "outlinewidth": 0,
              "ticks": ""
             }
            },
            "type": "scatterpolargl"
           }
          ],
          "scatterternary": [
           {
            "marker": {
             "colorbar": {
              "outlinewidth": 0,
              "ticks": ""
             }
            },
            "type": "scatterternary"
           }
          ],
          "surface": [
           {
            "colorbar": {
             "outlinewidth": 0,
             "ticks": ""
            },
            "colorscale": [
             [
              0,
              "#0d0887"
             ],
             [
              0.1111111111111111,
              "#46039f"
             ],
             [
              0.2222222222222222,
              "#7201a8"
             ],
             [
              0.3333333333333333,
              "#9c179e"
             ],
             [
              0.4444444444444444,
              "#bd3786"
             ],
             [
              0.5555555555555556,
              "#d8576b"
             ],
             [
              0.6666666666666666,
              "#ed7953"
             ],
             [
              0.7777777777777778,
              "#fb9f3a"
             ],
             [
              0.8888888888888888,
              "#fdca26"
             ],
             [
              1,
              "#f0f921"
             ]
            ],
            "type": "surface"
           }
          ],
          "table": [
           {
            "cells": {
             "fill": {
              "color": "#EBF0F8"
             },
             "line": {
              "color": "white"
             }
            },
            "header": {
             "fill": {
              "color": "#C8D4E3"
             },
             "line": {
              "color": "white"
             }
            },
            "type": "table"
           }
          ]
         },
         "layout": {
          "annotationdefaults": {
           "arrowcolor": "#2a3f5f",
           "arrowhead": 0,
           "arrowwidth": 1
          },
          "autotypenumbers": "strict",
          "coloraxis": {
           "colorbar": {
            "outlinewidth": 0,
            "ticks": ""
           }
          },
          "colorscale": {
           "diverging": [
            [
             0,
             "#8e0152"
            ],
            [
             0.1,
             "#c51b7d"
            ],
            [
             0.2,
             "#de77ae"
            ],
            [
             0.3,
             "#f1b6da"
            ],
            [
             0.4,
             "#fde0ef"
            ],
            [
             0.5,
             "#f7f7f7"
            ],
            [
             0.6,
             "#e6f5d0"
            ],
            [
             0.7,
             "#b8e186"
            ],
            [
             0.8,
             "#7fbc41"
            ],
            [
             0.9,
             "#4d9221"
            ],
            [
             1,
             "#276419"
            ]
           ],
           "sequential": [
            [
             0,
             "#0d0887"
            ],
            [
             0.1111111111111111,
             "#46039f"
            ],
            [
             0.2222222222222222,
             "#7201a8"
            ],
            [
             0.3333333333333333,
             "#9c179e"
            ],
            [
             0.4444444444444444,
             "#bd3786"
            ],
            [
             0.5555555555555556,
             "#d8576b"
            ],
            [
             0.6666666666666666,
             "#ed7953"
            ],
            [
             0.7777777777777778,
             "#fb9f3a"
            ],
            [
             0.8888888888888888,
             "#fdca26"
            ],
            [
             1,
             "#f0f921"
            ]
           ],
           "sequentialminus": [
            [
             0,
             "#0d0887"
            ],
            [
             0.1111111111111111,
             "#46039f"
            ],
            [
             0.2222222222222222,
             "#7201a8"
            ],
            [
             0.3333333333333333,
             "#9c179e"
            ],
            [
             0.4444444444444444,
             "#bd3786"
            ],
            [
             0.5555555555555556,
             "#d8576b"
            ],
            [
             0.6666666666666666,
             "#ed7953"
            ],
            [
             0.7777777777777778,
             "#fb9f3a"
            ],
            [
             0.8888888888888888,
             "#fdca26"
            ],
            [
             1,
             "#f0f921"
            ]
           ]
          },
          "colorway": [
           "#636efa",
           "#EF553B",
           "#00cc96",
           "#ab63fa",
           "#FFA15A",
           "#19d3f3",
           "#FF6692",
           "#B6E880",
           "#FF97FF",
           "#FECB52"
          ],
          "font": {
           "color": "#2a3f5f"
          },
          "geo": {
           "bgcolor": "white",
           "lakecolor": "white",
           "landcolor": "#E5ECF6",
           "showlakes": true,
           "showland": true,
           "subunitcolor": "white"
          },
          "hoverlabel": {
           "align": "left"
          },
          "hovermode": "closest",
          "mapbox": {
           "style": "light"
          },
          "paper_bgcolor": "white",
          "plot_bgcolor": "#E5ECF6",
          "polar": {
           "angularaxis": {
            "gridcolor": "white",
            "linecolor": "white",
            "ticks": ""
           },
           "bgcolor": "#E5ECF6",
           "radialaxis": {
            "gridcolor": "white",
            "linecolor": "white",
            "ticks": ""
           }
          },
          "scene": {
           "xaxis": {
            "backgroundcolor": "#E5ECF6",
            "gridcolor": "white",
            "gridwidth": 2,
            "linecolor": "white",
            "showbackground": true,
            "ticks": "",
            "zerolinecolor": "white"
           },
           "yaxis": {
            "backgroundcolor": "#E5ECF6",
            "gridcolor": "white",
            "gridwidth": 2,
            "linecolor": "white",
            "showbackground": true,
            "ticks": "",
            "zerolinecolor": "white"
           },
           "zaxis": {
            "backgroundcolor": "#E5ECF6",
            "gridcolor": "white",
            "gridwidth": 2,
            "linecolor": "white",
            "showbackground": true,
            "ticks": "",
            "zerolinecolor": "white"
           }
          },
          "shapedefaults": {
           "line": {
            "color": "#2a3f5f"
           }
          },
          "ternary": {
           "aaxis": {
            "gridcolor": "white",
            "linecolor": "white",
            "ticks": ""
           },
           "baxis": {
            "gridcolor": "white",
            "linecolor": "white",
            "ticks": ""
           },
           "bgcolor": "#E5ECF6",
           "caxis": {
            "gridcolor": "white",
            "linecolor": "white",
            "ticks": ""
           }
          },
          "title": {
           "x": 0.05
          },
          "xaxis": {
           "automargin": true,
           "gridcolor": "white",
           "linecolor": "white",
           "ticks": "",
           "title": {
            "standoff": 15
           },
           "zerolinecolor": "white",
           "zerolinewidth": 2
          },
          "yaxis": {
           "automargin": true,
           "gridcolor": "white",
           "linecolor": "white",
           "ticks": "",
           "title": {
            "standoff": 15
           },
           "zerolinecolor": "white",
           "zerolinewidth": 2
          }
         }
        },
        "xaxis": {
         "anchor": "y",
         "domain": [
          0,
          0.2888888888888889
         ]
        },
        "xaxis2": {
         "anchor": "y2",
         "domain": [
          0.35555555555555557,
          0.6444444444444445
         ]
        },
        "xaxis3": {
         "anchor": "y3",
         "domain": [
          0.7111111111111111,
          1
         ]
        },
        "xaxis4": {
         "anchor": "y4",
         "domain": [
          0,
          0.2888888888888889
         ]
        },
        "xaxis5": {
         "anchor": "y5",
         "domain": [
          0.35555555555555557,
          0.6444444444444445
         ]
        },
        "xaxis6": {
         "anchor": "y6",
         "domain": [
          0.7111111111111111,
          1
         ]
        },
        "yaxis": {
         "anchor": "x",
         "domain": [
          0.625,
          1
         ]
        },
        "yaxis2": {
         "anchor": "x2",
         "domain": [
          0.625,
          1
         ]
        },
        "yaxis3": {
         "anchor": "x3",
         "domain": [
          0.625,
          1
         ]
        },
        "yaxis4": {
         "anchor": "x4",
         "domain": [
          0,
          0.375
         ]
        },
        "yaxis5": {
         "anchor": "x5",
         "domain": [
          0,
          0.375
         ]
        },
        "yaxis6": {
         "anchor": "x6",
         "domain": [
          0,
          0.375
         ]
        }
       }
      }
     },
     "metadata": {},
     "output_type": "display_data"
    }
   ],
   "source": [
    "ds, fig = xr_signal.find_peaks_dataset(\n",
    "    ds=test_ds,\n",
    "    array_key=\"raw_data\",\n",
    "    grouper=[\"sample\", \"mz\"],\n",
    "    return_viz=True,\n",
    "    x=\"time\",\n",
    "    col_wrap=3,\n",
    ")\n",
    "fig\n"
   ]
  },
  {
   "cell_type": "markdown",
   "metadata": {},
   "source": [
    "And as we can see the convenience function works as expected, producing the same result as above."
   ]
  },
  {
   "cell_type": "markdown",
   "metadata": {},
   "source": [
    "## Conclusion\n",
    "\n",
    "We have established a foundation of peak finding on xarray DataArrays and Dataset objects, including result calculation and visualisation. We have also established a convenience function for working at the Dataset level\n",
    "rather than DataArray."
   ]
  }
 ],
 "metadata": {
  "kernelspec": {
   "display_name": "pca-analysis-6KQS4gUX-py3.12",
   "language": "python",
   "name": "python3"
  },
  "language_info": {
   "codemirror_mode": {
    "name": "ipython",
    "version": 3
   },
   "file_extension": ".py",
   "mimetype": "text/x-python",
   "name": "python",
   "nbconvert_exporter": "python",
   "pygments_lexer": "ipython3",
   "version": "3.12.2"
  }
 },
 "nbformat": 4,
 "nbformat_minor": 2
}
