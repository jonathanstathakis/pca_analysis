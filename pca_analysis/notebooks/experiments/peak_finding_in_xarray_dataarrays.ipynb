{
 "cells": [
  {
   "cell_type": "raw",
   "metadata": {
    "vscode": {
     "languageId": "raw"
    }
   },
   "source": [
    "---\n",
    "title: \"Prototyping Peak Finding in xarray DataArrays\"\n",
    "cdt: \"2024-12-08T03:06:23\"\n",
    "description: \"Prototyping how to find peaks in xarray tensors\"\n",
    "status: \"open\"\n",
    "conclusion: \"\"\n",
    "project: parafac2\n",
    "---\n"
   ]
  },
  {
   "cell_type": "markdown",
   "metadata": {
    "vscode": {
     "languageId": "raw"
    }
   },
   "source": [
    "# Peak Finding in xarray DataArrays\n",
    "\n",
    "There are no existing libraries for the purpose, and reducing n-dimensional tensors down to 1D arrays for the scipy peak finding algorithm is subjective as the user has to define what order to unfold the tensor."
   ]
  },
  {
   "cell_type": "code",
   "execution_count": null,
   "metadata": {},
   "outputs": [],
   "source": [
    "%reload_ext autoreload\n",
    "%autoreload 3 --print\n",
    "\n",
    "import xarray as xr\n",
    "from pca_analysis.get_sample_data import get_zhang_data\n",
    "\n",
    "xr.set_options(display_expand_data=False)\n",
    "\n",
    "raw_data: xr.DataArray = get_zhang_data()\n",
    "raw_data\n"
   ]
  },
  {
   "cell_type": "markdown",
   "metadata": {},
   "source": [
    "This tensor has 3 modes. We want to detect every peak at every point. There are some libraries for tensor flow, but generally speaking I'm sure that a 1D approach is best. For example\n"
   ]
  },
  {
   "cell_type": "code",
   "execution_count": null,
   "metadata": {},
   "outputs": [],
   "source": [
    "# from pca_analysis import xr_signal\n",
    "from pca_analysis.xr_signal import find_peaks\n",
    "\n",
    "res = raw_data.isel(sample=slice(0, 10), mz=slice(40, 50)).pipe(\n",
    "    find_peaks, dim_order=[\"sample\", \"time\", \"mz\"]\n",
    ")\n",
    "ds = xr.merge([res, raw_data.rename(\"raw_data\")])\n",
    "ds\n"
   ]
  },
  {
   "cell_type": "code",
   "execution_count": null,
   "metadata": {},
   "outputs": [],
   "source": [
    "test_ds = ds.sel(mz=46).isel(sample=slice(5, 10))\n"
   ]
  },
  {
   "cell_type": "code",
   "execution_count": null,
   "metadata": {},
   "outputs": [],
   "source": [
    "fig = xr_signal.facet_plot_signal_peaks(\n",
    "    ds=test_ds,\n",
    "    line_key=\"raw_data\",\n",
    "    marker_key=\"peaks\",\n",
    "    x=\"time\",\n",
    "    y=\"au\",\n",
    "    grouper=[\"sample\", \"mz\"],\n",
    "    col_wrap=2,\n",
    ")\n",
    "fig.update_layout(height=1500).show()\n"
   ]
  },
  {
   "cell_type": "markdown",
   "metadata": {},
   "source": [
    "As we can see, peak finding is successful. It would be useful to add the viz function as an optional output of the peak finding function - given an xarray input, find the peaks and return as a dataset, providing a viz if specified."
   ]
  },
  {
   "cell_type": "code",
   "execution_count": null,
   "metadata": {},
   "outputs": [],
   "source": []
  }
 ],
 "metadata": {
  "kernelspec": {
   "display_name": "pca-analysis-6KQS4gUX-py3.12",
   "language": "python",
   "name": "python3"
  },
  "language_info": {
   "codemirror_mode": {
    "name": "ipython",
    "version": 3
   },
   "file_extension": ".py",
   "mimetype": "text/x-python",
   "name": "python",
   "nbconvert_exporter": "python",
   "pygments_lexer": "ipython3",
   "version": "3.12.2"
  }
 },
 "nbformat": 4,
 "nbformat_minor": 2
}
