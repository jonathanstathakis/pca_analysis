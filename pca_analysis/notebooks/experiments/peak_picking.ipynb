{
 "cells": [
  {
   "cell_type": "raw",
   "metadata": {
    "vscode": {
     "languageId": "raw"
    }
   },
   "source": [
    "---\n",
    "title: Peak Picking\n",
    "cdt: 2024-12-17T11:58:09\n",
    "description: \"Mapping of peaks in a signal. Need to create a table of peak information and a means of visualising it\"\n",
    "status: open\n",
    "conclusion: \"\"\n",
    "project: parafac2\n",
    "---\n",
    "TODO adapt peak table and viz to xr.dataset\n",
    "TODO2 add peak spectral profile vizzer. It can return the spectral slice for a given time index - doesn't necessarily need to reference the peaks but useful in the context.\n",
    "TODO3 while we're able to peak pick 2D signals, we need to adapt to 3D signals. cant simply aggregate along the third mode because the peak maxima location will probably shift due to convolution..\n"
   ]
  },
  {
   "cell_type": "code",
   "execution_count": null,
   "metadata": {},
   "outputs": [],
   "source": [
    "%reload_ext autoreload\n",
    "%autoreload 3 --print\n",
    "\n",
    "import logging\n",
    "\n",
    "from pca_analysis.definitions import PARAFAC2_TESTSET\n",
    "from pca_analysis import peak_picking\n",
    "import plotly.io as pio\n",
    "import xarray as xr\n",
    "import darkdetect\n",
    "\n",
    "logger = logging.getLogger(__name__)\n",
    "\n",
    "logger.setLevel(logging.DEBUG)\n",
    "\n",
    "xr.set_options(display_expand_data=False, display_expand_coords=False)\n",
    "\n",
    "if darkdetect.isDark():\n",
    "    pio.templates.default = \"plotly_dark\"\n",
    "\n",
    "ds = xr.load_dataset(PARAFAC2_TESTSET)\n",
    "\n",
    "ds\n"
   ]
  },
  {
   "cell_type": "markdown",
   "metadata": {},
   "source": [
    "`scipy.signal.find_peaks` has the ability to return descriptive peak parameters, however with the slightly odd requirement of passing a tuple of `(None, None)` to each optional descriptive parameter desired. For example if we want the prominences returned we'd pass `prominences=(None, None)`.\n",
    "\n",
    "`find_peaks` can return the vertical threshdolds, prominences, width_heights, and plateau_sizes. None of these are fundamental descriptors.\n",
    "\n",
    "`peak_widths` returns the calculated widths and interpolated positions (IPS) left and right, an interpretation of the peak width. It measures the peak width at a pre-calculated distance below the peak maxima by drawing a horizontal line left and right until intersection with the signal occurs. `peak_widths` requires the signal and the peak indices, thus one would run `find_peaks` first followed by `peak_widths`."
   ]
  },
  {
   "cell_type": "code",
   "execution_count": null,
   "metadata": {},
   "outputs": [],
   "source": [
    "ts = ds.raw_data.sel(wavelength=256).isel(id_rank=0).sel(mins=slice(0, 30)).data\n",
    "peak_table = peak_picking.tablulate_peaks_2D(x=ts)\n",
    "peak_table\n"
   ]
  },
  {
   "cell_type": "code",
   "execution_count": null,
   "metadata": {},
   "outputs": [],
   "source": [
    "peak_overlay = peak_picking.plot_peaks(\n",
    "    peak_table=peak_table,\n",
    "    input_signal=ts,\n",
    "    peak_outlines=True,\n",
    ")\n",
    "peak_overlay\n"
   ]
  }
 ],
 "metadata": {
  "kernelspec": {
   "display_name": "pca-analysis-6KQS4gUX-py3.12",
   "language": "python",
   "name": "python3"
  },
  "language_info": {
   "codemirror_mode": {
    "name": "ipython",
    "version": 3
   },
   "file_extension": ".py",
   "mimetype": "text/x-python",
   "name": "python",
   "nbconvert_exporter": "python",
   "pygments_lexer": "ipython3",
   "version": "3.12.2"
  }
 },
 "nbformat": 4,
 "nbformat_minor": 2
}
