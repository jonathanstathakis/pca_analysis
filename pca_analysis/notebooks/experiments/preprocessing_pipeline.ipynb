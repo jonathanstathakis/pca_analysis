{
 "cells": [
  {
   "cell_type": "code",
   "execution_count": null,
   "metadata": {},
   "outputs": [],
   "source": [
    "\"\"\"\n",
    "This can be the preprocessing demonstration and serve as an automated test until a more formal module can be established. It will need to individually demonstrate smoothing, sharpening and baseline subtraction.\n",
    "\"\"\"\n"
   ]
  },
  {
   "cell_type": "code",
   "execution_count": null,
   "metadata": {},
   "outputs": [],
   "source": [
    "%reload_ext autoreload\n",
    "%autoreload 3 --print\n",
    "\n",
    "import logging\n",
    "from pca_analysis import xr_signal\n",
    "\n",
    "from pca_analysis.definitions import PARAFAC2_TESTSET\n",
    "import plotly.io as pio\n",
    "import xarray as xr\n",
    "import darkdetect\n",
    "\n",
    "logger = logging.getLogger(__name__)\n",
    "\n",
    "logger.setLevel(logging.DEBUG)\n",
    "\n",
    "xr.set_options(display_expand_data=False, display_expand_coords=False)\n",
    "\n",
    "if darkdetect.isDark():\n",
    "    pio.templates.default = \"plotly_dark\"\n",
    "\n",
    "ds = xr.load_dataset(PARAFAC2_TESTSET)\n",
    "ds\n"
   ]
  },
  {
   "cell_type": "markdown",
   "metadata": {},
   "source": [
    "## Smoothing\n",
    "\n",
    "The criteria is that with the default find_peaks params, no peaks are detected before the first 0.77 seconds. This can be achieved through savgol smoothing."
   ]
  },
  {
   "cell_type": "markdown",
   "metadata": {},
   "source": [
    "## Sharpening"
   ]
  },
  {
   "cell_type": "markdown",
   "metadata": {},
   "source": [
    "## Baseline Subtraction\n",
    "\n",
    "To simplify tool development, we should first subtract the baseline from each sample. Whether or not there is a baseline is questionable, however the rise and fall does roughly correspond with the change in concentration of methanol in the mobile phase, potentially introducing background absorption. Either way, the data will be easier to work with with zeroed baselines."
   ]
  },
  {
   "cell_type": "code",
   "execution_count": null,
   "metadata": {},
   "outputs": [],
   "source": [
    "import numpy as np\n",
    "from pybaselines.smooth import snip\n",
    "\n",
    "\n",
    "def apply_snip(da: xr.DataArray, **kwargs):\n",
    "    \"\"\"\n",
    "    docs: https://pybaselines.readthedocs.io/en/latest/api/pybaselines/smooth/index.html\n",
    "    \"\"\"\n",
    "    blines = []\n",
    "    for x in da:\n",
    "        bline, _ = snip(x, **kwargs)\n",
    "        blines.append(bline)\n",
    "\n",
    "    blines_ = np.stack(blines)\n",
    "    blines_da = da.copy(data=blines_)\n",
    "    blines_da.name = \"baselines\"\n",
    "\n",
    "    da_ = xr.merge([da, blines_da])\n",
    "    da_ = da_.assign(data_corr=lambda x: x[\"raw_data\"] - x[\"baselines\"])\n",
    "    return da_\n",
    "\n",
    "\n",
    "ds = ds.raw_data.pipe(apply_snip, max_half_window=30).where(\n",
    "    lambda x: x.mins < 30, drop=True\n",
    ")\n",
    "(\n",
    "    ds.pipe(\n",
    "        xr_signal.facet_plot_multiple_traces,\n",
    "        grouper=[\"id_rank\"],\n",
    "        data_keys=[\"raw_data\", \"data_corr\"],\n",
    "        x=\"mins\",\n",
    "        trace_kwargs=[\n",
    "            dict(mode=\"lines\", line=dict(color=\"cadetblue\"), opacity=0.55),\n",
    "            dict(mode=\"lines\", line=dict(color=\"red\"), opacity=0.95),\n",
    "        ],\n",
    "        col_wrap=3,\n",
    "        fig_kwargs=dict(\n",
    "            y_title=\"au\",\n",
    "        ),\n",
    "    ).update_layout(height=1500)\n",
    ")\n"
   ]
  },
  {
   "cell_type": "markdown",
   "metadata": {},
   "source": [
    "the results of which are quite acceptable. Without much fiddling, ranges are identified within which a reasonable amount of peaks fall (2 > x < 6). The only draw back is that some of the parameter values are currently hard coded data dependent values, meaning that a different baseline subtraction will require different values. A problem to be solved down track, but essentially means that every run will require a little manual tuning.\n"
   ]
  }
 ],
 "metadata": {
  "kernelspec": {
   "display_name": "pca-analysis-6KQS4gUX-py3.12",
   "language": "python",
   "name": "python3"
  },
  "language_info": {
   "codemirror_mode": {
    "name": "ipython",
    "version": 3
   },
   "file_extension": ".py",
   "mimetype": "text/x-python",
   "name": "python",
   "nbconvert_exporter": "python",
   "pygments_lexer": "ipython3",
   "version": "3.12.2"
  }
 },
 "nbformat": 4,
 "nbformat_minor": 2
}
