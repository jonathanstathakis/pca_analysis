{
 "cells": [
  {
   "cell_type": "markdown",
   "id": "3c2b2128-a2db-4821-bc49-9ad076c12195",
   "metadata": {},
   "source": [
    "---\n",
    "cdt: 2024-09-04T14:00:00\n",
    "title: \"Meaning of Factors, Scaling and Reconstruction\"\n",
    "description: \"A demonstration of the meaning of the factors of the PARAFAC2 model from the point of view of a HPLC-MS decomposition and how to combine them to compare the pure components with the input data at scale.\"\n",
    "status: closed\n",
    "conclusion: \"Using the Zhang et al. GC-MS peak data, observation of the following features was made: The scaled elution profiles, the pure elution profiles, A as a function of K for each component and C as a function of J. A reconstruction routine was developed and visualisations the results of reconstruction. The reconstruction routine/viz should be integrated into a pipeline.\"\n",
    "project: parafac2\n",
    "---"
   ]
  },
  {
   "cell_type": "markdown",
   "id": "43fc91b1-10ca-488d-a926-90271940437d",
   "metadata": {},
   "source": [
    "To scale the individual compound profiles for a given sample $k$ and wavelength $j$, multiply the elution profile by the corresponding concentration loading ($kth$ row of $A$) and a spectral loading ($j$th row of $C$), as below:"
   ]
  },
  {
   "cell_type": "code",
   "execution_count": null,
   "id": "4c5b072d-9d96-44e8-b64c-9e232cab4463",
   "metadata": {},
   "outputs": [],
   "source": [
    "%load_ext autoreload\n",
    "%autoreload 2\n",
    "\n",
    "from tensorly.decomposition import parafac2 as tl_parafac2\n",
    "import numpy as np\n",
    "import polars as pl\n",
    "import xarray as xr\n",
    "import matplotlib.pyplot as plt\n",
    "from pca_analysis.notebooks.code.zhang_gcms_toy_data import get_zhang_data\n",
    "from pca_analysis.notebooks.code.parafac2 import Parafac2\n",
    "\n",
    "raw_data = get_zhang_data()\n",
    "\n",
    "_decomp, err = tl_parafac2(\n",
    "    raw_data.to_numpy(),\n",
    "    3,\n",
    "    return_errors=True,\n",
    "    verbose=True,\n",
    "    n_iter_max=500,\n",
    "    nn_modes=\"all\",\n",
    ")\n",
    "parafac2 = Parafac2(_decomp, raw_data)\n"
   ]
  },
  {
   "cell_type": "markdown",
   "id": "38b6bdf9-cde3-4ae1-9a12-ee92f9fef8bd",
   "metadata": {},
   "source": [
    "# Individual Factors"
   ]
  },
  {
   "cell_type": "markdown",
   "id": "5d5599bb-4804-41b8-8389-3eca12931bb5",
   "metadata": {},
   "source": [
    "## B"
   ]
  },
  {
   "cell_type": "code",
   "execution_count": null,
   "id": "0e85c212-ed22-4dcd-bf27-a4d855a96a8c",
   "metadata": {},
   "outputs": [],
   "source": [
    "def demonstration_B_scaled(A, B, C):\n",
    "    B_scaled = [B[k] * a * C[39] for k, a in enumerate(A)]\n",
    "\n",
    "    for i, k in enumerate(B_scaled):\n",
    "        plt.plot(k)\n",
    "\n",
    "    plt.xlabel(\"I\")\n",
    "    plt.ylabel(\"y\")\n",
    "    plt.title(\"overlay of Elution Profiles in B scaled by A\")\n",
    "\n",
    "\n",
    "demonstration_B_scaled(parafac2.pure.B, parafac2.pure.A, parafac2.pure.C)\n"
   ]
  },
  {
   "cell_type": "code",
   "execution_count": null,
   "id": "82ee881e-41f4-4b69-857d-a7f3994283e9",
   "metadata": {},
   "outputs": [],
   "source": [
    "def display_pure_elutions(B_list):\n",
    "    for i, k in enumerate(B_list):\n",
    "        plt.plot(k, label=i)\n",
    "        plt.title(\"Pure B' for all k\")\n",
    "        plt.xlabel(\"I\")\n",
    "        plt.ylabel(\"y\")\n",
    "        plt.figtext(\n",
    "            0,\n",
    "            -0.05,\n",
    "            \"Note that the noise is proportionately high relative to the compound peaks\",\n",
    "        )\n",
    "\n",
    "\n",
    "display_pure_elutions(parafac2.pure.B)\n"
   ]
  },
  {
   "cell_type": "markdown",
   "id": "27bce187-5248-4d8f-8b28-1a74c0507aa9",
   "metadata": {},
   "source": [
    "## A"
   ]
  },
  {
   "cell_type": "code",
   "execution_count": null,
   "id": "dde355d2-d1ce-486d-b99b-c8c5496501fc",
   "metadata": {},
   "outputs": [],
   "source": [
    "def demonstrate_A_over_K(A):\n",
    "    for i, r in enumerate(A.T):\n",
    "        plt.plot(r, \".-\", label=i)\n",
    "        plt.xlabel(\"K\")\n",
    "        plt.ylabel(\"y\")\n",
    "        plt.title(\"Values of A as a function of K for each Component\")\n",
    "        plt.figtext(\n",
    "            0,\n",
    "            -0.05,\n",
    "            \"Each indice of K represents a sample.\\nTwo of the points are compounds, one is the noise\",\n",
    "        )\n",
    "        plt.legend()\n",
    "\n",
    "\n",
    "demonstrate_A_over_K(parafac2.pure.A)\n"
   ]
  },
  {
   "cell_type": "markdown",
   "id": "1868c7bf-94b6-4724-b289-e97a0876d39f",
   "metadata": {},
   "source": [
    "## C"
   ]
  },
  {
   "cell_type": "code",
   "execution_count": null,
   "id": "79fefc1e-e03f-4d58-a6ca-65e4b3a428f2",
   "metadata": {},
   "outputs": [],
   "source": [
    "def demonstrate_C_as_func_of_J(C):\n",
    "    for i, r in enumerate(np.flip(C.T, axis=0)):\n",
    "        plt.plot(r, label=i)\n",
    "        plt.xlabel(\"J\")\n",
    "        plt.ylabel(\"y\")\n",
    "        plt.legend()\n",
    "        plt.title(\"Values of C as a Function of J\")\n",
    "        plt.figtext(0, -0.05, \"The spectral profiles for each component over the mz J\")\n",
    "\n",
    "\n",
    "demonstrate_C_as_func_of_J(parafac2.pure.C)\n"
   ]
  },
  {
   "cell_type": "markdown",
   "id": "f708625e-aee6-4a8c-ba9b-828b31255f82",
   "metadata": {},
   "source": [
    "# Reconstruction"
   ]
  },
  {
   "cell_type": "code",
   "execution_count": null,
   "id": "c5705e7e-61f1-4c51-8f46-18d10f085074",
   "metadata": {},
   "outputs": [],
   "source": [
    "k = 10\n",
    "j = 39\n",
    "\n",
    "a = parafac2.pure.A[k]\n",
    "b = parafac2.pure.B[k]\n",
    "c = parafac2.pure.C[j]\n",
    "\n",
    "scaled_b_asterisk = b * a * c\n",
    "\n",
    "ba = np.multiply(a, b)\n",
    "print(b.shape)\n",
    "print(a.shape)\n",
    "print(ba.shape)\n",
    "print(c.shape)\n",
    "plt.plot(ba)\n",
    "# np.dot(ba,c.T)\n"
   ]
  },
  {
   "cell_type": "code",
   "execution_count": null,
   "id": "daff449c-0a17-45d3-89e2-d27e18e14a72",
   "metadata": {},
   "outputs": [],
   "source": [
    "def display_reconstruction(A, B, C, raw_data, k=10, j=39):\n",
    "    a = A[k]\n",
    "    b = B[k]\n",
    "    c = C[j]\n",
    "\n",
    "    # * performs np.multiply on the args\n",
    "    scaled_b = b * a * c\n",
    "\n",
    "    plt.plot(scaled_b, label=list(range(0, b.shape[1])))\n",
    "    plt.plot(raw_data.isel(sample=k, mz=j), \"--\", label=\"original\")\n",
    "    plt.xlabel(\"I\")\n",
    "    plt.ylabel(\"y\")\n",
    "    plt.title(\"Demonstration of Scaled Pure Components and Original Signal\")\n",
    "    plt.legend()\n",
    "\n",
    "\n",
    "display_reconstruction(\n",
    "    A=parafac2.pure.A,\n",
    "    B=parafac2.pure.B,\n",
    "    C=parafac2.pure.C,\n",
    "    raw_data=raw_data,\n",
    ")\n"
   ]
  },
  {
   "cell_type": "markdown",
   "id": "e542e496",
   "metadata": {},
   "source": [
    "As we can see in the above viz, the decomposition looks sound, and fruthermore the visualisation is very informative, containing information about the pure analytes and noise compared to the convoluted signal.\n"
   ]
  },
  {
   "cell_type": "markdown",
   "id": "45c3a772",
   "metadata": {},
   "source": [
    "# Conclusion\n",
    "\n",
    "Using the Zhang et al. GC-MS peak data, observation of the following features was made: The scaled elution profiles, the pure elution profiles, A as a function of K for each component and C as a function of J. A reconstruction routine was developed and visualisations the results of reconstruction. The reconstruction routine/viz should be integrated into a pipeline."
   ]
  }
 ],
 "metadata": {
  "kernelspec": {
   "display_name": "Python 3 (ipykernel)",
   "language": "python",
   "name": "python3"
  },
  "language_info": {
   "codemirror_mode": {
    "name": "ipython",
    "version": 3
   },
   "file_extension": ".py",
   "mimetype": "text/x-python",
   "name": "python",
   "nbconvert_exporter": "python",
   "pygments_lexer": "ipython3",
   "version": "3.12.2"
  }
 },
 "nbformat": 4,
 "nbformat_minor": 5
}
