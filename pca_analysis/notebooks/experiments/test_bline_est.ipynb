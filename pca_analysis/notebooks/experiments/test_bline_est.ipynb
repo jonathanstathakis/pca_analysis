{
 "cells": [
  {
   "cell_type": "markdown",
   "metadata": {},
   "source": [
    "---\n",
    "title: \"Testing Baseline Correction Estimators\"\n",
    "cdt: \"2024-10-20T17:36:49\"\n",
    "description: \"a demonstration of use of baseline correction estimators and their performance on the 0 - 100 idx subset of the shiraz dataset.\"\n",
    "status: \"closed\"\n",
    "conclusion: \"Two estimators were developed: ASLS and SNIP. They were able to transform the data. A SQL based results data model was developed with a class based api able to provide visusalisations of the results in 2 and 3D. It was observed that the subset did not require baseline subtraction. ASLS overfit the data, especially convoluted peaks. SNIP performed very poorly without a baseline on the right side of the signal, indicating that it is unsuitable for busy signals.\"\n",
    "project: parafac2\n",
    "---\n"
   ]
  },
  {
   "cell_type": "code",
   "execution_count": null,
   "metadata": {},
   "outputs": [],
   "source": [
    "%reload_ext autoreload\n",
    "%autoreload 2\n",
    "\n",
    "\n",
    "# get the test data as two tables: metadata and a samplewise stacked img table\n",
    "\n",
    "import duckdb as db\n",
    "from pca_analysis.definitions import DB_PATH_UV\n",
    "from pca_analysis.code.get_sample_data import get_ids_by_varietal\n",
    "\n",
    "import polars as pl\n",
    "\n",
    "from pca_analysis.notebooks.experiments.parafac2_pipeline.orchestrator import (\n",
    "    Orchestrator,\n",
    ")\n",
    "\n",
    "from pca_analysis.notebooks.experiments.parafac2_pipeline.estimators import (\n",
    "    BCorr_ASLS,\n",
    "    BCorr_SNIP,\n",
    ")\n",
    "\n",
    "import logging\n",
    "\n",
    "logger = logging.getLogger()\n",
    "logger.setLevel(logging.INFO)\n",
    "\n",
    "con = db.connect(DB_PATH_UV)\n",
    "ids = get_ids_by_varietal(con=con, varietal=\"shiraz\")\n",
    "\n",
    "\n",
    "testdata_filter_expr = pl.col(\"mins\").is_between(0.7, 1.39) & pl.col(\"nm\").is_between(\n",
    "    240, 270\n",
    ")\n",
    "\n",
    "orc = Orchestrator()\n",
    "orc.load_data(con=con, runids=ids, filter_expr=testdata_filter_expr)\n",
    "orc.input_data.plot_3d()\n"
   ]
  },
  {
   "cell_type": "markdown",
   "metadata": {},
   "source": [
    "# ASLS"
   ]
  },
  {
   "cell_type": "markdown",
   "metadata": {},
   "source": [
    "We will first test ASLS.\n"
   ]
  },
  {
   "cell_type": "code",
   "execution_count": null,
   "metadata": {},
   "outputs": [],
   "source": [
    "bcorr = BCorr_ASLS(\n",
    "    lam=1e5,\n",
    ")\n",
    "bcorr.fit_transform(XX)\n",
    "\n",
    "bcorr.get_bcorr_results().viz_compare_signals(10)\n"
   ]
  },
  {
   "cell_type": "markdown",
   "metadata": {},
   "source": [
    "As shown in the graphic above, the baseline fit is acceptable with a lam of 1E5. However on inspection of sample 5 and 0, it is evident that there is little no baseline present, and that ASLS easily overfits the convoluted peaks. It is not advisable to use baseline correction within this interval.\n"
   ]
  },
  {
   "cell_type": "markdown",
   "metadata": {},
   "source": [
    "## SNIP\n",
    "\n",
    "Another Baseline correction method I am familiar with is the SNIP algorithm."
   ]
  },
  {
   "cell_type": "code",
   "execution_count": null,
   "metadata": {},
   "outputs": [],
   "source": [
    "bcorr_snip = BCorr_SNIP(\n",
    "    max_half_window=15,\n",
    ")\n",
    "\n",
    "bcorr_snip.fit_transform(XX)\n",
    "\n",
    "bcorr_snip.get_bcorr_results().viz_compare_signals(10)\n"
   ]
  },
  {
   "cell_type": "markdown",
   "metadata": {},
   "source": [
    "As we can see, the results for snip are poor for the given dataset."
   ]
  },
  {
   "cell_type": "markdown",
   "metadata": {},
   "source": [
    "# Conclusion\n",
    "\n",
    "It should first be stated that for the dataset range idx 0 - 100 that baseline correction is unnecessary. That being said, it is clear that ASLS is inclined to overfit convooluted peaks, and that SNIP performs very poorly if a baseline is not present on both sides of the signal. SNIP is thus unsuitable for highly packed signals, and that overall baseline correction should be restricted to the entire signal interval rather than subset by subset, and that a generous baseline should be included on either end."
   ]
  }
 ],
 "metadata": {
  "kernelspec": {
   "display_name": "pca-analysis-6KQS4gUX-py3.12",
   "language": "python",
   "name": "python3"
  },
  "language_info": {
   "codemirror_mode": {
    "name": "ipython",
    "version": 3
   },
   "file_extension": ".py",
   "mimetype": "text/x-python",
   "name": "python",
   "nbconvert_exporter": "python",
   "pygments_lexer": "ipython3",
   "version": "3.12.2"
  }
 },
 "nbformat": 4,
 "nbformat_minor": 2
}
