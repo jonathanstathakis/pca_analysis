{
 "cells": [
  {
   "cell_type": "raw",
   "metadata": {
    "vscode": {
     "languageId": "raw"
    }
   },
   "source": [
    "---\n",
    "title: \"Testing Baseline Correction Estimators\"\n",
    "cdt: \"2024-10-20T17:36:49\"\n",
    "description: \"a demonstration of use of baseline correction estimators and their performance on the 0 - 100 idx subset of the shiraz dataset.\"\n",
    "status: \"closed\"\n",
    "conclusion: \"Two estimators were developed: ASLS and SNIP. They were able to transform the data. SNIP is overzealous but great for getting a flat baseline. ARPLS would require lots of fine tuning to get a good fit, and would still result in an uneven baseline in the corrected signal.\"\n",
    "project: parafac2\n",
    "---\n"
   ]
  },
  {
   "cell_type": "code",
   "execution_count": null,
   "metadata": {},
   "outputs": [],
   "source": [
    "%reload_ext autoreload\n",
    "%autoreload 2\n",
    "\n",
    "\n",
    "# get the test data as two tables: metadata and a samplewise stacked img table\n",
    "\n",
    "from pca_analysis.definitions import NC_RAW\n",
    "\n",
    "from pca_analysis.parafac2_pipeline.estimators import (\n",
    "    BCorr_ARPLS,\n",
    "    BCorr_SNIP,\n",
    ")\n",
    "\n",
    "import xarray as xr\n",
    "import logging\n",
    "import plotly.express as px\n",
    "\n",
    "logger = logging.getLogger()\n",
    "logger.setLevel(logging.INFO)\n",
    "\n",
    "ds = xr.load_dataset(NC_RAW)\n",
    "ds\n"
   ]
  },
  {
   "cell_type": "code",
   "execution_count": null,
   "metadata": {},
   "outputs": [],
   "source": [
    "# would produce 3d plot but not working atm..?\n",
    "\n",
    "ds.sel(wavelength=\"256\", mins=(ds.mins < 31)).to_dataframe().reset_index().sort_values(\n",
    "    [\"id\", \"mins\"]\n",
    ").reset_index(drop=True).pipe(px.line, x=\"mins\", y=\"imgs\", color=\"id\")\n"
   ]
  },
  {
   "cell_type": "markdown",
   "metadata": {},
   "source": [
    "# ASLS"
   ]
  },
  {
   "cell_type": "markdown",
   "metadata": {},
   "source": [
    "We will first test ASLS.\n"
   ]
  },
  {
   "cell_type": "code",
   "execution_count": null,
   "metadata": {},
   "outputs": [],
   "source": [
    "X = ds.to_dataarray().to_numpy().squeeze()\n"
   ]
  },
  {
   "cell_type": "code",
   "execution_count": null,
   "metadata": {},
   "outputs": [],
   "source": [
    "bcorr = BCorr_ARPLS(\n",
    "    lam=1e5,\n",
    ")\n",
    "bcorr.fit_transform(X=X)\n"
   ]
  },
  {
   "cell_type": "code",
   "execution_count": null,
   "metadata": {},
   "outputs": [],
   "source": [
    "import numpy as np\n",
    "\n",
    "ds1 = ds.assign(\n",
    "    bcorr_arpls=xr.DataArray(\n",
    "        data=np.stack(bcorr.Xt), coords=ds[[\"id\", \"mins\", \"wavelength\"]].coords\n",
    "    )\n",
    ")\n",
    "ds1.isel(id=0).sel(wavelength=\"256\").imgs.plot()\n",
    "ds1.isel(id=0).sel(wavelength=\"256\").bcorr_arpls.plot()\n"
   ]
  },
  {
   "cell_type": "markdown",
   "metadata": {},
   "source": [
    "As shown in the graphic above, the baseline fit is acceptable with a lam of 1E5. However on inspection of sample 5 and 0, it is evident that there is little no baseline present, and that ASLS easily overfits the convoluted peaks. It is not advisable to use baseline correction within this interval.\n"
   ]
  },
  {
   "cell_type": "markdown",
   "metadata": {},
   "source": [
    "## SNIP\n",
    "\n",
    "Another Baseline correction method I am familiar with is the SNIP algorithm."
   ]
  },
  {
   "cell_type": "code",
   "execution_count": null,
   "metadata": {},
   "outputs": [],
   "source": [
    "bcorr_snip = BCorr_SNIP(\n",
    "    max_half_window=15,\n",
    ")\n",
    "\n",
    "bcorr_snip.fit_transform(X)\n",
    "\n",
    "ds1 = ds.assign(\n",
    "    bcorr_snip=xr.DataArray(\n",
    "        data=np.stack(bcorr_snip.Xt), coords=ds[[\"id\", \"mins\", \"wavelength\"]].coords\n",
    "    )\n",
    ")\n",
    "\n",
    "import matplotlib as mpl\n",
    "\n",
    "mpl.rcParams[\"figure.dpi\"] = 300\n",
    "ds1.isel(id=0).sel(wavelength=\"256\").imgs.plot(linewidth=0.5)\n",
    "ds1.isel(id=0).sel(wavelength=\"256\").bcorr_snip.plot(linewidth=0.5)\n"
   ]
  },
  {
   "cell_type": "markdown",
   "metadata": {},
   "source": [
    "# Conclusion\n",
    "\n",
    "SNIP is overzealous but great for getting a flat baseline. ARPLS would require lots of fine tuning to get a good fit, and would still result in an uneven baseline in the corrected signal."
   ]
  }
 ],
 "metadata": {
  "kernelspec": {
   "display_name": "pca-analysis-6KQS4gUX-py3.12",
   "language": "python",
   "name": "python3"
  },
  "language_info": {
   "codemirror_mode": {
    "name": "ipython",
    "version": 3
   },
   "file_extension": ".py",
   "mimetype": "text/x-python",
   "name": "python",
   "nbconvert_exporter": "python",
   "pygments_lexer": "ipython3",
   "version": "3.12.2"
  }
 },
 "nbformat": 4,
 "nbformat_minor": 2
}
