{
 "cells": [
  {
   "cell_type": "raw",
   "metadata": {
    "vscode": {
     "languageId": "raw"
    }
   },
   "source": [
    "---\n",
    "title: Selecting Test Set (Shiraz)\n",
    "cdt: 2024-12-17T10:24:27\n",
    "description: \"An explicit demonstration of the creation and pruning of a test set for the development of my PARAFAC2 decomp pipeline\"\n",
    "status: open\n",
    "conclusion: \"\"\n",
    "project: parafac2\n",
    "---\n"
   ]
  },
  {
   "cell_type": "markdown",
   "metadata": {},
   "source": [
    "To develop a PARAFAC2 pipeline We first need to choose a test set. This should be a related group of samples with a relatively high peak prominance, and preferably easily clustered peaks.\n"
   ]
  },
  {
   "cell_type": "code",
   "execution_count": null,
   "metadata": {},
   "outputs": [],
   "source": [
    "%reload_ext autoreload\n",
    "%autoreload 3 --print\n",
    "\n",
    "# get the test data as two tables: metadata and a samplewise stacked img table\n",
    "import logging\n",
    "\n",
    "import duckdb as db\n",
    "import plotly.express as px\n",
    "import polars as pl\n",
    "from database_etl import get_data\n",
    "from pca_analysis import xr_signal\n",
    "\n",
    "from pca_analysis.definitions import DB_PATH_UV\n",
    "from pca_analysis.get_sample_data import get_ids_by_varietal\n",
    "import plotly.io as pio\n",
    "import xarray as xr\n",
    "import darkdetect\n",
    "\n",
    "logger = logging.getLogger(__name__)\n",
    "\n",
    "logger.setLevel(logging.DEBUG)\n",
    "\n",
    "xr.set_options(display_expand_data=False, display_expand_coords=False)\n",
    "\n",
    "if darkdetect.isDark():\n",
    "    pio.templates.default = \"plotly_dark\"\n",
    "\n",
    "\n",
    "with db.connect(DB_PATH_UV) as conn:\n",
    "    ids = get_ids_by_varietal(\"shiraz\", conn)\n",
    "\n",
    "    ds = get_data(output=\"xr\", con=conn, runids=ids)\n",
    "\n",
    "# replace id with id_rank to be more human friendly\n",
    "ds = (\n",
    "    ds.assign_coords(\n",
    "        id_rank=lambda x: (\n",
    "            \"id\",\n",
    "            x.coords[\"id\"].to_dataframe()[\"id\"].rank(method=\"dense\").astype(int),\n",
    "        )\n",
    "    )\n",
    "    .swap_dims({\"id\": \"id_rank\"})\n",
    "    .rename({\"imgs\": \"raw_data\"})\n",
    "    .assign(wavelength=lambda x: (\"wavelength\", x[\"wavelength\"].astype(int).data))\n",
    ")\n",
    "\n",
    "fig = (\n",
    "    ds.sel(wavelength=256)\n",
    "    .pipe(\n",
    "        xr_signal.facet_plot_multiple_traces,\n",
    "        grouper=[\"id_rank\"],\n",
    "        data_keys=[\"raw_data\"],\n",
    "        x_key=\"mins\",\n",
    "        trace_kwargs=[dict(mode=\"lines\", line=dict(color=\"cadetblue\"))],\n",
    "        col_wrap=3,\n",
    "        fig_kwargs=dict(y_title=\"au\", shared_yaxes=True),\n",
    "    )\n",
    "    .update_layout(height=1000)\n",
    ")\n",
    "\n",
    "display(ds)\n",
    "display(fig)\n"
   ]
  },
  {
   "cell_type": "markdown",
   "metadata": {},
   "source": [
    "As we can see, sample 2 is very much an outlier when compared to the other samples, and will be removed.\n"
   ]
  },
  {
   "cell_type": "code",
   "execution_count": null,
   "metadata": {},
   "outputs": [],
   "source": [
    "ds = ds.where(lambda x: x.id_rank != 2, drop=True)\n"
   ]
  },
  {
   "cell_type": "code",
   "execution_count": null,
   "metadata": {},
   "outputs": [],
   "source": [
    "ds = ds.assign_attrs(\n",
    "    {\n",
    "        \"description\": \"shiraz dataset for development of PARAFAC2 pipeline. Each id_rank is a unique sample.\"\n",
    "    }\n",
    ")\n",
    "ds\n"
   ]
  },
  {
   "cell_type": "markdown",
   "metadata": {},
   "source": [
    "This dataset will be written to PARAFAC2_TESTSET for use in downstream development. Modifications to the testset will be done here and then propagated."
   ]
  },
  {
   "cell_type": "code",
   "execution_count": null,
   "metadata": {},
   "outputs": [],
   "source": [
    "from pca_analysis.definitions import PARAFAC2_TESTSET\n",
    "\n",
    "ds.to_netcdf(PARAFAC2_TESTSET)\n"
   ]
  }
 ],
 "metadata": {
  "kernelspec": {
   "display_name": "pca-analysis-6KQS4gUX-py3.12",
   "language": "python",
   "name": "python3"
  },
  "language_info": {
   "codemirror_mode": {
    "name": "ipython",
    "version": 3
   },
   "file_extension": ".py",
   "mimetype": "text/x-python",
   "name": "python",
   "nbconvert_exporter": "python",
   "pygments_lexer": "ipython3",
   "version": "3.12.2"
  }
 },
 "nbformat": 4,
 "nbformat_minor": 2
}
