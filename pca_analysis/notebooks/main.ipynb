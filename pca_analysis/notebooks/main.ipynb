{
 "cells": [
  {
   "cell_type": "raw",
   "metadata": {
    "vscode": {
     "languageId": "raw"
    }
   },
   "source": [
    "---\n",
    "title: Project Main\n",
    "description: Project Overview page. A TOC.\n",
    "cdt: 2024-09-11T11:11:25\n",
    "---\n"
   ]
  },
  {
   "cell_type": "markdown",
   "metadata": {
    "vscode": {
     "languageId": "raw"
    }
   },
   "source": [
    "Table of Contents of projects.\n",
    "\n",
    "Projects are a means of managing related tasks to achieve pre-defined goals.\n",
    "\n",
    "\n",
    "- [All Projects](./main.ipynb#all-projects)\n",
    "- [Notes Without a Project](./main.ipynb#notes-without-a-project)\n"
   ]
  },
  {
   "cell_type": "markdown",
   "metadata": {
    "vscode": {
     "languageId": "raw"
    }
   },
   "source": [
    "## All Projects"
   ]
  },
  {
   "cell_type": "code",
   "execution_count": null,
   "metadata": {},
   "outputs": [],
   "source": [
    "%reload_ext autoreload\n",
    "%autoreload 2\n",
    "\n",
    "from project_toc.toc import build_toc\n",
    "from pathlib import Path\n",
    "from great_tables import GT\n",
    "import duckdb as db\n",
    "from pca_analysis.definitions import ROOT\n",
    "\n",
    "projects_path = ROOT / \"notebooks\" / \"projects\"\n",
    "nbooks = list(Path(projects_path).glob(\"*.ipynb\"))\n"
   ]
  },
  {
   "cell_type": "code",
   "execution_count": null,
   "metadata": {},
   "outputs": [],
   "source": [
    "project_toc = build_toc(paths=nbooks)\n"
   ]
  },
  {
   "cell_type": "code",
   "execution_count": 4,
   "metadata": {},
   "outputs": [
    {
     "data": {
      "text/html": [
       "<div id=\"ozjugwyqyw\" style=\"padding-left:0px;padding-right:0px;padding-top:10px;padding-bottom:10px;overflow-x:auto;overflow-y:auto;width:auto;height:auto;\">\n",
       "<style>\n",
       "#ozjugwyqyw table {\n",
       "          font-family: -apple-system, BlinkMacSystemFont, 'Segoe UI', Roboto, Oxygen, Ubuntu, Cantarell, 'Helvetica Neue', 'Fira Sans', 'Droid Sans', Arial, sans-serif;\n",
       "          -webkit-font-smoothing: antialiased;\n",
       "          -moz-osx-font-smoothing: grayscale;\n",
       "        }\n",
       "\n",
       "#ozjugwyqyw thead, tbody, tfoot, tr, td, th { border-style: none !important; }\n",
       " tr { background-color: transparent !important; }\n",
       "#ozjugwyqyw p { margin: 0 !important; padding: 0 !important; }\n",
       " #ozjugwyqyw .gt_table { display: table !important; border-collapse: collapse !important; line-height: normal !important; margin-left: auto !important; margin-right: auto !important; color: #FFFFFF !important; font-size: 1 !important; font-weight: normal !important; font-style: normal !important; background-color: #363a4f !important; width: auto !important; border-top-style: solid !important; border-top-width: 2px !important; border-top-color: #929292 !important; border-right-style: none !important; border-right-width: 2px !important; border-right-color: #D3D3D3 !important; border-bottom-style: solid !important; border-bottom-width: 2px !important; border-bottom-color: #929292 !important; border-left-style: none !important; border-left-width: 2px !important; border-left-color: #D3D3D3 !important; }\n",
       " #ozjugwyqyw .gt_caption { padding-top: 4px !important; padding-bottom: 4px !important; }\n",
       " #ozjugwyqyw .gt_title { color: #FFFFFF !important; font-size: 125% !important; font-weight: initial !important; padding-top: 4px !important; padding-bottom: 4px !important; padding-left: 5px !important; padding-right: 5px !important; border-bottom-color: #363a4f !important; border-bottom-width: 0 !important; }\n",
       " #ozjugwyqyw .gt_subtitle { color: #FFFFFF !important; font-size: 85% !important; font-weight: initial !important; padding-top: 3px !important; padding-bottom: 5px !important; padding-left: 5px !important; padding-right: 5px !important; border-top-color: #363a4f !important; border-top-width: 0 !important; }\n",
       " #ozjugwyqyw .gt_heading { background-color: #363a4f !important; text-align: center !important; border-bottom-color: #363a4f !important; border-left-style: none !important; border-left-width: 1px !important; border-left-color: #D3D3D3 !important; border-right-style: none !important; border-right-width: 1px !important; border-right-color: #D3D3D3 !important; }\n",
       " #ozjugwyqyw .gt_bottom_border { border-bottom-style: solid !important; border-bottom-width: 2px !important; border-bottom-color: #929292 !important; }\n",
       " #ozjugwyqyw .gt_col_headings { border-top-style: solid !important; border-top-width: 2px !important; border-top-color: #929292 !important; border-bottom-style: solid !important; border-bottom-width: 2px !important; border-bottom-color: #929292 !important; border-left-style: none !important; border-left-width: 1px !important; border-left-color: #D3D3D3 !important; border-right-style: none !important; border-right-width: 1px !important; border-right-color: #D3D3D3 !important; }\n",
       " #ozjugwyqyw .gt_col_heading { color: #FFFFFF !important; background-color: #000000 !important; font-size: 100% !important; font-weight: normal !important; text-transform: inherit !important; border-left-style: none !important; border-left-width: 1px !important; border-left-color: #D3D3D3 !important; border-right-style: none !important; border-right-width: 1px !important; border-right-color: #D3D3D3 !important; vertical-align: bottom !important; padding-top: 5px !important; padding-bottom: 5px !important; padding-left: 5px !important; padding-right: 5px !important; overflow-x: hidden !important; }\n",
       " #ozjugwyqyw .gt_column_spanner_outer { color: #FFFFFF !important; background-color: #000000 !important; font-size: 100% !important; font-weight: normal !important; text-transform: inherit !important; padding-top: 0 !important; padding-bottom: 0 !important; padding-left: 4px !important; padding-right: 4px !important; }\n",
       " #ozjugwyqyw .gt_column_spanner_outer:first-child { padding-left: 0 !important; }\n",
       " #ozjugwyqyw .gt_column_spanner_outer:last-child { padding-right: 0 !important; }\n",
       " #ozjugwyqyw .gt_column_spanner { border-bottom-style: solid !important; border-bottom-width: 2px !important; border-bottom-color: #929292 !important; vertical-align: bottom !important; padding-top: 5px !important; padding-bottom: 5px !important; overflow-x: hidden !important; display: inline-block !important; width: 100% !important; }\n",
       " #ozjugwyqyw .gt_spanner_row { border-bottom-style: hidden !important; }\n",
       " #ozjugwyqyw .gt_group_heading { padding-top: 8px !important; padding-bottom: 8px !important; padding-left: 5px !important; padding-right: 5px !important; color: #FFFFFF !important; background-color: #363a4f !important; font-size: 100% !important; font-weight: initial !important; text-transform: inherit !important; border-top-style: solid !important; border-top-width: 2px !important; border-top-color: #929292 !important; border-bottom-style: solid !important; border-bottom-width: 2px !important; border-bottom-color: #929292 !important; border-left-style: none !important; border-left-width: 1px !important; border-left-color: #D3D3D3 !important; border-right-style: none !important; border-right-width: 1px !important; border-right-color: #D3D3D3 !important; vertical-align: middle !important; text-align: left !important; }\n",
       " #ozjugwyqyw .gt_empty_group_heading { padding: 0.5px !important; color: #FFFFFF !important; background-color: #363a4f !important; font-size: 100% !important; font-weight: initial !important; border-top-style: solid !important; border-top-width: 2px !important; border-top-color: #929292 !important; border-bottom-style: solid !important; border-bottom-width: 2px !important; border-bottom-color: #929292 !important; vertical-align: middle !important; }\n",
       " #ozjugwyqyw .gt_from_md> :first-child { margin-top: 0 !important; }\n",
       " #ozjugwyqyw .gt_from_md> :last-child { margin-bottom: 0 !important; }\n",
       " #ozjugwyqyw .gt_row { padding-top: 8px !important; padding-bottom: 8px !important; padding-left: 5px !important; padding-right: 5px !important; margin: 10px !important; border-top-style: dashed !important; border-top-width: 1px !important; border-top-color: #929292 !important; border-left-style: none !important; border-left-width: 1px !important; border-left-color: #929292 !important; border-right-style: none !important; border-right-width: 1px !important; border-right-color: #929292 !important; vertical-align: middle !important; overflow-x: hidden !important; }\n",
       " #ozjugwyqyw .gt_stub { color: #FFFFFF !important; background-color: #D5D5D5 !important; font-size: 100% !important; font-weight: initial !important; text-transform: inherit !important; border-right-style: none !important; border-right-width: 2px !important; border-right-color: #FFFFFF !important; padding-left: 5px !important; padding-right: 5px !important; }\n",
       " #ozjugwyqyw .gt_stub_row_group { color: #FFFFFF !important; background-color: #363a4f !important; font-size: 100% !important; font-weight: initial !important; text-transform: inherit !important; border-right-style: solid !important; border-right-width: 2px !important; border-right-color: #D3D3D3 !important; padding-left: 5px !important; padding-right: 5px !important; vertical-align: top !important; }\n",
       " #ozjugwyqyw .gt_row_group_first td { border-top-width: 2px !important; }\n",
       " #ozjugwyqyw .gt_row_group_first th { border-top-width: 2px !important; }\n",
       " #ozjugwyqyw .gt_table_body { border-top-style: solid !important; border-top-width: 2px !important; border-top-color: #929292 !important; border-bottom-style: solid !important; border-bottom-width: 2px !important; border-bottom-color: #929292 !important; }\n",
       " #ozjugwyqyw .gt_sourcenotes { color: #FFFFFF !important; background-color: #363a4f !important; border-bottom-style: none !important; border-bottom-width: 2px !important; border-bottom-color: #D3D3D3 !important; border-left-style: none !important; border-left-width: 2px !important; border-left-color: #D3D3D3 !important; border-right-style: none !important; border-right-width: 2px !important; border-right-color: #D3D3D3 !important; }\n",
       " #ozjugwyqyw .gt_sourcenote { font-size: 90% !important; padding-top: 4px !important; padding-bottom: 4px !important; padding-left: 5px !important; padding-right: 5px !important; text-align: left !important; }\n",
       " #ozjugwyqyw .gt_left { text-align: left !important; }\n",
       " #ozjugwyqyw .gt_center { text-align: center !important; }\n",
       " #ozjugwyqyw .gt_right { text-align: right !important; font-variant-numeric: tabular-nums !important; }\n",
       " #ozjugwyqyw .gt_font_normal { font-weight: normal !important; }\n",
       " #ozjugwyqyw .gt_font_bold { font-weight: bold !important; }\n",
       " #ozjugwyqyw .gt_font_italic { font-style: italic !important; }\n",
       " #ozjugwyqyw .gt_super { font-size: 65% !important; }\n",
       " #ozjugwyqyw .gt_footnote_marks { font-size: 75% !important; vertical-align: 0.4em !important; position: initial !important; }\n",
       " #ozjugwyqyw .gt_asterisk { font-size: 100% !important; vertical-align: 0 !important; }\n",
       " \n",
       "</style>\n",
       "<table class=\"gt_table\" data-quarto-disable-processing=\"false\" data-quarto-bootstrap=\"false\">\n",
       "<thead>\n",
       "\n",
       "<tr class=\"gt_col_headings\">\n",
       "  <th class=\"gt_col_heading gt_columns_bottom_border gt_left\" rowspan=\"1\" colspan=\"1\" scope=\"col\" id=\"status\">status</th>\n",
       "  <th class=\"gt_col_heading gt_columns_bottom_border gt_right\" rowspan=\"1\" colspan=\"1\" scope=\"col\" id=\"cdt\">cdt</th>\n",
       "  <th class=\"gt_col_heading gt_columns_bottom_border gt_left\" rowspan=\"1\" colspan=\"1\" scope=\"col\" id=\"title\">title</th>\n",
       "  <th class=\"gt_col_heading gt_columns_bottom_border gt_left\" rowspan=\"1\" colspan=\"1\" scope=\"col\" id=\"project\">project</th>\n",
       "  <th class=\"gt_col_heading gt_columns_bottom_border gt_left\" rowspan=\"1\" colspan=\"1\" scope=\"col\" id=\"link\">link</th>\n",
       "  <th class=\"gt_col_heading gt_columns_bottom_border gt_left\" rowspan=\"1\" colspan=\"1\" scope=\"col\" id=\"description\">description</th>\n",
       "  <th class=\"gt_col_heading gt_columns_bottom_border gt_left\" rowspan=\"1\" colspan=\"1\" scope=\"col\" id=\"conclusion\">conclusion</th>\n",
       "  <th class=\"gt_col_heading gt_columns_bottom_border gt_left\" rowspan=\"1\" colspan=\"1\" scope=\"col\" id=\"filename\">filename</th>\n",
       "</tr>\n",
       "</thead>\n",
       "<tbody class=\"gt_table_body\">\n",
       "  <tr>\n",
       "    <td class=\"gt_row gt_left\">open</td>\n",
       "    <td class=\"gt_row gt_right\">1970-01-01 00:00:00.000000000</td>\n",
       "    <td class=\"gt_row gt_left\">PARAFAC2</td>\n",
       "    <td class=\"gt_row gt_left\">parafac2</td>\n",
       "    <td class=\"gt_row gt_left\"><a href=\"/Users/jonathan/mres_thesis/pca_analysis/pca_analysis/notebooks/projects/project_parafac2.ipynb\">link</a></td>\n",
       "    <td class=\"gt_row gt_left\">efforts to apply PARAFAC2 to decompose multiway data</td>\n",
       "    <td class=\"gt_row gt_left\"></td>\n",
       "    <td class=\"gt_row gt_left\">project_parafac2</td>\n",
       "  </tr>\n",
       "</tbody>\n",
       "\n",
       "\n",
       "</table>\n",
       "\n",
       "</div>\n",
       "        "
      ],
      "text/plain": [
       "GT(_tbl_data=shape: (1, 8)\n",
       "┌────────┬─────────────┬──────────┬──────────┬─────────────┬─────────────┬────────────┬────────────┐\n",
       "│ status ┆ cdt         ┆ title    ┆ project  ┆ link        ┆ description ┆ conclusion ┆ filename   │\n",
       "│ ---    ┆ ---         ┆ ---      ┆ ---      ┆ ---         ┆ ---         ┆ ---        ┆ ---        │\n",
       "│ str    ┆ datetime[ns ┆ str      ┆ str      ┆ str         ┆ str         ┆ str        ┆ str        │\n",
       "│        ┆ ]           ┆          ┆          ┆             ┆             ┆            ┆            │\n",
       "╞════════╪═════════════╪══════════╪══════════╪═════════════╪═════════════╪════════════╪════════════╡\n",
       "│ open   ┆ 1970-01-01  ┆ PARAFAC2 ┆ parafac2 ┆ [link](/Use ┆ efforts to  ┆            ┆ project_pa │\n",
       "│        ┆ 00:00:00    ┆          ┆          ┆ rs/jonathan ┆ apply       ┆            ┆ rafac2     │\n",
       "│        ┆             ┆          ┆          ┆ /mres_th…   ┆ PARAFAC2 to ┆            ┆            │\n",
       "│        ┆             ┆          ┆          ┆             ┆ d…          ┆            ┆            │\n",
       "└────────┴─────────────┴──────────┴──────────┴─────────────┴─────────────┴────────────┴────────────┘, _body=<great_tables._gt_data.Body object at 0x144517bc0>, _boxhead=Boxhead([ColInfo(var='status', type=<ColInfoTypeEnum.default: 1>, column_label='status', column_align='left', column_width=None), ColInfo(var='cdt', type=<ColInfoTypeEnum.default: 1>, column_label='cdt', column_align='right', column_width=None), ColInfo(var='title', type=<ColInfoTypeEnum.default: 1>, column_label='title', column_align='left', column_width=None), ColInfo(var='project', type=<ColInfoTypeEnum.default: 1>, column_label='project', column_align='left', column_width=None), ColInfo(var='link', type=<ColInfoTypeEnum.default: 1>, column_label='link', column_align='left', column_width=None), ColInfo(var='description', type=<ColInfoTypeEnum.default: 1>, column_label='description', column_align='left', column_width=None), ColInfo(var='conclusion', type=<ColInfoTypeEnum.default: 1>, column_label='conclusion', column_align='left', column_width=None), ColInfo(var='filename', type=<ColInfoTypeEnum.default: 1>, column_label='filename', column_align='left', column_width=None)]), _stub=<great_tables._gt_data.Stub object at 0x168c346e0>, _spanners=Spanners([]), _heading=Heading(title=None, subtitle=None, preheader=None), _stubhead=None, _source_notes=[], _footnotes=[], _styles=[], _locale=<great_tables._gt_data.Locale object at 0x16991e990>, _formats=[<great_tables._gt_data.FormatInfo object at 0x168da6b40>], _substitutions=[], _options=Options(table_id=OptionsInfo(scss=False, category='table', type='value', value=None), table_caption=OptionsInfo(scss=False, category='table', type='value', value=None), table_width=OptionsInfo(scss=True, category='table', type='px', value='auto'), table_layout=OptionsInfo(scss=True, category='table', type='value', value='fixed'), table_margin_left=OptionsInfo(scss=True, category='table', type='px', value='auto'), table_margin_right=OptionsInfo(scss=True, category='table', type='px', value='auto'), table_background_color=OptionsInfo(scss=True, category='table', type='value', value='#363a4f'), table_font_names=OptionsInfo(scss=False, category='table', type='values', value=['-apple-system', 'BlinkMacSystemFont', 'Segoe UI', 'Roboto', 'Oxygen', 'Ubuntu', 'Cantarell', 'Helvetica Neue', 'Fira Sans', 'Droid Sans', 'Arial', 'sans-serif']), table_font_size=OptionsInfo(scss=True, category='table', type='px', value=1), table_font_weight=OptionsInfo(scss=True, category='table', type='value', value='normal'), table_font_style=OptionsInfo(scss=True, category='table', type='value', value='normal'), table_font_color=OptionsInfo(scss=True, category='table', type='value', value='#cad3f5'), table_font_color_light=OptionsInfo(scss=True, category='table', type='value', value='#FFFFFF'), table_border_top_include=OptionsInfo(scss=False, category='table', type='boolean', value=True), table_border_top_style=OptionsInfo(scss=True, category='table', type='value', value='solid'), table_border_top_width=OptionsInfo(scss=True, category='table', type='px', value='2px'), table_border_top_color=OptionsInfo(scss=True, category='table', type='value', value='#929292'), table_border_right_style=OptionsInfo(scss=True, category='table', type='value', value='none'), table_border_right_width=OptionsInfo(scss=True, category='table', type='px', value='2px'), table_border_right_color=OptionsInfo(scss=True, category='table', type='value', value='#D3D3D3'), table_border_bottom_include=OptionsInfo(scss=False, category='table', type='boolean', value=True), table_border_bottom_style=OptionsInfo(scss=True, category='table', type='value', value='solid'), table_border_bottom_width=OptionsInfo(scss=True, category='table', type='px', value='2px'), table_border_bottom_color=OptionsInfo(scss=True, category='table', type='value', value='#929292'), table_border_left_style=OptionsInfo(scss=True, category='table', type='value', value='none'), table_border_left_width=OptionsInfo(scss=True, category='table', type='px', value='2px'), table_border_left_color=OptionsInfo(scss=True, category='table', type='value', value='#D3D3D3'), heading_background_color=OptionsInfo(scss=True, category='heading', type='value', value=None), heading_align=OptionsInfo(scss=True, category='heading', type='value', value='center'), heading_title_font_size=OptionsInfo(scss=True, category='heading', type='px', value='125%'), heading_title_font_weight=OptionsInfo(scss=True, category='heading', type='value', value='initial'), heading_subtitle_font_size=OptionsInfo(scss=True, category='heading', type='px', value='85%'), heading_subtitle_font_weight=OptionsInfo(scss=True, category='heading', type='value', value='initial'), heading_padding=OptionsInfo(scss=True, category='heading', type='px', value='4px'), heading_padding_horizontal=OptionsInfo(scss=True, category='heading', type='px', value='5px'), heading_border_bottom_style=OptionsInfo(scss=True, category='heading', type='value', value='solid'), heading_border_bottom_width=OptionsInfo(scss=True, category='heading', type='px', value='2px'), heading_border_bottom_color=OptionsInfo(scss=True, category='heading', type='value', value='#929292'), heading_border_lr_style=OptionsInfo(scss=True, category='heading', type='value', value='none'), heading_border_lr_width=OptionsInfo(scss=True, category='heading', type='px', value='1px'), heading_border_lr_color=OptionsInfo(scss=True, category='heading', type='value', value='#D3D3D3'), column_labels_background_color=OptionsInfo(scss=True, category='column_labels', type='value', value='#000000'), column_labels_font_size=OptionsInfo(scss=True, category='column_labels', type='px', value='100%'), column_labels_font_weight=OptionsInfo(scss=True, category='column_labels', type='value', value='normal'), column_labels_text_transform=OptionsInfo(scss=True, category='column_labels', type='value', value='inherit'), column_labels_padding=OptionsInfo(scss=True, category='column_labels', type='px', value='5px'), column_labels_padding_horizontal=OptionsInfo(scss=True, category='column_labels', type='px', value='5px'), column_labels_vlines_style=OptionsInfo(scss=True, category='table_body', type='value', value='none'), column_labels_vlines_width=OptionsInfo(scss=True, category='table_body', type='px', value='1px'), column_labels_vlines_color=OptionsInfo(scss=True, category='table_body', type='value', value='#D3D3D3'), column_labels_border_top_style=OptionsInfo(scss=True, category='column_labels', type='value', value='solid'), column_labels_border_top_width=OptionsInfo(scss=True, category='column_labels', type='px', value='2px'), column_labels_border_top_color=OptionsInfo(scss=True, category='column_labels', type='value', value='#929292'), column_labels_border_bottom_style=OptionsInfo(scss=True, category='column_labels', type='value', value='solid'), column_labels_border_bottom_width=OptionsInfo(scss=True, category='column_labels', type='px', value='2px'), column_labels_border_bottom_color=OptionsInfo(scss=True, category='column_labels', type='value', value='#929292'), column_labels_border_lr_style=OptionsInfo(scss=True, category='column_labels', type='value', value='none'), column_labels_border_lr_width=OptionsInfo(scss=True, category='column_labels', type='px', value='1px'), column_labels_border_lr_color=OptionsInfo(scss=True, category='column_labels', type='value', value='#D3D3D3'), column_labels_hidden=OptionsInfo(scss=False, category='column_labels', type='boolean', value=False), row_group_background_color=OptionsInfo(scss=True, category='row_group', type='value', value=None), row_group_font_size=OptionsInfo(scss=True, category='row_group', type='px', value='100%'), row_group_font_weight=OptionsInfo(scss=True, category='row_group', type='value', value='initial'), row_group_text_transform=OptionsInfo(scss=True, category='row_group', type='value', value='inherit'), row_group_padding=OptionsInfo(scss=True, category='row_group', type='px', value='8px'), row_group_padding_horizontal=OptionsInfo(scss=True, category='row_group', type='px', value='5px'), row_group_border_top_style=OptionsInfo(scss=True, category='row_group', type='value', value='solid'), row_group_border_top_width=OptionsInfo(scss=True, category='row_group', type='px', value='2px'), row_group_border_top_color=OptionsInfo(scss=True, category='row_group', type='value', value='#929292'), row_group_border_right_style=OptionsInfo(scss=True, category='row_group', type='value', value='none'), row_group_border_right_width=OptionsInfo(scss=True, category='row_group', type='px', value='1px'), row_group_border_right_color=OptionsInfo(scss=True, category='row_group', type='value', value='#D3D3D3'), row_group_border_bottom_style=OptionsInfo(scss=True, category='row_group', type='value', value='solid'), row_group_border_bottom_width=OptionsInfo(scss=True, category='row_group', type='px', value='2px'), row_group_border_bottom_color=OptionsInfo(scss=True, category='row_group', type='value', value='#929292'), row_group_border_left_style=OptionsInfo(scss=True, category='row_group', type='value', value='none'), row_group_border_left_width=OptionsInfo(scss=True, category='row_group', type='px', value='1px'), row_group_border_left_color=OptionsInfo(scss=True, category='row_group', type='value', value='#D3D3D3'), row_group_as_column=OptionsInfo(scss=False, category='row_group', type='boolean', value=False), table_body_hlines_style=OptionsInfo(scss=True, category='table_body', type='value', value='dashed'), table_body_hlines_width=OptionsInfo(scss=True, category='table_body', type='px', value='1px'), table_body_hlines_color=OptionsInfo(scss=True, category='table_body', type='value', value='#929292'), table_body_vlines_style=OptionsInfo(scss=True, category='table_body', type='value', value='none'), table_body_vlines_width=OptionsInfo(scss=True, category='table_body', type='px', value='1px'), table_body_vlines_color=OptionsInfo(scss=True, category='table_body', type='value', value='#929292'), table_body_border_top_style=OptionsInfo(scss=True, category='table_body', type='value', value='solid'), table_body_border_top_width=OptionsInfo(scss=True, category='table_body', type='px', value='2px'), table_body_border_top_color=OptionsInfo(scss=True, category='table_body', type='value', value='#929292'), table_body_border_bottom_style=OptionsInfo(scss=True, category='table_body', type='value', value='solid'), table_body_border_bottom_width=OptionsInfo(scss=True, category='table_body', type='px', value='2px'), table_body_border_bottom_color=OptionsInfo(scss=True, category='table_body', type='value', value='#929292'), data_row_padding=OptionsInfo(scss=True, category='data_row', type='px', value='8px'), data_row_padding_horizontal=OptionsInfo(scss=True, category='data_row', type='px', value='5px'), stub_background_color=OptionsInfo(scss=True, category='stub', type='value', value='#D5D5D5'), stub_font_size=OptionsInfo(scss=True, category='stub', type='px', value='100%'), stub_font_weight=OptionsInfo(scss=True, category='stub', type='value', value='initial'), stub_text_transform=OptionsInfo(scss=True, category='stub', type='value', value='inherit'), stub_border_style=OptionsInfo(scss=True, category='stub', type='value', value='none'), stub_border_width=OptionsInfo(scss=True, category='stub', type='px', value='2px'), stub_border_color=OptionsInfo(scss=True, category='stub', type='value', value='#FFFFFF'), stub_row_group_background_color=OptionsInfo(scss=True, category='stub', type='value', value=None), stub_row_group_font_size=OptionsInfo(scss=True, category='stub', type='px', value='100%'), stub_row_group_font_weight=OptionsInfo(scss=True, category='stub', type='value', value='initial'), stub_row_group_text_transform=OptionsInfo(scss=True, category='stub', type='value', value='inherit'), stub_row_group_border_style=OptionsInfo(scss=True, category='stub', type='value', value='solid'), stub_row_group_border_width=OptionsInfo(scss=True, category='stub', type='px', value='2px'), stub_row_group_border_color=OptionsInfo(scss=True, category='stub', type='value', value='#D3D3D3'), source_notes_padding=OptionsInfo(scss=True, category='source_notes', type='px', value='4px'), source_notes_padding_horizontal=OptionsInfo(scss=True, category='source_notes', type='px', value='5px'), source_notes_background_color=OptionsInfo(scss=True, category='source_notes', type='value', value=None), source_notes_font_size=OptionsInfo(scss=True, category='source_notes', type='px', value='90%'), source_notes_border_bottom_style=OptionsInfo(scss=True, category='source_notes', type='value', value='none'), source_notes_border_bottom_width=OptionsInfo(scss=True, category='source_notes', type='px', value='2px'), source_notes_border_bottom_color=OptionsInfo(scss=True, category='source_notes', type='value', value='#D3D3D3'), source_notes_border_lr_style=OptionsInfo(scss=True, category='source_notes', type='value', value='none'), source_notes_border_lr_width=OptionsInfo(scss=True, category='source_notes', type='px', value='2px'), source_notes_border_lr_color=OptionsInfo(scss=True, category='source_notes', type='value', value='#D3D3D3'), source_notes_multiline=OptionsInfo(scss=False, category='source_notes', type='boolean', value=True), source_notes_sep=OptionsInfo(scss=False, category='source_notes', type='value', value=' '), container_width=OptionsInfo(scss=False, category='container', type='px', value='auto'), container_height=OptionsInfo(scss=False, category='container', type='px', value='auto'), container_padding_x=OptionsInfo(scss=False, category='container', type='px', value='0px'), container_padding_y=OptionsInfo(scss=False, category='container', type='px', value='10px'), container_overflow_x=OptionsInfo(scss=False, category='container', type='overflow', value='auto'), container_overflow_y=OptionsInfo(scss=False, category='container', type='overflow', value='auto'), quarto_disable_processing=OptionsInfo(scss=False, category='quarto', type='logical', value=False), quarto_use_bootstrap=OptionsInfo(scss=False, category='quarto', type='logical', value=False)), _has_built=False)"
      ]
     },
     "execution_count": 4,
     "metadata": {},
     "output_type": "execute_result"
    }
   ],
   "source": [
    "# https://catppuccin.com/palette\n",
    "\n",
    "(\n",
    "    db.sql(\n",
    "        \"\"\"--sql\n",
    "    SELECT\n",
    "        status,\n",
    "        cdt,\n",
    "        title,\n",
    "        project,\n",
    "        link,\n",
    "        description,\n",
    "        conclusion,\n",
    "        filename\n",
    "    FROM\n",
    "        project_toc\n",
    "    \"\"\"\n",
    "    )\n",
    "    .pl()\n",
    "    .pipe(GT)\n",
    "    .fmt_markdown(\"link\")\n",
    "    .opt_stylize(style=3, color=\"gray\")\n",
    "    .tab_options(\n",
    "        table_background_color=\"#363a4f\", table_font_color=\"#cad3f5\", table_font_size=1\n",
    "    )\n",
    ")\n"
   ]
  },
  {
   "cell_type": "markdown",
   "metadata": {},
   "source": [
    "# Notes without a Project\n",
    "\n",
    "a method of finding lost notes"
   ]
  },
  {
   "cell_type": "code",
   "execution_count": 4,
   "metadata": {},
   "outputs": [
    {
     "name": "stderr",
     "output_type": "stream",
     "text": [
      "/Users/jonathan/Library/Caches/pypoetry/virtualenvs/pca-analysis-6KQS4gUX-py3.12/lib/python3.12/site-packages/project_toc/toc.py:59: UserWarning: tried to sort by creation date but no key 'cdt' present\n",
      "  warn(\"tried to sort by creation date but no key 'cdt' present\")\n"
     ]
    }
   ],
   "source": [
    "notes_toc = build_toc(paths=Path(\"../experiments/\").glob(\"*.ipynb\"))\n"
   ]
  },
  {
   "cell_type": "code",
   "execution_count": 5,
   "metadata": {},
   "outputs": [
    {
     "ename": "InvalidInputException",
     "evalue": "Invalid Input Error: Need a DataFrame with at least one column",
     "output_type": "error",
     "traceback": [
      "\u001b[0;31m---------------------------------------------------------------------------\u001b[0m",
      "\u001b[0;31mInvalidInputException\u001b[0m                     Traceback (most recent call last)",
      "\u001b[1;32m/Users/jonathan/mres_thesis/pca_analysis/pca_analysis/notebooks/main.ipynb Cell 8\u001b[0m line \u001b[0;36m2\n\u001b[1;32m      <a href='vscode-notebook-cell:/Users/jonathan/mres_thesis/pca_analysis/pca_analysis/notebooks/main.ipynb#X11sZmlsZQ%3D%3D?line=0'>1</a>\u001b[0m (\n\u001b[0;32m----> <a href='vscode-notebook-cell:/Users/jonathan/mres_thesis/pca_analysis/pca_analysis/notebooks/main.ipynb#X11sZmlsZQ%3D%3D?line=1'>2</a>\u001b[0m     db\u001b[39m.\u001b[39;49msql(\n\u001b[1;32m      <a href='vscode-notebook-cell:/Users/jonathan/mres_thesis/pca_analysis/pca_analysis/notebooks/main.ipynb#X11sZmlsZQ%3D%3D?line=2'>3</a>\u001b[0m \u001b[39m        \u001b[39;49m\u001b[39m\"\"\"--sql\u001b[39;49;00m\n\u001b[1;32m      <a href='vscode-notebook-cell:/Users/jonathan/mres_thesis/pca_analysis/pca_analysis/notebooks/main.ipynb#X11sZmlsZQ%3D%3D?line=3'>4</a>\u001b[0m \u001b[39mselect\u001b[39;49;00m\n\u001b[1;32m      <a href='vscode-notebook-cell:/Users/jonathan/mres_thesis/pca_analysis/pca_analysis/notebooks/main.ipynb#X11sZmlsZQ%3D%3D?line=4'>5</a>\u001b[0m \u001b[39m    title,\u001b[39;49;00m\n\u001b[1;32m      <a href='vscode-notebook-cell:/Users/jonathan/mres_thesis/pca_analysis/pca_analysis/notebooks/main.ipynb#X11sZmlsZQ%3D%3D?line=5'>6</a>\u001b[0m \u001b[39m    link,\u001b[39;49;00m\n\u001b[1;32m      <a href='vscode-notebook-cell:/Users/jonathan/mres_thesis/pca_analysis/pca_analysis/notebooks/main.ipynb#X11sZmlsZQ%3D%3D?line=6'>7</a>\u001b[0m \u001b[39m    filename,\u001b[39;49;00m\n\u001b[1;32m      <a href='vscode-notebook-cell:/Users/jonathan/mres_thesis/pca_analysis/pca_analysis/notebooks/main.ipynb#X11sZmlsZQ%3D%3D?line=7'>8</a>\u001b[0m \u001b[39mfrom\u001b[39;49;00m\n\u001b[1;32m      <a href='vscode-notebook-cell:/Users/jonathan/mres_thesis/pca_analysis/pca_analysis/notebooks/main.ipynb#X11sZmlsZQ%3D%3D?line=8'>9</a>\u001b[0m \u001b[39m    notes_toc\u001b[39;49;00m\n\u001b[1;32m     <a href='vscode-notebook-cell:/Users/jonathan/mres_thesis/pca_analysis/pca_analysis/notebooks/main.ipynb#X11sZmlsZQ%3D%3D?line=9'>10</a>\u001b[0m \u001b[39mwhere\u001b[39;49;00m\n\u001b[1;32m     <a href='vscode-notebook-cell:/Users/jonathan/mres_thesis/pca_analysis/pca_analysis/notebooks/main.ipynb#X11sZmlsZQ%3D%3D?line=10'>11</a>\u001b[0m \u001b[39m    project IS NULL\u001b[39;49;00m\n\u001b[1;32m     <a href='vscode-notebook-cell:/Users/jonathan/mres_thesis/pca_analysis/pca_analysis/notebooks/main.ipynb#X11sZmlsZQ%3D%3D?line=11'>12</a>\u001b[0m \u001b[39m\"\"\"\u001b[39;49;00m\n\u001b[1;32m     <a href='vscode-notebook-cell:/Users/jonathan/mres_thesis/pca_analysis/pca_analysis/notebooks/main.ipynb#X11sZmlsZQ%3D%3D?line=12'>13</a>\u001b[0m     )\n\u001b[1;32m     <a href='vscode-notebook-cell:/Users/jonathan/mres_thesis/pca_analysis/pca_analysis/notebooks/main.ipynb#X11sZmlsZQ%3D%3D?line=13'>14</a>\u001b[0m     \u001b[39m.\u001b[39mpl()\n\u001b[1;32m     <a href='vscode-notebook-cell:/Users/jonathan/mres_thesis/pca_analysis/pca_analysis/notebooks/main.ipynb#X11sZmlsZQ%3D%3D?line=14'>15</a>\u001b[0m     \u001b[39m.\u001b[39mpipe(GT)\n\u001b[1;32m     <a href='vscode-notebook-cell:/Users/jonathan/mres_thesis/pca_analysis/pca_analysis/notebooks/main.ipynb#X11sZmlsZQ%3D%3D?line=15'>16</a>\u001b[0m     \u001b[39m.\u001b[39mfmt_markdown(\u001b[39m\"\u001b[39m\u001b[39mlink\u001b[39m\u001b[39m\"\u001b[39m)\n\u001b[1;32m     <a href='vscode-notebook-cell:/Users/jonathan/mres_thesis/pca_analysis/pca_analysis/notebooks/main.ipynb#X11sZmlsZQ%3D%3D?line=16'>17</a>\u001b[0m     \u001b[39m.\u001b[39mopt_stylize(style\u001b[39m=\u001b[39m\u001b[39m3\u001b[39m, color\u001b[39m=\u001b[39m\u001b[39m\"\u001b[39m\u001b[39mgray\u001b[39m\u001b[39m\"\u001b[39m)\n\u001b[1;32m     <a href='vscode-notebook-cell:/Users/jonathan/mres_thesis/pca_analysis/pca_analysis/notebooks/main.ipynb#X11sZmlsZQ%3D%3D?line=17'>18</a>\u001b[0m     \u001b[39m.\u001b[39mtab_options(\n\u001b[1;32m     <a href='vscode-notebook-cell:/Users/jonathan/mres_thesis/pca_analysis/pca_analysis/notebooks/main.ipynb#X11sZmlsZQ%3D%3D?line=18'>19</a>\u001b[0m         table_background_color\u001b[39m=\u001b[39m\u001b[39m\"\u001b[39m\u001b[39m#363a4f\u001b[39m\u001b[39m\"\u001b[39m, table_font_color\u001b[39m=\u001b[39m\u001b[39m\"\u001b[39m\u001b[39m#cad3f5\u001b[39m\u001b[39m\"\u001b[39m, table_font_size\u001b[39m=\u001b[39m\u001b[39m1\u001b[39m\n\u001b[1;32m     <a href='vscode-notebook-cell:/Users/jonathan/mres_thesis/pca_analysis/pca_analysis/notebooks/main.ipynb#X11sZmlsZQ%3D%3D?line=19'>20</a>\u001b[0m     )\n\u001b[1;32m     <a href='vscode-notebook-cell:/Users/jonathan/mres_thesis/pca_analysis/pca_analysis/notebooks/main.ipynb#X11sZmlsZQ%3D%3D?line=20'>21</a>\u001b[0m )\n",
      "\u001b[0;31mInvalidInputException\u001b[0m: Invalid Input Error: Need a DataFrame with at least one column"
     ]
    }
   ],
   "source": [
    "(\n",
    "    db.sql(\n",
    "        \"\"\"--sql\n",
    "select\n",
    "    title,\n",
    "    link,\n",
    "    filename,\n",
    "from\n",
    "    notes_toc\n",
    "where\n",
    "    project IS NULL\n",
    "\"\"\"\n",
    "    )\n",
    "    .pl()\n",
    "    .pipe(GT)\n",
    "    .fmt_markdown(\"link\")\n",
    "    .opt_stylize(style=3, color=\"gray\")\n",
    "    .tab_options(\n",
    "        table_background_color=\"#363a4f\", table_font_color=\"#cad3f5\", table_font_size=1\n",
    "    )\n",
    ")\n"
   ]
  }
 ],
 "metadata": {
  "kernelspec": {
   "display_name": "pca-analysis-6KQS4gUX-py3.12",
   "language": "python",
   "name": "python3"
  },
  "language_info": {
   "codemirror_mode": {
    "name": "ipython",
    "version": 3
   },
   "file_extension": ".py",
   "mimetype": "text/x-python",
   "name": "python",
   "nbconvert_exporter": "python",
   "pygments_lexer": "ipython3",
   "version": "3.12.2"
  }
 },
 "nbformat": 4,
 "nbformat_minor": 2
}
