{
 "cells": [
  {
   "cell_type": "raw",
   "metadata": {
    "vscode": {
     "languageId": "raw"
    }
   },
   "source": [
    "---\n",
    "title: Project Main\n",
    "description: Project Overview page. A TOC.\n",
    "cdt: 2024-09-11T11:11:25\n",
    "---\n"
   ]
  },
  {
   "cell_type": "markdown",
   "metadata": {
    "vscode": {
     "languageId": "raw"
    }
   },
   "source": [
    "Table of Contents of projects.\n",
    "\n",
    "Projects are a means of managing related tasks to achieve pre-defined goals.\n",
    "\n",
    "\n",
    "- [All Projects](./main.ipynb#all-projects)\n",
    "- [Notes Without a Project](./main.ipynb#notes-without-a-project)\n"
   ]
  },
  {
   "cell_type": "markdown",
   "metadata": {
    "vscode": {
     "languageId": "raw"
    }
   },
   "source": [
    "## All Projects"
   ]
  },
  {
   "cell_type": "code",
   "execution_count": null,
   "metadata": {},
   "outputs": [],
   "source": [
    "%reload_ext autoreload\n",
    "%autoreload 2\n",
    "\n",
    "from project_toc.toc import build_toc\n",
    "from pathlib import Path\n",
    "from great_tables import GT\n",
    "import duckdb as db\n",
    "from pca_analysis.definitions import ROOT\n",
    "\n",
    "projects_path = ROOT / \"notebooks\" / \"projects\"\n",
    "nbooks = list(Path(projects_path).glob(\"*.ipynb\"))\n"
   ]
  },
  {
   "cell_type": "code",
   "execution_count": null,
   "metadata": {},
   "outputs": [],
   "source": [
    "project_toc = build_toc(paths=nbooks)\n"
   ]
  },
  {
   "cell_type": "code",
   "execution_count": null,
   "metadata": {},
   "outputs": [],
   "source": [
    "# https://catppuccin.com/palette\n",
    "\n",
    "(\n",
    "    db.sql(\n",
    "        \"\"\"--sql\n",
    "    SELECT\n",
    "        status,\n",
    "        cdt,\n",
    "        title,\n",
    "        project,\n",
    "        link,\n",
    "        description,\n",
    "        conclusion,\n",
    "        filename\n",
    "    FROM\n",
    "        project_toc\n",
    "    \"\"\"\n",
    "    )\n",
    "    .pl()\n",
    "    .pipe(GT)\n",
    "    .fmt_markdown(\"link\")\n",
    "    .opt_stylize(style=3, color=\"gray\")\n",
    "    .tab_options(\n",
    "        table_background_color=\"#363a4f\", table_font_color=\"#cad3f5\", table_font_size=1\n",
    "    )\n",
    ")\n"
   ]
  },
  {
   "cell_type": "markdown",
   "metadata": {},
   "source": [
    "# Notes without a Project\n",
    "\n",
    "a method of finding lost notes"
   ]
  },
  {
   "cell_type": "code",
   "execution_count": null,
   "metadata": {},
   "outputs": [],
   "source": [
    "notes_toc = build_toc(paths=Path(\"../experiments/\").glob(\"*.ipynb\"))\n"
   ]
  },
  {
   "cell_type": "code",
   "execution_count": null,
   "metadata": {},
   "outputs": [],
   "source": [
    "(\n",
    "    db.sql(\n",
    "        \"\"\"--sql\n",
    "select\n",
    "    title,\n",
    "    link,\n",
    "    filename,\n",
    "from\n",
    "    notes_toc\n",
    "where\n",
    "    project IS NULL\n",
    "\"\"\"\n",
    "    )\n",
    "    .pl()\n",
    "    .pipe(GT)\n",
    "    .fmt_markdown(\"link\")\n",
    "    .opt_stylize(style=3, color=\"gray\")\n",
    "    .tab_options(\n",
    "        table_background_color=\"#363a4f\", table_font_color=\"#cad3f5\", table_font_size=1\n",
    "    )\n",
    ")\n"
   ]
  }
 ],
 "metadata": {
  "kernelspec": {
   "display_name": "pca-analysis-6KQS4gUX-py3.12",
   "language": "python",
   "name": "python3"
  },
  "language_info": {
   "codemirror_mode": {
    "name": "ipython",
    "version": 3
   },
   "file_extension": ".py",
   "mimetype": "text/x-python",
   "name": "python",
   "nbconvert_exporter": "python",
   "pygments_lexer": "ipython3",
   "version": "3.12.2"
  }
 },
 "nbformat": 4,
 "nbformat_minor": 2
}
