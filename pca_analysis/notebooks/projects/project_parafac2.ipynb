{
 "cells": [
  {
   "cell_type": "raw",
   "metadata": {
    "vscode": {
     "languageId": "raw"
    }
   },
   "source": [
    "---\n",
    "title: PARAFAC2\n",
    "description: efforts to apply PARAFAC2 to decompose multiway data\n",
    "status: open\n",
    "project: 'parafac2'\n",
    "cdt: 1970-01-01\n",
    "conclusion: ''\n",
    "---\n"
   ]
  },
  {
   "cell_type": "markdown",
   "metadata": {},
   "source": [
    "# Project - PARAFAC2\n",
    "\n",
    "## TOC\n",
    "\n",
    "- Tools\n",
    "- TOC"
   ]
  },
  {
   "cell_type": "markdown",
   "metadata": {
    "vscode": {
     "languageId": "raw"
    }
   },
   "source": [
    "## Tools\n",
    "\n",
    "[db_to_cdf](../../db_to_cdf.py): Tool for exporting db-stored sample sets as netcdf via xarray.\n"
   ]
  },
  {
   "cell_type": "markdown",
   "metadata": {},
   "source": [
    "## TOC\n"
   ]
  },
  {
   "cell_type": "code",
   "execution_count": null,
   "metadata": {},
   "outputs": [],
   "source": [
    "%reload_ext autoreload\n",
    "%autoreload 2\n",
    "\n",
    "from project_toc.toc import build_toc\n",
    "from pathlib import Path\n",
    "from great_tables import GT\n",
    "import duckdb as db\n",
    "from pca_analysis.definitions import ROOT\n",
    "\n",
    "experiments = ROOT / \"notebooks\" / \"experiments\"\n",
    "nbooks = list(Path(experiments).glob(\"*.ipynb\"))\n",
    "project_toc = build_toc(paths=nbooks)\n",
    "\n",
    "# https://catppuccin.com/palette\n",
    "\n",
    "(\n",
    "    db.sql(\n",
    "        \"\"\"--sql\n",
    "    SELECT\n",
    "        status,\n",
    "        cdt,\n",
    "        title,\n",
    "        project,\n",
    "        link,\n",
    "        description,\n",
    "        conclusion,\n",
    "        filename\n",
    "    FROM\n",
    "        project_toc\n",
    "    order by\n",
    "        cdt desc\n",
    "    \"\"\"\n",
    "    )\n",
    "    .pl()\n",
    "    .pipe(GT)\n",
    "    .fmt_date(\"cdt\")\n",
    "    .fmt_markdown(\"link\")\n",
    "    .opt_stylize(style=3, color=\"gray\")\n",
    "    .tab_options(\n",
    "        table_background_color=\"#363a4f\", table_font_color=\"#cad3f5\", table_font_size=1\n",
    "    )\n",
    ")\n"
   ]
  },
  {
   "cell_type": "markdown",
   "metadata": {},
   "source": [
    "## TODO\n",
    "\n",
    "TODO gross peak alignment [gross peak alignment](../experiments/gross_time_alignment_on_last_peak.ipynb)"
   ]
  }
 ],
 "metadata": {
  "kernelspec": {
   "display_name": "pca-analysis-6KQS4gUX-py3.12",
   "language": "python",
   "name": "python3"
  },
  "language_info": {
   "codemirror_mode": {
    "name": "ipython",
    "version": 3
   },
   "file_extension": ".py",
   "mimetype": "text/x-python",
   "name": "python",
   "nbconvert_exporter": "python",
   "pygments_lexer": "ipython3",
   "version": "3.12.2"
  }
 },
 "nbformat": 4,
 "nbformat_minor": 4
}
